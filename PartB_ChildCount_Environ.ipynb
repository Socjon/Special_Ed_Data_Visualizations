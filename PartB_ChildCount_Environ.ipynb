{
 "cells": [
  {
   "cell_type": "code",
   "execution_count": 87,
   "metadata": {},
   "outputs": [],
   "source": [
    "import pandas as pd\n",
    "import numpy as np\n",
    "import plotly.express as px"
   ]
  },
  {
   "cell_type": "code",
   "execution_count": 88,
   "metadata": {},
   "outputs": [
    {
     "name": "stderr",
     "output_type": "stream",
     "text": [
      "/anaconda3/lib/python3.7/site-packages/ipykernel_launcher.py:1: ParserWarning:\n",
      "\n",
      "Falling back to the 'python' engine because the 'c' engine does not support skipfooter; you can avoid this warning by specifying engine='python'.\n",
      "\n"
     ]
    }
   ],
   "source": [
    "cc = pd.read_csv('https://www2.ed.gov/programs/osepidea/618-data/state-level-data-files/part-b-data/child-count-and-educational-environments/bchildcountandedenvironments2018-19.csv', skiprows=3, header=1, skipfooter=5)"
   ]
  },
  {
   "cell_type": "code",
   "execution_count": 89,
   "metadata": {},
   "outputs": [
    {
     "data": {
      "text/html": [
       "<div>\n",
       "<style scoped>\n",
       "    .dataframe tbody tr th:only-of-type {\n",
       "        vertical-align: middle;\n",
       "    }\n",
       "\n",
       "    .dataframe tbody tr th {\n",
       "        vertical-align: top;\n",
       "    }\n",
       "\n",
       "    .dataframe thead th {\n",
       "        text-align: right;\n",
       "    }\n",
       "</style>\n",
       "<table border=\"1\" class=\"dataframe\">\n",
       "  <thead>\n",
       "    <tr style=\"text-align: right;\">\n",
       "      <th></th>\n",
       "      <th>Year</th>\n",
       "      <th>State Name</th>\n",
       "      <th>SEA Education Environment</th>\n",
       "      <th>SEA Disability Category</th>\n",
       "      <th>Age 3</th>\n",
       "      <th>Age 4</th>\n",
       "      <th>Age 5</th>\n",
       "      <th>American Indian or Alaska Native Age 3 to 5</th>\n",
       "      <th>Asian Age 3-5</th>\n",
       "      <th>Black or African American Age 3-5</th>\n",
       "      <th>...</th>\n",
       "      <th>EL No Age 6 to 21</th>\n",
       "      <th>Female Age 6 to 21</th>\n",
       "      <th>Male Age 6 to 21</th>\n",
       "      <th>American Indian or Alaska Native Age 6 to21</th>\n",
       "      <th>Asian Age 6 to21</th>\n",
       "      <th>Black or African American Age 6 to21</th>\n",
       "      <th>Hispanic/Latino Age 6 to21</th>\n",
       "      <th>Native Hawaiian or Other Pacific Islander Age 6 to21</th>\n",
       "      <th>Two or more races Age 6 to21</th>\n",
       "      <th>White Age 6 to21</th>\n",
       "    </tr>\n",
       "  </thead>\n",
       "  <tbody>\n",
       "    <tr>\n",
       "      <th>0</th>\n",
       "      <td>2018</td>\n",
       "      <td>Alabama</td>\n",
       "      <td>Correctional Facilities</td>\n",
       "      <td>All Disabilities</td>\n",
       "      <td>-</td>\n",
       "      <td>-</td>\n",
       "      <td>-</td>\n",
       "      <td>-</td>\n",
       "      <td>-</td>\n",
       "      <td>-</td>\n",
       "      <td>...</td>\n",
       "      <td>52</td>\n",
       "      <td>1</td>\n",
       "      <td>51</td>\n",
       "      <td>0</td>\n",
       "      <td>0</td>\n",
       "      <td>43</td>\n",
       "      <td>0</td>\n",
       "      <td>0</td>\n",
       "      <td>0</td>\n",
       "      <td>9</td>\n",
       "    </tr>\n",
       "    <tr>\n",
       "      <th>1</th>\n",
       "      <td>2018</td>\n",
       "      <td>Alabama</td>\n",
       "      <td>Home</td>\n",
       "      <td>All Disabilities</td>\n",
       "      <td>39</td>\n",
       "      <td>38</td>\n",
       "      <td>27</td>\n",
       "      <td>1</td>\n",
       "      <td>0</td>\n",
       "      <td>10</td>\n",
       "      <td>...</td>\n",
       "      <td>-</td>\n",
       "      <td>-</td>\n",
       "      <td>-</td>\n",
       "      <td>-</td>\n",
       "      <td>-</td>\n",
       "      <td>-</td>\n",
       "      <td>-</td>\n",
       "      <td>-</td>\n",
       "      <td>-</td>\n",
       "      <td>-</td>\n",
       "    </tr>\n",
       "    <tr>\n",
       "      <th>2</th>\n",
       "      <td>2018</td>\n",
       "      <td>Alabama</td>\n",
       "      <td>Homebound/Hospital</td>\n",
       "      <td>All Disabilities</td>\n",
       "      <td>-</td>\n",
       "      <td>-</td>\n",
       "      <td>-</td>\n",
       "      <td>-</td>\n",
       "      <td>-</td>\n",
       "      <td>-</td>\n",
       "      <td>...</td>\n",
       "      <td>284</td>\n",
       "      <td>107</td>\n",
       "      <td>183</td>\n",
       "      <td>3</td>\n",
       "      <td>6</td>\n",
       "      <td>91</td>\n",
       "      <td>15</td>\n",
       "      <td>0</td>\n",
       "      <td>1</td>\n",
       "      <td>174</td>\n",
       "    </tr>\n",
       "    <tr>\n",
       "      <th>3</th>\n",
       "      <td>2018</td>\n",
       "      <td>Alabama</td>\n",
       "      <td>Inside regular class 40% through 79% of the day</td>\n",
       "      <td>All Disabilities</td>\n",
       "      <td>-</td>\n",
       "      <td>-</td>\n",
       "      <td>-</td>\n",
       "      <td>-</td>\n",
       "      <td>-</td>\n",
       "      <td>-</td>\n",
       "      <td>...</td>\n",
       "      <td>5114</td>\n",
       "      <td>1770</td>\n",
       "      <td>3615</td>\n",
       "      <td>28</td>\n",
       "      <td>54</td>\n",
       "      <td>1962</td>\n",
       "      <td>374</td>\n",
       "      <td>5</td>\n",
       "      <td>136</td>\n",
       "      <td>2826</td>\n",
       "    </tr>\n",
       "    <tr>\n",
       "      <th>4</th>\n",
       "      <td>2018</td>\n",
       "      <td>Alabama</td>\n",
       "      <td>Inside regular class 80% or more of the day</td>\n",
       "      <td>All Disabilities</td>\n",
       "      <td>-</td>\n",
       "      <td>-</td>\n",
       "      <td>-</td>\n",
       "      <td>-</td>\n",
       "      <td>-</td>\n",
       "      <td>-</td>\n",
       "      <td>...</td>\n",
       "      <td>68599</td>\n",
       "      <td>24075</td>\n",
       "      <td>47344</td>\n",
       "      <td>662</td>\n",
       "      <td>404</td>\n",
       "      <td>26004</td>\n",
       "      <td>4571</td>\n",
       "      <td>55</td>\n",
       "      <td>1550</td>\n",
       "      <td>38173</td>\n",
       "    </tr>\n",
       "    <tr>\n",
       "      <th>...</th>\n",
       "      <td>...</td>\n",
       "      <td>...</td>\n",
       "      <td>...</td>\n",
       "      <td>...</td>\n",
       "      <td>...</td>\n",
       "      <td>...</td>\n",
       "      <td>...</td>\n",
       "      <td>...</td>\n",
       "      <td>...</td>\n",
       "      <td>...</td>\n",
       "      <td>...</td>\n",
       "      <td>...</td>\n",
       "      <td>...</td>\n",
       "      <td>...</td>\n",
       "      <td>...</td>\n",
       "      <td>...</td>\n",
       "      <td>...</td>\n",
       "      <td>...</td>\n",
       "      <td>...</td>\n",
       "      <td>...</td>\n",
       "      <td>...</td>\n",
       "    </tr>\n",
       "    <tr>\n",
       "      <th>16221</th>\n",
       "      <td>2018</td>\n",
       "      <td>US, Outlying Areas, and Freely Associated States</td>\n",
       "      <td>Services in Other Location than Regular Early ...</td>\n",
       "      <td>Visual impairment</td>\n",
       "      <td>-</td>\n",
       "      <td>-</td>\n",
       "      <td>-</td>\n",
       "      <td>-</td>\n",
       "      <td>-</td>\n",
       "      <td>-</td>\n",
       "      <td>...</td>\n",
       "      <td>-</td>\n",
       "      <td>-</td>\n",
       "      <td>-</td>\n",
       "      <td>-</td>\n",
       "      <td>-</td>\n",
       "      <td>-</td>\n",
       "      <td>-</td>\n",
       "      <td>-</td>\n",
       "      <td>-</td>\n",
       "      <td>-</td>\n",
       "    </tr>\n",
       "    <tr>\n",
       "      <th>16222</th>\n",
       "      <td>2018</td>\n",
       "      <td>US, Outlying Areas, and Freely Associated States</td>\n",
       "      <td>Services in Regular Early Childhood Program (a...</td>\n",
       "      <td>Visual impairment</td>\n",
       "      <td>-</td>\n",
       "      <td>-</td>\n",
       "      <td>-</td>\n",
       "      <td>-</td>\n",
       "      <td>-</td>\n",
       "      <td>-</td>\n",
       "      <td>...</td>\n",
       "      <td>-</td>\n",
       "      <td>-</td>\n",
       "      <td>-</td>\n",
       "      <td>-</td>\n",
       "      <td>-</td>\n",
       "      <td>-</td>\n",
       "      <td>-</td>\n",
       "      <td>-</td>\n",
       "      <td>-</td>\n",
       "      <td>-</td>\n",
       "    </tr>\n",
       "    <tr>\n",
       "      <th>16223</th>\n",
       "      <td>2018</td>\n",
       "      <td>US, Outlying Areas, and Freely Associated States</td>\n",
       "      <td>Services in Regular Early Childhood Program (a...</td>\n",
       "      <td>Visual impairment</td>\n",
       "      <td>-</td>\n",
       "      <td>-</td>\n",
       "      <td>-</td>\n",
       "      <td>-</td>\n",
       "      <td>-</td>\n",
       "      <td>-</td>\n",
       "      <td>...</td>\n",
       "      <td>-</td>\n",
       "      <td>-</td>\n",
       "      <td>-</td>\n",
       "      <td>-</td>\n",
       "      <td>-</td>\n",
       "      <td>-</td>\n",
       "      <td>-</td>\n",
       "      <td>-</td>\n",
       "      <td>-</td>\n",
       "      <td>-</td>\n",
       "    </tr>\n",
       "    <tr>\n",
       "      <th>16224</th>\n",
       "      <td>2018</td>\n",
       "      <td>US, Outlying Areas, and Freely Associated States</td>\n",
       "      <td>Total, Age 3-5</td>\n",
       "      <td>Visual impairment</td>\n",
       "      <td>-</td>\n",
       "      <td>-</td>\n",
       "      <td>-</td>\n",
       "      <td>30</td>\n",
       "      <td>126</td>\n",
       "      <td>283</td>\n",
       "      <td>...</td>\n",
       "      <td>-</td>\n",
       "      <td>-</td>\n",
       "      <td>-</td>\n",
       "      <td>-</td>\n",
       "      <td>-</td>\n",
       "      <td>-</td>\n",
       "      <td>-</td>\n",
       "      <td>-</td>\n",
       "      <td>-</td>\n",
       "      <td>-</td>\n",
       "    </tr>\n",
       "    <tr>\n",
       "      <th>16225</th>\n",
       "      <td>2018</td>\n",
       "      <td>US, Outlying Areas, and Freely Associated States</td>\n",
       "      <td>Total, Age 6-21</td>\n",
       "      <td>Visual impairment</td>\n",
       "      <td>-</td>\n",
       "      <td>-</td>\n",
       "      <td>-</td>\n",
       "      <td>-</td>\n",
       "      <td>-</td>\n",
       "      <td>-</td>\n",
       "      <td>...</td>\n",
       "      <td>21728</td>\n",
       "      <td>10839</td>\n",
       "      <td>13177</td>\n",
       "      <td>353</td>\n",
       "      <td>1154</td>\n",
       "      <td>3638</td>\n",
       "      <td>5969</td>\n",
       "      <td>200</td>\n",
       "      <td>848</td>\n",
       "      <td>12006</td>\n",
       "    </tr>\n",
       "  </tbody>\n",
       "</table>\n",
       "<p>16226 rows × 50 columns</p>\n",
       "</div>"
      ],
      "text/plain": [
       "       Year                                        State Name  \\\n",
       "0      2018                                           Alabama   \n",
       "1      2018                                           Alabama   \n",
       "2      2018                                           Alabama   \n",
       "3      2018                                           Alabama   \n",
       "4      2018                                           Alabama   \n",
       "...     ...                                               ...   \n",
       "16221  2018  US, Outlying Areas, and Freely Associated States   \n",
       "16222  2018  US, Outlying Areas, and Freely Associated States   \n",
       "16223  2018  US, Outlying Areas, and Freely Associated States   \n",
       "16224  2018  US, Outlying Areas, and Freely Associated States   \n",
       "16225  2018  US, Outlying Areas, and Freely Associated States   \n",
       "\n",
       "                               SEA Education Environment  \\\n",
       "0                                Correctional Facilities   \n",
       "1                                                   Home   \n",
       "2                                     Homebound/Hospital   \n",
       "3        Inside regular class 40% through 79% of the day   \n",
       "4            Inside regular class 80% or more of the day   \n",
       "...                                                  ...   \n",
       "16221  Services in Other Location than Regular Early ...   \n",
       "16222  Services in Regular Early Childhood Program (a...   \n",
       "16223  Services in Regular Early Childhood Program (a...   \n",
       "16224                                     Total, Age 3-5   \n",
       "16225                                    Total, Age 6-21   \n",
       "\n",
       "      SEA Disability Category Age 3 Age 4 Age 5  \\\n",
       "0            All Disabilities     -     -     -   \n",
       "1            All Disabilities    39    38    27   \n",
       "2            All Disabilities     -     -     -   \n",
       "3            All Disabilities     -     -     -   \n",
       "4            All Disabilities     -     -     -   \n",
       "...                       ...   ...   ...   ...   \n",
       "16221       Visual impairment     -     -     -   \n",
       "16222       Visual impairment     -     -     -   \n",
       "16223       Visual impairment     -     -     -   \n",
       "16224       Visual impairment     -     -     -   \n",
       "16225       Visual impairment     -     -     -   \n",
       "\n",
       "      American Indian or Alaska Native Age 3 to 5  Asian Age 3-5   \\\n",
       "0                                                -              -   \n",
       "1                                                1              0   \n",
       "2                                                -              -   \n",
       "3                                                -              -   \n",
       "4                                                -              -   \n",
       "...                                            ...            ...   \n",
       "16221                                            -              -   \n",
       "16222                                            -              -   \n",
       "16223                                            -              -   \n",
       "16224                                           30            126   \n",
       "16225                                            -              -   \n",
       "\n",
       "      Black or African American Age 3-5   ... EL No Age 6 to 21  \\\n",
       "0                                      -  ...                52   \n",
       "1                                     10  ...                 -   \n",
       "2                                      -  ...               284   \n",
       "3                                      -  ...              5114   \n",
       "4                                      -  ...             68599   \n",
       "...                                  ...  ...               ...   \n",
       "16221                                  -  ...                 -   \n",
       "16222                                  -  ...                 -   \n",
       "16223                                  -  ...                 -   \n",
       "16224                                283  ...                 -   \n",
       "16225                                  -  ...             21728   \n",
       "\n",
       "      Female Age 6 to 21 Male Age 6 to 21  \\\n",
       "0                      1               51   \n",
       "1                      -                -   \n",
       "2                    107              183   \n",
       "3                   1770             3615   \n",
       "4                  24075            47344   \n",
       "...                  ...              ...   \n",
       "16221                  -                -   \n",
       "16222                  -                -   \n",
       "16223                  -                -   \n",
       "16224                  -                -   \n",
       "16225              10839            13177   \n",
       "\n",
       "      American Indian or Alaska Native Age 6 to21 Asian Age 6 to21  \\\n",
       "0                                               0                0   \n",
       "1                                               -                -   \n",
       "2                                               3                6   \n",
       "3                                              28               54   \n",
       "4                                             662              404   \n",
       "...                                           ...              ...   \n",
       "16221                                           -                -   \n",
       "16222                                           -                -   \n",
       "16223                                           -                -   \n",
       "16224                                           -                -   \n",
       "16225                                         353             1154   \n",
       "\n",
       "      Black or African American Age 6 to21 Hispanic/Latino Age 6 to21  \\\n",
       "0                                       43                          0   \n",
       "1                                        -                          -   \n",
       "2                                       91                         15   \n",
       "3                                     1962                        374   \n",
       "4                                    26004                       4571   \n",
       "...                                    ...                        ...   \n",
       "16221                                    -                          -   \n",
       "16222                                    -                          -   \n",
       "16223                                    -                          -   \n",
       "16224                                    -                          -   \n",
       "16225                                 3638                       5969   \n",
       "\n",
       "      Native Hawaiian or Other Pacific Islander Age 6 to21  \\\n",
       "0                                                      0     \n",
       "1                                                      -     \n",
       "2                                                      0     \n",
       "3                                                      5     \n",
       "4                                                     55     \n",
       "...                                                  ...     \n",
       "16221                                                  -     \n",
       "16222                                                  -     \n",
       "16223                                                  -     \n",
       "16224                                                  -     \n",
       "16225                                                200     \n",
       "\n",
       "      Two or more races Age 6 to21 White Age 6 to21  \n",
       "0                                0                9  \n",
       "1                                -                -  \n",
       "2                                1              174  \n",
       "3                              136             2826  \n",
       "4                             1550            38173  \n",
       "...                            ...              ...  \n",
       "16221                            -                -  \n",
       "16222                            -                -  \n",
       "16223                            -                -  \n",
       "16224                            -                -  \n",
       "16225                          848            12006  \n",
       "\n",
       "[16226 rows x 50 columns]"
      ]
     },
     "execution_count": 89,
     "metadata": {},
     "output_type": "execute_result"
    }
   ],
   "source": [
    "cc"
   ]
  },
  {
   "cell_type": "code",
   "execution_count": 90,
   "metadata": {},
   "outputs": [
    {
     "name": "stdout",
     "output_type": "stream",
     "text": [
      "<class 'pandas.core.frame.DataFrame'>\n",
      "RangeIndex: 16226 entries, 0 to 16225\n",
      "Data columns (total 50 columns):\n",
      " #   Column                                                Non-Null Count  Dtype \n",
      "---  ------                                                --------------  ----- \n",
      " 0   Year                                                  16226 non-null  int64 \n",
      " 1   State Name                                            16226 non-null  object\n",
      " 2   SEA Education Environment                             16226 non-null  object\n",
      " 3   SEA Disability Category                               16226 non-null  object\n",
      " 4   Age 3                                                 16226 non-null  object\n",
      " 5   Age 4                                                 16226 non-null  object\n",
      " 6   Age 5                                                 16226 non-null  object\n",
      " 7   American Indian or Alaska Native Age 3 to 5           16226 non-null  object\n",
      " 8   Asian Age 3-5                                         16226 non-null  object\n",
      " 9   Black or African American Age 3-5                     16226 non-null  object\n",
      " 10  Hispanic/Latino Age 3-5                               16226 non-null  object\n",
      " 11  Native Hawaiian or Other Pacific Islander Age 3-5     16226 non-null  object\n",
      " 12  Two or More Races Age 3-5                             16226 non-null  object\n",
      " 13  White Age 3-5                                         16226 non-null  object\n",
      " 14  Female Age 3 to 5                                     16226 non-null  object\n",
      " 15  Male Age 3 to 5                                       16226 non-null  object\n",
      " 16  EL Yes Age 3 to 5                                     16226 non-null  object\n",
      " 17  EL No Age 3 to 5                                      16226 non-null  object\n",
      " 18  Age 3 to 5                                            16226 non-null  object\n",
      " 19  Age 6                                                 16226 non-null  object\n",
      " 20  Age 7                                                 16226 non-null  object\n",
      " 21  Age 8                                                 16226 non-null  object\n",
      " 22  Age 9                                                 16226 non-null  object\n",
      " 23  Age 10                                                16226 non-null  object\n",
      " 24  Age 11                                                16226 non-null  object\n",
      " 25  Age 12                                                16226 non-null  object\n",
      " 26  Age 13                                                16226 non-null  object\n",
      " 27  Age 14                                                16226 non-null  object\n",
      " 28  Age 15                                                16226 non-null  object\n",
      " 29  Age 16                                                16226 non-null  object\n",
      " 30  Age 17                                                16226 non-null  object\n",
      " 31  Age 18                                                16226 non-null  object\n",
      " 32  Age 19                                                16226 non-null  object\n",
      " 33  Age 20                                                16226 non-null  object\n",
      " 34  Age 21                                                16226 non-null  object\n",
      " 35  Age 6-11                                              16226 non-null  object\n",
      " 36  Age 12-17                                             16226 non-null  object\n",
      " 37  Age 18-21                                             16226 non-null  object\n",
      " 38  Ages 6-21                                             16226 non-null  object\n",
      " 39  EL Yes Age 6 to 21                                    16226 non-null  object\n",
      " 40  EL No Age 6 to 21                                     16226 non-null  object\n",
      " 41  Female Age 6 to 21                                    16226 non-null  object\n",
      " 42  Male Age 6 to 21                                      16226 non-null  object\n",
      " 43  American Indian or Alaska Native Age 6 to21           16226 non-null  object\n",
      " 44  Asian Age 6 to21                                      16226 non-null  object\n",
      " 45  Black or African American Age 6 to21                  16226 non-null  object\n",
      " 46  Hispanic/Latino Age 6 to21                            16226 non-null  object\n",
      " 47  Native Hawaiian or Other Pacific Islander Age 6 to21  16226 non-null  object\n",
      " 48  Two or more races Age 6 to21                          16226 non-null  object\n",
      " 49  White Age 6 to21                                      16226 non-null  object\n",
      "dtypes: int64(1), object(49)\n",
      "memory usage: 6.2+ MB\n"
     ]
    }
   ],
   "source": [
    "cc.info()"
   ]
  },
  {
   "cell_type": "code",
   "execution_count": 91,
   "metadata": {},
   "outputs": [],
   "source": [
    "cc = cc.replace('-', np.nan)\n",
    "cc = cc.replace('*', np.nan)\n",
    "\n",
    "cc = cc.replace('-', np.nan)"
   ]
  },
  {
   "cell_type": "code",
   "execution_count": 92,
   "metadata": {},
   "outputs": [
    {
     "data": {
      "text/plain": [
       "array(['Correctional Facilities', 'Home', 'Homebound/Hospital',\n",
       "       'Inside regular class 40% through 79% of the day',\n",
       "       'Inside regular class 80% or more of the day',\n",
       "       'Inside regular class less than 40% of the day',\n",
       "       'Parentally Placed in Private Schools',\n",
       "       'Residential Facility, Age 3-5', 'Residential Facility, Age 6-21',\n",
       "       'Separate Class', 'Separate School, Age 3-5',\n",
       "       'Separate School, Age 6-21', 'Service Provider Location',\n",
       "       'Services in Other Location than Regular Early Childhood Program (attend at least 10 hours)',\n",
       "       'Services in Other Location than Regular Early Childhood Program (attend less than 10 hours)',\n",
       "       'Services in Regular Early Childhood Program (attend at least 10 hours)',\n",
       "       'Services in Regular Early Childhood Program (attend less than 10 hours)',\n",
       "       'Total, Age 3-5', 'Total, Age 6-21'], dtype=object)"
      ]
     },
     "execution_count": 92,
     "metadata": {},
     "output_type": "execute_result"
    }
   ],
   "source": [
    "cc['SEA Education Environment'].unique()"
   ]
  },
  {
   "cell_type": "code",
   "execution_count": 93,
   "metadata": {},
   "outputs": [
    {
     "data": {
      "text/plain": [
       "array(['All Disabilities', 'Autism', 'Deaf-blindness',\n",
       "       'Developmental delay', 'Emotional disturbance',\n",
       "       'Hearing impairment', 'Intellectual disability',\n",
       "       'Multiple disabilities', 'Orthopedic impairment',\n",
       "       'Other health impairment', 'Specific learning disability',\n",
       "       'Speech or language impairment', 'Traumatic brain injury',\n",
       "       'Visual impairment'], dtype=object)"
      ]
     },
     "execution_count": 93,
     "metadata": {},
     "output_type": "execute_result"
    }
   ],
   "source": [
    "cc['SEA Disability Category'].unique()"
   ]
  },
  {
   "cell_type": "code",
   "execution_count": 94,
   "metadata": {},
   "outputs": [],
   "source": [
    "states =  {\n",
    "    'Alabama': 'AL',\n",
    "    'Alaska': 'AK',\n",
    "    'American Samoa': 'AS',\n",
    "    'Arizona': 'AZ',\n",
    "    'Arkansas': 'AR',\n",
    "    'California': 'CA',\n",
    "    'Colorado': 'CO',\n",
    "    'Connecticut': 'CT',\n",
    "    'Delaware': 'DE',\n",
    "    'District of Columbia': 'DC',\n",
    "    'Florida': 'FL',\n",
    "    'Georgia': 'GA',\n",
    "    'Guam': 'GU',\n",
    "    'Hawaii': 'HI',\n",
    "    'Idaho': 'ID',\n",
    "    'Illinois': 'IL',\n",
    "    'Indiana': 'IN',\n",
    "    'Iowa': 'IA',\n",
    "    'Kansas': 'KS',\n",
    "    'Kentucky': 'KY',\n",
    "    'Louisiana': 'LA',\n",
    "    'Maine': 'ME',\n",
    "    'Maryland': 'MD',\n",
    "    'Massachusetts': 'MA',\n",
    "    'Michigan': 'MI',\n",
    "    'Minnesota': 'MN',\n",
    "    'Mississippi': 'MS',\n",
    "    'Missouri': 'MO',\n",
    "    'Montana': 'MT',\n",
    "    'Nebraska': 'NE',\n",
    "    'Nevada': 'NV',\n",
    "    'New Hampshire': 'NH',\n",
    "    'New Jersey': 'NJ',\n",
    "    'New Mexico': 'NM',\n",
    "    'New York': 'NY',\n",
    "    'North Carolina': 'NC',\n",
    "    'North Dakota': 'ND',\n",
    "    'Northern Mariana Islands':'MP',\n",
    "    'Ohio': 'OH',\n",
    "    'Oklahoma': 'OK',\n",
    "    'Oregon': 'OR',\n",
    "    'Pennsylvania': 'PA',\n",
    "    'Puerto Rico': 'PR',\n",
    "    'Rhode Island': 'RI',\n",
    "    'South Carolina': 'SC',\n",
    "    'South Dakota': 'SD',\n",
    "    'Tennessee': 'TN',\n",
    "    'Texas': 'TX',\n",
    "    'Utah': 'UT',\n",
    "    'Vermont': 'VT',\n",
    "    'Virgin Islands': 'VI',\n",
    "    'Virginia': 'VA',\n",
    "    'Washington': 'WA',\n",
    "    'West Virginia': 'WV',\n",
    "    'Wisconsin': 'WI',\n",
    "    'Wyoming': 'WY'\n",
    "}\n"
   ]
  },
  {
   "cell_type": "code",
   "execution_count": 95,
   "metadata": {},
   "outputs": [
    {
     "data": {
      "text/plain": [
       "Index(['Year', 'State Name', 'SEA Education Environment',\n",
       "       'SEA Disability Category', 'Age 3', 'Age 4', 'Age 5',\n",
       "       'American Indian or Alaska Native Age 3 to 5 ', 'Asian Age 3-5 ',\n",
       "       'Black or African American Age 3-5 ', 'Hispanic/Latino Age 3-5 ',\n",
       "       'Native Hawaiian or Other Pacific Islander Age 3-5 ',\n",
       "       'Two or More Races Age 3-5 ', 'White Age 3-5 ', 'Female Age 3 to 5',\n",
       "       'Male Age 3 to 5', 'EL Yes Age 3 to 5', 'EL No Age 3 to 5',\n",
       "       'Age 3 to 5', 'Age 6', 'Age 7', 'Age 8', 'Age 9', 'Age 10', 'Age 11',\n",
       "       'Age 12', 'Age 13', 'Age 14', 'Age 15', 'Age 16', 'Age 17', 'Age 18',\n",
       "       'Age 19', 'Age 20', 'Age 21', 'Age 6-11', 'Age 12-17', 'Age 18-21',\n",
       "       'Ages 6-21', 'EL Yes Age 6 to 21', 'EL No Age 6 to 21',\n",
       "       'Female Age 6 to 21', 'Male Age 6 to 21',\n",
       "       'American Indian or Alaska Native Age 6 to21', 'Asian Age 6 to21',\n",
       "       'Black or African American Age 6 to21', 'Hispanic/Latino Age 6 to21',\n",
       "       'Native Hawaiian or Other Pacific Islander Age 6 to21',\n",
       "       'Two or more races Age 6 to21', 'White Age 6 to21'],\n",
       "      dtype='object')"
      ]
     },
     "execution_count": 95,
     "metadata": {},
     "output_type": "execute_result"
    }
   ],
   "source": [
    "tot6_21 = cc.loc[cc['SEA Education Environment']  == 'Total, Age 6-21']\n",
    "tot6_21.columns"
   ]
  },
  {
   "cell_type": "code",
   "execution_count": 96,
   "metadata": {},
   "outputs": [],
   "source": [
    "tot6_21 = tot6_21.replace({'State Name': states})"
   ]
  },
  {
   "cell_type": "code",
   "execution_count": 97,
   "metadata": {},
   "outputs": [],
   "source": [
    "import plotly.offline as pyo\n",
    "import plotly.graph_objs as go"
   ]
  },
  {
   "cell_type": "code",
   "execution_count": 98,
   "metadata": {},
   "outputs": [
    {
     "data": {
      "text/html": [
       "<div>\n",
       "<style scoped>\n",
       "    .dataframe tbody tr th:only-of-type {\n",
       "        vertical-align: middle;\n",
       "    }\n",
       "\n",
       "    .dataframe tbody tr th {\n",
       "        vertical-align: top;\n",
       "    }\n",
       "\n",
       "    .dataframe thead th {\n",
       "        text-align: right;\n",
       "    }\n",
       "</style>\n",
       "<table border=\"1\" class=\"dataframe\">\n",
       "  <thead>\n",
       "    <tr style=\"text-align: right;\">\n",
       "      <th></th>\n",
       "      <th>Year</th>\n",
       "      <th>State Name</th>\n",
       "      <th>SEA Education Environment</th>\n",
       "      <th>SEA Disability Category</th>\n",
       "      <th>Age 3</th>\n",
       "      <th>Age 4</th>\n",
       "      <th>Age 5</th>\n",
       "      <th>American Indian or Alaska Native Age 3 to 5</th>\n",
       "      <th>Asian Age 3-5</th>\n",
       "      <th>Black or African American Age 3-5</th>\n",
       "      <th>...</th>\n",
       "      <th>EL No Age 6 to 21</th>\n",
       "      <th>Female Age 6 to 21</th>\n",
       "      <th>Male Age 6 to 21</th>\n",
       "      <th>American Indian or Alaska Native Age 6 to21</th>\n",
       "      <th>Asian Age 6 to21</th>\n",
       "      <th>Black or African American Age 6 to21</th>\n",
       "      <th>Hispanic/Latino Age 6 to21</th>\n",
       "      <th>Native Hawaiian or Other Pacific Islander Age 6 to21</th>\n",
       "      <th>Two or more races Age 6 to21</th>\n",
       "      <th>White Age 6 to21</th>\n",
       "    </tr>\n",
       "  </thead>\n",
       "  <tbody>\n",
       "    <tr>\n",
       "      <th>18</th>\n",
       "      <td>2018</td>\n",
       "      <td>AL</td>\n",
       "      <td>Total, Age 6-21</td>\n",
       "      <td>All Disabilities</td>\n",
       "      <td>0</td>\n",
       "      <td>0</td>\n",
       "      <td>0</td>\n",
       "      <td>0</td>\n",
       "      <td>0</td>\n",
       "      <td>0</td>\n",
       "      <td>...</td>\n",
       "      <td>82012</td>\n",
       "      <td>28669</td>\n",
       "      <td>56767</td>\n",
       "      <td>731</td>\n",
       "      <td>562</td>\n",
       "      <td>31528</td>\n",
       "      <td>5496</td>\n",
       "      <td>66</td>\n",
       "      <td>1833</td>\n",
       "      <td>45220</td>\n",
       "    </tr>\n",
       "    <tr>\n",
       "      <th>284</th>\n",
       "      <td>2018</td>\n",
       "      <td>AK</td>\n",
       "      <td>Total, Age 6-21</td>\n",
       "      <td>All Disabilities</td>\n",
       "      <td>0</td>\n",
       "      <td>0</td>\n",
       "      <td>0</td>\n",
       "      <td>0</td>\n",
       "      <td>0</td>\n",
       "      <td>0</td>\n",
       "      <td>...</td>\n",
       "      <td>14596</td>\n",
       "      <td>5820</td>\n",
       "      <td>11182</td>\n",
       "      <td>4742</td>\n",
       "      <td>610</td>\n",
       "      <td>535</td>\n",
       "      <td>1193</td>\n",
       "      <td>447</td>\n",
       "      <td>2278</td>\n",
       "      <td>7197</td>\n",
       "    </tr>\n",
       "    <tr>\n",
       "      <th>550</th>\n",
       "      <td>2018</td>\n",
       "      <td>AS</td>\n",
       "      <td>Total, Age 6-21</td>\n",
       "      <td>All Disabilities</td>\n",
       "      <td>0</td>\n",
       "      <td>0</td>\n",
       "      <td>0</td>\n",
       "      <td>0</td>\n",
       "      <td>0</td>\n",
       "      <td>0</td>\n",
       "      <td>...</td>\n",
       "      <td>0</td>\n",
       "      <td>145</td>\n",
       "      <td>360</td>\n",
       "      <td>0</td>\n",
       "      <td>x</td>\n",
       "      <td>0</td>\n",
       "      <td>0</td>\n",
       "      <td>500</td>\n",
       "      <td>x</td>\n",
       "      <td>x</td>\n",
       "    </tr>\n",
       "    <tr>\n",
       "      <th>816</th>\n",
       "      <td>2018</td>\n",
       "      <td>AZ</td>\n",
       "      <td>Total, Age 6-21</td>\n",
       "      <td>All Disabilities</td>\n",
       "      <td>0</td>\n",
       "      <td>0</td>\n",
       "      <td>0</td>\n",
       "      <td>0</td>\n",
       "      <td>0</td>\n",
       "      <td>0</td>\n",
       "      <td>...</td>\n",
       "      <td>117473</td>\n",
       "      <td>43488</td>\n",
       "      <td>84578</td>\n",
       "      <td>7719</td>\n",
       "      <td>1602</td>\n",
       "      <td>8534</td>\n",
       "      <td>58095</td>\n",
       "      <td>366</td>\n",
       "      <td>4155</td>\n",
       "      <td>47595</td>\n",
       "    </tr>\n",
       "    <tr>\n",
       "      <th>1082</th>\n",
       "      <td>2018</td>\n",
       "      <td>AR</td>\n",
       "      <td>Total, Age 6-21</td>\n",
       "      <td>All Disabilities</td>\n",
       "      <td>0</td>\n",
       "      <td>0</td>\n",
       "      <td>0</td>\n",
       "      <td>0</td>\n",
       "      <td>0</td>\n",
       "      <td>0</td>\n",
       "      <td>...</td>\n",
       "      <td>55627</td>\n",
       "      <td>21079</td>\n",
       "      <td>40287</td>\n",
       "      <td>411</td>\n",
       "      <td>472</td>\n",
       "      <td>14129</td>\n",
       "      <td>7130</td>\n",
       "      <td>351</td>\n",
       "      <td>1659</td>\n",
       "      <td>37214</td>\n",
       "    </tr>\n",
       "    <tr>\n",
       "      <th>...</th>\n",
       "      <td>...</td>\n",
       "      <td>...</td>\n",
       "      <td>...</td>\n",
       "      <td>...</td>\n",
       "      <td>...</td>\n",
       "      <td>...</td>\n",
       "      <td>...</td>\n",
       "      <td>...</td>\n",
       "      <td>...</td>\n",
       "      <td>...</td>\n",
       "      <td>...</td>\n",
       "      <td>...</td>\n",
       "      <td>...</td>\n",
       "      <td>...</td>\n",
       "      <td>...</td>\n",
       "      <td>...</td>\n",
       "      <td>...</td>\n",
       "      <td>...</td>\n",
       "      <td>...</td>\n",
       "      <td>...</td>\n",
       "      <td>...</td>\n",
       "    </tr>\n",
       "    <tr>\n",
       "      <th>14914</th>\n",
       "      <td>2018</td>\n",
       "      <td>WA</td>\n",
       "      <td>Total, Age 6-21</td>\n",
       "      <td>All Disabilities</td>\n",
       "      <td>0</td>\n",
       "      <td>0</td>\n",
       "      <td>0</td>\n",
       "      <td>0</td>\n",
       "      <td>0</td>\n",
       "      <td>0</td>\n",
       "      <td>...</td>\n",
       "      <td>109765</td>\n",
       "      <td>44097</td>\n",
       "      <td>86385</td>\n",
       "      <td>2548</td>\n",
       "      <td>4972</td>\n",
       "      <td>7438</td>\n",
       "      <td>33629</td>\n",
       "      <td>1161</td>\n",
       "      <td>10966</td>\n",
       "      <td>69774</td>\n",
       "    </tr>\n",
       "    <tr>\n",
       "      <th>15180</th>\n",
       "      <td>2018</td>\n",
       "      <td>WV</td>\n",
       "      <td>Total, Age 6-21</td>\n",
       "      <td>All Disabilities</td>\n",
       "      <td>0</td>\n",
       "      <td>0</td>\n",
       "      <td>0</td>\n",
       "      <td>0</td>\n",
       "      <td>0</td>\n",
       "      <td>0</td>\n",
       "      <td>...</td>\n",
       "      <td>41666</td>\n",
       "      <td>14714</td>\n",
       "      <td>27224</td>\n",
       "      <td>41</td>\n",
       "      <td>95</td>\n",
       "      <td>1918</td>\n",
       "      <td>694</td>\n",
       "      <td>10</td>\n",
       "      <td>1338</td>\n",
       "      <td>37842</td>\n",
       "    </tr>\n",
       "    <tr>\n",
       "      <th>15446</th>\n",
       "      <td>2018</td>\n",
       "      <td>WI</td>\n",
       "      <td>Total, Age 6-21</td>\n",
       "      <td>All Disabilities</td>\n",
       "      <td>0</td>\n",
       "      <td>0</td>\n",
       "      <td>0</td>\n",
       "      <td>0</td>\n",
       "      <td>0</td>\n",
       "      <td>0</td>\n",
       "      <td>...</td>\n",
       "      <td>0</td>\n",
       "      <td>0</td>\n",
       "      <td>0</td>\n",
       "      <td>0</td>\n",
       "      <td>0</td>\n",
       "      <td>0</td>\n",
       "      <td>0</td>\n",
       "      <td>0</td>\n",
       "      <td>0</td>\n",
       "      <td>0</td>\n",
       "    </tr>\n",
       "    <tr>\n",
       "      <th>15712</th>\n",
       "      <td>2018</td>\n",
       "      <td>WY</td>\n",
       "      <td>Total, Age 6-21</td>\n",
       "      <td>All Disabilities</td>\n",
       "      <td>0</td>\n",
       "      <td>0</td>\n",
       "      <td>0</td>\n",
       "      <td>0</td>\n",
       "      <td>0</td>\n",
       "      <td>0</td>\n",
       "      <td>...</td>\n",
       "      <td>11803</td>\n",
       "      <td>4319</td>\n",
       "      <td>8029</td>\n",
       "      <td>593</td>\n",
       "      <td>77</td>\n",
       "      <td>146</td>\n",
       "      <td>1677</td>\n",
       "      <td>23</td>\n",
       "      <td>582</td>\n",
       "      <td>9250</td>\n",
       "    </tr>\n",
       "    <tr>\n",
       "      <th>15978</th>\n",
       "      <td>2018</td>\n",
       "      <td>US, Outlying Areas, and Freely Associated States</td>\n",
       "      <td>Total, Age 6-21</td>\n",
       "      <td>All Disabilities</td>\n",
       "      <td>0</td>\n",
       "      <td>0</td>\n",
       "      <td>0</td>\n",
       "      <td>0</td>\n",
       "      <td>0</td>\n",
       "      <td>0</td>\n",
       "      <td>...</td>\n",
       "      <td>5600742</td>\n",
       "      <td>2124666</td>\n",
       "      <td>4128226</td>\n",
       "      <td>85534</td>\n",
       "      <td>157284</td>\n",
       "      <td>1129554</td>\n",
       "      <td>1716195</td>\n",
       "      <td>23384</td>\n",
       "      <td>251413</td>\n",
       "      <td>2951864</td>\n",
       "    </tr>\n",
       "  </tbody>\n",
       "</table>\n",
       "<p>61 rows × 50 columns</p>\n",
       "</div>"
      ],
      "text/plain": [
       "       Year                                        State Name  \\\n",
       "18     2018                                                AL   \n",
       "284    2018                                                AK   \n",
       "550    2018                                                AS   \n",
       "816    2018                                                AZ   \n",
       "1082   2018                                                AR   \n",
       "...     ...                                               ...   \n",
       "14914  2018                                                WA   \n",
       "15180  2018                                                WV   \n",
       "15446  2018                                                WI   \n",
       "15712  2018                                                WY   \n",
       "15978  2018  US, Outlying Areas, and Freely Associated States   \n",
       "\n",
       "      SEA Education Environment SEA Disability Category  Age 3  Age 4  Age 5  \\\n",
       "18              Total, Age 6-21        All Disabilities      0      0      0   \n",
       "284             Total, Age 6-21        All Disabilities      0      0      0   \n",
       "550             Total, Age 6-21        All Disabilities      0      0      0   \n",
       "816             Total, Age 6-21        All Disabilities      0      0      0   \n",
       "1082            Total, Age 6-21        All Disabilities      0      0      0   \n",
       "...                         ...                     ...    ...    ...    ...   \n",
       "14914           Total, Age 6-21        All Disabilities      0      0      0   \n",
       "15180           Total, Age 6-21        All Disabilities      0      0      0   \n",
       "15446           Total, Age 6-21        All Disabilities      0      0      0   \n",
       "15712           Total, Age 6-21        All Disabilities      0      0      0   \n",
       "15978           Total, Age 6-21        All Disabilities      0      0      0   \n",
       "\n",
       "       American Indian or Alaska Native Age 3 to 5   Asian Age 3-5   \\\n",
       "18                                                0               0   \n",
       "284                                               0               0   \n",
       "550                                               0               0   \n",
       "816                                               0               0   \n",
       "1082                                              0               0   \n",
       "...                                             ...             ...   \n",
       "14914                                             0               0   \n",
       "15180                                             0               0   \n",
       "15446                                             0               0   \n",
       "15712                                             0               0   \n",
       "15978                                             0               0   \n",
       "\n",
       "       Black or African American Age 3-5   ...  EL No Age 6 to 21  \\\n",
       "18                                      0  ...              82012   \n",
       "284                                     0  ...              14596   \n",
       "550                                     0  ...                  0   \n",
       "816                                     0  ...             117473   \n",
       "1082                                    0  ...              55627   \n",
       "...                                   ...  ...                ...   \n",
       "14914                                   0  ...             109765   \n",
       "15180                                   0  ...              41666   \n",
       "15446                                   0  ...                  0   \n",
       "15712                                   0  ...              11803   \n",
       "15978                                   0  ...            5600742   \n",
       "\n",
       "       Female Age 6 to 21  Male Age 6 to 21  \\\n",
       "18                  28669             56767   \n",
       "284                  5820             11182   \n",
       "550                   145               360   \n",
       "816                 43488             84578   \n",
       "1082                21079             40287   \n",
       "...                   ...               ...   \n",
       "14914               44097             86385   \n",
       "15180               14714             27224   \n",
       "15446                   0                 0   \n",
       "15712                4319              8029   \n",
       "15978             2124666           4128226   \n",
       "\n",
       "       American Indian or Alaska Native Age 6 to21  Asian Age 6 to21  \\\n",
       "18                                             731               562   \n",
       "284                                           4742               610   \n",
       "550                                              0                 x   \n",
       "816                                           7719              1602   \n",
       "1082                                           411               472   \n",
       "...                                            ...               ...   \n",
       "14914                                         2548              4972   \n",
       "15180                                           41                95   \n",
       "15446                                            0                 0   \n",
       "15712                                          593                77   \n",
       "15978                                        85534            157284   \n",
       "\n",
       "       Black or African American Age 6 to21  Hispanic/Latino Age 6 to21  \\\n",
       "18                                    31528                        5496   \n",
       "284                                     535                        1193   \n",
       "550                                       0                           0   \n",
       "816                                    8534                       58095   \n",
       "1082                                  14129                        7130   \n",
       "...                                     ...                         ...   \n",
       "14914                                  7438                       33629   \n",
       "15180                                  1918                         694   \n",
       "15446                                     0                           0   \n",
       "15712                                   146                        1677   \n",
       "15978                               1129554                     1716195   \n",
       "\n",
       "       Native Hawaiian or Other Pacific Islander Age 6 to21  \\\n",
       "18                                                    66      \n",
       "284                                                  447      \n",
       "550                                                  500      \n",
       "816                                                  366      \n",
       "1082                                                 351      \n",
       "...                                                  ...      \n",
       "14914                                               1161      \n",
       "15180                                                 10      \n",
       "15446                                                  0      \n",
       "15712                                                 23      \n",
       "15978                                              23384      \n",
       "\n",
       "       Two or more races Age 6 to21 White Age 6 to21  \n",
       "18                             1833            45220  \n",
       "284                            2278             7197  \n",
       "550                               x                x  \n",
       "816                            4155            47595  \n",
       "1082                           1659            37214  \n",
       "...                             ...              ...  \n",
       "14914                         10966            69774  \n",
       "15180                          1338            37842  \n",
       "15446                             0                0  \n",
       "15712                           582             9250  \n",
       "15978                        251413          2951864  \n",
       "\n",
       "[61 rows x 50 columns]"
      ]
     },
     "execution_count": 98,
     "metadata": {},
     "output_type": "execute_result"
    }
   ],
   "source": [
    "tot6_21_ALL = tot6_21[tot6_21['SEA Disability Category'] == \"All Disabilities\"]\n",
    "tot6_21_ALL = tot6_21_ALL.replace(np.nan, 0)\n",
    "tot6_21_ALL"
   ]
  },
  {
   "cell_type": "code",
   "execution_count": 99,
   "metadata": {},
   "outputs": [],
   "source": [
    "tot6_21_ALL['Ages 6-21'].unique()\n",
    "tot6_21_ALL['Ages 6-21'] = tot6_21_ALL['Ages 6-21'].astype('int')"
   ]
  },
  {
   "cell_type": "code",
   "execution_count": 100,
   "metadata": {},
   "outputs": [
    {
     "name": "stdout",
     "output_type": "stream",
     "text": [
      "<class 'pandas.core.frame.DataFrame'>\n",
      "Int64Index: 61 entries, 18 to 15978\n",
      "Data columns (total 50 columns):\n",
      " #   Column                                                Non-Null Count  Dtype \n",
      "---  ------                                                --------------  ----- \n",
      " 0   Year                                                  61 non-null     int64 \n",
      " 1   State Name                                            61 non-null     object\n",
      " 2   SEA Education Environment                             61 non-null     object\n",
      " 3   SEA Disability Category                               61 non-null     object\n",
      " 4   Age 3                                                 61 non-null     int64 \n",
      " 5   Age 4                                                 61 non-null     int64 \n",
      " 6   Age 5                                                 61 non-null     int64 \n",
      " 7   American Indian or Alaska Native Age 3 to 5           61 non-null     int64 \n",
      " 8   Asian Age 3-5                                         61 non-null     int64 \n",
      " 9   Black or African American Age 3-5                     61 non-null     int64 \n",
      " 10  Hispanic/Latino Age 3-5                               61 non-null     int64 \n",
      " 11  Native Hawaiian or Other Pacific Islander Age 3-5     61 non-null     int64 \n",
      " 12  Two or More Races Age 3-5                             61 non-null     int64 \n",
      " 13  White Age 3-5                                         61 non-null     int64 \n",
      " 14  Female Age 3 to 5                                     61 non-null     int64 \n",
      " 15  Male Age 3 to 5                                       61 non-null     int64 \n",
      " 16  EL Yes Age 3 to 5                                     61 non-null     int64 \n",
      " 17  EL No Age 3 to 5                                      61 non-null     int64 \n",
      " 18  Age 3 to 5                                            61 non-null     int64 \n",
      " 19  Age 6                                                 61 non-null     object\n",
      " 20  Age 7                                                 61 non-null     object\n",
      " 21  Age 8                                                 61 non-null     object\n",
      " 22  Age 9                                                 61 non-null     object\n",
      " 23  Age 10                                                61 non-null     object\n",
      " 24  Age 11                                                61 non-null     object\n",
      " 25  Age 12                                                61 non-null     object\n",
      " 26  Age 13                                                61 non-null     object\n",
      " 27  Age 14                                                61 non-null     object\n",
      " 28  Age 15                                                61 non-null     object\n",
      " 29  Age 16                                                61 non-null     object\n",
      " 30  Age 17                                                61 non-null     object\n",
      " 31  Age 18                                                61 non-null     object\n",
      " 32  Age 19                                                61 non-null     object\n",
      " 33  Age 20                                                61 non-null     object\n",
      " 34  Age 21                                                61 non-null     object\n",
      " 35  Age 6-11                                              61 non-null     object\n",
      " 36  Age 12-17                                             61 non-null     object\n",
      " 37  Age 18-21                                             61 non-null     object\n",
      " 38  Ages 6-21                                             61 non-null     int64 \n",
      " 39  EL Yes Age 6 to 21                                    61 non-null     object\n",
      " 40  EL No Age 6 to 21                                     61 non-null     object\n",
      " 41  Female Age 6 to 21                                    61 non-null     object\n",
      " 42  Male Age 6 to 21                                      61 non-null     object\n",
      " 43  American Indian or Alaska Native Age 6 to21           61 non-null     object\n",
      " 44  Asian Age 6 to21                                      61 non-null     object\n",
      " 45  Black or African American Age 6 to21                  61 non-null     object\n",
      " 46  Hispanic/Latino Age 6 to21                            61 non-null     object\n",
      " 47  Native Hawaiian or Other Pacific Islander Age 6 to21  61 non-null     object\n",
      " 48  Two or more races Age 6 to21                          61 non-null     object\n",
      " 49  White Age 6 to21                                      61 non-null     object\n",
      "dtypes: int64(17), object(33)\n",
      "memory usage: 24.3+ KB\n"
     ]
    }
   ],
   "source": [
    "tot6_21_ALL.info()"
   ]
  },
  {
   "cell_type": "code",
   "execution_count": 104,
   "metadata": {},
   "outputs": [
    {
     "data": {
      "text/html": [
       "<div>\n",
       "<style scoped>\n",
       "    .dataframe tbody tr th:only-of-type {\n",
       "        vertical-align: middle;\n",
       "    }\n",
       "\n",
       "    .dataframe tbody tr th {\n",
       "        vertical-align: top;\n",
       "    }\n",
       "\n",
       "    .dataframe thead th {\n",
       "        text-align: right;\n",
       "    }\n",
       "</style>\n",
       "<table border=\"1\" class=\"dataframe\">\n",
       "  <thead>\n",
       "    <tr style=\"text-align: right;\">\n",
       "      <th></th>\n",
       "      <th>Year</th>\n",
       "      <th>Age 3</th>\n",
       "      <th>Age 4</th>\n",
       "      <th>Age 5</th>\n",
       "      <th>American Indian or Alaska Native Age 3 to 5</th>\n",
       "      <th>Asian Age 3-5</th>\n",
       "      <th>Black or African American Age 3-5</th>\n",
       "      <th>Hispanic/Latino Age 3-5</th>\n",
       "      <th>Native Hawaiian or Other Pacific Islander Age 3-5</th>\n",
       "      <th>Two or More Races Age 3-5</th>\n",
       "      <th>White Age 3-5</th>\n",
       "      <th>Female Age 3 to 5</th>\n",
       "      <th>Male Age 3 to 5</th>\n",
       "      <th>EL Yes Age 3 to 5</th>\n",
       "      <th>EL No Age 3 to 5</th>\n",
       "      <th>Age 3 to 5</th>\n",
       "      <th>Ages 6-21</th>\n",
       "    </tr>\n",
       "  </thead>\n",
       "  <tbody>\n",
       "    <tr>\n",
       "      <th>count</th>\n",
       "      <td>61.0</td>\n",
       "      <td>61.0</td>\n",
       "      <td>61.0</td>\n",
       "      <td>61.0</td>\n",
       "      <td>61.0</td>\n",
       "      <td>61.0</td>\n",
       "      <td>61.0</td>\n",
       "      <td>61.0</td>\n",
       "      <td>61.0</td>\n",
       "      <td>61.0</td>\n",
       "      <td>61.0</td>\n",
       "      <td>61.0</td>\n",
       "      <td>61.0</td>\n",
       "      <td>61.0</td>\n",
       "      <td>61.0</td>\n",
       "      <td>61.0</td>\n",
       "      <td>6.100000e+01</td>\n",
       "    </tr>\n",
       "    <tr>\n",
       "      <th>mean</th>\n",
       "      <td>2018.0</td>\n",
       "      <td>0.0</td>\n",
       "      <td>0.0</td>\n",
       "      <td>0.0</td>\n",
       "      <td>0.0</td>\n",
       "      <td>0.0</td>\n",
       "      <td>0.0</td>\n",
       "      <td>0.0</td>\n",
       "      <td>0.0</td>\n",
       "      <td>0.0</td>\n",
       "      <td>0.0</td>\n",
       "      <td>0.0</td>\n",
       "      <td>0.0</td>\n",
       "      <td>0.0</td>\n",
       "      <td>0.0</td>\n",
       "      <td>0.0</td>\n",
       "      <td>2.070567e+05</td>\n",
       "    </tr>\n",
       "    <tr>\n",
       "      <th>std</th>\n",
       "      <td>0.0</td>\n",
       "      <td>0.0</td>\n",
       "      <td>0.0</td>\n",
       "      <td>0.0</td>\n",
       "      <td>0.0</td>\n",
       "      <td>0.0</td>\n",
       "      <td>0.0</td>\n",
       "      <td>0.0</td>\n",
       "      <td>0.0</td>\n",
       "      <td>0.0</td>\n",
       "      <td>0.0</td>\n",
       "      <td>0.0</td>\n",
       "      <td>0.0</td>\n",
       "      <td>0.0</td>\n",
       "      <td>0.0</td>\n",
       "      <td>0.0</td>\n",
       "      <td>8.057965e+05</td>\n",
       "    </tr>\n",
       "    <tr>\n",
       "      <th>min</th>\n",
       "      <td>2018.0</td>\n",
       "      <td>0.0</td>\n",
       "      <td>0.0</td>\n",
       "      <td>0.0</td>\n",
       "      <td>0.0</td>\n",
       "      <td>0.0</td>\n",
       "      <td>0.0</td>\n",
       "      <td>0.0</td>\n",
       "      <td>0.0</td>\n",
       "      <td>0.0</td>\n",
       "      <td>0.0</td>\n",
       "      <td>0.0</td>\n",
       "      <td>0.0</td>\n",
       "      <td>0.0</td>\n",
       "      <td>0.0</td>\n",
       "      <td>0.0</td>\n",
       "      <td>0.000000e+00</td>\n",
       "    </tr>\n",
       "    <tr>\n",
       "      <th>25%</th>\n",
       "      <td>2018.0</td>\n",
       "      <td>0.0</td>\n",
       "      <td>0.0</td>\n",
       "      <td>0.0</td>\n",
       "      <td>0.0</td>\n",
       "      <td>0.0</td>\n",
       "      <td>0.0</td>\n",
       "      <td>0.0</td>\n",
       "      <td>0.0</td>\n",
       "      <td>0.0</td>\n",
       "      <td>0.0</td>\n",
       "      <td>0.0</td>\n",
       "      <td>0.0</td>\n",
       "      <td>0.0</td>\n",
       "      <td>0.0</td>\n",
       "      <td>0.0</td>\n",
       "      <td>1.765800e+04</td>\n",
       "    </tr>\n",
       "    <tr>\n",
       "      <th>50%</th>\n",
       "      <td>2018.0</td>\n",
       "      <td>0.0</td>\n",
       "      <td>0.0</td>\n",
       "      <td>0.0</td>\n",
       "      <td>0.0</td>\n",
       "      <td>0.0</td>\n",
       "      <td>0.0</td>\n",
       "      <td>0.0</td>\n",
       "      <td>0.0</td>\n",
       "      <td>0.0</td>\n",
       "      <td>0.0</td>\n",
       "      <td>0.0</td>\n",
       "      <td>0.0</td>\n",
       "      <td>0.0</td>\n",
       "      <td>0.0</td>\n",
       "      <td>0.0</td>\n",
       "      <td>7.255100e+04</td>\n",
       "    </tr>\n",
       "    <tr>\n",
       "      <th>75%</th>\n",
       "      <td>2018.0</td>\n",
       "      <td>0.0</td>\n",
       "      <td>0.0</td>\n",
       "      <td>0.0</td>\n",
       "      <td>0.0</td>\n",
       "      <td>0.0</td>\n",
       "      <td>0.0</td>\n",
       "      <td>0.0</td>\n",
       "      <td>0.0</td>\n",
       "      <td>0.0</td>\n",
       "      <td>0.0</td>\n",
       "      <td>0.0</td>\n",
       "      <td>0.0</td>\n",
       "      <td>0.0</td>\n",
       "      <td>0.0</td>\n",
       "      <td>0.0</td>\n",
       "      <td>1.304880e+05</td>\n",
       "    </tr>\n",
       "    <tr>\n",
       "      <th>max</th>\n",
       "      <td>2018.0</td>\n",
       "      <td>0.0</td>\n",
       "      <td>0.0</td>\n",
       "      <td>0.0</td>\n",
       "      <td>0.0</td>\n",
       "      <td>0.0</td>\n",
       "      <td>0.0</td>\n",
       "      <td>0.0</td>\n",
       "      <td>0.0</td>\n",
       "      <td>0.0</td>\n",
       "      <td>0.0</td>\n",
       "      <td>0.0</td>\n",
       "      <td>0.0</td>\n",
       "      <td>0.0</td>\n",
       "      <td>0.0</td>\n",
       "      <td>0.0</td>\n",
       "      <td>6.315228e+06</td>\n",
       "    </tr>\n",
       "  </tbody>\n",
       "</table>\n",
       "</div>"
      ],
      "text/plain": [
       "         Year  Age 3  Age 4  Age 5  \\\n",
       "count    61.0   61.0   61.0   61.0   \n",
       "mean   2018.0    0.0    0.0    0.0   \n",
       "std       0.0    0.0    0.0    0.0   \n",
       "min    2018.0    0.0    0.0    0.0   \n",
       "25%    2018.0    0.0    0.0    0.0   \n",
       "50%    2018.0    0.0    0.0    0.0   \n",
       "75%    2018.0    0.0    0.0    0.0   \n",
       "max    2018.0    0.0    0.0    0.0   \n",
       "\n",
       "       American Indian or Alaska Native Age 3 to 5   Asian Age 3-5   \\\n",
       "count                                          61.0            61.0   \n",
       "mean                                            0.0             0.0   \n",
       "std                                             0.0             0.0   \n",
       "min                                             0.0             0.0   \n",
       "25%                                             0.0             0.0   \n",
       "50%                                             0.0             0.0   \n",
       "75%                                             0.0             0.0   \n",
       "max                                             0.0             0.0   \n",
       "\n",
       "       Black or African American Age 3-5   Hispanic/Latino Age 3-5   \\\n",
       "count                                61.0                      61.0   \n",
       "mean                                  0.0                       0.0   \n",
       "std                                   0.0                       0.0   \n",
       "min                                   0.0                       0.0   \n",
       "25%                                   0.0                       0.0   \n",
       "50%                                   0.0                       0.0   \n",
       "75%                                   0.0                       0.0   \n",
       "max                                   0.0                       0.0   \n",
       "\n",
       "       Native Hawaiian or Other Pacific Islander Age 3-5   \\\n",
       "count                                               61.0    \n",
       "mean                                                 0.0    \n",
       "std                                                  0.0    \n",
       "min                                                  0.0    \n",
       "25%                                                  0.0    \n",
       "50%                                                  0.0    \n",
       "75%                                                  0.0    \n",
       "max                                                  0.0    \n",
       "\n",
       "       Two or More Races Age 3-5   White Age 3-5   Female Age 3 to 5  \\\n",
       "count                        61.0            61.0               61.0   \n",
       "mean                          0.0             0.0                0.0   \n",
       "std                           0.0             0.0                0.0   \n",
       "min                           0.0             0.0                0.0   \n",
       "25%                           0.0             0.0                0.0   \n",
       "50%                           0.0             0.0                0.0   \n",
       "75%                           0.0             0.0                0.0   \n",
       "max                           0.0             0.0                0.0   \n",
       "\n",
       "       Male Age 3 to 5  EL Yes Age 3 to 5  EL No Age 3 to 5  Age 3 to 5  \\\n",
       "count             61.0               61.0              61.0        61.0   \n",
       "mean               0.0                0.0               0.0         0.0   \n",
       "std                0.0                0.0               0.0         0.0   \n",
       "min                0.0                0.0               0.0         0.0   \n",
       "25%                0.0                0.0               0.0         0.0   \n",
       "50%                0.0                0.0               0.0         0.0   \n",
       "75%                0.0                0.0               0.0         0.0   \n",
       "max                0.0                0.0               0.0         0.0   \n",
       "\n",
       "          Ages 6-21  \n",
       "count  6.100000e+01  \n",
       "mean   2.070567e+05  \n",
       "std    8.057965e+05  \n",
       "min    0.000000e+00  \n",
       "25%    1.765800e+04  \n",
       "50%    7.255100e+04  \n",
       "75%    1.304880e+05  \n",
       "max    6.315228e+06  "
      ]
     },
     "execution_count": 104,
     "metadata": {},
     "output_type": "execute_result"
    }
   ],
   "source": [
    "tot6_21_ALL.describe()"
   ]
  },
  {
   "cell_type": "code",
   "execution_count": 106,
   "metadata": {},
   "outputs": [
    {
     "data": {
      "application/vnd.plotly.v1+json": {
       "config": {
        "plotlyServerURL": "https://plot.ly"
       },
       "data": [
        {
         "coloraxis": "coloraxis",
         "geo": "geo",
         "hovertemplate": "State Name=%{location}<br>Ages 6-21=%{z}<extra></extra>",
         "locationmode": "USA-states",
         "locations": [
          "AL",
          "AK",
          "AS",
          "AZ",
          "AR",
          "Bureau of Indian Education",
          "CA",
          "CO",
          "CT",
          "DE",
          "DC",
          "Federated States of Micronesia",
          "FL",
          "GA",
          "GU",
          "HI",
          "ID",
          "IL",
          "IN",
          "IA",
          "KS",
          "KY",
          "LA",
          "ME",
          "MD",
          "MA",
          "MI",
          "MN",
          "MS",
          "MO",
          "MT",
          "NE",
          "NV",
          "NH",
          "NJ",
          "NM",
          "NY",
          "NC",
          "ND",
          "Northern Marianas",
          "OH",
          "OK",
          "OR",
          "PA",
          "PR",
          "Republic of Palau",
          "Republic of the Marshall Islands",
          "RI",
          "SC",
          "SD",
          "TN",
          "TX",
          "UT",
          "VT",
          "VI",
          "VA",
          "WA",
          "WV",
          "WI",
          "WY",
          "US, Outlying Areas, and Freely Associated States"
         ],
         "name": "",
         "type": "choropleth",
         "z": [
          85436,
          17002,
          505,
          128066,
          61366,
          6514,
          701812,
          90715,
          72551,
          21581,
          12218,
          1689,
          363720,
          200450,
          1780,
          17037,
          30444,
          259914,
          159597,
          60561,
          63406,
          87926,
          76345,
          30740,
          95918,
          158250,
          177721,
          123101,
          61172,
          114033,
          17658,
          45454,
          51677,
          26243,
          220362,
          47389,
          457354,
          181547,
          13559,
          856,
          244671,
          104980,
          77432,
          290896,
          91338,
          80,
          594,
          20935,
          96729,
          18789,
          115637,
          478435,
          75791,
          12861,
          974,
          156643,
          130488,
          41938,
          0,
          12348,
          6315228
         ]
        }
       ],
       "layout": {
        "autosize": true,
        "coloraxis": {
         "colorbar": {
          "title": {
           "text": "Ages 6-21"
          }
         },
         "colorscale": [
          [
           0,
           "rgb(209, 238, 234)"
          ],
          [
           0.16666666666666666,
           "rgb(168, 219, 217)"
          ],
          [
           0.3333333333333333,
           "rgb(133, 196, 201)"
          ],
          [
           0.5,
           "rgb(104, 171, 184)"
          ],
          [
           0.6666666666666666,
           "rgb(79, 144, 166)"
          ],
          [
           0.8333333333333334,
           "rgb(59, 115, 143)"
          ],
          [
           1,
           "rgb(42, 86, 116)"
          ]
         ]
        },
        "dragmode": "pan",
        "geo": {
         "center": {},
         "domain": {
          "x": [
           0,
           1
          ],
          "y": [
           0,
           1
          ]
         }
        },
        "legend": {
         "tracegroupgap": 0
        },
        "margin": {
         "b": 0,
         "l": 0,
         "r": 0,
         "t": 0
        },
        "template": {
         "data": {
          "bar": [
           {
            "error_x": {
             "color": "#2a3f5f"
            },
            "error_y": {
             "color": "#2a3f5f"
            },
            "marker": {
             "line": {
              "color": "#E5ECF6",
              "width": 0.5
             }
            },
            "type": "bar"
           }
          ],
          "barpolar": [
           {
            "marker": {
             "line": {
              "color": "#E5ECF6",
              "width": 0.5
             }
            },
            "type": "barpolar"
           }
          ],
          "carpet": [
           {
            "aaxis": {
             "endlinecolor": "#2a3f5f",
             "gridcolor": "white",
             "linecolor": "white",
             "minorgridcolor": "white",
             "startlinecolor": "#2a3f5f"
            },
            "baxis": {
             "endlinecolor": "#2a3f5f",
             "gridcolor": "white",
             "linecolor": "white",
             "minorgridcolor": "white",
             "startlinecolor": "#2a3f5f"
            },
            "type": "carpet"
           }
          ],
          "choropleth": [
           {
            "colorbar": {
             "outlinewidth": 0,
             "ticks": ""
            },
            "type": "choropleth"
           }
          ],
          "contour": [
           {
            "colorbar": {
             "outlinewidth": 0,
             "ticks": ""
            },
            "colorscale": [
             [
              0,
              "#0d0887"
             ],
             [
              0.1111111111111111,
              "#46039f"
             ],
             [
              0.2222222222222222,
              "#7201a8"
             ],
             [
              0.3333333333333333,
              "#9c179e"
             ],
             [
              0.4444444444444444,
              "#bd3786"
             ],
             [
              0.5555555555555556,
              "#d8576b"
             ],
             [
              0.6666666666666666,
              "#ed7953"
             ],
             [
              0.7777777777777778,
              "#fb9f3a"
             ],
             [
              0.8888888888888888,
              "#fdca26"
             ],
             [
              1,
              "#f0f921"
             ]
            ],
            "type": "contour"
           }
          ],
          "contourcarpet": [
           {
            "colorbar": {
             "outlinewidth": 0,
             "ticks": ""
            },
            "type": "contourcarpet"
           }
          ],
          "heatmap": [
           {
            "colorbar": {
             "outlinewidth": 0,
             "ticks": ""
            },
            "colorscale": [
             [
              0,
              "#0d0887"
             ],
             [
              0.1111111111111111,
              "#46039f"
             ],
             [
              0.2222222222222222,
              "#7201a8"
             ],
             [
              0.3333333333333333,
              "#9c179e"
             ],
             [
              0.4444444444444444,
              "#bd3786"
             ],
             [
              0.5555555555555556,
              "#d8576b"
             ],
             [
              0.6666666666666666,
              "#ed7953"
             ],
             [
              0.7777777777777778,
              "#fb9f3a"
             ],
             [
              0.8888888888888888,
              "#fdca26"
             ],
             [
              1,
              "#f0f921"
             ]
            ],
            "type": "heatmap"
           }
          ],
          "heatmapgl": [
           {
            "colorbar": {
             "outlinewidth": 0,
             "ticks": ""
            },
            "colorscale": [
             [
              0,
              "#0d0887"
             ],
             [
              0.1111111111111111,
              "#46039f"
             ],
             [
              0.2222222222222222,
              "#7201a8"
             ],
             [
              0.3333333333333333,
              "#9c179e"
             ],
             [
              0.4444444444444444,
              "#bd3786"
             ],
             [
              0.5555555555555556,
              "#d8576b"
             ],
             [
              0.6666666666666666,
              "#ed7953"
             ],
             [
              0.7777777777777778,
              "#fb9f3a"
             ],
             [
              0.8888888888888888,
              "#fdca26"
             ],
             [
              1,
              "#f0f921"
             ]
            ],
            "type": "heatmapgl"
           }
          ],
          "histogram": [
           {
            "marker": {
             "colorbar": {
              "outlinewidth": 0,
              "ticks": ""
             }
            },
            "type": "histogram"
           }
          ],
          "histogram2d": [
           {
            "colorbar": {
             "outlinewidth": 0,
             "ticks": ""
            },
            "colorscale": [
             [
              0,
              "#0d0887"
             ],
             [
              0.1111111111111111,
              "#46039f"
             ],
             [
              0.2222222222222222,
              "#7201a8"
             ],
             [
              0.3333333333333333,
              "#9c179e"
             ],
             [
              0.4444444444444444,
              "#bd3786"
             ],
             [
              0.5555555555555556,
              "#d8576b"
             ],
             [
              0.6666666666666666,
              "#ed7953"
             ],
             [
              0.7777777777777778,
              "#fb9f3a"
             ],
             [
              0.8888888888888888,
              "#fdca26"
             ],
             [
              1,
              "#f0f921"
             ]
            ],
            "type": "histogram2d"
           }
          ],
          "histogram2dcontour": [
           {
            "colorbar": {
             "outlinewidth": 0,
             "ticks": ""
            },
            "colorscale": [
             [
              0,
              "#0d0887"
             ],
             [
              0.1111111111111111,
              "#46039f"
             ],
             [
              0.2222222222222222,
              "#7201a8"
             ],
             [
              0.3333333333333333,
              "#9c179e"
             ],
             [
              0.4444444444444444,
              "#bd3786"
             ],
             [
              0.5555555555555556,
              "#d8576b"
             ],
             [
              0.6666666666666666,
              "#ed7953"
             ],
             [
              0.7777777777777778,
              "#fb9f3a"
             ],
             [
              0.8888888888888888,
              "#fdca26"
             ],
             [
              1,
              "#f0f921"
             ]
            ],
            "type": "histogram2dcontour"
           }
          ],
          "mesh3d": [
           {
            "colorbar": {
             "outlinewidth": 0,
             "ticks": ""
            },
            "type": "mesh3d"
           }
          ],
          "parcoords": [
           {
            "line": {
             "colorbar": {
              "outlinewidth": 0,
              "ticks": ""
             }
            },
            "type": "parcoords"
           }
          ],
          "pie": [
           {
            "automargin": true,
            "type": "pie"
           }
          ],
          "scatter": [
           {
            "marker": {
             "colorbar": {
              "outlinewidth": 0,
              "ticks": ""
             }
            },
            "type": "scatter"
           }
          ],
          "scatter3d": [
           {
            "line": {
             "colorbar": {
              "outlinewidth": 0,
              "ticks": ""
             }
            },
            "marker": {
             "colorbar": {
              "outlinewidth": 0,
              "ticks": ""
             }
            },
            "type": "scatter3d"
           }
          ],
          "scattercarpet": [
           {
            "marker": {
             "colorbar": {
              "outlinewidth": 0,
              "ticks": ""
             }
            },
            "type": "scattercarpet"
           }
          ],
          "scattergeo": [
           {
            "marker": {
             "colorbar": {
              "outlinewidth": 0,
              "ticks": ""
             }
            },
            "type": "scattergeo"
           }
          ],
          "scattergl": [
           {
            "marker": {
             "colorbar": {
              "outlinewidth": 0,
              "ticks": ""
             }
            },
            "type": "scattergl"
           }
          ],
          "scattermapbox": [
           {
            "marker": {
             "colorbar": {
              "outlinewidth": 0,
              "ticks": ""
             }
            },
            "type": "scattermapbox"
           }
          ],
          "scatterpolar": [
           {
            "marker": {
             "colorbar": {
              "outlinewidth": 0,
              "ticks": ""
             }
            },
            "type": "scatterpolar"
           }
          ],
          "scatterpolargl": [
           {
            "marker": {
             "colorbar": {
              "outlinewidth": 0,
              "ticks": ""
             }
            },
            "type": "scatterpolargl"
           }
          ],
          "scatterternary": [
           {
            "marker": {
             "colorbar": {
              "outlinewidth": 0,
              "ticks": ""
             }
            },
            "type": "scatterternary"
           }
          ],
          "surface": [
           {
            "colorbar": {
             "outlinewidth": 0,
             "ticks": ""
            },
            "colorscale": [
             [
              0,
              "#0d0887"
             ],
             [
              0.1111111111111111,
              "#46039f"
             ],
             [
              0.2222222222222222,
              "#7201a8"
             ],
             [
              0.3333333333333333,
              "#9c179e"
             ],
             [
              0.4444444444444444,
              "#bd3786"
             ],
             [
              0.5555555555555556,
              "#d8576b"
             ],
             [
              0.6666666666666666,
              "#ed7953"
             ],
             [
              0.7777777777777778,
              "#fb9f3a"
             ],
             [
              0.8888888888888888,
              "#fdca26"
             ],
             [
              1,
              "#f0f921"
             ]
            ],
            "type": "surface"
           }
          ],
          "table": [
           {
            "cells": {
             "fill": {
              "color": "#EBF0F8"
             },
             "line": {
              "color": "white"
             }
            },
            "header": {
             "fill": {
              "color": "#C8D4E3"
             },
             "line": {
              "color": "white"
             }
            },
            "type": "table"
           }
          ]
         },
         "layout": {
          "annotationdefaults": {
           "arrowcolor": "#2a3f5f",
           "arrowhead": 0,
           "arrowwidth": 1
          },
          "coloraxis": {
           "colorbar": {
            "outlinewidth": 0,
            "ticks": ""
           }
          },
          "colorscale": {
           "diverging": [
            [
             0,
             "#8e0152"
            ],
            [
             0.1,
             "#c51b7d"
            ],
            [
             0.2,
             "#de77ae"
            ],
            [
             0.3,
             "#f1b6da"
            ],
            [
             0.4,
             "#fde0ef"
            ],
            [
             0.5,
             "#f7f7f7"
            ],
            [
             0.6,
             "#e6f5d0"
            ],
            [
             0.7,
             "#b8e186"
            ],
            [
             0.8,
             "#7fbc41"
            ],
            [
             0.9,
             "#4d9221"
            ],
            [
             1,
             "#276419"
            ]
           ],
           "sequential": [
            [
             0,
             "#0d0887"
            ],
            [
             0.1111111111111111,
             "#46039f"
            ],
            [
             0.2222222222222222,
             "#7201a8"
            ],
            [
             0.3333333333333333,
             "#9c179e"
            ],
            [
             0.4444444444444444,
             "#bd3786"
            ],
            [
             0.5555555555555556,
             "#d8576b"
            ],
            [
             0.6666666666666666,
             "#ed7953"
            ],
            [
             0.7777777777777778,
             "#fb9f3a"
            ],
            [
             0.8888888888888888,
             "#fdca26"
            ],
            [
             1,
             "#f0f921"
            ]
           ],
           "sequentialminus": [
            [
             0,
             "#0d0887"
            ],
            [
             0.1111111111111111,
             "#46039f"
            ],
            [
             0.2222222222222222,
             "#7201a8"
            ],
            [
             0.3333333333333333,
             "#9c179e"
            ],
            [
             0.4444444444444444,
             "#bd3786"
            ],
            [
             0.5555555555555556,
             "#d8576b"
            ],
            [
             0.6666666666666666,
             "#ed7953"
            ],
            [
             0.7777777777777778,
             "#fb9f3a"
            ],
            [
             0.8888888888888888,
             "#fdca26"
            ],
            [
             1,
             "#f0f921"
            ]
           ]
          },
          "colorway": [
           "#636efa",
           "#EF553B",
           "#00cc96",
           "#ab63fa",
           "#FFA15A",
           "#19d3f3",
           "#FF6692",
           "#B6E880",
           "#FF97FF",
           "#FECB52"
          ],
          "font": {
           "color": "#2a3f5f"
          },
          "geo": {
           "bgcolor": "white",
           "lakecolor": "white",
           "landcolor": "#E5ECF6",
           "showlakes": true,
           "showland": true,
           "subunitcolor": "white"
          },
          "hoverlabel": {
           "align": "left"
          },
          "hovermode": "closest",
          "mapbox": {
           "style": "light"
          },
          "paper_bgcolor": "white",
          "plot_bgcolor": "#E5ECF6",
          "polar": {
           "angularaxis": {
            "gridcolor": "white",
            "linecolor": "white",
            "ticks": ""
           },
           "bgcolor": "#E5ECF6",
           "radialaxis": {
            "gridcolor": "white",
            "linecolor": "white",
            "ticks": ""
           }
          },
          "scene": {
           "xaxis": {
            "backgroundcolor": "#E5ECF6",
            "gridcolor": "white",
            "gridwidth": 2,
            "linecolor": "white",
            "showbackground": true,
            "ticks": "",
            "zerolinecolor": "white"
           },
           "yaxis": {
            "backgroundcolor": "#E5ECF6",
            "gridcolor": "white",
            "gridwidth": 2,
            "linecolor": "white",
            "showbackground": true,
            "ticks": "",
            "zerolinecolor": "white"
           },
           "zaxis": {
            "backgroundcolor": "#E5ECF6",
            "gridcolor": "white",
            "gridwidth": 2,
            "linecolor": "white",
            "showbackground": true,
            "ticks": "",
            "zerolinecolor": "white"
           }
          },
          "shapedefaults": {
           "line": {
            "color": "#2a3f5f"
           }
          },
          "ternary": {
           "aaxis": {
            "gridcolor": "white",
            "linecolor": "white",
            "ticks": ""
           },
           "baxis": {
            "gridcolor": "white",
            "linecolor": "white",
            "ticks": ""
           },
           "bgcolor": "#E5ECF6",
           "caxis": {
            "gridcolor": "white",
            "linecolor": "white",
            "ticks": ""
           }
          },
          "title": {
           "x": 0.05
          },
          "xaxis": {
           "automargin": true,
           "gridcolor": "white",
           "linecolor": "white",
           "ticks": "",
           "title": {
            "standoff": 15
           },
           "zerolinecolor": "white",
           "zerolinewidth": 2
          },
          "yaxis": {
           "automargin": true,
           "gridcolor": "white",
           "linecolor": "white",
           "ticks": "",
           "title": {
            "standoff": 15
           },
           "zerolinecolor": "white",
           "zerolinewidth": 2
          }
         }
        }
       }
      },
      "image/png": "[encoded data removed]",
      "text/html": [
       "<div>\n",
       "        \n",
       "        \n",
       "            <div id=\"3723bfc8-0e0d-4c70-a1dd-c9666fd690fd\" class=\"plotly-graph-div\" style=\"height:525px; width:100%;\"></div>\n",
       "            <script type=\"text/javascript\">\n",
       "                require([\"plotly\"], function(Plotly) {\n",
       "                    window.PLOTLYENV=window.PLOTLYENV || {};\n",
       "                    \n",
       "                if (document.getElementById(\"3723bfc8-0e0d-4c70-a1dd-c9666fd690fd\")) {\n",
       "                    Plotly.newPlot(\n",
       "                        '3723bfc8-0e0d-4c70-a1dd-c9666fd690fd',\n",
       "                        [{\"coloraxis\": \"coloraxis\", \"geo\": \"geo\", \"hovertemplate\": \"State Name=%{location}<br>Ages 6-21=%{z}<extra></extra>\", \"locationmode\": \"USA-states\", \"locations\": [\"AL\", \"AK\", \"AS\", \"AZ\", \"AR\", \"Bureau of Indian Education\", \"CA\", \"CO\", \"CT\", \"DE\", \"DC\", \"Federated States of Micronesia\", \"FL\", \"GA\", \"GU\", \"HI\", \"ID\", \"IL\", \"IN\", \"IA\", \"KS\", \"KY\", \"LA\", \"ME\", \"MD\", \"MA\", \"MI\", \"MN\", \"MS\", \"MO\", \"MT\", \"NE\", \"NV\", \"NH\", \"NJ\", \"NM\", \"NY\", \"NC\", \"ND\", \"Northern Marianas\", \"OH\", \"OK\", \"OR\", \"PA\", \"PR\", \"Republic of Palau\", \"Republic of the Marshall Islands\", \"RI\", \"SC\", \"SD\", \"TN\", \"TX\", \"UT\", \"VT\", \"VI\", \"VA\", \"WA\", \"WV\", \"WI\", \"WY\", \"US, Outlying Areas, and Freely Associated States\"], \"name\": \"\", \"type\": \"choropleth\", \"z\": [85436, 17002, 505, 128066, 61366, 6514, 701812, 90715, 72551, 21581, 12218, 1689, 363720, 200450, 1780, 17037, 30444, 259914, 159597, 60561, 63406, 87926, 76345, 30740, 95918, 158250, 177721, 123101, 61172, 114033, 17658, 45454, 51677, 26243, 220362, 47389, 457354, 181547, 13559, 856, 244671, 104980, 77432, 290896, 91338, 80, 594, 20935, 96729, 18789, 115637, 478435, 75791, 12861, 974, 156643, 130488, 41938, 0, 12348, 6315228]}],\n",
       "                        {\"coloraxis\": {\"colorbar\": {\"title\": {\"text\": \"Ages 6-21\"}}, \"colorscale\": [[0.0, \"rgb(209, 238, 234)\"], [0.16666666666666666, \"rgb(168, 219, 217)\"], [0.3333333333333333, \"rgb(133, 196, 201)\"], [0.5, \"rgb(104, 171, 184)\"], [0.6666666666666666, \"rgb(79, 144, 166)\"], [0.8333333333333334, \"rgb(59, 115, 143)\"], [1.0, \"rgb(42, 86, 116)\"]]}, \"geo\": {\"center\": {}, \"domain\": {\"x\": [0.0, 1.0], \"y\": [0.0, 1.0]}}, \"legend\": {\"tracegroupgap\": 0}, \"margin\": {\"b\": 0, \"l\": 0, \"r\": 0, \"t\": 0}, \"template\": {\"data\": {\"bar\": [{\"error_x\": {\"color\": \"#2a3f5f\"}, \"error_y\": {\"color\": \"#2a3f5f\"}, \"marker\": {\"line\": {\"color\": \"#E5ECF6\", \"width\": 0.5}}, \"type\": \"bar\"}], \"barpolar\": [{\"marker\": {\"line\": {\"color\": \"#E5ECF6\", \"width\": 0.5}}, \"type\": \"barpolar\"}], \"carpet\": [{\"aaxis\": {\"endlinecolor\": \"#2a3f5f\", \"gridcolor\": \"white\", \"linecolor\": \"white\", \"minorgridcolor\": \"white\", \"startlinecolor\": \"#2a3f5f\"}, \"baxis\": {\"endlinecolor\": \"#2a3f5f\", \"gridcolor\": \"white\", \"linecolor\": \"white\", \"minorgridcolor\": \"white\", \"startlinecolor\": \"#2a3f5f\"}, \"type\": \"carpet\"}], \"choropleth\": [{\"colorbar\": {\"outlinewidth\": 0, \"ticks\": \"\"}, \"type\": \"choropleth\"}], \"contour\": [{\"colorbar\": {\"outlinewidth\": 0, \"ticks\": \"\"}, \"colorscale\": [[0.0, \"#0d0887\"], [0.1111111111111111, \"#46039f\"], [0.2222222222222222, \"#7201a8\"], [0.3333333333333333, \"#9c179e\"], [0.4444444444444444, \"#bd3786\"], [0.5555555555555556, \"#d8576b\"], [0.6666666666666666, \"#ed7953\"], [0.7777777777777778, \"#fb9f3a\"], [0.8888888888888888, \"#fdca26\"], [1.0, \"#f0f921\"]], \"type\": \"contour\"}], \"contourcarpet\": [{\"colorbar\": {\"outlinewidth\": 0, \"ticks\": \"\"}, \"type\": \"contourcarpet\"}], \"heatmap\": [{\"colorbar\": {\"outlinewidth\": 0, \"ticks\": \"\"}, \"colorscale\": [[0.0, \"#0d0887\"], [0.1111111111111111, \"#46039f\"], [0.2222222222222222, \"#7201a8\"], [0.3333333333333333, \"#9c179e\"], [0.4444444444444444, \"#bd3786\"], [0.5555555555555556, \"#d8576b\"], [0.6666666666666666, \"#ed7953\"], [0.7777777777777778, \"#fb9f3a\"], [0.8888888888888888, \"#fdca26\"], [1.0, \"#f0f921\"]], \"type\": \"heatmap\"}], \"heatmapgl\": [{\"colorbar\": {\"outlinewidth\": 0, \"ticks\": \"\"}, \"colorscale\": [[0.0, \"#0d0887\"], [0.1111111111111111, \"#46039f\"], [0.2222222222222222, \"#7201a8\"], [0.3333333333333333, \"#9c179e\"], [0.4444444444444444, \"#bd3786\"], [0.5555555555555556, \"#d8576b\"], [0.6666666666666666, \"#ed7953\"], [0.7777777777777778, \"#fb9f3a\"], [0.8888888888888888, \"#fdca26\"], [1.0, \"#f0f921\"]], \"type\": \"heatmapgl\"}], \"histogram\": [{\"marker\": {\"colorbar\": {\"outlinewidth\": 0, \"ticks\": \"\"}}, \"type\": \"histogram\"}], \"histogram2d\": [{\"colorbar\": {\"outlinewidth\": 0, \"ticks\": \"\"}, \"colorscale\": [[0.0, \"#0d0887\"], [0.1111111111111111, \"#46039f\"], [0.2222222222222222, \"#7201a8\"], [0.3333333333333333, \"#9c179e\"], [0.4444444444444444, \"#bd3786\"], [0.5555555555555556, \"#d8576b\"], [0.6666666666666666, \"#ed7953\"], [0.7777777777777778, \"#fb9f3a\"], [0.8888888888888888, \"#fdca26\"], [1.0, \"#f0f921\"]], \"type\": \"histogram2d\"}], \"histogram2dcontour\": [{\"colorbar\": {\"outlinewidth\": 0, \"ticks\": \"\"}, \"colorscale\": [[0.0, \"#0d0887\"], [0.1111111111111111, \"#46039f\"], [0.2222222222222222, \"#7201a8\"], [0.3333333333333333, \"#9c179e\"], [0.4444444444444444, \"#bd3786\"], [0.5555555555555556, \"#d8576b\"], [0.6666666666666666, \"#ed7953\"], [0.7777777777777778, \"#fb9f3a\"], [0.8888888888888888, \"#fdca26\"], [1.0, \"#f0f921\"]], \"type\": \"histogram2dcontour\"}], \"mesh3d\": [{\"colorbar\": {\"outlinewidth\": 0, \"ticks\": \"\"}, \"type\": \"mesh3d\"}], \"parcoords\": [{\"line\": {\"colorbar\": {\"outlinewidth\": 0, \"ticks\": \"\"}}, \"type\": \"parcoords\"}], \"pie\": [{\"automargin\": true, \"type\": \"pie\"}], \"scatter\": [{\"marker\": {\"colorbar\": {\"outlinewidth\": 0, \"ticks\": \"\"}}, \"type\": \"scatter\"}], \"scatter3d\": [{\"line\": {\"colorbar\": {\"outlinewidth\": 0, \"ticks\": \"\"}}, \"marker\": {\"colorbar\": {\"outlinewidth\": 0, \"ticks\": \"\"}}, \"type\": \"scatter3d\"}], \"scattercarpet\": [{\"marker\": {\"colorbar\": {\"outlinewidth\": 0, \"ticks\": \"\"}}, \"type\": \"scattercarpet\"}], \"scattergeo\": [{\"marker\": {\"colorbar\": {\"outlinewidth\": 0, \"ticks\": \"\"}}, \"type\": \"scattergeo\"}], \"scattergl\": [{\"marker\": {\"colorbar\": {\"outlinewidth\": 0, \"ticks\": \"\"}}, \"type\": \"scattergl\"}], \"scattermapbox\": [{\"marker\": {\"colorbar\": {\"outlinewidth\": 0, \"ticks\": \"\"}}, \"type\": \"scattermapbox\"}], \"scatterpolar\": [{\"marker\": {\"colorbar\": {\"outlinewidth\": 0, \"ticks\": \"\"}}, \"type\": \"scatterpolar\"}], \"scatterpolargl\": [{\"marker\": {\"colorbar\": {\"outlinewidth\": 0, \"ticks\": \"\"}}, \"type\": \"scatterpolargl\"}], \"scatterternary\": [{\"marker\": {\"colorbar\": {\"outlinewidth\": 0, \"ticks\": \"\"}}, \"type\": \"scatterternary\"}], \"surface\": [{\"colorbar\": {\"outlinewidth\": 0, \"ticks\": \"\"}, \"colorscale\": [[0.0, \"#0d0887\"], [0.1111111111111111, \"#46039f\"], [0.2222222222222222, \"#7201a8\"], [0.3333333333333333, \"#9c179e\"], [0.4444444444444444, \"#bd3786\"], [0.5555555555555556, \"#d8576b\"], [0.6666666666666666, \"#ed7953\"], [0.7777777777777778, \"#fb9f3a\"], [0.8888888888888888, \"#fdca26\"], [1.0, \"#f0f921\"]], \"type\": \"surface\"}], \"table\": [{\"cells\": {\"fill\": {\"color\": \"#EBF0F8\"}, \"line\": {\"color\": \"white\"}}, \"header\": {\"fill\": {\"color\": \"#C8D4E3\"}, \"line\": {\"color\": \"white\"}}, \"type\": \"table\"}]}, \"layout\": {\"annotationdefaults\": {\"arrowcolor\": \"#2a3f5f\", \"arrowhead\": 0, \"arrowwidth\": 1}, \"coloraxis\": {\"colorbar\": {\"outlinewidth\": 0, \"ticks\": \"\"}}, \"colorscale\": {\"diverging\": [[0, \"#8e0152\"], [0.1, \"#c51b7d\"], [0.2, \"#de77ae\"], [0.3, \"#f1b6da\"], [0.4, \"#fde0ef\"], [0.5, \"#f7f7f7\"], [0.6, \"#e6f5d0\"], [0.7, \"#b8e186\"], [0.8, \"#7fbc41\"], [0.9, \"#4d9221\"], [1, \"#276419\"]], \"sequential\": [[0.0, \"#0d0887\"], [0.1111111111111111, \"#46039f\"], [0.2222222222222222, \"#7201a8\"], [0.3333333333333333, \"#9c179e\"], [0.4444444444444444, \"#bd3786\"], [0.5555555555555556, \"#d8576b\"], [0.6666666666666666, \"#ed7953\"], [0.7777777777777778, \"#fb9f3a\"], [0.8888888888888888, \"#fdca26\"], [1.0, \"#f0f921\"]], \"sequentialminus\": [[0.0, \"#0d0887\"], [0.1111111111111111, \"#46039f\"], [0.2222222222222222, \"#7201a8\"], [0.3333333333333333, \"#9c179e\"], [0.4444444444444444, \"#bd3786\"], [0.5555555555555556, \"#d8576b\"], [0.6666666666666666, \"#ed7953\"], [0.7777777777777778, \"#fb9f3a\"], [0.8888888888888888, \"#fdca26\"], [1.0, \"#f0f921\"]]}, \"colorway\": [\"#636efa\", \"#EF553B\", \"#00cc96\", \"#ab63fa\", \"#FFA15A\", \"#19d3f3\", \"#FF6692\", \"#B6E880\", \"#FF97FF\", \"#FECB52\"], \"font\": {\"color\": \"#2a3f5f\"}, \"geo\": {\"bgcolor\": \"white\", \"lakecolor\": \"white\", \"landcolor\": \"#E5ECF6\", \"showlakes\": true, \"showland\": true, \"subunitcolor\": \"white\"}, \"hoverlabel\": {\"align\": \"left\"}, \"hovermode\": \"closest\", \"mapbox\": {\"style\": \"light\"}, \"paper_bgcolor\": \"white\", \"plot_bgcolor\": \"#E5ECF6\", \"polar\": {\"angularaxis\": {\"gridcolor\": \"white\", \"linecolor\": \"white\", \"ticks\": \"\"}, \"bgcolor\": \"#E5ECF6\", \"radialaxis\": {\"gridcolor\": \"white\", \"linecolor\": \"white\", \"ticks\": \"\"}}, \"scene\": {\"xaxis\": {\"backgroundcolor\": \"#E5ECF6\", \"gridcolor\": \"white\", \"gridwidth\": 2, \"linecolor\": \"white\", \"showbackground\": true, \"ticks\": \"\", \"zerolinecolor\": \"white\"}, \"yaxis\": {\"backgroundcolor\": \"#E5ECF6\", \"gridcolor\": \"white\", \"gridwidth\": 2, \"linecolor\": \"white\", \"showbackground\": true, \"ticks\": \"\", \"zerolinecolor\": \"white\"}, \"zaxis\": {\"backgroundcolor\": \"#E5ECF6\", \"gridcolor\": \"white\", \"gridwidth\": 2, \"linecolor\": \"white\", \"showbackground\": true, \"ticks\": \"\", \"zerolinecolor\": \"white\"}}, \"shapedefaults\": {\"line\": {\"color\": \"#2a3f5f\"}}, \"ternary\": {\"aaxis\": {\"gridcolor\": \"white\", \"linecolor\": \"white\", \"ticks\": \"\"}, \"baxis\": {\"gridcolor\": \"white\", \"linecolor\": \"white\", \"ticks\": \"\"}, \"bgcolor\": \"#E5ECF6\", \"caxis\": {\"gridcolor\": \"white\", \"linecolor\": \"white\", \"ticks\": \"\"}}, \"title\": {\"x\": 0.05}, \"xaxis\": {\"automargin\": true, \"gridcolor\": \"white\", \"linecolor\": \"white\", \"ticks\": \"\", \"title\": {\"standoff\": 15}, \"zerolinecolor\": \"white\", \"zerolinewidth\": 2}, \"yaxis\": {\"automargin\": true, \"gridcolor\": \"white\", \"linecolor\": \"white\", \"ticks\": \"\", \"title\": {\"standoff\": 15}, \"zerolinecolor\": \"white\", \"zerolinewidth\": 2}}}},\n",
       "                        {\"responsive\": true}\n",
       "                    ).then(function(){\n",
       "                            \n",
       "var gd = document.getElementById('3723bfc8-0e0d-4c70-a1dd-c9666fd690fd');\n",
       "var x = new MutationObserver(function (mutations, observer) {{\n",
       "        var display = window.getComputedStyle(gd).display;\n",
       "        if (!display || display === 'none') {{\n",
       "            console.log([gd, 'removed!']);\n",
       "            Plotly.purge(gd);\n",
       "            observer.disconnect();\n",
       "        }}\n",
       "}});\n",
       "\n",
       "// Listen for the removal of the full notebook cells\n",
       "var notebookContainer = gd.closest('#notebook-container');\n",
       "if (notebookContainer) {{\n",
       "    x.observe(notebookContainer, {childList: true});\n",
       "}}\n",
       "\n",
       "// Listen for the clearing of the current output cell\n",
       "var outputEl = gd.closest('.output');\n",
       "if (outputEl) {{\n",
       "    x.observe(outputEl, {childList: true});\n",
       "}}\n",
       "\n",
       "                        })\n",
       "                };\n",
       "                });\n",
       "            </script>\n",
       "        </div>"
      ]
     },
     "metadata": {},
     "output_type": "display_data"
    }
   ],
   "source": [
    "fig = px.choropleth(tot6_21_ALL, locations='State Name', locationmode ='USA-states', color='Ages 6-21',\n",
    "                     color_continuous_scale='Teal')\n",
    "fig.update_layout(margin={\"r\":0,\"t\":0,\"l\":0,\"b\":0})\n",
    "fig.show()"
   ]
  },
  {
   "cell_type": "code",
   "execution_count": null,
   "metadata": {},
   "outputs": [],
   "source": []
  },
  {
   "cell_type": "code",
   "execution_count": null,
   "metadata": {},
   "outputs": [],
   "source": []
  }
 ],
 "metadata": {
  "kernelspec": {
   "display_name": "Python 3",
   "language": "python",
   "name": "python3"
  },
  "language_info": {
   "codemirror_mode": {
    "name": "ipython",
    "version": 3
   },
   "file_extension": ".py",
   "mimetype": "text/x-python",
   "name": "python",
   "nbconvert_exporter": "python",
   "pygments_lexer": "ipython3",
   "version": "3.7.3"
  }
 },
 "nbformat": 4,
 "nbformat_minor": 4
}
