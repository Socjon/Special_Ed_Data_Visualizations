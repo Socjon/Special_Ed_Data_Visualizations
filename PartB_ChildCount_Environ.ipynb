{
 "cells": [
  {
   "cell_type": "code",
   "execution_count": 6,
   "metadata": {},
   "outputs": [],
   "source": [
    "import pandas as pd\n",
    "import numpy as np\n",
    "import plotly.express as px"
   ]
  },
  {
   "cell_type": "code",
   "execution_count": 2,
   "metadata": {},
   "outputs": [
    {
     "name": "stderr",
     "output_type": "stream",
     "text": [
      "/anaconda3/lib/python3.7/site-packages/ipykernel_launcher.py:1: ParserWarning: Falling back to the 'python' engine because the 'c' engine does not support skipfooter; you can avoid this warning by specifying engine='python'.\n",
      "  \"\"\"Entry point for launching an IPython kernel.\n"
     ]
    }
   ],
   "source": [
    "cc = pd.read_csv('https://www2.ed.gov/programs/osepidea/618-data/state-level-data-files/part-b-data/child-count-and-educational-environments/bchildcountandedenvironments2018-19.csv', skiprows=3, header=1, skipfooter=5)"
   ]
  },
  {
   "cell_type": "code",
   "execution_count": 3,
   "metadata": {},
   "outputs": [
    {
     "data": {
      "text/html": [
       "<div>\n",
       "<style scoped>\n",
       "    .dataframe tbody tr th:only-of-type {\n",
       "        vertical-align: middle;\n",
       "    }\n",
       "\n",
       "    .dataframe tbody tr th {\n",
       "        vertical-align: top;\n",
       "    }\n",
       "\n",
       "    .dataframe thead th {\n",
       "        text-align: right;\n",
       "    }\n",
       "</style>\n",
       "<table border=\"1\" class=\"dataframe\">\n",
       "  <thead>\n",
       "    <tr style=\"text-align: right;\">\n",
       "      <th></th>\n",
       "      <th>Year</th>\n",
       "      <th>State Name</th>\n",
       "      <th>SEA Education Environment</th>\n",
       "      <th>SEA Disability Category</th>\n",
       "      <th>Age 3</th>\n",
       "      <th>Age 4</th>\n",
       "      <th>Age 5</th>\n",
       "      <th>American Indian or Alaska Native Age 3 to 5</th>\n",
       "      <th>Asian Age 3-5</th>\n",
       "      <th>Black or African American Age 3-5</th>\n",
       "      <th>...</th>\n",
       "      <th>EL No Age 6 to 21</th>\n",
       "      <th>Female Age 6 to 21</th>\n",
       "      <th>Male Age 6 to 21</th>\n",
       "      <th>American Indian or Alaska Native Age 6 to21</th>\n",
       "      <th>Asian Age 6 to21</th>\n",
       "      <th>Black or African American Age 6 to21</th>\n",
       "      <th>Hispanic/Latino Age 6 to21</th>\n",
       "      <th>Native Hawaiian or Other Pacific Islander Age 6 to21</th>\n",
       "      <th>Two or more races Age 6 to21</th>\n",
       "      <th>White Age 6 to21</th>\n",
       "    </tr>\n",
       "  </thead>\n",
       "  <tbody>\n",
       "    <tr>\n",
       "      <th>0</th>\n",
       "      <td>2018</td>\n",
       "      <td>Alabama</td>\n",
       "      <td>Correctional Facilities</td>\n",
       "      <td>All Disabilities</td>\n",
       "      <td>-</td>\n",
       "      <td>-</td>\n",
       "      <td>-</td>\n",
       "      <td>-</td>\n",
       "      <td>-</td>\n",
       "      <td>-</td>\n",
       "      <td>...</td>\n",
       "      <td>52</td>\n",
       "      <td>1</td>\n",
       "      <td>51</td>\n",
       "      <td>0</td>\n",
       "      <td>0</td>\n",
       "      <td>43</td>\n",
       "      <td>0</td>\n",
       "      <td>0</td>\n",
       "      <td>0</td>\n",
       "      <td>9</td>\n",
       "    </tr>\n",
       "    <tr>\n",
       "      <th>1</th>\n",
       "      <td>2018</td>\n",
       "      <td>Alabama</td>\n",
       "      <td>Home</td>\n",
       "      <td>All Disabilities</td>\n",
       "      <td>39</td>\n",
       "      <td>38</td>\n",
       "      <td>27</td>\n",
       "      <td>1</td>\n",
       "      <td>0</td>\n",
       "      <td>10</td>\n",
       "      <td>...</td>\n",
       "      <td>-</td>\n",
       "      <td>-</td>\n",
       "      <td>-</td>\n",
       "      <td>-</td>\n",
       "      <td>-</td>\n",
       "      <td>-</td>\n",
       "      <td>-</td>\n",
       "      <td>-</td>\n",
       "      <td>-</td>\n",
       "      <td>-</td>\n",
       "    </tr>\n",
       "    <tr>\n",
       "      <th>2</th>\n",
       "      <td>2018</td>\n",
       "      <td>Alabama</td>\n",
       "      <td>Homebound/Hospital</td>\n",
       "      <td>All Disabilities</td>\n",
       "      <td>-</td>\n",
       "      <td>-</td>\n",
       "      <td>-</td>\n",
       "      <td>-</td>\n",
       "      <td>-</td>\n",
       "      <td>-</td>\n",
       "      <td>...</td>\n",
       "      <td>284</td>\n",
       "      <td>107</td>\n",
       "      <td>183</td>\n",
       "      <td>3</td>\n",
       "      <td>6</td>\n",
       "      <td>91</td>\n",
       "      <td>15</td>\n",
       "      <td>0</td>\n",
       "      <td>1</td>\n",
       "      <td>174</td>\n",
       "    </tr>\n",
       "    <tr>\n",
       "      <th>3</th>\n",
       "      <td>2018</td>\n",
       "      <td>Alabama</td>\n",
       "      <td>Inside regular class 40% through 79% of the day</td>\n",
       "      <td>All Disabilities</td>\n",
       "      <td>-</td>\n",
       "      <td>-</td>\n",
       "      <td>-</td>\n",
       "      <td>-</td>\n",
       "      <td>-</td>\n",
       "      <td>-</td>\n",
       "      <td>...</td>\n",
       "      <td>5114</td>\n",
       "      <td>1770</td>\n",
       "      <td>3615</td>\n",
       "      <td>28</td>\n",
       "      <td>54</td>\n",
       "      <td>1962</td>\n",
       "      <td>374</td>\n",
       "      <td>5</td>\n",
       "      <td>136</td>\n",
       "      <td>2826</td>\n",
       "    </tr>\n",
       "    <tr>\n",
       "      <th>4</th>\n",
       "      <td>2018</td>\n",
       "      <td>Alabama</td>\n",
       "      <td>Inside regular class 80% or more of the day</td>\n",
       "      <td>All Disabilities</td>\n",
       "      <td>-</td>\n",
       "      <td>-</td>\n",
       "      <td>-</td>\n",
       "      <td>-</td>\n",
       "      <td>-</td>\n",
       "      <td>-</td>\n",
       "      <td>...</td>\n",
       "      <td>68599</td>\n",
       "      <td>24075</td>\n",
       "      <td>47344</td>\n",
       "      <td>662</td>\n",
       "      <td>404</td>\n",
       "      <td>26004</td>\n",
       "      <td>4571</td>\n",
       "      <td>55</td>\n",
       "      <td>1550</td>\n",
       "      <td>38173</td>\n",
       "    </tr>\n",
       "    <tr>\n",
       "      <th>...</th>\n",
       "      <td>...</td>\n",
       "      <td>...</td>\n",
       "      <td>...</td>\n",
       "      <td>...</td>\n",
       "      <td>...</td>\n",
       "      <td>...</td>\n",
       "      <td>...</td>\n",
       "      <td>...</td>\n",
       "      <td>...</td>\n",
       "      <td>...</td>\n",
       "      <td>...</td>\n",
       "      <td>...</td>\n",
       "      <td>...</td>\n",
       "      <td>...</td>\n",
       "      <td>...</td>\n",
       "      <td>...</td>\n",
       "      <td>...</td>\n",
       "      <td>...</td>\n",
       "      <td>...</td>\n",
       "      <td>...</td>\n",
       "      <td>...</td>\n",
       "    </tr>\n",
       "    <tr>\n",
       "      <th>16221</th>\n",
       "      <td>2018</td>\n",
       "      <td>US, Outlying Areas, and Freely Associated States</td>\n",
       "      <td>Services in Other Location than Regular Early ...</td>\n",
       "      <td>Visual impairment</td>\n",
       "      <td>-</td>\n",
       "      <td>-</td>\n",
       "      <td>-</td>\n",
       "      <td>-</td>\n",
       "      <td>-</td>\n",
       "      <td>-</td>\n",
       "      <td>...</td>\n",
       "      <td>-</td>\n",
       "      <td>-</td>\n",
       "      <td>-</td>\n",
       "      <td>-</td>\n",
       "      <td>-</td>\n",
       "      <td>-</td>\n",
       "      <td>-</td>\n",
       "      <td>-</td>\n",
       "      <td>-</td>\n",
       "      <td>-</td>\n",
       "    </tr>\n",
       "    <tr>\n",
       "      <th>16222</th>\n",
       "      <td>2018</td>\n",
       "      <td>US, Outlying Areas, and Freely Associated States</td>\n",
       "      <td>Services in Regular Early Childhood Program (a...</td>\n",
       "      <td>Visual impairment</td>\n",
       "      <td>-</td>\n",
       "      <td>-</td>\n",
       "      <td>-</td>\n",
       "      <td>-</td>\n",
       "      <td>-</td>\n",
       "      <td>-</td>\n",
       "      <td>...</td>\n",
       "      <td>-</td>\n",
       "      <td>-</td>\n",
       "      <td>-</td>\n",
       "      <td>-</td>\n",
       "      <td>-</td>\n",
       "      <td>-</td>\n",
       "      <td>-</td>\n",
       "      <td>-</td>\n",
       "      <td>-</td>\n",
       "      <td>-</td>\n",
       "    </tr>\n",
       "    <tr>\n",
       "      <th>16223</th>\n",
       "      <td>2018</td>\n",
       "      <td>US, Outlying Areas, and Freely Associated States</td>\n",
       "      <td>Services in Regular Early Childhood Program (a...</td>\n",
       "      <td>Visual impairment</td>\n",
       "      <td>-</td>\n",
       "      <td>-</td>\n",
       "      <td>-</td>\n",
       "      <td>-</td>\n",
       "      <td>-</td>\n",
       "      <td>-</td>\n",
       "      <td>...</td>\n",
       "      <td>-</td>\n",
       "      <td>-</td>\n",
       "      <td>-</td>\n",
       "      <td>-</td>\n",
       "      <td>-</td>\n",
       "      <td>-</td>\n",
       "      <td>-</td>\n",
       "      <td>-</td>\n",
       "      <td>-</td>\n",
       "      <td>-</td>\n",
       "    </tr>\n",
       "    <tr>\n",
       "      <th>16224</th>\n",
       "      <td>2018</td>\n",
       "      <td>US, Outlying Areas, and Freely Associated States</td>\n",
       "      <td>Total, Age 3-5</td>\n",
       "      <td>Visual impairment</td>\n",
       "      <td>-</td>\n",
       "      <td>-</td>\n",
       "      <td>-</td>\n",
       "      <td>30</td>\n",
       "      <td>126</td>\n",
       "      <td>283</td>\n",
       "      <td>...</td>\n",
       "      <td>-</td>\n",
       "      <td>-</td>\n",
       "      <td>-</td>\n",
       "      <td>-</td>\n",
       "      <td>-</td>\n",
       "      <td>-</td>\n",
       "      <td>-</td>\n",
       "      <td>-</td>\n",
       "      <td>-</td>\n",
       "      <td>-</td>\n",
       "    </tr>\n",
       "    <tr>\n",
       "      <th>16225</th>\n",
       "      <td>2018</td>\n",
       "      <td>US, Outlying Areas, and Freely Associated States</td>\n",
       "      <td>Total, Age 6-21</td>\n",
       "      <td>Visual impairment</td>\n",
       "      <td>-</td>\n",
       "      <td>-</td>\n",
       "      <td>-</td>\n",
       "      <td>-</td>\n",
       "      <td>-</td>\n",
       "      <td>-</td>\n",
       "      <td>...</td>\n",
       "      <td>21728</td>\n",
       "      <td>10839</td>\n",
       "      <td>13177</td>\n",
       "      <td>353</td>\n",
       "      <td>1154</td>\n",
       "      <td>3638</td>\n",
       "      <td>5969</td>\n",
       "      <td>200</td>\n",
       "      <td>848</td>\n",
       "      <td>12006</td>\n",
       "    </tr>\n",
       "  </tbody>\n",
       "</table>\n",
       "<p>16226 rows × 50 columns</p>\n",
       "</div>"
      ],
      "text/plain": [
       "       Year                                        State Name  \\\n",
       "0      2018                                           Alabama   \n",
       "1      2018                                           Alabama   \n",
       "2      2018                                           Alabama   \n",
       "3      2018                                           Alabama   \n",
       "4      2018                                           Alabama   \n",
       "...     ...                                               ...   \n",
       "16221  2018  US, Outlying Areas, and Freely Associated States   \n",
       "16222  2018  US, Outlying Areas, and Freely Associated States   \n",
       "16223  2018  US, Outlying Areas, and Freely Associated States   \n",
       "16224  2018  US, Outlying Areas, and Freely Associated States   \n",
       "16225  2018  US, Outlying Areas, and Freely Associated States   \n",
       "\n",
       "                               SEA Education Environment  \\\n",
       "0                                Correctional Facilities   \n",
       "1                                                   Home   \n",
       "2                                     Homebound/Hospital   \n",
       "3        Inside regular class 40% through 79% of the day   \n",
       "4            Inside regular class 80% or more of the day   \n",
       "...                                                  ...   \n",
       "16221  Services in Other Location than Regular Early ...   \n",
       "16222  Services in Regular Early Childhood Program (a...   \n",
       "16223  Services in Regular Early Childhood Program (a...   \n",
       "16224                                     Total, Age 3-5   \n",
       "16225                                    Total, Age 6-21   \n",
       "\n",
       "      SEA Disability Category Age 3 Age 4 Age 5  \\\n",
       "0            All Disabilities     -     -     -   \n",
       "1            All Disabilities    39    38    27   \n",
       "2            All Disabilities     -     -     -   \n",
       "3            All Disabilities     -     -     -   \n",
       "4            All Disabilities     -     -     -   \n",
       "...                       ...   ...   ...   ...   \n",
       "16221       Visual impairment     -     -     -   \n",
       "16222       Visual impairment     -     -     -   \n",
       "16223       Visual impairment     -     -     -   \n",
       "16224       Visual impairment     -     -     -   \n",
       "16225       Visual impairment     -     -     -   \n",
       "\n",
       "      American Indian or Alaska Native Age 3 to 5  Asian Age 3-5   \\\n",
       "0                                                -              -   \n",
       "1                                                1              0   \n",
       "2                                                -              -   \n",
       "3                                                -              -   \n",
       "4                                                -              -   \n",
       "...                                            ...            ...   \n",
       "16221                                            -              -   \n",
       "16222                                            -              -   \n",
       "16223                                            -              -   \n",
       "16224                                           30            126   \n",
       "16225                                            -              -   \n",
       "\n",
       "      Black or African American Age 3-5   ... EL No Age 6 to 21  \\\n",
       "0                                      -  ...                52   \n",
       "1                                     10  ...                 -   \n",
       "2                                      -  ...               284   \n",
       "3                                      -  ...              5114   \n",
       "4                                      -  ...             68599   \n",
       "...                                  ...  ...               ...   \n",
       "16221                                  -  ...                 -   \n",
       "16222                                  -  ...                 -   \n",
       "16223                                  -  ...                 -   \n",
       "16224                                283  ...                 -   \n",
       "16225                                  -  ...             21728   \n",
       "\n",
       "      Female Age 6 to 21 Male Age 6 to 21  \\\n",
       "0                      1               51   \n",
       "1                      -                -   \n",
       "2                    107              183   \n",
       "3                   1770             3615   \n",
       "4                  24075            47344   \n",
       "...                  ...              ...   \n",
       "16221                  -                -   \n",
       "16222                  -                -   \n",
       "16223                  -                -   \n",
       "16224                  -                -   \n",
       "16225              10839            13177   \n",
       "\n",
       "      American Indian or Alaska Native Age 6 to21 Asian Age 6 to21  \\\n",
       "0                                               0                0   \n",
       "1                                               -                -   \n",
       "2                                               3                6   \n",
       "3                                              28               54   \n",
       "4                                             662              404   \n",
       "...                                           ...              ...   \n",
       "16221                                           -                -   \n",
       "16222                                           -                -   \n",
       "16223                                           -                -   \n",
       "16224                                           -                -   \n",
       "16225                                         353             1154   \n",
       "\n",
       "      Black or African American Age 6 to21 Hispanic/Latino Age 6 to21  \\\n",
       "0                                       43                          0   \n",
       "1                                        -                          -   \n",
       "2                                       91                         15   \n",
       "3                                     1962                        374   \n",
       "4                                    26004                       4571   \n",
       "...                                    ...                        ...   \n",
       "16221                                    -                          -   \n",
       "16222                                    -                          -   \n",
       "16223                                    -                          -   \n",
       "16224                                    -                          -   \n",
       "16225                                 3638                       5969   \n",
       "\n",
       "      Native Hawaiian or Other Pacific Islander Age 6 to21  \\\n",
       "0                                                      0     \n",
       "1                                                      -     \n",
       "2                                                      0     \n",
       "3                                                      5     \n",
       "4                                                     55     \n",
       "...                                                  ...     \n",
       "16221                                                  -     \n",
       "16222                                                  -     \n",
       "16223                                                  -     \n",
       "16224                                                  -     \n",
       "16225                                                200     \n",
       "\n",
       "      Two or more races Age 6 to21 White Age 6 to21  \n",
       "0                                0                9  \n",
       "1                                -                -  \n",
       "2                                1              174  \n",
       "3                              136             2826  \n",
       "4                             1550            38173  \n",
       "...                            ...              ...  \n",
       "16221                            -                -  \n",
       "16222                            -                -  \n",
       "16223                            -                -  \n",
       "16224                            -                -  \n",
       "16225                          848            12006  \n",
       "\n",
       "[16226 rows x 50 columns]"
      ]
     },
     "execution_count": 3,
     "metadata": {},
     "output_type": "execute_result"
    }
   ],
   "source": [
    "cc"
   ]
  },
  {
   "cell_type": "code",
   "execution_count": 4,
   "metadata": {},
   "outputs": [
    {
     "name": "stdout",
     "output_type": "stream",
     "text": [
      "<class 'pandas.core.frame.DataFrame'>\n",
      "RangeIndex: 16226 entries, 0 to 16225\n",
      "Data columns (total 50 columns):\n",
      " #   Column                                                Non-Null Count  Dtype \n",
      "---  ------                                                --------------  ----- \n",
      " 0   Year                                                  16226 non-null  int64 \n",
      " 1   State Name                                            16226 non-null  object\n",
      " 2   SEA Education Environment                             16226 non-null  object\n",
      " 3   SEA Disability Category                               16226 non-null  object\n",
      " 4   Age 3                                                 16226 non-null  object\n",
      " 5   Age 4                                                 16226 non-null  object\n",
      " 6   Age 5                                                 16226 non-null  object\n",
      " 7   American Indian or Alaska Native Age 3 to 5           16226 non-null  object\n",
      " 8   Asian Age 3-5                                         16226 non-null  object\n",
      " 9   Black or African American Age 3-5                     16226 non-null  object\n",
      " 10  Hispanic/Latino Age 3-5                               16226 non-null  object\n",
      " 11  Native Hawaiian or Other Pacific Islander Age 3-5     16226 non-null  object\n",
      " 12  Two or More Races Age 3-5                             16226 non-null  object\n",
      " 13  White Age 3-5                                         16226 non-null  object\n",
      " 14  Female Age 3 to 5                                     16226 non-null  object\n",
      " 15  Male Age 3 to 5                                       16226 non-null  object\n",
      " 16  EL Yes Age 3 to 5                                     16226 non-null  object\n",
      " 17  EL No Age 3 to 5                                      16226 non-null  object\n",
      " 18  Age 3 to 5                                            16226 non-null  object\n",
      " 19  Age 6                                                 16226 non-null  object\n",
      " 20  Age 7                                                 16226 non-null  object\n",
      " 21  Age 8                                                 16226 non-null  object\n",
      " 22  Age 9                                                 16226 non-null  object\n",
      " 23  Age 10                                                16226 non-null  object\n",
      " 24  Age 11                                                16226 non-null  object\n",
      " 25  Age 12                                                16226 non-null  object\n",
      " 26  Age 13                                                16226 non-null  object\n",
      " 27  Age 14                                                16226 non-null  object\n",
      " 28  Age 15                                                16226 non-null  object\n",
      " 29  Age 16                                                16226 non-null  object\n",
      " 30  Age 17                                                16226 non-null  object\n",
      " 31  Age 18                                                16226 non-null  object\n",
      " 32  Age 19                                                16226 non-null  object\n",
      " 33  Age 20                                                16226 non-null  object\n",
      " 34  Age 21                                                16226 non-null  object\n",
      " 35  Age 6-11                                              16226 non-null  object\n",
      " 36  Age 12-17                                             16226 non-null  object\n",
      " 37  Age 18-21                                             16226 non-null  object\n",
      " 38  Ages 6-21                                             16226 non-null  object\n",
      " 39  EL Yes Age 6 to 21                                    16226 non-null  object\n",
      " 40  EL No Age 6 to 21                                     16226 non-null  object\n",
      " 41  Female Age 6 to 21                                    16226 non-null  object\n",
      " 42  Male Age 6 to 21                                      16226 non-null  object\n",
      " 43  American Indian or Alaska Native Age 6 to21           16226 non-null  object\n",
      " 44  Asian Age 6 to21                                      16226 non-null  object\n",
      " 45  Black or African American Age 6 to21                  16226 non-null  object\n",
      " 46  Hispanic/Latino Age 6 to21                            16226 non-null  object\n",
      " 47  Native Hawaiian or Other Pacific Islander Age 6 to21  16226 non-null  object\n",
      " 48  Two or more races Age 6 to21                          16226 non-null  object\n",
      " 49  White Age 6 to21                                      16226 non-null  object\n",
      "dtypes: int64(1), object(49)\n",
      "memory usage: 6.2+ MB\n"
     ]
    }
   ],
   "source": [
    "cc.info()"
   ]
  },
  {
   "cell_type": "code",
   "execution_count": 7,
   "metadata": {},
   "outputs": [
    {
     "data": {
      "text/html": [
       "<div>\n",
       "<style scoped>\n",
       "    .dataframe tbody tr th:only-of-type {\n",
       "        vertical-align: middle;\n",
       "    }\n",
       "\n",
       "    .dataframe tbody tr th {\n",
       "        vertical-align: top;\n",
       "    }\n",
       "\n",
       "    .dataframe thead th {\n",
       "        text-align: right;\n",
       "    }\n",
       "</style>\n",
       "<table border=\"1\" class=\"dataframe\">\n",
       "  <thead>\n",
       "    <tr style=\"text-align: right;\">\n",
       "      <th></th>\n",
       "      <th>Year</th>\n",
       "      <th>State Name</th>\n",
       "      <th>SEA Education Environment</th>\n",
       "      <th>SEA Disability Category</th>\n",
       "      <th>Age 3</th>\n",
       "      <th>Age 4</th>\n",
       "      <th>Age 5</th>\n",
       "      <th>American Indian or Alaska Native Age 3 to 5</th>\n",
       "      <th>Asian Age 3-5</th>\n",
       "      <th>Black or African American Age 3-5</th>\n",
       "      <th>...</th>\n",
       "      <th>EL No Age 6 to 21</th>\n",
       "      <th>Female Age 6 to 21</th>\n",
       "      <th>Male Age 6 to 21</th>\n",
       "      <th>American Indian or Alaska Native Age 6 to21</th>\n",
       "      <th>Asian Age 6 to21</th>\n",
       "      <th>Black or African American Age 6 to21</th>\n",
       "      <th>Hispanic/Latino Age 6 to21</th>\n",
       "      <th>Native Hawaiian or Other Pacific Islander Age 6 to21</th>\n",
       "      <th>Two or more races Age 6 to21</th>\n",
       "      <th>White Age 6 to21</th>\n",
       "    </tr>\n",
       "  </thead>\n",
       "  <tbody>\n",
       "    <tr>\n",
       "      <th>0</th>\n",
       "      <td>2018</td>\n",
       "      <td>Alabama</td>\n",
       "      <td>Correctional Facilities</td>\n",
       "      <td>All Disabilities</td>\n",
       "      <td>NaN</td>\n",
       "      <td>NaN</td>\n",
       "      <td>NaN</td>\n",
       "      <td>NaN</td>\n",
       "      <td>NaN</td>\n",
       "      <td>NaN</td>\n",
       "      <td>...</td>\n",
       "      <td>52</td>\n",
       "      <td>1</td>\n",
       "      <td>51</td>\n",
       "      <td>0</td>\n",
       "      <td>0</td>\n",
       "      <td>43</td>\n",
       "      <td>0</td>\n",
       "      <td>0</td>\n",
       "      <td>0</td>\n",
       "      <td>9</td>\n",
       "    </tr>\n",
       "    <tr>\n",
       "      <th>1</th>\n",
       "      <td>2018</td>\n",
       "      <td>Alabama</td>\n",
       "      <td>Home</td>\n",
       "      <td>All Disabilities</td>\n",
       "      <td>39</td>\n",
       "      <td>38</td>\n",
       "      <td>27</td>\n",
       "      <td>1</td>\n",
       "      <td>0</td>\n",
       "      <td>10</td>\n",
       "      <td>...</td>\n",
       "      <td>NaN</td>\n",
       "      <td>NaN</td>\n",
       "      <td>NaN</td>\n",
       "      <td>NaN</td>\n",
       "      <td>NaN</td>\n",
       "      <td>NaN</td>\n",
       "      <td>NaN</td>\n",
       "      <td>NaN</td>\n",
       "      <td>NaN</td>\n",
       "      <td>NaN</td>\n",
       "    </tr>\n",
       "    <tr>\n",
       "      <th>2</th>\n",
       "      <td>2018</td>\n",
       "      <td>Alabama</td>\n",
       "      <td>Homebound/Hospital</td>\n",
       "      <td>All Disabilities</td>\n",
       "      <td>NaN</td>\n",
       "      <td>NaN</td>\n",
       "      <td>NaN</td>\n",
       "      <td>NaN</td>\n",
       "      <td>NaN</td>\n",
       "      <td>NaN</td>\n",
       "      <td>...</td>\n",
       "      <td>284</td>\n",
       "      <td>107</td>\n",
       "      <td>183</td>\n",
       "      <td>3</td>\n",
       "      <td>6</td>\n",
       "      <td>91</td>\n",
       "      <td>15</td>\n",
       "      <td>0</td>\n",
       "      <td>1</td>\n",
       "      <td>174</td>\n",
       "    </tr>\n",
       "    <tr>\n",
       "      <th>3</th>\n",
       "      <td>2018</td>\n",
       "      <td>Alabama</td>\n",
       "      <td>Inside regular class 40% through 79% of the day</td>\n",
       "      <td>All Disabilities</td>\n",
       "      <td>NaN</td>\n",
       "      <td>NaN</td>\n",
       "      <td>NaN</td>\n",
       "      <td>NaN</td>\n",
       "      <td>NaN</td>\n",
       "      <td>NaN</td>\n",
       "      <td>...</td>\n",
       "      <td>5114</td>\n",
       "      <td>1770</td>\n",
       "      <td>3615</td>\n",
       "      <td>28</td>\n",
       "      <td>54</td>\n",
       "      <td>1962</td>\n",
       "      <td>374</td>\n",
       "      <td>5</td>\n",
       "      <td>136</td>\n",
       "      <td>2826</td>\n",
       "    </tr>\n",
       "    <tr>\n",
       "      <th>4</th>\n",
       "      <td>2018</td>\n",
       "      <td>Alabama</td>\n",
       "      <td>Inside regular class 80% or more of the day</td>\n",
       "      <td>All Disabilities</td>\n",
       "      <td>NaN</td>\n",
       "      <td>NaN</td>\n",
       "      <td>NaN</td>\n",
       "      <td>NaN</td>\n",
       "      <td>NaN</td>\n",
       "      <td>NaN</td>\n",
       "      <td>...</td>\n",
       "      <td>68599</td>\n",
       "      <td>24075</td>\n",
       "      <td>47344</td>\n",
       "      <td>662</td>\n",
       "      <td>404</td>\n",
       "      <td>26004</td>\n",
       "      <td>4571</td>\n",
       "      <td>55</td>\n",
       "      <td>1550</td>\n",
       "      <td>38173</td>\n",
       "    </tr>\n",
       "    <tr>\n",
       "      <th>...</th>\n",
       "      <td>...</td>\n",
       "      <td>...</td>\n",
       "      <td>...</td>\n",
       "      <td>...</td>\n",
       "      <td>...</td>\n",
       "      <td>...</td>\n",
       "      <td>...</td>\n",
       "      <td>...</td>\n",
       "      <td>...</td>\n",
       "      <td>...</td>\n",
       "      <td>...</td>\n",
       "      <td>...</td>\n",
       "      <td>...</td>\n",
       "      <td>...</td>\n",
       "      <td>...</td>\n",
       "      <td>...</td>\n",
       "      <td>...</td>\n",
       "      <td>...</td>\n",
       "      <td>...</td>\n",
       "      <td>...</td>\n",
       "      <td>...</td>\n",
       "    </tr>\n",
       "    <tr>\n",
       "      <th>16221</th>\n",
       "      <td>2018</td>\n",
       "      <td>US, Outlying Areas, and Freely Associated States</td>\n",
       "      <td>Services in Other Location than Regular Early ...</td>\n",
       "      <td>Visual impairment</td>\n",
       "      <td>NaN</td>\n",
       "      <td>NaN</td>\n",
       "      <td>NaN</td>\n",
       "      <td>NaN</td>\n",
       "      <td>NaN</td>\n",
       "      <td>NaN</td>\n",
       "      <td>...</td>\n",
       "      <td>NaN</td>\n",
       "      <td>NaN</td>\n",
       "      <td>NaN</td>\n",
       "      <td>NaN</td>\n",
       "      <td>NaN</td>\n",
       "      <td>NaN</td>\n",
       "      <td>NaN</td>\n",
       "      <td>NaN</td>\n",
       "      <td>NaN</td>\n",
       "      <td>NaN</td>\n",
       "    </tr>\n",
       "    <tr>\n",
       "      <th>16222</th>\n",
       "      <td>2018</td>\n",
       "      <td>US, Outlying Areas, and Freely Associated States</td>\n",
       "      <td>Services in Regular Early Childhood Program (a...</td>\n",
       "      <td>Visual impairment</td>\n",
       "      <td>NaN</td>\n",
       "      <td>NaN</td>\n",
       "      <td>NaN</td>\n",
       "      <td>NaN</td>\n",
       "      <td>NaN</td>\n",
       "      <td>NaN</td>\n",
       "      <td>...</td>\n",
       "      <td>NaN</td>\n",
       "      <td>NaN</td>\n",
       "      <td>NaN</td>\n",
       "      <td>NaN</td>\n",
       "      <td>NaN</td>\n",
       "      <td>NaN</td>\n",
       "      <td>NaN</td>\n",
       "      <td>NaN</td>\n",
       "      <td>NaN</td>\n",
       "      <td>NaN</td>\n",
       "    </tr>\n",
       "    <tr>\n",
       "      <th>16223</th>\n",
       "      <td>2018</td>\n",
       "      <td>US, Outlying Areas, and Freely Associated States</td>\n",
       "      <td>Services in Regular Early Childhood Program (a...</td>\n",
       "      <td>Visual impairment</td>\n",
       "      <td>NaN</td>\n",
       "      <td>NaN</td>\n",
       "      <td>NaN</td>\n",
       "      <td>NaN</td>\n",
       "      <td>NaN</td>\n",
       "      <td>NaN</td>\n",
       "      <td>...</td>\n",
       "      <td>NaN</td>\n",
       "      <td>NaN</td>\n",
       "      <td>NaN</td>\n",
       "      <td>NaN</td>\n",
       "      <td>NaN</td>\n",
       "      <td>NaN</td>\n",
       "      <td>NaN</td>\n",
       "      <td>NaN</td>\n",
       "      <td>NaN</td>\n",
       "      <td>NaN</td>\n",
       "    </tr>\n",
       "    <tr>\n",
       "      <th>16224</th>\n",
       "      <td>2018</td>\n",
       "      <td>US, Outlying Areas, and Freely Associated States</td>\n",
       "      <td>Total, Age 3-5</td>\n",
       "      <td>Visual impairment</td>\n",
       "      <td>NaN</td>\n",
       "      <td>NaN</td>\n",
       "      <td>NaN</td>\n",
       "      <td>30</td>\n",
       "      <td>126</td>\n",
       "      <td>283</td>\n",
       "      <td>...</td>\n",
       "      <td>NaN</td>\n",
       "      <td>NaN</td>\n",
       "      <td>NaN</td>\n",
       "      <td>NaN</td>\n",
       "      <td>NaN</td>\n",
       "      <td>NaN</td>\n",
       "      <td>NaN</td>\n",
       "      <td>NaN</td>\n",
       "      <td>NaN</td>\n",
       "      <td>NaN</td>\n",
       "    </tr>\n",
       "    <tr>\n",
       "      <th>16225</th>\n",
       "      <td>2018</td>\n",
       "      <td>US, Outlying Areas, and Freely Associated States</td>\n",
       "      <td>Total, Age 6-21</td>\n",
       "      <td>Visual impairment</td>\n",
       "      <td>NaN</td>\n",
       "      <td>NaN</td>\n",
       "      <td>NaN</td>\n",
       "      <td>NaN</td>\n",
       "      <td>NaN</td>\n",
       "      <td>NaN</td>\n",
       "      <td>...</td>\n",
       "      <td>21728</td>\n",
       "      <td>10839</td>\n",
       "      <td>13177</td>\n",
       "      <td>353</td>\n",
       "      <td>1154</td>\n",
       "      <td>3638</td>\n",
       "      <td>5969</td>\n",
       "      <td>200</td>\n",
       "      <td>848</td>\n",
       "      <td>12006</td>\n",
       "    </tr>\n",
       "  </tbody>\n",
       "</table>\n",
       "<p>16226 rows × 50 columns</p>\n",
       "</div>"
      ],
      "text/plain": [
       "       Year                                        State Name  \\\n",
       "0      2018                                           Alabama   \n",
       "1      2018                                           Alabama   \n",
       "2      2018                                           Alabama   \n",
       "3      2018                                           Alabama   \n",
       "4      2018                                           Alabama   \n",
       "...     ...                                               ...   \n",
       "16221  2018  US, Outlying Areas, and Freely Associated States   \n",
       "16222  2018  US, Outlying Areas, and Freely Associated States   \n",
       "16223  2018  US, Outlying Areas, and Freely Associated States   \n",
       "16224  2018  US, Outlying Areas, and Freely Associated States   \n",
       "16225  2018  US, Outlying Areas, and Freely Associated States   \n",
       "\n",
       "                               SEA Education Environment  \\\n",
       "0                                Correctional Facilities   \n",
       "1                                                   Home   \n",
       "2                                     Homebound/Hospital   \n",
       "3        Inside regular class 40% through 79% of the day   \n",
       "4            Inside regular class 80% or more of the day   \n",
       "...                                                  ...   \n",
       "16221  Services in Other Location than Regular Early ...   \n",
       "16222  Services in Regular Early Childhood Program (a...   \n",
       "16223  Services in Regular Early Childhood Program (a...   \n",
       "16224                                     Total, Age 3-5   \n",
       "16225                                    Total, Age 6-21   \n",
       "\n",
       "      SEA Disability Category Age 3 Age 4 Age 5  \\\n",
       "0            All Disabilities   NaN   NaN   NaN   \n",
       "1            All Disabilities    39    38    27   \n",
       "2            All Disabilities   NaN   NaN   NaN   \n",
       "3            All Disabilities   NaN   NaN   NaN   \n",
       "4            All Disabilities   NaN   NaN   NaN   \n",
       "...                       ...   ...   ...   ...   \n",
       "16221       Visual impairment   NaN   NaN   NaN   \n",
       "16222       Visual impairment   NaN   NaN   NaN   \n",
       "16223       Visual impairment   NaN   NaN   NaN   \n",
       "16224       Visual impairment   NaN   NaN   NaN   \n",
       "16225       Visual impairment   NaN   NaN   NaN   \n",
       "\n",
       "      American Indian or Alaska Native Age 3 to 5  Asian Age 3-5   \\\n",
       "0                                              NaN            NaN   \n",
       "1                                                1              0   \n",
       "2                                              NaN            NaN   \n",
       "3                                              NaN            NaN   \n",
       "4                                              NaN            NaN   \n",
       "...                                            ...            ...   \n",
       "16221                                          NaN            NaN   \n",
       "16222                                          NaN            NaN   \n",
       "16223                                          NaN            NaN   \n",
       "16224                                           30            126   \n",
       "16225                                          NaN            NaN   \n",
       "\n",
       "      Black or African American Age 3-5   ... EL No Age 6 to 21  \\\n",
       "0                                    NaN  ...                52   \n",
       "1                                     10  ...               NaN   \n",
       "2                                    NaN  ...               284   \n",
       "3                                    NaN  ...              5114   \n",
       "4                                    NaN  ...             68599   \n",
       "...                                  ...  ...               ...   \n",
       "16221                                NaN  ...               NaN   \n",
       "16222                                NaN  ...               NaN   \n",
       "16223                                NaN  ...               NaN   \n",
       "16224                                283  ...               NaN   \n",
       "16225                                NaN  ...             21728   \n",
       "\n",
       "      Female Age 6 to 21 Male Age 6 to 21  \\\n",
       "0                      1               51   \n",
       "1                    NaN              NaN   \n",
       "2                    107              183   \n",
       "3                   1770             3615   \n",
       "4                  24075            47344   \n",
       "...                  ...              ...   \n",
       "16221                NaN              NaN   \n",
       "16222                NaN              NaN   \n",
       "16223                NaN              NaN   \n",
       "16224                NaN              NaN   \n",
       "16225              10839            13177   \n",
       "\n",
       "      American Indian or Alaska Native Age 6 to21 Asian Age 6 to21  \\\n",
       "0                                               0                0   \n",
       "1                                             NaN              NaN   \n",
       "2                                               3                6   \n",
       "3                                              28               54   \n",
       "4                                             662              404   \n",
       "...                                           ...              ...   \n",
       "16221                                         NaN              NaN   \n",
       "16222                                         NaN              NaN   \n",
       "16223                                         NaN              NaN   \n",
       "16224                                         NaN              NaN   \n",
       "16225                                         353             1154   \n",
       "\n",
       "      Black or African American Age 6 to21 Hispanic/Latino Age 6 to21  \\\n",
       "0                                       43                          0   \n",
       "1                                      NaN                        NaN   \n",
       "2                                       91                         15   \n",
       "3                                     1962                        374   \n",
       "4                                    26004                       4571   \n",
       "...                                    ...                        ...   \n",
       "16221                                  NaN                        NaN   \n",
       "16222                                  NaN                        NaN   \n",
       "16223                                  NaN                        NaN   \n",
       "16224                                  NaN                        NaN   \n",
       "16225                                 3638                       5969   \n",
       "\n",
       "      Native Hawaiian or Other Pacific Islander Age 6 to21  \\\n",
       "0                                                      0     \n",
       "1                                                    NaN     \n",
       "2                                                      0     \n",
       "3                                                      5     \n",
       "4                                                     55     \n",
       "...                                                  ...     \n",
       "16221                                                NaN     \n",
       "16222                                                NaN     \n",
       "16223                                                NaN     \n",
       "16224                                                NaN     \n",
       "16225                                                200     \n",
       "\n",
       "      Two or more races Age 6 to21 White Age 6 to21  \n",
       "0                                0                9  \n",
       "1                              NaN              NaN  \n",
       "2                                1              174  \n",
       "3                              136             2826  \n",
       "4                             1550            38173  \n",
       "...                            ...              ...  \n",
       "16221                          NaN              NaN  \n",
       "16222                          NaN              NaN  \n",
       "16223                          NaN              NaN  \n",
       "16224                          NaN              NaN  \n",
       "16225                          848            12006  \n",
       "\n",
       "[16226 rows x 50 columns]"
      ]
     },
     "execution_count": 7,
     "metadata": {},
     "output_type": "execute_result"
    }
   ],
   "source": [
    "cc.replace('-', np.nan)"
   ]
  },
  {
   "cell_type": "code",
   "execution_count": 12,
   "metadata": {},
   "outputs": [
    {
     "data": {
      "text/plain": [
       "array(['Correctional Facilities', 'Home', 'Homebound/Hospital',\n",
       "       'Inside regular class 40% through 79% of the day',\n",
       "       'Inside regular class 80% or more of the day',\n",
       "       'Inside regular class less than 40% of the day',\n",
       "       'Parentally Placed in Private Schools',\n",
       "       'Residential Facility, Age 3-5', 'Residential Facility, Age 6-21',\n",
       "       'Separate Class', 'Separate School, Age 3-5',\n",
       "       'Separate School, Age 6-21', 'Service Provider Location',\n",
       "       'Services in Other Location than Regular Early Childhood Program (attend at least 10 hours)',\n",
       "       'Services in Other Location than Regular Early Childhood Program (attend less than 10 hours)',\n",
       "       'Services in Regular Early Childhood Program (attend at least 10 hours)',\n",
       "       'Services in Regular Early Childhood Program (attend less than 10 hours)',\n",
       "       'Total, Age 3-5', 'Total, Age 6-21'], dtype=object)"
      ]
     },
     "execution_count": 12,
     "metadata": {},
     "output_type": "execute_result"
    }
   ],
   "source": [
    "cc['SEA Education Environment'].unique()"
   ]
  },
  {
   "cell_type": "code",
   "execution_count": 13,
   "metadata": {},
   "outputs": [
    {
     "data": {
      "text/plain": [
       "array(['All Disabilities', 'Autism', 'Deaf-blindness',\n",
       "       'Developmental delay', 'Emotional disturbance',\n",
       "       'Hearing impairment', 'Intellectual disability',\n",
       "       'Multiple disabilities', 'Orthopedic impairment',\n",
       "       'Other health impairment', 'Specific learning disability',\n",
       "       'Speech or language impairment', 'Traumatic brain injury',\n",
       "       'Visual impairment'], dtype=object)"
      ]
     },
     "execution_count": 13,
     "metadata": {},
     "output_type": "execute_result"
    }
   ],
   "source": [
    "cc['SEA Disability Category'].unique()"
   ]
  },
  {
   "cell_type": "code",
   "execution_count": 19,
   "metadata": {},
   "outputs": [
    {
     "data": {
      "text/plain": [
       "Index(['Year', 'State Name', 'SEA Education Environment',\n",
       "       'SEA Disability Category', 'Age 3', 'Age 4', 'Age 5',\n",
       "       'American Indian or Alaska Native Age 3 to 5 ', 'Asian Age 3-5 ',\n",
       "       'Black or African American Age 3-5 ', 'Hispanic/Latino Age 3-5 ',\n",
       "       'Native Hawaiian or Other Pacific Islander Age 3-5 ',\n",
       "       'Two or More Races Age 3-5 ', 'White Age 3-5 ', 'Female Age 3 to 5',\n",
       "       'Male Age 3 to 5', 'EL Yes Age 3 to 5', 'EL No Age 3 to 5',\n",
       "       'Age 3 to 5', 'Age 6', 'Age 7', 'Age 8', 'Age 9', 'Age 10', 'Age 11',\n",
       "       'Age 12', 'Age 13', 'Age 14', 'Age 15', 'Age 16', 'Age 17', 'Age 18',\n",
       "       'Age 19', 'Age 20', 'Age 21', 'Age 6-11', 'Age 12-17', 'Age 18-21',\n",
       "       'Ages 6-21', 'EL Yes Age 6 to 21', 'EL No Age 6 to 21',\n",
       "       'Female Age 6 to 21', 'Male Age 6 to 21',\n",
       "       'American Indian or Alaska Native Age 6 to21', 'Asian Age 6 to21',\n",
       "       'Black or African American Age 6 to21', 'Hispanic/Latino Age 6 to21',\n",
       "       'Native Hawaiian or Other Pacific Islander Age 6 to21',\n",
       "       'Two or more races Age 6 to21', 'White Age 6 to21'],\n",
       "      dtype='object')"
      ]
     },
     "execution_count": 19,
     "metadata": {},
     "output_type": "execute_result"
    }
   ],
   "source": [
    "tot6_21 = cc.loc[cc['SEA Education Environment']  == 'Total, Age 6-21']\n",
    "tot6_21.columns"
   ]
  },
  {
   "cell_type": "code",
   "execution_count": 16,
   "metadata": {},
   "outputs": [
    {
     "data": {
      "text/plain": [
       "{'type': 'Feature',\n",
       " 'properties': {'GEO_ID': '0500000US01001',\n",
       "  'STATE': '01',\n",
       "  'COUNTY': '001',\n",
       "  'NAME': 'Autauga',\n",
       "  'LSAD': 'County',\n",
       "  'CENSUSAREA': 594.436},\n",
       " 'geometry': {'type': 'Polygon',\n",
       "  'coordinates': [[[-86.496774, 32.344437],\n",
       "    [-86.717897, 32.402814],\n",
       "    [-86.814912, 32.340803],\n",
       "    [-86.890581, 32.502974],\n",
       "    [-86.917595, 32.664169],\n",
       "    [-86.71339, 32.661732],\n",
       "    [-86.714219, 32.705694],\n",
       "    [-86.413116, 32.707386],\n",
       "    [-86.411172, 32.409937],\n",
       "    [-86.496774, 32.344437]]]},\n",
       " 'id': '01001'}"
      ]
     },
     "execution_count": 16,
     "metadata": {},
     "output_type": "execute_result"
    }
   ],
   "source": [
    "from urllib.request import urlopen\n",
    "import json\n",
    "with urlopen('https://raw.githubusercontent.com/plotly/datasets/master/geojson-counties-fips.json') as response:\n",
    "    counties = json.load(response)\n",
    "\n",
    "counties[\"features\"][0]"
   ]
  },
  {
   "cell_type": "code",
   "execution_count": 25,
   "metadata": {},
   "outputs": [
    {
     "data": {
      "application/vnd.plotly.v1+json": {
       "config": {
        "plotlyServerURL": "https://plot.ly"
       },
       "data": [
        {
         "colorscale": [
          [
           0,
           "#636efa"
          ],
          [
           1,
           "#636efa"
          ]
         ],
         "geojson": "STATE",
         "hovertemplate": "Ages 6-21=85436<br>State Name=%{location}<extra></extra>",
         "locations": [
          "Alabama"
         ],
         "marker": {
          "opacity": 0.5
         },
         "name": "85436",
         "showlegend": true,
         "showscale": false,
         "subplot": "mapbox",
         "type": "choroplethmapbox",
         "z": [
          1
         ]
        },
        {
         "colorscale": [
          [
           0,
           "#EF553B"
          ],
          [
           1,
           "#EF553B"
          ]
         ],
         "geojson": "STATE",
         "hovertemplate": "Ages 6-21=7465<br>State Name=%{location}<extra></extra>",
         "locations": [
          "Alabama"
         ],
         "marker": {
          "opacity": 0.5
         },
         "name": "7465",
         "showlegend": true,
         "showscale": false,
         "subplot": "mapbox",
         "type": "choroplethmapbox",
         "z": [
          1
         ]
        },
        {
         "colorscale": [
          [
           0,
           "#00cc96"
          ],
          [
           1,
           "#00cc96"
          ]
         ],
         "geojson": "STATE",
         "hovertemplate": "Ages 6-21=12<br>State Name=%{location}<extra></extra>",
         "locations": [
          "Alabama",
          "American Samoa",
          "Republic of the Marshall Islands"
         ],
         "marker": {
          "opacity": 0.5
         },
         "name": "12",
         "showlegend": true,
         "showscale": false,
         "subplot": "mapbox",
         "type": "choroplethmapbox",
         "z": [
          1,
          1,
          1
         ]
        },
        {
         "colorscale": [
          [
           0,
           "#ab63fa"
          ],
          [
           1,
           "#ab63fa"
          ]
         ],
         "geojson": "STATE",
         "hovertemplate": "Ages 6-21=3419<br>State Name=%{location}<extra></extra>",
         "locations": [
          "Alabama"
         ],
         "marker": {
          "opacity": 0.5
         },
         "name": "3419",
         "showlegend": true,
         "showscale": false,
         "subplot": "mapbox",
         "type": "choroplethmapbox",
         "z": [
          1
         ]
        },
        {
         "colorscale": [
          [
           0,
           "#FFA15A"
          ],
          [
           1,
           "#FFA15A"
          ]
         ],
         "geojson": "STATE",
         "hovertemplate": "Ages 6-21=1406<br>State Name=%{location}<extra></extra>",
         "locations": [
          "Alabama"
         ],
         "marker": {
          "opacity": 0.5
         },
         "name": "1406",
         "showlegend": true,
         "showscale": false,
         "subplot": "mapbox",
         "type": "choroplethmapbox",
         "z": [
          1
         ]
        },
        {
         "colorscale": [
          [
           0,
           "#19d3f3"
          ],
          [
           1,
           "#19d3f3"
          ]
         ],
         "geojson": "STATE",
         "hovertemplate": "Ages 6-21=894<br>State Name=%{location}<extra></extra>",
         "locations": [
          "Alabama"
         ],
         "marker": {
          "opacity": 0.5
         },
         "name": "894",
         "showlegend": true,
         "showscale": false,
         "subplot": "mapbox",
         "type": "choroplethmapbox",
         "z": [
          1
         ]
        },
        {
         "colorscale": [
          [
           0,
           "#FF6692"
          ],
          [
           1,
           "#FF6692"
          ]
         ],
         "geojson": "STATE",
         "hovertemplate": "Ages 6-21=7014<br>State Name=%{location}<extra></extra>",
         "locations": [
          "Alabama"
         ],
         "marker": {
          "opacity": 0.5
         },
         "name": "7014",
         "showlegend": true,
         "showscale": false,
         "subplot": "mapbox",
         "type": "choroplethmapbox",
         "z": [
          1
         ]
        },
        {
         "colorscale": [
          [
           0,
           "#B6E880"
          ],
          [
           1,
           "#B6E880"
          ]
         ],
         "geojson": "STATE",
         "hovertemplate": "Ages 6-21=1251<br>State Name=%{location}<extra></extra>",
         "locations": [
          "Alabama",
          "Alaska"
         ],
         "marker": {
          "opacity": 0.5
         },
         "name": "1251",
         "showlegend": true,
         "showscale": false,
         "subplot": "mapbox",
         "type": "choroplethmapbox",
         "z": [
          1,
          1
         ]
        },
        {
         "colorscale": [
          [
           0,
           "#FF97FF"
          ],
          [
           1,
           "#FF97FF"
          ]
         ],
         "geojson": "STATE",
         "hovertemplate": "Ages 6-21=508<br>State Name=%{location}<extra></extra>",
         "locations": [
          "Alabama"
         ],
         "marker": {
          "opacity": 0.5
         },
         "name": "508",
         "showlegend": true,
         "showscale": false,
         "subplot": "mapbox",
         "type": "choroplethmapbox",
         "z": [
          1
         ]
        },
        {
         "colorscale": [
          [
           0,
           "#FECB52"
          ],
          [
           1,
           "#FECB52"
          ]
         ],
         "geojson": "STATE",
         "hovertemplate": "Ages 6-21=12819<br>State Name=%{location}<extra></extra>",
         "locations": [
          "Alabama"
         ],
         "marker": {
          "opacity": 0.5
         },
         "name": "12819",
         "showlegend": true,
         "showscale": false,
         "subplot": "mapbox",
         "type": "choroplethmapbox",
         "z": [
          1
         ]
        },
        {
         "colorscale": [
          [
           0,
           "#636efa"
          ],
          [
           1,
           "#636efa"
          ]
         ],
         "geojson": "STATE",
         "hovertemplate": "Ages 6-21=35963<br>State Name=%{location}<extra></extra>",
         "locations": [
          "Alabama"
         ],
         "marker": {
          "opacity": 0.5
         },
         "name": "35963",
         "showlegend": true,
         "showscale": false,
         "subplot": "mapbox",
         "type": "choroplethmapbox",
         "z": [
          1
         ]
        },
        {
         "colorscale": [
          [
           0,
           "#EF553B"
          ],
          [
           1,
           "#EF553B"
          ]
         ],
         "geojson": "STATE",
         "hovertemplate": "Ages 6-21=13916<br>State Name=%{location}<extra></extra>",
         "locations": [
          "Alabama"
         ],
         "marker": {
          "opacity": 0.5
         },
         "name": "13916",
         "showlegend": true,
         "showscale": false,
         "subplot": "mapbox",
         "type": "choroplethmapbox",
         "z": [
          1
         ]
        },
        {
         "colorscale": [
          [
           0,
           "#00cc96"
          ],
          [
           1,
           "#00cc96"
          ]
         ],
         "geojson": "STATE",
         "hovertemplate": "Ages 6-21=272<br>State Name=%{location}<extra></extra>",
         "locations": [
          "Alabama"
         ],
         "marker": {
          "opacity": 0.5
         },
         "name": "272",
         "showlegend": true,
         "showscale": false,
         "subplot": "mapbox",
         "type": "choroplethmapbox",
         "z": [
          1
         ]
        },
        {
         "colorscale": [
          [
           0,
           "#ab63fa"
          ],
          [
           1,
           "#ab63fa"
          ]
         ],
         "geojson": "STATE",
         "hovertemplate": "Ages 6-21=497<br>State Name=%{location}<extra></extra>",
         "locations": [
          "Alabama",
          "Kansas"
         ],
         "marker": {
          "opacity": 0.5
         },
         "name": "497",
         "showlegend": true,
         "showscale": false,
         "subplot": "mapbox",
         "type": "choroplethmapbox",
         "z": [
          1,
          1
         ]
        },
        {
         "colorscale": [
          [
           0,
           "#FFA15A"
          ],
          [
           1,
           "#FFA15A"
          ]
         ],
         "geojson": "STATE",
         "hovertemplate": "Ages 6-21=17002<br>State Name=%{location}<extra></extra>",
         "locations": [
          "Alaska"
         ],
         "marker": {
          "opacity": 0.5
         },
         "name": "17002",
         "showlegend": true,
         "showscale": false,
         "subplot": "mapbox",
         "type": "choroplethmapbox",
         "z": [
          1
         ]
        },
        {
         "colorscale": [
          [
           0,
           "#19d3f3"
          ],
          [
           1,
           "#19d3f3"
          ]
         ],
         "geojson": "STATE",
         "hovertemplate": "Ages 6-21=1451<br>State Name=%{location}<extra></extra>",
         "locations": [
          "Alaska"
         ],
         "marker": {
          "opacity": 0.5
         },
         "name": "1451",
         "showlegend": true,
         "showscale": false,
         "subplot": "mapbox",
         "type": "choroplethmapbox",
         "z": [
          1
         ]
        },
        {
         "colorscale": [
          [
           0,
           "#FF6692"
          ],
          [
           1,
           "#FF6692"
          ]
         ],
         "geojson": "STATE",
         "hovertemplate": "Ages 6-21=3<br>State Name=%{location}<extra></extra>",
         "locations": [
          "Alaska",
          "American Samoa",
          "American Samoa",
          "Hawaii",
          "Northern Marianas",
          "Vermont",
          "Virgin Islands"
         ],
         "marker": {
          "opacity": 0.5
         },
         "name": "3",
         "showlegend": true,
         "showscale": false,
         "subplot": "mapbox",
         "type": "choroplethmapbox",
         "z": [
          1,
          1,
          1,
          1,
          1,
          1,
          1
         ]
        },
        {
         "colorscale": [
          [
           0,
           "#B6E880"
          ],
          [
           1,
           "#B6E880"
          ]
         ],
         "geojson": "STATE",
         "hovertemplate": "Ages 6-21=745<br>State Name=%{location}<extra></extra>",
         "locations": [
          "Alaska"
         ],
         "marker": {
          "opacity": 0.5
         },
         "name": "745",
         "showlegend": true,
         "showscale": false,
         "subplot": "mapbox",
         "type": "choroplethmapbox",
         "z": [
          1
         ]
        },
        {
         "colorscale": [
          [
           0,
           "#FF97FF"
          ],
          [
           1,
           "#FF97FF"
          ]
         ],
         "geojson": "STATE",
         "hovertemplate": "Ages 6-21=161<br>State Name=%{location}<extra></extra>",
         "locations": [
          "Alaska"
         ],
         "marker": {
          "opacity": 0.5
         },
         "name": "161",
         "showlegend": true,
         "showscale": false,
         "subplot": "mapbox",
         "type": "choroplethmapbox",
         "z": [
          1
         ]
        },
        {
         "colorscale": [
          [
           0,
           "#FECB52"
          ],
          [
           1,
           "#FECB52"
          ]
         ],
         "geojson": "STATE",
         "hovertemplate": "Ages 6-21=568<br>State Name=%{location}<extra></extra>",
         "locations": [
          "Alaska"
         ],
         "marker": {
          "opacity": 0.5
         },
         "name": "568",
         "showlegend": true,
         "showscale": false,
         "subplot": "mapbox",
         "type": "choroplethmapbox",
         "z": [
          1
         ]
        },
        {
         "colorscale": [
          [
           0,
           "#636efa"
          ],
          [
           1,
           "#636efa"
          ]
         ],
         "geojson": "STATE",
         "hovertemplate": "Ages 6-21=576<br>State Name=%{location}<extra></extra>",
         "locations": [
          "Alaska"
         ],
         "marker": {
          "opacity": 0.5
         },
         "name": "576",
         "showlegend": true,
         "showscale": false,
         "subplot": "mapbox",
         "type": "choroplethmapbox",
         "z": [
          1
         ]
        },
        {
         "colorscale": [
          [
           0,
           "#EF553B"
          ],
          [
           1,
           "#EF553B"
          ]
         ],
         "geojson": "STATE",
         "hovertemplate": "Ages 6-21=52<br>State Name=%{location}<extra></extra>",
         "locations": [
          "Alaska"
         ],
         "marker": {
          "opacity": 0.5
         },
         "name": "52",
         "showlegend": true,
         "showscale": false,
         "subplot": "mapbox",
         "type": "choroplethmapbox",
         "z": [
          1
         ]
        },
        {
         "colorscale": [
          [
           0,
           "#00cc96"
          ],
          [
           1,
           "#00cc96"
          ]
         ],
         "geojson": "STATE",
         "hovertemplate": "Ages 6-21=2662<br>State Name=%{location}<extra></extra>",
         "locations": [
          "Alaska"
         ],
         "marker": {
          "opacity": 0.5
         },
         "name": "2662",
         "showlegend": true,
         "showscale": false,
         "subplot": "mapbox",
         "type": "choroplethmapbox",
         "z": [
          1
         ]
        },
        {
         "colorscale": [
          [
           0,
           "#ab63fa"
          ],
          [
           1,
           "#ab63fa"
          ]
         ],
         "geojson": "STATE",
         "hovertemplate": "Ages 6-21=7026<br>State Name=%{location}<extra></extra>",
         "locations": [
          "Alaska"
         ],
         "marker": {
          "opacity": 0.5
         },
         "name": "7026",
         "showlegend": true,
         "showscale": false,
         "subplot": "mapbox",
         "type": "choroplethmapbox",
         "z": [
          1
         ]
        },
        {
         "colorscale": [
          [
           0,
           "#FFA15A"
          ],
          [
           1,
           "#FFA15A"
          ]
         ],
         "geojson": "STATE",
         "hovertemplate": "Ages 6-21=2422<br>State Name=%{location}<extra></extra>",
         "locations": [
          "Alaska"
         ],
         "marker": {
          "opacity": 0.5
         },
         "name": "2422",
         "showlegend": true,
         "showscale": false,
         "subplot": "mapbox",
         "type": "choroplethmapbox",
         "z": [
          1
         ]
        },
        {
         "colorscale": [
          [
           0,
           "#19d3f3"
          ],
          [
           1,
           "#19d3f3"
          ]
         ],
         "geojson": "STATE",
         "hovertemplate": "Ages 6-21=36<br>State Name=%{location}<extra></extra>",
         "locations": [
          "Alaska"
         ],
         "marker": {
          "opacity": 0.5
         },
         "name": "36",
         "showlegend": true,
         "showscale": false,
         "subplot": "mapbox",
         "type": "choroplethmapbox",
         "z": [
          1
         ]
        },
        {
         "colorscale": [
          [
           0,
           "#FF6692"
          ],
          [
           1,
           "#FF6692"
          ]
         ],
         "geojson": "STATE",
         "hovertemplate": "Ages 6-21=49<br>State Name=%{location}<extra></extra>",
         "locations": [
          "Alaska",
          "Maine",
          "South Dakota"
         ],
         "marker": {
          "opacity": 0.5
         },
         "name": "49",
         "showlegend": true,
         "showscale": false,
         "subplot": "mapbox",
         "type": "choroplethmapbox",
         "z": [
          1,
          1,
          1
         ]
        },
        {
         "colorscale": [
          [
           0,
           "#B6E880"
          ],
          [
           1,
           "#B6E880"
          ]
         ],
         "geojson": "STATE",
         "hovertemplate": "Ages 6-21=505<br>State Name=%{location}<extra></extra>",
         "locations": [
          "American Samoa"
         ],
         "marker": {
          "opacity": 0.5
         },
         "name": "505",
         "showlegend": true,
         "showscale": false,
         "subplot": "mapbox",
         "type": "choroplethmapbox",
         "z": [
          1
         ]
        },
        {
         "colorscale": [
          [
           0,
           "#FF97FF"
          ],
          [
           1,
           "#FF97FF"
          ]
         ],
         "geojson": "STATE",
         "hovertemplate": "Ages 6-21=0<br>State Name=%{location}<extra></extra>",
         "locations": [
          "American Samoa",
          "American Samoa",
          "American Samoa",
          "American Samoa",
          "Bureau of Indian Education",
          "Guam",
          "Iowa",
          "Republic of Palau",
          "Republic of Palau",
          "Republic of Palau",
          "Republic of the Marshall Islands",
          "Republic of the Marshall Islands",
          "Virgin Islands",
          "Wyoming"
         ],
         "marker": {
          "opacity": 0.5
         },
         "name": "0",
         "showlegend": true,
         "showscale": false,
         "subplot": "mapbox",
         "type": "choroplethmapbox",
         "z": [
          1,
          1,
          1,
          1,
          1,
          1,
          1,
          1,
          1,
          1,
          1,
          1,
          1,
          1
         ]
        },
        {
         "colorscale": [
          [
           0,
           "#FECB52"
          ],
          [
           1,
           "#FECB52"
          ]
         ],
         "geojson": "STATE",
         "hovertemplate": "Ages 6-21=1<br>State Name=%{location}<extra></extra>",
         "locations": [
          "American Samoa",
          "District of Columbia",
          "Federated States of Micronesia",
          "Federated States of Micronesia",
          "Northern Marianas",
          "Republic of Palau",
          "Republic of the Marshall Islands",
          "Republic of the Marshall Islands",
          "South Dakota",
          "Virgin Islands"
         ],
         "marker": {
          "opacity": 0.5
         },
         "name": "1",
         "showlegend": true,
         "showscale": false,
         "subplot": "mapbox",
         "type": "choroplethmapbox",
         "z": [
          1,
          1,
          1,
          1,
          1,
          1,
          1,
          1,
          1,
          1
         ]
        },
        {
         "colorscale": [
          [
           0,
           "#636efa"
          ],
          [
           1,
           "#636efa"
          ]
         ],
         "geojson": "STATE",
         "hovertemplate": "Ages 6-21=10<br>State Name=%{location}<extra></extra>",
         "locations": [
          "American Samoa",
          "Nebraska",
          "Nevada",
          "Virgin Islands"
         ],
         "marker": {
          "opacity": 0.5
         },
         "name": "10",
         "showlegend": true,
         "showscale": false,
         "subplot": "mapbox",
         "type": "choroplethmapbox",
         "z": [
          1,
          1,
          1,
          1
         ]
        },
        {
         "colorscale": [
          [
           0,
           "#EF553B"
          ],
          [
           1,
           "#EF553B"
          ]
         ],
         "geojson": "STATE",
         "hovertemplate": "Ages 6-21=24<br>State Name=%{location}<extra></extra>",
         "locations": [
          "American Samoa",
          "New Jersey"
         ],
         "marker": {
          "opacity": 0.5
         },
         "name": "24",
         "showlegend": true,
         "showscale": false,
         "subplot": "mapbox",
         "type": "choroplethmapbox",
         "z": [
          1,
          1
         ]
        },
        {
         "colorscale": [
          [
           0,
           "#00cc96"
          ],
          [
           1,
           "#00cc96"
          ]
         ],
         "geojson": "STATE",
         "hovertemplate": "Ages 6-21=443<br>State Name=%{location}<extra></extra>",
         "locations": [
          "American Samoa"
         ],
         "marker": {
          "opacity": 0.5
         },
         "name": "443",
         "showlegend": true,
         "showscale": false,
         "subplot": "mapbox",
         "type": "choroplethmapbox",
         "z": [
          1
         ]
        },
        {
         "colorscale": [
          [
           0,
           "#ab63fa"
          ],
          [
           1,
           "#ab63fa"
          ]
         ],
         "geojson": "STATE",
         "hovertemplate": "Ages 6-21=4<br>State Name=%{location}<extra></extra>",
         "locations": [
          "American Samoa",
          "Arkansas",
          "Federated States of Micronesia",
          "Guam",
          "Republic of Palau",
          "Republic of Palau",
          "Rhode Island",
          "Virgin Islands"
         ],
         "marker": {
          "opacity": 0.5
         },
         "name": "4",
         "showlegend": true,
         "showscale": false,
         "subplot": "mapbox",
         "type": "choroplethmapbox",
         "z": [
          1,
          1,
          1,
          1,
          1,
          1,
          1,
          1
         ]
        },
        {
         "colorscale": [
          [
           0,
           "#FFA15A"
          ],
          [
           1,
           "#FFA15A"
          ]
         ],
         "geojson": "STATE",
         "hovertemplate": "Ages 6-21=5<br>State Name=%{location}<extra></extra>",
         "locations": [
          "American Samoa",
          "Idaho",
          "New Mexico"
         ],
         "marker": {
          "opacity": 0.5
         },
         "name": "5",
         "showlegend": true,
         "showscale": false,
         "subplot": "mapbox",
         "type": "choroplethmapbox",
         "z": [
          1,
          1,
          1
         ]
        },
        {
         "colorscale": [
          [
           0,
           "#19d3f3"
          ],
          [
           1,
           "#19d3f3"
          ]
         ],
         "geojson": "STATE",
         "hovertemplate": "Ages 6-21=128066<br>State Name=%{location}<extra></extra>",
         "locations": [
          "Arizona"
         ],
         "marker": {
          "opacity": 0.5
         },
         "name": "128066",
         "showlegend": true,
         "showscale": false,
         "subplot": "mapbox",
         "type": "choroplethmapbox",
         "z": [
          1
         ]
        },
        {
         "colorscale": [
          [
           0,
           "#FF6692"
          ],
          [
           1,
           "#FF6692"
          ]
         ],
         "geojson": "STATE",
         "hovertemplate": "Ages 6-21=13443<br>State Name=%{location}<extra></extra>",
         "locations": [
          "Arizona"
         ],
         "marker": {
          "opacity": 0.5
         },
         "name": "13443",
         "showlegend": true,
         "showscale": false,
         "subplot": "mapbox",
         "type": "choroplethmapbox",
         "z": [
          1
         ]
        },
        {
         "colorscale": [
          [
           0,
           "#B6E880"
          ],
          [
           1,
           "#B6E880"
          ]
         ],
         "geojson": "STATE",
         "hovertemplate": "Ages 6-21=127<br>State Name=%{location}<extra></extra>",
         "locations": [
          "Arizona",
          "Maine"
         ],
         "marker": {
          "opacity": 0.5
         },
         "name": "127",
         "showlegend": true,
         "showscale": false,
         "subplot": "mapbox",
         "type": "choroplethmapbox",
         "z": [
          1,
          1
         ]
        },
        {
         "colorscale": [
          [
           0,
           "#FF97FF"
          ],
          [
           1,
           "#FF97FF"
          ]
         ],
         "geojson": "STATE",
         "hovertemplate": "Ages 6-21=6928<br>State Name=%{location}<extra></extra>",
         "locations": [
          "Arizona",
          "Kentucky"
         ],
         "marker": {
          "opacity": 0.5
         },
         "name": "6928",
         "showlegend": true,
         "showscale": false,
         "subplot": "mapbox",
         "type": "choroplethmapbox",
         "z": [
          1,
          1
         ]
        },
        {
         "colorscale": [
          [
           0,
           "#FECB52"
          ],
          [
           1,
           "#FECB52"
          ]
         ],
         "geojson": "STATE",
         "hovertemplate": "Ages 6-21=7742<br>State Name=%{location}<extra></extra>",
         "locations": [
          "Arizona"
         ],
         "marker": {
          "opacity": 0.5
         },
         "name": "7742",
         "showlegend": true,
         "showscale": false,
         "subplot": "mapbox",
         "type": "choroplethmapbox",
         "z": [
          1
         ]
        },
        {
         "colorscale": [
          [
           0,
           "#636efa"
          ],
          [
           1,
           "#636efa"
          ]
         ],
         "geojson": "STATE",
         "hovertemplate": "Ages 6-21=1256<br>State Name=%{location}<extra></extra>",
         "locations": [
          "Arizona"
         ],
         "marker": {
          "opacity": 0.5
         },
         "name": "1256",
         "showlegend": true,
         "showscale": false,
         "subplot": "mapbox",
         "type": "choroplethmapbox",
         "z": [
          1
         ]
        },
        {
         "colorscale": [
          [
           0,
           "#EF553B"
          ],
          [
           1,
           "#EF553B"
          ]
         ],
         "geojson": "STATE",
         "hovertemplate": "Ages 6-21=7480<br>State Name=%{location}<extra></extra>",
         "locations": [
          "Arizona"
         ],
         "marker": {
          "opacity": 0.5
         },
         "name": "7480",
         "showlegend": true,
         "showscale": false,
         "subplot": "mapbox",
         "type": "choroplethmapbox",
         "z": [
          1
         ]
        },
        {
         "colorscale": [
          [
           0,
           "#00cc96"
          ],
          [
           1,
           "#00cc96"
          ]
         ],
         "geojson": "STATE",
         "hovertemplate": "Ages 6-21=2141<br>State Name=%{location}<extra></extra>",
         "locations": [
          "Arizona"
         ],
         "marker": {
          "opacity": 0.5
         },
         "name": "2141",
         "showlegend": true,
         "showscale": false,
         "subplot": "mapbox",
         "type": "choroplethmapbox",
         "z": [
          1
         ]
        },
        {
         "colorscale": [
          [
           0,
           "#ab63fa"
          ],
          [
           1,
           "#ab63fa"
          ]
         ],
         "geojson": "STATE",
         "hovertemplate": "Ages 6-21=530<br>State Name=%{location}<extra></extra>",
         "locations": [
          "Arizona",
          "Tennessee",
          "Virginia"
         ],
         "marker": {
          "opacity": 0.5
         },
         "name": "530",
         "showlegend": true,
         "showscale": false,
         "subplot": "mapbox",
         "type": "choroplethmapbox",
         "z": [
          1,
          1,
          1
         ]
        },
        {
         "colorscale": [
          [
           0,
           "#FFA15A"
          ],
          [
           1,
           "#FFA15A"
          ]
         ],
         "geojson": "STATE",
         "hovertemplate": "Ages 6-21=13041<br>State Name=%{location}<extra></extra>",
         "locations": [
          "Arizona"
         ],
         "marker": {
          "opacity": 0.5
         },
         "name": "13041",
         "showlegend": true,
         "showscale": false,
         "subplot": "mapbox",
         "type": "choroplethmapbox",
         "z": [
          1
         ]
        },
        {
         "colorscale": [
          [
           0,
           "#19d3f3"
          ],
          [
           1,
           "#19d3f3"
          ]
         ],
         "geojson": "STATE",
         "hovertemplate": "Ages 6-21=56487<br>State Name=%{location}<extra></extra>",
         "locations": [
          "Arizona"
         ],
         "marker": {
          "opacity": 0.5
         },
         "name": "56487",
         "showlegend": true,
         "showscale": false,
         "subplot": "mapbox",
         "type": "choroplethmapbox",
         "z": [
          1
         ]
        },
        {
         "colorscale": [
          [
           0,
           "#FF6692"
          ],
          [
           1,
           "#FF6692"
          ]
         ],
         "geojson": "STATE",
         "hovertemplate": "Ages 6-21=18095<br>State Name=%{location}<extra></extra>",
         "locations": [
          "Arizona"
         ],
         "marker": {
          "opacity": 0.5
         },
         "name": "18095",
         "showlegend": true,
         "showscale": false,
         "subplot": "mapbox",
         "type": "choroplethmapbox",
         "z": [
          1
         ]
        },
        {
         "colorscale": [
          [
           0,
           "#B6E880"
          ],
          [
           1,
           "#B6E880"
          ]
         ],
         "geojson": "STATE",
         "hovertemplate": "Ages 6-21=298<br>State Name=%{location}<extra></extra>",
         "locations": [
          "Arizona"
         ],
         "marker": {
          "opacity": 0.5
         },
         "name": "298",
         "showlegend": true,
         "showscale": false,
         "subplot": "mapbox",
         "type": "choroplethmapbox",
         "z": [
          1
         ]
        },
        {
         "colorscale": [
          [
           0,
           "#FF97FF"
          ],
          [
           1,
           "#FF97FF"
          ]
         ],
         "geojson": "STATE",
         "hovertemplate": "Ages 6-21=498<br>State Name=%{location}<extra></extra>",
         "locations": [
          "Arizona"
         ],
         "marker": {
          "opacity": 0.5
         },
         "name": "498",
         "showlegend": true,
         "showscale": false,
         "subplot": "mapbox",
         "type": "choroplethmapbox",
         "z": [
          1
         ]
        },
        {
         "colorscale": [
          [
           0,
           "#FECB52"
          ],
          [
           1,
           "#FECB52"
          ]
         ],
         "geojson": "STATE",
         "hovertemplate": "Ages 6-21=61366<br>State Name=%{location}<extra></extra>",
         "locations": [
          "Arkansas"
         ],
         "marker": {
          "opacity": 0.5
         },
         "name": "61366",
         "showlegend": true,
         "showscale": false,
         "subplot": "mapbox",
         "type": "choroplethmapbox",
         "z": [
          1
         ]
        },
        {
         "colorscale": [
          [
           0,
           "#636efa"
          ],
          [
           1,
           "#636efa"
          ]
         ],
         "geojson": "STATE",
         "hovertemplate": "Ages 6-21=4982<br>State Name=%{location}<extra></extra>",
         "locations": [
          "Arkansas",
          "South Carolina"
         ],
         "marker": {
          "opacity": 0.5
         },
         "name": "4982",
         "showlegend": true,
         "showscale": false,
         "subplot": "mapbox",
         "type": "choroplethmapbox",
         "z": [
          1,
          1
         ]
        },
        {
         "colorscale": [
          [
           0,
           "#EF553B"
          ],
          [
           1,
           "#EF553B"
          ]
         ],
         "geojson": "STATE",
         "hovertemplate": "Ages 6-21=-<br>State Name=%{location}<extra></extra>",
         "locations": [
          "Arkansas",
          "California",
          "Connecticut",
          "Delaware",
          "Florida",
          "Florida",
          "Georgia",
          "Guam",
          "Iowa",
          "Montana",
          "Nevada",
          "New Jersey",
          "New York",
          "North Dakota",
          "Ohio",
          "Oregon",
          "Oregon",
          "Puerto Rico",
          "Republic of Palau",
          "Texas",
          "West Virginia",
          "West Virginia",
          "Wisconsin"
         ],
         "marker": {
          "opacity": 0.5
         },
         "name": "-",
         "showlegend": true,
         "showscale": false,
         "subplot": "mapbox",
         "type": "choroplethmapbox",
         "z": [
          1,
          1,
          1,
          1,
          1,
          1,
          1,
          1,
          1,
          1,
          1,
          1,
          1,
          1,
          1,
          1,
          1,
          1,
          1,
          1,
          1,
          1,
          1
         ]
        },
        {
         "colorscale": [
          [
           0,
           "#00cc96"
          ],
          [
           1,
           "#00cc96"
          ]
         ],
         "geojson": "STATE",
         "hovertemplate": "Ages 6-21=1070<br>State Name=%{location}<extra></extra>",
         "locations": [
          "Arkansas"
         ],
         "marker": {
          "opacity": 0.5
         },
         "name": "1070",
         "showlegend": true,
         "showscale": false,
         "subplot": "mapbox",
         "type": "choroplethmapbox",
         "z": [
          1
         ]
        },
        {
         "colorscale": [
          [
           0,
           "#ab63fa"
          ],
          [
           1,
           "#ab63fa"
          ]
         ],
         "geojson": "STATE",
         "hovertemplate": "Ages 6-21=427<br>State Name=%{location}<extra></extra>",
         "locations": [
          "Arkansas"
         ],
         "marker": {
          "opacity": 0.5
         },
         "name": "427",
         "showlegend": true,
         "showscale": false,
         "subplot": "mapbox",
         "type": "choroplethmapbox",
         "z": [
          1
         ]
        },
        {
         "colorscale": [
          [
           0,
           "#FFA15A"
          ],
          [
           1,
           "#FFA15A"
          ]
         ],
         "geojson": "STATE",
         "hovertemplate": "Ages 6-21=7381<br>State Name=%{location}<extra></extra>",
         "locations": [
          "Arkansas"
         ],
         "marker": {
          "opacity": 0.5
         },
         "name": "7381",
         "showlegend": true,
         "showscale": false,
         "subplot": "mapbox",
         "type": "choroplethmapbox",
         "z": [
          1
         ]
        },
        {
         "colorscale": [
          [
           0,
           "#19d3f3"
          ],
          [
           1,
           "#19d3f3"
          ]
         ],
         "geojson": "STATE",
         "hovertemplate": "Ages 6-21=1358<br>State Name=%{location}<extra></extra>",
         "locations": [
          "Arkansas"
         ],
         "marker": {
          "opacity": 0.5
         },
         "name": "1358",
         "showlegend": true,
         "showscale": false,
         "subplot": "mapbox",
         "type": "choroplethmapbox",
         "z": [
          1
         ]
        },
        {
         "colorscale": [
          [
           0,
           "#FF6692"
          ],
          [
           1,
           "#FF6692"
          ]
         ],
         "geojson": "STATE",
         "hovertemplate": "Ages 6-21=177<br>State Name=%{location}<extra></extra>",
         "locations": [
          "Arkansas",
          "Arkansas"
         ],
         "marker": {
          "opacity": 0.5
         },
         "name": "177",
         "showlegend": true,
         "showscale": false,
         "subplot": "mapbox",
         "type": "choroplethmapbox",
         "z": [
          1,
          1
         ]
        },
        {
         "colorscale": [
          [
           0,
           "#B6E880"
          ],
          [
           1,
           "#B6E880"
          ]
         ],
         "geojson": "STATE",
         "hovertemplate": "Ages 6-21=12368<br>State Name=%{location}<extra></extra>",
         "locations": [
          "Arkansas"
         ],
         "marker": {
          "opacity": 0.5
         },
         "name": "12368",
         "showlegend": true,
         "showscale": false,
         "subplot": "mapbox",
         "type": "choroplethmapbox",
         "z": [
          1
         ]
        },
        {
         "colorscale": [
          [
           0,
           "#FF97FF"
          ],
          [
           1,
           "#FF97FF"
          ]
         ],
         "geojson": "STATE",
         "hovertemplate": "Ages 6-21=19612<br>State Name=%{location}<extra></extra>",
         "locations": [
          "Arkansas"
         ],
         "marker": {
          "opacity": 0.5
         },
         "name": "19612",
         "showlegend": true,
         "showscale": false,
         "subplot": "mapbox",
         "type": "choroplethmapbox",
         "z": [
          1
         ]
        },
        {
         "colorscale": [
          [
           0,
           "#FECB52"
          ],
          [
           1,
           "#FECB52"
          ]
         ],
         "geojson": "STATE",
         "hovertemplate": "Ages 6-21=13574<br>State Name=%{location}<extra></extra>",
         "locations": [
          "Arkansas"
         ],
         "marker": {
          "opacity": 0.5
         },
         "name": "13574",
         "showlegend": true,
         "showscale": false,
         "subplot": "mapbox",
         "type": "choroplethmapbox",
         "z": [
          1
         ]
        },
        {
         "colorscale": [
          [
           0,
           "#636efa"
          ],
          [
           1,
           "#636efa"
          ]
         ],
         "geojson": "STATE",
         "hovertemplate": "Ages 6-21=236<br>State Name=%{location}<extra></extra>",
         "locations": [
          "Arkansas"
         ],
         "marker": {
          "opacity": 0.5
         },
         "name": "236",
         "showlegend": true,
         "showscale": false,
         "subplot": "mapbox",
         "type": "choroplethmapbox",
         "z": [
          1
         ]
        },
        {
         "colorscale": [
          [
           0,
           "#EF553B"
          ],
          [
           1,
           "#EF553B"
          ]
         ],
         "geojson": "STATE",
         "hovertemplate": "Ages 6-21=6514<br>State Name=%{location}<extra></extra>",
         "locations": [
          "Bureau of Indian Education"
         ],
         "marker": {
          "opacity": 0.5
         },
         "name": "6514",
         "showlegend": true,
         "showscale": false,
         "subplot": "mapbox",
         "type": "choroplethmapbox",
         "z": [
          1
         ]
        },
        {
         "colorscale": [
          [
           0,
           "#00cc96"
          ],
          [
           1,
           "#00cc96"
          ]
         ],
         "geojson": "STATE",
         "hovertemplate": "Ages 6-21=288<br>State Name=%{location}<extra></extra>",
         "locations": [
          "Bureau of Indian Education"
         ],
         "marker": {
          "opacity": 0.5
         },
         "name": "288",
         "showlegend": true,
         "showscale": false,
         "subplot": "mapbox",
         "type": "choroplethmapbox",
         "z": [
          1
         ]
        },
        {
         "colorscale": [
          [
           0,
           "#ab63fa"
          ],
          [
           1,
           "#ab63fa"
          ]
         ],
         "geojson": "STATE",
         "hovertemplate": "Ages 6-21=451<br>State Name=%{location}<extra></extra>",
         "locations": [
          "Bureau of Indian Education"
         ],
         "marker": {
          "opacity": 0.5
         },
         "name": "451",
         "showlegend": true,
         "showscale": false,
         "subplot": "mapbox",
         "type": "choroplethmapbox",
         "z": [
          1
         ]
        },
        {
         "colorscale": [
          [
           0,
           "#FFA15A"
          ],
          [
           1,
           "#FFA15A"
          ]
         ],
         "geojson": "STATE",
         "hovertemplate": "Ages 6-21=295<br>State Name=%{location}<extra></extra>",
         "locations": [
          "Bureau of Indian Education"
         ],
         "marker": {
          "opacity": 0.5
         },
         "name": "295",
         "showlegend": true,
         "showscale": false,
         "subplot": "mapbox",
         "type": "choroplethmapbox",
         "z": [
          1
         ]
        },
        {
         "colorscale": [
          [
           0,
           "#19d3f3"
          ],
          [
           1,
           "#19d3f3"
          ]
         ],
         "geojson": "STATE",
         "hovertemplate": "Ages 6-21=47<br>State Name=%{location}<extra></extra>",
         "locations": [
          "Bureau of Indian Education",
          "Northern Marianas",
          "Rhode Island",
          "Virgin Islands"
         ],
         "marker": {
          "opacity": 0.5
         },
         "name": "47",
         "showlegend": true,
         "showscale": false,
         "subplot": "mapbox",
         "type": "choroplethmapbox",
         "z": [
          1,
          1,
          1,
          1
         ]
        },
        {
         "colorscale": [
          [
           0,
           "#FF6692"
          ],
          [
           1,
           "#FF6692"
          ]
         ],
         "geojson": "STATE",
         "hovertemplate": "Ages 6-21=326<br>State Name=%{location}<extra></extra>",
         "locations": [
          "Bureau of Indian Education"
         ],
         "marker": {
          "opacity": 0.5
         },
         "name": "326",
         "showlegend": true,
         "showscale": false,
         "subplot": "mapbox",
         "type": "choroplethmapbox",
         "z": [
          1
         ]
        },
        {
         "colorscale": [
          [
           0,
           "#B6E880"
          ],
          [
           1,
           "#B6E880"
          ]
         ],
         "geojson": "STATE",
         "hovertemplate": "Ages 6-21=143<br>State Name=%{location}<extra></extra>",
         "locations": [
          "Bureau of Indian Education"
         ],
         "marker": {
          "opacity": 0.5
         },
         "name": "143",
         "showlegend": true,
         "showscale": false,
         "subplot": "mapbox",
         "type": "choroplethmapbox",
         "z": [
          1
         ]
        },
        {
         "colorscale": [
          [
           0,
           "#FF97FF"
          ],
          [
           1,
           "#FF97FF"
          ]
         ],
         "geojson": "STATE",
         "hovertemplate": "Ages 6-21=21<br>State Name=%{location}<extra></extra>",
         "locations": [
          "Bureau of Indian Education",
          "West Virginia"
         ],
         "marker": {
          "opacity": 0.5
         },
         "name": "21",
         "showlegend": true,
         "showscale": false,
         "subplot": "mapbox",
         "type": "choroplethmapbox",
         "z": [
          1,
          1
         ]
        },
        {
         "colorscale": [
          [
           0,
           "#FECB52"
          ],
          [
           1,
           "#FECB52"
          ]
         ],
         "geojson": "STATE",
         "hovertemplate": "Ages 6-21=655<br>State Name=%{location}<extra></extra>",
         "locations": [
          "Bureau of Indian Education"
         ],
         "marker": {
          "opacity": 0.5
         },
         "name": "655",
         "showlegend": true,
         "showscale": false,
         "subplot": "mapbox",
         "type": "choroplethmapbox",
         "z": [
          1
         ]
        },
        {
         "colorscale": [
          [
           0,
           "#636efa"
          ],
          [
           1,
           "#636efa"
          ]
         ],
         "geojson": "STATE",
         "hovertemplate": "Ages 6-21=3338<br>State Name=%{location}<extra></extra>",
         "locations": [
          "Bureau of Indian Education"
         ],
         "marker": {
          "opacity": 0.5
         },
         "name": "3338",
         "showlegend": true,
         "showscale": false,
         "subplot": "mapbox",
         "type": "choroplethmapbox",
         "z": [
          1
         ]
        },
        {
         "colorscale": [
          [
           0,
           "#EF553B"
          ],
          [
           1,
           "#EF553B"
          ]
         ],
         "geojson": "STATE",
         "hovertemplate": "Ages 6-21=909<br>State Name=%{location}<extra></extra>",
         "locations": [
          "Bureau of Indian Education",
          "Indiana"
         ],
         "marker": {
          "opacity": 0.5
         },
         "name": "909",
         "showlegend": true,
         "showscale": false,
         "subplot": "mapbox",
         "type": "choroplethmapbox",
         "z": [
          1,
          1
         ]
        },
        {
         "colorscale": [
          [
           0,
           "#00cc96"
          ],
          [
           1,
           "#00cc96"
          ]
         ],
         "geojson": "STATE",
         "hovertemplate": "Ages 6-21=28<br>State Name=%{location}<extra></extra>",
         "locations": [
          "Bureau of Indian Education",
          "Maine",
          "Michigan",
          "North Carolina",
          "Republic of the Marshall Islands"
         ],
         "marker": {
          "opacity": 0.5
         },
         "name": "28",
         "showlegend": true,
         "showscale": false,
         "subplot": "mapbox",
         "type": "choroplethmapbox",
         "z": [
          1,
          1,
          1,
          1,
          1
         ]
        },
        {
         "colorscale": [
          [
           0,
           "#ab63fa"
          ],
          [
           1,
           "#ab63fa"
          ]
         ],
         "geojson": "STATE",
         "hovertemplate": "Ages 6-21=13<br>State Name=%{location}<extra></extra>",
         "locations": [
          "Bureau of Indian Education",
          "Puerto Rico"
         ],
         "marker": {
          "opacity": 0.5
         },
         "name": "13",
         "showlegend": true,
         "showscale": false,
         "subplot": "mapbox",
         "type": "choroplethmapbox",
         "z": [
          1,
          1
         ]
        },
        {
         "colorscale": [
          [
           0,
           "#FFA15A"
          ],
          [
           1,
           "#FFA15A"
          ]
         ],
         "geojson": "STATE",
         "hovertemplate": "Ages 6-21=701812<br>State Name=%{location}<extra></extra>",
         "locations": [
          "California"
         ],
         "marker": {
          "opacity": 0.5
         },
         "name": "701812",
         "showlegend": true,
         "showscale": false,
         "subplot": "mapbox",
         "type": "choroplethmapbox",
         "z": [
          1
         ]
        },
        {
         "colorscale": [
          [
           0,
           "#19d3f3"
          ],
          [
           1,
           "#19d3f3"
          ]
         ],
         "geojson": "STATE",
         "hovertemplate": "Ages 6-21=97318<br>State Name=%{location}<extra></extra>",
         "locations": [
          "California"
         ],
         "marker": {
          "opacity": 0.5
         },
         "name": "97318",
         "showlegend": true,
         "showscale": false,
         "subplot": "mapbox",
         "type": "choroplethmapbox",
         "z": [
          1
         ]
        },
        {
         "colorscale": [
          [
           0,
           "#FF6692"
          ],
          [
           1,
           "#FF6692"
          ]
         ],
         "geojson": "STATE",
         "hovertemplate": "Ages 6-21=83<br>State Name=%{location}<extra></extra>",
         "locations": [
          "California",
          "Florida",
          "Guam",
          "Idaho"
         ],
         "marker": {
          "opacity": 0.5
         },
         "name": "83",
         "showlegend": true,
         "showscale": false,
         "subplot": "mapbox",
         "type": "choroplethmapbox",
         "z": [
          1,
          1,
          1,
          1
         ]
        },
        {
         "colorscale": [
          [
           0,
           "#B6E880"
          ],
          [
           1,
           "#B6E880"
          ]
         ],
         "geojson": "STATE",
         "hovertemplate": "Ages 6-21=25118<br>State Name=%{location}<extra></extra>",
         "locations": [
          "California"
         ],
         "marker": {
          "opacity": 0.5
         },
         "name": "25118",
         "showlegend": true,
         "showscale": false,
         "subplot": "mapbox",
         "type": "choroplethmapbox",
         "z": [
          1
         ]
        },
        {
         "colorscale": [
          [
           0,
           "#FF97FF"
          ],
          [
           1,
           "#FF97FF"
          ]
         ],
         "geojson": "STATE",
         "hovertemplate": "Ages 6-21=10453<br>State Name=%{location}<extra></extra>",
         "locations": [
          "California"
         ],
         "marker": {
          "opacity": 0.5
         },
         "name": "10453",
         "showlegend": true,
         "showscale": false,
         "subplot": "mapbox",
         "type": "choroplethmapbox",
         "z": [
          1
         ]
        },
        {
         "colorscale": [
          [
           0,
           "#FECB52"
          ],
          [
           1,
           "#FECB52"
          ]
         ],
         "geojson": "STATE",
         "hovertemplate": "Ages 6-21=40021<br>State Name=%{location}<extra></extra>",
         "locations": [
          "California"
         ],
         "marker": {
          "opacity": 0.5
         },
         "name": "40021",
         "showlegend": true,
         "showscale": false,
         "subplot": "mapbox",
         "type": "choroplethmapbox",
         "z": [
          1
         ]
        },
        {
         "colorscale": [
          [
           0,
           "#636efa"
          ],
          [
           1,
           "#636efa"
          ]
         ],
         "geojson": "STATE",
         "hovertemplate": "Ages 6-21=6192<br>State Name=%{location}<extra></extra>",
         "locations": [
          "California"
         ],
         "marker": {
          "opacity": 0.5
         },
         "name": "6192",
         "showlegend": true,
         "showscale": false,
         "subplot": "mapbox",
         "type": "choroplethmapbox",
         "z": [
          1
         ]
        },
        {
         "colorscale": [
          [
           0,
           "#EF553B"
          ],
          [
           1,
           "#EF553B"
          ]
         ],
         "geojson": "STATE",
         "hovertemplate": "Ages 6-21=8278<br>State Name=%{location}<extra></extra>",
         "locations": [
          "California"
         ],
         "marker": {
          "opacity": 0.5
         },
         "name": "8278",
         "showlegend": true,
         "showscale": false,
         "subplot": "mapbox",
         "type": "choroplethmapbox",
         "z": [
          1
         ]
        },
        {
         "colorscale": [
          [
           0,
           "#00cc96"
          ],
          [
           1,
           "#00cc96"
          ]
         ],
         "geojson": "STATE",
         "hovertemplate": "Ages 6-21=98615<br>State Name=%{location}<extra></extra>",
         "locations": [
          "California"
         ],
         "marker": {
          "opacity": 0.5
         },
         "name": "98615",
         "showlegend": true,
         "showscale": false,
         "subplot": "mapbox",
         "type": "choroplethmapbox",
         "z": [
          1
         ]
        },
        {
         "colorscale": [
          [
           0,
           "#ab63fa"
          ],
          [
           1,
           "#ab63fa"
          ]
         ],
         "geojson": "STATE",
         "hovertemplate": "Ages 6-21=299652<br>State Name=%{location}<extra></extra>",
         "locations": [
          "California"
         ],
         "marker": {
          "opacity": 0.5
         },
         "name": "299652",
         "showlegend": true,
         "showscale": false,
         "subplot": "mapbox",
         "type": "choroplethmapbox",
         "z": [
          1
         ]
        },
        {
         "colorscale": [
          [
           0,
           "#FFA15A"
          ],
          [
           1,
           "#FFA15A"
          ]
         ],
         "geojson": "STATE",
         "hovertemplate": "Ages 6-21=111679<br>State Name=%{location}<extra></extra>",
         "locations": [
          "California"
         ],
         "marker": {
          "opacity": 0.5
         },
         "name": "111679",
         "showlegend": true,
         "showscale": false,
         "subplot": "mapbox",
         "type": "choroplethmapbox",
         "z": [
          1
         ]
        },
        {
         "colorscale": [
          [
           0,
           "#19d3f3"
          ],
          [
           1,
           "#19d3f3"
          ]
         ],
         "geojson": "STATE",
         "hovertemplate": "Ages 6-21=1465<br>State Name=%{location}<extra></extra>",
         "locations": [
          "California"
         ],
         "marker": {
          "opacity": 0.5
         },
         "name": "1465",
         "showlegend": true,
         "showscale": false,
         "subplot": "mapbox",
         "type": "choroplethmapbox",
         "z": [
          1
         ]
        },
        {
         "colorscale": [
          [
           0,
           "#FF6692"
          ],
          [
           1,
           "#FF6692"
          ]
         ],
         "geojson": "STATE",
         "hovertemplate": "Ages 6-21=2938<br>State Name=%{location}<extra></extra>",
         "locations": [
          "California"
         ],
         "marker": {
          "opacity": 0.5
         },
         "name": "2938",
         "showlegend": true,
         "showscale": false,
         "subplot": "mapbox",
         "type": "choroplethmapbox",
         "z": [
          1
         ]
        },
        {
         "colorscale": [
          [
           0,
           "#B6E880"
          ],
          [
           1,
           "#B6E880"
          ]
         ],
         "geojson": "STATE",
         "hovertemplate": "Ages 6-21=90715<br>State Name=%{location}<extra></extra>",
         "locations": [
          "Colorado"
         ],
         "marker": {
          "opacity": 0.5
         },
         "name": "90715",
         "showlegend": true,
         "showscale": false,
         "subplot": "mapbox",
         "type": "choroplethmapbox",
         "z": [
          1
         ]
        },
        {
         "colorscale": [
          [
           0,
           "#FF97FF"
          ],
          [
           1,
           "#FF97FF"
          ]
         ],
         "geojson": "STATE",
         "hovertemplate": "Ages 6-21=7627<br>State Name=%{location}<extra></extra>",
         "locations": [
          "Colorado"
         ],
         "marker": {
          "opacity": 0.5
         },
         "name": "7627",
         "showlegend": true,
         "showscale": false,
         "subplot": "mapbox",
         "type": "choroplethmapbox",
         "z": [
          1
         ]
        },
        {
         "colorscale": [
          [
           0,
           "#FECB52"
          ],
          [
           1,
           "#FECB52"
          ]
         ],
         "geojson": "STATE",
         "hovertemplate": "Ages 6-21=26<br>State Name=%{location}<extra></extra>",
         "locations": [
          "Colorado",
          "Federated States of Micronesia",
          "Illinois",
          "Virgin Islands"
         ],
         "marker": {
          "opacity": 0.5
         },
         "name": "26",
         "showlegend": true,
         "showscale": false,
         "subplot": "mapbox",
         "type": "choroplethmapbox",
         "z": [
          1,
          1,
          1,
          1
         ]
        },
        {
         "colorscale": [
          [
           0,
           "#636efa"
          ],
          [
           1,
           "#636efa"
          ]
         ],
         "geojson": "STATE",
         "hovertemplate": "Ages 6-21=4365<br>State Name=%{location}<extra></extra>",
         "locations": [
          "Colorado"
         ],
         "marker": {
          "opacity": 0.5
         },
         "name": "4365",
         "showlegend": true,
         "showscale": false,
         "subplot": "mapbox",
         "type": "choroplethmapbox",
         "z": [
          1
         ]
        },
        {
         "colorscale": [
          [
           0,
           "#EF553B"
          ],
          [
           1,
           "#EF553B"
          ]
         ],
         "geojson": "STATE",
         "hovertemplate": "Ages 6-21=5596<br>State Name=%{location}<extra></extra>",
         "locations": [
          "Colorado"
         ],
         "marker": {
          "opacity": 0.5
         },
         "name": "5596",
         "showlegend": true,
         "showscale": false,
         "subplot": "mapbox",
         "type": "choroplethmapbox",
         "z": [
          1
         ]
        },
        {
         "colorscale": [
          [
           0,
           "#00cc96"
          ],
          [
           1,
           "#00cc96"
          ]
         ],
         "geojson": "STATE",
         "hovertemplate": "Ages 6-21=1192<br>State Name=%{location}<extra></extra>",
         "locations": [
          "Colorado"
         ],
         "marker": {
          "opacity": 0.5
         },
         "name": "1192",
         "showlegend": true,
         "showscale": false,
         "subplot": "mapbox",
         "type": "choroplethmapbox",
         "z": [
          1
         ]
        },
        {
         "colorscale": [
          [
           0,
           "#ab63fa"
          ],
          [
           1,
           "#ab63fa"
          ]
         ],
         "geojson": "STATE",
         "hovertemplate": "Ages 6-21=2505<br>State Name=%{location}<extra></extra>",
         "locations": [
          "Colorado"
         ],
         "marker": {
          "opacity": 0.5
         },
         "name": "2505",
         "showlegend": true,
         "showscale": false,
         "subplot": "mapbox",
         "type": "choroplethmapbox",
         "z": [
          1
         ]
        },
        {
         "colorscale": [
          [
           0,
           "#FFA15A"
          ],
          [
           1,
           "#FFA15A"
          ]
         ],
         "geojson": "STATE",
         "hovertemplate": "Ages 6-21=4227<br>State Name=%{location}<extra></extra>",
         "locations": [
          "Colorado"
         ],
         "marker": {
          "opacity": 0.5
         },
         "name": "4227",
         "showlegend": true,
         "showscale": false,
         "subplot": "mapbox",
         "type": "choroplethmapbox",
         "z": [
          1
         ]
        },
        {
         "colorscale": [
          [
           0,
           "#19d3f3"
          ],
          [
           1,
           "#19d3f3"
          ]
         ],
         "geojson": "STATE",
         "hovertemplate": "Ages 6-21=342<br>State Name=%{location}<extra></extra>",
         "locations": [
          "Colorado"
         ],
         "marker": {
          "opacity": 0.5
         },
         "name": "342",
         "showlegend": true,
         "showscale": false,
         "subplot": "mapbox",
         "type": "choroplethmapbox",
         "z": [
          1
         ]
        },
        {
         "colorscale": [
          [
           0,
           "#FF6692"
          ],
          [
           1,
           "#FF6692"
          ]
         ],
         "geojson": "STATE",
         "hovertemplate": "Ages 6-21=11534<br>State Name=%{location}<extra></extra>",
         "locations": [
          "Colorado"
         ],
         "marker": {
          "opacity": 0.5
         },
         "name": "11534",
         "showlegend": true,
         "showscale": false,
         "subplot": "mapbox",
         "type": "choroplethmapbox",
         "z": [
          1
         ]
        },
        {
         "colorscale": [
          [
           0,
           "#B6E880"
          ],
          [
           1,
           "#B6E880"
          ]
         ],
         "geojson": "STATE",
         "hovertemplate": "Ages 6-21=41137<br>State Name=%{location}<extra></extra>",
         "locations": [
          "Colorado"
         ],
         "marker": {
          "opacity": 0.5
         },
         "name": "41137",
         "showlegend": true,
         "showscale": false,
         "subplot": "mapbox",
         "type": "choroplethmapbox",
         "z": [
          1
         ]
        },
        {
         "colorscale": [
          [
           0,
           "#FF97FF"
          ],
          [
           1,
           "#FF97FF"
          ]
         ],
         "geojson": "STATE",
         "hovertemplate": "Ages 6-21=11406<br>State Name=%{location}<extra></extra>",
         "locations": [
          "Colorado"
         ],
         "marker": {
          "opacity": 0.5
         },
         "name": "11406",
         "showlegend": true,
         "showscale": false,
         "subplot": "mapbox",
         "type": "choroplethmapbox",
         "z": [
          1
         ]
        },
        {
         "colorscale": [
          [
           0,
           "#FECB52"
          ],
          [
           1,
           "#FECB52"
          ]
         ],
         "geojson": "STATE",
         "hovertemplate": "Ages 6-21=479<br>State Name=%{location}<extra></extra>",
         "locations": [
          "Colorado"
         ],
         "marker": {
          "opacity": 0.5
         },
         "name": "479",
         "showlegend": true,
         "showscale": false,
         "subplot": "mapbox",
         "type": "choroplethmapbox",
         "z": [
          1
         ]
        },
        {
         "colorscale": [
          [
           0,
           "#636efa"
          ],
          [
           1,
           "#636efa"
          ]
         ],
         "geojson": "STATE",
         "hovertemplate": "Ages 6-21=279<br>State Name=%{location}<extra></extra>",
         "locations": [
          "Colorado"
         ],
         "marker": {
          "opacity": 0.5
         },
         "name": "279",
         "showlegend": true,
         "showscale": false,
         "subplot": "mapbox",
         "type": "choroplethmapbox",
         "z": [
          1
         ]
        },
        {
         "colorscale": [
          [
           0,
           "#EF553B"
          ],
          [
           1,
           "#EF553B"
          ]
         ],
         "geojson": "STATE",
         "hovertemplate": "Ages 6-21=72551<br>State Name=%{location}<extra></extra>",
         "locations": [
          "Connecticut"
         ],
         "marker": {
          "opacity": 0.5
         },
         "name": "72551",
         "showlegend": true,
         "showscale": false,
         "subplot": "mapbox",
         "type": "choroplethmapbox",
         "z": [
          1
         ]
        },
        {
         "colorscale": [
          [
           0,
           "#00cc96"
          ],
          [
           1,
           "#00cc96"
          ]
         ],
         "geojson": "STATE",
         "hovertemplate": "Ages 6-21=8971<br>State Name=%{location}<extra></extra>",
         "locations": [
          "Connecticut"
         ],
         "marker": {
          "opacity": 0.5
         },
         "name": "8971",
         "showlegend": true,
         "showscale": false,
         "subplot": "mapbox",
         "type": "choroplethmapbox",
         "z": [
          1
         ]
        },
        {
         "colorscale": [
          [
           0,
           "#ab63fa"
          ],
          [
           1,
           "#ab63fa"
          ]
         ],
         "geojson": "STATE",
         "hovertemplate": "Ages 6-21=8<br>State Name=%{location}<extra></extra>",
         "locations": [
          "Connecticut",
          "Guam"
         ],
         "marker": {
          "opacity": 0.5
         },
         "name": "8",
         "showlegend": true,
         "showscale": false,
         "subplot": "mapbox",
         "type": "choroplethmapbox",
         "z": [
          1,
          1
         ]
        },
        {
         "colorscale": [
          [
           0,
           "#FFA15A"
          ],
          [
           1,
           "#FFA15A"
          ]
         ],
         "geojson": "STATE",
         "hovertemplate": "Ages 6-21=5691<br>State Name=%{location}<extra></extra>",
         "locations": [
          "Connecticut"
         ],
         "marker": {
          "opacity": 0.5
         },
         "name": "5691",
         "showlegend": true,
         "showscale": false,
         "subplot": "mapbox",
         "type": "choroplethmapbox",
         "z": [
          1
         ]
        },
        {
         "colorscale": [
          [
           0,
           "#19d3f3"
          ],
          [
           1,
           "#19d3f3"
          ]
         ],
         "geojson": "STATE",
         "hovertemplate": "Ages 6-21=462<br>State Name=%{location}<extra></extra>",
         "locations": [
          "Connecticut",
          "New Jersey"
         ],
         "marker": {
          "opacity": 0.5
         },
         "name": "462",
         "showlegend": true,
         "showscale": false,
         "subplot": "mapbox",
         "type": "choroplethmapbox",
         "z": [
          1,
          1
         ]
        },
        {
         "colorscale": [
          [
           0,
           "#FF6692"
          ],
          [
           1,
           "#FF6692"
          ]
         ],
         "geojson": "STATE",
         "hovertemplate": "Ages 6-21=2570<br>State Name=%{location}<extra></extra>",
         "locations": [
          "Connecticut"
         ],
         "marker": {
          "opacity": 0.5
         },
         "name": "2570",
         "showlegend": true,
         "showscale": false,
         "subplot": "mapbox",
         "type": "choroplethmapbox",
         "z": [
          1
         ]
        },
        {
         "colorscale": [
          [
           0,
           "#B6E880"
          ],
          [
           1,
           "#B6E880"
          ]
         ],
         "geojson": "STATE",
         "hovertemplate": "Ages 6-21=2798<br>State Name=%{location}<extra></extra>",
         "locations": [
          "Connecticut"
         ],
         "marker": {
          "opacity": 0.5
         },
         "name": "2798",
         "showlegend": true,
         "showscale": false,
         "subplot": "mapbox",
         "type": "choroplethmapbox",
         "z": [
          1
         ]
        },
        {
         "colorscale": [
          [
           0,
           "#FF97FF"
          ],
          [
           1,
           "#FF97FF"
          ]
         ],
         "geojson": "STATE",
         "hovertemplate": "Ages 6-21=40<br>State Name=%{location}<extra></extra>",
         "locations": [
          "Connecticut"
         ],
         "marker": {
          "opacity": 0.5
         },
         "name": "40",
         "showlegend": true,
         "showscale": false,
         "subplot": "mapbox",
         "type": "choroplethmapbox",
         "z": [
          1
         ]
        },
        {
         "colorscale": [
          [
           0,
           "#FECB52"
          ],
          [
           1,
           "#FECB52"
          ]
         ],
         "geojson": "STATE",
         "hovertemplate": "Ages 6-21=15956<br>State Name=%{location}<extra></extra>",
         "locations": [
          "Connecticut"
         ],
         "marker": {
          "opacity": 0.5
         },
         "name": "15956",
         "showlegend": true,
         "showscale": false,
         "subplot": "mapbox",
         "type": "choroplethmapbox",
         "z": [
          1
         ]
        },
        {
         "colorscale": [
          [
           0,
           "#636efa"
          ],
          [
           1,
           "#636efa"
          ]
         ],
         "geojson": "STATE",
         "hovertemplate": "Ages 6-21=28019<br>State Name=%{location}<extra></extra>",
         "locations": [
          "Connecticut"
         ],
         "marker": {
          "opacity": 0.5
         },
         "name": "28019",
         "showlegend": true,
         "showscale": false,
         "subplot": "mapbox",
         "type": "choroplethmapbox",
         "z": [
          1
         ]
        },
        {
         "colorscale": [
          [
           0,
           "#EF553B"
          ],
          [
           1,
           "#EF553B"
          ]
         ],
         "geojson": "STATE",
         "hovertemplate": "Ages 6-21=7814<br>State Name=%{location}<extra></extra>",
         "locations": [
          "Connecticut"
         ],
         "marker": {
          "opacity": 0.5
         },
         "name": "7814",
         "showlegend": true,
         "showscale": false,
         "subplot": "mapbox",
         "type": "choroplethmapbox",
         "z": [
          1
         ]
        },
        {
         "colorscale": [
          [
           0,
           "#00cc96"
          ],
          [
           1,
           "#00cc96"
          ]
         ],
         "geojson": "STATE",
         "hovertemplate": "Ages 6-21=100<br>State Name=%{location}<extra></extra>",
         "locations": [
          "Connecticut"
         ],
         "marker": {
          "opacity": 0.5
         },
         "name": "100",
         "showlegend": true,
         "showscale": false,
         "subplot": "mapbox",
         "type": "choroplethmapbox",
         "z": [
          1
         ]
        },
        {
         "colorscale": [
          [
           0,
           "#ab63fa"
          ],
          [
           1,
           "#ab63fa"
          ]
         ],
         "geojson": "STATE",
         "hovertemplate": "Ages 6-21=122<br>State Name=%{location}<extra></extra>",
         "locations": [
          "Connecticut",
          "Wyoming"
         ],
         "marker": {
          "opacity": 0.5
         },
         "name": "122",
         "showlegend": true,
         "showscale": false,
         "subplot": "mapbox",
         "type": "choroplethmapbox",
         "z": [
          1,
          1
         ]
        },
        {
         "colorscale": [
          [
           0,
           "#FFA15A"
          ],
          [
           1,
           "#FFA15A"
          ]
         ],
         "geojson": "STATE",
         "hovertemplate": "Ages 6-21=21581<br>State Name=%{location}<extra></extra>",
         "locations": [
          "Delaware"
         ],
         "marker": {
          "opacity": 0.5
         },
         "name": "21581",
         "showlegend": true,
         "showscale": false,
         "subplot": "mapbox",
         "type": "choroplethmapbox",
         "z": [
          1
         ]
        },
        {
         "colorscale": [
          [
           0,
           "#19d3f3"
          ],
          [
           1,
           "#19d3f3"
          ]
         ],
         "geojson": "STATE",
         "hovertemplate": "Ages 6-21=1947<br>State Name=%{location}<extra></extra>",
         "locations": [
          "Delaware"
         ],
         "marker": {
          "opacity": 0.5
         },
         "name": "1947",
         "showlegend": true,
         "showscale": false,
         "subplot": "mapbox",
         "type": "choroplethmapbox",
         "z": [
          1
         ]
        },
        {
         "colorscale": [
          [
           0,
           "#FF6692"
          ],
          [
           1,
           "#FF6692"
          ]
         ],
         "geojson": "STATE",
         "hovertemplate": "Ages 6-21=44<br>State Name=%{location}<extra></extra>",
         "locations": [
          "Delaware"
         ],
         "marker": {
          "opacity": 0.5
         },
         "name": "44",
         "showlegend": true,
         "showscale": false,
         "subplot": "mapbox",
         "type": "choroplethmapbox",
         "z": [
          1
         ]
        },
        {
         "colorscale": [
          [
           0,
           "#B6E880"
          ],
          [
           1,
           "#B6E880"
          ]
         ],
         "geojson": "STATE",
         "hovertemplate": "Ages 6-21=1278<br>State Name=%{location}<extra></extra>",
         "locations": [
          "Delaware"
         ],
         "marker": {
          "opacity": 0.5
         },
         "name": "1278",
         "showlegend": true,
         "showscale": false,
         "subplot": "mapbox",
         "type": "choroplethmapbox",
         "z": [
          1
         ]
        },
        {
         "colorscale": [
          [
           0,
           "#FF97FF"
          ],
          [
           1,
           "#FF97FF"
          ]
         ],
         "geojson": "STATE",
         "hovertemplate": "Ages 6-21=1152<br>State Name=%{location}<extra></extra>",
         "locations": [
          "Delaware"
         ],
         "marker": {
          "opacity": 0.5
         },
         "name": "1152",
         "showlegend": true,
         "showscale": false,
         "subplot": "mapbox",
         "type": "choroplethmapbox",
         "z": [
          1
         ]
        },
        {
         "colorscale": [
          [
           0,
           "#FECB52"
          ],
          [
           1,
           "#FECB52"
          ]
         ],
         "geojson": "STATE",
         "hovertemplate": "Ages 6-21=210<br>State Name=%{location}<extra></extra>",
         "locations": [
          "Delaware"
         ],
         "marker": {
          "opacity": 0.5
         },
         "name": "210",
         "showlegend": true,
         "showscale": false,
         "subplot": "mapbox",
         "type": "choroplethmapbox",
         "z": [
          1
         ]
        },
        {
         "colorscale": [
          [
           0,
           "#636efa"
          ],
          [
           1,
           "#636efa"
          ]
         ],
         "geojson": "STATE",
         "hovertemplate": "Ages 6-21=1559<br>State Name=%{location}<extra></extra>",
         "locations": [
          "Delaware"
         ],
         "marker": {
          "opacity": 0.5
         },
         "name": "1559",
         "showlegend": true,
         "showscale": false,
         "subplot": "mapbox",
         "type": "choroplethmapbox",
         "z": [
          1
         ]
        },
        {
         "colorscale": [
          [
           0,
           "#EF553B"
          ],
          [
           1,
           "#EF553B"
          ]
         ],
         "geojson": "STATE",
         "hovertemplate": "Ages 6-21=181<br>State Name=%{location}<extra></extra>",
         "locations": [
          "Delaware"
         ],
         "marker": {
          "opacity": 0.5
         },
         "name": "181",
         "showlegend": true,
         "showscale": false,
         "subplot": "mapbox",
         "type": "choroplethmapbox",
         "z": [
          1
         ]
        },
        {
         "colorscale": [
          [
           0,
           "#00cc96"
          ],
          [
           1,
           "#00cc96"
          ]
         ],
         "geojson": "STATE",
         "hovertemplate": "Ages 6-21=3004<br>State Name=%{location}<extra></extra>",
         "locations": [
          "Delaware"
         ],
         "marker": {
          "opacity": 0.5
         },
         "name": "3004",
         "showlegend": true,
         "showscale": false,
         "subplot": "mapbox",
         "type": "choroplethmapbox",
         "z": [
          1
         ]
        },
        {
         "colorscale": [
          [
           0,
           "#ab63fa"
          ],
          [
           1,
           "#ab63fa"
          ]
         ],
         "geojson": "STATE",
         "hovertemplate": "Ages 6-21=10178<br>State Name=%{location}<extra></extra>",
         "locations": [
          "Delaware"
         ],
         "marker": {
          "opacity": 0.5
         },
         "name": "10178",
         "showlegend": true,
         "showscale": false,
         "subplot": "mapbox",
         "type": "choroplethmapbox",
         "z": [
          1
         ]
        },
        {
         "colorscale": [
          [
           0,
           "#FFA15A"
          ],
          [
           1,
           "#FFA15A"
          ]
         ],
         "geojson": "STATE",
         "hovertemplate": "Ages 6-21=1891<br>State Name=%{location}<extra></extra>",
         "locations": [
          "Delaware"
         ],
         "marker": {
          "opacity": 0.5
         },
         "name": "1891",
         "showlegend": true,
         "showscale": false,
         "subplot": "mapbox",
         "type": "choroplethmapbox",
         "z": [
          1
         ]
        },
        {
         "colorscale": [
          [
           0,
           "#19d3f3"
          ],
          [
           1,
           "#19d3f3"
          ]
         ],
         "geojson": "STATE",
         "hovertemplate": "Ages 6-21=72<br>State Name=%{location}<extra></extra>",
         "locations": [
          "Delaware",
          "New Hampshire"
         ],
         "marker": {
          "opacity": 0.5
         },
         "name": "72",
         "showlegend": true,
         "showscale": false,
         "subplot": "mapbox",
         "type": "choroplethmapbox",
         "z": [
          1,
          1
         ]
        },
        {
         "colorscale": [
          [
           0,
           "#FF6692"
          ],
          [
           1,
           "#FF6692"
          ]
         ],
         "geojson": "STATE",
         "hovertemplate": "Ages 6-21=65<br>State Name=%{location}<extra></extra>",
         "locations": [
          "Delaware",
          "Ohio",
          "Wyoming"
         ],
         "marker": {
          "opacity": 0.5
         },
         "name": "65",
         "showlegend": true,
         "showscale": false,
         "subplot": "mapbox",
         "type": "choroplethmapbox",
         "z": [
          1,
          1,
          1
         ]
        },
        {
         "colorscale": [
          [
           0,
           "#B6E880"
          ],
          [
           1,
           "#B6E880"
          ]
         ],
         "geojson": "STATE",
         "hovertemplate": "Ages 6-21=12218<br>State Name=%{location}<extra></extra>",
         "locations": [
          "District of Columbia"
         ],
         "marker": {
          "opacity": 0.5
         },
         "name": "12218",
         "showlegend": true,
         "showscale": false,
         "subplot": "mapbox",
         "type": "choroplethmapbox",
         "z": [
          1
         ]
        },
        {
         "colorscale": [
          [
           0,
           "#FF97FF"
          ],
          [
           1,
           "#FF97FF"
          ]
         ],
         "geojson": "STATE",
         "hovertemplate": "Ages 6-21=1048<br>State Name=%{location}<extra></extra>",
         "locations": [
          "District of Columbia"
         ],
         "marker": {
          "opacity": 0.5
         },
         "name": "1048",
         "showlegend": true,
         "showscale": false,
         "subplot": "mapbox",
         "type": "choroplethmapbox",
         "z": [
          1
         ]
        },
        {
         "colorscale": [
          [
           0,
           "#FECB52"
          ],
          [
           1,
           "#FECB52"
          ]
         ],
         "geojson": "STATE",
         "hovertemplate": "Ages 6-21=527<br>State Name=%{location}<extra></extra>",
         "locations": [
          "District of Columbia"
         ],
         "marker": {
          "opacity": 0.5
         },
         "name": "527",
         "showlegend": true,
         "showscale": false,
         "subplot": "mapbox",
         "type": "choroplethmapbox",
         "z": [
          1
         ]
        },
        {
         "colorscale": [
          [
           0,
           "#636efa"
          ],
          [
           1,
           "#636efa"
          ]
         ],
         "geojson": "STATE",
         "hovertemplate": "Ages 6-21=827<br>State Name=%{location}<extra></extra>",
         "locations": [
          "District of Columbia"
         ],
         "marker": {
          "opacity": 0.5
         },
         "name": "827",
         "showlegend": true,
         "showscale": false,
         "subplot": "mapbox",
         "type": "choroplethmapbox",
         "z": [
          1
         ]
        },
        {
         "colorscale": [
          [
           0,
           "#EF553B"
          ],
          [
           1,
           "#EF553B"
          ]
         ],
         "geojson": "STATE",
         "hovertemplate": "Ages 6-21=30<br>State Name=%{location}<extra></extra>",
         "locations": [
          "District of Columbia",
          "Indiana",
          "Vermont"
         ],
         "marker": {
          "opacity": 0.5
         },
         "name": "30",
         "showlegend": true,
         "showscale": false,
         "subplot": "mapbox",
         "type": "choroplethmapbox",
         "z": [
          1,
          1,
          1
         ]
        },
        {
         "colorscale": [
          [
           0,
           "#00cc96"
          ],
          [
           1,
           "#00cc96"
          ]
         ],
         "geojson": "STATE",
         "hovertemplate": "Ages 6-21=725<br>State Name=%{location}<extra></extra>",
         "locations": [
          "District of Columbia",
          "Georgia"
         ],
         "marker": {
          "opacity": 0.5
         },
         "name": "725",
         "showlegend": true,
         "showscale": false,
         "subplot": "mapbox",
         "type": "choroplethmapbox",
         "z": [
          1,
          1
         ]
        },
        {
         "colorscale": [
          [
           0,
           "#ab63fa"
          ],
          [
           1,
           "#ab63fa"
          ]
         ],
         "geojson": "STATE",
         "hovertemplate": "Ages 6-21=1477<br>State Name=%{location}<extra></extra>",
         "locations": [
          "District of Columbia"
         ],
         "marker": {
          "opacity": 0.5
         },
         "name": "1477",
         "showlegend": true,
         "showscale": false,
         "subplot": "mapbox",
         "type": "choroplethmapbox",
         "z": [
          1
         ]
        },
        {
         "colorscale": [
          [
           0,
           "#FFA15A"
          ],
          [
           1,
           "#FFA15A"
          ]
         ],
         "geojson": "STATE",
         "hovertemplate": "Ages 6-21=18<br>State Name=%{location}<extra></extra>",
         "locations": [
          "District of Columbia",
          "Kansas",
          "Northern Marianas"
         ],
         "marker": {
          "opacity": 0.5
         },
         "name": "18",
         "showlegend": true,
         "showscale": false,
         "subplot": "mapbox",
         "type": "choroplethmapbox",
         "z": [
          1,
          1,
          1
         ]
        },
        {
         "colorscale": [
          [
           0,
           "#19d3f3"
          ],
          [
           1,
           "#19d3f3"
          ]
         ],
         "geojson": "STATE",
         "hovertemplate": "Ages 6-21=2151<br>State Name=%{location}<extra></extra>",
         "locations": [
          "District of Columbia"
         ],
         "marker": {
          "opacity": 0.5
         },
         "name": "2151",
         "showlegend": true,
         "showscale": false,
         "subplot": "mapbox",
         "type": "choroplethmapbox",
         "z": [
          1
         ]
        },
        {
         "colorscale": [
          [
           0,
           "#FF6692"
          ],
          [
           1,
           "#FF6692"
          ]
         ],
         "geojson": "STATE",
         "hovertemplate": "Ages 6-21=4380<br>State Name=%{location}<extra></extra>",
         "locations": [
          "District of Columbia"
         ],
         "marker": {
          "opacity": 0.5
         },
         "name": "4380",
         "showlegend": true,
         "showscale": false,
         "subplot": "mapbox",
         "type": "choroplethmapbox",
         "z": [
          1
         ]
        },
        {
         "colorscale": [
          [
           0,
           "#B6E880"
          ],
          [
           1,
           "#B6E880"
          ]
         ],
         "geojson": "STATE",
         "hovertemplate": "Ages 6-21=987<br>State Name=%{location}<extra></extra>",
         "locations": [
          "District of Columbia"
         ],
         "marker": {
          "opacity": 0.5
         },
         "name": "987",
         "showlegend": true,
         "showscale": false,
         "subplot": "mapbox",
         "type": "choroplethmapbox",
         "z": [
          1
         ]
        },
        {
         "colorscale": [
          [
           0,
           "#FF97FF"
          ],
          [
           1,
           "#FF97FF"
          ]
         ],
         "geojson": "STATE",
         "hovertemplate": "Ages 6-21=27<br>State Name=%{location}<extra></extra>",
         "locations": [
          "District of Columbia",
          "Missouri",
          "Puerto Rico"
         ],
         "marker": {
          "opacity": 0.5
         },
         "name": "27",
         "showlegend": true,
         "showscale": false,
         "subplot": "mapbox",
         "type": "choroplethmapbox",
         "z": [
          1,
          1,
          1
         ]
        },
        {
         "colorscale": [
          [
           0,
           "#FECB52"
          ],
          [
           1,
           "#FECB52"
          ]
         ],
         "geojson": "STATE",
         "hovertemplate": "Ages 6-21=20<br>State Name=%{location}<extra></extra>",
         "locations": [
          "District of Columbia",
          "Northern Marianas",
          "Oklahoma"
         ],
         "marker": {
          "opacity": 0.5
         },
         "name": "20",
         "showlegend": true,
         "showscale": false,
         "subplot": "mapbox",
         "type": "choroplethmapbox",
         "z": [
          1,
          1,
          1
         ]
        },
        {
         "colorscale": [
          [
           0,
           "#636efa"
          ],
          [
           1,
           "#636efa"
          ]
         ],
         "geojson": "STATE",
         "hovertemplate": "Ages 6-21=1689<br>State Name=%{location}<extra></extra>",
         "locations": [
          "Federated States of Micronesia"
         ],
         "marker": {
          "opacity": 0.5
         },
         "name": "1689",
         "showlegend": true,
         "showscale": false,
         "subplot": "mapbox",
         "type": "choroplethmapbox",
         "z": [
          1
         ]
        },
        {
         "colorscale": [
          [
           0,
           "#EF553B"
          ],
          [
           1,
           "#EF553B"
          ]
         ],
         "geojson": "STATE",
         "hovertemplate": "Ages 6-21=17<br>State Name=%{location}<extra></extra>",
         "locations": [
          "Federated States of Micronesia",
          "South Carolina",
          "Vermont"
         ],
         "marker": {
          "opacity": 0.5
         },
         "name": "17",
         "showlegend": true,
         "showscale": false,
         "subplot": "mapbox",
         "type": "choroplethmapbox",
         "z": [
          1,
          1,
          1
         ]
        },
        {
         "colorscale": [
          [
           0,
           "#00cc96"
          ],
          [
           1,
           "#00cc96"
          ]
         ],
         "geojson": "STATE",
         "hovertemplate": "Ages 6-21=96<br>State Name=%{location}<extra></extra>",
         "locations": [
          "Federated States of Micronesia"
         ],
         "marker": {
          "opacity": 0.5
         },
         "name": "96",
         "showlegend": true,
         "showscale": false,
         "subplot": "mapbox",
         "type": "choroplethmapbox",
         "z": [
          1
         ]
        },
        {
         "colorscale": [
          [
           0,
           "#ab63fa"
          ],
          [
           1,
           "#ab63fa"
          ]
         ],
         "geojson": "STATE",
         "hovertemplate": "Ages 6-21=54<br>State Name=%{location}<extra></extra>",
         "locations": [
          "Federated States of Micronesia",
          "Montana"
         ],
         "marker": {
          "opacity": 0.5
         },
         "name": "54",
         "showlegend": true,
         "showscale": false,
         "subplot": "mapbox",
         "type": "choroplethmapbox",
         "z": [
          1,
          1
         ]
        },
        {
         "colorscale": [
          [
           0,
           "#FFA15A"
          ],
          [
           1,
           "#FFA15A"
          ]
         ],
         "geojson": "STATE",
         "hovertemplate": "Ages 6-21=43<br>State Name=%{location}<extra></extra>",
         "locations": [
          "Federated States of Micronesia",
          "North Dakota"
         ],
         "marker": {
          "opacity": 0.5
         },
         "name": "43",
         "showlegend": true,
         "showscale": false,
         "subplot": "mapbox",
         "type": "choroplethmapbox",
         "z": [
          1,
          1
         ]
        },
        {
         "colorscale": [
          [
           0,
           "#19d3f3"
          ],
          [
           1,
           "#19d3f3"
          ]
         ],
         "geojson": "STATE",
         "hovertemplate": "Ages 6-21=34<br>State Name=%{location}<extra></extra>",
         "locations": [
          "Federated States of Micronesia",
          "Hawaii"
         ],
         "marker": {
          "opacity": 0.5
         },
         "name": "34",
         "showlegend": true,
         "showscale": false,
         "subplot": "mapbox",
         "type": "choroplethmapbox",
         "z": [
          1,
          1
         ]
        },
        {
         "colorscale": [
          [
           0,
           "#FF6692"
          ],
          [
           1,
           "#FF6692"
          ]
         ],
         "geojson": "STATE",
         "hovertemplate": "Ages 6-21=61<br>State Name=%{location}<extra></extra>",
         "locations": [
          "Federated States of Micronesia"
         ],
         "marker": {
          "opacity": 0.5
         },
         "name": "61",
         "showlegend": true,
         "showscale": false,
         "subplot": "mapbox",
         "type": "choroplethmapbox",
         "z": [
          1
         ]
        },
        {
         "colorscale": [
          [
           0,
           "#B6E880"
          ],
          [
           1,
           "#B6E880"
          ]
         ],
         "geojson": "STATE",
         "hovertemplate": "Ages 6-21=1219<br>State Name=%{location}<extra></extra>",
         "locations": [
          "Federated States of Micronesia"
         ],
         "marker": {
          "opacity": 0.5
         },
         "name": "1219",
         "showlegend": true,
         "showscale": false,
         "subplot": "mapbox",
         "type": "choroplethmapbox",
         "z": [
          1
         ]
        },
        {
         "colorscale": [
          [
           0,
           "#FF97FF"
          ],
          [
           1,
           "#FF97FF"
          ]
         ],
         "geojson": "STATE",
         "hovertemplate": "Ages 6-21=59<br>State Name=%{location}<extra></extra>",
         "locations": [
          "Federated States of Micronesia",
          "Guam",
          "Vermont"
         ],
         "marker": {
          "opacity": 0.5
         },
         "name": "59",
         "showlegend": true,
         "showscale": false,
         "subplot": "mapbox",
         "type": "choroplethmapbox",
         "z": [
          1,
          1,
          1
         ]
        },
        {
         "colorscale": [
          [
           0,
           "#FECB52"
          ],
          [
           1,
           "#FECB52"
          ]
         ],
         "geojson": "STATE",
         "hovertemplate": "Ages 6-21=74<br>State Name=%{location}<extra></extra>",
         "locations": [
          "Federated States of Micronesia"
         ],
         "marker": {
          "opacity": 0.5
         },
         "name": "74",
         "showlegend": true,
         "showscale": false,
         "subplot": "mapbox",
         "type": "choroplethmapbox",
         "z": [
          1
         ]
        },
        {
         "colorscale": [
          [
           0,
           "#636efa"
          ],
          [
           1,
           "#636efa"
          ]
         ],
         "geojson": "STATE",
         "hovertemplate": "Ages 6-21=363720<br>State Name=%{location}<extra></extra>",
         "locations": [
          "Florida"
         ],
         "marker": {
          "opacity": 0.5
         },
         "name": "363720",
         "showlegend": true,
         "showscale": false,
         "subplot": "mapbox",
         "type": "choroplethmapbox",
         "z": [
          1
         ]
        },
        {
         "colorscale": [
          [
           0,
           "#EF553B"
          ],
          [
           1,
           "#EF553B"
          ]
         ],
         "geojson": "STATE",
         "hovertemplate": "Ages 6-21=39856<br>State Name=%{location}<extra></extra>",
         "locations": [
          "Florida"
         ],
         "marker": {
          "opacity": 0.5
         },
         "name": "39856",
         "showlegend": true,
         "showscale": false,
         "subplot": "mapbox",
         "type": "choroplethmapbox",
         "z": [
          1
         ]
        },
        {
         "colorscale": [
          [
           0,
           "#00cc96"
          ],
          [
           1,
           "#00cc96"
          ]
         ],
         "geojson": "STATE",
         "hovertemplate": "Ages 6-21=14604<br>State Name=%{location}<extra></extra>",
         "locations": [
          "Florida"
         ],
         "marker": {
          "opacity": 0.5
         },
         "name": "14604",
         "showlegend": true,
         "showscale": false,
         "subplot": "mapbox",
         "type": "choroplethmapbox",
         "z": [
          1
         ]
        },
        {
         "colorscale": [
          [
           0,
           "#ab63fa"
          ],
          [
           1,
           "#ab63fa"
          ]
         ],
         "geojson": "STATE",
         "hovertemplate": "Ages 6-21=3893<br>State Name=%{location}<extra></extra>",
         "locations": [
          "Florida"
         ],
         "marker": {
          "opacity": 0.5
         },
         "name": "3893",
         "showlegend": true,
         "showscale": false,
         "subplot": "mapbox",
         "type": "choroplethmapbox",
         "z": [
          1
         ]
        },
        {
         "colorscale": [
          [
           0,
           "#FFA15A"
          ],
          [
           1,
           "#FFA15A"
          ]
         ],
         "geojson": "STATE",
         "hovertemplate": "Ages 6-21=24879<br>State Name=%{location}<extra></extra>",
         "locations": [
          "Florida"
         ],
         "marker": {
          "opacity": 0.5
         },
         "name": "24879",
         "showlegend": true,
         "showscale": false,
         "subplot": "mapbox",
         "type": "choroplethmapbox",
         "z": [
          1
         ]
        },
        {
         "colorscale": [
          [
           0,
           "#19d3f3"
          ],
          [
           1,
           "#19d3f3"
          ]
         ],
         "geojson": "STATE",
         "hovertemplate": "Ages 6-21=2322<br>State Name=%{location}<extra></extra>",
         "locations": [
          "Florida"
         ],
         "marker": {
          "opacity": 0.5
         },
         "name": "2322",
         "showlegend": true,
         "showscale": false,
         "subplot": "mapbox",
         "type": "choroplethmapbox",
         "z": [
          1
         ]
        },
        {
         "colorscale": [
          [
           0,
           "#FF6692"
          ],
          [
           1,
           "#FF6692"
          ]
         ],
         "geojson": "STATE",
         "hovertemplate": "Ages 6-21=44157<br>State Name=%{location}<extra></extra>",
         "locations": [
          "Florida"
         ],
         "marker": {
          "opacity": 0.5
         },
         "name": "44157",
         "showlegend": true,
         "showscale": false,
         "subplot": "mapbox",
         "type": "choroplethmapbox",
         "z": [
          1
         ]
        },
        {
         "colorscale": [
          [
           0,
           "#B6E880"
          ],
          [
           1,
           "#B6E880"
          ]
         ],
         "geojson": "STATE",
         "hovertemplate": "Ages 6-21=151821<br>State Name=%{location}<extra></extra>",
         "locations": [
          "Florida"
         ],
         "marker": {
          "opacity": 0.5
         },
         "name": "151821",
         "showlegend": true,
         "showscale": false,
         "subplot": "mapbox",
         "type": "choroplethmapbox",
         "z": [
          1
         ]
        },
        {
         "colorscale": [
          [
           0,
           "#FF97FF"
          ],
          [
           1,
           "#FF97FF"
          ]
         ],
         "geojson": "STATE",
         "hovertemplate": "Ages 6-21=80357<br>State Name=%{location}<extra></extra>",
         "locations": [
          "Florida"
         ],
         "marker": {
          "opacity": 0.5
         },
         "name": "80357",
         "showlegend": true,
         "showscale": false,
         "subplot": "mapbox",
         "type": "choroplethmapbox",
         "z": [
          1
         ]
        },
        {
         "colorscale": [
          [
           0,
           "#FECB52"
          ],
          [
           1,
           "#FECB52"
          ]
         ],
         "geojson": "STATE",
         "hovertemplate": "Ages 6-21=493<br>State Name=%{location}<extra></extra>",
         "locations": [
          "Florida"
         ],
         "marker": {
          "opacity": 0.5
         },
         "name": "493",
         "showlegend": true,
         "showscale": false,
         "subplot": "mapbox",
         "type": "choroplethmapbox",
         "z": [
          1
         ]
        },
        {
         "colorscale": [
          [
           0,
           "#636efa"
          ],
          [
           1,
           "#636efa"
          ]
         ],
         "geojson": "STATE",
         "hovertemplate": "Ages 6-21=1255<br>State Name=%{location}<extra></extra>",
         "locations": [
          "Florida"
         ],
         "marker": {
          "opacity": 0.5
         },
         "name": "1255",
         "showlegend": true,
         "showscale": false,
         "subplot": "mapbox",
         "type": "choroplethmapbox",
         "z": [
          1
         ]
        },
        {
         "colorscale": [
          [
           0,
           "#EF553B"
          ],
          [
           1,
           "#EF553B"
          ]
         ],
         "geojson": "STATE",
         "hovertemplate": "Ages 6-21=200450<br>State Name=%{location}<extra></extra>",
         "locations": [
          "Georgia"
         ],
         "marker": {
          "opacity": 0.5
         },
         "name": "200450",
         "showlegend": true,
         "showscale": false,
         "subplot": "mapbox",
         "type": "choroplethmapbox",
         "z": [
          1
         ]
        },
        {
         "colorscale": [
          [
           0,
           "#00cc96"
          ],
          [
           1,
           "#00cc96"
          ]
         ],
         "geojson": "STATE",
         "hovertemplate": "Ages 6-21=20643<br>State Name=%{location}<extra></extra>",
         "locations": [
          "Georgia"
         ],
         "marker": {
          "opacity": 0.5
         },
         "name": "20643",
         "showlegend": true,
         "showscale": false,
         "subplot": "mapbox",
         "type": "choroplethmapbox",
         "z": [
          1
         ]
        },
        {
         "colorscale": [
          [
           0,
           "#ab63fa"
          ],
          [
           1,
           "#ab63fa"
          ]
         ],
         "geojson": "STATE",
         "hovertemplate": "Ages 6-21=29<br>State Name=%{location}<extra></extra>",
         "locations": [
          "Georgia",
          "Republic of the Marshall Islands"
         ],
         "marker": {
          "opacity": 0.5
         },
         "name": "29",
         "showlegend": true,
         "showscale": false,
         "subplot": "mapbox",
         "type": "choroplethmapbox",
         "z": [
          1,
          1
         ]
        },
        {
         "colorscale": [
          [
           0,
           "#FFA15A"
          ],
          [
           1,
           "#FFA15A"
          ]
         ],
         "geojson": "STATE",
         "hovertemplate": "Ages 6-21=15242<br>State Name=%{location}<extra></extra>",
         "locations": [
          "Georgia"
         ],
         "marker": {
          "opacity": 0.5
         },
         "name": "15242",
         "showlegend": true,
         "showscale": false,
         "subplot": "mapbox",
         "type": "choroplethmapbox",
         "z": [
          1
         ]
        },
        {
         "colorscale": [
          [
           0,
           "#19d3f3"
          ],
          [
           1,
           "#19d3f3"
          ]
         ],
         "geojson": "STATE",
         "hovertemplate": "Ages 6-21=10286<br>State Name=%{location}<extra></extra>",
         "locations": [
          "Georgia"
         ],
         "marker": {
          "opacity": 0.5
         },
         "name": "10286",
         "showlegend": true,
         "showscale": false,
         "subplot": "mapbox",
         "type": "choroplethmapbox",
         "z": [
          1
         ]
        },
        {
         "colorscale": [
          [
           0,
           "#FF6692"
          ],
          [
           1,
           "#FF6692"
          ]
         ],
         "geojson": "STATE",
         "hovertemplate": "Ages 6-21=1653<br>State Name=%{location}<extra></extra>",
         "locations": [
          "Georgia"
         ],
         "marker": {
          "opacity": 0.5
         },
         "name": "1653",
         "showlegend": true,
         "showscale": false,
         "subplot": "mapbox",
         "type": "choroplethmapbox",
         "z": [
          1
         ]
        },
        {
         "colorscale": [
          [
           0,
           "#B6E880"
          ],
          [
           1,
           "#B6E880"
          ]
         ],
         "geojson": "STATE",
         "hovertemplate": "Ages 6-21=16631<br>State Name=%{location}<extra></extra>",
         "locations": [
          "Georgia"
         ],
         "marker": {
          "opacity": 0.5
         },
         "name": "16631",
         "showlegend": true,
         "showscale": false,
         "subplot": "mapbox",
         "type": "choroplethmapbox",
         "z": [
          1
         ]
        },
        {
         "colorscale": [
          [
           0,
           "#FF97FF"
          ],
          [
           1,
           "#FF97FF"
          ]
         ],
         "geojson": "STATE",
         "hovertemplate": "Ages 6-21=688<br>State Name=%{location}<extra></extra>",
         "locations": [
          "Georgia"
         ],
         "marker": {
          "opacity": 0.5
         },
         "name": "688",
         "showlegend": true,
         "showscale": false,
         "subplot": "mapbox",
         "type": "choroplethmapbox",
         "z": [
          1
         ]
        },
        {
         "colorscale": [
          [
           0,
           "#FECB52"
          ],
          [
           1,
           "#FECB52"
          ]
         ],
         "geojson": "STATE",
         "hovertemplate": "Ages 6-21=33847<br>State Name=%{location}<extra></extra>",
         "locations": [
          "Georgia"
         ],
         "marker": {
          "opacity": 0.5
         },
         "name": "33847",
         "showlegend": true,
         "showscale": false,
         "subplot": "mapbox",
         "type": "choroplethmapbox",
         "z": [
          1
         ]
        },
        {
         "colorscale": [
          [
           0,
           "#636efa"
          ],
          [
           1,
           "#636efa"
          ]
         ],
         "geojson": "STATE",
         "hovertemplate": "Ages 6-21=76925<br>State Name=%{location}<extra></extra>",
         "locations": [
          "Georgia"
         ],
         "marker": {
          "opacity": 0.5
         },
         "name": "76925",
         "showlegend": true,
         "showscale": false,
         "subplot": "mapbox",
         "type": "choroplethmapbox",
         "z": [
          1
         ]
        },
        {
         "colorscale": [
          [
           0,
           "#EF553B"
          ],
          [
           1,
           "#EF553B"
          ]
         ],
         "geojson": "STATE",
         "hovertemplate": "Ages 6-21=23378<br>State Name=%{location}<extra></extra>",
         "locations": [
          "Georgia"
         ],
         "marker": {
          "opacity": 0.5
         },
         "name": "23378",
         "showlegend": true,
         "showscale": false,
         "subplot": "mapbox",
         "type": "choroplethmapbox",
         "z": [
          1
         ]
        },
        {
         "colorscale": [
          [
           0,
           "#00cc96"
          ],
          [
           1,
           "#00cc96"
          ]
         ],
         "geojson": "STATE",
         "hovertemplate": "Ages 6-21=403<br>State Name=%{location}<extra></extra>",
         "locations": [
          "Georgia",
          "Virginia"
         ],
         "marker": {
          "opacity": 0.5
         },
         "name": "403",
         "showlegend": true,
         "showscale": false,
         "subplot": "mapbox",
         "type": "choroplethmapbox",
         "z": [
          1,
          1
         ]
        },
        {
         "colorscale": [
          [
           0,
           "#ab63fa"
          ],
          [
           1,
           "#ab63fa"
          ]
         ],
         "geojson": "STATE",
         "hovertemplate": "Ages 6-21=1780<br>State Name=%{location}<extra></extra>",
         "locations": [
          "Guam"
         ],
         "marker": {
          "opacity": 0.5
         },
         "name": "1780",
         "showlegend": true,
         "showscale": false,
         "subplot": "mapbox",
         "type": "choroplethmapbox",
         "z": [
          1
         ]
        },
        {
         "colorscale": [
          [
           0,
           "#FFA15A"
          ],
          [
           1,
           "#FFA15A"
          ]
         ],
         "geojson": "STATE",
         "hovertemplate": "Ages 6-21=186<br>State Name=%{location}<extra></extra>",
         "locations": [
          "Guam",
          "Kansas",
          "Nebraska",
          "South Carolina"
         ],
         "marker": {
          "opacity": 0.5
         },
         "name": "186",
         "showlegend": true,
         "showscale": false,
         "subplot": "mapbox",
         "type": "choroplethmapbox",
         "z": [
          1,
          1,
          1,
          1
         ]
        },
        {
         "colorscale": [
          [
           0,
           "#19d3f3"
          ],
          [
           1,
           "#19d3f3"
          ]
         ],
         "geojson": "STATE",
         "hovertemplate": "Ages 6-21=31<br>State Name=%{location}<extra></extra>",
         "locations": [
          "Guam"
         ],
         "marker": {
          "opacity": 0.5
         },
         "name": "31",
         "showlegend": true,
         "showscale": false,
         "subplot": "mapbox",
         "type": "choroplethmapbox",
         "z": [
          1
         ]
        },
        {
         "colorscale": [
          [
           0,
           "#FF6692"
          ],
          [
           1,
           "#FF6692"
          ]
         ],
         "geojson": "STATE",
         "hovertemplate": "Ages 6-21=78<br>State Name=%{location}<extra></extra>",
         "locations": [
          "Guam",
          "Iowa",
          "Iowa"
         ],
         "marker": {
          "opacity": 0.5
         },
         "name": "78",
         "showlegend": true,
         "showscale": false,
         "subplot": "mapbox",
         "type": "choroplethmapbox",
         "z": [
          1,
          1,
          1
         ]
        },
        {
         "colorscale": [
          [
           0,
           "#B6E880"
          ],
          [
           1,
           "#B6E880"
          ]
         ],
         "geojson": "STATE",
         "hovertemplate": "Ages 6-21=202<br>State Name=%{location}<extra></extra>",
         "locations": [
          "Guam"
         ],
         "marker": {
          "opacity": 0.5
         },
         "name": "202",
         "showlegend": true,
         "showscale": false,
         "subplot": "mapbox",
         "type": "choroplethmapbox",
         "z": [
          1
         ]
        },
        {
         "colorscale": [
          [
           0,
           "#FF97FF"
          ],
          [
           1,
           "#FF97FF"
          ]
         ],
         "geojson": "STATE",
         "hovertemplate": "Ages 6-21=1037<br>State Name=%{location}<extra></extra>",
         "locations": [
          "Guam"
         ],
         "marker": {
          "opacity": 0.5
         },
         "name": "1037",
         "showlegend": true,
         "showscale": false,
         "subplot": "mapbox",
         "type": "choroplethmapbox",
         "z": [
          1
         ]
        },
        {
         "colorscale": [
          [
           0,
           "#FECB52"
          ],
          [
           1,
           "#FECB52"
          ]
         ],
         "geojson": "STATE",
         "hovertemplate": "Ages 6-21=76<br>State Name=%{location}<extra></extra>",
         "locations": [
          "Guam",
          "Pennsylvania"
         ],
         "marker": {
          "opacity": 0.5
         },
         "name": "76",
         "showlegend": true,
         "showscale": false,
         "subplot": "mapbox",
         "type": "choroplethmapbox",
         "z": [
          1,
          1
         ]
        },
        {
         "colorscale": [
          [
           0,
           "#636efa"
          ],
          [
           1,
           "#636efa"
          ]
         ],
         "geojson": "STATE",
         "hovertemplate": "Ages 6-21=16<br>State Name=%{location}<extra></extra>",
         "locations": [
          "Guam",
          "Republic of the Marshall Islands",
          "Tennessee",
          "Virginia"
         ],
         "marker": {
          "opacity": 0.5
         },
         "name": "16",
         "showlegend": true,
         "showscale": false,
         "subplot": "mapbox",
         "type": "choroplethmapbox",
         "z": [
          1,
          1,
          1,
          1
         ]
        },
        {
         "colorscale": [
          [
           0,
           "#EF553B"
          ],
          [
           1,
           "#EF553B"
          ]
         ],
         "geojson": "STATE",
         "hovertemplate": "Ages 6-21=17037<br>State Name=%{location}<extra></extra>",
         "locations": [
          "Hawaii"
         ],
         "marker": {
          "opacity": 0.5
         },
         "name": "17037",
         "showlegend": true,
         "showscale": false,
         "subplot": "mapbox",
         "type": "choroplethmapbox",
         "z": [
          1
         ]
        },
        {
         "colorscale": [
          [
           0,
           "#00cc96"
          ],
          [
           1,
           "#00cc96"
          ]
         ],
         "geojson": "STATE",
         "hovertemplate": "Ages 6-21=1638<br>State Name=%{location}<extra></extra>",
         "locations": [
          "Hawaii"
         ],
         "marker": {
          "opacity": 0.5
         },
         "name": "1638",
         "showlegend": true,
         "showscale": false,
         "subplot": "mapbox",
         "type": "choroplethmapbox",
         "z": [
          1
         ]
        },
        {
         "colorscale": [
          [
           0,
           "#ab63fa"
          ],
          [
           1,
           "#ab63fa"
          ]
         ],
         "geojson": "STATE",
         "hovertemplate": "Ages 6-21=1092<br>State Name=%{location}<extra></extra>",
         "locations": [
          "Hawaii"
         ],
         "marker": {
          "opacity": 0.5
         },
         "name": "1092",
         "showlegend": true,
         "showscale": false,
         "subplot": "mapbox",
         "type": "choroplethmapbox",
         "z": [
          1
         ]
        },
        {
         "colorscale": [
          [
           0,
           "#FFA15A"
          ],
          [
           1,
           "#FFA15A"
          ]
         ],
         "geojson": "STATE",
         "hovertemplate": "Ages 6-21=947<br>State Name=%{location}<extra></extra>",
         "locations": [
          "Hawaii"
         ],
         "marker": {
          "opacity": 0.5
         },
         "name": "947",
         "showlegend": true,
         "showscale": false,
         "subplot": "mapbox",
         "type": "choroplethmapbox",
         "z": [
          1
         ]
        },
        {
         "colorscale": [
          [
           0,
           "#19d3f3"
          ],
          [
           1,
           "#19d3f3"
          ]
         ],
         "geojson": "STATE",
         "hovertemplate": "Ages 6-21=226<br>State Name=%{location}<extra></extra>",
         "locations": [
          "Hawaii"
         ],
         "marker": {
          "opacity": 0.5
         },
         "name": "226",
         "showlegend": true,
         "showscale": false,
         "subplot": "mapbox",
         "type": "choroplethmapbox",
         "z": [
          1
         ]
        },
        {
         "colorscale": [
          [
           0,
           "#FF6692"
          ],
          [
           1,
           "#FF6692"
          ]
         ],
         "geojson": "STATE",
         "hovertemplate": "Ages 6-21=1281<br>State Name=%{location}<extra></extra>",
         "locations": [
          "Hawaii"
         ],
         "marker": {
          "opacity": 0.5
         },
         "name": "1281",
         "showlegend": true,
         "showscale": false,
         "subplot": "mapbox",
         "type": "choroplethmapbox",
         "z": [
          1
         ]
        },
        {
         "colorscale": [
          [
           0,
           "#B6E880"
          ],
          [
           1,
           "#B6E880"
          ]
         ],
         "geojson": "STATE",
         "hovertemplate": "Ages 6-21=628<br>State Name=%{location}<extra></extra>",
         "locations": [
          "Hawaii"
         ],
         "marker": {
          "opacity": 0.5
         },
         "name": "628",
         "showlegend": true,
         "showscale": false,
         "subplot": "mapbox",
         "type": "choroplethmapbox",
         "z": [
          1
         ]
        },
        {
         "colorscale": [
          [
           0,
           "#FF97FF"
          ],
          [
           1,
           "#FF97FF"
          ]
         ],
         "geojson": "STATE",
         "hovertemplate": "Ages 6-21=58<br>State Name=%{location}<extra></extra>",
         "locations": [
          "Hawaii",
          "Wyoming"
         ],
         "marker": {
          "opacity": 0.5
         },
         "name": "58",
         "showlegend": true,
         "showscale": false,
         "subplot": "mapbox",
         "type": "choroplethmapbox",
         "z": [
          1,
          1
         ]
        },
        {
         "colorscale": [
          [
           0,
           "#FECB52"
          ],
          [
           1,
           "#FECB52"
          ]
         ],
         "geojson": "STATE",
         "hovertemplate": "Ages 6-21=2996<br>State Name=%{location}<extra></extra>",
         "locations": [
          "Hawaii"
         ],
         "marker": {
          "opacity": 0.5
         },
         "name": "2996",
         "showlegend": true,
         "showscale": false,
         "subplot": "mapbox",
         "type": "choroplethmapbox",
         "z": [
          1
         ]
        },
        {
         "colorscale": [
          [
           0,
           "#636efa"
          ],
          [
           1,
           "#636efa"
          ]
         ],
         "geojson": "STATE",
         "hovertemplate": "Ages 6-21=7530<br>State Name=%{location}<extra></extra>",
         "locations": [
          "Hawaii"
         ],
         "marker": {
          "opacity": 0.5
         },
         "name": "7530",
         "showlegend": true,
         "showscale": false,
         "subplot": "mapbox",
         "type": "choroplethmapbox",
         "z": [
          1
         ]
        },
        {
         "colorscale": [
          [
           0,
           "#EF553B"
          ],
          [
           1,
           "#EF553B"
          ]
         ],
         "geojson": "STATE",
         "hovertemplate": "Ages 6-21=544<br>State Name=%{location}<extra></extra>",
         "locations": [
          "Hawaii"
         ],
         "marker": {
          "opacity": 0.5
         },
         "name": "544",
         "showlegend": true,
         "showscale": false,
         "subplot": "mapbox",
         "type": "choroplethmapbox",
         "z": [
          1
         ]
        },
        {
         "colorscale": [
          [
           0,
           "#00cc96"
          ],
          [
           1,
           "#00cc96"
          ]
         ],
         "geojson": "STATE",
         "hovertemplate": "Ages 6-21=60<br>State Name=%{location}<extra></extra>",
         "locations": [
          "Hawaii"
         ],
         "marker": {
          "opacity": 0.5
         },
         "name": "60",
         "showlegend": true,
         "showscale": false,
         "subplot": "mapbox",
         "type": "choroplethmapbox",
         "z": [
          1
         ]
        },
        {
         "colorscale": [
          [
           0,
           "#ab63fa"
          ],
          [
           1,
           "#ab63fa"
          ]
         ],
         "geojson": "STATE",
         "hovertemplate": "Ages 6-21=30444<br>State Name=%{location}<extra></extra>",
         "locations": [
          "Idaho"
         ],
         "marker": {
          "opacity": 0.5
         },
         "name": "30444",
         "showlegend": true,
         "showscale": false,
         "subplot": "mapbox",
         "type": "choroplethmapbox",
         "z": [
          1
         ]
        },
        {
         "colorscale": [
          [
           0,
           "#FFA15A"
          ],
          [
           1,
           "#FFA15A"
          ]
         ],
         "geojson": "STATE",
         "hovertemplate": "Ages 6-21=3234<br>State Name=%{location}<extra></extra>",
         "locations": [
          "Idaho"
         ],
         "marker": {
          "opacity": 0.5
         },
         "name": "3234",
         "showlegend": true,
         "showscale": false,
         "subplot": "mapbox",
         "type": "choroplethmapbox",
         "z": [
          1
         ]
        },
        {
         "colorscale": [
          [
           0,
           "#19d3f3"
          ],
          [
           1,
           "#19d3f3"
          ]
         ],
         "geojson": "STATE",
         "hovertemplate": "Ages 6-21=1990<br>State Name=%{location}<extra></extra>",
         "locations": [
          "Idaho",
          "North Dakota"
         ],
         "marker": {
          "opacity": 0.5
         },
         "name": "1990",
         "showlegend": true,
         "showscale": false,
         "subplot": "mapbox",
         "type": "choroplethmapbox",
         "z": [
          1,
          1
         ]
        },
        {
         "colorscale": [
          [
           0,
           "#FF6692"
          ],
          [
           1,
           "#FF6692"
          ]
         ],
         "geojson": "STATE",
         "hovertemplate": "Ages 6-21=1372<br>State Name=%{location}<extra></extra>",
         "locations": [
          "Idaho"
         ],
         "marker": {
          "opacity": 0.5
         },
         "name": "1372",
         "showlegend": true,
         "showscale": false,
         "subplot": "mapbox",
         "type": "choroplethmapbox",
         "z": [
          1
         ]
        },
        {
         "colorscale": [
          [
           0,
           "#B6E880"
          ],
          [
           1,
           "#B6E880"
          ]
         ],
         "geojson": "STATE",
         "hovertemplate": "Ages 6-21=301<br>State Name=%{location}<extra></extra>",
         "locations": [
          "Idaho"
         ],
         "marker": {
          "opacity": 0.5
         },
         "name": "301",
         "showlegend": true,
         "showscale": false,
         "subplot": "mapbox",
         "type": "choroplethmapbox",
         "z": [
          1
         ]
        },
        {
         "colorscale": [
          [
           0,
           "#FF97FF"
          ],
          [
           1,
           "#FF97FF"
          ]
         ],
         "geojson": "STATE",
         "hovertemplate": "Ages 6-21=2224<br>State Name=%{location}<extra></extra>",
         "locations": [
          "Idaho"
         ],
         "marker": {
          "opacity": 0.5
         },
         "name": "2224",
         "showlegend": true,
         "showscale": false,
         "subplot": "mapbox",
         "type": "choroplethmapbox",
         "z": [
          1
         ]
        },
        {
         "colorscale": [
          [
           0,
           "#FECB52"
          ],
          [
           1,
           "#FECB52"
          ]
         ],
         "geojson": "STATE",
         "hovertemplate": "Ages 6-21=651<br>State Name=%{location}<extra></extra>",
         "locations": [
          "Idaho"
         ],
         "marker": {
          "opacity": 0.5
         },
         "name": "651",
         "showlegend": true,
         "showscale": false,
         "subplot": "mapbox",
         "type": "choroplethmapbox",
         "z": [
          1
         ]
        },
        {
         "colorscale": [
          [
           0,
           "#636efa"
          ],
          [
           1,
           "#636efa"
          ]
         ],
         "geojson": "STATE",
         "hovertemplate": "Ages 6-21=7019<br>State Name=%{location}<extra></extra>",
         "locations": [
          "Idaho"
         ],
         "marker": {
          "opacity": 0.5
         },
         "name": "7019",
         "showlegend": true,
         "showscale": false,
         "subplot": "mapbox",
         "type": "choroplethmapbox",
         "z": [
          1
         ]
        },
        {
         "colorscale": [
          [
           0,
           "#EF553B"
          ],
          [
           1,
           "#EF553B"
          ]
         ],
         "geojson": "STATE",
         "hovertemplate": "Ages 6-21=7210<br>State Name=%{location}<extra></extra>",
         "locations": [
          "Idaho"
         ],
         "marker": {
          "opacity": 0.5
         },
         "name": "7210",
         "showlegend": true,
         "showscale": false,
         "subplot": "mapbox",
         "type": "choroplethmapbox",
         "z": [
          1
         ]
        },
        {
         "colorscale": [
          [
           0,
           "#00cc96"
          ],
          [
           1,
           "#00cc96"
          ]
         ],
         "geojson": "STATE",
         "hovertemplate": "Ages 6-21=6173<br>State Name=%{location}<extra></extra>",
         "locations": [
          "Idaho"
         ],
         "marker": {
          "opacity": 0.5
         },
         "name": "6173",
         "showlegend": true,
         "showscale": false,
         "subplot": "mapbox",
         "type": "choroplethmapbox",
         "z": [
          1
         ]
        },
        {
         "colorscale": [
          [
           0,
           "#ab63fa"
          ],
          [
           1,
           "#ab63fa"
          ]
         ],
         "geojson": "STATE",
         "hovertemplate": "Ages 6-21=114<br>State Name=%{location}<extra></extra>",
         "locations": [
          "Idaho"
         ],
         "marker": {
          "opacity": 0.5
         },
         "name": "114",
         "showlegend": true,
         "showscale": false,
         "subplot": "mapbox",
         "type": "choroplethmapbox",
         "z": [
          1
         ]
        },
        {
         "colorscale": [
          [
           0,
           "#FFA15A"
          ],
          [
           1,
           "#FFA15A"
          ]
         ],
         "geojson": "STATE",
         "hovertemplate": "Ages 6-21=68<br>State Name=%{location}<extra></extra>",
         "locations": [
          "Idaho",
          "Montana"
         ],
         "marker": {
          "opacity": 0.5
         },
         "name": "68",
         "showlegend": true,
         "showscale": false,
         "subplot": "mapbox",
         "type": "choroplethmapbox",
         "z": [
          1,
          1
         ]
        },
        {
         "colorscale": [
          [
           0,
           "#19d3f3"
          ],
          [
           1,
           "#19d3f3"
          ]
         ],
         "geojson": "STATE",
         "hovertemplate": "Ages 6-21=259914<br>State Name=%{location}<extra></extra>",
         "locations": [
          "Illinois"
         ],
         "marker": {
          "opacity": 0.5
         },
         "name": "259914",
         "showlegend": true,
         "showscale": false,
         "subplot": "mapbox",
         "type": "choroplethmapbox",
         "z": [
          1
         ]
        },
        {
         "colorscale": [
          [
           0,
           "#FF6692"
          ],
          [
           1,
           "#FF6692"
          ]
         ],
         "geojson": "STATE",
         "hovertemplate": "Ages 6-21=24466<br>State Name=%{location}<extra></extra>",
         "locations": [
          "Illinois"
         ],
         "marker": {
          "opacity": 0.5
         },
         "name": "24466",
         "showlegend": true,
         "showscale": false,
         "subplot": "mapbox",
         "type": "choroplethmapbox",
         "z": [
          1
         ]
        },
        {
         "colorscale": [
          [
           0,
           "#B6E880"
          ],
          [
           1,
           "#B6E880"
          ]
         ],
         "geojson": "STATE",
         "hovertemplate": "Ages 6-21=21152<br>State Name=%{location}<extra></extra>",
         "locations": [
          "Illinois"
         ],
         "marker": {
          "opacity": 0.5
         },
         "name": "21152",
         "showlegend": true,
         "showscale": false,
         "subplot": "mapbox",
         "type": "choroplethmapbox",
         "z": [
          1
         ]
        },
        {
         "colorscale": [
          [
           0,
           "#FF97FF"
          ],
          [
           1,
           "#FF97FF"
          ]
         ],
         "geojson": "STATE",
         "hovertemplate": "Ages 6-21=18237<br>State Name=%{location}<extra></extra>",
         "locations": [
          "Illinois"
         ],
         "marker": {
          "opacity": 0.5
         },
         "name": "18237",
         "showlegend": true,
         "showscale": false,
         "subplot": "mapbox",
         "type": "choroplethmapbox",
         "z": [
          1
         ]
        },
        {
         "colorscale": [
          [
           0,
           "#FECB52"
          ],
          [
           1,
           "#FECB52"
          ]
         ],
         "geojson": "STATE",
         "hovertemplate": "Ages 6-21=2983<br>State Name=%{location}<extra></extra>",
         "locations": [
          "Illinois"
         ],
         "marker": {
          "opacity": 0.5
         },
         "name": "2983",
         "showlegend": true,
         "showscale": false,
         "subplot": "mapbox",
         "type": "choroplethmapbox",
         "z": [
          1
         ]
        },
        {
         "colorscale": [
          [
           0,
           "#636efa"
          ],
          [
           1,
           "#636efa"
          ]
         ],
         "geojson": "STATE",
         "hovertemplate": "Ages 6-21=15141<br>State Name=%{location}<extra></extra>",
         "locations": [
          "Illinois"
         ],
         "marker": {
          "opacity": 0.5
         },
         "name": "15141",
         "showlegend": true,
         "showscale": false,
         "subplot": "mapbox",
         "type": "choroplethmapbox",
         "z": [
          1
         ]
        },
        {
         "colorscale": [
          [
           0,
           "#EF553B"
          ],
          [
           1,
           "#EF553B"
          ]
         ],
         "geojson": "STATE",
         "hovertemplate": "Ages 6-21=2625<br>State Name=%{location}<extra></extra>",
         "locations": [
          "Illinois"
         ],
         "marker": {
          "opacity": 0.5
         },
         "name": "2625",
         "showlegend": true,
         "showscale": false,
         "subplot": "mapbox",
         "type": "choroplethmapbox",
         "z": [
          1
         ]
        },
        {
         "colorscale": [
          [
           0,
           "#00cc96"
          ],
          [
           1,
           "#00cc96"
          ]
         ],
         "geojson": "STATE",
         "hovertemplate": "Ages 6-21=883<br>State Name=%{location}<extra></extra>",
         "locations": [
          "Illinois"
         ],
         "marker": {
          "opacity": 0.5
         },
         "name": "883",
         "showlegend": true,
         "showscale": false,
         "subplot": "mapbox",
         "type": "choroplethmapbox",
         "z": [
          1
         ]
        },
        {
         "colorscale": [
          [
           0,
           "#ab63fa"
          ],
          [
           1,
           "#ab63fa"
          ]
         ],
         "geojson": "STATE",
         "hovertemplate": "Ages 6-21=37581<br>State Name=%{location}<extra></extra>",
         "locations": [
          "Illinois"
         ],
         "marker": {
          "opacity": 0.5
         },
         "name": "37581",
         "showlegend": true,
         "showscale": false,
         "subplot": "mapbox",
         "type": "choroplethmapbox",
         "z": [
          1
         ]
        },
        {
         "colorscale": [
          [
           0,
           "#FFA15A"
          ],
          [
           1,
           "#FFA15A"
          ]
         ],
         "geojson": "STATE",
         "hovertemplate": "Ages 6-21=100599<br>State Name=%{location}<extra></extra>",
         "locations": [
          "Illinois"
         ],
         "marker": {
          "opacity": 0.5
         },
         "name": "100599",
         "showlegend": true,
         "showscale": false,
         "subplot": "mapbox",
         "type": "choroplethmapbox",
         "z": [
          1
         ]
        },
        {
         "colorscale": [
          [
           0,
           "#19d3f3"
          ],
          [
           1,
           "#19d3f3"
          ]
         ],
         "geojson": "STATE",
         "hovertemplate": "Ages 6-21=34676<br>State Name=%{location}<extra></extra>",
         "locations": [
          "Illinois"
         ],
         "marker": {
          "opacity": 0.5
         },
         "name": "34676",
         "showlegend": true,
         "showscale": false,
         "subplot": "mapbox",
         "type": "choroplethmapbox",
         "z": [
          1
         ]
        },
        {
         "colorscale": [
          [
           0,
           "#FF6692"
          ],
          [
           1,
           "#FF6692"
          ]
         ],
         "geojson": "STATE",
         "hovertemplate": "Ages 6-21=588<br>State Name=%{location}<extra></extra>",
         "locations": [
          "Illinois"
         ],
         "marker": {
          "opacity": 0.5
         },
         "name": "588",
         "showlegend": true,
         "showscale": false,
         "subplot": "mapbox",
         "type": "choroplethmapbox",
         "z": [
          1
         ]
        },
        {
         "colorscale": [
          [
           0,
           "#B6E880"
          ],
          [
           1,
           "#B6E880"
          ]
         ],
         "geojson": "STATE",
         "hovertemplate": "Ages 6-21=957<br>State Name=%{location}<extra></extra>",
         "locations": [
          "Illinois"
         ],
         "marker": {
          "opacity": 0.5
         },
         "name": "957",
         "showlegend": true,
         "showscale": false,
         "subplot": "mapbox",
         "type": "choroplethmapbox",
         "z": [
          1
         ]
        },
        {
         "colorscale": [
          [
           0,
           "#FF97FF"
          ],
          [
           1,
           "#FF97FF"
          ]
         ],
         "geojson": "STATE",
         "hovertemplate": "Ages 6-21=159597<br>State Name=%{location}<extra></extra>",
         "locations": [
          "Indiana"
         ],
         "marker": {
          "opacity": 0.5
         },
         "name": "159597",
         "showlegend": true,
         "showscale": false,
         "subplot": "mapbox",
         "type": "choroplethmapbox",
         "z": [
          1
         ]
        },
        {
         "colorscale": [
          [
           0,
           "#FECB52"
          ],
          [
           1,
           "#FECB52"
          ]
         ],
         "geojson": "STATE",
         "hovertemplate": "Ages 6-21=15565<br>State Name=%{location}<extra></extra>",
         "locations": [
          "Indiana"
         ],
         "marker": {
          "opacity": 0.5
         },
         "name": "15565",
         "showlegend": true,
         "showscale": false,
         "subplot": "mapbox",
         "type": "choroplethmapbox",
         "z": [
          1
         ]
        },
        {
         "colorscale": [
          [
           0,
           "#636efa"
          ],
          [
           1,
           "#636efa"
          ]
         ],
         "geojson": "STATE",
         "hovertemplate": "Ages 6-21=892<br>State Name=%{location}<extra></extra>",
         "locations": [
          "Indiana"
         ],
         "marker": {
          "opacity": 0.5
         },
         "name": "892",
         "showlegend": true,
         "showscale": false,
         "subplot": "mapbox",
         "type": "choroplethmapbox",
         "z": [
          1
         ]
        },
        {
         "colorscale": [
          [
           0,
           "#EF553B"
          ],
          [
           1,
           "#EF553B"
          ]
         ],
         "geojson": "STATE",
         "hovertemplate": "Ages 6-21=12838<br>State Name=%{location}<extra></extra>",
         "locations": [
          "Indiana"
         ],
         "marker": {
          "opacity": 0.5
         },
         "name": "12838",
         "showlegend": true,
         "showscale": false,
         "subplot": "mapbox",
         "type": "choroplethmapbox",
         "z": [
          1
         ]
        },
        {
         "colorscale": [
          [
           0,
           "#00cc96"
          ],
          [
           1,
           "#00cc96"
          ]
         ],
         "geojson": "STATE",
         "hovertemplate": "Ages 6-21=2200<br>State Name=%{location}<extra></extra>",
         "locations": [
          "Indiana"
         ],
         "marker": {
          "opacity": 0.5
         },
         "name": "2200",
         "showlegend": true,
         "showscale": false,
         "subplot": "mapbox",
         "type": "choroplethmapbox",
         "z": [
          1
         ]
        },
        {
         "colorscale": [
          [
           0,
           "#ab63fa"
          ],
          [
           1,
           "#ab63fa"
          ]
         ],
         "geojson": "STATE",
         "hovertemplate": "Ages 6-21=13336<br>State Name=%{location}<extra></extra>",
         "locations": [
          "Indiana"
         ],
         "marker": {
          "opacity": 0.5
         },
         "name": "13336",
         "showlegend": true,
         "showscale": false,
         "subplot": "mapbox",
         "type": "choroplethmapbox",
         "z": [
          1
         ]
        },
        {
         "colorscale": [
          [
           0,
           "#FFA15A"
          ],
          [
           1,
           "#FFA15A"
          ]
         ],
         "geojson": "STATE",
         "hovertemplate": "Ages 6-21=1944<br>State Name=%{location}<extra></extra>",
         "locations": [
          "Indiana"
         ],
         "marker": {
          "opacity": 0.5
         },
         "name": "1944",
         "showlegend": true,
         "showscale": false,
         "subplot": "mapbox",
         "type": "choroplethmapbox",
         "z": [
          1
         ]
        },
        {
         "colorscale": [
          [
           0,
           "#19d3f3"
          ],
          [
           1,
           "#19d3f3"
          ]
         ],
         "geojson": "STATE",
         "hovertemplate": "Ages 6-21=1342<br>State Name=%{location}<extra></extra>",
         "locations": [
          "Indiana"
         ],
         "marker": {
          "opacity": 0.5
         },
         "name": "1342",
         "showlegend": true,
         "showscale": false,
         "subplot": "mapbox",
         "type": "choroplethmapbox",
         "z": [
          1
         ]
        },
        {
         "colorscale": [
          [
           0,
           "#FF6692"
          ],
          [
           1,
           "#FF6692"
          ]
         ],
         "geojson": "STATE",
         "hovertemplate": "Ages 6-21=25600<br>State Name=%{location}<extra></extra>",
         "locations": [
          "Indiana"
         ],
         "marker": {
          "opacity": 0.5
         },
         "name": "25600",
         "showlegend": true,
         "showscale": false,
         "subplot": "mapbox",
         "type": "choroplethmapbox",
         "z": [
          1
         ]
        },
        {
         "colorscale": [
          [
           0,
           "#B6E880"
          ],
          [
           1,
           "#B6E880"
          ]
         ],
         "geojson": "STATE",
         "hovertemplate": "Ages 6-21=54407<br>State Name=%{location}<extra></extra>",
         "locations": [
          "Indiana"
         ],
         "marker": {
          "opacity": 0.5
         },
         "name": "54407",
         "showlegend": true,
         "showscale": false,
         "subplot": "mapbox",
         "type": "choroplethmapbox",
         "z": [
          1
         ]
        },
        {
         "colorscale": [
          [
           0,
           "#FF97FF"
          ],
          [
           1,
           "#FF97FF"
          ]
         ],
         "geojson": "STATE",
         "hovertemplate": "Ages 6-21=30087<br>State Name=%{location}<extra></extra>",
         "locations": [
          "Indiana"
         ],
         "marker": {
          "opacity": 0.5
         },
         "name": "30087",
         "showlegend": true,
         "showscale": false,
         "subplot": "mapbox",
         "type": "choroplethmapbox",
         "z": [
          1
         ]
        },
        {
         "colorscale": [
          [
           0,
           "#FECB52"
          ],
          [
           1,
           "#FECB52"
          ]
         ],
         "geojson": "STATE",
         "hovertemplate": "Ages 6-21=447<br>State Name=%{location}<extra></extra>",
         "locations": [
          "Indiana"
         ],
         "marker": {
          "opacity": 0.5
         },
         "name": "447",
         "showlegend": true,
         "showscale": false,
         "subplot": "mapbox",
         "type": "choroplethmapbox",
         "z": [
          1
         ]
        },
        {
         "colorscale": [
          [
           0,
           "#636efa"
          ],
          [
           1,
           "#636efa"
          ]
         ],
         "geojson": "STATE",
         "hovertemplate": "Ages 6-21=60561<br>State Name=%{location}<extra></extra>",
         "locations": [
          "Iowa"
         ],
         "marker": {
          "opacity": 0.5
         },
         "name": "60561",
         "showlegend": true,
         "showscale": false,
         "subplot": "mapbox",
         "type": "choroplethmapbox",
         "z": [
          1
         ]
        },
        {
         "colorscale": [
          [
           0,
           "#EF553B"
          ],
          [
           1,
           "#EF553B"
          ]
         ],
         "geojson": "STATE",
         "hovertemplate": "Ages 6-21=682<br>State Name=%{location}<extra></extra>",
         "locations": [
          "Iowa",
          "Iowa"
         ],
         "marker": {
          "opacity": 0.5
         },
         "name": "682",
         "showlegend": true,
         "showscale": false,
         "subplot": "mapbox",
         "type": "choroplethmapbox",
         "z": [
          1,
          1
         ]
        },
        {
         "colorscale": [
          [
           0,
           "#00cc96"
          ],
          [
           1,
           "#00cc96"
          ]
         ],
         "geojson": "STATE",
         "hovertemplate": "Ages 6-21=5896<br>State Name=%{location}<extra></extra>",
         "locations": [
          "Iowa"
         ],
         "marker": {
          "opacity": 0.5
         },
         "name": "5896",
         "showlegend": true,
         "showscale": false,
         "subplot": "mapbox",
         "type": "choroplethmapbox",
         "z": [
          1
         ]
        },
        {
         "colorscale": [
          [
           0,
           "#ab63fa"
          ],
          [
           1,
           "#ab63fa"
          ]
         ],
         "geojson": "STATE",
         "hovertemplate": "Ages 6-21=423<br>State Name=%{location}<extra></extra>",
         "locations": [
          "Iowa"
         ],
         "marker": {
          "opacity": 0.5
         },
         "name": "423",
         "showlegend": true,
         "showscale": false,
         "subplot": "mapbox",
         "type": "choroplethmapbox",
         "z": [
          1
         ]
        },
        {
         "colorscale": [
          [
           0,
           "#FFA15A"
          ],
          [
           1,
           "#FFA15A"
          ]
         ],
         "geojson": "STATE",
         "hovertemplate": "Ages 6-21=10436<br>State Name=%{location}<extra></extra>",
         "locations": [
          "Iowa"
         ],
         "marker": {
          "opacity": 0.5
         },
         "name": "10436",
         "showlegend": true,
         "showscale": false,
         "subplot": "mapbox",
         "type": "choroplethmapbox",
         "z": [
          1
         ]
        },
        {
         "colorscale": [
          [
           0,
           "#19d3f3"
          ],
          [
           1,
           "#19d3f3"
          ]
         ],
         "geojson": "STATE",
         "hovertemplate": "Ages 6-21=334<br>State Name=%{location}<extra></extra>",
         "locations": [
          "Iowa"
         ],
         "marker": {
          "opacity": 0.5
         },
         "name": "334",
         "showlegend": true,
         "showscale": false,
         "subplot": "mapbox",
         "type": "choroplethmapbox",
         "z": [
          1
         ]
        },
        {
         "colorscale": [
          [
           0,
           "#FF6692"
          ],
          [
           1,
           "#FF6692"
          ]
         ],
         "geojson": "STATE",
         "hovertemplate": "Ages 6-21=36571<br>State Name=%{location}<extra></extra>",
         "locations": [
          "Iowa"
         ],
         "marker": {
          "opacity": 0.5
         },
         "name": "36571",
         "showlegend": true,
         "showscale": false,
         "subplot": "mapbox",
         "type": "choroplethmapbox",
         "z": [
          1
         ]
        },
        {
         "colorscale": [
          [
           0,
           "#B6E880"
          ],
          [
           1,
           "#B6E880"
          ]
         ],
         "geojson": "STATE",
         "hovertemplate": "Ages 6-21=5216<br>State Name=%{location}<extra></extra>",
         "locations": [
          "Iowa"
         ],
         "marker": {
          "opacity": 0.5
         },
         "name": "5216",
         "showlegend": true,
         "showscale": false,
         "subplot": "mapbox",
         "type": "choroplethmapbox",
         "z": [
          1
         ]
        },
        {
         "colorscale": [
          [
           0,
           "#FF97FF"
          ],
          [
           1,
           "#FF97FF"
          ]
         ],
         "geojson": "STATE",
         "hovertemplate": "Ages 6-21=165<br>State Name=%{location}<extra></extra>",
         "locations": [
          "Iowa",
          "Nevada"
         ],
         "marker": {
          "opacity": 0.5
         },
         "name": "165",
         "showlegend": true,
         "showscale": false,
         "subplot": "mapbox",
         "type": "choroplethmapbox",
         "z": [
          1,
          1
         ]
        },
        {
         "colorscale": [
          [
           0,
           "#FECB52"
          ],
          [
           1,
           "#FECB52"
          ]
         ],
         "geojson": "STATE",
         "hovertemplate": "Ages 6-21=63406<br>State Name=%{location}<extra></extra>",
         "locations": [
          "Kansas"
         ],
         "marker": {
          "opacity": 0.5
         },
         "name": "63406",
         "showlegend": true,
         "showscale": false,
         "subplot": "mapbox",
         "type": "choroplethmapbox",
         "z": [
          1
         ]
        },
        {
         "colorscale": [
          [
           0,
           "#636efa"
          ],
          [
           1,
           "#636efa"
          ]
         ],
         "geojson": "STATE",
         "hovertemplate": "Ages 6-21=4268<br>State Name=%{location}<extra></extra>",
         "locations": [
          "Kansas"
         ],
         "marker": {
          "opacity": 0.5
         },
         "name": "4268",
         "showlegend": true,
         "showscale": false,
         "subplot": "mapbox",
         "type": "choroplethmapbox",
         "z": [
          1
         ]
        },
        {
         "colorscale": [
          [
           0,
           "#EF553B"
          ],
          [
           1,
           "#EF553B"
          ]
         ],
         "geojson": "STATE",
         "hovertemplate": "Ages 6-21=7308<br>State Name=%{location}<extra></extra>",
         "locations": [
          "Kansas"
         ],
         "marker": {
          "opacity": 0.5
         },
         "name": "7308",
         "showlegend": true,
         "showscale": false,
         "subplot": "mapbox",
         "type": "choroplethmapbox",
         "z": [
          1
         ]
        },
        {
         "colorscale": [
          [
           0,
           "#00cc96"
          ],
          [
           1,
           "#00cc96"
          ]
         ],
         "geojson": "STATE",
         "hovertemplate": "Ages 6-21=2436<br>State Name=%{location}<extra></extra>",
         "locations": [
          "Kansas"
         ],
         "marker": {
          "opacity": 0.5
         },
         "name": "2436",
         "showlegend": true,
         "showscale": false,
         "subplot": "mapbox",
         "type": "choroplethmapbox",
         "z": [
          1
         ]
        },
        {
         "colorscale": [
          [
           0,
           "#ab63fa"
          ],
          [
           1,
           "#ab63fa"
          ]
         ],
         "geojson": "STATE",
         "hovertemplate": "Ages 6-21=3302<br>State Name=%{location}<extra></extra>",
         "locations": [
          "Kansas"
         ],
         "marker": {
          "opacity": 0.5
         },
         "name": "3302",
         "showlegend": true,
         "showscale": false,
         "subplot": "mapbox",
         "type": "choroplethmapbox",
         "z": [
          1
         ]
        },
        {
         "colorscale": [
          [
           0,
           "#FFA15A"
          ],
          [
           1,
           "#FFA15A"
          ]
         ],
         "geojson": "STATE",
         "hovertemplate": "Ages 6-21=3303<br>State Name=%{location}<extra></extra>",
         "locations": [
          "Kansas"
         ],
         "marker": {
          "opacity": 0.5
         },
         "name": "3303",
         "showlegend": true,
         "showscale": false,
         "subplot": "mapbox",
         "type": "choroplethmapbox",
         "z": [
          1
         ]
        },
        {
         "colorscale": [
          [
           0,
           "#19d3f3"
          ],
          [
           1,
           "#19d3f3"
          ]
         ],
         "geojson": "STATE",
         "hovertemplate": "Ages 6-21=188<br>State Name=%{location}<extra></extra>",
         "locations": [
          "Kansas"
         ],
         "marker": {
          "opacity": 0.5
         },
         "name": "188",
         "showlegend": true,
         "showscale": false,
         "subplot": "mapbox",
         "type": "choroplethmapbox",
         "z": [
          1
         ]
        },
        {
         "colorscale": [
          [
           0,
           "#FF6692"
          ],
          [
           1,
           "#FF6692"
          ]
         ],
         "geojson": "STATE",
         "hovertemplate": "Ages 6-21=7830<br>State Name=%{location}<extra></extra>",
         "locations": [
          "Kansas"
         ],
         "marker": {
          "opacity": 0.5
         },
         "name": "7830",
         "showlegend": true,
         "showscale": false,
         "subplot": "mapbox",
         "type": "choroplethmapbox",
         "z": [
          1
         ]
        },
        {
         "colorscale": [
          [
           0,
           "#B6E880"
          ],
          [
           1,
           "#B6E880"
          ]
         ],
         "geojson": "STATE",
         "hovertemplate": "Ages 6-21=25296<br>State Name=%{location}<extra></extra>",
         "locations": [
          "Kansas"
         ],
         "marker": {
          "opacity": 0.5
         },
         "name": "25296",
         "showlegend": true,
         "showscale": false,
         "subplot": "mapbox",
         "type": "choroplethmapbox",
         "z": [
          1
         ]
        },
        {
         "colorscale": [
          [
           0,
           "#FF97FF"
          ],
          [
           1,
           "#FF97FF"
          ]
         ],
         "geojson": "STATE",
         "hovertemplate": "Ages 6-21=8642<br>State Name=%{location}<extra></extra>",
         "locations": [
          "Kansas"
         ],
         "marker": {
          "opacity": 0.5
         },
         "name": "8642",
         "showlegend": true,
         "showscale": false,
         "subplot": "mapbox",
         "type": "choroplethmapbox",
         "z": [
          1
         ]
        },
        {
         "colorscale": [
          [
           0,
           "#FECB52"
          ],
          [
           1,
           "#FECB52"
          ]
         ],
         "geojson": "STATE",
         "hovertemplate": "Ages 6-21=132<br>State Name=%{location}<extra></extra>",
         "locations": [
          "Kansas"
         ],
         "marker": {
          "opacity": 0.5
         },
         "name": "132",
         "showlegend": true,
         "showscale": false,
         "subplot": "mapbox",
         "type": "choroplethmapbox",
         "z": [
          1
         ]
        },
        {
         "colorscale": [
          [
           0,
           "#636efa"
          ],
          [
           1,
           "#636efa"
          ]
         ],
         "geojson": "STATE",
         "hovertemplate": "Ages 6-21=87926<br>State Name=%{location}<extra></extra>",
         "locations": [
          "Kentucky"
         ],
         "marker": {
          "opacity": 0.5
         },
         "name": "87926",
         "showlegend": true,
         "showscale": false,
         "subplot": "mapbox",
         "type": "choroplethmapbox",
         "z": [
          1
         ]
        },
        {
         "colorscale": [
          [
           0,
           "#EF553B"
          ],
          [
           1,
           "#EF553B"
          ]
         ],
         "geojson": "STATE",
         "hovertemplate": "Ages 6-21=11<br>State Name=%{location}<extra></extra>",
         "locations": [
          "Kentucky",
          "Oregon"
         ],
         "marker": {
          "opacity": 0.5
         },
         "name": "11",
         "showlegend": true,
         "showscale": false,
         "subplot": "mapbox",
         "type": "choroplethmapbox",
         "z": [
          1,
          1
         ]
        },
        {
         "colorscale": [
          [
           0,
           "#00cc96"
          ],
          [
           1,
           "#00cc96"
          ]
         ],
         "geojson": "STATE",
         "hovertemplate": "Ages 6-21=7192<br>State Name=%{location}<extra></extra>",
         "locations": [
          "Kentucky"
         ],
         "marker": {
          "opacity": 0.5
         },
         "name": "7192",
         "showlegend": true,
         "showscale": false,
         "subplot": "mapbox",
         "type": "choroplethmapbox",
         "z": [
          1
         ]
        },
        {
         "colorscale": [
          [
           0,
           "#ab63fa"
          ],
          [
           1,
           "#ab63fa"
          ]
         ],
         "geojson": "STATE",
         "hovertemplate": "Ages 6-21=4524<br>State Name=%{location}<extra></extra>",
         "locations": [
          "Kentucky"
         ],
         "marker": {
          "opacity": 0.5
         },
         "name": "4524",
         "showlegend": true,
         "showscale": false,
         "subplot": "mapbox",
         "type": "choroplethmapbox",
         "z": [
          1
         ]
        },
        {
         "colorscale": [
          [
           0,
           "#FFA15A"
          ],
          [
           1,
           "#FFA15A"
          ]
         ],
         "geojson": "STATE",
         "hovertemplate": "Ages 6-21=586<br>State Name=%{location}<extra></extra>",
         "locations": [
          "Kentucky"
         ],
         "marker": {
          "opacity": 0.5
         },
         "name": "586",
         "showlegend": true,
         "showscale": false,
         "subplot": "mapbox",
         "type": "choroplethmapbox",
         "z": [
          1
         ]
        },
        {
         "colorscale": [
          [
           0,
           "#19d3f3"
          ],
          [
           1,
           "#19d3f3"
          ]
         ],
         "geojson": "STATE",
         "hovertemplate": "Ages 6-21=13535<br>State Name=%{location}<extra></extra>",
         "locations": [
          "Kentucky"
         ],
         "marker": {
          "opacity": 0.5
         },
         "name": "13535",
         "showlegend": true,
         "showscale": false,
         "subplot": "mapbox",
         "type": "choroplethmapbox",
         "z": [
          1
         ]
        },
        {
         "colorscale": [
          [
           0,
           "#FF6692"
          ],
          [
           1,
           "#FF6692"
          ]
         ],
         "geojson": "STATE",
         "hovertemplate": "Ages 6-21=1887<br>State Name=%{location}<extra></extra>",
         "locations": [
          "Kentucky"
         ],
         "marker": {
          "opacity": 0.5
         },
         "name": "1887",
         "showlegend": true,
         "showscale": false,
         "subplot": "mapbox",
         "type": "choroplethmapbox",
         "z": [
          1
         ]
        },
        {
         "colorscale": [
          [
           0,
           "#B6E880"
          ],
          [
           1,
           "#B6E880"
          ]
         ],
         "geojson": "STATE",
         "hovertemplate": "Ages 6-21=360<br>State Name=%{location}<extra></extra>",
         "locations": [
          "Kentucky"
         ],
         "marker": {
          "opacity": 0.5
         },
         "name": "360",
         "showlegend": true,
         "showscale": false,
         "subplot": "mapbox",
         "type": "choroplethmapbox",
         "z": [
          1
         ]
        },
        {
         "colorscale": [
          [
           0,
           "#FF97FF"
          ],
          [
           1,
           "#FF97FF"
          ]
         ],
         "geojson": "STATE",
         "hovertemplate": "Ages 6-21=15250<br>State Name=%{location}<extra></extra>",
         "locations": [
          "Kentucky"
         ],
         "marker": {
          "opacity": 0.5
         },
         "name": "15250",
         "showlegend": true,
         "showscale": false,
         "subplot": "mapbox",
         "type": "choroplethmapbox",
         "z": [
          1
         ]
        },
        {
         "colorscale": [
          [
           0,
           "#FECB52"
          ],
          [
           1,
           "#FECB52"
          ]
         ],
         "geojson": "STATE",
         "hovertemplate": "Ages 6-21=17629<br>State Name=%{location}<extra></extra>",
         "locations": [
          "Kentucky"
         ],
         "marker": {
          "opacity": 0.5
         },
         "name": "17629",
         "showlegend": true,
         "showscale": false,
         "subplot": "mapbox",
         "type": "choroplethmapbox",
         "z": [
          1
         ]
        },
        {
         "colorscale": [
          [
           0,
           "#636efa"
          ],
          [
           1,
           "#636efa"
          ]
         ],
         "geojson": "STATE",
         "hovertemplate": "Ages 6-21=19318<br>State Name=%{location}<extra></extra>",
         "locations": [
          "Kentucky"
         ],
         "marker": {
          "opacity": 0.5
         },
         "name": "19318",
         "showlegend": true,
         "showscale": false,
         "subplot": "mapbox",
         "type": "choroplethmapbox",
         "z": [
          1
         ]
        },
        {
         "colorscale": [
          [
           0,
           "#EF553B"
          ],
          [
           1,
           "#EF553B"
          ]
         ],
         "geojson": "STATE",
         "hovertemplate": "Ages 6-21=205<br>State Name=%{location}<extra></extra>",
         "locations": [
          "Kentucky"
         ],
         "marker": {
          "opacity": 0.5
         },
         "name": "205",
         "showlegend": true,
         "showscale": false,
         "subplot": "mapbox",
         "type": "choroplethmapbox",
         "z": [
          1
         ]
        },
        {
         "colorscale": [
          [
           0,
           "#00cc96"
          ],
          [
           1,
           "#00cc96"
          ]
         ],
         "geojson": "STATE",
         "hovertemplate": "Ages 6-21=501<br>State Name=%{location}<extra></extra>",
         "locations": [
          "Kentucky"
         ],
         "marker": {
          "opacity": 0.5
         },
         "name": "501",
         "showlegend": true,
         "showscale": false,
         "subplot": "mapbox",
         "type": "choroplethmapbox",
         "z": [
          1
         ]
        },
        {
         "colorscale": [
          [
           0,
           "#ab63fa"
          ],
          [
           1,
           "#ab63fa"
          ]
         ],
         "geojson": "STATE",
         "hovertemplate": "Ages 6-21=76345<br>State Name=%{location}<extra></extra>",
         "locations": [
          "Louisiana"
         ],
         "marker": {
          "opacity": 0.5
         },
         "name": "76345",
         "showlegend": true,
         "showscale": false,
         "subplot": "mapbox",
         "type": "choroplethmapbox",
         "z": [
          1
         ]
        },
        {
         "colorscale": [
          [
           0,
           "#FFA15A"
          ],
          [
           1,
           "#FFA15A"
          ]
         ],
         "geojson": "STATE",
         "hovertemplate": "Ages 6-21=5577<br>State Name=%{location}<extra></extra>",
         "locations": [
          "Louisiana"
         ],
         "marker": {
          "opacity": 0.5
         },
         "name": "5577",
         "showlegend": true,
         "showscale": false,
         "subplot": "mapbox",
         "type": "choroplethmapbox",
         "z": [
          1
         ]
        },
        {
         "colorscale": [
          [
           0,
           "#19d3f3"
          ],
          [
           1,
           "#19d3f3"
          ]
         ],
         "geojson": "STATE",
         "hovertemplate": "Ages 6-21=7<br>State Name=%{location}<extra></extra>",
         "locations": [
          "Louisiana",
          "Republic of Palau",
          "Republic of the Marshall Islands"
         ],
         "marker": {
          "opacity": 0.5
         },
         "name": "7",
         "showlegend": true,
         "showscale": false,
         "subplot": "mapbox",
         "type": "choroplethmapbox",
         "z": [
          1,
          1,
          1
         ]
        },
        {
         "colorscale": [
          [
           0,
           "#FF6692"
          ],
          [
           1,
           "#FF6692"
          ]
         ],
         "geojson": "STATE",
         "hovertemplate": "Ages 6-21=7571<br>State Name=%{location}<extra></extra>",
         "locations": [
          "Louisiana"
         ],
         "marker": {
          "opacity": 0.5
         },
         "name": "7571",
         "showlegend": true,
         "showscale": false,
         "subplot": "mapbox",
         "type": "choroplethmapbox",
         "z": [
          1
         ]
        },
        {
         "colorscale": [
          [
           0,
           "#B6E880"
          ],
          [
           1,
           "#B6E880"
          ]
         ],
         "geojson": "STATE",
         "hovertemplate": "Ages 6-21=1715<br>State Name=%{location}<extra></extra>",
         "locations": [
          "Louisiana"
         ],
         "marker": {
          "opacity": 0.5
         },
         "name": "1715",
         "showlegend": true,
         "showscale": false,
         "subplot": "mapbox",
         "type": "choroplethmapbox",
         "z": [
          1
         ]
        },
        {
         "colorscale": [
          [
           0,
           "#FF97FF"
          ],
          [
           1,
           "#FF97FF"
          ]
         ],
         "geojson": "STATE",
         "hovertemplate": "Ages 6-21=1039<br>State Name=%{location}<extra></extra>",
         "locations": [
          "Louisiana"
         ],
         "marker": {
          "opacity": 0.5
         },
         "name": "1039",
         "showlegend": true,
         "showscale": false,
         "subplot": "mapbox",
         "type": "choroplethmapbox",
         "z": [
          1
         ]
        },
        {
         "colorscale": [
          [
           0,
           "#FECB52"
          ],
          [
           1,
           "#FECB52"
          ]
         ],
         "geojson": "STATE",
         "hovertemplate": "Ages 6-21=7676<br>State Name=%{location}<extra></extra>",
         "locations": [
          "Louisiana"
         ],
         "marker": {
          "opacity": 0.5
         },
         "name": "7676",
         "showlegend": true,
         "showscale": false,
         "subplot": "mapbox",
         "type": "choroplethmapbox",
         "z": [
          1
         ]
        },
        {
         "colorscale": [
          [
           0,
           "#636efa"
          ],
          [
           1,
           "#636efa"
          ]
         ],
         "geojson": "STATE",
         "hovertemplate": "Ages 6-21=937<br>State Name=%{location}<extra></extra>",
         "locations": [
          "Louisiana"
         ],
         "marker": {
          "opacity": 0.5
         },
         "name": "937",
         "showlegend": true,
         "showscale": false,
         "subplot": "mapbox",
         "type": "choroplethmapbox",
         "z": [
          1
         ]
        },
        {
         "colorscale": [
          [
           0,
           "#EF553B"
          ],
          [
           1,
           "#EF553B"
          ]
         ],
         "geojson": "STATE",
         "hovertemplate": "Ages 6-21=876<br>State Name=%{location}<extra></extra>",
         "locations": [
          "Louisiana"
         ],
         "marker": {
          "opacity": 0.5
         },
         "name": "876",
         "showlegend": true,
         "showscale": false,
         "subplot": "mapbox",
         "type": "choroplethmapbox",
         "z": [
          1
         ]
        },
        {
         "colorscale": [
          [
           0,
           "#00cc96"
          ],
          [
           1,
           "#00cc96"
          ]
         ],
         "geojson": "STATE",
         "hovertemplate": "Ages 6-21=11359<br>State Name=%{location}<extra></extra>",
         "locations": [
          "Louisiana"
         ],
         "marker": {
          "opacity": 0.5
         },
         "name": "11359",
         "showlegend": true,
         "showscale": false,
         "subplot": "mapbox",
         "type": "choroplethmapbox",
         "z": [
          1
         ]
        },
        {
         "colorscale": [
          [
           0,
           "#ab63fa"
          ],
          [
           1,
           "#ab63fa"
          ]
         ],
         "geojson": "STATE",
         "hovertemplate": "Ages 6-21=26594<br>State Name=%{location}<extra></extra>",
         "locations": [
          "Louisiana"
         ],
         "marker": {
          "opacity": 0.5
         },
         "name": "26594",
         "showlegend": true,
         "showscale": false,
         "subplot": "mapbox",
         "type": "choroplethmapbox",
         "z": [
          1
         ]
        },
        {
         "colorscale": [
          [
           0,
           "#FFA15A"
          ],
          [
           1,
           "#FFA15A"
          ]
         ],
         "geojson": "STATE",
         "hovertemplate": "Ages 6-21=12302<br>State Name=%{location}<extra></extra>",
         "locations": [
          "Louisiana"
         ],
         "marker": {
          "opacity": 0.5
         },
         "name": "12302",
         "showlegend": true,
         "showscale": false,
         "subplot": "mapbox",
         "type": "choroplethmapbox",
         "z": [
          1
         ]
        },
        {
         "colorscale": [
          [
           0,
           "#19d3f3"
          ],
          [
           1,
           "#19d3f3"
          ]
         ],
         "geojson": "STATE",
         "hovertemplate": "Ages 6-21=215<br>State Name=%{location}<extra></extra>",
         "locations": [
          "Louisiana",
          "Vermont"
         ],
         "marker": {
          "opacity": 0.5
         },
         "name": "215",
         "showlegend": true,
         "showscale": false,
         "subplot": "mapbox",
         "type": "choroplethmapbox",
         "z": [
          1,
          1
         ]
        },
        {
         "colorscale": [
          [
           0,
           "#FF6692"
          ],
          [
           1,
           "#FF6692"
          ]
         ],
         "geojson": "STATE",
         "hovertemplate": "Ages 6-21=477<br>State Name=%{location}<extra></extra>",
         "locations": [
          "Louisiana"
         ],
         "marker": {
          "opacity": 0.5
         },
         "name": "477",
         "showlegend": true,
         "showscale": false,
         "subplot": "mapbox",
         "type": "choroplethmapbox",
         "z": [
          1
         ]
        },
        {
         "colorscale": [
          [
           0,
           "#B6E880"
          ],
          [
           1,
           "#B6E880"
          ]
         ],
         "geojson": "STATE",
         "hovertemplate": "Ages 6-21=30740<br>State Name=%{location}<extra></extra>",
         "locations": [
          "Maine"
         ],
         "marker": {
          "opacity": 0.5
         },
         "name": "30740",
         "showlegend": true,
         "showscale": false,
         "subplot": "mapbox",
         "type": "choroplethmapbox",
         "z": [
          1
         ]
        },
        {
         "colorscale": [
          [
           0,
           "#FF97FF"
          ],
          [
           1,
           "#FF97FF"
          ]
         ],
         "geojson": "STATE",
         "hovertemplate": "Ages 6-21=3101<br>State Name=%{location}<extra></extra>",
         "locations": [
          "Maine"
         ],
         "marker": {
          "opacity": 0.5
         },
         "name": "3101",
         "showlegend": true,
         "showscale": false,
         "subplot": "mapbox",
         "type": "choroplethmapbox",
         "z": [
          1
         ]
        },
        {
         "colorscale": [
          [
           0,
           "#FECB52"
          ],
          [
           1,
           "#FECB52"
          ]
         ],
         "geojson": "STATE",
         "hovertemplate": "Ages 6-21=15<br>State Name=%{location}<extra></extra>",
         "locations": [
          "Maine"
         ],
         "marker": {
          "opacity": 0.5
         },
         "name": "15",
         "showlegend": true,
         "showscale": false,
         "subplot": "mapbox",
         "type": "choroplethmapbox",
         "z": [
          1
         ]
        },
        {
         "colorscale": [
          [
           0,
           "#636efa"
          ],
          [
           1,
           "#636efa"
          ]
         ],
         "geojson": "STATE",
         "hovertemplate": "Ages 6-21=2328<br>State Name=%{location}<extra></extra>",
         "locations": [
          "Maine"
         ],
         "marker": {
          "opacity": 0.5
         },
         "name": "2328",
         "showlegend": true,
         "showscale": false,
         "subplot": "mapbox",
         "type": "choroplethmapbox",
         "z": [
          1
         ]
        },
        {
         "colorscale": [
          [
           0,
           "#EF553B"
          ],
          [
           1,
           "#EF553B"
          ]
         ],
         "geojson": "STATE",
         "hovertemplate": "Ages 6-21=844<br>State Name=%{location}<extra></extra>",
         "locations": [
          "Maine"
         ],
         "marker": {
          "opacity": 0.5
         },
         "name": "844",
         "showlegend": true,
         "showscale": false,
         "subplot": "mapbox",
         "type": "choroplethmapbox",
         "z": [
          1
         ]
        },
        {
         "colorscale": [
          [
           0,
           "#00cc96"
          ],
          [
           1,
           "#00cc96"
          ]
         ],
         "geojson": "STATE",
         "hovertemplate": "Ages 6-21=3317<br>State Name=%{location}<extra></extra>",
         "locations": [
          "Maine"
         ],
         "marker": {
          "opacity": 0.5
         },
         "name": "3317",
         "showlegend": true,
         "showscale": false,
         "subplot": "mapbox",
         "type": "choroplethmapbox",
         "z": [
          1
         ]
        },
        {
         "colorscale": [
          [
           0,
           "#ab63fa"
          ],
          [
           1,
           "#ab63fa"
          ]
         ],
         "geojson": "STATE",
         "hovertemplate": "Ages 6-21=42<br>State Name=%{location}<extra></extra>",
         "locations": [
          "Maine",
          "Montana",
          "Republic of Palau",
          "Rhode Island"
         ],
         "marker": {
          "opacity": 0.5
         },
         "name": "42",
         "showlegend": true,
         "showscale": false,
         "subplot": "mapbox",
         "type": "choroplethmapbox",
         "z": [
          1,
          1,
          1,
          1
         ]
        },
        {
         "colorscale": [
          [
           0,
           "#FFA15A"
          ],
          [
           1,
           "#FFA15A"
          ]
         ],
         "geojson": "STATE",
         "hovertemplate": "Ages 6-21=6765<br>State Name=%{location}<extra></extra>",
         "locations": [
          "Maine"
         ],
         "marker": {
          "opacity": 0.5
         },
         "name": "6765",
         "showlegend": true,
         "showscale": false,
         "subplot": "mapbox",
         "type": "choroplethmapbox",
         "z": [
          1
         ]
        },
        {
         "colorscale": [
          [
           0,
           "#19d3f3"
          ],
          [
           1,
           "#19d3f3"
          ]
         ],
         "geojson": "STATE",
         "hovertemplate": "Ages 6-21=9744<br>State Name=%{location}<extra></extra>",
         "locations": [
          "Maine"
         ],
         "marker": {
          "opacity": 0.5
         },
         "name": "9744",
         "showlegend": true,
         "showscale": false,
         "subplot": "mapbox",
         "type": "choroplethmapbox",
         "z": [
          1
         ]
        },
        {
         "colorscale": [
          [
           0,
           "#FF6692"
          ],
          [
           1,
           "#FF6692"
          ]
         ],
         "geojson": "STATE",
         "hovertemplate": "Ages 6-21=4342<br>State Name=%{location}<extra></extra>",
         "locations": [
          "Maine"
         ],
         "marker": {
          "opacity": 0.5
         },
         "name": "4342",
         "showlegend": true,
         "showscale": false,
         "subplot": "mapbox",
         "type": "choroplethmapbox",
         "z": [
          1
         ]
        },
        {
         "colorscale": [
          [
           0,
           "#B6E880"
          ],
          [
           1,
           "#B6E880"
          ]
         ],
         "geojson": "STATE",
         "hovertemplate": "Ages 6-21=38<br>State Name=%{location}<extra></extra>",
         "locations": [
          "Maine",
          "Vermont"
         ],
         "marker": {
          "opacity": 0.5
         },
         "name": "38",
         "showlegend": true,
         "showscale": false,
         "subplot": "mapbox",
         "type": "choroplethmapbox",
         "z": [
          1,
          1
         ]
        },
        {
         "colorscale": [
          [
           0,
           "#FF97FF"
          ],
          [
           1,
           "#FF97FF"
          ]
         ],
         "geojson": "STATE",
         "hovertemplate": "Ages 6-21=95918<br>State Name=%{location}<extra></extra>",
         "locations": [
          "Maryland"
         ],
         "marker": {
          "opacity": 0.5
         },
         "name": "95918",
         "showlegend": true,
         "showscale": false,
         "subplot": "mapbox",
         "type": "choroplethmapbox",
         "z": [
          1
         ]
        },
        {
         "colorscale": [
          [
           0,
           "#FECB52"
          ],
          [
           1,
           "#FECB52"
          ]
         ],
         "geojson": "STATE",
         "hovertemplate": "Ages 6-21=11481<br>State Name=%{location}<extra></extra>",
         "locations": [
          "Maryland"
         ],
         "marker": {
          "opacity": 0.5
         },
         "name": "11481",
         "showlegend": true,
         "showscale": false,
         "subplot": "mapbox",
         "type": "choroplethmapbox",
         "z": [
          1
         ]
        },
        {
         "colorscale": [
          [
           0,
           "#636efa"
          ],
          [
           1,
           "#636efa"
          ]
         ],
         "geojson": "STATE",
         "hovertemplate": "Ages 6-21=9<br>State Name=%{location}<extra></extra>",
         "locations": [
          "Maryland",
          "Mississippi",
          "New Hampshire",
          "Republic of Palau",
          "Republic of Palau"
         ],
         "marker": {
          "opacity": 0.5
         },
         "name": "9",
         "showlegend": true,
         "showscale": false,
         "subplot": "mapbox",
         "type": "choroplethmapbox",
         "z": [
          1,
          1,
          1,
          1,
          1
         ]
        },
        {
         "colorscale": [
          [
           0,
           "#EF553B"
          ],
          [
           1,
           "#EF553B"
          ]
         ],
         "geojson": "STATE",
         "hovertemplate": "Ages 6-21=3502<br>State Name=%{location}<extra></extra>",
         "locations": [
          "Maryland"
         ],
         "marker": {
          "opacity": 0.5
         },
         "name": "3502",
         "showlegend": true,
         "showscale": false,
         "subplot": "mapbox",
         "type": "choroplethmapbox",
         "z": [
          1
         ]
        },
        {
         "colorscale": [
          [
           0,
           "#00cc96"
          ],
          [
           1,
           "#00cc96"
          ]
         ],
         "geojson": "STATE",
         "hovertemplate": "Ages 6-21=6107<br>State Name=%{location}<extra></extra>",
         "locations": [
          "Maryland"
         ],
         "marker": {
          "opacity": 0.5
         },
         "name": "6107",
         "showlegend": true,
         "showscale": false,
         "subplot": "mapbox",
         "type": "choroplethmapbox",
         "z": [
          1
         ]
        },
        {
         "colorscale": [
          [
           0,
           "#ab63fa"
          ],
          [
           1,
           "#ab63fa"
          ]
         ],
         "geojson": "STATE",
         "hovertemplate": "Ages 6-21=734<br>State Name=%{location}<extra></extra>",
         "locations": [
          "Maryland"
         ],
         "marker": {
          "opacity": 0.5
         },
         "name": "734",
         "showlegend": true,
         "showscale": false,
         "subplot": "mapbox",
         "type": "choroplethmapbox",
         "z": [
          1
         ]
        },
        {
         "colorscale": [
          [
           0,
           "#FFA15A"
          ],
          [
           1,
           "#FFA15A"
          ]
         ],
         "geojson": "STATE",
         "hovertemplate": "Ages 6-21=6172<br>State Name=%{location}<extra></extra>",
         "locations": [
          "Maryland"
         ],
         "marker": {
          "opacity": 0.5
         },
         "name": "6172",
         "showlegend": true,
         "showscale": false,
         "subplot": "mapbox",
         "type": "choroplethmapbox",
         "z": [
          1
         ]
        },
        {
         "colorscale": [
          [
           0,
           "#19d3f3"
          ],
          [
           1,
           "#19d3f3"
          ]
         ],
         "geojson": "STATE",
         "hovertemplate": "Ages 6-21=6513<br>State Name=%{location}<extra></extra>",
         "locations": [
          "Maryland"
         ],
         "marker": {
          "opacity": 0.5
         },
         "name": "6513",
         "showlegend": true,
         "showscale": false,
         "subplot": "mapbox",
         "type": "choroplethmapbox",
         "z": [
          1
         ]
        },
        {
         "colorscale": [
          [
           0,
           "#FF6692"
          ],
          [
           1,
           "#FF6692"
          ]
         ],
         "geojson": "STATE",
         "hovertemplate": "Ages 6-21=145<br>State Name=%{location}<extra></extra>",
         "locations": [
          "Maryland"
         ],
         "marker": {
          "opacity": 0.5
         },
         "name": "145",
         "showlegend": true,
         "showscale": false,
         "subplot": "mapbox",
         "type": "choroplethmapbox",
         "z": [
          1
         ]
        },
        {
         "colorscale": [
          [
           0,
           "#B6E880"
          ],
          [
           1,
           "#B6E880"
          ]
         ],
         "geojson": "STATE",
         "hovertemplate": "Ages 6-21=18788<br>State Name=%{location}<extra></extra>",
         "locations": [
          "Maryland"
         ],
         "marker": {
          "opacity": 0.5
         },
         "name": "18788",
         "showlegend": true,
         "showscale": false,
         "subplot": "mapbox",
         "type": "choroplethmapbox",
         "z": [
          1
         ]
        },
        {
         "colorscale": [
          [
           0,
           "#FF97FF"
          ],
          [
           1,
           "#FF97FF"
          ]
         ],
         "geojson": "STATE",
         "hovertemplate": "Ages 6-21=30365<br>State Name=%{location}<extra></extra>",
         "locations": [
          "Maryland"
         ],
         "marker": {
          "opacity": 0.5
         },
         "name": "30365",
         "showlegend": true,
         "showscale": false,
         "subplot": "mapbox",
         "type": "choroplethmapbox",
         "z": [
          1
         ]
        },
        {
         "colorscale": [
          [
           0,
           "#FECB52"
          ],
          [
           1,
           "#FECB52"
          ]
         ],
         "geojson": "STATE",
         "hovertemplate": "Ages 6-21=11619<br>State Name=%{location}<extra></extra>",
         "locations": [
          "Maryland"
         ],
         "marker": {
          "opacity": 0.5
         },
         "name": "11619",
         "showlegend": true,
         "showscale": false,
         "subplot": "mapbox",
         "type": "choroplethmapbox",
         "z": [
          1
         ]
        },
        {
         "colorscale": [
          [
           0,
           "#636efa"
          ],
          [
           1,
           "#636efa"
          ]
         ],
         "geojson": "STATE",
         "hovertemplate": "Ages 6-21=216<br>State Name=%{location}<extra></extra>",
         "locations": [
          "Maryland"
         ],
         "marker": {
          "opacity": 0.5
         },
         "name": "216",
         "showlegend": true,
         "showscale": false,
         "subplot": "mapbox",
         "type": "choroplethmapbox",
         "z": [
          1
         ]
        },
        {
         "colorscale": [
          [
           0,
           "#EF553B"
          ],
          [
           1,
           "#EF553B"
          ]
         ],
         "geojson": "STATE",
         "hovertemplate": "Ages 6-21=267<br>State Name=%{location}<extra></extra>",
         "locations": [
          "Maryland"
         ],
         "marker": {
          "opacity": 0.5
         },
         "name": "267",
         "showlegend": true,
         "showscale": false,
         "subplot": "mapbox",
         "type": "choroplethmapbox",
         "z": [
          1
         ]
        },
        {
         "colorscale": [
          [
           0,
           "#00cc96"
          ],
          [
           1,
           "#00cc96"
          ]
         ],
         "geojson": "STATE",
         "hovertemplate": "Ages 6-21=158250<br>State Name=%{location}<extra></extra>",
         "locations": [
          "Massachusetts"
         ],
         "marker": {
          "opacity": 0.5
         },
         "name": "158250",
         "showlegend": true,
         "showscale": false,
         "subplot": "mapbox",
         "type": "choroplethmapbox",
         "z": [
          1
         ]
        },
        {
         "colorscale": [
          [
           0,
           "#ab63fa"
          ],
          [
           1,
           "#ab63fa"
          ]
         ],
         "geojson": "STATE",
         "hovertemplate": "Ages 6-21=18994<br>State Name=%{location}<extra></extra>",
         "locations": [
          "Massachusetts"
         ],
         "marker": {
          "opacity": 0.5
         },
         "name": "18994",
         "showlegend": true,
         "showscale": false,
         "subplot": "mapbox",
         "type": "choroplethmapbox",
         "z": [
          1
         ]
        },
        {
         "colorscale": [
          [
           0,
           "#FFA15A"
          ],
          [
           1,
           "#FFA15A"
          ]
         ],
         "geojson": "STATE",
         "hovertemplate": "Ages 6-21=151<br>State Name=%{location}<extra></extra>",
         "locations": [
          "Massachusetts"
         ],
         "marker": {
          "opacity": 0.5
         },
         "name": "151",
         "showlegend": true,
         "showscale": false,
         "subplot": "mapbox",
         "type": "choroplethmapbox",
         "z": [
          1
         ]
        },
        {
         "colorscale": [
          [
           0,
           "#19d3f3"
          ],
          [
           1,
           "#19d3f3"
          ]
         ],
         "geojson": "STATE",
         "hovertemplate": "Ages 6-21=12639<br>State Name=%{location}<extra></extra>",
         "locations": [
          "Massachusetts"
         ],
         "marker": {
          "opacity": 0.5
         },
         "name": "12639",
         "showlegend": true,
         "showscale": false,
         "subplot": "mapbox",
         "type": "choroplethmapbox",
         "z": [
          1
         ]
        },
        {
         "colorscale": [
          [
           0,
           "#FF6692"
          ],
          [
           1,
           "#FF6692"
          ]
         ],
         "geojson": "STATE",
         "hovertemplate": "Ages 6-21=16935<br>State Name=%{location}<extra></extra>",
         "locations": [
          "Massachusetts"
         ],
         "marker": {
          "opacity": 0.5
         },
         "name": "16935",
         "showlegend": true,
         "showscale": false,
         "subplot": "mapbox",
         "type": "choroplethmapbox",
         "z": [
          1
         ]
        },
        {
         "colorscale": [
          [
           0,
           "#B6E880"
          ],
          [
           1,
           "#B6E880"
          ]
         ],
         "geojson": "STATE",
         "hovertemplate": "Ages 6-21=1042<br>State Name=%{location}<extra></extra>",
         "locations": [
          "Massachusetts"
         ],
         "marker": {
          "opacity": 0.5
         },
         "name": "1042",
         "showlegend": true,
         "showscale": false,
         "subplot": "mapbox",
         "type": "choroplethmapbox",
         "z": [
          1
         ]
        },
        {
         "colorscale": [
          [
           0,
           "#FF97FF"
          ],
          [
           1,
           "#FF97FF"
          ]
         ],
         "geojson": "STATE",
         "hovertemplate": "Ages 6-21=7723<br>State Name=%{location}<extra></extra>",
         "locations": [
          "Massachusetts"
         ],
         "marker": {
          "opacity": 0.5
         },
         "name": "7723",
         "showlegend": true,
         "showscale": false,
         "subplot": "mapbox",
         "type": "choroplethmapbox",
         "z": [
          1
         ]
        },
        {
         "colorscale": [
          [
           0,
           "#FECB52"
          ],
          [
           1,
           "#FECB52"
          ]
         ],
         "geojson": "STATE",
         "hovertemplate": "Ages 6-21=2699<br>State Name=%{location}<extra></extra>",
         "locations": [
          "Massachusetts"
         ],
         "marker": {
          "opacity": 0.5
         },
         "name": "2699",
         "showlegend": true,
         "showscale": false,
         "subplot": "mapbox",
         "type": "choroplethmapbox",
         "z": [
          1
         ]
        },
        {
         "colorscale": [
          [
           0,
           "#636efa"
          ],
          [
           1,
           "#636efa"
          ]
         ],
         "geojson": "STATE",
         "hovertemplate": "Ages 6-21=871<br>State Name=%{location}<extra></extra>",
         "locations": [
          "Massachusetts"
         ],
         "marker": {
          "opacity": 0.5
         },
         "name": "871",
         "showlegend": true,
         "showscale": false,
         "subplot": "mapbox",
         "type": "choroplethmapbox",
         "z": [
          1
         ]
        },
        {
         "colorscale": [
          [
           0,
           "#EF553B"
          ],
          [
           1,
           "#EF553B"
          ]
         ],
         "geojson": "STATE",
         "hovertemplate": "Ages 6-21=23872<br>State Name=%{location}<extra></extra>",
         "locations": [
          "Massachusetts"
         ],
         "marker": {
          "opacity": 0.5
         },
         "name": "23872",
         "showlegend": true,
         "showscale": false,
         "subplot": "mapbox",
         "type": "choroplethmapbox",
         "z": [
          1
         ]
        },
        {
         "colorscale": [
          [
           0,
           "#00cc96"
          ],
          [
           1,
           "#00cc96"
          ]
         ],
         "geojson": "STATE",
         "hovertemplate": "Ages 6-21=41987<br>State Name=%{location}<extra></extra>",
         "locations": [
          "Massachusetts"
         ],
         "marker": {
          "opacity": 0.5
         },
         "name": "41987",
         "showlegend": true,
         "showscale": false,
         "subplot": "mapbox",
         "type": "choroplethmapbox",
         "z": [
          1
         ]
        },
        {
         "colorscale": [
          [
           0,
           "#ab63fa"
          ],
          [
           1,
           "#ab63fa"
          ]
         ],
         "geojson": "STATE",
         "hovertemplate": "Ages 6-21=21140<br>State Name=%{location}<extra></extra>",
         "locations": [
          "Massachusetts"
         ],
         "marker": {
          "opacity": 0.5
         },
         "name": "21140",
         "showlegend": true,
         "showscale": false,
         "subplot": "mapbox",
         "type": "choroplethmapbox",
         "z": [
          1
         ]
        },
        {
         "colorscale": [
          [
           0,
           "#FFA15A"
          ],
          [
           1,
           "#FFA15A"
          ]
         ],
         "geojson": "STATE",
         "hovertemplate": "Ages 6-21=9668<br>State Name=%{location}<extra></extra>",
         "locations": [
          "Massachusetts"
         ],
         "marker": {
          "opacity": 0.5
         },
         "name": "9668",
         "showlegend": true,
         "showscale": false,
         "subplot": "mapbox",
         "type": "choroplethmapbox",
         "z": [
          1
         ]
        },
        {
         "colorscale": [
          [
           0,
           "#19d3f3"
          ],
          [
           1,
           "#19d3f3"
          ]
         ],
         "geojson": "STATE",
         "hovertemplate": "Ages 6-21=529<br>State Name=%{location}<extra></extra>",
         "locations": [
          "Massachusetts"
         ],
         "marker": {
          "opacity": 0.5
         },
         "name": "529",
         "showlegend": true,
         "showscale": false,
         "subplot": "mapbox",
         "type": "choroplethmapbox",
         "z": [
          1
         ]
        },
        {
         "colorscale": [
          [
           0,
           "#FF6692"
          ],
          [
           1,
           "#FF6692"
          ]
         ],
         "geojson": "STATE",
         "hovertemplate": "Ages 6-21=177721<br>State Name=%{location}<extra></extra>",
         "locations": [
          "Michigan"
         ],
         "marker": {
          "opacity": 0.5
         },
         "name": "177721",
         "showlegend": true,
         "showscale": false,
         "subplot": "mapbox",
         "type": "choroplethmapbox",
         "z": [
          1
         ]
        },
        {
         "colorscale": [
          [
           0,
           "#B6E880"
          ],
          [
           1,
           "#B6E880"
          ]
         ],
         "geojson": "STATE",
         "hovertemplate": "Ages 6-21=18509<br>State Name=%{location}<extra></extra>",
         "locations": [
          "Michigan"
         ],
         "marker": {
          "opacity": 0.5
         },
         "name": "18509",
         "showlegend": true,
         "showscale": false,
         "subplot": "mapbox",
         "type": "choroplethmapbox",
         "z": [
          1
         ]
        },
        {
         "colorscale": [
          [
           0,
           "#FF97FF"
          ],
          [
           1,
           "#FF97FF"
          ]
         ],
         "geojson": "STATE",
         "hovertemplate": "Ages 6-21=2296<br>State Name=%{location}<extra></extra>",
         "locations": [
          "Michigan"
         ],
         "marker": {
          "opacity": 0.5
         },
         "name": "2296",
         "showlegend": true,
         "showscale": false,
         "subplot": "mapbox",
         "type": "choroplethmapbox",
         "z": [
          1
         ]
        },
        {
         "colorscale": [
          [
           0,
           "#FECB52"
          ],
          [
           1,
           "#FECB52"
          ]
         ],
         "geojson": "STATE",
         "hovertemplate": "Ages 6-21=11458<br>State Name=%{location}<extra></extra>",
         "locations": [
          "Michigan"
         ],
         "marker": {
          "opacity": 0.5
         },
         "name": "11458",
         "showlegend": true,
         "showscale": false,
         "subplot": "mapbox",
         "type": "choroplethmapbox",
         "z": [
          1
         ]
        },
        {
         "colorscale": [
          [
           0,
           "#636efa"
          ],
          [
           1,
           "#636efa"
          ]
         ],
         "geojson": "STATE",
         "hovertemplate": "Ages 6-21=2211<br>State Name=%{location}<extra></extra>",
         "locations": [
          "Michigan"
         ],
         "marker": {
          "opacity": 0.5
         },
         "name": "2211",
         "showlegend": true,
         "showscale": false,
         "subplot": "mapbox",
         "type": "choroplethmapbox",
         "z": [
          1
         ]
        },
        {
         "colorscale": [
          [
           0,
           "#EF553B"
          ],
          [
           1,
           "#EF553B"
          ]
         ],
         "geojson": "STATE",
         "hovertemplate": "Ages 6-21=16452<br>State Name=%{location}<extra></extra>",
         "locations": [
          "Michigan"
         ],
         "marker": {
          "opacity": 0.5
         },
         "name": "16452",
         "showlegend": true,
         "showscale": false,
         "subplot": "mapbox",
         "type": "choroplethmapbox",
         "z": [
          1
         ]
        },
        {
         "colorscale": [
          [
           0,
           "#00cc96"
          ],
          [
           1,
           "#00cc96"
          ]
         ],
         "geojson": "STATE",
         "hovertemplate": "Ages 6-21=2404<br>State Name=%{location}<extra></extra>",
         "locations": [
          "Michigan"
         ],
         "marker": {
          "opacity": 0.5
         },
         "name": "2404",
         "showlegend": true,
         "showscale": false,
         "subplot": "mapbox",
         "type": "choroplethmapbox",
         "z": [
          1
         ]
        },
        {
         "colorscale": [
          [
           0,
           "#ab63fa"
          ],
          [
           1,
           "#ab63fa"
          ]
         ],
         "geojson": "STATE",
         "hovertemplate": "Ages 6-21=1200<br>State Name=%{location}<extra></extra>",
         "locations": [
          "Michigan"
         ],
         "marker": {
          "opacity": 0.5
         },
         "name": "1200",
         "showlegend": true,
         "showscale": false,
         "subplot": "mapbox",
         "type": "choroplethmapbox",
         "z": [
          1
         ]
        },
        {
         "colorscale": [
          [
           0,
           "#FFA15A"
          ],
          [
           1,
           "#FFA15A"
          ]
         ],
         "geojson": "STATE",
         "hovertemplate": "Ages 6-21=26399<br>State Name=%{location}<extra></extra>",
         "locations": [
          "Michigan"
         ],
         "marker": {
          "opacity": 0.5
         },
         "name": "26399",
         "showlegend": true,
         "showscale": false,
         "subplot": "mapbox",
         "type": "choroplethmapbox",
         "z": [
          1
         ]
        },
        {
         "colorscale": [
          [
           0,
           "#19d3f3"
          ],
          [
           1,
           "#19d3f3"
          ]
         ],
         "geojson": "STATE",
         "hovertemplate": "Ages 6-21=58441<br>State Name=%{location}<extra></extra>",
         "locations": [
          "Michigan"
         ],
         "marker": {
          "opacity": 0.5
         },
         "name": "58441",
         "showlegend": true,
         "showscale": false,
         "subplot": "mapbox",
         "type": "choroplethmapbox",
         "z": [
          1
         ]
        },
        {
         "colorscale": [
          [
           0,
           "#FF6692"
          ],
          [
           1,
           "#FF6692"
          ]
         ],
         "geojson": "STATE",
         "hovertemplate": "Ages 6-21=37194<br>State Name=%{location}<extra></extra>",
         "locations": [
          "Michigan"
         ],
         "marker": {
          "opacity": 0.5
         },
         "name": "37194",
         "showlegend": true,
         "showscale": false,
         "subplot": "mapbox",
         "type": "choroplethmapbox",
         "z": [
          1
         ]
        },
        {
         "colorscale": [
          [
           0,
           "#B6E880"
          ],
          [
           1,
           "#B6E880"
          ]
         ],
         "geojson": "STATE",
         "hovertemplate": "Ages 6-21=435<br>State Name=%{location}<extra></extra>",
         "locations": [
          "Michigan",
          "Utah"
         ],
         "marker": {
          "opacity": 0.5
         },
         "name": "435",
         "showlegend": true,
         "showscale": false,
         "subplot": "mapbox",
         "type": "choroplethmapbox",
         "z": [
          1,
          1
         ]
        },
        {
         "colorscale": [
          [
           0,
           "#FF97FF"
          ],
          [
           1,
           "#FF97FF"
          ]
         ],
         "geojson": "STATE",
         "hovertemplate": "Ages 6-21=694<br>State Name=%{location}<extra></extra>",
         "locations": [
          "Michigan"
         ],
         "marker": {
          "opacity": 0.5
         },
         "name": "694",
         "showlegend": true,
         "showscale": false,
         "subplot": "mapbox",
         "type": "choroplethmapbox",
         "z": [
          1
         ]
        },
        {
         "colorscale": [
          [
           0,
           "#FECB52"
          ],
          [
           1,
           "#FECB52"
          ]
         ],
         "geojson": "STATE",
         "hovertemplate": "Ages 6-21=123101<br>State Name=%{location}<extra></extra>",
         "locations": [
          "Minnesota"
         ],
         "marker": {
          "opacity": 0.5
         },
         "name": "123101",
         "showlegend": true,
         "showscale": false,
         "subplot": "mapbox",
         "type": "choroplethmapbox",
         "z": [
          1
         ]
        },
        {
         "colorscale": [
          [
           0,
           "#636efa"
          ],
          [
           1,
           "#636efa"
          ]
         ],
         "geojson": "STATE",
         "hovertemplate": "Ages 6-21=18545<br>State Name=%{location}<extra></extra>",
         "locations": [
          "Minnesota"
         ],
         "marker": {
          "opacity": 0.5
         },
         "name": "18545",
         "showlegend": true,
         "showscale": false,
         "subplot": "mapbox",
         "type": "choroplethmapbox",
         "z": [
          1
         ]
        },
        {
         "colorscale": [
          [
           0,
           "#EF553B"
          ],
          [
           1,
           "#EF553B"
          ]
         ],
         "geojson": "STATE",
         "hovertemplate": "Ages 6-21=105<br>State Name=%{location}<extra></extra>",
         "locations": [
          "Minnesota"
         ],
         "marker": {
          "opacity": 0.5
         },
         "name": "105",
         "showlegend": true,
         "showscale": false,
         "subplot": "mapbox",
         "type": "choroplethmapbox",
         "z": [
          1
         ]
        },
        {
         "colorscale": [
          [
           0,
           "#00cc96"
          ],
          [
           1,
           "#00cc96"
          ]
         ],
         "geojson": "STATE",
         "hovertemplate": "Ages 6-21=3444<br>State Name=%{location}<extra></extra>",
         "locations": [
          "Minnesota"
         ],
         "marker": {
          "opacity": 0.5
         },
         "name": "3444",
         "showlegend": true,
         "showscale": false,
         "subplot": "mapbox",
         "type": "choroplethmapbox",
         "z": [
          1
         ]
        },
        {
         "colorscale": [
          [
           0,
           "#ab63fa"
          ],
          [
           1,
           "#ab63fa"
          ]
         ],
         "geojson": "STATE",
         "hovertemplate": "Ages 6-21=16510<br>State Name=%{location}<extra></extra>",
         "locations": [
          "Minnesota"
         ],
         "marker": {
          "opacity": 0.5
         },
         "name": "16510",
         "showlegend": true,
         "showscale": false,
         "subplot": "mapbox",
         "type": "choroplethmapbox",
         "z": [
          1
         ]
        },
        {
         "colorscale": [
          [
           0,
           "#FFA15A"
          ],
          [
           1,
           "#FFA15A"
          ]
         ],
         "geojson": "STATE",
         "hovertemplate": "Ages 6-21=2075<br>State Name=%{location}<extra></extra>",
         "locations": [
          "Minnesota"
         ],
         "marker": {
          "opacity": 0.5
         },
         "name": "2075",
         "showlegend": true,
         "showscale": false,
         "subplot": "mapbox",
         "type": "choroplethmapbox",
         "z": [
          1
         ]
        },
        {
         "colorscale": [
          [
           0,
           "#19d3f3"
          ],
          [
           1,
           "#19d3f3"
          ]
         ],
         "geojson": "STATE",
         "hovertemplate": "Ages 6-21=7330<br>State Name=%{location}<extra></extra>",
         "locations": [
          "Minnesota"
         ],
         "marker": {
          "opacity": 0.5
         },
         "name": "7330",
         "showlegend": true,
         "showscale": false,
         "subplot": "mapbox",
         "type": "choroplethmapbox",
         "z": [
          1
         ]
        },
        {
         "colorscale": [
          [
           0,
           "#FF6692"
          ],
          [
           1,
           "#FF6692"
          ]
         ],
         "geojson": "STATE",
         "hovertemplate": "Ages 6-21=1480<br>State Name=%{location}<extra></extra>",
         "locations": [
          "Minnesota"
         ],
         "marker": {
          "opacity": 0.5
         },
         "name": "1480",
         "showlegend": true,
         "showscale": false,
         "subplot": "mapbox",
         "type": "choroplethmapbox",
         "z": [
          1
         ]
        },
        {
         "colorscale": [
          [
           0,
           "#B6E880"
          ],
          [
           1,
           "#B6E880"
          ]
         ],
         "geojson": "STATE",
         "hovertemplate": "Ages 6-21=1468<br>State Name=%{location}<extra></extra>",
         "locations": [
          "Minnesota"
         ],
         "marker": {
          "opacity": 0.5
         },
         "name": "1468",
         "showlegend": true,
         "showscale": false,
         "subplot": "mapbox",
         "type": "choroplethmapbox",
         "z": [
          1
         ]
        },
        {
         "colorscale": [
          [
           0,
           "#FF97FF"
          ],
          [
           1,
           "#FF97FF"
          ]
         ],
         "geojson": "STATE",
         "hovertemplate": "Ages 6-21=19953<br>State Name=%{location}<extra></extra>",
         "locations": [
          "Minnesota"
         ],
         "marker": {
          "opacity": 0.5
         },
         "name": "19953",
         "showlegend": true,
         "showscale": false,
         "subplot": "mapbox",
         "type": "choroplethmapbox",
         "z": [
          1
         ]
        },
        {
         "colorscale": [
          [
           0,
           "#FECB52"
          ],
          [
           1,
           "#FECB52"
          ]
         ],
         "geojson": "STATE",
         "hovertemplate": "Ages 6-21=33821<br>State Name=%{location}<extra></extra>",
         "locations": [
          "Minnesota"
         ],
         "marker": {
          "opacity": 0.5
         },
         "name": "33821",
         "showlegend": true,
         "showscale": false,
         "subplot": "mapbox",
         "type": "choroplethmapbox",
         "z": [
          1
         ]
        },
        {
         "colorscale": [
          [
           0,
           "#636efa"
          ],
          [
           1,
           "#636efa"
          ]
         ],
         "geojson": "STATE",
         "hovertemplate": "Ages 6-21=17513<br>State Name=%{location}<extra></extra>",
         "locations": [
          "Minnesota"
         ],
         "marker": {
          "opacity": 0.5
         },
         "name": "17513",
         "showlegend": true,
         "showscale": false,
         "subplot": "mapbox",
         "type": "choroplethmapbox",
         "z": [
          1
         ]
        },
        {
         "colorscale": [
          [
           0,
           "#EF553B"
          ],
          [
           1,
           "#EF553B"
          ]
         ],
         "geojson": "STATE",
         "hovertemplate": "Ages 6-21=436<br>State Name=%{location}<extra></extra>",
         "locations": [
          "Minnesota",
          "Missouri"
         ],
         "marker": {
          "opacity": 0.5
         },
         "name": "436",
         "showlegend": true,
         "showscale": false,
         "subplot": "mapbox",
         "type": "choroplethmapbox",
         "z": [
          1,
          1
         ]
        },
        {
         "colorscale": [
          [
           0,
           "#00cc96"
          ],
          [
           1,
           "#00cc96"
          ]
         ],
         "geojson": "STATE",
         "hovertemplate": "Ages 6-21=421<br>State Name=%{location}<extra></extra>",
         "locations": [
          "Minnesota"
         ],
         "marker": {
          "opacity": 0.5
         },
         "name": "421",
         "showlegend": true,
         "showscale": false,
         "subplot": "mapbox",
         "type": "choroplethmapbox",
         "z": [
          1
         ]
        },
        {
         "colorscale": [
          [
           0,
           "#ab63fa"
          ],
          [
           1,
           "#ab63fa"
          ]
         ],
         "geojson": "STATE",
         "hovertemplate": "Ages 6-21=61172<br>State Name=%{location}<extra></extra>",
         "locations": [
          "Mississippi"
         ],
         "marker": {
          "opacity": 0.5
         },
         "name": "61172",
         "showlegend": true,
         "showscale": false,
         "subplot": "mapbox",
         "type": "choroplethmapbox",
         "z": [
          1
         ]
        },
        {
         "colorscale": [
          [
           0,
           "#FFA15A"
          ],
          [
           1,
           "#FFA15A"
          ]
         ],
         "geojson": "STATE",
         "hovertemplate": "Ages 6-21=5020<br>State Name=%{location}<extra></extra>",
         "locations": [
          "Mississippi"
         ],
         "marker": {
          "opacity": 0.5
         },
         "name": "5020",
         "showlegend": true,
         "showscale": false,
         "subplot": "mapbox",
         "type": "choroplethmapbox",
         "z": [
          1
         ]
        },
        {
         "colorscale": [
          [
           0,
           "#19d3f3"
          ],
          [
           1,
           "#19d3f3"
          ]
         ],
         "geojson": "STATE",
         "hovertemplate": "Ages 6-21=4243<br>State Name=%{location}<extra></extra>",
         "locations": [
          "Mississippi"
         ],
         "marker": {
          "opacity": 0.5
         },
         "name": "4243",
         "showlegend": true,
         "showscale": false,
         "subplot": "mapbox",
         "type": "choroplethmapbox",
         "z": [
          1
         ]
        },
        {
         "colorscale": [
          [
           0,
           "#FF6692"
          ],
          [
           1,
           "#FF6692"
          ]
         ],
         "geojson": "STATE",
         "hovertemplate": "Ages 6-21=3326<br>State Name=%{location}<extra></extra>",
         "locations": [
          "Mississippi"
         ],
         "marker": {
          "opacity": 0.5
         },
         "name": "3326",
         "showlegend": true,
         "showscale": false,
         "subplot": "mapbox",
         "type": "choroplethmapbox",
         "z": [
          1
         ]
        },
        {
         "colorscale": [
          [
           0,
           "#B6E880"
          ],
          [
           1,
           "#B6E880"
          ]
         ],
         "geojson": "STATE",
         "hovertemplate": "Ages 6-21=661<br>State Name=%{location}<extra></extra>",
         "locations": [
          "Mississippi"
         ],
         "marker": {
          "opacity": 0.5
         },
         "name": "661",
         "showlegend": true,
         "showscale": false,
         "subplot": "mapbox",
         "type": "choroplethmapbox",
         "z": [
          1
         ]
        },
        {
         "colorscale": [
          [
           0,
           "#FF97FF"
          ],
          [
           1,
           "#FF97FF"
          ]
         ],
         "geojson": "STATE",
         "hovertemplate": "Ages 6-21=3948<br>State Name=%{location}<extra></extra>",
         "locations": [
          "Mississippi",
          "Nebraska"
         ],
         "marker": {
          "opacity": 0.5
         },
         "name": "3948",
         "showlegend": true,
         "showscale": false,
         "subplot": "mapbox",
         "type": "choroplethmapbox",
         "z": [
          1,
          1
         ]
        },
        {
         "colorscale": [
          [
           0,
           "#FECB52"
          ],
          [
           1,
           "#FECB52"
          ]
         ],
         "geojson": "STATE",
         "hovertemplate": "Ages 6-21=1343<br>State Name=%{location}<extra></extra>",
         "locations": [
          "Mississippi"
         ],
         "marker": {
          "opacity": 0.5
         },
         "name": "1343",
         "showlegend": true,
         "showscale": false,
         "subplot": "mapbox",
         "type": "choroplethmapbox",
         "z": [
          1
         ]
        },
        {
         "colorscale": [
          [
           0,
           "#636efa"
          ],
          [
           1,
           "#636efa"
          ]
         ],
         "geojson": "STATE",
         "hovertemplate": "Ages 6-21=328<br>State Name=%{location}<extra></extra>",
         "locations": [
          "Mississippi"
         ],
         "marker": {
          "opacity": 0.5
         },
         "name": "328",
         "showlegend": true,
         "showscale": false,
         "subplot": "mapbox",
         "type": "choroplethmapbox",
         "z": [
          1
         ]
        },
        {
         "colorscale": [
          [
           0,
           "#EF553B"
          ],
          [
           1,
           "#EF553B"
          ]
         ],
         "geojson": "STATE",
         "hovertemplate": "Ages 6-21=12206<br>State Name=%{location}<extra></extra>",
         "locations": [
          "Mississippi"
         ],
         "marker": {
          "opacity": 0.5
         },
         "name": "12206",
         "showlegend": true,
         "showscale": false,
         "subplot": "mapbox",
         "type": "choroplethmapbox",
         "z": [
          1
         ]
        },
        {
         "colorscale": [
          [
           0,
           "#00cc96"
          ],
          [
           1,
           "#00cc96"
          ]
         ],
         "geojson": "STATE",
         "hovertemplate": "Ages 6-21=17153<br>State Name=%{location}<extra></extra>",
         "locations": [
          "Mississippi"
         ],
         "marker": {
          "opacity": 0.5
         },
         "name": "17153",
         "showlegend": true,
         "showscale": false,
         "subplot": "mapbox",
         "type": "choroplethmapbox",
         "z": [
          1
         ]
        },
        {
         "colorscale": [
          [
           0,
           "#ab63fa"
          ],
          [
           1,
           "#ab63fa"
          ]
         ],
         "geojson": "STATE",
         "hovertemplate": "Ages 6-21=12489<br>State Name=%{location}<extra></extra>",
         "locations": [
          "Mississippi"
         ],
         "marker": {
          "opacity": 0.5
         },
         "name": "12489",
         "showlegend": true,
         "showscale": false,
         "subplot": "mapbox",
         "type": "choroplethmapbox",
         "z": [
          1
         ]
        },
        {
         "colorscale": [
          [
           0,
           "#FFA15A"
          ],
          [
           1,
           "#FFA15A"
          ]
         ],
         "geojson": "STATE",
         "hovertemplate": "Ages 6-21=154<br>State Name=%{location}<extra></extra>",
         "locations": [
          "Mississippi"
         ],
         "marker": {
          "opacity": 0.5
         },
         "name": "154",
         "showlegend": true,
         "showscale": false,
         "subplot": "mapbox",
         "type": "choroplethmapbox",
         "z": [
          1
         ]
        },
        {
         "colorscale": [
          [
           0,
           "#19d3f3"
          ],
          [
           1,
           "#19d3f3"
          ]
         ],
         "geojson": "STATE",
         "hovertemplate": "Ages 6-21=292<br>State Name=%{location}<extra></extra>",
         "locations": [
          "Mississippi"
         ],
         "marker": {
          "opacity": 0.5
         },
         "name": "292",
         "showlegend": true,
         "showscale": false,
         "subplot": "mapbox",
         "type": "choroplethmapbox",
         "z": [
          1
         ]
        },
        {
         "colorscale": [
          [
           0,
           "#FF6692"
          ],
          [
           1,
           "#FF6692"
          ]
         ],
         "geojson": "STATE",
         "hovertemplate": "Ages 6-21=114033<br>State Name=%{location}<extra></extra>",
         "locations": [
          "Missouri"
         ],
         "marker": {
          "opacity": 0.5
         },
         "name": "114033",
         "showlegend": true,
         "showscale": false,
         "subplot": "mapbox",
         "type": "choroplethmapbox",
         "z": [
          1
         ]
        },
        {
         "colorscale": [
          [
           0,
           "#B6E880"
          ],
          [
           1,
           "#B6E880"
          ]
         ],
         "geojson": "STATE",
         "hovertemplate": "Ages 6-21=12240<br>State Name=%{location}<extra></extra>",
         "locations": [
          "Missouri"
         ],
         "marker": {
          "opacity": 0.5
         },
         "name": "12240",
         "showlegend": true,
         "showscale": false,
         "subplot": "mapbox",
         "type": "choroplethmapbox",
         "z": [
          1
         ]
        },
        {
         "colorscale": [
          [
           0,
           "#FF97FF"
          ],
          [
           1,
           "#FF97FF"
          ]
         ],
         "geojson": "STATE",
         "hovertemplate": "Ages 6-21=1022<br>State Name=%{location}<extra></extra>",
         "locations": [
          "Missouri",
          "Missouri"
         ],
         "marker": {
          "opacity": 0.5
         },
         "name": "1022",
         "showlegend": true,
         "showscale": false,
         "subplot": "mapbox",
         "type": "choroplethmapbox",
         "z": [
          1,
          1
         ]
        },
        {
         "colorscale": [
          [
           0,
           "#FECB52"
          ],
          [
           1,
           "#FECB52"
          ]
         ],
         "geojson": "STATE",
         "hovertemplate": "Ages 6-21=7072<br>State Name=%{location}<extra></extra>",
         "locations": [
          "Missouri"
         ],
         "marker": {
          "opacity": 0.5
         },
         "name": "7072",
         "showlegend": true,
         "showscale": false,
         "subplot": "mapbox",
         "type": "choroplethmapbox",
         "z": [
          1
         ]
        },
        {
         "colorscale": [
          [
           0,
           "#636efa"
          ],
          [
           1,
           "#636efa"
          ]
         ],
         "geojson": "STATE",
         "hovertemplate": "Ages 6-21=9125<br>State Name=%{location}<extra></extra>",
         "locations": [
          "Missouri"
         ],
         "marker": {
          "opacity": 0.5
         },
         "name": "9125",
         "showlegend": true,
         "showscale": false,
         "subplot": "mapbox",
         "type": "choroplethmapbox",
         "z": [
          1
         ]
        },
        {
         "colorscale": [
          [
           0,
           "#EF553B"
          ],
          [
           1,
           "#EF553B"
          ]
         ],
         "geojson": "STATE",
         "hovertemplate": "Ages 6-21=1353<br>State Name=%{location}<extra></extra>",
         "locations": [
          "Missouri"
         ],
         "marker": {
          "opacity": 0.5
         },
         "name": "1353",
         "showlegend": true,
         "showscale": false,
         "subplot": "mapbox",
         "type": "choroplethmapbox",
         "z": [
          1
         ]
        },
        {
         "colorscale": [
          [
           0,
           "#00cc96"
          ],
          [
           1,
           "#00cc96"
          ]
         ],
         "geojson": "STATE",
         "hovertemplate": "Ages 6-21=387<br>State Name=%{location}<extra></extra>",
         "locations": [
          "Missouri"
         ],
         "marker": {
          "opacity": 0.5
         },
         "name": "387",
         "showlegend": true,
         "showscale": false,
         "subplot": "mapbox",
         "type": "choroplethmapbox",
         "z": [
          1
         ]
        },
        {
         "colorscale": [
          [
           0,
           "#ab63fa"
          ],
          [
           1,
           "#ab63fa"
          ]
         ],
         "geojson": "STATE",
         "hovertemplate": "Ages 6-21=25700<br>State Name=%{location}<extra></extra>",
         "locations": [
          "Missouri"
         ],
         "marker": {
          "opacity": 0.5
         },
         "name": "25700",
         "showlegend": true,
         "showscale": false,
         "subplot": "mapbox",
         "type": "choroplethmapbox",
         "z": [
          1
         ]
        },
        {
         "colorscale": [
          [
           0,
           "#FFA15A"
          ],
          [
           1,
           "#FFA15A"
          ]
         ],
         "geojson": "STATE",
         "hovertemplate": "Ages 6-21=30833<br>State Name=%{location}<extra></extra>",
         "locations": [
          "Missouri"
         ],
         "marker": {
          "opacity": 0.5
         },
         "name": "30833",
         "showlegend": true,
         "showscale": false,
         "subplot": "mapbox",
         "type": "choroplethmapbox",
         "z": [
          1
         ]
        },
        {
         "colorscale": [
          [
           0,
           "#19d3f3"
          ],
          [
           1,
           "#19d3f3"
          ]
         ],
         "geojson": "STATE",
         "hovertemplate": "Ages 6-21=24425<br>State Name=%{location}<extra></extra>",
         "locations": [
          "Missouri"
         ],
         "marker": {
          "opacity": 0.5
         },
         "name": "24425",
         "showlegend": true,
         "showscale": false,
         "subplot": "mapbox",
         "type": "choroplethmapbox",
         "z": [
          1
         ]
        },
        {
         "colorscale": [
          [
           0,
           "#FF6692"
          ],
          [
           1,
           "#FF6692"
          ]
         ],
         "geojson": "STATE",
         "hovertemplate": "Ages 6-21=391<br>State Name=%{location}<extra></extra>",
         "locations": [
          "Missouri",
          "South Carolina"
         ],
         "marker": {
          "opacity": 0.5
         },
         "name": "391",
         "showlegend": true,
         "showscale": false,
         "subplot": "mapbox",
         "type": "choroplethmapbox",
         "z": [
          1,
          1
         ]
        },
        {
         "colorscale": [
          [
           0,
           "#B6E880"
          ],
          [
           1,
           "#B6E880"
          ]
         ],
         "geojson": "STATE",
         "hovertemplate": "Ages 6-21=17658<br>State Name=%{location}<extra></extra>",
         "locations": [
          "Montana"
         ],
         "marker": {
          "opacity": 0.5
         },
         "name": "17658",
         "showlegend": true,
         "showscale": false,
         "subplot": "mapbox",
         "type": "choroplethmapbox",
         "z": [
          1
         ]
        },
        {
         "colorscale": [
          [
           0,
           "#FF97FF"
          ],
          [
           1,
           "#FF97FF"
          ]
         ],
         "geojson": "STATE",
         "hovertemplate": "Ages 6-21=908<br>State Name=%{location}<extra></extra>",
         "locations": [
          "Montana"
         ],
         "marker": {
          "opacity": 0.5
         },
         "name": "908",
         "showlegend": true,
         "showscale": false,
         "subplot": "mapbox",
         "type": "choroplethmapbox",
         "z": [
          1
         ]
        },
        {
         "colorscale": [
          [
           0,
           "#FECB52"
          ],
          [
           1,
           "#FECB52"
          ]
         ],
         "geojson": "STATE",
         "hovertemplate": "Ages 6-21=6<br>State Name=%{location}<extra></extra>",
         "locations": [
          "Montana",
          "Northern Marianas",
          "Republic of the Marshall Islands"
         ],
         "marker": {
          "opacity": 0.5
         },
         "name": "6",
         "showlegend": true,
         "showscale": false,
         "subplot": "mapbox",
         "type": "choroplethmapbox",
         "z": [
          1,
          1,
          1
         ]
        },
        {
         "colorscale": [
          [
           0,
           "#636efa"
          ],
          [
           1,
           "#636efa"
          ]
         ],
         "geojson": "STATE",
         "hovertemplate": "Ages 6-21=881<br>State Name=%{location}<extra></extra>",
         "locations": [
          "Montana"
         ],
         "marker": {
          "opacity": 0.5
         },
         "name": "881",
         "showlegend": true,
         "showscale": false,
         "subplot": "mapbox",
         "type": "choroplethmapbox",
         "z": [
          1
         ]
        },
        {
         "colorscale": [
          [
           0,
           "#EF553B"
          ],
          [
           1,
           "#EF553B"
          ]
         ],
         "geojson": "STATE",
         "hovertemplate": "Ages 6-21=573<br>State Name=%{location}<extra></extra>",
         "locations": [
          "Montana"
         ],
         "marker": {
          "opacity": 0.5
         },
         "name": "573",
         "showlegend": true,
         "showscale": false,
         "subplot": "mapbox",
         "type": "choroplethmapbox",
         "z": [
          1
         ]
        },
        {
         "colorscale": [
          [
           0,
           "#00cc96"
          ],
          [
           1,
           "#00cc96"
          ]
         ],
         "geojson": "STATE",
         "hovertemplate": "Ages 6-21=3899<br>State Name=%{location}<extra></extra>",
         "locations": [
          "Montana"
         ],
         "marker": {
          "opacity": 0.5
         },
         "name": "3899",
         "showlegend": true,
         "showscale": false,
         "subplot": "mapbox",
         "type": "choroplethmapbox",
         "z": [
          1
         ]
        },
        {
         "colorscale": [
          [
           0,
           "#ab63fa"
          ],
          [
           1,
           "#ab63fa"
          ]
         ],
         "geojson": "STATE",
         "hovertemplate": "Ages 6-21=2283<br>State Name=%{location}<extra></extra>",
         "locations": [
          "Montana"
         ],
         "marker": {
          "opacity": 0.5
         },
         "name": "2283",
         "showlegend": true,
         "showscale": false,
         "subplot": "mapbox",
         "type": "choroplethmapbox",
         "z": [
          1
         ]
        },
        {
         "colorscale": [
          [
           0,
           "#FFA15A"
          ],
          [
           1,
           "#FFA15A"
          ]
         ],
         "geojson": "STATE",
         "hovertemplate": "Ages 6-21=5846<br>State Name=%{location}<extra></extra>",
         "locations": [
          "Montana"
         ],
         "marker": {
          "opacity": 0.5
         },
         "name": "5846",
         "showlegend": true,
         "showscale": false,
         "subplot": "mapbox",
         "type": "choroplethmapbox",
         "z": [
          1
         ]
        },
        {
         "colorscale": [
          [
           0,
           "#19d3f3"
          ],
          [
           1,
           "#19d3f3"
          ]
         ],
         "geojson": "STATE",
         "hovertemplate": "Ages 6-21=3048<br>State Name=%{location}<extra></extra>",
         "locations": [
          "Montana"
         ],
         "marker": {
          "opacity": 0.5
         },
         "name": "3048",
         "showlegend": true,
         "showscale": false,
         "subplot": "mapbox",
         "type": "choroplethmapbox",
         "z": [
          1
         ]
        },
        {
         "colorscale": [
          [
           0,
           "#FF6692"
          ],
          [
           1,
           "#FF6692"
          ]
         ],
         "geojson": "STATE",
         "hovertemplate": "Ages 6-21=50<br>State Name=%{location}<extra></extra>",
         "locations": [
          "Montana",
          "North Dakota"
         ],
         "marker": {
          "opacity": 0.5
         },
         "name": "50",
         "showlegend": true,
         "showscale": false,
         "subplot": "mapbox",
         "type": "choroplethmapbox",
         "z": [
          1,
          1
         ]
        },
        {
         "colorscale": [
          [
           0,
           "#B6E880"
          ],
          [
           1,
           "#B6E880"
          ]
         ],
         "geojson": "STATE",
         "hovertemplate": "Ages 6-21=45454<br>State Name=%{location}<extra></extra>",
         "locations": [
          "Nebraska"
         ],
         "marker": {
          "opacity": 0.5
         },
         "name": "45454",
         "showlegend": true,
         "showscale": false,
         "subplot": "mapbox",
         "type": "choroplethmapbox",
         "z": [
          1
         ]
        },
        {
         "colorscale": [
          [
           0,
           "#FF97FF"
          ],
          [
           1,
           "#FF97FF"
          ]
         ],
         "geojson": "STATE",
         "hovertemplate": "Ages 6-21=2189<br>State Name=%{location}<extra></extra>",
         "locations": [
          "Nebraska"
         ],
         "marker": {
          "opacity": 0.5
         },
         "name": "2189",
         "showlegend": true,
         "showscale": false,
         "subplot": "mapbox",
         "type": "choroplethmapbox",
         "z": [
          1
         ]
        },
        {
         "colorscale": [
          [
           0,
           "#FECB52"
          ],
          [
           1,
           "#FECB52"
          ]
         ],
         "geojson": "STATE",
         "hovertemplate": "Ages 6-21=2846<br>State Name=%{location}<extra></extra>",
         "locations": [
          "Nebraska"
         ],
         "marker": {
          "opacity": 0.5
         },
         "name": "2846",
         "showlegend": true,
         "showscale": false,
         "subplot": "mapbox",
         "type": "choroplethmapbox",
         "z": [
          1
         ]
        },
        {
         "colorscale": [
          [
           0,
           "#636efa"
          ],
          [
           1,
           "#636efa"
          ]
         ],
         "geojson": "STATE",
         "hovertemplate": "Ages 6-21=697<br>State Name=%{location}<extra></extra>",
         "locations": [
          "Nebraska"
         ],
         "marker": {
          "opacity": 0.5
         },
         "name": "697",
         "showlegend": true,
         "showscale": false,
         "subplot": "mapbox",
         "type": "choroplethmapbox",
         "z": [
          1
         ]
        },
        {
         "colorscale": [
          [
           0,
           "#EF553B"
          ],
          [
           1,
           "#EF553B"
          ]
         ],
         "geojson": "STATE",
         "hovertemplate": "Ages 6-21=2824<br>State Name=%{location}<extra></extra>",
         "locations": [
          "Nebraska"
         ],
         "marker": {
          "opacity": 0.5
         },
         "name": "2824",
         "showlegend": true,
         "showscale": false,
         "subplot": "mapbox",
         "type": "choroplethmapbox",
         "z": [
          1
         ]
        },
        {
         "colorscale": [
          [
           0,
           "#00cc96"
          ],
          [
           1,
           "#00cc96"
          ]
         ],
         "geojson": "STATE",
         "hovertemplate": "Ages 6-21=401<br>State Name=%{location}<extra></extra>",
         "locations": [
          "Nebraska"
         ],
         "marker": {
          "opacity": 0.5
         },
         "name": "401",
         "showlegend": true,
         "showscale": false,
         "subplot": "mapbox",
         "type": "choroplethmapbox",
         "z": [
          1
         ]
        },
        {
         "colorscale": [
          [
           0,
           "#ab63fa"
          ],
          [
           1,
           "#ab63fa"
          ]
         ],
         "geojson": "STATE",
         "hovertemplate": "Ages 6-21=206<br>State Name=%{location}<extra></extra>",
         "locations": [
          "Nebraska"
         ],
         "marker": {
          "opacity": 0.5
         },
         "name": "206",
         "showlegend": true,
         "showscale": false,
         "subplot": "mapbox",
         "type": "choroplethmapbox",
         "z": [
          1
         ]
        },
        {
         "colorscale": [
          [
           0,
           "#FFA15A"
          ],
          [
           1,
           "#FFA15A"
          ]
         ],
         "geojson": "STATE",
         "hovertemplate": "Ages 6-21=6766<br>State Name=%{location}<extra></extra>",
         "locations": [
          "Nebraska"
         ],
         "marker": {
          "opacity": 0.5
         },
         "name": "6766",
         "showlegend": true,
         "showscale": false,
         "subplot": "mapbox",
         "type": "choroplethmapbox",
         "z": [
          1
         ]
        },
        {
         "colorscale": [
          [
           0,
           "#19d3f3"
          ],
          [
           1,
           "#19d3f3"
          ]
         ],
         "geojson": "STATE",
         "hovertemplate": "Ages 6-21=16051<br>State Name=%{location}<extra></extra>",
         "locations": [
          "Nebraska"
         ],
         "marker": {
          "opacity": 0.5
         },
         "name": "16051",
         "showlegend": true,
         "showscale": false,
         "subplot": "mapbox",
         "type": "choroplethmapbox",
         "z": [
          1
         ]
        },
        {
         "colorscale": [
          [
           0,
           "#FF6692"
          ],
          [
           1,
           "#FF6692"
          ]
         ],
         "geojson": "STATE",
         "hovertemplate": "Ages 6-21=9136<br>State Name=%{location}<extra></extra>",
         "locations": [
          "Nebraska"
         ],
         "marker": {
          "opacity": 0.5
         },
         "name": "9136",
         "showlegend": true,
         "showscale": false,
         "subplot": "mapbox",
         "type": "choroplethmapbox",
         "z": [
          1
         ]
        },
        {
         "colorscale": [
          [
           0,
           "#B6E880"
          ],
          [
           1,
           "#B6E880"
          ]
         ],
         "geojson": "STATE",
         "hovertemplate": "Ages 6-21=194<br>State Name=%{location}<extra></extra>",
         "locations": [
          "Nebraska"
         ],
         "marker": {
          "opacity": 0.5
         },
         "name": "194",
         "showlegend": true,
         "showscale": false,
         "subplot": "mapbox",
         "type": "choroplethmapbox",
         "z": [
          1
         ]
        },
        {
         "colorscale": [
          [
           0,
           "#FF97FF"
          ],
          [
           1,
           "#FF97FF"
          ]
         ],
         "geojson": "STATE",
         "hovertemplate": "Ages 6-21=51677<br>State Name=%{location}<extra></extra>",
         "locations": [
          "Nevada"
         ],
         "marker": {
          "opacity": 0.5
         },
         "name": "51677",
         "showlegend": true,
         "showscale": false,
         "subplot": "mapbox",
         "type": "choroplethmapbox",
         "z": [
          1
         ]
        },
        {
         "colorscale": [
          [
           0,
           "#FECB52"
          ],
          [
           1,
           "#FECB52"
          ]
         ],
         "geojson": "STATE",
         "hovertemplate": "Ages 6-21=6789<br>State Name=%{location}<extra></extra>",
         "locations": [
          "Nevada"
         ],
         "marker": {
          "opacity": 0.5
         },
         "name": "6789",
         "showlegend": true,
         "showscale": false,
         "subplot": "mapbox",
         "type": "choroplethmapbox",
         "z": [
          1
         ]
        },
        {
         "colorscale": [
          [
           0,
           "#636efa"
          ],
          [
           1,
           "#636efa"
          ]
         ],
         "geojson": "STATE",
         "hovertemplate": "Ages 6-21=1959<br>State Name=%{location}<extra></extra>",
         "locations": [
          "Nevada"
         ],
         "marker": {
          "opacity": 0.5
         },
         "name": "1959",
         "showlegend": true,
         "showscale": false,
         "subplot": "mapbox",
         "type": "choroplethmapbox",
         "z": [
          1
         ]
        },
        {
         "colorscale": [
          [
           0,
           "#EF553B"
          ],
          [
           1,
           "#EF553B"
          ]
         ],
         "geojson": "STATE",
         "hovertemplate": "Ages 6-21=438<br>State Name=%{location}<extra></extra>",
         "locations": [
          "Nevada"
         ],
         "marker": {
          "opacity": 0.5
         },
         "name": "438",
         "showlegend": true,
         "showscale": false,
         "subplot": "mapbox",
         "type": "choroplethmapbox",
         "z": [
          1
         ]
        },
        {
         "colorscale": [
          [
           0,
           "#00cc96"
          ],
          [
           1,
           "#00cc96"
          ]
         ],
         "geojson": "STATE",
         "hovertemplate": "Ages 6-21=2078<br>State Name=%{location}<extra></extra>",
         "locations": [
          "Nevada"
         ],
         "marker": {
          "opacity": 0.5
         },
         "name": "2078",
         "showlegend": true,
         "showscale": false,
         "subplot": "mapbox",
         "type": "choroplethmapbox",
         "z": [
          1
         ]
        },
        {
         "colorscale": [
          [
           0,
           "#ab63fa"
          ],
          [
           1,
           "#ab63fa"
          ]
         ],
         "geojson": "STATE",
         "hovertemplate": "Ages 6-21=1167<br>State Name=%{location}<extra></extra>",
         "locations": [
          "Nevada"
         ],
         "marker": {
          "opacity": 0.5
         },
         "name": "1167",
         "showlegend": true,
         "showscale": false,
         "subplot": "mapbox",
         "type": "choroplethmapbox",
         "z": [
          1
         ]
        },
        {
         "colorscale": [
          [
           0,
           "#FFA15A"
          ],
          [
           1,
           "#FFA15A"
          ]
         ],
         "geojson": "STATE",
         "hovertemplate": "Ages 6-21=291<br>State Name=%{location}<extra></extra>",
         "locations": [
          "Nevada"
         ],
         "marker": {
          "opacity": 0.5
         },
         "name": "291",
         "showlegend": true,
         "showscale": false,
         "subplot": "mapbox",
         "type": "choroplethmapbox",
         "z": [
          1
         ]
        },
        {
         "colorscale": [
          [
           0,
           "#19d3f3"
          ],
          [
           1,
           "#19d3f3"
          ]
         ],
         "geojson": "STATE",
         "hovertemplate": "Ages 6-21=5683<br>State Name=%{location}<extra></extra>",
         "locations": [
          "Nevada"
         ],
         "marker": {
          "opacity": 0.5
         },
         "name": "5683",
         "showlegend": true,
         "showscale": false,
         "subplot": "mapbox",
         "type": "choroplethmapbox",
         "z": [
          1
         ]
        },
        {
         "colorscale": [
          [
           0,
           "#FF6692"
          ],
          [
           1,
           "#FF6692"
          ]
         ],
         "geojson": "STATE",
         "hovertemplate": "Ages 6-21=25620<br>State Name=%{location}<extra></extra>",
         "locations": [
          "Nevada"
         ],
         "marker": {
          "opacity": 0.5
         },
         "name": "25620",
         "showlegend": true,
         "showscale": false,
         "subplot": "mapbox",
         "type": "choroplethmapbox",
         "z": [
          1
         ]
        },
        {
         "colorscale": [
          [
           0,
           "#B6E880"
          ],
          [
           1,
           "#B6E880"
          ]
         ],
         "geojson": "STATE",
         "hovertemplate": "Ages 6-21=7364<br>State Name=%{location}<extra></extra>",
         "locations": [
          "Nevada"
         ],
         "marker": {
          "opacity": 0.5
         },
         "name": "7364",
         "showlegend": true,
         "showscale": false,
         "subplot": "mapbox",
         "type": "choroplethmapbox",
         "z": [
          1
         ]
        },
        {
         "colorscale": [
          [
           0,
           "#FF97FF"
          ],
          [
           1,
           "#FF97FF"
          ]
         ],
         "geojson": "STATE",
         "hovertemplate": "Ages 6-21=113<br>State Name=%{location}<extra></extra>",
         "locations": [
          "Nevada"
         ],
         "marker": {
          "opacity": 0.5
         },
         "name": "113",
         "showlegend": true,
         "showscale": false,
         "subplot": "mapbox",
         "type": "choroplethmapbox",
         "z": [
          1
         ]
        },
        {
         "colorscale": [
          [
           0,
           "#FECB52"
          ],
          [
           1,
           "#FECB52"
          ]
         ],
         "geojson": "STATE",
         "hovertemplate": "Ages 6-21=26243<br>State Name=%{location}<extra></extra>",
         "locations": [
          "New Hampshire"
         ],
         "marker": {
          "opacity": 0.5
         },
         "name": "26243",
         "showlegend": true,
         "showscale": false,
         "subplot": "mapbox",
         "type": "choroplethmapbox",
         "z": [
          1
         ]
        },
        {
         "colorscale": [
          [
           0,
           "#636efa"
          ],
          [
           1,
           "#636efa"
          ]
         ],
         "geojson": "STATE",
         "hovertemplate": "Ages 6-21=2787<br>State Name=%{location}<extra></extra>",
         "locations": [
          "New Hampshire"
         ],
         "marker": {
          "opacity": 0.5
         },
         "name": "2787",
         "showlegend": true,
         "showscale": false,
         "subplot": "mapbox",
         "type": "choroplethmapbox",
         "z": [
          1
         ]
        },
        {
         "colorscale": [
          [
           0,
           "#EF553B"
          ],
          [
           1,
           "#EF553B"
          ]
         ],
         "geojson": "STATE",
         "hovertemplate": "Ages 6-21=2407<br>State Name=%{location}<extra></extra>",
         "locations": [
          "New Hampshire"
         ],
         "marker": {
          "opacity": 0.5
         },
         "name": "2407",
         "showlegend": true,
         "showscale": false,
         "subplot": "mapbox",
         "type": "choroplethmapbox",
         "z": [
          1
         ]
        },
        {
         "colorscale": [
          [
           0,
           "#00cc96"
          ],
          [
           1,
           "#00cc96"
          ]
         ],
         "geojson": "STATE",
         "hovertemplate": "Ages 6-21=2095<br>State Name=%{location}<extra></extra>",
         "locations": [
          "New Hampshire"
         ],
         "marker": {
          "opacity": 0.5
         },
         "name": "2095",
         "showlegend": true,
         "showscale": false,
         "subplot": "mapbox",
         "type": "choroplethmapbox",
         "z": [
          1
         ]
        },
        {
         "colorscale": [
          [
           0,
           "#ab63fa"
          ],
          [
           1,
           "#ab63fa"
          ]
         ],
         "geojson": "STATE",
         "hovertemplate": "Ages 6-21=146<br>State Name=%{location}<extra></extra>",
         "locations": [
          "New Hampshire"
         ],
         "marker": {
          "opacity": 0.5
         },
         "name": "146",
         "showlegend": true,
         "showscale": false,
         "subplot": "mapbox",
         "type": "choroplethmapbox",
         "z": [
          1
         ]
        },
        {
         "colorscale": [
          [
           0,
           "#FFA15A"
          ],
          [
           1,
           "#FFA15A"
          ]
         ],
         "geojson": "STATE",
         "hovertemplate": "Ages 6-21=836<br>State Name=%{location}<extra></extra>",
         "locations": [
          "New Hampshire"
         ],
         "marker": {
          "opacity": 0.5
         },
         "name": "836",
         "showlegend": true,
         "showscale": false,
         "subplot": "mapbox",
         "type": "choroplethmapbox",
         "z": [
          1
         ]
        },
        {
         "colorscale": [
          [
           0,
           "#19d3f3"
          ],
          [
           1,
           "#19d3f3"
          ]
         ],
         "geojson": "STATE",
         "hovertemplate": "Ages 6-21=358<br>State Name=%{location}<extra></extra>",
         "locations": [
          "New Hampshire"
         ],
         "marker": {
          "opacity": 0.5
         },
         "name": "358",
         "showlegend": true,
         "showscale": false,
         "subplot": "mapbox",
         "type": "choroplethmapbox",
         "z": [
          1
         ]
        },
        {
         "colorscale": [
          [
           0,
           "#FF6692"
          ],
          [
           1,
           "#FF6692"
          ]
         ],
         "geojson": "STATE",
         "hovertemplate": "Ages 6-21=51<br>State Name=%{location}<extra></extra>",
         "locations": [
          "New Hampshire"
         ],
         "marker": {
          "opacity": 0.5
         },
         "name": "51",
         "showlegend": true,
         "showscale": false,
         "subplot": "mapbox",
         "type": "choroplethmapbox",
         "z": [
          1
         ]
        },
        {
         "colorscale": [
          [
           0,
           "#B6E880"
          ],
          [
           1,
           "#B6E880"
          ]
         ],
         "geojson": "STATE",
         "hovertemplate": "Ages 6-21=5286<br>State Name=%{location}<extra></extra>",
         "locations": [
          "New Hampshire",
          "Oregon"
         ],
         "marker": {
          "opacity": 0.5
         },
         "name": "5286",
         "showlegend": true,
         "showscale": false,
         "subplot": "mapbox",
         "type": "choroplethmapbox",
         "z": [
          1,
          1
         ]
        },
        {
         "colorscale": [
          [
           0,
           "#FF97FF"
          ],
          [
           1,
           "#FF97FF"
          ]
         ],
         "geojson": "STATE",
         "hovertemplate": "Ages 6-21=9255<br>State Name=%{location}<extra></extra>",
         "locations": [
          "New Hampshire"
         ],
         "marker": {
          "opacity": 0.5
         },
         "name": "9255",
         "showlegend": true,
         "showscale": false,
         "subplot": "mapbox",
         "type": "choroplethmapbox",
         "z": [
          1
         ]
        },
        {
         "colorscale": [
          [
           0,
           "#FECB52"
          ],
          [
           1,
           "#FECB52"
          ]
         ],
         "geojson": "STATE",
         "hovertemplate": "Ages 6-21=2843<br>State Name=%{location}<extra></extra>",
         "locations": [
          "New Hampshire"
         ],
         "marker": {
          "opacity": 0.5
         },
         "name": "2843",
         "showlegend": true,
         "showscale": false,
         "subplot": "mapbox",
         "type": "choroplethmapbox",
         "z": [
          1
         ]
        },
        {
         "colorscale": [
          [
           0,
           "#636efa"
          ],
          [
           1,
           "#636efa"
          ]
         ],
         "geojson": "STATE",
         "hovertemplate": "Ages 6-21=98<br>State Name=%{location}<extra></extra>",
         "locations": [
          "New Hampshire"
         ],
         "marker": {
          "opacity": 0.5
         },
         "name": "98",
         "showlegend": true,
         "showscale": false,
         "subplot": "mapbox",
         "type": "choroplethmapbox",
         "z": [
          1
         ]
        },
        {
         "colorscale": [
          [
           0,
           "#EF553B"
          ],
          [
           1,
           "#EF553B"
          ]
         ],
         "geojson": "STATE",
         "hovertemplate": "Ages 6-21=220362<br>State Name=%{location}<extra></extra>",
         "locations": [
          "New Jersey"
         ],
         "marker": {
          "opacity": 0.5
         },
         "name": "220362",
         "showlegend": true,
         "showscale": false,
         "subplot": "mapbox",
         "type": "choroplethmapbox",
         "z": [
          1
         ]
        },
        {
         "colorscale": [
          [
           0,
           "#00cc96"
          ],
          [
           1,
           "#00cc96"
          ]
         ],
         "geojson": "STATE",
         "hovertemplate": "Ages 6-21=20635<br>State Name=%{location}<extra></extra>",
         "locations": [
          "New Jersey"
         ],
         "marker": {
          "opacity": 0.5
         },
         "name": "20635",
         "showlegend": true,
         "showscale": false,
         "subplot": "mapbox",
         "type": "choroplethmapbox",
         "z": [
          1
         ]
        },
        {
         "colorscale": [
          [
           0,
           "#ab63fa"
          ],
          [
           1,
           "#ab63fa"
          ]
         ],
         "geojson": "STATE",
         "hovertemplate": "Ages 6-21=7485<br>State Name=%{location}<extra></extra>",
         "locations": [
          "New Jersey"
         ],
         "marker": {
          "opacity": 0.5
         },
         "name": "7485",
         "showlegend": true,
         "showscale": false,
         "subplot": "mapbox",
         "type": "choroplethmapbox",
         "z": [
          1
         ]
        },
        {
         "colorscale": [
          [
           0,
           "#FFA15A"
          ],
          [
           1,
           "#FFA15A"
          ]
         ],
         "geojson": "STATE",
         "hovertemplate": "Ages 6-21=1389<br>State Name=%{location}<extra></extra>",
         "locations": [
          "New Jersey"
         ],
         "marker": {
          "opacity": 0.5
         },
         "name": "1389",
         "showlegend": true,
         "showscale": false,
         "subplot": "mapbox",
         "type": "choroplethmapbox",
         "z": [
          1
         ]
        },
        {
         "colorscale": [
          [
           0,
           "#19d3f3"
          ],
          [
           1,
           "#19d3f3"
          ]
         ],
         "geojson": "STATE",
         "hovertemplate": "Ages 6-21=5234<br>State Name=%{location}<extra></extra>",
         "locations": [
          "New Jersey"
         ],
         "marker": {
          "opacity": 0.5
         },
         "name": "5234",
         "showlegend": true,
         "showscale": false,
         "subplot": "mapbox",
         "type": "choroplethmapbox",
         "z": [
          1
         ]
        },
        {
         "colorscale": [
          [
           0,
           "#FF6692"
          ],
          [
           1,
           "#FF6692"
          ]
         ],
         "geojson": "STATE",
         "hovertemplate": "Ages 6-21=14083<br>State Name=%{location}<extra></extra>",
         "locations": [
          "New Jersey"
         ],
         "marker": {
          "opacity": 0.5
         },
         "name": "14083",
         "showlegend": true,
         "showscale": false,
         "subplot": "mapbox",
         "type": "choroplethmapbox",
         "z": [
          1
         ]
        },
        {
         "colorscale": [
          [
           0,
           "#B6E880"
          ],
          [
           1,
           "#B6E880"
          ]
         ],
         "geojson": "STATE",
         "hovertemplate": "Ages 6-21=318<br>State Name=%{location}<extra></extra>",
         "locations": [
          "New Jersey"
         ],
         "marker": {
          "opacity": 0.5
         },
         "name": "318",
         "showlegend": true,
         "showscale": false,
         "subplot": "mapbox",
         "type": "choroplethmapbox",
         "z": [
          1
         ]
        },
        {
         "colorscale": [
          [
           0,
           "#FF97FF"
          ],
          [
           1,
           "#FF97FF"
          ]
         ],
         "geojson": "STATE",
         "hovertemplate": "Ages 6-21=48543<br>State Name=%{location}<extra></extra>",
         "locations": [
          "New Jersey"
         ],
         "marker": {
          "opacity": 0.5
         },
         "name": "48543",
         "showlegend": true,
         "showscale": false,
         "subplot": "mapbox",
         "type": "choroplethmapbox",
         "z": [
          1
         ]
        },
        {
         "colorscale": [
          [
           0,
           "#FECB52"
          ],
          [
           1,
           "#FECB52"
          ]
         ],
         "geojson": "STATE",
         "hovertemplate": "Ages 6-21=74278<br>State Name=%{location}<extra></extra>",
         "locations": [
          "New Jersey"
         ],
         "marker": {
          "opacity": 0.5
         },
         "name": "74278",
         "showlegend": true,
         "showscale": false,
         "subplot": "mapbox",
         "type": "choroplethmapbox",
         "z": [
          1
         ]
        },
        {
         "colorscale": [
          [
           0,
           "#636efa"
          ],
          [
           1,
           "#636efa"
          ]
         ],
         "geojson": "STATE",
         "hovertemplate": "Ages 6-21=47541<br>State Name=%{location}<extra></extra>",
         "locations": [
          "New Jersey"
         ],
         "marker": {
          "opacity": 0.5
         },
         "name": "47541",
         "showlegend": true,
         "showscale": false,
         "subplot": "mapbox",
         "type": "choroplethmapbox",
         "z": [
          1
         ]
        },
        {
         "colorscale": [
          [
           0,
           "#EF553B"
          ],
          [
           1,
           "#EF553B"
          ]
         ],
         "geojson": "STATE",
         "hovertemplate": "Ages 6-21=370<br>State Name=%{location}<extra></extra>",
         "locations": [
          "New Jersey"
         ],
         "marker": {
          "opacity": 0.5
         },
         "name": "370",
         "showlegend": true,
         "showscale": false,
         "subplot": "mapbox",
         "type": "choroplethmapbox",
         "z": [
          1
         ]
        },
        {
         "colorscale": [
          [
           0,
           "#00cc96"
          ],
          [
           1,
           "#00cc96"
          ]
         ],
         "geojson": "STATE",
         "hovertemplate": "Ages 6-21=47389<br>State Name=%{location}<extra></extra>",
         "locations": [
          "New Mexico"
         ],
         "marker": {
          "opacity": 0.5
         },
         "name": "47389",
         "showlegend": true,
         "showscale": false,
         "subplot": "mapbox",
         "type": "choroplethmapbox",
         "z": [
          1
         ]
        },
        {
         "colorscale": [
          [
           0,
           "#ab63fa"
          ],
          [
           1,
           "#ab63fa"
          ]
         ],
         "geojson": "STATE",
         "hovertemplate": "Ages 6-21=3085<br>State Name=%{location}<extra></extra>",
         "locations": [
          "New Mexico"
         ],
         "marker": {
          "opacity": 0.5
         },
         "name": "3085",
         "showlegend": true,
         "showscale": false,
         "subplot": "mapbox",
         "type": "choroplethmapbox",
         "z": [
          1
         ]
        },
        {
         "colorscale": [
          [
           0,
           "#FFA15A"
          ],
          [
           1,
           "#FFA15A"
          ]
         ],
         "geojson": "STATE",
         "hovertemplate": "Ages 6-21=2557<br>State Name=%{location}<extra></extra>",
         "locations": [
          "New Mexico"
         ],
         "marker": {
          "opacity": 0.5
         },
         "name": "2557",
         "showlegend": true,
         "showscale": false,
         "subplot": "mapbox",
         "type": "choroplethmapbox",
         "z": [
          1
         ]
        },
        {
         "colorscale": [
          [
           0,
           "#19d3f3"
          ],
          [
           1,
           "#19d3f3"
          ]
         ],
         "geojson": "STATE",
         "hovertemplate": "Ages 6-21=1853<br>State Name=%{location}<extra></extra>",
         "locations": [
          "New Mexico"
         ],
         "marker": {
          "opacity": 0.5
         },
         "name": "1853",
         "showlegend": true,
         "showscale": false,
         "subplot": "mapbox",
         "type": "choroplethmapbox",
         "z": [
          1
         ]
        },
        {
         "colorscale": [
          [
           0,
           "#FF6692"
          ],
          [
           1,
           "#FF6692"
          ]
         ],
         "geojson": "STATE",
         "hovertemplate": "Ages 6-21=484<br>State Name=%{location}<extra></extra>",
         "locations": [
          "New Mexico"
         ],
         "marker": {
          "opacity": 0.5
         },
         "name": "484",
         "showlegend": true,
         "showscale": false,
         "subplot": "mapbox",
         "type": "choroplethmapbox",
         "z": [
          1
         ]
        },
        {
         "colorscale": [
          [
           0,
           "#B6E880"
          ],
          [
           1,
           "#B6E880"
          ]
         ],
         "geojson": "STATE",
         "hovertemplate": "Ages 6-21=2241<br>State Name=%{location}<extra></extra>",
         "locations": [
          "New Mexico"
         ],
         "marker": {
          "opacity": 0.5
         },
         "name": "2241",
         "showlegend": true,
         "showscale": false,
         "subplot": "mapbox",
         "type": "choroplethmapbox",
         "z": [
          1
         ]
        },
        {
         "colorscale": [
          [
           0,
           "#FF97FF"
          ],
          [
           1,
           "#FF97FF"
          ]
         ],
         "geojson": "STATE",
         "hovertemplate": "Ages 6-21=711<br>State Name=%{location}<extra></extra>",
         "locations": [
          "New Mexico"
         ],
         "marker": {
          "opacity": 0.5
         },
         "name": "711",
         "showlegend": true,
         "showscale": false,
         "subplot": "mapbox",
         "type": "choroplethmapbox",
         "z": [
          1
         ]
        },
        {
         "colorscale": [
          [
           0,
           "#FECB52"
          ],
          [
           1,
           "#FECB52"
          ]
         ],
         "geojson": "STATE",
         "hovertemplate": "Ages 6-21=209<br>State Name=%{location}<extra></extra>",
         "locations": [
          "New Mexico"
         ],
         "marker": {
          "opacity": 0.5
         },
         "name": "209",
         "showlegend": true,
         "showscale": false,
         "subplot": "mapbox",
         "type": "choroplethmapbox",
         "z": [
          1
         ]
        },
        {
         "colorscale": [
          [
           0,
           "#636efa"
          ],
          [
           1,
           "#636efa"
          ]
         ],
         "geojson": "STATE",
         "hovertemplate": "Ages 6-21=4761<br>State Name=%{location}<extra></extra>",
         "locations": [
          "New Mexico"
         ],
         "marker": {
          "opacity": 0.5
         },
         "name": "4761",
         "showlegend": true,
         "showscale": false,
         "subplot": "mapbox",
         "type": "choroplethmapbox",
         "z": [
          1
         ]
        },
        {
         "colorscale": [
          [
           0,
           "#EF553B"
          ],
          [
           1,
           "#EF553B"
          ]
         ],
         "geojson": "STATE",
         "hovertemplate": "Ages 6-21=24738<br>State Name=%{location}<extra></extra>",
         "locations": [
          "New Mexico"
         ],
         "marker": {
          "opacity": 0.5
         },
         "name": "24738",
         "showlegend": true,
         "showscale": false,
         "subplot": "mapbox",
         "type": "choroplethmapbox",
         "z": [
          1
         ]
        },
        {
         "colorscale": [
          [
           0,
           "#00cc96"
          ],
          [
           1,
           "#00cc96"
          ]
         ],
         "geojson": "STATE",
         "hovertemplate": "Ages 6-21=6386<br>State Name=%{location}<extra></extra>",
         "locations": [
          "New Mexico"
         ],
         "marker": {
          "opacity": 0.5
         },
         "name": "6386",
         "showlegend": true,
         "showscale": false,
         "subplot": "mapbox",
         "type": "choroplethmapbox",
         "z": [
          1
         ]
        },
        {
         "colorscale": [
          [
           0,
           "#ab63fa"
          ],
          [
           1,
           "#ab63fa"
          ]
         ],
         "geojson": "STATE",
         "hovertemplate": "Ages 6-21=190<br>State Name=%{location}<extra></extra>",
         "locations": [
          "New Mexico"
         ],
         "marker": {
          "opacity": 0.5
         },
         "name": "190",
         "showlegend": true,
         "showscale": false,
         "subplot": "mapbox",
         "type": "choroplethmapbox",
         "z": [
          1
         ]
        },
        {
         "colorscale": [
          [
           0,
           "#FFA15A"
          ],
          [
           1,
           "#FFA15A"
          ]
         ],
         "geojson": "STATE",
         "hovertemplate": "Ages 6-21=169<br>State Name=%{location}<extra></extra>",
         "locations": [
          "New Mexico"
         ],
         "marker": {
          "opacity": 0.5
         },
         "name": "169",
         "showlegend": true,
         "showscale": false,
         "subplot": "mapbox",
         "type": "choroplethmapbox",
         "z": [
          1
         ]
        },
        {
         "colorscale": [
          [
           0,
           "#19d3f3"
          ],
          [
           1,
           "#19d3f3"
          ]
         ],
         "geojson": "STATE",
         "hovertemplate": "Ages 6-21=457354<br>State Name=%{location}<extra></extra>",
         "locations": [
          "New York"
         ],
         "marker": {
          "opacity": 0.5
         },
         "name": "457354",
         "showlegend": true,
         "showscale": false,
         "subplot": "mapbox",
         "type": "choroplethmapbox",
         "z": [
          1
         ]
        },
        {
         "colorscale": [
          [
           0,
           "#FF6692"
          ],
          [
           1,
           "#FF6692"
          ]
         ],
         "geojson": "STATE",
         "hovertemplate": "Ages 6-21=40525<br>State Name=%{location}<extra></extra>",
         "locations": [
          "New York"
         ],
         "marker": {
          "opacity": 0.5
         },
         "name": "40525",
         "showlegend": true,
         "showscale": false,
         "subplot": "mapbox",
         "type": "choroplethmapbox",
         "z": [
          1
         ]
        },
        {
         "colorscale": [
          [
           0,
           "#B6E880"
          ],
          [
           1,
           "#B6E880"
          ]
         ],
         "geojson": "STATE",
         "hovertemplate": "Ages 6-21=14<br>State Name=%{location}<extra></extra>",
         "locations": [
          "New York"
         ],
         "marker": {
          "opacity": 0.5
         },
         "name": "14",
         "showlegend": true,
         "showscale": false,
         "subplot": "mapbox",
         "type": "choroplethmapbox",
         "z": [
          1
         ]
        },
        {
         "colorscale": [
          [
           0,
           "#FF97FF"
          ],
          [
           1,
           "#FF97FF"
          ]
         ],
         "geojson": "STATE",
         "hovertemplate": "Ages 6-21=22553<br>State Name=%{location}<extra></extra>",
         "locations": [
          "New York"
         ],
         "marker": {
          "opacity": 0.5
         },
         "name": "22553",
         "showlegend": true,
         "showscale": false,
         "subplot": "mapbox",
         "type": "choroplethmapbox",
         "z": [
          1
         ]
        },
        {
         "colorscale": [
          [
           0,
           "#FECB52"
          ],
          [
           1,
           "#FECB52"
          ]
         ],
         "geojson": "STATE",
         "hovertemplate": "Ages 6-21=3909<br>State Name=%{location}<extra></extra>",
         "locations": [
          "New York"
         ],
         "marker": {
          "opacity": 0.5
         },
         "name": "3909",
         "showlegend": true,
         "showscale": false,
         "subplot": "mapbox",
         "type": "choroplethmapbox",
         "z": [
          1
         ]
        },
        {
         "colorscale": [
          [
           0,
           "#636efa"
          ],
          [
           1,
           "#636efa"
          ]
         ],
         "geojson": "STATE",
         "hovertemplate": "Ages 6-21=12905<br>State Name=%{location}<extra></extra>",
         "locations": [
          "New York"
         ],
         "marker": {
          "opacity": 0.5
         },
         "name": "12905",
         "showlegend": true,
         "showscale": false,
         "subplot": "mapbox",
         "type": "choroplethmapbox",
         "z": [
          1
         ]
        },
        {
         "colorscale": [
          [
           0,
           "#EF553B"
          ],
          [
           1,
           "#EF553B"
          ]
         ],
         "geojson": "STATE",
         "hovertemplate": "Ages 6-21=14213<br>State Name=%{location}<extra></extra>",
         "locations": [
          "New York"
         ],
         "marker": {
          "opacity": 0.5
         },
         "name": "14213",
         "showlegend": true,
         "showscale": false,
         "subplot": "mapbox",
         "type": "choroplethmapbox",
         "z": [
          1
         ]
        },
        {
         "colorscale": [
          [
           0,
           "#00cc96"
          ],
          [
           1,
           "#00cc96"
          ]
         ],
         "geojson": "STATE",
         "hovertemplate": "Ages 6-21=1547<br>State Name=%{location}<extra></extra>",
         "locations": [
          "New York"
         ],
         "marker": {
          "opacity": 0.5
         },
         "name": "1547",
         "showlegend": true,
         "showscale": false,
         "subplot": "mapbox",
         "type": "choroplethmapbox",
         "z": [
          1
         ]
        },
        {
         "colorscale": [
          [
           0,
           "#ab63fa"
          ],
          [
           1,
           "#ab63fa"
          ]
         ],
         "geojson": "STATE",
         "hovertemplate": "Ages 6-21=79199<br>State Name=%{location}<extra></extra>",
         "locations": [
          "New York"
         ],
         "marker": {
          "opacity": 0.5
         },
         "name": "79199",
         "showlegend": true,
         "showscale": false,
         "subplot": "mapbox",
         "type": "choroplethmapbox",
         "z": [
          1
         ]
        },
        {
         "colorscale": [
          [
           0,
           "#FFA15A"
          ],
          [
           1,
           "#FFA15A"
          ]
         ],
         "geojson": "STATE",
         "hovertemplate": "Ages 6-21=166558<br>State Name=%{location}<extra></extra>",
         "locations": [
          "New York"
         ],
         "marker": {
          "opacity": 0.5
         },
         "name": "166558",
         "showlegend": true,
         "showscale": false,
         "subplot": "mapbox",
         "type": "choroplethmapbox",
         "z": [
          1
         ]
        },
        {
         "colorscale": [
          [
           0,
           "#19d3f3"
          ],
          [
           1,
           "#19d3f3"
          ]
         ],
         "geojson": "STATE",
         "hovertemplate": "Ages 6-21=113856<br>State Name=%{location}<extra></extra>",
         "locations": [
          "New York"
         ],
         "marker": {
          "opacity": 0.5
         },
         "name": "113856",
         "showlegend": true,
         "showscale": false,
         "subplot": "mapbox",
         "type": "choroplethmapbox",
         "z": [
          1
         ]
        },
        {
         "colorscale": [
          [
           0,
           "#FF6692"
          ],
          [
           1,
           "#FF6692"
          ]
         ],
         "geojson": "STATE",
         "hovertemplate": "Ages 6-21=846<br>State Name=%{location}<extra></extra>",
         "locations": [
          "New York"
         ],
         "marker": {
          "opacity": 0.5
         },
         "name": "846",
         "showlegend": true,
         "showscale": false,
         "subplot": "mapbox",
         "type": "choroplethmapbox",
         "z": [
          1
         ]
        },
        {
         "colorscale": [
          [
           0,
           "#B6E880"
          ],
          [
           1,
           "#B6E880"
          ]
         ],
         "geojson": "STATE",
         "hovertemplate": "Ages 6-21=1229<br>State Name=%{location}<extra></extra>",
         "locations": [
          "New York"
         ],
         "marker": {
          "opacity": 0.5
         },
         "name": "1229",
         "showlegend": true,
         "showscale": false,
         "subplot": "mapbox",
         "type": "choroplethmapbox",
         "z": [
          1
         ]
        },
        {
         "colorscale": [
          [
           0,
           "#FF97FF"
          ],
          [
           1,
           "#FF97FF"
          ]
         ],
         "geojson": "STATE",
         "hovertemplate": "Ages 6-21=181547<br>State Name=%{location}<extra></extra>",
         "locations": [
          "North Carolina"
         ],
         "marker": {
          "opacity": 0.5
         },
         "name": "181547",
         "showlegend": true,
         "showscale": false,
         "subplot": "mapbox",
         "type": "choroplethmapbox",
         "z": [
          1
         ]
        },
        {
         "colorscale": [
          [
           0,
           "#FECB52"
          ],
          [
           1,
           "#FECB52"
          ]
         ],
         "geojson": "STATE",
         "hovertemplate": "Ages 6-21=19229<br>State Name=%{location}<extra></extra>",
         "locations": [
          "North Carolina"
         ],
         "marker": {
          "opacity": 0.5
         },
         "name": "19229",
         "showlegend": true,
         "showscale": false,
         "subplot": "mapbox",
         "type": "choroplethmapbox",
         "z": [
          1
         ]
        },
        {
         "colorscale": [
          [
           0,
           "#636efa"
          ],
          [
           1,
           "#636efa"
          ]
         ],
         "geojson": "STATE",
         "hovertemplate": "Ages 6-21=6991<br>State Name=%{location}<extra></extra>",
         "locations": [
          "North Carolina"
         ],
         "marker": {
          "opacity": 0.5
         },
         "name": "6991",
         "showlegend": true,
         "showscale": false,
         "subplot": "mapbox",
         "type": "choroplethmapbox",
         "z": [
          1
         ]
        },
        {
         "colorscale": [
          [
           0,
           "#EF553B"
          ],
          [
           1,
           "#EF553B"
          ]
         ],
         "geojson": "STATE",
         "hovertemplate": "Ages 6-21=5275<br>State Name=%{location}<extra></extra>",
         "locations": [
          "North Carolina"
         ],
         "marker": {
          "opacity": 0.5
         },
         "name": "5275",
         "showlegend": true,
         "showscale": false,
         "subplot": "mapbox",
         "type": "choroplethmapbox",
         "z": [
          1
         ]
        },
        {
         "colorscale": [
          [
           0,
           "#00cc96"
          ],
          [
           1,
           "#00cc96"
          ]
         ],
         "geojson": "STATE",
         "hovertemplate": "Ages 6-21=1550<br>State Name=%{location}<extra></extra>",
         "locations": [
          "North Carolina"
         ],
         "marker": {
          "opacity": 0.5
         },
         "name": "1550",
         "showlegend": true,
         "showscale": false,
         "subplot": "mapbox",
         "type": "choroplethmapbox",
         "z": [
          1
         ]
        },
        {
         "colorscale": [
          [
           0,
           "#ab63fa"
          ],
          [
           1,
           "#ab63fa"
          ]
         ],
         "geojson": "STATE",
         "hovertemplate": "Ages 6-21=16269<br>State Name=%{location}<extra></extra>",
         "locations": [
          "North Carolina"
         ],
         "marker": {
          "opacity": 0.5
         },
         "name": "16269",
         "showlegend": true,
         "showscale": false,
         "subplot": "mapbox",
         "type": "choroplethmapbox",
         "z": [
          1
         ]
        },
        {
         "colorscale": [
          [
           0,
           "#FFA15A"
          ],
          [
           1,
           "#FFA15A"
          ]
         ],
         "geojson": "STATE",
         "hovertemplate": "Ages 6-21=2710<br>State Name=%{location}<extra></extra>",
         "locations": [
          "North Carolina"
         ],
         "marker": {
          "opacity": 0.5
         },
         "name": "2710",
         "showlegend": true,
         "showscale": false,
         "subplot": "mapbox",
         "type": "choroplethmapbox",
         "z": [
          1
         ]
        },
        {
         "colorscale": [
          [
           0,
           "#19d3f3"
          ],
          [
           1,
           "#19d3f3"
          ]
         ],
         "geojson": "STATE",
         "hovertemplate": "Ages 6-21=609<br>State Name=%{location}<extra></extra>",
         "locations": [
          "North Carolina"
         ],
         "marker": {
          "opacity": 0.5
         },
         "name": "609",
         "showlegend": true,
         "showscale": false,
         "subplot": "mapbox",
         "type": "choroplethmapbox",
         "z": [
          1
         ]
        },
        {
         "colorscale": [
          [
           0,
           "#FF6692"
          ],
          [
           1,
           "#FF6692"
          ]
         ],
         "geojson": "STATE",
         "hovertemplate": "Ages 6-21=35047<br>State Name=%{location}<extra></extra>",
         "locations": [
          "North Carolina"
         ],
         "marker": {
          "opacity": 0.5
         },
         "name": "35047",
         "showlegend": true,
         "showscale": false,
         "subplot": "mapbox",
         "type": "choroplethmapbox",
         "z": [
          1
         ]
        },
        {
         "colorscale": [
          [
           0,
           "#B6E880"
          ],
          [
           1,
           "#B6E880"
          ]
         ],
         "geojson": "STATE",
         "hovertemplate": "Ages 6-21=72095<br>State Name=%{location}<extra></extra>",
         "locations": [
          "North Carolina"
         ],
         "marker": {
          "opacity": 0.5
         },
         "name": "72095",
         "showlegend": true,
         "showscale": false,
         "subplot": "mapbox",
         "type": "choroplethmapbox",
         "z": [
          1
         ]
        },
        {
         "colorscale": [
          [
           0,
           "#FF97FF"
          ],
          [
           1,
           "#FF97FF"
          ]
         ],
         "geojson": "STATE",
         "hovertemplate": "Ages 6-21=20478<br>State Name=%{location}<extra></extra>",
         "locations": [
          "North Carolina"
         ],
         "marker": {
          "opacity": 0.5
         },
         "name": "20478",
         "showlegend": true,
         "showscale": false,
         "subplot": "mapbox",
         "type": "choroplethmapbox",
         "z": [
          1
         ]
        },
        {
         "colorscale": [
          [
           0,
           "#FECB52"
          ],
          [
           1,
           "#FECB52"
          ]
         ],
         "geojson": "STATE",
         "hovertemplate": "Ages 6-21=695<br>State Name=%{location}<extra></extra>",
         "locations": [
          "North Carolina"
         ],
         "marker": {
          "opacity": 0.5
         },
         "name": "695",
         "showlegend": true,
         "showscale": false,
         "subplot": "mapbox",
         "type": "choroplethmapbox",
         "z": [
          1
         ]
        },
        {
         "colorscale": [
          [
           0,
           "#636efa"
          ],
          [
           1,
           "#636efa"
          ]
         ],
         "geojson": "STATE",
         "hovertemplate": "Ages 6-21=571<br>State Name=%{location}<extra></extra>",
         "locations": [
          "North Carolina"
         ],
         "marker": {
          "opacity": 0.5
         },
         "name": "571",
         "showlegend": true,
         "showscale": false,
         "subplot": "mapbox",
         "type": "choroplethmapbox",
         "z": [
          1
         ]
        },
        {
         "colorscale": [
          [
           0,
           "#EF553B"
          ],
          [
           1,
           "#EF553B"
          ]
         ],
         "geojson": "STATE",
         "hovertemplate": "Ages 6-21=13559<br>State Name=%{location}<extra></extra>",
         "locations": [
          "North Dakota"
         ],
         "marker": {
          "opacity": 0.5
         },
         "name": "13559",
         "showlegend": true,
         "showscale": false,
         "subplot": "mapbox",
         "type": "choroplethmapbox",
         "z": [
          1
         ]
        },
        {
         "colorscale": [
          [
           0,
           "#00cc96"
          ],
          [
           1,
           "#00cc96"
          ]
         ],
         "geojson": "STATE",
         "hovertemplate": "Ages 6-21=1304<br>State Name=%{location}<extra></extra>",
         "locations": [
          "North Dakota"
         ],
         "marker": {
          "opacity": 0.5
         },
         "name": "1304",
         "showlegend": true,
         "showscale": false,
         "subplot": "mapbox",
         "type": "choroplethmapbox",
         "z": [
          1
         ]
        },
        {
         "colorscale": [
          [
           0,
           "#ab63fa"
          ],
          [
           1,
           "#ab63fa"
          ]
         ],
         "geojson": "STATE",
         "hovertemplate": "Ages 6-21=2<br>State Name=%{location}<extra></extra>",
         "locations": [
          "North Dakota",
          "Northern Marianas",
          "Republic of Palau",
          "Republic of Palau",
          "Republic of the Marshall Islands",
          "South Dakota",
          "Virgin Islands"
         ],
         "marker": {
          "opacity": 0.5
         },
         "name": "2",
         "showlegend": true,
         "showscale": false,
         "subplot": "mapbox",
         "type": "choroplethmapbox",
         "z": [
          1,
          1,
          1,
          1,
          1,
          1,
          1
         ]
        },
        {
         "colorscale": [
          [
           0,
           "#FFA15A"
          ],
          [
           1,
           "#FFA15A"
          ]
         ],
         "geojson": "STATE",
         "hovertemplate": "Ages 6-21=1306<br>State Name=%{location}<extra></extra>",
         "locations": [
          "North Dakota"
         ],
         "marker": {
          "opacity": 0.5
         },
         "name": "1306",
         "showlegend": true,
         "showscale": false,
         "subplot": "mapbox",
         "type": "choroplethmapbox",
         "z": [
          1
         ]
        },
        {
         "colorscale": [
          [
           0,
           "#19d3f3"
          ],
          [
           1,
           "#19d3f3"
          ]
         ],
         "geojson": "STATE",
         "hovertemplate": "Ages 6-21=1183<br>State Name=%{location}<extra></extra>",
         "locations": [
          "North Dakota"
         ],
         "marker": {
          "opacity": 0.5
         },
         "name": "1183",
         "showlegend": true,
         "showscale": false,
         "subplot": "mapbox",
         "type": "choroplethmapbox",
         "z": [
          1
         ]
        },
        {
         "colorscale": [
          [
           0,
           "#FF6692"
          ],
          [
           1,
           "#FF6692"
          ]
         ],
         "geojson": "STATE",
         "hovertemplate": "Ages 6-21=117<br>State Name=%{location}<extra></extra>",
         "locations": [
          "North Dakota"
         ],
         "marker": {
          "opacity": 0.5
         },
         "name": "117",
         "showlegend": true,
         "showscale": false,
         "subplot": "mapbox",
         "type": "choroplethmapbox",
         "z": [
          1
         ]
        },
        {
         "colorscale": [
          [
           0,
           "#B6E880"
          ],
          [
           1,
           "#B6E880"
          ]
         ],
         "geojson": "STATE",
         "hovertemplate": "Ages 6-21=764<br>State Name=%{location}<extra></extra>",
         "locations": [
          "North Dakota"
         ],
         "marker": {
          "opacity": 0.5
         },
         "name": "764",
         "showlegend": true,
         "showscale": false,
         "subplot": "mapbox",
         "type": "choroplethmapbox",
         "z": [
          1
         ]
        },
        {
         "colorscale": [
          [
           0,
           "#FF97FF"
          ],
          [
           1,
           "#FF97FF"
          ]
         ],
         "geojson": "STATE",
         "hovertemplate": "Ages 6-21=55<br>State Name=%{location}<extra></extra>",
         "locations": [
          "North Dakota",
          "Pennsylvania"
         ],
         "marker": {
          "opacity": 0.5
         },
         "name": "55",
         "showlegend": true,
         "showscale": false,
         "subplot": "mapbox",
         "type": "choroplethmapbox",
         "z": [
          1,
          1
         ]
        },
        {
         "colorscale": [
          [
           0,
           "#FECB52"
          ],
          [
           1,
           "#FECB52"
          ]
         ],
         "geojson": "STATE",
         "hovertemplate": "Ages 6-21=2195<br>State Name=%{location}<extra></extra>",
         "locations": [
          "North Dakota"
         ],
         "marker": {
          "opacity": 0.5
         },
         "name": "2195",
         "showlegend": true,
         "showscale": false,
         "subplot": "mapbox",
         "type": "choroplethmapbox",
         "z": [
          1
         ]
        },
        {
         "colorscale": [
          [
           0,
           "#636efa"
          ],
          [
           1,
           "#636efa"
          ]
         ],
         "geojson": "STATE",
         "hovertemplate": "Ages 6-21=4550<br>State Name=%{location}<extra></extra>",
         "locations": [
          "North Dakota"
         ],
         "marker": {
          "opacity": 0.5
         },
         "name": "4550",
         "showlegend": true,
         "showscale": false,
         "subplot": "mapbox",
         "type": "choroplethmapbox",
         "z": [
          1
         ]
        },
        {
         "colorscale": [
          [
           0,
           "#EF553B"
          ],
          [
           1,
           "#EF553B"
          ]
         ],
         "geojson": "STATE",
         "hovertemplate": "Ages 6-21=856<br>State Name=%{location}<extra></extra>",
         "locations": [
          "Northern Marianas"
         ],
         "marker": {
          "opacity": 0.5
         },
         "name": "856",
         "showlegend": true,
         "showscale": false,
         "subplot": "mapbox",
         "type": "choroplethmapbox",
         "z": [
          1
         ]
        },
        {
         "colorscale": [
          [
           0,
           "#00cc96"
          ],
          [
           1,
           "#00cc96"
          ]
         ],
         "geojson": "STATE",
         "hovertemplate": "Ages 6-21=108<br>State Name=%{location}<extra></extra>",
         "locations": [
          "Northern Marianas"
         ],
         "marker": {
          "opacity": 0.5
         },
         "name": "108",
         "showlegend": true,
         "showscale": false,
         "subplot": "mapbox",
         "type": "choroplethmapbox",
         "z": [
          1
         ]
        },
        {
         "colorscale": [
          [
           0,
           "#ab63fa"
          ],
          [
           1,
           "#ab63fa"
          ]
         ],
         "geojson": "STATE",
         "hovertemplate": "Ages 6-21=77<br>State Name=%{location}<extra></extra>",
         "locations": [
          "Northern Marianas"
         ],
         "marker": {
          "opacity": 0.5
         },
         "name": "77",
         "showlegend": true,
         "showscale": false,
         "subplot": "mapbox",
         "type": "choroplethmapbox",
         "z": [
          1
         ]
        },
        {
         "colorscale": [
          [
           0,
           "#FFA15A"
          ],
          [
           1,
           "#FFA15A"
          ]
         ],
         "geojson": "STATE",
         "hovertemplate": "Ages 6-21=62<br>State Name=%{location}<extra></extra>",
         "locations": [
          "Northern Marianas"
         ],
         "marker": {
          "opacity": 0.5
         },
         "name": "62",
         "showlegend": true,
         "showscale": false,
         "subplot": "mapbox",
         "type": "choroplethmapbox",
         "z": [
          1
         ]
        },
        {
         "colorscale": [
          [
           0,
           "#19d3f3"
          ],
          [
           1,
           "#19d3f3"
          ]
         ],
         "geojson": "STATE",
         "hovertemplate": "Ages 6-21=93<br>State Name=%{location}<extra></extra>",
         "locations": [
          "Northern Marianas"
         ],
         "marker": {
          "opacity": 0.5
         },
         "name": "93",
         "showlegend": true,
         "showscale": false,
         "subplot": "mapbox",
         "type": "choroplethmapbox",
         "z": [
          1
         ]
        },
        {
         "colorscale": [
          [
           0,
           "#FF6692"
          ],
          [
           1,
           "#FF6692"
          ]
         ],
         "geojson": "STATE",
         "hovertemplate": "Ages 6-21=400<br>State Name=%{location}<extra></extra>",
         "locations": [
          "Northern Marianas"
         ],
         "marker": {
          "opacity": 0.5
         },
         "name": "400",
         "showlegend": true,
         "showscale": false,
         "subplot": "mapbox",
         "type": "choroplethmapbox",
         "z": [
          1
         ]
        },
        {
         "colorscale": [
          [
           0,
           "#B6E880"
          ],
          [
           1,
           "#B6E880"
          ]
         ],
         "geojson": "STATE",
         "hovertemplate": "Ages 6-21=19<br>State Name=%{location}<extra></extra>",
         "locations": [
          "Northern Marianas"
         ],
         "marker": {
          "opacity": 0.5
         },
         "name": "19",
         "showlegend": true,
         "showscale": false,
         "subplot": "mapbox",
         "type": "choroplethmapbox",
         "z": [
          1
         ]
        },
        {
         "colorscale": [
          [
           0,
           "#FF97FF"
          ],
          [
           1,
           "#FF97FF"
          ]
         ],
         "geojson": "STATE",
         "hovertemplate": "Ages 6-21=244671<br>State Name=%{location}<extra></extra>",
         "locations": [
          "Ohio"
         ],
         "marker": {
          "opacity": 0.5
         },
         "name": "244671",
         "showlegend": true,
         "showscale": false,
         "subplot": "mapbox",
         "type": "choroplethmapbox",
         "z": [
          1
         ]
        },
        {
         "colorscale": [
          [
           0,
           "#FECB52"
          ],
          [
           1,
           "#FECB52"
          ]
         ],
         "geojson": "STATE",
         "hovertemplate": "Ages 6-21=23754<br>State Name=%{location}<extra></extra>",
         "locations": [
          "Ohio"
         ],
         "marker": {
          "opacity": 0.5
         },
         "name": "23754",
         "showlegend": true,
         "showscale": false,
         "subplot": "mapbox",
         "type": "choroplethmapbox",
         "z": [
          1
         ]
        },
        {
         "colorscale": [
          [
           0,
           "#636efa"
          ],
          [
           1,
           "#636efa"
          ]
         ],
         "geojson": "STATE",
         "hovertemplate": "Ages 6-21=15377<br>State Name=%{location}<extra></extra>",
         "locations": [
          "Ohio"
         ],
         "marker": {
          "opacity": 0.5
         },
         "name": "15377",
         "showlegend": true,
         "showscale": false,
         "subplot": "mapbox",
         "type": "choroplethmapbox",
         "z": [
          1
         ]
        },
        {
         "colorscale": [
          [
           0,
           "#EF553B"
          ],
          [
           1,
           "#EF553B"
          ]
         ],
         "geojson": "STATE",
         "hovertemplate": "Ages 6-21=1858<br>State Name=%{location}<extra></extra>",
         "locations": [
          "Ohio"
         ],
         "marker": {
          "opacity": 0.5
         },
         "name": "1858",
         "showlegend": true,
         "showscale": false,
         "subplot": "mapbox",
         "type": "choroplethmapbox",
         "z": [
          1
         ]
        },
        {
         "colorscale": [
          [
           0,
           "#00cc96"
          ],
          [
           1,
           "#00cc96"
          ]
         ],
         "geojson": "STATE",
         "hovertemplate": "Ages 6-21=19324<br>State Name=%{location}<extra></extra>",
         "locations": [
          "Ohio"
         ],
         "marker": {
          "opacity": 0.5
         },
         "name": "19324",
         "showlegend": true,
         "showscale": false,
         "subplot": "mapbox",
         "type": "choroplethmapbox",
         "z": [
          1
         ]
        },
        {
         "colorscale": [
          [
           0,
           "#ab63fa"
          ],
          [
           1,
           "#ab63fa"
          ]
         ],
         "geojson": "STATE",
         "hovertemplate": "Ages 6-21=12113<br>State Name=%{location}<extra></extra>",
         "locations": [
          "Ohio"
         ],
         "marker": {
          "opacity": 0.5
         },
         "name": "12113",
         "showlegend": true,
         "showscale": false,
         "subplot": "mapbox",
         "type": "choroplethmapbox",
         "z": [
          1
         ]
        },
        {
         "colorscale": [
          [
           0,
           "#FFA15A"
          ],
          [
           1,
           "#FFA15A"
          ]
         ],
         "geojson": "STATE",
         "hovertemplate": "Ages 6-21=1234<br>State Name=%{location}<extra></extra>",
         "locations": [
          "Ohio"
         ],
         "marker": {
          "opacity": 0.5
         },
         "name": "1234",
         "showlegend": true,
         "showscale": false,
         "subplot": "mapbox",
         "type": "choroplethmapbox",
         "z": [
          1
         ]
        },
        {
         "colorscale": [
          [
           0,
           "#19d3f3"
          ],
          [
           1,
           "#19d3f3"
          ]
         ],
         "geojson": "STATE",
         "hovertemplate": "Ages 6-21=45366<br>State Name=%{location}<extra></extra>",
         "locations": [
          "Ohio"
         ],
         "marker": {
          "opacity": 0.5
         },
         "name": "45366",
         "showlegend": true,
         "showscale": false,
         "subplot": "mapbox",
         "type": "choroplethmapbox",
         "z": [
          1
         ]
        },
        {
         "colorscale": [
          [
           0,
           "#FF6692"
          ],
          [
           1,
           "#FF6692"
          ]
         ],
         "geojson": "STATE",
         "hovertemplate": "Ages 6-21=98008<br>State Name=%{location}<extra></extra>",
         "locations": [
          "Ohio"
         ],
         "marker": {
          "opacity": 0.5
         },
         "name": "98008",
         "showlegend": true,
         "showscale": false,
         "subplot": "mapbox",
         "type": "choroplethmapbox",
         "z": [
          1
         ]
        },
        {
         "colorscale": [
          [
           0,
           "#B6E880"
          ],
          [
           1,
           "#B6E880"
          ]
         ],
         "geojson": "STATE",
         "hovertemplate": "Ages 6-21=25254<br>State Name=%{location}<extra></extra>",
         "locations": [
          "Ohio"
         ],
         "marker": {
          "opacity": 0.5
         },
         "name": "25254",
         "showlegend": true,
         "showscale": false,
         "subplot": "mapbox",
         "type": "choroplethmapbox",
         "z": [
          1
         ]
        },
        {
         "colorscale": [
          [
           0,
           "#FF97FF"
          ],
          [
           1,
           "#FF97FF"
          ]
         ],
         "geojson": "STATE",
         "hovertemplate": "Ages 6-21=1459<br>State Name=%{location}<extra></extra>",
         "locations": [
          "Ohio"
         ],
         "marker": {
          "opacity": 0.5
         },
         "name": "1459",
         "showlegend": true,
         "showscale": false,
         "subplot": "mapbox",
         "type": "choroplethmapbox",
         "z": [
          1
         ]
        },
        {
         "colorscale": [
          [
           0,
           "#FECB52"
          ],
          [
           1,
           "#FECB52"
          ]
         ],
         "geojson": "STATE",
         "hovertemplate": "Ages 6-21=859<br>State Name=%{location}<extra></extra>",
         "locations": [
          "Ohio"
         ],
         "marker": {
          "opacity": 0.5
         },
         "name": "859",
         "showlegend": true,
         "showscale": false,
         "subplot": "mapbox",
         "type": "choroplethmapbox",
         "z": [
          1
         ]
        },
        {
         "colorscale": [
          [
           0,
           "#636efa"
          ],
          [
           1,
           "#636efa"
          ]
         ],
         "geojson": "STATE",
         "hovertemplate": "Ages 6-21=104980<br>State Name=%{location}<extra></extra>",
         "locations": [
          "Oklahoma"
         ],
         "marker": {
          "opacity": 0.5
         },
         "name": "104980",
         "showlegend": true,
         "showscale": false,
         "subplot": "mapbox",
         "type": "choroplethmapbox",
         "z": [
          1
         ]
        },
        {
         "colorscale": [
          [
           0,
           "#EF553B"
          ],
          [
           1,
           "#EF553B"
          ]
         ],
         "geojson": "STATE",
         "hovertemplate": "Ages 6-21=6744<br>State Name=%{location}<extra></extra>",
         "locations": [
          "Oklahoma"
         ],
         "marker": {
          "opacity": 0.5
         },
         "name": "6744",
         "showlegend": true,
         "showscale": false,
         "subplot": "mapbox",
         "type": "choroplethmapbox",
         "z": [
          1
         ]
        },
        {
         "colorscale": [
          [
           0,
           "#00cc96"
          ],
          [
           1,
           "#00cc96"
          ]
         ],
         "geojson": "STATE",
         "hovertemplate": "Ages 6-21=16229<br>State Name=%{location}<extra></extra>",
         "locations": [
          "Oklahoma"
         ],
         "marker": {
          "opacity": 0.5
         },
         "name": "16229",
         "showlegend": true,
         "showscale": false,
         "subplot": "mapbox",
         "type": "choroplethmapbox",
         "z": [
          1
         ]
        },
        {
         "colorscale": [
          [
           0,
           "#ab63fa"
          ],
          [
           1,
           "#ab63fa"
          ]
         ],
         "geojson": "STATE",
         "hovertemplate": "Ages 6-21=4142<br>State Name=%{location}<extra></extra>",
         "locations": [
          "Oklahoma"
         ],
         "marker": {
          "opacity": 0.5
         },
         "name": "4142",
         "showlegend": true,
         "showscale": false,
         "subplot": "mapbox",
         "type": "choroplethmapbox",
         "z": [
          1
         ]
        },
        {
         "colorscale": [
          [
           0,
           "#FFA15A"
          ],
          [
           1,
           "#FFA15A"
          ]
         ],
         "geojson": "STATE",
         "hovertemplate": "Ages 6-21=1380<br>State Name=%{location}<extra></extra>",
         "locations": [
          "Oklahoma"
         ],
         "marker": {
          "opacity": 0.5
         },
         "name": "1380",
         "showlegend": true,
         "showscale": false,
         "subplot": "mapbox",
         "type": "choroplethmapbox",
         "z": [
          1
         ]
        },
        {
         "colorscale": [
          [
           0,
           "#19d3f3"
          ],
          [
           1,
           "#19d3f3"
          ]
         ],
         "geojson": "STATE",
         "hovertemplate": "Ages 6-21=6470<br>State Name=%{location}<extra></extra>",
         "locations": [
          "Oklahoma"
         ],
         "marker": {
          "opacity": 0.5
         },
         "name": "6470",
         "showlegend": true,
         "showscale": false,
         "subplot": "mapbox",
         "type": "choroplethmapbox",
         "z": [
          1
         ]
        },
        {
         "colorscale": [
          [
           0,
           "#FF6692"
          ],
          [
           1,
           "#FF6692"
          ]
         ],
         "geojson": "STATE",
         "hovertemplate": "Ages 6-21=1574<br>State Name=%{location}<extra></extra>",
         "locations": [
          "Oklahoma"
         ],
         "marker": {
          "opacity": 0.5
         },
         "name": "1574",
         "showlegend": true,
         "showscale": false,
         "subplot": "mapbox",
         "type": "choroplethmapbox",
         "z": [
          1
         ]
        },
        {
         "colorscale": [
          [
           0,
           "#B6E880"
          ],
          [
           1,
           "#B6E880"
          ]
         ],
         "geojson": "STATE",
         "hovertemplate": "Ages 6-21=339<br>State Name=%{location}<extra></extra>",
         "locations": [
          "Oklahoma"
         ],
         "marker": {
          "opacity": 0.5
         },
         "name": "339",
         "showlegend": true,
         "showscale": false,
         "subplot": "mapbox",
         "type": "choroplethmapbox",
         "z": [
          1
         ]
        },
        {
         "colorscale": [
          [
           0,
           "#FF97FF"
          ],
          [
           1,
           "#FF97FF"
          ]
         ],
         "geojson": "STATE",
         "hovertemplate": "Ages 6-21=18251<br>State Name=%{location}<extra></extra>",
         "locations": [
          "Oklahoma"
         ],
         "marker": {
          "opacity": 0.5
         },
         "name": "18251",
         "showlegend": true,
         "showscale": false,
         "subplot": "mapbox",
         "type": "choroplethmapbox",
         "z": [
          1
         ]
        },
        {
         "colorscale": [
          [
           0,
           "#FECB52"
          ],
          [
           1,
           "#FECB52"
          ]
         ],
         "geojson": "STATE",
         "hovertemplate": "Ages 6-21=38775<br>State Name=%{location}<extra></extra>",
         "locations": [
          "Oklahoma"
         ],
         "marker": {
          "opacity": 0.5
         },
         "name": "38775",
         "showlegend": true,
         "showscale": false,
         "subplot": "mapbox",
         "type": "choroplethmapbox",
         "z": [
          1
         ]
        },
        {
         "colorscale": [
          [
           0,
           "#636efa"
          ],
          [
           1,
           "#636efa"
          ]
         ],
         "geojson": "STATE",
         "hovertemplate": "Ages 6-21=10198<br>State Name=%{location}<extra></extra>",
         "locations": [
          "Oklahoma"
         ],
         "marker": {
          "opacity": 0.5
         },
         "name": "10198",
         "showlegend": true,
         "showscale": false,
         "subplot": "mapbox",
         "type": "choroplethmapbox",
         "z": [
          1
         ]
        },
        {
         "colorscale": [
          [
           0,
           "#EF553B"
          ],
          [
           1,
           "#EF553B"
          ]
         ],
         "geojson": "STATE",
         "hovertemplate": "Ages 6-21=239<br>State Name=%{location}<extra></extra>",
         "locations": [
          "Oklahoma"
         ],
         "marker": {
          "opacity": 0.5
         },
         "name": "239",
         "showlegend": true,
         "showscale": false,
         "subplot": "mapbox",
         "type": "choroplethmapbox",
         "z": [
          1
         ]
        },
        {
         "colorscale": [
          [
           0,
           "#00cc96"
          ],
          [
           1,
           "#00cc96"
          ]
         ],
         "geojson": "STATE",
         "hovertemplate": "Ages 6-21=619<br>State Name=%{location}<extra></extra>",
         "locations": [
          "Oklahoma"
         ],
         "marker": {
          "opacity": 0.5
         },
         "name": "619",
         "showlegend": true,
         "showscale": false,
         "subplot": "mapbox",
         "type": "choroplethmapbox",
         "z": [
          1
         ]
        },
        {
         "colorscale": [
          [
           0,
           "#ab63fa"
          ],
          [
           1,
           "#ab63fa"
          ]
         ],
         "geojson": "STATE",
         "hovertemplate": "Ages 6-21=77432<br>State Name=%{location}<extra></extra>",
         "locations": [
          "Oregon"
         ],
         "marker": {
          "opacity": 0.5
         },
         "name": "77432",
         "showlegend": true,
         "showscale": false,
         "subplot": "mapbox",
         "type": "choroplethmapbox",
         "z": [
          1
         ]
        },
        {
         "colorscale": [
          [
           0,
           "#FFA15A"
          ],
          [
           1,
           "#FFA15A"
          ]
         ],
         "geojson": "STATE",
         "hovertemplate": "Ages 6-21=9752<br>State Name=%{location}<extra></extra>",
         "locations": [
          "Oregon"
         ],
         "marker": {
          "opacity": 0.5
         },
         "name": "9752",
         "showlegend": true,
         "showscale": false,
         "subplot": "mapbox",
         "type": "choroplethmapbox",
         "z": [
          1
         ]
        },
        {
         "colorscale": [
          [
           0,
           "#19d3f3"
          ],
          [
           1,
           "#19d3f3"
          ]
         ],
         "geojson": "STATE",
         "hovertemplate": "Ages 6-21=848<br>State Name=%{location}<extra></extra>",
         "locations": [
          "Oregon"
         ],
         "marker": {
          "opacity": 0.5
         },
         "name": "848",
         "showlegend": true,
         "showscale": false,
         "subplot": "mapbox",
         "type": "choroplethmapbox",
         "z": [
          1
         ]
        },
        {
         "colorscale": [
          [
           0,
           "#FF6692"
          ],
          [
           1,
           "#FF6692"
          ]
         ],
         "geojson": "STATE",
         "hovertemplate": "Ages 6-21=4167<br>State Name=%{location}<extra></extra>",
         "locations": [
          "Oregon"
         ],
         "marker": {
          "opacity": 0.5
         },
         "name": "4167",
         "showlegend": true,
         "showscale": false,
         "subplot": "mapbox",
         "type": "choroplethmapbox",
         "z": [
          1
         ]
        },
        {
         "colorscale": [
          [
           0,
           "#B6E880"
          ],
          [
           1,
           "#B6E880"
          ]
         ],
         "geojson": "STATE",
         "hovertemplate": "Ages 6-21=602<br>State Name=%{location}<extra></extra>",
         "locations": [
          "Oregon"
         ],
         "marker": {
          "opacity": 0.5
         },
         "name": "602",
         "showlegend": true,
         "showscale": false,
         "subplot": "mapbox",
         "type": "choroplethmapbox",
         "z": [
          1
         ]
        },
        {
         "colorscale": [
          [
           0,
           "#FF97FF"
          ],
          [
           1,
           "#FF97FF"
          ]
         ],
         "geojson": "STATE",
         "hovertemplate": "Ages 6-21=14655<br>State Name=%{location}<extra></extra>",
         "locations": [
          "Oregon"
         ],
         "marker": {
          "opacity": 0.5
         },
         "name": "14655",
         "showlegend": true,
         "showscale": false,
         "subplot": "mapbox",
         "type": "choroplethmapbox",
         "z": [
          1
         ]
        },
        {
         "colorscale": [
          [
           0,
           "#FECB52"
          ],
          [
           1,
           "#FECB52"
          ]
         ],
         "geojson": "STATE",
         "hovertemplate": "Ages 6-21=25191<br>State Name=%{location}<extra></extra>",
         "locations": [
          "Oregon"
         ],
         "marker": {
          "opacity": 0.5
         },
         "name": "25191",
         "showlegend": true,
         "showscale": false,
         "subplot": "mapbox",
         "type": "choroplethmapbox",
         "z": [
          1
         ]
        },
        {
         "colorscale": [
          [
           0,
           "#636efa"
          ],
          [
           1,
           "#636efa"
          ]
         ],
         "geojson": "STATE",
         "hovertemplate": "Ages 6-21=16357<br>State Name=%{location}<extra></extra>",
         "locations": [
          "Oregon"
         ],
         "marker": {
          "opacity": 0.5
         },
         "name": "16357",
         "showlegend": true,
         "showscale": false,
         "subplot": "mapbox",
         "type": "choroplethmapbox",
         "z": [
          1
         ]
        },
        {
         "colorscale": [
          [
           0,
           "#EF553B"
          ],
          [
           1,
           "#EF553B"
          ]
         ],
         "geojson": "STATE",
         "hovertemplate": "Ages 6-21=294<br>State Name=%{location}<extra></extra>",
         "locations": [
          "Oregon"
         ],
         "marker": {
          "opacity": 0.5
         },
         "name": "294",
         "showlegend": true,
         "showscale": false,
         "subplot": "mapbox",
         "type": "choroplethmapbox",
         "z": [
          1
         ]
        },
        {
         "colorscale": [
          [
           0,
           "#00cc96"
          ],
          [
           1,
           "#00cc96"
          ]
         ],
         "geojson": "STATE",
         "hovertemplate": "Ages 6-21=269<br>State Name=%{location}<extra></extra>",
         "locations": [
          "Oregon"
         ],
         "marker": {
          "opacity": 0.5
         },
         "name": "269",
         "showlegend": true,
         "showscale": false,
         "subplot": "mapbox",
         "type": "choroplethmapbox",
         "z": [
          1
         ]
        },
        {
         "colorscale": [
          [
           0,
           "#ab63fa"
          ],
          [
           1,
           "#ab63fa"
          ]
         ],
         "geojson": "STATE",
         "hovertemplate": "Ages 6-21=290896<br>State Name=%{location}<extra></extra>",
         "locations": [
          "Pennsylvania"
         ],
         "marker": {
          "opacity": 0.5
         },
         "name": "290896",
         "showlegend": true,
         "showscale": false,
         "subplot": "mapbox",
         "type": "choroplethmapbox",
         "z": [
          1
         ]
        },
        {
         "colorscale": [
          [
           0,
           "#FFA15A"
          ],
          [
           1,
           "#FFA15A"
          ]
         ],
         "geojson": "STATE",
         "hovertemplate": "Ages 6-21=32332<br>State Name=%{location}<extra></extra>",
         "locations": [
          "Pennsylvania"
         ],
         "marker": {
          "opacity": 0.5
         },
         "name": "32332",
         "showlegend": true,
         "showscale": false,
         "subplot": "mapbox",
         "type": "choroplethmapbox",
         "z": [
          1
         ]
        },
        {
         "colorscale": [
          [
           0,
           "#19d3f3"
          ],
          [
           1,
           "#19d3f3"
          ]
         ],
         "geojson": "STATE",
         "hovertemplate": "Ages 6-21=25166<br>State Name=%{location}<extra></extra>",
         "locations": [
          "Pennsylvania"
         ],
         "marker": {
          "opacity": 0.5
         },
         "name": "25166",
         "showlegend": true,
         "showscale": false,
         "subplot": "mapbox",
         "type": "choroplethmapbox",
         "z": [
          1
         ]
        },
        {
         "colorscale": [
          [
           0,
           "#FF6692"
          ],
          [
           1,
           "#FF6692"
          ]
         ],
         "geojson": "STATE",
         "hovertemplate": "Ages 6-21=2526<br>State Name=%{location}<extra></extra>",
         "locations": [
          "Pennsylvania"
         ],
         "marker": {
          "opacity": 0.5
         },
         "name": "2526",
         "showlegend": true,
         "showscale": false,
         "subplot": "mapbox",
         "type": "choroplethmapbox",
         "z": [
          1
         ]
        },
        {
         "colorscale": [
          [
           0,
           "#B6E880"
          ],
          [
           1,
           "#B6E880"
          ]
         ],
         "geojson": "STATE",
         "hovertemplate": "Ages 6-21=18476<br>State Name=%{location}<extra></extra>",
         "locations": [
          "Pennsylvania"
         ],
         "marker": {
          "opacity": 0.5
         },
         "name": "18476",
         "showlegend": true,
         "showscale": false,
         "subplot": "mapbox",
         "type": "choroplethmapbox",
         "z": [
          1
         ]
        },
        {
         "colorscale": [
          [
           0,
           "#FF97FF"
          ],
          [
           1,
           "#FF97FF"
          ]
         ],
         "geojson": "STATE",
         "hovertemplate": "Ages 6-21=3029<br>State Name=%{location}<extra></extra>",
         "locations": [
          "Pennsylvania"
         ],
         "marker": {
          "opacity": 0.5
         },
         "name": "3029",
         "showlegend": true,
         "showscale": false,
         "subplot": "mapbox",
         "type": "choroplethmapbox",
         "z": [
          1
         ]
        },
        {
         "colorscale": [
          [
           0,
           "#FECB52"
          ],
          [
           1,
           "#FECB52"
          ]
         ],
         "geojson": "STATE",
         "hovertemplate": "Ages 6-21=648<br>State Name=%{location}<extra></extra>",
         "locations": [
          "Pennsylvania"
         ],
         "marker": {
          "opacity": 0.5
         },
         "name": "648",
         "showlegend": true,
         "showscale": false,
         "subplot": "mapbox",
         "type": "choroplethmapbox",
         "z": [
          1
         ]
        },
        {
         "colorscale": [
          [
           0,
           "#636efa"
          ],
          [
           1,
           "#636efa"
          ]
         ],
         "geojson": "STATE",
         "hovertemplate": "Ages 6-21=48004<br>State Name=%{location}<extra></extra>",
         "locations": [
          "Pennsylvania"
         ],
         "marker": {
          "opacity": 0.5
         },
         "name": "48004",
         "showlegend": true,
         "showscale": false,
         "subplot": "mapbox",
         "type": "choroplethmapbox",
         "z": [
          1
         ]
        },
        {
         "colorscale": [
          [
           0,
           "#EF553B"
          ],
          [
           1,
           "#EF553B"
          ]
         ],
         "geojson": "STATE",
         "hovertemplate": "Ages 6-21=120625<br>State Name=%{location}<extra></extra>",
         "locations": [
          "Pennsylvania"
         ],
         "marker": {
          "opacity": 0.5
         },
         "name": "120625",
         "showlegend": true,
         "showscale": false,
         "subplot": "mapbox",
         "type": "choroplethmapbox",
         "z": [
          1
         ]
        },
        {
         "colorscale": [
          [
           0,
           "#00cc96"
          ],
          [
           1,
           "#00cc96"
          ]
         ],
         "geojson": "STATE",
         "hovertemplate": "Ages 6-21=38309<br>State Name=%{location}<extra></extra>",
         "locations": [
          "Pennsylvania"
         ],
         "marker": {
          "opacity": 0.5
         },
         "name": "38309",
         "showlegend": true,
         "showscale": false,
         "subplot": "mapbox",
         "type": "choroplethmapbox",
         "z": [
          1
         ]
        },
        {
         "colorscale": [
          [
           0,
           "#ab63fa"
          ],
          [
           1,
           "#ab63fa"
          ]
         ],
         "geojson": "STATE",
         "hovertemplate": "Ages 6-21=630<br>State Name=%{location}<extra></extra>",
         "locations": [
          "Pennsylvania"
         ],
         "marker": {
          "opacity": 0.5
         },
         "name": "630",
         "showlegend": true,
         "showscale": false,
         "subplot": "mapbox",
         "type": "choroplethmapbox",
         "z": [
          1
         ]
        },
        {
         "colorscale": [
          [
           0,
           "#FFA15A"
          ],
          [
           1,
           "#FFA15A"
          ]
         ],
         "geojson": "STATE",
         "hovertemplate": "Ages 6-21=1020<br>State Name=%{location}<extra></extra>",
         "locations": [
          "Pennsylvania",
          "Vermont"
         ],
         "marker": {
          "opacity": 0.5
         },
         "name": "1020",
         "showlegend": true,
         "showscale": false,
         "subplot": "mapbox",
         "type": "choroplethmapbox",
         "z": [
          1,
          1
         ]
        },
        {
         "colorscale": [
          [
           0,
           "#19d3f3"
          ],
          [
           1,
           "#19d3f3"
          ]
         ],
         "geojson": "STATE",
         "hovertemplate": "Ages 6-21=91338<br>State Name=%{location}<extra></extra>",
         "locations": [
          "Puerto Rico"
         ],
         "marker": {
          "opacity": 0.5
         },
         "name": "91338",
         "showlegend": true,
         "showscale": false,
         "subplot": "mapbox",
         "type": "choroplethmapbox",
         "z": [
          1
         ]
        },
        {
         "colorscale": [
          [
           0,
           "#FF6692"
          ],
          [
           1,
           "#FF6692"
          ]
         ],
         "geojson": "STATE",
         "hovertemplate": "Ages 6-21=4987<br>State Name=%{location}<extra></extra>",
         "locations": [
          "Puerto Rico"
         ],
         "marker": {
          "opacity": 0.5
         },
         "name": "4987",
         "showlegend": true,
         "showscale": false,
         "subplot": "mapbox",
         "type": "choroplethmapbox",
         "z": [
          1
         ]
        },
        {
         "colorscale": [
          [
           0,
           "#B6E880"
          ],
          [
           1,
           "#B6E880"
          ]
         ],
         "geojson": "STATE",
         "hovertemplate": "Ages 6-21=1196<br>State Name=%{location}<extra></extra>",
         "locations": [
          "Puerto Rico"
         ],
         "marker": {
          "opacity": 0.5
         },
         "name": "1196",
         "showlegend": true,
         "showscale": false,
         "subplot": "mapbox",
         "type": "choroplethmapbox",
         "z": [
          1
         ]
        },
        {
         "colorscale": [
          [
           0,
           "#FF97FF"
          ],
          [
           1,
           "#FF97FF"
          ]
         ],
         "geojson": "STATE",
         "hovertemplate": "Ages 6-21=454<br>State Name=%{location}<extra></extra>",
         "locations": [
          "Puerto Rico"
         ],
         "marker": {
          "opacity": 0.5
         },
         "name": "454",
         "showlegend": true,
         "showscale": false,
         "subplot": "mapbox",
         "type": "choroplethmapbox",
         "z": [
          1
         ]
        },
        {
         "colorscale": [
          [
           0,
           "#FECB52"
          ],
          [
           1,
           "#FECB52"
          ]
         ],
         "geojson": "STATE",
         "hovertemplate": "Ages 6-21=4990<br>State Name=%{location}<extra></extra>",
         "locations": [
          "Puerto Rico"
         ],
         "marker": {
          "opacity": 0.5
         },
         "name": "4990",
         "showlegend": true,
         "showscale": false,
         "subplot": "mapbox",
         "type": "choroplethmapbox",
         "z": [
          1
         ]
        },
        {
         "colorscale": [
          [
           0,
           "#636efa"
          ],
          [
           1,
           "#636efa"
          ]
         ],
         "geojson": "STATE",
         "hovertemplate": "Ages 6-21=814<br>State Name=%{location}<extra></extra>",
         "locations": [
          "Puerto Rico"
         ],
         "marker": {
          "opacity": 0.5
         },
         "name": "814",
         "showlegend": true,
         "showscale": false,
         "subplot": "mapbox",
         "type": "choroplethmapbox",
         "z": [
          1
         ]
        },
        {
         "colorscale": [
          [
           0,
           "#EF553B"
          ],
          [
           1,
           "#EF553B"
          ]
         ],
         "geojson": "STATE",
         "hovertemplate": "Ages 6-21=218<br>State Name=%{location}<extra></extra>",
         "locations": [
          "Puerto Rico"
         ],
         "marker": {
          "opacity": 0.5
         },
         "name": "218",
         "showlegend": true,
         "showscale": false,
         "subplot": "mapbox",
         "type": "choroplethmapbox",
         "z": [
          1
         ]
        },
        {
         "colorscale": [
          [
           0,
           "#00cc96"
          ],
          [
           1,
           "#00cc96"
          ]
         ],
         "geojson": "STATE",
         "hovertemplate": "Ages 6-21=22847<br>State Name=%{location}<extra></extra>",
         "locations": [
          "Puerto Rico"
         ],
         "marker": {
          "opacity": 0.5
         },
         "name": "22847",
         "showlegend": true,
         "showscale": false,
         "subplot": "mapbox",
         "type": "choroplethmapbox",
         "z": [
          1
         ]
        },
        {
         "colorscale": [
          [
           0,
           "#ab63fa"
          ],
          [
           1,
           "#ab63fa"
          ]
         ],
         "geojson": "STATE",
         "hovertemplate": "Ages 6-21=40174<br>State Name=%{location}<extra></extra>",
         "locations": [
          "Puerto Rico"
         ],
         "marker": {
          "opacity": 0.5
         },
         "name": "40174",
         "showlegend": true,
         "showscale": false,
         "subplot": "mapbox",
         "type": "choroplethmapbox",
         "z": [
          1
         ]
        },
        {
         "colorscale": [
          [
           0,
           "#FFA15A"
          ],
          [
           1,
           "#FFA15A"
          ]
         ],
         "geojson": "STATE",
         "hovertemplate": "Ages 6-21=15282<br>State Name=%{location}<extra></extra>",
         "locations": [
          "Puerto Rico"
         ],
         "marker": {
          "opacity": 0.5
         },
         "name": "15282",
         "showlegend": true,
         "showscale": false,
         "subplot": "mapbox",
         "type": "choroplethmapbox",
         "z": [
          1
         ]
        },
        {
         "colorscale": [
          [
           0,
           "#19d3f3"
          ],
          [
           1,
           "#19d3f3"
          ]
         ],
         "geojson": "STATE",
         "hovertemplate": "Ages 6-21=336<br>State Name=%{location}<extra></extra>",
         "locations": [
          "Puerto Rico"
         ],
         "marker": {
          "opacity": 0.5
         },
         "name": "336",
         "showlegend": true,
         "showscale": false,
         "subplot": "mapbox",
         "type": "choroplethmapbox",
         "z": [
          1
         ]
        },
        {
         "colorscale": [
          [
           0,
           "#FF6692"
          ],
          [
           1,
           "#FF6692"
          ]
         ],
         "geojson": "STATE",
         "hovertemplate": "Ages 6-21=80<br>State Name=%{location}<extra></extra>",
         "locations": [
          "Republic of Palau"
         ],
         "marker": {
          "opacity": 0.5
         },
         "name": "80",
         "showlegend": true,
         "showscale": false,
         "subplot": "mapbox",
         "type": "choroplethmapbox",
         "z": [
          1
         ]
        },
        {
         "colorscale": [
          [
           0,
           "#B6E880"
          ],
          [
           1,
           "#B6E880"
          ]
         ],
         "geojson": "STATE",
         "hovertemplate": "Ages 6-21=594<br>State Name=%{location}<extra></extra>",
         "locations": [
          "Republic of the Marshall Islands"
         ],
         "marker": {
          "opacity": 0.5
         },
         "name": "594",
         "showlegend": true,
         "showscale": false,
         "subplot": "mapbox",
         "type": "choroplethmapbox",
         "z": [
          1
         ]
        },
        {
         "colorscale": [
          [
           0,
           "#FF97FF"
          ],
          [
           1,
           "#FF97FF"
          ]
         ],
         "geojson": "STATE",
         "hovertemplate": "Ages 6-21=53<br>State Name=%{location}<extra></extra>",
         "locations": [
          "Republic of the Marshall Islands"
         ],
         "marker": {
          "opacity": 0.5
         },
         "name": "53",
         "showlegend": true,
         "showscale": false,
         "subplot": "mapbox",
         "type": "choroplethmapbox",
         "z": [
          1
         ]
        },
        {
         "colorscale": [
          [
           0,
           "#FECB52"
          ],
          [
           1,
           "#FECB52"
          ]
         ],
         "geojson": "STATE",
         "hovertemplate": "Ages 6-21=439<br>State Name=%{location}<extra></extra>",
         "locations": [
          "Republic of the Marshall Islands"
         ],
         "marker": {
          "opacity": 0.5
         },
         "name": "439",
         "showlegend": true,
         "showscale": false,
         "subplot": "mapbox",
         "type": "choroplethmapbox",
         "z": [
          1
         ]
        },
        {
         "colorscale": [
          [
           0,
           "#636efa"
          ],
          [
           1,
           "#636efa"
          ]
         ],
         "geojson": "STATE",
         "hovertemplate": "Ages 6-21=20935<br>State Name=%{location}<extra></extra>",
         "locations": [
          "Rhode Island"
         ],
         "marker": {
          "opacity": 0.5
         },
         "name": "20935",
         "showlegend": true,
         "showscale": false,
         "subplot": "mapbox",
         "type": "choroplethmapbox",
         "z": [
          1
         ]
        },
        {
         "colorscale": [
          [
           0,
           "#EF553B"
          ],
          [
           1,
           "#EF553B"
          ]
         ],
         "geojson": "STATE",
         "hovertemplate": "Ages 6-21=2379<br>State Name=%{location}<extra></extra>",
         "locations": [
          "Rhode Island"
         ],
         "marker": {
          "opacity": 0.5
         },
         "name": "2379",
         "showlegend": true,
         "showscale": false,
         "subplot": "mapbox",
         "type": "choroplethmapbox",
         "z": [
          1
         ]
        },
        {
         "colorscale": [
          [
           0,
           "#00cc96"
          ],
          [
           1,
           "#00cc96"
          ]
         ],
         "geojson": "STATE",
         "hovertemplate": "Ages 6-21=1400<br>State Name=%{location}<extra></extra>",
         "locations": [
          "Rhode Island"
         ],
         "marker": {
          "opacity": 0.5
         },
         "name": "1400",
         "showlegend": true,
         "showscale": false,
         "subplot": "mapbox",
         "type": "choroplethmapbox",
         "z": [
          1
         ]
        },
        {
         "colorscale": [
          [
           0,
           "#ab63fa"
          ],
          [
           1,
           "#ab63fa"
          ]
         ],
         "geojson": "STATE",
         "hovertemplate": "Ages 6-21=1615<br>State Name=%{location}<extra></extra>",
         "locations": [
          "Rhode Island"
         ],
         "marker": {
          "opacity": 0.5
         },
         "name": "1615",
         "showlegend": true,
         "showscale": false,
         "subplot": "mapbox",
         "type": "choroplethmapbox",
         "z": [
          1
         ]
        },
        {
         "colorscale": [
          [
           0,
           "#FFA15A"
          ],
          [
           1,
           "#FFA15A"
          ]
         ],
         "geojson": "STATE",
         "hovertemplate": "Ages 6-21=135<br>State Name=%{location}<extra></extra>",
         "locations": [
          "Rhode Island"
         ],
         "marker": {
          "opacity": 0.5
         },
         "name": "135",
         "showlegend": true,
         "showscale": false,
         "subplot": "mapbox",
         "type": "choroplethmapbox",
         "z": [
          1
         ]
        },
        {
         "colorscale": [
          [
           0,
           "#19d3f3"
          ],
          [
           1,
           "#19d3f3"
          ]
         ],
         "geojson": "STATE",
         "hovertemplate": "Ages 6-21=872<br>State Name=%{location}<extra></extra>",
         "locations": [
          "Rhode Island"
         ],
         "marker": {
          "opacity": 0.5
         },
         "name": "872",
         "showlegend": true,
         "showscale": false,
         "subplot": "mapbox",
         "type": "choroplethmapbox",
         "z": [
          1
         ]
        },
        {
         "colorscale": [
          [
           0,
           "#FF6692"
          ],
          [
           1,
           "#FF6692"
          ]
         ],
         "geojson": "STATE",
         "hovertemplate": "Ages 6-21=375<br>State Name=%{location}<extra></extra>",
         "locations": [
          "Rhode Island"
         ],
         "marker": {
          "opacity": 0.5
         },
         "name": "375",
         "showlegend": true,
         "showscale": false,
         "subplot": "mapbox",
         "type": "choroplethmapbox",
         "z": [
          1
         ]
        },
        {
         "colorscale": [
          [
           0,
           "#B6E880"
          ],
          [
           1,
           "#B6E880"
          ]
         ],
         "geojson": "STATE",
         "hovertemplate": "Ages 6-21=3861<br>State Name=%{location}<extra></extra>",
         "locations": [
          "Rhode Island"
         ],
         "marker": {
          "opacity": 0.5
         },
         "name": "3861",
         "showlegend": true,
         "showscale": false,
         "subplot": "mapbox",
         "type": "choroplethmapbox",
         "z": [
          1
         ]
        },
        {
         "colorscale": [
          [
           0,
           "#FF97FF"
          ],
          [
           1,
           "#FF97FF"
          ]
         ],
         "geojson": "STATE",
         "hovertemplate": "Ages 6-21=7582<br>State Name=%{location}<extra></extra>",
         "locations": [
          "Rhode Island"
         ],
         "marker": {
          "opacity": 0.5
         },
         "name": "7582",
         "showlegend": true,
         "showscale": false,
         "subplot": "mapbox",
         "type": "choroplethmapbox",
         "z": [
          1
         ]
        },
        {
         "colorscale": [
          [
           0,
           "#FECB52"
          ],
          [
           1,
           "#FECB52"
          ]
         ],
         "geojson": "STATE",
         "hovertemplate": "Ages 6-21=2578<br>State Name=%{location}<extra></extra>",
         "locations": [
          "Rhode Island"
         ],
         "marker": {
          "opacity": 0.5
         },
         "name": "2578",
         "showlegend": true,
         "showscale": false,
         "subplot": "mapbox",
         "type": "choroplethmapbox",
         "z": [
          1
         ]
        },
        {
         "colorscale": [
          [
           0,
           "#636efa"
          ],
          [
           1,
           "#636efa"
          ]
         ],
         "geojson": "STATE",
         "hovertemplate": "Ages 6-21=45<br>State Name=%{location}<extra></extra>",
         "locations": [
          "Rhode Island"
         ],
         "marker": {
          "opacity": 0.5
         },
         "name": "45",
         "showlegend": true,
         "showscale": false,
         "subplot": "mapbox",
         "type": "choroplethmapbox",
         "z": [
          1
         ]
        },
        {
         "colorscale": [
          [
           0,
           "#EF553B"
          ],
          [
           1,
           "#EF553B"
          ]
         ],
         "geojson": "STATE",
         "hovertemplate": "Ages 6-21=96729<br>State Name=%{location}<extra></extra>",
         "locations": [
          "South Carolina"
         ],
         "marker": {
          "opacity": 0.5
         },
         "name": "96729",
         "showlegend": true,
         "showscale": false,
         "subplot": "mapbox",
         "type": "choroplethmapbox",
         "z": [
          1
         ]
        },
        {
         "colorscale": [
          [
           0,
           "#00cc96"
          ],
          [
           1,
           "#00cc96"
          ]
         ],
         "geojson": "STATE",
         "hovertemplate": "Ages 6-21=8335<br>State Name=%{location}<extra></extra>",
         "locations": [
          "South Carolina"
         ],
         "marker": {
          "opacity": 0.5
         },
         "name": "8335",
         "showlegend": true,
         "showscale": false,
         "subplot": "mapbox",
         "type": "choroplethmapbox",
         "z": [
          1
         ]
        },
        {
         "colorscale": [
          [
           0,
           "#ab63fa"
          ],
          [
           1,
           "#ab63fa"
          ]
         ],
         "geojson": "STATE",
         "hovertemplate": "Ages 6-21=2112<br>State Name=%{location}<extra></extra>",
         "locations": [
          "South Carolina"
         ],
         "marker": {
          "opacity": 0.5
         },
         "name": "2112",
         "showlegend": true,
         "showscale": false,
         "subplot": "mapbox",
         "type": "choroplethmapbox",
         "z": [
          1
         ]
        },
        {
         "colorscale": [
          [
           0,
           "#FFA15A"
          ],
          [
           1,
           "#FFA15A"
          ]
         ],
         "geojson": "STATE",
         "hovertemplate": "Ages 6-21=899<br>State Name=%{location}<extra></extra>",
         "locations": [
          "South Carolina"
         ],
         "marker": {
          "opacity": 0.5
         },
         "name": "899",
         "showlegend": true,
         "showscale": false,
         "subplot": "mapbox",
         "type": "choroplethmapbox",
         "z": [
          1
         ]
        },
        {
         "colorscale": [
          [
           0,
           "#19d3f3"
          ],
          [
           1,
           "#19d3f3"
          ]
         ],
         "geojson": "STATE",
         "hovertemplate": "Ages 6-21=6199<br>State Name=%{location}<extra></extra>",
         "locations": [
          "South Carolina"
         ],
         "marker": {
          "opacity": 0.5
         },
         "name": "6199",
         "showlegend": true,
         "showscale": false,
         "subplot": "mapbox",
         "type": "choroplethmapbox",
         "z": [
          1
         ]
        },
        {
         "colorscale": [
          [
           0,
           "#FF6692"
          ],
          [
           1,
           "#FF6692"
          ]
         ],
         "geojson": "STATE",
         "hovertemplate": "Ages 6-21=1363<br>State Name=%{location}<extra></extra>",
         "locations": [
          "South Carolina"
         ],
         "marker": {
          "opacity": 0.5
         },
         "name": "1363",
         "showlegend": true,
         "showscale": false,
         "subplot": "mapbox",
         "type": "choroplethmapbox",
         "z": [
          1
         ]
        },
        {
         "colorscale": [
          [
           0,
           "#B6E880"
          ],
          [
           1,
           "#B6E880"
          ]
         ],
         "geojson": "STATE",
         "hovertemplate": "Ages 6-21=15297<br>State Name=%{location}<extra></extra>",
         "locations": [
          "South Carolina"
         ],
         "marker": {
          "opacity": 0.5
         },
         "name": "15297",
         "showlegend": true,
         "showscale": false,
         "subplot": "mapbox",
         "type": "choroplethmapbox",
         "z": [
          1
         ]
        },
        {
         "colorscale": [
          [
           0,
           "#FF97FF"
          ],
          [
           1,
           "#FF97FF"
          ]
         ],
         "geojson": "STATE",
         "hovertemplate": "Ages 6-21=41983<br>State Name=%{location}<extra></extra>",
         "locations": [
          "South Carolina"
         ],
         "marker": {
          "opacity": 0.5
         },
         "name": "41983",
         "showlegend": true,
         "showscale": false,
         "subplot": "mapbox",
         "type": "choroplethmapbox",
         "z": [
          1
         ]
        },
        {
         "colorscale": [
          [
           0,
           "#FECB52"
          ],
          [
           1,
           "#FECB52"
          ]
         ],
         "geojson": "STATE",
         "hovertemplate": "Ages 6-21=14585<br>State Name=%{location}<extra></extra>",
         "locations": [
          "South Carolina"
         ],
         "marker": {
          "opacity": 0.5
         },
         "name": "14585",
         "showlegend": true,
         "showscale": false,
         "subplot": "mapbox",
         "type": "choroplethmapbox",
         "z": [
          1
         ]
        },
        {
         "colorscale": [
          [
           0,
           "#636efa"
          ],
          [
           1,
           "#636efa"
          ]
         ],
         "geojson": "STATE",
         "hovertemplate": "Ages 6-21=380<br>State Name=%{location}<extra></extra>",
         "locations": [
          "South Carolina"
         ],
         "marker": {
          "opacity": 0.5
         },
         "name": "380",
         "showlegend": true,
         "showscale": false,
         "subplot": "mapbox",
         "type": "choroplethmapbox",
         "z": [
          1
         ]
        },
        {
         "colorscale": [
          [
           0,
           "#EF553B"
          ],
          [
           1,
           "#EF553B"
          ]
         ],
         "geojson": "STATE",
         "hovertemplate": "Ages 6-21=18789<br>State Name=%{location}<extra></extra>",
         "locations": [
          "South Dakota"
         ],
         "marker": {
          "opacity": 0.5
         },
         "name": "18789",
         "showlegend": true,
         "showscale": false,
         "subplot": "mapbox",
         "type": "choroplethmapbox",
         "z": [
          1
         ]
        },
        {
         "colorscale": [
          [
           0,
           "#00cc96"
          ],
          [
           1,
           "#00cc96"
          ]
         ],
         "geojson": "STATE",
         "hovertemplate": "Ages 6-21=1392<br>State Name=%{location}<extra></extra>",
         "locations": [
          "South Dakota"
         ],
         "marker": {
          "opacity": 0.5
         },
         "name": "1392",
         "showlegend": true,
         "showscale": false,
         "subplot": "mapbox",
         "type": "choroplethmapbox",
         "z": [
          1
         ]
        },
        {
         "colorscale": [
          [
           0,
           "#ab63fa"
          ],
          [
           1,
           "#ab63fa"
          ]
         ],
         "geojson": "STATE",
         "hovertemplate": "Ages 6-21=1213<br>State Name=%{location}<extra></extra>",
         "locations": [
          "South Dakota"
         ],
         "marker": {
          "opacity": 0.5
         },
         "name": "1213",
         "showlegend": true,
         "showscale": false,
         "subplot": "mapbox",
         "type": "choroplethmapbox",
         "z": [
          1
         ]
        },
        {
         "colorscale": [
          [
           0,
           "#FFA15A"
          ],
          [
           1,
           "#FFA15A"
          ]
         ],
         "geojson": "STATE",
         "hovertemplate": "Ages 6-21=131<br>State Name=%{location}<extra></extra>",
         "locations": [
          "South Dakota"
         ],
         "marker": {
          "opacity": 0.5
         },
         "name": "131",
         "showlegend": true,
         "showscale": false,
         "subplot": "mapbox",
         "type": "choroplethmapbox",
         "z": [
          1
         ]
        },
        {
         "colorscale": [
          [
           0,
           "#19d3f3"
          ],
          [
           1,
           "#19d3f3"
          ]
         ],
         "geojson": "STATE",
         "hovertemplate": "Ages 6-21=1827<br>State Name=%{location}<extra></extra>",
         "locations": [
          "South Dakota"
         ],
         "marker": {
          "opacity": 0.5
         },
         "name": "1827",
         "showlegend": true,
         "showscale": false,
         "subplot": "mapbox",
         "type": "choroplethmapbox",
         "z": [
          1
         ]
        },
        {
         "colorscale": [
          [
           0,
           "#FF6692"
          ],
          [
           1,
           "#FF6692"
          ]
         ],
         "geojson": "STATE",
         "hovertemplate": "Ages 6-21=531<br>State Name=%{location}<extra></extra>",
         "locations": [
          "South Dakota"
         ],
         "marker": {
          "opacity": 0.5
         },
         "name": "531",
         "showlegend": true,
         "showscale": false,
         "subplot": "mapbox",
         "type": "choroplethmapbox",
         "z": [
          1
         ]
        },
        {
         "colorscale": [
          [
           0,
           "#B6E880"
          ],
          [
           1,
           "#B6E880"
          ]
         ],
         "geojson": "STATE",
         "hovertemplate": "Ages 6-21=64<br>State Name=%{location}<extra></extra>",
         "locations": [
          "South Dakota"
         ],
         "marker": {
          "opacity": 0.5
         },
         "name": "64",
         "showlegend": true,
         "showscale": false,
         "subplot": "mapbox",
         "type": "choroplethmapbox",
         "z": [
          1
         ]
        },
        {
         "colorscale": [
          [
           0,
           "#FF97FF"
          ],
          [
           1,
           "#FF97FF"
          ]
         ],
         "geojson": "STATE",
         "hovertemplate": "Ages 6-21=2919<br>State Name=%{location}<extra></extra>",
         "locations": [
          "South Dakota"
         ],
         "marker": {
          "opacity": 0.5
         },
         "name": "2919",
         "showlegend": true,
         "showscale": false,
         "subplot": "mapbox",
         "type": "choroplethmapbox",
         "z": [
          1
         ]
        },
        {
         "colorscale": [
          [
           0,
           "#FECB52"
          ],
          [
           1,
           "#FECB52"
          ]
         ],
         "geojson": "STATE",
         "hovertemplate": "Ages 6-21=7081<br>State Name=%{location}<extra></extra>",
         "locations": [
          "South Dakota"
         ],
         "marker": {
          "opacity": 0.5
         },
         "name": "7081",
         "showlegend": true,
         "showscale": false,
         "subplot": "mapbox",
         "type": "choroplethmapbox",
         "z": [
          1
         ]
        },
        {
         "colorscale": [
          [
           0,
           "#636efa"
          ],
          [
           1,
           "#636efa"
          ]
         ],
         "geojson": "STATE",
         "hovertemplate": "Ages 6-21=3533<br>State Name=%{location}<extra></extra>",
         "locations": [
          "South Dakota"
         ],
         "marker": {
          "opacity": 0.5
         },
         "name": "3533",
         "showlegend": true,
         "showscale": false,
         "subplot": "mapbox",
         "type": "choroplethmapbox",
         "z": [
          1
         ]
        },
        {
         "colorscale": [
          [
           0,
           "#EF553B"
          ],
          [
           1,
           "#EF553B"
          ]
         ],
         "geojson": "STATE",
         "hovertemplate": "Ages 6-21=46<br>State Name=%{location}<extra></extra>",
         "locations": [
          "South Dakota"
         ],
         "marker": {
          "opacity": 0.5
         },
         "name": "46",
         "showlegend": true,
         "showscale": false,
         "subplot": "mapbox",
         "type": "choroplethmapbox",
         "z": [
          1
         ]
        },
        {
         "colorscale": [
          [
           0,
           "#00cc96"
          ],
          [
           1,
           "#00cc96"
          ]
         ],
         "geojson": "STATE",
         "hovertemplate": "Ages 6-21=115637<br>State Name=%{location}<extra></extra>",
         "locations": [
          "Tennessee"
         ],
         "marker": {
          "opacity": 0.5
         },
         "name": "115637",
         "showlegend": true,
         "showscale": false,
         "subplot": "mapbox",
         "type": "choroplethmapbox",
         "z": [
          1
         ]
        },
        {
         "colorscale": [
          [
           0,
           "#ab63fa"
          ],
          [
           1,
           "#ab63fa"
          ]
         ],
         "geojson": "STATE",
         "hovertemplate": "Ages 6-21=10988<br>State Name=%{location}<extra></extra>",
         "locations": [
          "Tennessee"
         ],
         "marker": {
          "opacity": 0.5
         },
         "name": "10988",
         "showlegend": true,
         "showscale": false,
         "subplot": "mapbox",
         "type": "choroplethmapbox",
         "z": [
          1
         ]
        },
        {
         "colorscale": [
          [
           0,
           "#FFA15A"
          ],
          [
           1,
           "#FFA15A"
          ]
         ],
         "geojson": "STATE",
         "hovertemplate": "Ages 6-21=6810<br>State Name=%{location}<extra></extra>",
         "locations": [
          "Tennessee"
         ],
         "marker": {
          "opacity": 0.5
         },
         "name": "6810",
         "showlegend": true,
         "showscale": false,
         "subplot": "mapbox",
         "type": "choroplethmapbox",
         "z": [
          1
         ]
        },
        {
         "colorscale": [
          [
           0,
           "#19d3f3"
          ],
          [
           1,
           "#19d3f3"
          ]
         ],
         "geojson": "STATE",
         "hovertemplate": "Ages 6-21=3381<br>State Name=%{location}<extra></extra>",
         "locations": [
          "Tennessee"
         ],
         "marker": {
          "opacity": 0.5
         },
         "name": "3381",
         "showlegend": true,
         "showscale": false,
         "subplot": "mapbox",
         "type": "choroplethmapbox",
         "z": [
          1
         ]
        },
        {
         "colorscale": [
          [
           0,
           "#FF6692"
          ],
          [
           1,
           "#FF6692"
          ]
         ],
         "geojson": "STATE",
         "hovertemplate": "Ages 6-21=1079<br>State Name=%{location}<extra></extra>",
         "locations": [
          "Tennessee"
         ],
         "marker": {
          "opacity": 0.5
         },
         "name": "1079",
         "showlegend": true,
         "showscale": false,
         "subplot": "mapbox",
         "type": "choroplethmapbox",
         "z": [
          1
         ]
        },
        {
         "colorscale": [
          [
           0,
           "#B6E880"
          ],
          [
           1,
           "#B6E880"
          ]
         ],
         "geojson": "STATE",
         "hovertemplate": "Ages 6-21=8656<br>State Name=%{location}<extra></extra>",
         "locations": [
          "Tennessee"
         ],
         "marker": {
          "opacity": 0.5
         },
         "name": "8656",
         "showlegend": true,
         "showscale": false,
         "subplot": "mapbox",
         "type": "choroplethmapbox",
         "z": [
          1
         ]
        },
        {
         "colorscale": [
          [
           0,
           "#FF97FF"
          ],
          [
           1,
           "#FF97FF"
          ]
         ],
         "geojson": "STATE",
         "hovertemplate": "Ages 6-21=1967<br>State Name=%{location}<extra></extra>",
         "locations": [
          "Tennessee"
         ],
         "marker": {
          "opacity": 0.5
         },
         "name": "1967",
         "showlegend": true,
         "showscale": false,
         "subplot": "mapbox",
         "type": "choroplethmapbox",
         "z": [
          1
         ]
        },
        {
         "colorscale": [
          [
           0,
           "#FECB52"
          ],
          [
           1,
           "#FECB52"
          ]
         ],
         "geojson": "STATE",
         "hovertemplate": "Ages 6-21=480<br>State Name=%{location}<extra></extra>",
         "locations": [
          "Tennessee"
         ],
         "marker": {
          "opacity": 0.5
         },
         "name": "480",
         "showlegend": true,
         "showscale": false,
         "subplot": "mapbox",
         "type": "choroplethmapbox",
         "z": [
          1
         ]
        },
        {
         "colorscale": [
          [
           0,
           "#636efa"
          ],
          [
           1,
           "#636efa"
          ]
         ],
         "geojson": "STATE",
         "hovertemplate": "Ages 6-21=18734<br>State Name=%{location}<extra></extra>",
         "locations": [
          "Tennessee"
         ],
         "marker": {
          "opacity": 0.5
         },
         "name": "18734",
         "showlegend": true,
         "showscale": false,
         "subplot": "mapbox",
         "type": "choroplethmapbox",
         "z": [
          1
         ]
        },
        {
         "colorscale": [
          [
           0,
           "#EF553B"
          ],
          [
           1,
           "#EF553B"
          ]
         ],
         "geojson": "STATE",
         "hovertemplate": "Ages 6-21=37630<br>State Name=%{location}<extra></extra>",
         "locations": [
          "Tennessee"
         ],
         "marker": {
          "opacity": 0.5
         },
         "name": "37630",
         "showlegend": true,
         "showscale": false,
         "subplot": "mapbox",
         "type": "choroplethmapbox",
         "z": [
          1
         ]
        },
        {
         "colorscale": [
          [
           0,
           "#00cc96"
          ],
          [
           1,
           "#00cc96"
          ]
         ],
         "geojson": "STATE",
         "hovertemplate": "Ages 6-21=25047<br>State Name=%{location}<extra></extra>",
         "locations": [
          "Tennessee"
         ],
         "marker": {
          "opacity": 0.5
         },
         "name": "25047",
         "showlegend": true,
         "showscale": false,
         "subplot": "mapbox",
         "type": "choroplethmapbox",
         "z": [
          1
         ]
        },
        {
         "colorscale": [
          [
           0,
           "#ab63fa"
          ],
          [
           1,
           "#ab63fa"
          ]
         ],
         "geojson": "STATE",
         "hovertemplate": "Ages 6-21=319<br>State Name=%{location}<extra></extra>",
         "locations": [
          "Tennessee"
         ],
         "marker": {
          "opacity": 0.5
         },
         "name": "319",
         "showlegend": true,
         "showscale": false,
         "subplot": "mapbox",
         "type": "choroplethmapbox",
         "z": [
          1
         ]
        },
        {
         "colorscale": [
          [
           0,
           "#FFA15A"
          ],
          [
           1,
           "#FFA15A"
          ]
         ],
         "geojson": "STATE",
         "hovertemplate": "Ages 6-21=478435<br>State Name=%{location}<extra></extra>",
         "locations": [
          "Texas"
         ],
         "marker": {
          "opacity": 0.5
         },
         "name": "478435",
         "showlegend": true,
         "showscale": false,
         "subplot": "mapbox",
         "type": "choroplethmapbox",
         "z": [
          1
         ]
        },
        {
         "colorscale": [
          [
           0,
           "#19d3f3"
          ],
          [
           1,
           "#19d3f3"
          ]
         ],
         "geojson": "STATE",
         "hovertemplate": "Ages 6-21=62319<br>State Name=%{location}<extra></extra>",
         "locations": [
          "Texas"
         ],
         "marker": {
          "opacity": 0.5
         },
         "name": "62319",
         "showlegend": true,
         "showscale": false,
         "subplot": "mapbox",
         "type": "choroplethmapbox",
         "z": [
          1
         ]
        },
        {
         "colorscale": [
          [
           0,
           "#FF6692"
          ],
          [
           1,
           "#FF6692"
          ]
         ],
         "geojson": "STATE",
         "hovertemplate": "Ages 6-21=157<br>State Name=%{location}<extra></extra>",
         "locations": [
          "Texas"
         ],
         "marker": {
          "opacity": 0.5
         },
         "name": "157",
         "showlegend": true,
         "showscale": false,
         "subplot": "mapbox",
         "type": "choroplethmapbox",
         "z": [
          1
         ]
        },
        {
         "colorscale": [
          [
           0,
           "#B6E880"
          ],
          [
           1,
           "#B6E880"
          ]
         ],
         "geojson": "STATE",
         "hovertemplate": "Ages 6-21=31519<br>State Name=%{location}<extra></extra>",
         "locations": [
          "Texas"
         ],
         "marker": {
          "opacity": 0.5
         },
         "name": "31519",
         "showlegend": true,
         "showscale": false,
         "subplot": "mapbox",
         "type": "choroplethmapbox",
         "z": [
          1
         ]
        },
        {
         "colorscale": [
          [
           0,
           "#FF97FF"
          ],
          [
           1,
           "#FF97FF"
          ]
         ],
         "geojson": "STATE",
         "hovertemplate": "Ages 6-21=6058<br>State Name=%{location}<extra></extra>",
         "locations": [
          "Texas"
         ],
         "marker": {
          "opacity": 0.5
         },
         "name": "6058",
         "showlegend": true,
         "showscale": false,
         "subplot": "mapbox",
         "type": "choroplethmapbox",
         "z": [
          1
         ]
        },
        {
         "colorscale": [
          [
           0,
           "#FECB52"
          ],
          [
           1,
           "#FECB52"
          ]
         ],
         "geojson": "STATE",
         "hovertemplate": "Ages 6-21=53158<br>State Name=%{location}<extra></extra>",
         "locations": [
          "Texas"
         ],
         "marker": {
          "opacity": 0.5
         },
         "name": "53158",
         "showlegend": true,
         "showscale": false,
         "subplot": "mapbox",
         "type": "choroplethmapbox",
         "z": [
          1
         ]
        },
        {
         "colorscale": [
          [
           0,
           "#636efa"
          ],
          [
           1,
           "#636efa"
          ]
         ],
         "geojson": "STATE",
         "hovertemplate": "Ages 6-21=7643<br>State Name=%{location}<extra></extra>",
         "locations": [
          "Texas"
         ],
         "marker": {
          "opacity": 0.5
         },
         "name": "7643",
         "showlegend": true,
         "showscale": false,
         "subplot": "mapbox",
         "type": "choroplethmapbox",
         "z": [
          1
         ]
        },
        {
         "colorscale": [
          [
           0,
           "#EF553B"
          ],
          [
           1,
           "#EF553B"
          ]
         ],
         "geojson": "STATE",
         "hovertemplate": "Ages 6-21=2779<br>State Name=%{location}<extra></extra>",
         "locations": [
          "Texas"
         ],
         "marker": {
          "opacity": 0.5
         },
         "name": "2779",
         "showlegend": true,
         "showscale": false,
         "subplot": "mapbox",
         "type": "choroplethmapbox",
         "z": [
          1
         ]
        },
        {
         "colorscale": [
          [
           0,
           "#00cc96"
          ],
          [
           1,
           "#00cc96"
          ]
         ],
         "geojson": "STATE",
         "hovertemplate": "Ages 6-21=71344<br>State Name=%{location}<extra></extra>",
         "locations": [
          "Texas"
         ],
         "marker": {
          "opacity": 0.5
         },
         "name": "71344",
         "showlegend": true,
         "showscale": false,
         "subplot": "mapbox",
         "type": "choroplethmapbox",
         "z": [
          1
         ]
        },
        {
         "colorscale": [
          [
           0,
           "#ab63fa"
          ],
          [
           1,
           "#ab63fa"
          ]
         ],
         "geojson": "STATE",
         "hovertemplate": "Ages 6-21=163330<br>State Name=%{location}<extra></extra>",
         "locations": [
          "Texas"
         ],
         "marker": {
          "opacity": 0.5
         },
         "name": "163330",
         "showlegend": true,
         "showscale": false,
         "subplot": "mapbox",
         "type": "choroplethmapbox",
         "z": [
          1
         ]
        },
        {
         "colorscale": [
          [
           0,
           "#FFA15A"
          ],
          [
           1,
           "#FFA15A"
          ]
         ],
         "geojson": "STATE",
         "hovertemplate": "Ages 6-21=76061<br>State Name=%{location}<extra></extra>",
         "locations": [
          "Texas"
         ],
         "marker": {
          "opacity": 0.5
         },
         "name": "76061",
         "showlegend": true,
         "showscale": false,
         "subplot": "mapbox",
         "type": "choroplethmapbox",
         "z": [
          1
         ]
        },
        {
         "colorscale": [
          [
           0,
           "#19d3f3"
          ],
          [
           1,
           "#19d3f3"
          ]
         ],
         "geojson": "STATE",
         "hovertemplate": "Ages 6-21=1091<br>State Name=%{location}<extra></extra>",
         "locations": [
          "Texas"
         ],
         "marker": {
          "opacity": 0.5
         },
         "name": "1091",
         "showlegend": true,
         "showscale": false,
         "subplot": "mapbox",
         "type": "choroplethmapbox",
         "z": [
          1
         ]
        },
        {
         "colorscale": [
          [
           0,
           "#FF6692"
          ],
          [
           1,
           "#FF6692"
          ]
         ],
         "geojson": "STATE",
         "hovertemplate": "Ages 6-21=2976<br>State Name=%{location}<extra></extra>",
         "locations": [
          "Texas"
         ],
         "marker": {
          "opacity": 0.5
         },
         "name": "2976",
         "showlegend": true,
         "showscale": false,
         "subplot": "mapbox",
         "type": "choroplethmapbox",
         "z": [
          1
         ]
        },
        {
         "colorscale": [
          [
           0,
           "#B6E880"
          ],
          [
           1,
           "#B6E880"
          ]
         ],
         "geojson": "STATE",
         "hovertemplate": "Ages 6-21=75791<br>State Name=%{location}<extra></extra>",
         "locations": [
          "Utah"
         ],
         "marker": {
          "opacity": 0.5
         },
         "name": "75791",
         "showlegend": true,
         "showscale": false,
         "subplot": "mapbox",
         "type": "choroplethmapbox",
         "z": [
          1
         ]
        },
        {
         "colorscale": [
          [
           0,
           "#FF97FF"
          ],
          [
           1,
           "#FF97FF"
          ]
         ],
         "geojson": "STATE",
         "hovertemplate": "Ages 6-21=6445<br>State Name=%{location}<extra></extra>",
         "locations": [
          "Utah"
         ],
         "marker": {
          "opacity": 0.5
         },
         "name": "6445",
         "showlegend": true,
         "showscale": false,
         "subplot": "mapbox",
         "type": "choroplethmapbox",
         "z": [
          1
         ]
        },
        {
         "colorscale": [
          [
           0,
           "#FECB52"
          ],
          [
           1,
           "#FECB52"
          ]
         ],
         "geojson": "STATE",
         "hovertemplate": "Ages 6-21=25<br>State Name=%{location}<extra></extra>",
         "locations": [
          "Utah"
         ],
         "marker": {
          "opacity": 0.5
         },
         "name": "25",
         "showlegend": true,
         "showscale": false,
         "subplot": "mapbox",
         "type": "choroplethmapbox",
         "z": [
          1
         ]
        },
        {
         "colorscale": [
          [
           0,
           "#636efa"
          ],
          [
           1,
           "#636efa"
          ]
         ],
         "geojson": "STATE",
         "hovertemplate": "Ages 6-21=2156<br>State Name=%{location}<extra></extra>",
         "locations": [
          "Utah"
         ],
         "marker": {
          "opacity": 0.5
         },
         "name": "2156",
         "showlegend": true,
         "showscale": false,
         "subplot": "mapbox",
         "type": "choroplethmapbox",
         "z": [
          1
         ]
        },
        {
         "colorscale": [
          [
           0,
           "#EF553B"
          ],
          [
           1,
           "#EF553B"
          ]
         ],
         "geojson": "STATE",
         "hovertemplate": "Ages 6-21=1918<br>State Name=%{location}<extra></extra>",
         "locations": [
          "Utah"
         ],
         "marker": {
          "opacity": 0.5
         },
         "name": "1918",
         "showlegend": true,
         "showscale": false,
         "subplot": "mapbox",
         "type": "choroplethmapbox",
         "z": [
          1
         ]
        },
        {
         "colorscale": [
          [
           0,
           "#00cc96"
          ],
          [
           1,
           "#00cc96"
          ]
         ],
         "geojson": "STATE",
         "hovertemplate": "Ages 6-21=3285<br>State Name=%{location}<extra></extra>",
         "locations": [
          "Utah"
         ],
         "marker": {
          "opacity": 0.5
         },
         "name": "3285",
         "showlegend": true,
         "showscale": false,
         "subplot": "mapbox",
         "type": "choroplethmapbox",
         "z": [
          1
         ]
        },
        {
         "colorscale": [
          [
           0,
           "#ab63fa"
          ],
          [
           1,
           "#ab63fa"
          ]
         ],
         "geojson": "STATE",
         "hovertemplate": "Ages 6-21=1448<br>State Name=%{location}<extra></extra>",
         "locations": [
          "Utah"
         ],
         "marker": {
          "opacity": 0.5
         },
         "name": "1448",
         "showlegend": true,
         "showscale": false,
         "subplot": "mapbox",
         "type": "choroplethmapbox",
         "z": [
          1
         ]
        },
        {
         "colorscale": [
          [
           0,
           "#FFA15A"
          ],
          [
           1,
           "#FFA15A"
          ]
         ],
         "geojson": "STATE",
         "hovertemplate": "Ages 6-21=167<br>State Name=%{location}<extra></extra>",
         "locations": [
          "Utah"
         ],
         "marker": {
          "opacity": 0.5
         },
         "name": "167",
         "showlegend": true,
         "showscale": false,
         "subplot": "mapbox",
         "type": "choroplethmapbox",
         "z": [
          1
         ]
        },
        {
         "colorscale": [
          [
           0,
           "#19d3f3"
          ],
          [
           1,
           "#19d3f3"
          ]
         ],
         "geojson": "STATE",
         "hovertemplate": "Ages 6-21=8195<br>State Name=%{location}<extra></extra>",
         "locations": [
          "Utah"
         ],
         "marker": {
          "opacity": 0.5
         },
         "name": "8195",
         "showlegend": true,
         "showscale": false,
         "subplot": "mapbox",
         "type": "choroplethmapbox",
         "z": [
          1
         ]
        },
        {
         "colorscale": [
          [
           0,
           "#FF6692"
          ],
          [
           1,
           "#FF6692"
          ]
         ],
         "geojson": "STATE",
         "hovertemplate": "Ages 6-21=35105<br>State Name=%{location}<extra></extra>",
         "locations": [
          "Utah"
         ],
         "marker": {
          "opacity": 0.5
         },
         "name": "35105",
         "showlegend": true,
         "showscale": false,
         "subplot": "mapbox",
         "type": "choroplethmapbox",
         "z": [
          1
         ]
        },
        {
         "colorscale": [
          [
           0,
           "#B6E880"
          ],
          [
           1,
           "#B6E880"
          ]
         ],
         "geojson": "STATE",
         "hovertemplate": "Ages 6-21=16147<br>State Name=%{location}<extra></extra>",
         "locations": [
          "Utah"
         ],
         "marker": {
          "opacity": 0.5
         },
         "name": "16147",
         "showlegend": true,
         "showscale": false,
         "subplot": "mapbox",
         "type": "choroplethmapbox",
         "z": [
          1
         ]
        },
        {
         "colorscale": [
          [
           0,
           "#FF97FF"
          ],
          [
           1,
           "#FF97FF"
          ]
         ],
         "geojson": "STATE",
         "hovertemplate": "Ages 6-21=248<br>State Name=%{location}<extra></extra>",
         "locations": [
          "Utah"
         ],
         "marker": {
          "opacity": 0.5
         },
         "name": "248",
         "showlegend": true,
         "showscale": false,
         "subplot": "mapbox",
         "type": "choroplethmapbox",
         "z": [
          1
         ]
        },
        {
         "colorscale": [
          [
           0,
           "#FECB52"
          ],
          [
           1,
           "#FECB52"
          ]
         ],
         "geojson": "STATE",
         "hovertemplate": "Ages 6-21=217<br>State Name=%{location}<extra></extra>",
         "locations": [
          "Utah"
         ],
         "marker": {
          "opacity": 0.5
         },
         "name": "217",
         "showlegend": true,
         "showscale": false,
         "subplot": "mapbox",
         "type": "choroplethmapbox",
         "z": [
          1
         ]
        },
        {
         "colorscale": [
          [
           0,
           "#636efa"
          ],
          [
           1,
           "#636efa"
          ]
         ],
         "geojson": "STATE",
         "hovertemplate": "Ages 6-21=12861<br>State Name=%{location}<extra></extra>",
         "locations": [
          "Vermont"
         ],
         "marker": {
          "opacity": 0.5
         },
         "name": "12861",
         "showlegend": true,
         "showscale": false,
         "subplot": "mapbox",
         "type": "choroplethmapbox",
         "z": [
          1
         ]
        },
        {
         "colorscale": [
          [
           0,
           "#EF553B"
          ],
          [
           1,
           "#EF553B"
          ]
         ],
         "geojson": "STATE",
         "hovertemplate": "Ages 6-21=1057<br>State Name=%{location}<extra></extra>",
         "locations": [
          "Vermont"
         ],
         "marker": {
          "opacity": 0.5
         },
         "name": "1057",
         "showlegend": true,
         "showscale": false,
         "subplot": "mapbox",
         "type": "choroplethmapbox",
         "z": [
          1
         ]
        },
        {
         "colorscale": [
          [
           0,
           "#00cc96"
          ],
          [
           1,
           "#00cc96"
          ]
         ],
         "geojson": "STATE",
         "hovertemplate": "Ages 6-21=2233<br>State Name=%{location}<extra></extra>",
         "locations": [
          "Vermont"
         ],
         "marker": {
          "opacity": 0.5
         },
         "name": "2233",
         "showlegend": true,
         "showscale": false,
         "subplot": "mapbox",
         "type": "choroplethmapbox",
         "z": [
          1
         ]
        },
        {
         "colorscale": [
          [
           0,
           "#ab63fa"
          ],
          [
           1,
           "#ab63fa"
          ]
         ],
         "geojson": "STATE",
         "hovertemplate": "Ages 6-21=627<br>State Name=%{location}<extra></extra>",
         "locations": [
          "Vermont"
         ],
         "marker": {
          "opacity": 0.5
         },
         "name": "627",
         "showlegend": true,
         "showscale": false,
         "subplot": "mapbox",
         "type": "choroplethmapbox",
         "z": [
          1
         ]
        },
        {
         "colorscale": [
          [
           0,
           "#FFA15A"
          ],
          [
           1,
           "#FFA15A"
          ]
         ],
         "geojson": "STATE",
         "hovertemplate": "Ages 6-21=2543<br>State Name=%{location}<extra></extra>",
         "locations": [
          "Vermont"
         ],
         "marker": {
          "opacity": 0.5
         },
         "name": "2543",
         "showlegend": true,
         "showscale": false,
         "subplot": "mapbox",
         "type": "choroplethmapbox",
         "z": [
          1
         ]
        },
        {
         "colorscale": [
          [
           0,
           "#19d3f3"
          ],
          [
           1,
           "#19d3f3"
          ]
         ],
         "geojson": "STATE",
         "hovertemplate": "Ages 6-21=4007<br>State Name=%{location}<extra></extra>",
         "locations": [
          "Vermont"
         ],
         "marker": {
          "opacity": 0.5
         },
         "name": "4007",
         "showlegend": true,
         "showscale": false,
         "subplot": "mapbox",
         "type": "choroplethmapbox",
         "z": [
          1
         ]
        },
        {
         "colorscale": [
          [
           0,
           "#FF6692"
          ],
          [
           1,
           "#FF6692"
          ]
         ],
         "geojson": "STATE",
         "hovertemplate": "Ages 6-21=1012<br>State Name=%{location}<extra></extra>",
         "locations": [
          "Vermont"
         ],
         "marker": {
          "opacity": 0.5
         },
         "name": "1012",
         "showlegend": true,
         "showscale": false,
         "subplot": "mapbox",
         "type": "choroplethmapbox",
         "z": [
          1
         ]
        },
        {
         "colorscale": [
          [
           0,
           "#B6E880"
          ],
          [
           1,
           "#B6E880"
          ]
         ],
         "geojson": "STATE",
         "hovertemplate": "Ages 6-21=974<br>State Name=%{location}<extra></extra>",
         "locations": [
          "Virgin Islands"
         ],
         "marker": {
          "opacity": 0.5
         },
         "name": "974",
         "showlegend": true,
         "showscale": false,
         "subplot": "mapbox",
         "type": "choroplethmapbox",
         "z": [
          1
         ]
        },
        {
         "colorscale": [
          [
           0,
           "#FF97FF"
          ],
          [
           1,
           "#FF97FF"
          ]
         ],
         "geojson": "STATE",
         "hovertemplate": "Ages 6-21=85<br>State Name=%{location}<extra></extra>",
         "locations": [
          "Virgin Islands"
         ],
         "marker": {
          "opacity": 0.5
         },
         "name": "85",
         "showlegend": true,
         "showscale": false,
         "subplot": "mapbox",
         "type": "choroplethmapbox",
         "z": [
          1
         ]
        },
        {
         "colorscale": [
          [
           0,
           "#FECB52"
          ],
          [
           1,
           "#FECB52"
          ]
         ],
         "geojson": "STATE",
         "hovertemplate": "Ages 6-21=89<br>State Name=%{location}<extra></extra>",
         "locations": [
          "Virgin Islands"
         ],
         "marker": {
          "opacity": 0.5
         },
         "name": "89",
         "showlegend": true,
         "showscale": false,
         "subplot": "mapbox",
         "type": "choroplethmapbox",
         "z": [
          1
         ]
        },
        {
         "colorscale": [
          [
           0,
           "#636efa"
          ],
          [
           1,
           "#636efa"
          ]
         ],
         "geojson": "STATE",
         "hovertemplate": "Ages 6-21=104<br>State Name=%{location}<extra></extra>",
         "locations": [
          "Virgin Islands"
         ],
         "marker": {
          "opacity": 0.5
         },
         "name": "104",
         "showlegend": true,
         "showscale": false,
         "subplot": "mapbox",
         "type": "choroplethmapbox",
         "z": [
          1
         ]
        },
        {
         "colorscale": [
          [
           0,
           "#EF553B"
          ],
          [
           1,
           "#EF553B"
          ]
         ],
         "geojson": "STATE",
         "hovertemplate": "Ages 6-21=536<br>State Name=%{location}<extra></extra>",
         "locations": [
          "Virgin Islands"
         ],
         "marker": {
          "opacity": 0.5
         },
         "name": "536",
         "showlegend": true,
         "showscale": false,
         "subplot": "mapbox",
         "type": "choroplethmapbox",
         "z": [
          1
         ]
        },
        {
         "colorscale": [
          [
           0,
           "#00cc96"
          ],
          [
           1,
           "#00cc96"
          ]
         ],
         "geojson": "STATE",
         "hovertemplate": "Ages 6-21=67<br>State Name=%{location}<extra></extra>",
         "locations": [
          "Virgin Islands"
         ],
         "marker": {
          "opacity": 0.5
         },
         "name": "67",
         "showlegend": true,
         "showscale": false,
         "subplot": "mapbox",
         "type": "choroplethmapbox",
         "z": [
          1
         ]
        },
        {
         "colorscale": [
          [
           0,
           "#ab63fa"
          ],
          [
           1,
           "#ab63fa"
          ]
         ],
         "geojson": "STATE",
         "hovertemplate": "Ages 6-21=156643<br>State Name=%{location}<extra></extra>",
         "locations": [
          "Virginia"
         ],
         "marker": {
          "opacity": 0.5
         },
         "name": "156643",
         "showlegend": true,
         "showscale": false,
         "subplot": "mapbox",
         "type": "choroplethmapbox",
         "z": [
          1
         ]
        },
        {
         "colorscale": [
          [
           0,
           "#FFA15A"
          ],
          [
           1,
           "#FFA15A"
          ]
         ],
         "geojson": "STATE",
         "hovertemplate": "Ages 6-21=20607<br>State Name=%{location}<extra></extra>",
         "locations": [
          "Virginia"
         ],
         "marker": {
          "opacity": 0.5
         },
         "name": "20607",
         "showlegend": true,
         "showscale": false,
         "subplot": "mapbox",
         "type": "choroplethmapbox",
         "z": [
          1
         ]
        },
        {
         "colorscale": [
          [
           0,
           "#19d3f3"
          ],
          [
           1,
           "#19d3f3"
          ]
         ],
         "geojson": "STATE",
         "hovertemplate": "Ages 6-21=2825<br>State Name=%{location}<extra></extra>",
         "locations": [
          "Virginia"
         ],
         "marker": {
          "opacity": 0.5
         },
         "name": "2825",
         "showlegend": true,
         "showscale": false,
         "subplot": "mapbox",
         "type": "choroplethmapbox",
         "z": [
          1
         ]
        },
        {
         "colorscale": [
          [
           0,
           "#FF6692"
          ],
          [
           1,
           "#FF6692"
          ]
         ],
         "geojson": "STATE",
         "hovertemplate": "Ages 6-21=9782<br>State Name=%{location}<extra></extra>",
         "locations": [
          "Virginia"
         ],
         "marker": {
          "opacity": 0.5
         },
         "name": "9782",
         "showlegend": true,
         "showscale": false,
         "subplot": "mapbox",
         "type": "choroplethmapbox",
         "z": [
          1
         ]
        },
        {
         "colorscale": [
          [
           0,
           "#B6E880"
          ],
          [
           1,
           "#B6E880"
          ]
         ],
         "geojson": "STATE",
         "hovertemplate": "Ages 6-21=1184<br>State Name=%{location}<extra></extra>",
         "locations": [
          "Virginia"
         ],
         "marker": {
          "opacity": 0.5
         },
         "name": "1184",
         "showlegend": true,
         "showscale": false,
         "subplot": "mapbox",
         "type": "choroplethmapbox",
         "z": [
          1
         ]
        },
        {
         "colorscale": [
          [
           0,
           "#FF97FF"
          ],
          [
           1,
           "#FF97FF"
          ]
         ],
         "geojson": "STATE",
         "hovertemplate": "Ages 6-21=8923<br>State Name=%{location}<extra></extra>",
         "locations": [
          "Virginia"
         ],
         "marker": {
          "opacity": 0.5
         },
         "name": "8923",
         "showlegend": true,
         "showscale": false,
         "subplot": "mapbox",
         "type": "choroplethmapbox",
         "z": [
          1
         ]
        },
        {
         "colorscale": [
          [
           0,
           "#FECB52"
          ],
          [
           1,
           "#FECB52"
          ]
         ],
         "geojson": "STATE",
         "hovertemplate": "Ages 6-21=3002<br>State Name=%{location}<extra></extra>",
         "locations": [
          "Virginia"
         ],
         "marker": {
          "opacity": 0.5
         },
         "name": "3002",
         "showlegend": true,
         "showscale": false,
         "subplot": "mapbox",
         "type": "choroplethmapbox",
         "z": [
          1
         ]
        },
        {
         "colorscale": [
          [
           0,
           "#636efa"
          ],
          [
           1,
           "#636efa"
          ]
         ],
         "geojson": "STATE",
         "hovertemplate": "Ages 6-21=35161<br>State Name=%{location}<extra></extra>",
         "locations": [
          "Virginia"
         ],
         "marker": {
          "opacity": 0.5
         },
         "name": "35161",
         "showlegend": true,
         "showscale": false,
         "subplot": "mapbox",
         "type": "choroplethmapbox",
         "z": [
          1
         ]
        },
        {
         "colorscale": [
          [
           0,
           "#EF553B"
          ],
          [
           1,
           "#EF553B"
          ]
         ],
         "geojson": "STATE",
         "hovertemplate": "Ages 6-21=55558<br>State Name=%{location}<extra></extra>",
         "locations": [
          "Virginia"
         ],
         "marker": {
          "opacity": 0.5
         },
         "name": "55558",
         "showlegend": true,
         "showscale": false,
         "subplot": "mapbox",
         "type": "choroplethmapbox",
         "z": [
          1
         ]
        },
        {
         "colorscale": [
          [
           0,
           "#00cc96"
          ],
          [
           1,
           "#00cc96"
          ]
         ],
         "geojson": "STATE",
         "hovertemplate": "Ages 6-21=18080<br>State Name=%{location}<extra></extra>",
         "locations": [
          "Virginia"
         ],
         "marker": {
          "opacity": 0.5
         },
         "name": "18080",
         "showlegend": true,
         "showscale": false,
         "subplot": "mapbox",
         "type": "choroplethmapbox",
         "z": [
          1
         ]
        },
        {
         "colorscale": [
          [
           0,
           "#ab63fa"
          ],
          [
           1,
           "#ab63fa"
          ]
         ],
         "geojson": "STATE",
         "hovertemplate": "Ages 6-21=572<br>State Name=%{location}<extra></extra>",
         "locations": [
          "Virginia"
         ],
         "marker": {
          "opacity": 0.5
         },
         "name": "572",
         "showlegend": true,
         "showscale": false,
         "subplot": "mapbox",
         "type": "choroplethmapbox",
         "z": [
          1
         ]
        },
        {
         "colorscale": [
          [
           0,
           "#FFA15A"
          ],
          [
           1,
           "#FFA15A"
          ]
         ],
         "geojson": "STATE",
         "hovertemplate": "Ages 6-21=130488<br>State Name=%{location}<extra></extra>",
         "locations": [
          "Washington"
         ],
         "marker": {
          "opacity": 0.5
         },
         "name": "130488",
         "showlegend": true,
         "showscale": false,
         "subplot": "mapbox",
         "type": "choroplethmapbox",
         "z": [
          1
         ]
        },
        {
         "colorscale": [
          [
           0,
           "#19d3f3"
          ],
          [
           1,
           "#19d3f3"
          ]
         ],
         "geojson": "STATE",
         "hovertemplate": "Ages 6-21=14363<br>State Name=%{location}<extra></extra>",
         "locations": [
          "Washington"
         ],
         "marker": {
          "opacity": 0.5
         },
         "name": "14363",
         "showlegend": true,
         "showscale": false,
         "subplot": "mapbox",
         "type": "choroplethmapbox",
         "z": [
          1
         ]
        },
        {
         "colorscale": [
          [
           0,
           "#FF6692"
          ],
          [
           1,
           "#FF6692"
          ]
         ],
         "geojson": "STATE",
         "hovertemplate": "Ages 6-21=22<br>State Name=%{location}<extra></extra>",
         "locations": [
          "Washington"
         ],
         "marker": {
          "opacity": 0.5
         },
         "name": "22",
         "showlegend": true,
         "showscale": false,
         "subplot": "mapbox",
         "type": "choroplethmapbox",
         "z": [
          1
         ]
        },
        {
         "colorscale": [
          [
           0,
           "#B6E880"
          ],
          [
           1,
           "#B6E880"
          ]
         ],
         "geojson": "STATE",
         "hovertemplate": "Ages 6-21=8431<br>State Name=%{location}<extra></extra>",
         "locations": [
          "Washington"
         ],
         "marker": {
          "opacity": 0.5
         },
         "name": "8431",
         "showlegend": true,
         "showscale": false,
         "subplot": "mapbox",
         "type": "choroplethmapbox",
         "z": [
          1
         ]
        },
        {
         "colorscale": [
          [
           0,
           "#FF97FF"
          ],
          [
           1,
           "#FF97FF"
          ]
         ],
         "geojson": "STATE",
         "hovertemplate": "Ages 6-21=5324<br>State Name=%{location}<extra></extra>",
         "locations": [
          "Washington"
         ],
         "marker": {
          "opacity": 0.5
         },
         "name": "5324",
         "showlegend": true,
         "showscale": false,
         "subplot": "mapbox",
         "type": "choroplethmapbox",
         "z": [
          1
         ]
        },
        {
         "colorscale": [
          [
           0,
           "#FECB52"
          ],
          [
           1,
           "#FECB52"
          ]
         ],
         "geojson": "STATE",
         "hovertemplate": "Ages 6-21=1005<br>State Name=%{location}<extra></extra>",
         "locations": [
          "Washington"
         ],
         "marker": {
          "opacity": 0.5
         },
         "name": "1005",
         "showlegend": true,
         "showscale": false,
         "subplot": "mapbox",
         "type": "choroplethmapbox",
         "z": [
          1
         ]
        },
        {
         "colorscale": [
          [
           0,
           "#636efa"
          ],
          [
           1,
           "#636efa"
          ]
         ],
         "geojson": "STATE",
         "hovertemplate": "Ages 6-21=5011<br>State Name=%{location}<extra></extra>",
         "locations": [
          "Washington"
         ],
         "marker": {
          "opacity": 0.5
         },
         "name": "5011",
         "showlegend": true,
         "showscale": false,
         "subplot": "mapbox",
         "type": "choroplethmapbox",
         "z": [
          1
         ]
        },
        {
         "colorscale": [
          [
           0,
           "#EF553B"
          ],
          [
           1,
           "#EF553B"
          ]
         ],
         "geojson": "STATE",
         "hovertemplate": "Ages 6-21=2946<br>State Name=%{location}<extra></extra>",
         "locations": [
          "Washington"
         ],
         "marker": {
          "opacity": 0.5
         },
         "name": "2946",
         "showlegend": true,
         "showscale": false,
         "subplot": "mapbox",
         "type": "choroplethmapbox",
         "z": [
          1
         ]
        },
        {
         "colorscale": [
          [
           0,
           "#00cc96"
          ],
          [
           1,
           "#00cc96"
          ]
         ],
         "geojson": "STATE",
         "hovertemplate": "Ages 6-21=371<br>State Name=%{location}<extra></extra>",
         "locations": [
          "Washington"
         ],
         "marker": {
          "opacity": 0.5
         },
         "name": "371",
         "showlegend": true,
         "showscale": false,
         "subplot": "mapbox",
         "type": "choroplethmapbox",
         "z": [
          1
         ]
        },
        {
         "colorscale": [
          [
           0,
           "#ab63fa"
          ],
          [
           1,
           "#ab63fa"
          ]
         ],
         "geojson": "STATE",
         "hovertemplate": "Ages 6-21=27249<br>State Name=%{location}<extra></extra>",
         "locations": [
          "Washington"
         ],
         "marker": {
          "opacity": 0.5
         },
         "name": "27249",
         "showlegend": true,
         "showscale": false,
         "subplot": "mapbox",
         "type": "choroplethmapbox",
         "z": [
          1
         ]
        },
        {
         "colorscale": [
          [
           0,
           "#FFA15A"
          ],
          [
           1,
           "#FFA15A"
          ]
         ],
         "geojson": "STATE",
         "hovertemplate": "Ages 6-21=47606<br>State Name=%{location}<extra></extra>",
         "locations": [
          "Washington"
         ],
         "marker": {
          "opacity": 0.5
         },
         "name": "47606",
         "showlegend": true,
         "showscale": false,
         "subplot": "mapbox",
         "type": "choroplethmapbox",
         "z": [
          1
         ]
        },
        {
         "colorscale": [
          [
           0,
           "#19d3f3"
          ],
          [
           1,
           "#19d3f3"
          ]
         ],
         "geojson": "STATE",
         "hovertemplate": "Ages 6-21=17431<br>State Name=%{location}<extra></extra>",
         "locations": [
          "Washington"
         ],
         "marker": {
          "opacity": 0.5
         },
         "name": "17431",
         "showlegend": true,
         "showscale": false,
         "subplot": "mapbox",
         "type": "choroplethmapbox",
         "z": [
          1
         ]
        },
        {
         "colorscale": [
          [
           0,
           "#FF6692"
          ],
          [
           1,
           "#FF6692"
          ]
         ],
         "geojson": "STATE",
         "hovertemplate": "Ages 6-21=310<br>State Name=%{location}<extra></extra>",
         "locations": [
          "Washington"
         ],
         "marker": {
          "opacity": 0.5
         },
         "name": "310",
         "showlegend": true,
         "showscale": false,
         "subplot": "mapbox",
         "type": "choroplethmapbox",
         "z": [
          1
         ]
        },
        {
         "colorscale": [
          [
           0,
           "#B6E880"
          ],
          [
           1,
           "#B6E880"
          ]
         ],
         "geojson": "STATE",
         "hovertemplate": "Ages 6-21=419<br>State Name=%{location}<extra></extra>",
         "locations": [
          "Washington"
         ],
         "marker": {
          "opacity": 0.5
         },
         "name": "419",
         "showlegend": true,
         "showscale": false,
         "subplot": "mapbox",
         "type": "choroplethmapbox",
         "z": [
          1
         ]
        },
        {
         "colorscale": [
          [
           0,
           "#FF97FF"
          ],
          [
           1,
           "#FF97FF"
          ]
         ],
         "geojson": "STATE",
         "hovertemplate": "Ages 6-21=41938<br>State Name=%{location}<extra></extra>",
         "locations": [
          "West Virginia"
         ],
         "marker": {
          "opacity": 0.5
         },
         "name": "41938",
         "showlegend": true,
         "showscale": false,
         "subplot": "mapbox",
         "type": "choroplethmapbox",
         "z": [
          1
         ]
        },
        {
         "colorscale": [
          [
           0,
           "#FECB52"
          ],
          [
           1,
           "#FECB52"
          ]
         ],
         "geojson": "STATE",
         "hovertemplate": "Ages 6-21=2565<br>State Name=%{location}<extra></extra>",
         "locations": [
          "West Virginia"
         ],
         "marker": {
          "opacity": 0.5
         },
         "name": "2565",
         "showlegend": true,
         "showscale": false,
         "subplot": "mapbox",
         "type": "choroplethmapbox",
         "z": [
          1
         ]
        },
        {
         "colorscale": [
          [
           0,
           "#636efa"
          ],
          [
           1,
           "#636efa"
          ]
         ],
         "geojson": "STATE",
         "hovertemplate": "Ages 6-21=1133<br>State Name=%{location}<extra></extra>",
         "locations": [
          "West Virginia"
         ],
         "marker": {
          "opacity": 0.5
         },
         "name": "1133",
         "showlegend": true,
         "showscale": false,
         "subplot": "mapbox",
         "type": "choroplethmapbox",
         "z": [
          1
         ]
        },
        {
         "colorscale": [
          [
           0,
           "#EF553B"
          ],
          [
           1,
           "#EF553B"
          ]
         ],
         "geojson": "STATE",
         "hovertemplate": "Ages 6-21=420<br>State Name=%{location}<extra></extra>",
         "locations": [
          "West Virginia"
         ],
         "marker": {
          "opacity": 0.5
         },
         "name": "420",
         "showlegend": true,
         "showscale": false,
         "subplot": "mapbox",
         "type": "choroplethmapbox",
         "z": [
          1
         ]
        },
        {
         "colorscale": [
          [
           0,
           "#00cc96"
          ],
          [
           1,
           "#00cc96"
          ]
         ],
         "geojson": "STATE",
         "hovertemplate": "Ages 6-21=6559<br>State Name=%{location}<extra></extra>",
         "locations": [
          "West Virginia"
         ],
         "marker": {
          "opacity": 0.5
         },
         "name": "6559",
         "showlegend": true,
         "showscale": false,
         "subplot": "mapbox",
         "type": "choroplethmapbox",
         "z": [
          1
         ]
        },
        {
         "colorscale": [
          [
           0,
           "#ab63fa"
          ],
          [
           1,
           "#ab63fa"
          ]
         ],
         "geojson": "STATE",
         "hovertemplate": "Ages 6-21=99<br>State Name=%{location}<extra></extra>",
         "locations": [
          "West Virginia"
         ],
         "marker": {
          "opacity": 0.5
         },
         "name": "99",
         "showlegend": true,
         "showscale": false,
         "subplot": "mapbox",
         "type": "choroplethmapbox",
         "z": [
          1
         ]
        },
        {
         "colorscale": [
          [
           0,
           "#FFA15A"
          ],
          [
           1,
           "#FFA15A"
          ]
         ],
         "geojson": "STATE",
         "hovertemplate": "Ages 6-21=7038<br>State Name=%{location}<extra></extra>",
         "locations": [
          "West Virginia"
         ],
         "marker": {
          "opacity": 0.5
         },
         "name": "7038",
         "showlegend": true,
         "showscale": false,
         "subplot": "mapbox",
         "type": "choroplethmapbox",
         "z": [
          1
         ]
        },
        {
         "colorscale": [
          [
           0,
           "#19d3f3"
          ],
          [
           1,
           "#19d3f3"
          ]
         ],
         "geojson": "STATE",
         "hovertemplate": "Ages 6-21=14977<br>State Name=%{location}<extra></extra>",
         "locations": [
          "West Virginia"
         ],
         "marker": {
          "opacity": 0.5
         },
         "name": "14977",
         "showlegend": true,
         "showscale": false,
         "subplot": "mapbox",
         "type": "choroplethmapbox",
         "z": [
          1
         ]
        },
        {
         "colorscale": [
          [
           0,
           "#FF6692"
          ],
          [
           1,
           "#FF6692"
          ]
         ],
         "geojson": "STATE",
         "hovertemplate": "Ages 6-21=8752<br>State Name=%{location}<extra></extra>",
         "locations": [
          "West Virginia"
         ],
         "marker": {
          "opacity": 0.5
         },
         "name": "8752",
         "showlegend": true,
         "showscale": false,
         "subplot": "mapbox",
         "type": "choroplethmapbox",
         "z": [
          1
         ]
        },
        {
         "colorscale": [
          [
           0,
           "#B6E880"
          ],
          [
           1,
           "#B6E880"
          ]
         ],
         "geojson": "STATE",
         "hovertemplate": "Ages 6-21=97<br>State Name=%{location}<extra></extra>",
         "locations": [
          "West Virginia"
         ],
         "marker": {
          "opacity": 0.5
         },
         "name": "97",
         "showlegend": true,
         "showscale": false,
         "subplot": "mapbox",
         "type": "choroplethmapbox",
         "z": [
          1
         ]
        },
        {
         "colorscale": [
          [
           0,
           "#FF97FF"
          ],
          [
           1,
           "#FF97FF"
          ]
         ],
         "geojson": "STATE",
         "hovertemplate": "Ages 6-21=277<br>State Name=%{location}<extra></extra>",
         "locations": [
          "West Virginia"
         ],
         "marker": {
          "opacity": 0.5
         },
         "name": "277",
         "showlegend": true,
         "showscale": false,
         "subplot": "mapbox",
         "type": "choroplethmapbox",
         "z": [
          1
         ]
        },
        {
         "colorscale": [
          [
           0,
           "#FECB52"
          ],
          [
           1,
           "#FECB52"
          ]
         ],
         "geojson": "STATE",
         "hovertemplate": "Ages 6-21=*<br>State Name=%{location}<extra></extra>",
         "locations": [
          "Wisconsin",
          "Wisconsin",
          "Wisconsin",
          "Wisconsin",
          "Wisconsin",
          "Wisconsin",
          "Wisconsin",
          "Wisconsin",
          "Wisconsin",
          "Wisconsin",
          "Wisconsin",
          "Wisconsin",
          "Wisconsin"
         ],
         "marker": {
          "opacity": 0.5
         },
         "name": "*",
         "showlegend": true,
         "showscale": false,
         "subplot": "mapbox",
         "type": "choroplethmapbox",
         "z": [
          1,
          1,
          1,
          1,
          1,
          1,
          1,
          1,
          1,
          1,
          1,
          1,
          1
         ]
        },
        {
         "colorscale": [
          [
           0,
           "#636efa"
          ],
          [
           1,
           "#636efa"
          ]
         ],
         "geojson": "STATE",
         "hovertemplate": "Ages 6-21=12348<br>State Name=%{location}<extra></extra>",
         "locations": [
          "Wyoming"
         ],
         "marker": {
          "opacity": 0.5
         },
         "name": "12348",
         "showlegend": true,
         "showscale": false,
         "subplot": "mapbox",
         "type": "choroplethmapbox",
         "z": [
          1
         ]
        },
        {
         "colorscale": [
          [
           0,
           "#EF553B"
          ],
          [
           1,
           "#EF553B"
          ]
         ],
         "geojson": "STATE",
         "hovertemplate": "Ages 6-21=906<br>State Name=%{location}<extra></extra>",
         "locations": [
          "Wyoming"
         ],
         "marker": {
          "opacity": 0.5
         },
         "name": "906",
         "showlegend": true,
         "showscale": false,
         "subplot": "mapbox",
         "type": "choroplethmapbox",
         "z": [
          1
         ]
        },
        {
         "colorscale": [
          [
           0,
           "#00cc96"
          ],
          [
           1,
           "#00cc96"
          ]
         ],
         "geojson": "STATE",
         "hovertemplate": "Ages 6-21=244<br>State Name=%{location}<extra></extra>",
         "locations": [
          "Wyoming"
         ],
         "marker": {
          "opacity": 0.5
         },
         "name": "244",
         "showlegend": true,
         "showscale": false,
         "subplot": "mapbox",
         "type": "choroplethmapbox",
         "z": [
          1
         ]
        },
        {
         "colorscale": [
          [
           0,
           "#ab63fa"
          ],
          [
           1,
           "#ab63fa"
          ]
         ],
         "geojson": "STATE",
         "hovertemplate": "Ages 6-21=579<br>State Name=%{location}<extra></extra>",
         "locations": [
          "Wyoming"
         ],
         "marker": {
          "opacity": 0.5
         },
         "name": "579",
         "showlegend": true,
         "showscale": false,
         "subplot": "mapbox",
         "type": "choroplethmapbox",
         "z": [
          1
         ]
        },
        {
         "colorscale": [
          [
           0,
           "#FFA15A"
          ],
          [
           1,
           "#FFA15A"
          ]
         ],
         "geojson": "STATE",
         "hovertemplate": "Ages 6-21=513<br>State Name=%{location}<extra></extra>",
         "locations": [
          "Wyoming"
         ],
         "marker": {
          "opacity": 0.5
         },
         "name": "513",
         "showlegend": true,
         "showscale": false,
         "subplot": "mapbox",
         "type": "choroplethmapbox",
         "z": [
          1
         ]
        },
        {
         "colorscale": [
          [
           0,
           "#19d3f3"
          ],
          [
           1,
           "#19d3f3"
          ]
         ],
         "geojson": "STATE",
         "hovertemplate": "Ages 6-21=331<br>State Name=%{location}<extra></extra>",
         "locations": [
          "Wyoming"
         ],
         "marker": {
          "opacity": 0.5
         },
         "name": "331",
         "showlegend": true,
         "showscale": false,
         "subplot": "mapbox",
         "type": "choroplethmapbox",
         "z": [
          1
         ]
        },
        {
         "colorscale": [
          [
           0,
           "#FF6692"
          ],
          [
           1,
           "#FF6692"
          ]
         ],
         "geojson": "STATE",
         "hovertemplate": "Ages 6-21=2056<br>State Name=%{location}<extra></extra>",
         "locations": [
          "Wyoming"
         ],
         "marker": {
          "opacity": 0.5
         },
         "name": "2056",
         "showlegend": true,
         "showscale": false,
         "subplot": "mapbox",
         "type": "choroplethmapbox",
         "z": [
          1
         ]
        },
        {
         "colorscale": [
          [
           0,
           "#B6E880"
          ],
          [
           1,
           "#B6E880"
          ]
         ],
         "geojson": "STATE",
         "hovertemplate": "Ages 6-21=4282<br>State Name=%{location}<extra></extra>",
         "locations": [
          "Wyoming"
         ],
         "marker": {
          "opacity": 0.5
         },
         "name": "4282",
         "showlegend": true,
         "showscale": false,
         "subplot": "mapbox",
         "type": "choroplethmapbox",
         "z": [
          1
         ]
        },
        {
         "colorscale": [
          [
           0,
           "#FF97FF"
          ],
          [
           1,
           "#FF97FF"
          ]
         ],
         "geojson": "STATE",
         "hovertemplate": "Ages 6-21=3151<br>State Name=%{location}<extra></extra>",
         "locations": [
          "Wyoming"
         ],
         "marker": {
          "opacity": 0.5
         },
         "name": "3151",
         "showlegend": true,
         "showscale": false,
         "subplot": "mapbox",
         "type": "choroplethmapbox",
         "z": [
          1
         ]
        },
        {
         "colorscale": [
          [
           0,
           "#FECB52"
          ],
          [
           1,
           "#FECB52"
          ]
         ],
         "geojson": "STATE",
         "hovertemplate": "Ages 6-21=41<br>State Name=%{location}<extra></extra>",
         "locations": [
          "Wyoming"
         ],
         "marker": {
          "opacity": 0.5
         },
         "name": "41",
         "showlegend": true,
         "showscale": false,
         "subplot": "mapbox",
         "type": "choroplethmapbox",
         "z": [
          1
         ]
        },
        {
         "colorscale": [
          [
           0,
           "#636efa"
          ],
          [
           1,
           "#636efa"
          ]
         ],
         "geojson": "STATE",
         "hovertemplate": "Ages 6-21=6315228<br>State Name=%{location}<extra></extra>",
         "locations": [
          "US, Outlying Areas, and Freely Associated States"
         ],
         "marker": {
          "opacity": 0.5
         },
         "name": "6315228",
         "showlegend": true,
         "showscale": false,
         "subplot": "mapbox",
         "type": "choroplethmapbox",
         "z": [
          1
         ]
        },
        {
         "colorscale": [
          [
           0,
           "#EF553B"
          ],
          [
           1,
           "#EF553B"
          ]
         ],
         "geojson": "STATE",
         "hovertemplate": "Ages 6-21=663844<br>State Name=%{location}<extra></extra>",
         "locations": [
          "US, Outlying Areas, and Freely Associated States"
         ],
         "marker": {
          "opacity": 0.5
         },
         "name": "663844",
         "showlegend": true,
         "showscale": false,
         "subplot": "mapbox",
         "type": "choroplethmapbox",
         "z": [
          1
         ]
        },
        {
         "colorscale": [
          [
           0,
           "#00cc96"
          ],
          [
           1,
           "#00cc96"
          ]
         ],
         "geojson": "STATE",
         "hovertemplate": "Ages 6-21=1425<br>State Name=%{location}<extra></extra>",
         "locations": [
          "US, Outlying Areas, and Freely Associated States"
         ],
         "marker": {
          "opacity": 0.5
         },
         "name": "1425",
         "showlegend": true,
         "showscale": false,
         "subplot": "mapbox",
         "type": "choroplethmapbox",
         "z": [
          1
         ]
        },
        {
         "colorscale": [
          [
           0,
           "#ab63fa"
          ],
          [
           1,
           "#ab63fa"
          ]
         ],
         "geojson": "STATE",
         "hovertemplate": "Ages 6-21=167704<br>State Name=%{location}<extra></extra>",
         "locations": [
          "US, Outlying Areas, and Freely Associated States"
         ],
         "marker": {
          "opacity": 0.5
         },
         "name": "167704",
         "showlegend": true,
         "showscale": false,
         "subplot": "mapbox",
         "type": "choroplethmapbox",
         "z": [
          1
         ]
        },
        {
         "colorscale": [
          [
           0,
           "#FFA15A"
          ],
          [
           1,
           "#FFA15A"
          ]
         ],
         "geojson": "STATE",
         "hovertemplate": "Ages 6-21=344473<br>State Name=%{location}<extra></extra>",
         "locations": [
          "US, Outlying Areas, and Freely Associated States"
         ],
         "marker": {
          "opacity": 0.5
         },
         "name": "344473",
         "showlegend": true,
         "showscale": false,
         "subplot": "mapbox",
         "type": "choroplethmapbox",
         "z": [
          1
         ]
        },
        {
         "colorscale": [
          [
           0,
           "#19d3f3"
          ],
          [
           1,
           "#19d3f3"
          ]
         ],
         "geojson": "STATE",
         "hovertemplate": "Ages 6-21=64359<br>State Name=%{location}<extra></extra>",
         "locations": [
          "US, Outlying Areas, and Freely Associated States"
         ],
         "marker": {
          "opacity": 0.5
         },
         "name": "64359",
         "showlegend": true,
         "showscale": false,
         "subplot": "mapbox",
         "type": "choroplethmapbox",
         "z": [
          1
         ]
        },
        {
         "colorscale": [
          [
           0,
           "#FF6692"
          ],
          [
           1,
           "#FF6692"
          ]
         ],
         "geojson": "STATE",
         "hovertemplate": "Ages 6-21=423215<br>State Name=%{location}<extra></extra>",
         "locations": [
          "US, Outlying Areas, and Freely Associated States"
         ],
         "marker": {
          "opacity": 0.5
         },
         "name": "423215",
         "showlegend": true,
         "showscale": false,
         "subplot": "mapbox",
         "type": "choroplethmapbox",
         "z": [
          1
         ]
        },
        {
         "colorscale": [
          [
           0,
           "#B6E880"
          ],
          [
           1,
           "#B6E880"
          ]
         ],
         "geojson": "STATE",
         "hovertemplate": "Ages 6-21=126697<br>State Name=%{location}<extra></extra>",
         "locations": [
          "US, Outlying Areas, and Freely Associated States"
         ],
         "marker": {
          "opacity": 0.5
         },
         "name": "126697",
         "showlegend": true,
         "showscale": false,
         "subplot": "mapbox",
         "type": "choroplethmapbox",
         "z": [
          1
         ]
        },
        {
         "colorscale": [
          [
           0,
           "#FF97FF"
          ],
          [
           1,
           "#FF97FF"
          ]
         ],
         "geojson": "STATE",
         "hovertemplate": "Ages 6-21=33516<br>State Name=%{location}<extra></extra>",
         "locations": [
          "US, Outlying Areas, and Freely Associated States"
         ],
         "marker": {
          "opacity": 0.5
         },
         "name": "33516",
         "showlegend": true,
         "showscale": false,
         "subplot": "mapbox",
         "type": "choroplethmapbox",
         "z": [
          1
         ]
        },
        {
         "colorscale": [
          [
           0,
           "#FECB52"
          ],
          [
           1,
           "#FECB52"
          ]
         ],
         "geojson": "STATE",
         "hovertemplate": "Ages 6-21=1025953<br>State Name=%{location}<extra></extra>",
         "locations": [
          "US, Outlying Areas, and Freely Associated States"
         ],
         "marker": {
          "opacity": 0.5
         },
         "name": "1025953",
         "showlegend": true,
         "showscale": false,
         "subplot": "mapbox",
         "type": "choroplethmapbox",
         "z": [
          1
         ]
        },
        {
         "colorscale": [
          [
           0,
           "#636efa"
          ],
          [
           1,
           "#636efa"
          ]
         ],
         "geojson": "STATE",
         "hovertemplate": "Ages 6-21=2377739<br>State Name=%{location}<extra></extra>",
         "locations": [
          "US, Outlying Areas, and Freely Associated States"
         ],
         "marker": {
          "opacity": 0.5
         },
         "name": "2377739",
         "showlegend": true,
         "showscale": false,
         "subplot": "mapbox",
         "type": "choroplethmapbox",
         "z": [
          1
         ]
        },
        {
         "colorscale": [
          [
           0,
           "#EF553B"
          ],
          [
           1,
           "#EF553B"
          ]
         ],
         "geojson": "STATE",
         "hovertemplate": "Ages 6-21=1036790<br>State Name=%{location}<extra></extra>",
         "locations": [
          "US, Outlying Areas, and Freely Associated States"
         ],
         "marker": {
          "opacity": 0.5
         },
         "name": "1036790",
         "showlegend": true,
         "showscale": false,
         "subplot": "mapbox",
         "type": "choroplethmapbox",
         "z": [
          1
         ]
        },
        {
         "colorscale": [
          [
           0,
           "#00cc96"
          ],
          [
           1,
           "#00cc96"
          ]
         ],
         "geojson": "STATE",
         "hovertemplate": "Ages 6-21=25344<br>State Name=%{location}<extra></extra>",
         "locations": [
          "US, Outlying Areas, and Freely Associated States"
         ],
         "marker": {
          "opacity": 0.5
         },
         "name": "25344",
         "showlegend": true,
         "showscale": false,
         "subplot": "mapbox",
         "type": "choroplethmapbox",
         "z": [
          1
         ]
        },
        {
         "colorscale": [
          [
           0,
           "#ab63fa"
          ],
          [
           1,
           "#ab63fa"
          ]
         ],
         "geojson": "STATE",
         "hovertemplate": "Ages 6-21=24169<br>State Name=%{location}<extra></extra>",
         "locations": [
          "US, Outlying Areas, and Freely Associated States"
         ],
         "marker": {
          "opacity": 0.5
         },
         "name": "24169",
         "showlegend": true,
         "showscale": false,
         "subplot": "mapbox",
         "type": "choroplethmapbox",
         "z": [
          1
         ]
        }
       ],
       "layout": {
        "legend": {
         "title": {
          "text": "Ages 6-21"
         },
         "tracegroupgap": 0
        },
        "mapbox": {
         "center": {
          "lat": 37.0902,
          "lon": -95.7129
         },
         "domain": {
          "x": [
           0,
           1
          ],
          "y": [
           0,
           1
          ]
         },
         "style": "carto-positron",
         "zoom": 3
        },
        "margin": {
         "b": 0,
         "l": 0,
         "r": 0,
         "t": 0
        },
        "template": {
         "data": {
          "bar": [
           {
            "error_x": {
             "color": "#2a3f5f"
            },
            "error_y": {
             "color": "#2a3f5f"
            },
            "marker": {
             "line": {
              "color": "#E5ECF6",
              "width": 0.5
             }
            },
            "type": "bar"
           }
          ],
          "barpolar": [
           {
            "marker": {
             "line": {
              "color": "#E5ECF6",
              "width": 0.5
             }
            },
            "type": "barpolar"
           }
          ],
          "carpet": [
           {
            "aaxis": {
             "endlinecolor": "#2a3f5f",
             "gridcolor": "white",
             "linecolor": "white",
             "minorgridcolor": "white",
             "startlinecolor": "#2a3f5f"
            },
            "baxis": {
             "endlinecolor": "#2a3f5f",
             "gridcolor": "white",
             "linecolor": "white",
             "minorgridcolor": "white",
             "startlinecolor": "#2a3f5f"
            },
            "type": "carpet"
           }
          ],
          "choropleth": [
           {
            "colorbar": {
             "outlinewidth": 0,
             "ticks": ""
            },
            "type": "choropleth"
           }
          ],
          "contour": [
           {
            "colorbar": {
             "outlinewidth": 0,
             "ticks": ""
            },
            "colorscale": [
             [
              0,
              "#0d0887"
             ],
             [
              0.1111111111111111,
              "#46039f"
             ],
             [
              0.2222222222222222,
              "#7201a8"
             ],
             [
              0.3333333333333333,
              "#9c179e"
             ],
             [
              0.4444444444444444,
              "#bd3786"
             ],
             [
              0.5555555555555556,
              "#d8576b"
             ],
             [
              0.6666666666666666,
              "#ed7953"
             ],
             [
              0.7777777777777778,
              "#fb9f3a"
             ],
             [
              0.8888888888888888,
              "#fdca26"
             ],
             [
              1,
              "#f0f921"
             ]
            ],
            "type": "contour"
           }
          ],
          "contourcarpet": [
           {
            "colorbar": {
             "outlinewidth": 0,
             "ticks": ""
            },
            "type": "contourcarpet"
           }
          ],
          "heatmap": [
           {
            "colorbar": {
             "outlinewidth": 0,
             "ticks": ""
            },
            "colorscale": [
             [
              0,
              "#0d0887"
             ],
             [
              0.1111111111111111,
              "#46039f"
             ],
             [
              0.2222222222222222,
              "#7201a8"
             ],
             [
              0.3333333333333333,
              "#9c179e"
             ],
             [
              0.4444444444444444,
              "#bd3786"
             ],
             [
              0.5555555555555556,
              "#d8576b"
             ],
             [
              0.6666666666666666,
              "#ed7953"
             ],
             [
              0.7777777777777778,
              "#fb9f3a"
             ],
             [
              0.8888888888888888,
              "#fdca26"
             ],
             [
              1,
              "#f0f921"
             ]
            ],
            "type": "heatmap"
           }
          ],
          "heatmapgl": [
           {
            "colorbar": {
             "outlinewidth": 0,
             "ticks": ""
            },
            "colorscale": [
             [
              0,
              "#0d0887"
             ],
             [
              0.1111111111111111,
              "#46039f"
             ],
             [
              0.2222222222222222,
              "#7201a8"
             ],
             [
              0.3333333333333333,
              "#9c179e"
             ],
             [
              0.4444444444444444,
              "#bd3786"
             ],
             [
              0.5555555555555556,
              "#d8576b"
             ],
             [
              0.6666666666666666,
              "#ed7953"
             ],
             [
              0.7777777777777778,
              "#fb9f3a"
             ],
             [
              0.8888888888888888,
              "#fdca26"
             ],
             [
              1,
              "#f0f921"
             ]
            ],
            "type": "heatmapgl"
           }
          ],
          "histogram": [
           {
            "marker": {
             "colorbar": {
              "outlinewidth": 0,
              "ticks": ""
             }
            },
            "type": "histogram"
           }
          ],
          "histogram2d": [
           {
            "colorbar": {
             "outlinewidth": 0,
             "ticks": ""
            },
            "colorscale": [
             [
              0,
              "#0d0887"
             ],
             [
              0.1111111111111111,
              "#46039f"
             ],
             [
              0.2222222222222222,
              "#7201a8"
             ],
             [
              0.3333333333333333,
              "#9c179e"
             ],
             [
              0.4444444444444444,
              "#bd3786"
             ],
             [
              0.5555555555555556,
              "#d8576b"
             ],
             [
              0.6666666666666666,
              "#ed7953"
             ],
             [
              0.7777777777777778,
              "#fb9f3a"
             ],
             [
              0.8888888888888888,
              "#fdca26"
             ],
             [
              1,
              "#f0f921"
             ]
            ],
            "type": "histogram2d"
           }
          ],
          "histogram2dcontour": [
           {
            "colorbar": {
             "outlinewidth": 0,
             "ticks": ""
            },
            "colorscale": [
             [
              0,
              "#0d0887"
             ],
             [
              0.1111111111111111,
              "#46039f"
             ],
             [
              0.2222222222222222,
              "#7201a8"
             ],
             [
              0.3333333333333333,
              "#9c179e"
             ],
             [
              0.4444444444444444,
              "#bd3786"
             ],
             [
              0.5555555555555556,
              "#d8576b"
             ],
             [
              0.6666666666666666,
              "#ed7953"
             ],
             [
              0.7777777777777778,
              "#fb9f3a"
             ],
             [
              0.8888888888888888,
              "#fdca26"
             ],
             [
              1,
              "#f0f921"
             ]
            ],
            "type": "histogram2dcontour"
           }
          ],
          "mesh3d": [
           {
            "colorbar": {
             "outlinewidth": 0,
             "ticks": ""
            },
            "type": "mesh3d"
           }
          ],
          "parcoords": [
           {
            "line": {
             "colorbar": {
              "outlinewidth": 0,
              "ticks": ""
             }
            },
            "type": "parcoords"
           }
          ],
          "pie": [
           {
            "automargin": true,
            "type": "pie"
           }
          ],
          "scatter": [
           {
            "marker": {
             "colorbar": {
              "outlinewidth": 0,
              "ticks": ""
             }
            },
            "type": "scatter"
           }
          ],
          "scatter3d": [
           {
            "line": {
             "colorbar": {
              "outlinewidth": 0,
              "ticks": ""
             }
            },
            "marker": {
             "colorbar": {
              "outlinewidth": 0,
              "ticks": ""
             }
            },
            "type": "scatter3d"
           }
          ],
          "scattercarpet": [
           {
            "marker": {
             "colorbar": {
              "outlinewidth": 0,
              "ticks": ""
             }
            },
            "type": "scattercarpet"
           }
          ],
          "scattergeo": [
           {
            "marker": {
             "colorbar": {
              "outlinewidth": 0,
              "ticks": ""
             }
            },
            "type": "scattergeo"
           }
          ],
          "scattergl": [
           {
            "marker": {
             "colorbar": {
              "outlinewidth": 0,
              "ticks": ""
             }
            },
            "type": "scattergl"
           }
          ],
          "scattermapbox": [
           {
            "marker": {
             "colorbar": {
              "outlinewidth": 0,
              "ticks": ""
             }
            },
            "type": "scattermapbox"
           }
          ],
          "scatterpolar": [
           {
            "marker": {
             "colorbar": {
              "outlinewidth": 0,
              "ticks": ""
             }
            },
            "type": "scatterpolar"
           }
          ],
          "scatterpolargl": [
           {
            "marker": {
             "colorbar": {
              "outlinewidth": 0,
              "ticks": ""
             }
            },
            "type": "scatterpolargl"
           }
          ],
          "scatterternary": [
           {
            "marker": {
             "colorbar": {
              "outlinewidth": 0,
              "ticks": ""
             }
            },
            "type": "scatterternary"
           }
          ],
          "surface": [
           {
            "colorbar": {
             "outlinewidth": 0,
             "ticks": ""
            },
            "colorscale": [
             [
              0,
              "#0d0887"
             ],
             [
              0.1111111111111111,
              "#46039f"
             ],
             [
              0.2222222222222222,
              "#7201a8"
             ],
             [
              0.3333333333333333,
              "#9c179e"
             ],
             [
              0.4444444444444444,
              "#bd3786"
             ],
             [
              0.5555555555555556,
              "#d8576b"
             ],
             [
              0.6666666666666666,
              "#ed7953"
             ],
             [
              0.7777777777777778,
              "#fb9f3a"
             ],
             [
              0.8888888888888888,
              "#fdca26"
             ],
             [
              1,
              "#f0f921"
             ]
            ],
            "type": "surface"
           }
          ],
          "table": [
           {
            "cells": {
             "fill": {
              "color": "#EBF0F8"
             },
             "line": {
              "color": "white"
             }
            },
            "header": {
             "fill": {
              "color": "#C8D4E3"
             },
             "line": {
              "color": "white"
             }
            },
            "type": "table"
           }
          ]
         },
         "layout": {
          "annotationdefaults": {
           "arrowcolor": "#2a3f5f",
           "arrowhead": 0,
           "arrowwidth": 1
          },
          "coloraxis": {
           "colorbar": {
            "outlinewidth": 0,
            "ticks": ""
           }
          },
          "colorscale": {
           "diverging": [
            [
             0,
             "#8e0152"
            ],
            [
             0.1,
             "#c51b7d"
            ],
            [
             0.2,
             "#de77ae"
            ],
            [
             0.3,
             "#f1b6da"
            ],
            [
             0.4,
             "#fde0ef"
            ],
            [
             0.5,
             "#f7f7f7"
            ],
            [
             0.6,
             "#e6f5d0"
            ],
            [
             0.7,
             "#b8e186"
            ],
            [
             0.8,
             "#7fbc41"
            ],
            [
             0.9,
             "#4d9221"
            ],
            [
             1,
             "#276419"
            ]
           ],
           "sequential": [
            [
             0,
             "#0d0887"
            ],
            [
             0.1111111111111111,
             "#46039f"
            ],
            [
             0.2222222222222222,
             "#7201a8"
            ],
            [
             0.3333333333333333,
             "#9c179e"
            ],
            [
             0.4444444444444444,
             "#bd3786"
            ],
            [
             0.5555555555555556,
             "#d8576b"
            ],
            [
             0.6666666666666666,
             "#ed7953"
            ],
            [
             0.7777777777777778,
             "#fb9f3a"
            ],
            [
             0.8888888888888888,
             "#fdca26"
            ],
            [
             1,
             "#f0f921"
            ]
           ],
           "sequentialminus": [
            [
             0,
             "#0d0887"
            ],
            [
             0.1111111111111111,
             "#46039f"
            ],
            [
             0.2222222222222222,
             "#7201a8"
            ],
            [
             0.3333333333333333,
             "#9c179e"
            ],
            [
             0.4444444444444444,
             "#bd3786"
            ],
            [
             0.5555555555555556,
             "#d8576b"
            ],
            [
             0.6666666666666666,
             "#ed7953"
            ],
            [
             0.7777777777777778,
             "#fb9f3a"
            ],
            [
             0.8888888888888888,
             "#fdca26"
            ],
            [
             1,
             "#f0f921"
            ]
           ]
          },
          "colorway": [
           "#636efa",
           "#EF553B",
           "#00cc96",
           "#ab63fa",
           "#FFA15A",
           "#19d3f3",
           "#FF6692",
           "#B6E880",
           "#FF97FF",
           "#FECB52"
          ],
          "font": {
           "color": "#2a3f5f"
          },
          "geo": {
           "bgcolor": "white",
           "lakecolor": "white",
           "landcolor": "#E5ECF6",
           "showlakes": true,
           "showland": true,
           "subunitcolor": "white"
          },
          "hoverlabel": {
           "align": "left"
          },
          "hovermode": "closest",
          "mapbox": {
           "style": "light"
          },
          "paper_bgcolor": "white",
          "plot_bgcolor": "#E5ECF6",
          "polar": {
           "angularaxis": {
            "gridcolor": "white",
            "linecolor": "white",
            "ticks": ""
           },
           "bgcolor": "#E5ECF6",
           "radialaxis": {
            "gridcolor": "white",
            "linecolor": "white",
            "ticks": ""
           }
          },
          "scene": {
           "xaxis": {
            "backgroundcolor": "#E5ECF6",
            "gridcolor": "white",
            "gridwidth": 2,
            "linecolor": "white",
            "showbackground": true,
            "ticks": "",
            "zerolinecolor": "white"
           },
           "yaxis": {
            "backgroundcolor": "#E5ECF6",
            "gridcolor": "white",
            "gridwidth": 2,
            "linecolor": "white",
            "showbackground": true,
            "ticks": "",
            "zerolinecolor": "white"
           },
           "zaxis": {
            "backgroundcolor": "#E5ECF6",
            "gridcolor": "white",
            "gridwidth": 2,
            "linecolor": "white",
            "showbackground": true,
            "ticks": "",
            "zerolinecolor": "white"
           }
          },
          "shapedefaults": {
           "line": {
            "color": "#2a3f5f"
           }
          },
          "ternary": {
           "aaxis": {
            "gridcolor": "white",
            "linecolor": "white",
            "ticks": ""
           },
           "baxis": {
            "gridcolor": "white",
            "linecolor": "white",
            "ticks": ""
           },
           "bgcolor": "#E5ECF6",
           "caxis": {
            "gridcolor": "white",
            "linecolor": "white",
            "ticks": ""
           }
          },
          "title": {
           "x": 0.05
          },
          "xaxis": {
           "automargin": true,
           "gridcolor": "white",
           "linecolor": "white",
           "ticks": "",
           "title": {
            "standoff": 15
           },
           "zerolinecolor": "white",
           "zerolinewidth": 2
          },
          "yaxis": {
           "automargin": true,
           "gridcolor": "white",
           "linecolor": "white",
           "ticks": "",
           "title": {
            "standoff": 15
           },
           "zerolinecolor": "white",
           "zerolinewidth": 2
          }
         }
        }
       }
      },
      "text/html": [
       "<div>\n",
       "        \n",
       "        \n",
       "            <div id=\"e4ebe24d-c953-4144-8fb1-060806b21b7b\" class=\"plotly-graph-div\" style=\"height:525px; width:100%;\"></div>\n",
       "            <script type=\"text/javascript\">\n",
       "                require([\"plotly\"], function(Plotly) {\n",
       "                    window.PLOTLYENV=window.PLOTLYENV || {};\n",
       "                    \n",
       "                if (document.getElementById(\"e4ebe24d-c953-4144-8fb1-060806b21b7b\")) {\n",
       "                    Plotly.newPlot(\n",
       "                        'e4ebe24d-c953-4144-8fb1-060806b21b7b',\n",
       "                        [{\"colorscale\": [[0.0, \"#636efa\"], [1.0, \"#636efa\"]], \"geojson\": \"STATE\", \"hovertemplate\": \"Ages 6-21=85436<br>State Name=%{location}<extra></extra>\", \"locations\": [\"Alabama\"], \"marker\": {\"opacity\": 0.5}, \"name\": \"85436\", \"showlegend\": true, \"showscale\": false, \"subplot\": \"mapbox\", \"type\": \"choroplethmapbox\", \"z\": [1]}, {\"colorscale\": [[0.0, \"#EF553B\"], [1.0, \"#EF553B\"]], \"geojson\": \"STATE\", \"hovertemplate\": \"Ages 6-21=7465<br>State Name=%{location}<extra></extra>\", \"locations\": [\"Alabama\"], \"marker\": {\"opacity\": 0.5}, \"name\": \"7465\", \"showlegend\": true, \"showscale\": false, \"subplot\": \"mapbox\", \"type\": \"choroplethmapbox\", \"z\": [1]}, {\"colorscale\": [[0.0, \"#00cc96\"], [1.0, \"#00cc96\"]], \"geojson\": \"STATE\", \"hovertemplate\": \"Ages 6-21=12<br>State Name=%{location}<extra></extra>\", \"locations\": [\"Alabama\", \"American Samoa\", \"Republic of the Marshall Islands\"], \"marker\": {\"opacity\": 0.5}, \"name\": \"12\", \"showlegend\": true, \"showscale\": false, \"subplot\": \"mapbox\", \"type\": \"choroplethmapbox\", \"z\": [1, 1, 1]}, {\"colorscale\": [[0.0, \"#ab63fa\"], [1.0, \"#ab63fa\"]], \"geojson\": \"STATE\", \"hovertemplate\": \"Ages 6-21=3419<br>State Name=%{location}<extra></extra>\", \"locations\": [\"Alabama\"], \"marker\": {\"opacity\": 0.5}, \"name\": \"3419\", \"showlegend\": true, \"showscale\": false, \"subplot\": \"mapbox\", \"type\": \"choroplethmapbox\", \"z\": [1]}, {\"colorscale\": [[0.0, \"#FFA15A\"], [1.0, \"#FFA15A\"]], \"geojson\": \"STATE\", \"hovertemplate\": \"Ages 6-21=1406<br>State Name=%{location}<extra></extra>\", \"locations\": [\"Alabama\"], \"marker\": {\"opacity\": 0.5}, \"name\": \"1406\", \"showlegend\": true, \"showscale\": false, \"subplot\": \"mapbox\", \"type\": \"choroplethmapbox\", \"z\": [1]}, {\"colorscale\": [[0.0, \"#19d3f3\"], [1.0, \"#19d3f3\"]], \"geojson\": \"STATE\", \"hovertemplate\": \"Ages 6-21=894<br>State Name=%{location}<extra></extra>\", \"locations\": [\"Alabama\"], \"marker\": {\"opacity\": 0.5}, \"name\": \"894\", \"showlegend\": true, \"showscale\": false, \"subplot\": \"mapbox\", \"type\": \"choroplethmapbox\", \"z\": [1]}, {\"colorscale\": [[0.0, \"#FF6692\"], [1.0, \"#FF6692\"]], \"geojson\": \"STATE\", \"hovertemplate\": \"Ages 6-21=7014<br>State Name=%{location}<extra></extra>\", \"locations\": [\"Alabama\"], \"marker\": {\"opacity\": 0.5}, \"name\": \"7014\", \"showlegend\": true, \"showscale\": false, \"subplot\": \"mapbox\", \"type\": \"choroplethmapbox\", \"z\": [1]}, {\"colorscale\": [[0.0, \"#B6E880\"], [1.0, \"#B6E880\"]], \"geojson\": \"STATE\", \"hovertemplate\": \"Ages 6-21=1251<br>State Name=%{location}<extra></extra>\", \"locations\": [\"Alabama\", \"Alaska\"], \"marker\": {\"opacity\": 0.5}, \"name\": \"1251\", \"showlegend\": true, \"showscale\": false, \"subplot\": \"mapbox\", \"type\": \"choroplethmapbox\", \"z\": [1, 1]}, {\"colorscale\": [[0.0, \"#FF97FF\"], [1.0, \"#FF97FF\"]], \"geojson\": \"STATE\", \"hovertemplate\": \"Ages 6-21=508<br>State Name=%{location}<extra></extra>\", \"locations\": [\"Alabama\"], \"marker\": {\"opacity\": 0.5}, \"name\": \"508\", \"showlegend\": true, \"showscale\": false, \"subplot\": \"mapbox\", \"type\": \"choroplethmapbox\", \"z\": [1]}, {\"colorscale\": [[0.0, \"#FECB52\"], [1.0, \"#FECB52\"]], \"geojson\": \"STATE\", \"hovertemplate\": \"Ages 6-21=12819<br>State Name=%{location}<extra></extra>\", \"locations\": [\"Alabama\"], \"marker\": {\"opacity\": 0.5}, \"name\": \"12819\", \"showlegend\": true, \"showscale\": false, \"subplot\": \"mapbox\", \"type\": \"choroplethmapbox\", \"z\": [1]}, {\"colorscale\": [[0.0, \"#636efa\"], [1.0, \"#636efa\"]], \"geojson\": \"STATE\", \"hovertemplate\": \"Ages 6-21=35963<br>State Name=%{location}<extra></extra>\", \"locations\": [\"Alabama\"], \"marker\": {\"opacity\": 0.5}, \"name\": \"35963\", \"showlegend\": true, \"showscale\": false, \"subplot\": \"mapbox\", \"type\": \"choroplethmapbox\", \"z\": [1]}, {\"colorscale\": [[0.0, \"#EF553B\"], [1.0, \"#EF553B\"]], \"geojson\": \"STATE\", \"hovertemplate\": \"Ages 6-21=13916<br>State Name=%{location}<extra></extra>\", \"locations\": [\"Alabama\"], \"marker\": {\"opacity\": 0.5}, \"name\": \"13916\", \"showlegend\": true, \"showscale\": false, \"subplot\": \"mapbox\", \"type\": \"choroplethmapbox\", \"z\": [1]}, {\"colorscale\": [[0.0, \"#00cc96\"], [1.0, \"#00cc96\"]], \"geojson\": \"STATE\", \"hovertemplate\": \"Ages 6-21=272<br>State Name=%{location}<extra></extra>\", \"locations\": [\"Alabama\"], \"marker\": {\"opacity\": 0.5}, \"name\": \"272\", \"showlegend\": true, \"showscale\": false, \"subplot\": \"mapbox\", \"type\": \"choroplethmapbox\", \"z\": [1]}, {\"colorscale\": [[0.0, \"#ab63fa\"], [1.0, \"#ab63fa\"]], \"geojson\": \"STATE\", \"hovertemplate\": \"Ages 6-21=497<br>State Name=%{location}<extra></extra>\", \"locations\": [\"Alabama\", \"Kansas\"], \"marker\": {\"opacity\": 0.5}, \"name\": \"497\", \"showlegend\": true, \"showscale\": false, \"subplot\": \"mapbox\", \"type\": \"choroplethmapbox\", \"z\": [1, 1]}, {\"colorscale\": [[0.0, \"#FFA15A\"], [1.0, \"#FFA15A\"]], \"geojson\": \"STATE\", \"hovertemplate\": \"Ages 6-21=17002<br>State Name=%{location}<extra></extra>\", \"locations\": [\"Alaska\"], \"marker\": {\"opacity\": 0.5}, \"name\": \"17002\", \"showlegend\": true, \"showscale\": false, \"subplot\": \"mapbox\", \"type\": \"choroplethmapbox\", \"z\": [1]}, {\"colorscale\": [[0.0, \"#19d3f3\"], [1.0, \"#19d3f3\"]], \"geojson\": \"STATE\", \"hovertemplate\": \"Ages 6-21=1451<br>State Name=%{location}<extra></extra>\", \"locations\": [\"Alaska\"], \"marker\": {\"opacity\": 0.5}, \"name\": \"1451\", \"showlegend\": true, \"showscale\": false, \"subplot\": \"mapbox\", \"type\": \"choroplethmapbox\", \"z\": [1]}, {\"colorscale\": [[0.0, \"#FF6692\"], [1.0, \"#FF6692\"]], \"geojson\": \"STATE\", \"hovertemplate\": \"Ages 6-21=3<br>State Name=%{location}<extra></extra>\", \"locations\": [\"Alaska\", \"American Samoa\", \"American Samoa\", \"Hawaii\", \"Northern Marianas\", \"Vermont\", \"Virgin Islands\"], \"marker\": {\"opacity\": 0.5}, \"name\": \"3\", \"showlegend\": true, \"showscale\": false, \"subplot\": \"mapbox\", \"type\": \"choroplethmapbox\", \"z\": [1, 1, 1, 1, 1, 1, 1]}, {\"colorscale\": [[0.0, \"#B6E880\"], [1.0, \"#B6E880\"]], \"geojson\": \"STATE\", \"hovertemplate\": \"Ages 6-21=745<br>State Name=%{location}<extra></extra>\", \"locations\": [\"Alaska\"], \"marker\": {\"opacity\": 0.5}, \"name\": \"745\", \"showlegend\": true, \"showscale\": false, \"subplot\": \"mapbox\", \"type\": \"choroplethmapbox\", \"z\": [1]}, {\"colorscale\": [[0.0, \"#FF97FF\"], [1.0, \"#FF97FF\"]], \"geojson\": \"STATE\", \"hovertemplate\": \"Ages 6-21=161<br>State Name=%{location}<extra></extra>\", \"locations\": [\"Alaska\"], \"marker\": {\"opacity\": 0.5}, \"name\": \"161\", \"showlegend\": true, \"showscale\": false, \"subplot\": \"mapbox\", \"type\": \"choroplethmapbox\", \"z\": [1]}, {\"colorscale\": [[0.0, \"#FECB52\"], [1.0, \"#FECB52\"]], \"geojson\": \"STATE\", \"hovertemplate\": \"Ages 6-21=568<br>State Name=%{location}<extra></extra>\", \"locations\": [\"Alaska\"], \"marker\": {\"opacity\": 0.5}, \"name\": \"568\", \"showlegend\": true, \"showscale\": false, \"subplot\": \"mapbox\", \"type\": \"choroplethmapbox\", \"z\": [1]}, {\"colorscale\": [[0.0, \"#636efa\"], [1.0, \"#636efa\"]], \"geojson\": \"STATE\", \"hovertemplate\": \"Ages 6-21=576<br>State Name=%{location}<extra></extra>\", \"locations\": [\"Alaska\"], \"marker\": {\"opacity\": 0.5}, \"name\": \"576\", \"showlegend\": true, \"showscale\": false, \"subplot\": \"mapbox\", \"type\": \"choroplethmapbox\", \"z\": [1]}, {\"colorscale\": [[0.0, \"#EF553B\"], [1.0, \"#EF553B\"]], \"geojson\": \"STATE\", \"hovertemplate\": \"Ages 6-21=52<br>State Name=%{location}<extra></extra>\", \"locations\": [\"Alaska\"], \"marker\": {\"opacity\": 0.5}, \"name\": \"52\", \"showlegend\": true, \"showscale\": false, \"subplot\": \"mapbox\", \"type\": \"choroplethmapbox\", \"z\": [1]}, {\"colorscale\": [[0.0, \"#00cc96\"], [1.0, \"#00cc96\"]], \"geojson\": \"STATE\", \"hovertemplate\": \"Ages 6-21=2662<br>State Name=%{location}<extra></extra>\", \"locations\": [\"Alaska\"], \"marker\": {\"opacity\": 0.5}, \"name\": \"2662\", \"showlegend\": true, \"showscale\": false, \"subplot\": \"mapbox\", \"type\": \"choroplethmapbox\", \"z\": [1]}, {\"colorscale\": [[0.0, \"#ab63fa\"], [1.0, \"#ab63fa\"]], \"geojson\": \"STATE\", \"hovertemplate\": \"Ages 6-21=7026<br>State Name=%{location}<extra></extra>\", \"locations\": [\"Alaska\"], \"marker\": {\"opacity\": 0.5}, \"name\": \"7026\", \"showlegend\": true, \"showscale\": false, \"subplot\": \"mapbox\", \"type\": \"choroplethmapbox\", \"z\": [1]}, {\"colorscale\": [[0.0, \"#FFA15A\"], [1.0, \"#FFA15A\"]], \"geojson\": \"STATE\", \"hovertemplate\": \"Ages 6-21=2422<br>State Name=%{location}<extra></extra>\", \"locations\": [\"Alaska\"], \"marker\": {\"opacity\": 0.5}, \"name\": \"2422\", \"showlegend\": true, \"showscale\": false, \"subplot\": \"mapbox\", \"type\": \"choroplethmapbox\", \"z\": [1]}, {\"colorscale\": [[0.0, \"#19d3f3\"], [1.0, \"#19d3f3\"]], \"geojson\": \"STATE\", \"hovertemplate\": \"Ages 6-21=36<br>State Name=%{location}<extra></extra>\", \"locations\": [\"Alaska\"], \"marker\": {\"opacity\": 0.5}, \"name\": \"36\", \"showlegend\": true, \"showscale\": false, \"subplot\": \"mapbox\", \"type\": \"choroplethmapbox\", \"z\": [1]}, {\"colorscale\": [[0.0, \"#FF6692\"], [1.0, \"#FF6692\"]], \"geojson\": \"STATE\", \"hovertemplate\": \"Ages 6-21=49<br>State Name=%{location}<extra></extra>\", \"locations\": [\"Alaska\", \"Maine\", \"South Dakota\"], \"marker\": {\"opacity\": 0.5}, \"name\": \"49\", \"showlegend\": true, \"showscale\": false, \"subplot\": \"mapbox\", \"type\": \"choroplethmapbox\", \"z\": [1, 1, 1]}, {\"colorscale\": [[0.0, \"#B6E880\"], [1.0, \"#B6E880\"]], \"geojson\": \"STATE\", \"hovertemplate\": \"Ages 6-21=505<br>State Name=%{location}<extra></extra>\", \"locations\": [\"American Samoa\"], \"marker\": {\"opacity\": 0.5}, \"name\": \"505\", \"showlegend\": true, \"showscale\": false, \"subplot\": \"mapbox\", \"type\": \"choroplethmapbox\", \"z\": [1]}, {\"colorscale\": [[0.0, \"#FF97FF\"], [1.0, \"#FF97FF\"]], \"geojson\": \"STATE\", \"hovertemplate\": \"Ages 6-21=0<br>State Name=%{location}<extra></extra>\", \"locations\": [\"American Samoa\", \"American Samoa\", \"American Samoa\", \"American Samoa\", \"Bureau of Indian Education\", \"Guam\", \"Iowa\", \"Republic of Palau\", \"Republic of Palau\", \"Republic of Palau\", \"Republic of the Marshall Islands\", \"Republic of the Marshall Islands\", \"Virgin Islands\", \"Wyoming\"], \"marker\": {\"opacity\": 0.5}, \"name\": \"0\", \"showlegend\": true, \"showscale\": false, \"subplot\": \"mapbox\", \"type\": \"choroplethmapbox\", \"z\": [1, 1, 1, 1, 1, 1, 1, 1, 1, 1, 1, 1, 1, 1]}, {\"colorscale\": [[0.0, \"#FECB52\"], [1.0, \"#FECB52\"]], \"geojson\": \"STATE\", \"hovertemplate\": \"Ages 6-21=1<br>State Name=%{location}<extra></extra>\", \"locations\": [\"American Samoa\", \"District of Columbia\", \"Federated States of Micronesia\", \"Federated States of Micronesia\", \"Northern Marianas\", \"Republic of Palau\", \"Republic of the Marshall Islands\", \"Republic of the Marshall Islands\", \"South Dakota\", \"Virgin Islands\"], \"marker\": {\"opacity\": 0.5}, \"name\": \"1\", \"showlegend\": true, \"showscale\": false, \"subplot\": \"mapbox\", \"type\": \"choroplethmapbox\", \"z\": [1, 1, 1, 1, 1, 1, 1, 1, 1, 1]}, {\"colorscale\": [[0.0, \"#636efa\"], [1.0, \"#636efa\"]], \"geojson\": \"STATE\", \"hovertemplate\": \"Ages 6-21=10<br>State Name=%{location}<extra></extra>\", \"locations\": [\"American Samoa\", \"Nebraska\", \"Nevada\", \"Virgin Islands\"], \"marker\": {\"opacity\": 0.5}, \"name\": \"10\", \"showlegend\": true, \"showscale\": false, \"subplot\": \"mapbox\", \"type\": \"choroplethmapbox\", \"z\": [1, 1, 1, 1]}, {\"colorscale\": [[0.0, \"#EF553B\"], [1.0, \"#EF553B\"]], \"geojson\": \"STATE\", \"hovertemplate\": \"Ages 6-21=24<br>State Name=%{location}<extra></extra>\", \"locations\": [\"American Samoa\", \"New Jersey\"], \"marker\": {\"opacity\": 0.5}, \"name\": \"24\", \"showlegend\": true, \"showscale\": false, \"subplot\": \"mapbox\", \"type\": \"choroplethmapbox\", \"z\": [1, 1]}, {\"colorscale\": [[0.0, \"#00cc96\"], [1.0, \"#00cc96\"]], \"geojson\": \"STATE\", \"hovertemplate\": \"Ages 6-21=443<br>State Name=%{location}<extra></extra>\", \"locations\": [\"American Samoa\"], \"marker\": {\"opacity\": 0.5}, \"name\": \"443\", \"showlegend\": true, \"showscale\": false, \"subplot\": \"mapbox\", \"type\": \"choroplethmapbox\", \"z\": [1]}, {\"colorscale\": [[0.0, \"#ab63fa\"], [1.0, \"#ab63fa\"]], \"geojson\": \"STATE\", \"hovertemplate\": \"Ages 6-21=4<br>State Name=%{location}<extra></extra>\", \"locations\": [\"American Samoa\", \"Arkansas\", \"Federated States of Micronesia\", \"Guam\", \"Republic of Palau\", \"Republic of Palau\", \"Rhode Island\", \"Virgin Islands\"], \"marker\": {\"opacity\": 0.5}, \"name\": \"4\", \"showlegend\": true, \"showscale\": false, \"subplot\": \"mapbox\", \"type\": \"choroplethmapbox\", \"z\": [1, 1, 1, 1, 1, 1, 1, 1]}, {\"colorscale\": [[0.0, \"#FFA15A\"], [1.0, \"#FFA15A\"]], \"geojson\": \"STATE\", \"hovertemplate\": \"Ages 6-21=5<br>State Name=%{location}<extra></extra>\", \"locations\": [\"American Samoa\", \"Idaho\", \"New Mexico\"], \"marker\": {\"opacity\": 0.5}, \"name\": \"5\", \"showlegend\": true, \"showscale\": false, \"subplot\": \"mapbox\", \"type\": \"choroplethmapbox\", \"z\": [1, 1, 1]}, {\"colorscale\": [[0.0, \"#19d3f3\"], [1.0, \"#19d3f3\"]], \"geojson\": \"STATE\", \"hovertemplate\": \"Ages 6-21=128066<br>State Name=%{location}<extra></extra>\", \"locations\": [\"Arizona\"], \"marker\": {\"opacity\": 0.5}, \"name\": \"128066\", \"showlegend\": true, \"showscale\": false, \"subplot\": \"mapbox\", \"type\": \"choroplethmapbox\", \"z\": [1]}, {\"colorscale\": [[0.0, \"#FF6692\"], [1.0, \"#FF6692\"]], \"geojson\": \"STATE\", \"hovertemplate\": \"Ages 6-21=13443<br>State Name=%{location}<extra></extra>\", \"locations\": [\"Arizona\"], \"marker\": {\"opacity\": 0.5}, \"name\": \"13443\", \"showlegend\": true, \"showscale\": false, \"subplot\": \"mapbox\", \"type\": \"choroplethmapbox\", \"z\": [1]}, {\"colorscale\": [[0.0, \"#B6E880\"], [1.0, \"#B6E880\"]], \"geojson\": \"STATE\", \"hovertemplate\": \"Ages 6-21=127<br>State Name=%{location}<extra></extra>\", \"locations\": [\"Arizona\", \"Maine\"], \"marker\": {\"opacity\": 0.5}, \"name\": \"127\", \"showlegend\": true, \"showscale\": false, \"subplot\": \"mapbox\", \"type\": \"choroplethmapbox\", \"z\": [1, 1]}, {\"colorscale\": [[0.0, \"#FF97FF\"], [1.0, \"#FF97FF\"]], \"geojson\": \"STATE\", \"hovertemplate\": \"Ages 6-21=6928<br>State Name=%{location}<extra></extra>\", \"locations\": [\"Arizona\", \"Kentucky\"], \"marker\": {\"opacity\": 0.5}, \"name\": \"6928\", \"showlegend\": true, \"showscale\": false, \"subplot\": \"mapbox\", \"type\": \"choroplethmapbox\", \"z\": [1, 1]}, {\"colorscale\": [[0.0, \"#FECB52\"], [1.0, \"#FECB52\"]], \"geojson\": \"STATE\", \"hovertemplate\": \"Ages 6-21=7742<br>State Name=%{location}<extra></extra>\", \"locations\": [\"Arizona\"], \"marker\": {\"opacity\": 0.5}, \"name\": \"7742\", \"showlegend\": true, \"showscale\": false, \"subplot\": \"mapbox\", \"type\": \"choroplethmapbox\", \"z\": [1]}, {\"colorscale\": [[0.0, \"#636efa\"], [1.0, \"#636efa\"]], \"geojson\": \"STATE\", \"hovertemplate\": \"Ages 6-21=1256<br>State Name=%{location}<extra></extra>\", \"locations\": [\"Arizona\"], \"marker\": {\"opacity\": 0.5}, \"name\": \"1256\", \"showlegend\": true, \"showscale\": false, \"subplot\": \"mapbox\", \"type\": \"choroplethmapbox\", \"z\": [1]}, {\"colorscale\": [[0.0, \"#EF553B\"], [1.0, \"#EF553B\"]], \"geojson\": \"STATE\", \"hovertemplate\": \"Ages 6-21=7480<br>State Name=%{location}<extra></extra>\", \"locations\": [\"Arizona\"], \"marker\": {\"opacity\": 0.5}, \"name\": \"7480\", \"showlegend\": true, \"showscale\": false, \"subplot\": \"mapbox\", \"type\": \"choroplethmapbox\", \"z\": [1]}, {\"colorscale\": [[0.0, \"#00cc96\"], [1.0, \"#00cc96\"]], \"geojson\": \"STATE\", \"hovertemplate\": \"Ages 6-21=2141<br>State Name=%{location}<extra></extra>\", \"locations\": [\"Arizona\"], \"marker\": {\"opacity\": 0.5}, \"name\": \"2141\", \"showlegend\": true, \"showscale\": false, \"subplot\": \"mapbox\", \"type\": \"choroplethmapbox\", \"z\": [1]}, {\"colorscale\": [[0.0, \"#ab63fa\"], [1.0, \"#ab63fa\"]], \"geojson\": \"STATE\", \"hovertemplate\": \"Ages 6-21=530<br>State Name=%{location}<extra></extra>\", \"locations\": [\"Arizona\", \"Tennessee\", \"Virginia\"], \"marker\": {\"opacity\": 0.5}, \"name\": \"530\", \"showlegend\": true, \"showscale\": false, \"subplot\": \"mapbox\", \"type\": \"choroplethmapbox\", \"z\": [1, 1, 1]}, {\"colorscale\": [[0.0, \"#FFA15A\"], [1.0, \"#FFA15A\"]], \"geojson\": \"STATE\", \"hovertemplate\": \"Ages 6-21=13041<br>State Name=%{location}<extra></extra>\", \"locations\": [\"Arizona\"], \"marker\": {\"opacity\": 0.5}, \"name\": \"13041\", \"showlegend\": true, \"showscale\": false, \"subplot\": \"mapbox\", \"type\": \"choroplethmapbox\", \"z\": [1]}, {\"colorscale\": [[0.0, \"#19d3f3\"], [1.0, \"#19d3f3\"]], \"geojson\": \"STATE\", \"hovertemplate\": \"Ages 6-21=56487<br>State Name=%{location}<extra></extra>\", \"locations\": [\"Arizona\"], \"marker\": {\"opacity\": 0.5}, \"name\": \"56487\", \"showlegend\": true, \"showscale\": false, \"subplot\": \"mapbox\", \"type\": \"choroplethmapbox\", \"z\": [1]}, {\"colorscale\": [[0.0, \"#FF6692\"], [1.0, \"#FF6692\"]], \"geojson\": \"STATE\", \"hovertemplate\": \"Ages 6-21=18095<br>State Name=%{location}<extra></extra>\", \"locations\": [\"Arizona\"], \"marker\": {\"opacity\": 0.5}, \"name\": \"18095\", \"showlegend\": true, \"showscale\": false, \"subplot\": \"mapbox\", \"type\": \"choroplethmapbox\", \"z\": [1]}, {\"colorscale\": [[0.0, \"#B6E880\"], [1.0, \"#B6E880\"]], \"geojson\": \"STATE\", \"hovertemplate\": \"Ages 6-21=298<br>State Name=%{location}<extra></extra>\", \"locations\": [\"Arizona\"], \"marker\": {\"opacity\": 0.5}, \"name\": \"298\", \"showlegend\": true, \"showscale\": false, \"subplot\": \"mapbox\", \"type\": \"choroplethmapbox\", \"z\": [1]}, {\"colorscale\": [[0.0, \"#FF97FF\"], [1.0, \"#FF97FF\"]], \"geojson\": \"STATE\", \"hovertemplate\": \"Ages 6-21=498<br>State Name=%{location}<extra></extra>\", \"locations\": [\"Arizona\"], \"marker\": {\"opacity\": 0.5}, \"name\": \"498\", \"showlegend\": true, \"showscale\": false, \"subplot\": \"mapbox\", \"type\": \"choroplethmapbox\", \"z\": [1]}, {\"colorscale\": [[0.0, \"#FECB52\"], [1.0, \"#FECB52\"]], \"geojson\": \"STATE\", \"hovertemplate\": \"Ages 6-21=61366<br>State Name=%{location}<extra></extra>\", \"locations\": [\"Arkansas\"], \"marker\": {\"opacity\": 0.5}, \"name\": \"61366\", \"showlegend\": true, \"showscale\": false, \"subplot\": \"mapbox\", \"type\": \"choroplethmapbox\", \"z\": [1]}, {\"colorscale\": [[0.0, \"#636efa\"], [1.0, \"#636efa\"]], \"geojson\": \"STATE\", \"hovertemplate\": \"Ages 6-21=4982<br>State Name=%{location}<extra></extra>\", \"locations\": [\"Arkansas\", \"South Carolina\"], \"marker\": {\"opacity\": 0.5}, \"name\": \"4982\", \"showlegend\": true, \"showscale\": false, \"subplot\": \"mapbox\", \"type\": \"choroplethmapbox\", \"z\": [1, 1]}, {\"colorscale\": [[0.0, \"#EF553B\"], [1.0, \"#EF553B\"]], \"geojson\": \"STATE\", \"hovertemplate\": \"Ages 6-21=-<br>State Name=%{location}<extra></extra>\", \"locations\": [\"Arkansas\", \"California\", \"Connecticut\", \"Delaware\", \"Florida\", \"Florida\", \"Georgia\", \"Guam\", \"Iowa\", \"Montana\", \"Nevada\", \"New Jersey\", \"New York\", \"North Dakota\", \"Ohio\", \"Oregon\", \"Oregon\", \"Puerto Rico\", \"Republic of Palau\", \"Texas\", \"West Virginia\", \"West Virginia\", \"Wisconsin\"], \"marker\": {\"opacity\": 0.5}, \"name\": \"-\", \"showlegend\": true, \"showscale\": false, \"subplot\": \"mapbox\", \"type\": \"choroplethmapbox\", \"z\": [1, 1, 1, 1, 1, 1, 1, 1, 1, 1, 1, 1, 1, 1, 1, 1, 1, 1, 1, 1, 1, 1, 1]}, {\"colorscale\": [[0.0, \"#00cc96\"], [1.0, \"#00cc96\"]], \"geojson\": \"STATE\", \"hovertemplate\": \"Ages 6-21=1070<br>State Name=%{location}<extra></extra>\", \"locations\": [\"Arkansas\"], \"marker\": {\"opacity\": 0.5}, \"name\": \"1070\", \"showlegend\": true, \"showscale\": false, \"subplot\": \"mapbox\", \"type\": \"choroplethmapbox\", \"z\": [1]}, {\"colorscale\": [[0.0, \"#ab63fa\"], [1.0, \"#ab63fa\"]], \"geojson\": \"STATE\", \"hovertemplate\": \"Ages 6-21=427<br>State Name=%{location}<extra></extra>\", \"locations\": [\"Arkansas\"], \"marker\": {\"opacity\": 0.5}, \"name\": \"427\", \"showlegend\": true, \"showscale\": false, \"subplot\": \"mapbox\", \"type\": \"choroplethmapbox\", \"z\": [1]}, {\"colorscale\": [[0.0, \"#FFA15A\"], [1.0, \"#FFA15A\"]], \"geojson\": \"STATE\", \"hovertemplate\": \"Ages 6-21=7381<br>State Name=%{location}<extra></extra>\", \"locations\": [\"Arkansas\"], \"marker\": {\"opacity\": 0.5}, \"name\": \"7381\", \"showlegend\": true, \"showscale\": false, \"subplot\": \"mapbox\", \"type\": \"choroplethmapbox\", \"z\": [1]}, {\"colorscale\": [[0.0, \"#19d3f3\"], [1.0, \"#19d3f3\"]], \"geojson\": \"STATE\", \"hovertemplate\": \"Ages 6-21=1358<br>State Name=%{location}<extra></extra>\", \"locations\": [\"Arkansas\"], \"marker\": {\"opacity\": 0.5}, \"name\": \"1358\", \"showlegend\": true, \"showscale\": false, \"subplot\": \"mapbox\", \"type\": \"choroplethmapbox\", \"z\": [1]}, {\"colorscale\": [[0.0, \"#FF6692\"], [1.0, \"#FF6692\"]], \"geojson\": \"STATE\", \"hovertemplate\": \"Ages 6-21=177<br>State Name=%{location}<extra></extra>\", \"locations\": [\"Arkansas\", \"Arkansas\"], \"marker\": {\"opacity\": 0.5}, \"name\": \"177\", \"showlegend\": true, \"showscale\": false, \"subplot\": \"mapbox\", \"type\": \"choroplethmapbox\", \"z\": [1, 1]}, {\"colorscale\": [[0.0, \"#B6E880\"], [1.0, \"#B6E880\"]], \"geojson\": \"STATE\", \"hovertemplate\": \"Ages 6-21=12368<br>State Name=%{location}<extra></extra>\", \"locations\": [\"Arkansas\"], \"marker\": {\"opacity\": 0.5}, \"name\": \"12368\", \"showlegend\": true, \"showscale\": false, \"subplot\": \"mapbox\", \"type\": \"choroplethmapbox\", \"z\": [1]}, {\"colorscale\": [[0.0, \"#FF97FF\"], [1.0, \"#FF97FF\"]], \"geojson\": \"STATE\", \"hovertemplate\": \"Ages 6-21=19612<br>State Name=%{location}<extra></extra>\", \"locations\": [\"Arkansas\"], \"marker\": {\"opacity\": 0.5}, \"name\": \"19612\", \"showlegend\": true, \"showscale\": false, \"subplot\": \"mapbox\", \"type\": \"choroplethmapbox\", \"z\": [1]}, {\"colorscale\": [[0.0, \"#FECB52\"], [1.0, \"#FECB52\"]], \"geojson\": \"STATE\", \"hovertemplate\": \"Ages 6-21=13574<br>State Name=%{location}<extra></extra>\", \"locations\": [\"Arkansas\"], \"marker\": {\"opacity\": 0.5}, \"name\": \"13574\", \"showlegend\": true, \"showscale\": false, \"subplot\": \"mapbox\", \"type\": \"choroplethmapbox\", \"z\": [1]}, {\"colorscale\": [[0.0, \"#636efa\"], [1.0, \"#636efa\"]], \"geojson\": \"STATE\", \"hovertemplate\": \"Ages 6-21=236<br>State Name=%{location}<extra></extra>\", \"locations\": [\"Arkansas\"], \"marker\": {\"opacity\": 0.5}, \"name\": \"236\", \"showlegend\": true, \"showscale\": false, \"subplot\": \"mapbox\", \"type\": \"choroplethmapbox\", \"z\": [1]}, {\"colorscale\": [[0.0, \"#EF553B\"], [1.0, \"#EF553B\"]], \"geojson\": \"STATE\", \"hovertemplate\": \"Ages 6-21=6514<br>State Name=%{location}<extra></extra>\", \"locations\": [\"Bureau of Indian Education\"], \"marker\": {\"opacity\": 0.5}, \"name\": \"6514\", \"showlegend\": true, \"showscale\": false, \"subplot\": \"mapbox\", \"type\": \"choroplethmapbox\", \"z\": [1]}, {\"colorscale\": [[0.0, \"#00cc96\"], [1.0, \"#00cc96\"]], \"geojson\": \"STATE\", \"hovertemplate\": \"Ages 6-21=288<br>State Name=%{location}<extra></extra>\", \"locations\": [\"Bureau of Indian Education\"], \"marker\": {\"opacity\": 0.5}, \"name\": \"288\", \"showlegend\": true, \"showscale\": false, \"subplot\": \"mapbox\", \"type\": \"choroplethmapbox\", \"z\": [1]}, {\"colorscale\": [[0.0, \"#ab63fa\"], [1.0, \"#ab63fa\"]], \"geojson\": \"STATE\", \"hovertemplate\": \"Ages 6-21=451<br>State Name=%{location}<extra></extra>\", \"locations\": [\"Bureau of Indian Education\"], \"marker\": {\"opacity\": 0.5}, \"name\": \"451\", \"showlegend\": true, \"showscale\": false, \"subplot\": \"mapbox\", \"type\": \"choroplethmapbox\", \"z\": [1]}, {\"colorscale\": [[0.0, \"#FFA15A\"], [1.0, \"#FFA15A\"]], \"geojson\": \"STATE\", \"hovertemplate\": \"Ages 6-21=295<br>State Name=%{location}<extra></extra>\", \"locations\": [\"Bureau of Indian Education\"], \"marker\": {\"opacity\": 0.5}, \"name\": \"295\", \"showlegend\": true, \"showscale\": false, \"subplot\": \"mapbox\", \"type\": \"choroplethmapbox\", \"z\": [1]}, {\"colorscale\": [[0.0, \"#19d3f3\"], [1.0, \"#19d3f3\"]], \"geojson\": \"STATE\", \"hovertemplate\": \"Ages 6-21=47<br>State Name=%{location}<extra></extra>\", \"locations\": [\"Bureau of Indian Education\", \"Northern Marianas\", \"Rhode Island\", \"Virgin Islands\"], \"marker\": {\"opacity\": 0.5}, \"name\": \"47\", \"showlegend\": true, \"showscale\": false, \"subplot\": \"mapbox\", \"type\": \"choroplethmapbox\", \"z\": [1, 1, 1, 1]}, {\"colorscale\": [[0.0, \"#FF6692\"], [1.0, \"#FF6692\"]], \"geojson\": \"STATE\", \"hovertemplate\": \"Ages 6-21=326<br>State Name=%{location}<extra></extra>\", \"locations\": [\"Bureau of Indian Education\"], \"marker\": {\"opacity\": 0.5}, \"name\": \"326\", \"showlegend\": true, \"showscale\": false, \"subplot\": \"mapbox\", \"type\": \"choroplethmapbox\", \"z\": [1]}, {\"colorscale\": [[0.0, \"#B6E880\"], [1.0, \"#B6E880\"]], \"geojson\": \"STATE\", \"hovertemplate\": \"Ages 6-21=143<br>State Name=%{location}<extra></extra>\", \"locations\": [\"Bureau of Indian Education\"], \"marker\": {\"opacity\": 0.5}, \"name\": \"143\", \"showlegend\": true, \"showscale\": false, \"subplot\": \"mapbox\", \"type\": \"choroplethmapbox\", \"z\": [1]}, {\"colorscale\": [[0.0, \"#FF97FF\"], [1.0, \"#FF97FF\"]], \"geojson\": \"STATE\", \"hovertemplate\": \"Ages 6-21=21<br>State Name=%{location}<extra></extra>\", \"locations\": [\"Bureau of Indian Education\", \"West Virginia\"], \"marker\": {\"opacity\": 0.5}, \"name\": \"21\", \"showlegend\": true, \"showscale\": false, \"subplot\": \"mapbox\", \"type\": \"choroplethmapbox\", \"z\": [1, 1]}, {\"colorscale\": [[0.0, \"#FECB52\"], [1.0, \"#FECB52\"]], \"geojson\": \"STATE\", \"hovertemplate\": \"Ages 6-21=655<br>State Name=%{location}<extra></extra>\", \"locations\": [\"Bureau of Indian Education\"], \"marker\": {\"opacity\": 0.5}, \"name\": \"655\", \"showlegend\": true, \"showscale\": false, \"subplot\": \"mapbox\", \"type\": \"choroplethmapbox\", \"z\": [1]}, {\"colorscale\": [[0.0, \"#636efa\"], [1.0, \"#636efa\"]], \"geojson\": \"STATE\", \"hovertemplate\": \"Ages 6-21=3338<br>State Name=%{location}<extra></extra>\", \"locations\": [\"Bureau of Indian Education\"], \"marker\": {\"opacity\": 0.5}, \"name\": \"3338\", \"showlegend\": true, \"showscale\": false, \"subplot\": \"mapbox\", \"type\": \"choroplethmapbox\", \"z\": [1]}, {\"colorscale\": [[0.0, \"#EF553B\"], [1.0, \"#EF553B\"]], \"geojson\": \"STATE\", \"hovertemplate\": \"Ages 6-21=909<br>State Name=%{location}<extra></extra>\", \"locations\": [\"Bureau of Indian Education\", \"Indiana\"], \"marker\": {\"opacity\": 0.5}, \"name\": \"909\", \"showlegend\": true, \"showscale\": false, \"subplot\": \"mapbox\", \"type\": \"choroplethmapbox\", \"z\": [1, 1]}, {\"colorscale\": [[0.0, \"#00cc96\"], [1.0, \"#00cc96\"]], \"geojson\": \"STATE\", \"hovertemplate\": \"Ages 6-21=28<br>State Name=%{location}<extra></extra>\", \"locations\": [\"Bureau of Indian Education\", \"Maine\", \"Michigan\", \"North Carolina\", \"Republic of the Marshall Islands\"], \"marker\": {\"opacity\": 0.5}, \"name\": \"28\", \"showlegend\": true, \"showscale\": false, \"subplot\": \"mapbox\", \"type\": \"choroplethmapbox\", \"z\": [1, 1, 1, 1, 1]}, {\"colorscale\": [[0.0, \"#ab63fa\"], [1.0, \"#ab63fa\"]], \"geojson\": \"STATE\", \"hovertemplate\": \"Ages 6-21=13<br>State Name=%{location}<extra></extra>\", \"locations\": [\"Bureau of Indian Education\", \"Puerto Rico\"], \"marker\": {\"opacity\": 0.5}, \"name\": \"13\", \"showlegend\": true, \"showscale\": false, \"subplot\": \"mapbox\", \"type\": \"choroplethmapbox\", \"z\": [1, 1]}, {\"colorscale\": [[0.0, \"#FFA15A\"], [1.0, \"#FFA15A\"]], \"geojson\": \"STATE\", \"hovertemplate\": \"Ages 6-21=701812<br>State Name=%{location}<extra></extra>\", \"locations\": [\"California\"], \"marker\": {\"opacity\": 0.5}, \"name\": \"701812\", \"showlegend\": true, \"showscale\": false, \"subplot\": \"mapbox\", \"type\": \"choroplethmapbox\", \"z\": [1]}, {\"colorscale\": [[0.0, \"#19d3f3\"], [1.0, \"#19d3f3\"]], \"geojson\": \"STATE\", \"hovertemplate\": \"Ages 6-21=97318<br>State Name=%{location}<extra></extra>\", \"locations\": [\"California\"], \"marker\": {\"opacity\": 0.5}, \"name\": \"97318\", \"showlegend\": true, \"showscale\": false, \"subplot\": \"mapbox\", \"type\": \"choroplethmapbox\", \"z\": [1]}, {\"colorscale\": [[0.0, \"#FF6692\"], [1.0, \"#FF6692\"]], \"geojson\": \"STATE\", \"hovertemplate\": \"Ages 6-21=83<br>State Name=%{location}<extra></extra>\", \"locations\": [\"California\", \"Florida\", \"Guam\", \"Idaho\"], \"marker\": {\"opacity\": 0.5}, \"name\": \"83\", \"showlegend\": true, \"showscale\": false, \"subplot\": \"mapbox\", \"type\": \"choroplethmapbox\", \"z\": [1, 1, 1, 1]}, {\"colorscale\": [[0.0, \"#B6E880\"], [1.0, \"#B6E880\"]], \"geojson\": \"STATE\", \"hovertemplate\": \"Ages 6-21=25118<br>State Name=%{location}<extra></extra>\", \"locations\": [\"California\"], \"marker\": {\"opacity\": 0.5}, \"name\": \"25118\", \"showlegend\": true, \"showscale\": false, \"subplot\": \"mapbox\", \"type\": \"choroplethmapbox\", \"z\": [1]}, {\"colorscale\": [[0.0, \"#FF97FF\"], [1.0, \"#FF97FF\"]], \"geojson\": \"STATE\", \"hovertemplate\": \"Ages 6-21=10453<br>State Name=%{location}<extra></extra>\", \"locations\": [\"California\"], \"marker\": {\"opacity\": 0.5}, \"name\": \"10453\", \"showlegend\": true, \"showscale\": false, \"subplot\": \"mapbox\", \"type\": \"choroplethmapbox\", \"z\": [1]}, {\"colorscale\": [[0.0, \"#FECB52\"], [1.0, \"#FECB52\"]], \"geojson\": \"STATE\", \"hovertemplate\": \"Ages 6-21=40021<br>State Name=%{location}<extra></extra>\", \"locations\": [\"California\"], \"marker\": {\"opacity\": 0.5}, \"name\": \"40021\", \"showlegend\": true, \"showscale\": false, \"subplot\": \"mapbox\", \"type\": \"choroplethmapbox\", \"z\": [1]}, {\"colorscale\": [[0.0, \"#636efa\"], [1.0, \"#636efa\"]], \"geojson\": \"STATE\", \"hovertemplate\": \"Ages 6-21=6192<br>State Name=%{location}<extra></extra>\", \"locations\": [\"California\"], \"marker\": {\"opacity\": 0.5}, \"name\": \"6192\", \"showlegend\": true, \"showscale\": false, \"subplot\": \"mapbox\", \"type\": \"choroplethmapbox\", \"z\": [1]}, {\"colorscale\": [[0.0, \"#EF553B\"], [1.0, \"#EF553B\"]], \"geojson\": \"STATE\", \"hovertemplate\": \"Ages 6-21=8278<br>State Name=%{location}<extra></extra>\", \"locations\": [\"California\"], \"marker\": {\"opacity\": 0.5}, \"name\": \"8278\", \"showlegend\": true, \"showscale\": false, \"subplot\": \"mapbox\", \"type\": \"choroplethmapbox\", \"z\": [1]}, {\"colorscale\": [[0.0, \"#00cc96\"], [1.0, \"#00cc96\"]], \"geojson\": \"STATE\", \"hovertemplate\": \"Ages 6-21=98615<br>State Name=%{location}<extra></extra>\", \"locations\": [\"California\"], \"marker\": {\"opacity\": 0.5}, \"name\": \"98615\", \"showlegend\": true, \"showscale\": false, \"subplot\": \"mapbox\", \"type\": \"choroplethmapbox\", \"z\": [1]}, {\"colorscale\": [[0.0, \"#ab63fa\"], [1.0, \"#ab63fa\"]], \"geojson\": \"STATE\", \"hovertemplate\": \"Ages 6-21=299652<br>State Name=%{location}<extra></extra>\", \"locations\": [\"California\"], \"marker\": {\"opacity\": 0.5}, \"name\": \"299652\", \"showlegend\": true, \"showscale\": false, \"subplot\": \"mapbox\", \"type\": \"choroplethmapbox\", \"z\": [1]}, {\"colorscale\": [[0.0, \"#FFA15A\"], [1.0, \"#FFA15A\"]], \"geojson\": \"STATE\", \"hovertemplate\": \"Ages 6-21=111679<br>State Name=%{location}<extra></extra>\", \"locations\": [\"California\"], \"marker\": {\"opacity\": 0.5}, \"name\": \"111679\", \"showlegend\": true, \"showscale\": false, \"subplot\": \"mapbox\", \"type\": \"choroplethmapbox\", \"z\": [1]}, {\"colorscale\": [[0.0, \"#19d3f3\"], [1.0, \"#19d3f3\"]], \"geojson\": \"STATE\", \"hovertemplate\": \"Ages 6-21=1465<br>State Name=%{location}<extra></extra>\", \"locations\": [\"California\"], \"marker\": {\"opacity\": 0.5}, \"name\": \"1465\", \"showlegend\": true, \"showscale\": false, \"subplot\": \"mapbox\", \"type\": \"choroplethmapbox\", \"z\": [1]}, {\"colorscale\": [[0.0, \"#FF6692\"], [1.0, \"#FF6692\"]], \"geojson\": \"STATE\", \"hovertemplate\": \"Ages 6-21=2938<br>State Name=%{location}<extra></extra>\", \"locations\": [\"California\"], \"marker\": {\"opacity\": 0.5}, \"name\": \"2938\", \"showlegend\": true, \"showscale\": false, \"subplot\": \"mapbox\", \"type\": \"choroplethmapbox\", \"z\": [1]}, {\"colorscale\": [[0.0, \"#B6E880\"], [1.0, \"#B6E880\"]], \"geojson\": \"STATE\", \"hovertemplate\": \"Ages 6-21=90715<br>State Name=%{location}<extra></extra>\", \"locations\": [\"Colorado\"], \"marker\": {\"opacity\": 0.5}, \"name\": \"90715\", \"showlegend\": true, \"showscale\": false, \"subplot\": \"mapbox\", \"type\": \"choroplethmapbox\", \"z\": [1]}, {\"colorscale\": [[0.0, \"#FF97FF\"], [1.0, \"#FF97FF\"]], \"geojson\": \"STATE\", \"hovertemplate\": \"Ages 6-21=7627<br>State Name=%{location}<extra></extra>\", \"locations\": [\"Colorado\"], \"marker\": {\"opacity\": 0.5}, \"name\": \"7627\", \"showlegend\": true, \"showscale\": false, \"subplot\": \"mapbox\", \"type\": \"choroplethmapbox\", \"z\": [1]}, {\"colorscale\": [[0.0, \"#FECB52\"], [1.0, \"#FECB52\"]], \"geojson\": \"STATE\", \"hovertemplate\": \"Ages 6-21=26<br>State Name=%{location}<extra></extra>\", \"locations\": [\"Colorado\", \"Federated States of Micronesia\", \"Illinois\", \"Virgin Islands\"], \"marker\": {\"opacity\": 0.5}, \"name\": \"26\", \"showlegend\": true, \"showscale\": false, \"subplot\": \"mapbox\", \"type\": \"choroplethmapbox\", \"z\": [1, 1, 1, 1]}, {\"colorscale\": [[0.0, \"#636efa\"], [1.0, \"#636efa\"]], \"geojson\": \"STATE\", \"hovertemplate\": \"Ages 6-21=4365<br>State Name=%{location}<extra></extra>\", \"locations\": [\"Colorado\"], \"marker\": {\"opacity\": 0.5}, \"name\": \"4365\", \"showlegend\": true, \"showscale\": false, \"subplot\": \"mapbox\", \"type\": \"choroplethmapbox\", \"z\": [1]}, {\"colorscale\": [[0.0, \"#EF553B\"], [1.0, \"#EF553B\"]], \"geojson\": \"STATE\", \"hovertemplate\": \"Ages 6-21=5596<br>State Name=%{location}<extra></extra>\", \"locations\": [\"Colorado\"], \"marker\": {\"opacity\": 0.5}, \"name\": \"5596\", \"showlegend\": true, \"showscale\": false, \"subplot\": \"mapbox\", \"type\": \"choroplethmapbox\", \"z\": [1]}, {\"colorscale\": [[0.0, \"#00cc96\"], [1.0, \"#00cc96\"]], \"geojson\": \"STATE\", \"hovertemplate\": \"Ages 6-21=1192<br>State Name=%{location}<extra></extra>\", \"locations\": [\"Colorado\"], \"marker\": {\"opacity\": 0.5}, \"name\": \"1192\", \"showlegend\": true, \"showscale\": false, \"subplot\": \"mapbox\", \"type\": \"choroplethmapbox\", \"z\": [1]}, {\"colorscale\": [[0.0, \"#ab63fa\"], [1.0, \"#ab63fa\"]], \"geojson\": \"STATE\", \"hovertemplate\": \"Ages 6-21=2505<br>State Name=%{location}<extra></extra>\", \"locations\": [\"Colorado\"], \"marker\": {\"opacity\": 0.5}, \"name\": \"2505\", \"showlegend\": true, \"showscale\": false, \"subplot\": \"mapbox\", \"type\": \"choroplethmapbox\", \"z\": [1]}, {\"colorscale\": [[0.0, \"#FFA15A\"], [1.0, \"#FFA15A\"]], \"geojson\": \"STATE\", \"hovertemplate\": \"Ages 6-21=4227<br>State Name=%{location}<extra></extra>\", \"locations\": [\"Colorado\"], \"marker\": {\"opacity\": 0.5}, \"name\": \"4227\", \"showlegend\": true, \"showscale\": false, \"subplot\": \"mapbox\", \"type\": \"choroplethmapbox\", \"z\": [1]}, {\"colorscale\": [[0.0, \"#19d3f3\"], [1.0, \"#19d3f3\"]], \"geojson\": \"STATE\", \"hovertemplate\": \"Ages 6-21=342<br>State Name=%{location}<extra></extra>\", \"locations\": [\"Colorado\"], \"marker\": {\"opacity\": 0.5}, \"name\": \"342\", \"showlegend\": true, \"showscale\": false, \"subplot\": \"mapbox\", \"type\": \"choroplethmapbox\", \"z\": [1]}, {\"colorscale\": [[0.0, \"#FF6692\"], [1.0, \"#FF6692\"]], \"geojson\": \"STATE\", \"hovertemplate\": \"Ages 6-21=11534<br>State Name=%{location}<extra></extra>\", \"locations\": [\"Colorado\"], \"marker\": {\"opacity\": 0.5}, \"name\": \"11534\", \"showlegend\": true, \"showscale\": false, \"subplot\": \"mapbox\", \"type\": \"choroplethmapbox\", \"z\": [1]}, {\"colorscale\": [[0.0, \"#B6E880\"], [1.0, \"#B6E880\"]], \"geojson\": \"STATE\", \"hovertemplate\": \"Ages 6-21=41137<br>State Name=%{location}<extra></extra>\", \"locations\": [\"Colorado\"], \"marker\": {\"opacity\": 0.5}, \"name\": \"41137\", \"showlegend\": true, \"showscale\": false, \"subplot\": \"mapbox\", \"type\": \"choroplethmapbox\", \"z\": [1]}, {\"colorscale\": [[0.0, \"#FF97FF\"], [1.0, \"#FF97FF\"]], \"geojson\": \"STATE\", \"hovertemplate\": \"Ages 6-21=11406<br>State Name=%{location}<extra></extra>\", \"locations\": [\"Colorado\"], \"marker\": {\"opacity\": 0.5}, \"name\": \"11406\", \"showlegend\": true, \"showscale\": false, \"subplot\": \"mapbox\", \"type\": \"choroplethmapbox\", \"z\": [1]}, {\"colorscale\": [[0.0, \"#FECB52\"], [1.0, \"#FECB52\"]], \"geojson\": \"STATE\", \"hovertemplate\": \"Ages 6-21=479<br>State Name=%{location}<extra></extra>\", \"locations\": [\"Colorado\"], \"marker\": {\"opacity\": 0.5}, \"name\": \"479\", \"showlegend\": true, \"showscale\": false, \"subplot\": \"mapbox\", \"type\": \"choroplethmapbox\", \"z\": [1]}, {\"colorscale\": [[0.0, \"#636efa\"], [1.0, \"#636efa\"]], \"geojson\": \"STATE\", \"hovertemplate\": \"Ages 6-21=279<br>State Name=%{location}<extra></extra>\", \"locations\": [\"Colorado\"], \"marker\": {\"opacity\": 0.5}, \"name\": \"279\", \"showlegend\": true, \"showscale\": false, \"subplot\": \"mapbox\", \"type\": \"choroplethmapbox\", \"z\": [1]}, {\"colorscale\": [[0.0, \"#EF553B\"], [1.0, \"#EF553B\"]], \"geojson\": \"STATE\", \"hovertemplate\": \"Ages 6-21=72551<br>State Name=%{location}<extra></extra>\", \"locations\": [\"Connecticut\"], \"marker\": {\"opacity\": 0.5}, \"name\": \"72551\", \"showlegend\": true, \"showscale\": false, \"subplot\": \"mapbox\", \"type\": \"choroplethmapbox\", \"z\": [1]}, {\"colorscale\": [[0.0, \"#00cc96\"], [1.0, \"#00cc96\"]], \"geojson\": \"STATE\", \"hovertemplate\": \"Ages 6-21=8971<br>State Name=%{location}<extra></extra>\", \"locations\": [\"Connecticut\"], \"marker\": {\"opacity\": 0.5}, \"name\": \"8971\", \"showlegend\": true, \"showscale\": false, \"subplot\": \"mapbox\", \"type\": \"choroplethmapbox\", \"z\": [1]}, {\"colorscale\": [[0.0, \"#ab63fa\"], [1.0, \"#ab63fa\"]], \"geojson\": \"STATE\", \"hovertemplate\": \"Ages 6-21=8<br>State Name=%{location}<extra></extra>\", \"locations\": [\"Connecticut\", \"Guam\"], \"marker\": {\"opacity\": 0.5}, \"name\": \"8\", \"showlegend\": true, \"showscale\": false, \"subplot\": \"mapbox\", \"type\": \"choroplethmapbox\", \"z\": [1, 1]}, {\"colorscale\": [[0.0, \"#FFA15A\"], [1.0, \"#FFA15A\"]], \"geojson\": \"STATE\", \"hovertemplate\": \"Ages 6-21=5691<br>State Name=%{location}<extra></extra>\", \"locations\": [\"Connecticut\"], \"marker\": {\"opacity\": 0.5}, \"name\": \"5691\", \"showlegend\": true, \"showscale\": false, \"subplot\": \"mapbox\", \"type\": \"choroplethmapbox\", \"z\": [1]}, {\"colorscale\": [[0.0, \"#19d3f3\"], [1.0, \"#19d3f3\"]], \"geojson\": \"STATE\", \"hovertemplate\": \"Ages 6-21=462<br>State Name=%{location}<extra></extra>\", \"locations\": [\"Connecticut\", \"New Jersey\"], \"marker\": {\"opacity\": 0.5}, \"name\": \"462\", \"showlegend\": true, \"showscale\": false, \"subplot\": \"mapbox\", \"type\": \"choroplethmapbox\", \"z\": [1, 1]}, {\"colorscale\": [[0.0, \"#FF6692\"], [1.0, \"#FF6692\"]], \"geojson\": \"STATE\", \"hovertemplate\": \"Ages 6-21=2570<br>State Name=%{location}<extra></extra>\", \"locations\": [\"Connecticut\"], \"marker\": {\"opacity\": 0.5}, \"name\": \"2570\", \"showlegend\": true, \"showscale\": false, \"subplot\": \"mapbox\", \"type\": \"choroplethmapbox\", \"z\": [1]}, {\"colorscale\": [[0.0, \"#B6E880\"], [1.0, \"#B6E880\"]], \"geojson\": \"STATE\", \"hovertemplate\": \"Ages 6-21=2798<br>State Name=%{location}<extra></extra>\", \"locations\": [\"Connecticut\"], \"marker\": {\"opacity\": 0.5}, \"name\": \"2798\", \"showlegend\": true, \"showscale\": false, \"subplot\": \"mapbox\", \"type\": \"choroplethmapbox\", \"z\": [1]}, {\"colorscale\": [[0.0, \"#FF97FF\"], [1.0, \"#FF97FF\"]], \"geojson\": \"STATE\", \"hovertemplate\": \"Ages 6-21=40<br>State Name=%{location}<extra></extra>\", \"locations\": [\"Connecticut\"], \"marker\": {\"opacity\": 0.5}, \"name\": \"40\", \"showlegend\": true, \"showscale\": false, \"subplot\": \"mapbox\", \"type\": \"choroplethmapbox\", \"z\": [1]}, {\"colorscale\": [[0.0, \"#FECB52\"], [1.0, \"#FECB52\"]], \"geojson\": \"STATE\", \"hovertemplate\": \"Ages 6-21=15956<br>State Name=%{location}<extra></extra>\", \"locations\": [\"Connecticut\"], \"marker\": {\"opacity\": 0.5}, \"name\": \"15956\", \"showlegend\": true, \"showscale\": false, \"subplot\": \"mapbox\", \"type\": \"choroplethmapbox\", \"z\": [1]}, {\"colorscale\": [[0.0, \"#636efa\"], [1.0, \"#636efa\"]], \"geojson\": \"STATE\", \"hovertemplate\": \"Ages 6-21=28019<br>State Name=%{location}<extra></extra>\", \"locations\": [\"Connecticut\"], \"marker\": {\"opacity\": 0.5}, \"name\": \"28019\", \"showlegend\": true, \"showscale\": false, \"subplot\": \"mapbox\", \"type\": \"choroplethmapbox\", \"z\": [1]}, {\"colorscale\": [[0.0, \"#EF553B\"], [1.0, \"#EF553B\"]], \"geojson\": \"STATE\", \"hovertemplate\": \"Ages 6-21=7814<br>State Name=%{location}<extra></extra>\", \"locations\": [\"Connecticut\"], \"marker\": {\"opacity\": 0.5}, \"name\": \"7814\", \"showlegend\": true, \"showscale\": false, \"subplot\": \"mapbox\", \"type\": \"choroplethmapbox\", \"z\": [1]}, {\"colorscale\": [[0.0, \"#00cc96\"], [1.0, \"#00cc96\"]], \"geojson\": \"STATE\", \"hovertemplate\": \"Ages 6-21=100<br>State Name=%{location}<extra></extra>\", \"locations\": [\"Connecticut\"], \"marker\": {\"opacity\": 0.5}, \"name\": \"100\", \"showlegend\": true, \"showscale\": false, \"subplot\": \"mapbox\", \"type\": \"choroplethmapbox\", \"z\": [1]}, {\"colorscale\": [[0.0, \"#ab63fa\"], [1.0, \"#ab63fa\"]], \"geojson\": \"STATE\", \"hovertemplate\": \"Ages 6-21=122<br>State Name=%{location}<extra></extra>\", \"locations\": [\"Connecticut\", \"Wyoming\"], \"marker\": {\"opacity\": 0.5}, \"name\": \"122\", \"showlegend\": true, \"showscale\": false, \"subplot\": \"mapbox\", \"type\": \"choroplethmapbox\", \"z\": [1, 1]}, {\"colorscale\": [[0.0, \"#FFA15A\"], [1.0, \"#FFA15A\"]], \"geojson\": \"STATE\", \"hovertemplate\": \"Ages 6-21=21581<br>State Name=%{location}<extra></extra>\", \"locations\": [\"Delaware\"], \"marker\": {\"opacity\": 0.5}, \"name\": \"21581\", \"showlegend\": true, \"showscale\": false, \"subplot\": \"mapbox\", \"type\": \"choroplethmapbox\", \"z\": [1]}, {\"colorscale\": [[0.0, \"#19d3f3\"], [1.0, \"#19d3f3\"]], \"geojson\": \"STATE\", \"hovertemplate\": \"Ages 6-21=1947<br>State Name=%{location}<extra></extra>\", \"locations\": [\"Delaware\"], \"marker\": {\"opacity\": 0.5}, \"name\": \"1947\", \"showlegend\": true, \"showscale\": false, \"subplot\": \"mapbox\", \"type\": \"choroplethmapbox\", \"z\": [1]}, {\"colorscale\": [[0.0, \"#FF6692\"], [1.0, \"#FF6692\"]], \"geojson\": \"STATE\", \"hovertemplate\": \"Ages 6-21=44<br>State Name=%{location}<extra></extra>\", \"locations\": [\"Delaware\"], \"marker\": {\"opacity\": 0.5}, \"name\": \"44\", \"showlegend\": true, \"showscale\": false, \"subplot\": \"mapbox\", \"type\": \"choroplethmapbox\", \"z\": [1]}, {\"colorscale\": [[0.0, \"#B6E880\"], [1.0, \"#B6E880\"]], \"geojson\": \"STATE\", \"hovertemplate\": \"Ages 6-21=1278<br>State Name=%{location}<extra></extra>\", \"locations\": [\"Delaware\"], \"marker\": {\"opacity\": 0.5}, \"name\": \"1278\", \"showlegend\": true, \"showscale\": false, \"subplot\": \"mapbox\", \"type\": \"choroplethmapbox\", \"z\": [1]}, {\"colorscale\": [[0.0, \"#FF97FF\"], [1.0, \"#FF97FF\"]], \"geojson\": \"STATE\", \"hovertemplate\": \"Ages 6-21=1152<br>State Name=%{location}<extra></extra>\", \"locations\": [\"Delaware\"], \"marker\": {\"opacity\": 0.5}, \"name\": \"1152\", \"showlegend\": true, \"showscale\": false, \"subplot\": \"mapbox\", \"type\": \"choroplethmapbox\", \"z\": [1]}, {\"colorscale\": [[0.0, \"#FECB52\"], [1.0, \"#FECB52\"]], \"geojson\": \"STATE\", \"hovertemplate\": \"Ages 6-21=210<br>State Name=%{location}<extra></extra>\", \"locations\": [\"Delaware\"], \"marker\": {\"opacity\": 0.5}, \"name\": \"210\", \"showlegend\": true, \"showscale\": false, \"subplot\": \"mapbox\", \"type\": \"choroplethmapbox\", \"z\": [1]}, {\"colorscale\": [[0.0, \"#636efa\"], [1.0, \"#636efa\"]], \"geojson\": \"STATE\", \"hovertemplate\": \"Ages 6-21=1559<br>State Name=%{location}<extra></extra>\", \"locations\": [\"Delaware\"], \"marker\": {\"opacity\": 0.5}, \"name\": \"1559\", \"showlegend\": true, \"showscale\": false, \"subplot\": \"mapbox\", \"type\": \"choroplethmapbox\", \"z\": [1]}, {\"colorscale\": [[0.0, \"#EF553B\"], [1.0, \"#EF553B\"]], \"geojson\": \"STATE\", \"hovertemplate\": \"Ages 6-21=181<br>State Name=%{location}<extra></extra>\", \"locations\": [\"Delaware\"], \"marker\": {\"opacity\": 0.5}, \"name\": \"181\", \"showlegend\": true, \"showscale\": false, \"subplot\": \"mapbox\", \"type\": \"choroplethmapbox\", \"z\": [1]}, {\"colorscale\": [[0.0, \"#00cc96\"], [1.0, \"#00cc96\"]], \"geojson\": \"STATE\", \"hovertemplate\": \"Ages 6-21=3004<br>State Name=%{location}<extra></extra>\", \"locations\": [\"Delaware\"], \"marker\": {\"opacity\": 0.5}, \"name\": \"3004\", \"showlegend\": true, \"showscale\": false, \"subplot\": \"mapbox\", \"type\": \"choroplethmapbox\", \"z\": [1]}, {\"colorscale\": [[0.0, \"#ab63fa\"], [1.0, \"#ab63fa\"]], \"geojson\": \"STATE\", \"hovertemplate\": \"Ages 6-21=10178<br>State Name=%{location}<extra></extra>\", \"locations\": [\"Delaware\"], \"marker\": {\"opacity\": 0.5}, \"name\": \"10178\", \"showlegend\": true, \"showscale\": false, \"subplot\": \"mapbox\", \"type\": \"choroplethmapbox\", \"z\": [1]}, {\"colorscale\": [[0.0, \"#FFA15A\"], [1.0, \"#FFA15A\"]], \"geojson\": \"STATE\", \"hovertemplate\": \"Ages 6-21=1891<br>State Name=%{location}<extra></extra>\", \"locations\": [\"Delaware\"], \"marker\": {\"opacity\": 0.5}, \"name\": \"1891\", \"showlegend\": true, \"showscale\": false, \"subplot\": \"mapbox\", \"type\": \"choroplethmapbox\", \"z\": [1]}, {\"colorscale\": [[0.0, \"#19d3f3\"], [1.0, \"#19d3f3\"]], \"geojson\": \"STATE\", \"hovertemplate\": \"Ages 6-21=72<br>State Name=%{location}<extra></extra>\", \"locations\": [\"Delaware\", \"New Hampshire\"], \"marker\": {\"opacity\": 0.5}, \"name\": \"72\", \"showlegend\": true, \"showscale\": false, \"subplot\": \"mapbox\", \"type\": \"choroplethmapbox\", \"z\": [1, 1]}, {\"colorscale\": [[0.0, \"#FF6692\"], [1.0, \"#FF6692\"]], \"geojson\": \"STATE\", \"hovertemplate\": \"Ages 6-21=65<br>State Name=%{location}<extra></extra>\", \"locations\": [\"Delaware\", \"Ohio\", \"Wyoming\"], \"marker\": {\"opacity\": 0.5}, \"name\": \"65\", \"showlegend\": true, \"showscale\": false, \"subplot\": \"mapbox\", \"type\": \"choroplethmapbox\", \"z\": [1, 1, 1]}, {\"colorscale\": [[0.0, \"#B6E880\"], [1.0, \"#B6E880\"]], \"geojson\": \"STATE\", \"hovertemplate\": \"Ages 6-21=12218<br>State Name=%{location}<extra></extra>\", \"locations\": [\"District of Columbia\"], \"marker\": {\"opacity\": 0.5}, \"name\": \"12218\", \"showlegend\": true, \"showscale\": false, \"subplot\": \"mapbox\", \"type\": \"choroplethmapbox\", \"z\": [1]}, {\"colorscale\": [[0.0, \"#FF97FF\"], [1.0, \"#FF97FF\"]], \"geojson\": \"STATE\", \"hovertemplate\": \"Ages 6-21=1048<br>State Name=%{location}<extra></extra>\", \"locations\": [\"District of Columbia\"], \"marker\": {\"opacity\": 0.5}, \"name\": \"1048\", \"showlegend\": true, \"showscale\": false, \"subplot\": \"mapbox\", \"type\": \"choroplethmapbox\", \"z\": [1]}, {\"colorscale\": [[0.0, \"#FECB52\"], [1.0, \"#FECB52\"]], \"geojson\": \"STATE\", \"hovertemplate\": \"Ages 6-21=527<br>State Name=%{location}<extra></extra>\", \"locations\": [\"District of Columbia\"], \"marker\": {\"opacity\": 0.5}, \"name\": \"527\", \"showlegend\": true, \"showscale\": false, \"subplot\": \"mapbox\", \"type\": \"choroplethmapbox\", \"z\": [1]}, {\"colorscale\": [[0.0, \"#636efa\"], [1.0, \"#636efa\"]], \"geojson\": \"STATE\", \"hovertemplate\": \"Ages 6-21=827<br>State Name=%{location}<extra></extra>\", \"locations\": [\"District of Columbia\"], \"marker\": {\"opacity\": 0.5}, \"name\": \"827\", \"showlegend\": true, \"showscale\": false, \"subplot\": \"mapbox\", \"type\": \"choroplethmapbox\", \"z\": [1]}, {\"colorscale\": [[0.0, \"#EF553B\"], [1.0, \"#EF553B\"]], \"geojson\": \"STATE\", \"hovertemplate\": \"Ages 6-21=30<br>State Name=%{location}<extra></extra>\", \"locations\": [\"District of Columbia\", \"Indiana\", \"Vermont\"], \"marker\": {\"opacity\": 0.5}, \"name\": \"30\", \"showlegend\": true, \"showscale\": false, \"subplot\": \"mapbox\", \"type\": \"choroplethmapbox\", \"z\": [1, 1, 1]}, {\"colorscale\": [[0.0, \"#00cc96\"], [1.0, \"#00cc96\"]], \"geojson\": \"STATE\", \"hovertemplate\": \"Ages 6-21=725<br>State Name=%{location}<extra></extra>\", \"locations\": [\"District of Columbia\", \"Georgia\"], \"marker\": {\"opacity\": 0.5}, \"name\": \"725\", \"showlegend\": true, \"showscale\": false, \"subplot\": \"mapbox\", \"type\": \"choroplethmapbox\", \"z\": [1, 1]}, {\"colorscale\": [[0.0, \"#ab63fa\"], [1.0, \"#ab63fa\"]], \"geojson\": \"STATE\", \"hovertemplate\": \"Ages 6-21=1477<br>State Name=%{location}<extra></extra>\", \"locations\": [\"District of Columbia\"], \"marker\": {\"opacity\": 0.5}, \"name\": \"1477\", \"showlegend\": true, \"showscale\": false, \"subplot\": \"mapbox\", \"type\": \"choroplethmapbox\", \"z\": [1]}, {\"colorscale\": [[0.0, \"#FFA15A\"], [1.0, \"#FFA15A\"]], \"geojson\": \"STATE\", \"hovertemplate\": \"Ages 6-21=18<br>State Name=%{location}<extra></extra>\", \"locations\": [\"District of Columbia\", \"Kansas\", \"Northern Marianas\"], \"marker\": {\"opacity\": 0.5}, \"name\": \"18\", \"showlegend\": true, \"showscale\": false, \"subplot\": \"mapbox\", \"type\": \"choroplethmapbox\", \"z\": [1, 1, 1]}, {\"colorscale\": [[0.0, \"#19d3f3\"], [1.0, \"#19d3f3\"]], \"geojson\": \"STATE\", \"hovertemplate\": \"Ages 6-21=2151<br>State Name=%{location}<extra></extra>\", \"locations\": [\"District of Columbia\"], \"marker\": {\"opacity\": 0.5}, \"name\": \"2151\", \"showlegend\": true, \"showscale\": false, \"subplot\": \"mapbox\", \"type\": \"choroplethmapbox\", \"z\": [1]}, {\"colorscale\": [[0.0, \"#FF6692\"], [1.0, \"#FF6692\"]], \"geojson\": \"STATE\", \"hovertemplate\": \"Ages 6-21=4380<br>State Name=%{location}<extra></extra>\", \"locations\": [\"District of Columbia\"], \"marker\": {\"opacity\": 0.5}, \"name\": \"4380\", \"showlegend\": true, \"showscale\": false, \"subplot\": \"mapbox\", \"type\": \"choroplethmapbox\", \"z\": [1]}, {\"colorscale\": [[0.0, \"#B6E880\"], [1.0, \"#B6E880\"]], \"geojson\": \"STATE\", \"hovertemplate\": \"Ages 6-21=987<br>State Name=%{location}<extra></extra>\", \"locations\": [\"District of Columbia\"], \"marker\": {\"opacity\": 0.5}, \"name\": \"987\", \"showlegend\": true, \"showscale\": false, \"subplot\": \"mapbox\", \"type\": \"choroplethmapbox\", \"z\": [1]}, {\"colorscale\": [[0.0, \"#FF97FF\"], [1.0, \"#FF97FF\"]], \"geojson\": \"STATE\", \"hovertemplate\": \"Ages 6-21=27<br>State Name=%{location}<extra></extra>\", \"locations\": [\"District of Columbia\", \"Missouri\", \"Puerto Rico\"], \"marker\": {\"opacity\": 0.5}, \"name\": \"27\", \"showlegend\": true, \"showscale\": false, \"subplot\": \"mapbox\", \"type\": \"choroplethmapbox\", \"z\": [1, 1, 1]}, {\"colorscale\": [[0.0, \"#FECB52\"], [1.0, \"#FECB52\"]], \"geojson\": \"STATE\", \"hovertemplate\": \"Ages 6-21=20<br>State Name=%{location}<extra></extra>\", \"locations\": [\"District of Columbia\", \"Northern Marianas\", \"Oklahoma\"], \"marker\": {\"opacity\": 0.5}, \"name\": \"20\", \"showlegend\": true, \"showscale\": false, \"subplot\": \"mapbox\", \"type\": \"choroplethmapbox\", \"z\": [1, 1, 1]}, {\"colorscale\": [[0.0, \"#636efa\"], [1.0, \"#636efa\"]], \"geojson\": \"STATE\", \"hovertemplate\": \"Ages 6-21=1689<br>State Name=%{location}<extra></extra>\", \"locations\": [\"Federated States of Micronesia\"], \"marker\": {\"opacity\": 0.5}, \"name\": \"1689\", \"showlegend\": true, \"showscale\": false, \"subplot\": \"mapbox\", \"type\": \"choroplethmapbox\", \"z\": [1]}, {\"colorscale\": [[0.0, \"#EF553B\"], [1.0, \"#EF553B\"]], \"geojson\": \"STATE\", \"hovertemplate\": \"Ages 6-21=17<br>State Name=%{location}<extra></extra>\", \"locations\": [\"Federated States of Micronesia\", \"South Carolina\", \"Vermont\"], \"marker\": {\"opacity\": 0.5}, \"name\": \"17\", \"showlegend\": true, \"showscale\": false, \"subplot\": \"mapbox\", \"type\": \"choroplethmapbox\", \"z\": [1, 1, 1]}, {\"colorscale\": [[0.0, \"#00cc96\"], [1.0, \"#00cc96\"]], \"geojson\": \"STATE\", \"hovertemplate\": \"Ages 6-21=96<br>State Name=%{location}<extra></extra>\", \"locations\": [\"Federated States of Micronesia\"], \"marker\": {\"opacity\": 0.5}, \"name\": \"96\", \"showlegend\": true, \"showscale\": false, \"subplot\": \"mapbox\", \"type\": \"choroplethmapbox\", \"z\": [1]}, {\"colorscale\": [[0.0, \"#ab63fa\"], [1.0, \"#ab63fa\"]], \"geojson\": \"STATE\", \"hovertemplate\": \"Ages 6-21=54<br>State Name=%{location}<extra></extra>\", \"locations\": [\"Federated States of Micronesia\", \"Montana\"], \"marker\": {\"opacity\": 0.5}, \"name\": \"54\", \"showlegend\": true, \"showscale\": false, \"subplot\": \"mapbox\", \"type\": \"choroplethmapbox\", \"z\": [1, 1]}, {\"colorscale\": [[0.0, \"#FFA15A\"], [1.0, \"#FFA15A\"]], \"geojson\": \"STATE\", \"hovertemplate\": \"Ages 6-21=43<br>State Name=%{location}<extra></extra>\", \"locations\": [\"Federated States of Micronesia\", \"North Dakota\"], \"marker\": {\"opacity\": 0.5}, \"name\": \"43\", \"showlegend\": true, \"showscale\": false, \"subplot\": \"mapbox\", \"type\": \"choroplethmapbox\", \"z\": [1, 1]}, {\"colorscale\": [[0.0, \"#19d3f3\"], [1.0, \"#19d3f3\"]], \"geojson\": \"STATE\", \"hovertemplate\": \"Ages 6-21=34<br>State Name=%{location}<extra></extra>\", \"locations\": [\"Federated States of Micronesia\", \"Hawaii\"], \"marker\": {\"opacity\": 0.5}, \"name\": \"34\", \"showlegend\": true, \"showscale\": false, \"subplot\": \"mapbox\", \"type\": \"choroplethmapbox\", \"z\": [1, 1]}, {\"colorscale\": [[0.0, \"#FF6692\"], [1.0, \"#FF6692\"]], \"geojson\": \"STATE\", \"hovertemplate\": \"Ages 6-21=61<br>State Name=%{location}<extra></extra>\", \"locations\": [\"Federated States of Micronesia\"], \"marker\": {\"opacity\": 0.5}, \"name\": \"61\", \"showlegend\": true, \"showscale\": false, \"subplot\": \"mapbox\", \"type\": \"choroplethmapbox\", \"z\": [1]}, {\"colorscale\": [[0.0, \"#B6E880\"], [1.0, \"#B6E880\"]], \"geojson\": \"STATE\", \"hovertemplate\": \"Ages 6-21=1219<br>State Name=%{location}<extra></extra>\", \"locations\": [\"Federated States of Micronesia\"], \"marker\": {\"opacity\": 0.5}, \"name\": \"1219\", \"showlegend\": true, \"showscale\": false, \"subplot\": \"mapbox\", \"type\": \"choroplethmapbox\", \"z\": [1]}, {\"colorscale\": [[0.0, \"#FF97FF\"], [1.0, \"#FF97FF\"]], \"geojson\": \"STATE\", \"hovertemplate\": \"Ages 6-21=59<br>State Name=%{location}<extra></extra>\", \"locations\": [\"Federated States of Micronesia\", \"Guam\", \"Vermont\"], \"marker\": {\"opacity\": 0.5}, \"name\": \"59\", \"showlegend\": true, \"showscale\": false, \"subplot\": \"mapbox\", \"type\": \"choroplethmapbox\", \"z\": [1, 1, 1]}, {\"colorscale\": [[0.0, \"#FECB52\"], [1.0, \"#FECB52\"]], \"geojson\": \"STATE\", \"hovertemplate\": \"Ages 6-21=74<br>State Name=%{location}<extra></extra>\", \"locations\": [\"Federated States of Micronesia\"], \"marker\": {\"opacity\": 0.5}, \"name\": \"74\", \"showlegend\": true, \"showscale\": false, \"subplot\": \"mapbox\", \"type\": \"choroplethmapbox\", \"z\": [1]}, {\"colorscale\": [[0.0, \"#636efa\"], [1.0, \"#636efa\"]], \"geojson\": \"STATE\", \"hovertemplate\": \"Ages 6-21=363720<br>State Name=%{location}<extra></extra>\", \"locations\": [\"Florida\"], \"marker\": {\"opacity\": 0.5}, \"name\": \"363720\", \"showlegend\": true, \"showscale\": false, \"subplot\": \"mapbox\", \"type\": \"choroplethmapbox\", \"z\": [1]}, {\"colorscale\": [[0.0, \"#EF553B\"], [1.0, \"#EF553B\"]], \"geojson\": \"STATE\", \"hovertemplate\": \"Ages 6-21=39856<br>State Name=%{location}<extra></extra>\", \"locations\": [\"Florida\"], \"marker\": {\"opacity\": 0.5}, \"name\": \"39856\", \"showlegend\": true, \"showscale\": false, \"subplot\": \"mapbox\", \"type\": \"choroplethmapbox\", \"z\": [1]}, {\"colorscale\": [[0.0, \"#00cc96\"], [1.0, \"#00cc96\"]], \"geojson\": \"STATE\", \"hovertemplate\": \"Ages 6-21=14604<br>State Name=%{location}<extra></extra>\", \"locations\": [\"Florida\"], \"marker\": {\"opacity\": 0.5}, \"name\": \"14604\", \"showlegend\": true, \"showscale\": false, \"subplot\": \"mapbox\", \"type\": \"choroplethmapbox\", \"z\": [1]}, {\"colorscale\": [[0.0, \"#ab63fa\"], [1.0, \"#ab63fa\"]], \"geojson\": \"STATE\", \"hovertemplate\": \"Ages 6-21=3893<br>State Name=%{location}<extra></extra>\", \"locations\": [\"Florida\"], \"marker\": {\"opacity\": 0.5}, \"name\": \"3893\", \"showlegend\": true, \"showscale\": false, \"subplot\": \"mapbox\", \"type\": \"choroplethmapbox\", \"z\": [1]}, {\"colorscale\": [[0.0, \"#FFA15A\"], [1.0, \"#FFA15A\"]], \"geojson\": \"STATE\", \"hovertemplate\": \"Ages 6-21=24879<br>State Name=%{location}<extra></extra>\", \"locations\": [\"Florida\"], \"marker\": {\"opacity\": 0.5}, \"name\": \"24879\", \"showlegend\": true, \"showscale\": false, \"subplot\": \"mapbox\", \"type\": \"choroplethmapbox\", \"z\": [1]}, {\"colorscale\": [[0.0, \"#19d3f3\"], [1.0, \"#19d3f3\"]], \"geojson\": \"STATE\", \"hovertemplate\": \"Ages 6-21=2322<br>State Name=%{location}<extra></extra>\", \"locations\": [\"Florida\"], \"marker\": {\"opacity\": 0.5}, \"name\": \"2322\", \"showlegend\": true, \"showscale\": false, \"subplot\": \"mapbox\", \"type\": \"choroplethmapbox\", \"z\": [1]}, {\"colorscale\": [[0.0, \"#FF6692\"], [1.0, \"#FF6692\"]], \"geojson\": \"STATE\", \"hovertemplate\": \"Ages 6-21=44157<br>State Name=%{location}<extra></extra>\", \"locations\": [\"Florida\"], \"marker\": {\"opacity\": 0.5}, \"name\": \"44157\", \"showlegend\": true, \"showscale\": false, \"subplot\": \"mapbox\", \"type\": \"choroplethmapbox\", \"z\": [1]}, {\"colorscale\": [[0.0, \"#B6E880\"], [1.0, \"#B6E880\"]], \"geojson\": \"STATE\", \"hovertemplate\": \"Ages 6-21=151821<br>State Name=%{location}<extra></extra>\", \"locations\": [\"Florida\"], \"marker\": {\"opacity\": 0.5}, \"name\": \"151821\", \"showlegend\": true, \"showscale\": false, \"subplot\": \"mapbox\", \"type\": \"choroplethmapbox\", \"z\": [1]}, {\"colorscale\": [[0.0, \"#FF97FF\"], [1.0, \"#FF97FF\"]], \"geojson\": \"STATE\", \"hovertemplate\": \"Ages 6-21=80357<br>State Name=%{location}<extra></extra>\", \"locations\": [\"Florida\"], \"marker\": {\"opacity\": 0.5}, \"name\": \"80357\", \"showlegend\": true, \"showscale\": false, \"subplot\": \"mapbox\", \"type\": \"choroplethmapbox\", \"z\": [1]}, {\"colorscale\": [[0.0, \"#FECB52\"], [1.0, \"#FECB52\"]], \"geojson\": \"STATE\", \"hovertemplate\": \"Ages 6-21=493<br>State Name=%{location}<extra></extra>\", \"locations\": [\"Florida\"], \"marker\": {\"opacity\": 0.5}, \"name\": \"493\", \"showlegend\": true, \"showscale\": false, \"subplot\": \"mapbox\", \"type\": \"choroplethmapbox\", \"z\": [1]}, {\"colorscale\": [[0.0, \"#636efa\"], [1.0, \"#636efa\"]], \"geojson\": \"STATE\", \"hovertemplate\": \"Ages 6-21=1255<br>State Name=%{location}<extra></extra>\", \"locations\": [\"Florida\"], \"marker\": {\"opacity\": 0.5}, \"name\": \"1255\", \"showlegend\": true, \"showscale\": false, \"subplot\": \"mapbox\", \"type\": \"choroplethmapbox\", \"z\": [1]}, {\"colorscale\": [[0.0, \"#EF553B\"], [1.0, \"#EF553B\"]], \"geojson\": \"STATE\", \"hovertemplate\": \"Ages 6-21=200450<br>State Name=%{location}<extra></extra>\", \"locations\": [\"Georgia\"], \"marker\": {\"opacity\": 0.5}, \"name\": \"200450\", \"showlegend\": true, \"showscale\": false, \"subplot\": \"mapbox\", \"type\": \"choroplethmapbox\", \"z\": [1]}, {\"colorscale\": [[0.0, \"#00cc96\"], [1.0, \"#00cc96\"]], \"geojson\": \"STATE\", \"hovertemplate\": \"Ages 6-21=20643<br>State Name=%{location}<extra></extra>\", \"locations\": [\"Georgia\"], \"marker\": {\"opacity\": 0.5}, \"name\": \"20643\", \"showlegend\": true, \"showscale\": false, \"subplot\": \"mapbox\", \"type\": \"choroplethmapbox\", \"z\": [1]}, {\"colorscale\": [[0.0, \"#ab63fa\"], [1.0, \"#ab63fa\"]], \"geojson\": \"STATE\", \"hovertemplate\": \"Ages 6-21=29<br>State Name=%{location}<extra></extra>\", \"locations\": [\"Georgia\", \"Republic of the Marshall Islands\"], \"marker\": {\"opacity\": 0.5}, \"name\": \"29\", \"showlegend\": true, \"showscale\": false, \"subplot\": \"mapbox\", \"type\": \"choroplethmapbox\", \"z\": [1, 1]}, {\"colorscale\": [[0.0, \"#FFA15A\"], [1.0, \"#FFA15A\"]], \"geojson\": \"STATE\", \"hovertemplate\": \"Ages 6-21=15242<br>State Name=%{location}<extra></extra>\", \"locations\": [\"Georgia\"], \"marker\": {\"opacity\": 0.5}, \"name\": \"15242\", \"showlegend\": true, \"showscale\": false, \"subplot\": \"mapbox\", \"type\": \"choroplethmapbox\", \"z\": [1]}, {\"colorscale\": [[0.0, \"#19d3f3\"], [1.0, \"#19d3f3\"]], \"geojson\": \"STATE\", \"hovertemplate\": \"Ages 6-21=10286<br>State Name=%{location}<extra></extra>\", \"locations\": [\"Georgia\"], \"marker\": {\"opacity\": 0.5}, \"name\": \"10286\", \"showlegend\": true, \"showscale\": false, \"subplot\": \"mapbox\", \"type\": \"choroplethmapbox\", \"z\": [1]}, {\"colorscale\": [[0.0, \"#FF6692\"], [1.0, \"#FF6692\"]], \"geojson\": \"STATE\", \"hovertemplate\": \"Ages 6-21=1653<br>State Name=%{location}<extra></extra>\", \"locations\": [\"Georgia\"], \"marker\": {\"opacity\": 0.5}, \"name\": \"1653\", \"showlegend\": true, \"showscale\": false, \"subplot\": \"mapbox\", \"type\": \"choroplethmapbox\", \"z\": [1]}, {\"colorscale\": [[0.0, \"#B6E880\"], [1.0, \"#B6E880\"]], \"geojson\": \"STATE\", \"hovertemplate\": \"Ages 6-21=16631<br>State Name=%{location}<extra></extra>\", \"locations\": [\"Georgia\"], \"marker\": {\"opacity\": 0.5}, \"name\": \"16631\", \"showlegend\": true, \"showscale\": false, \"subplot\": \"mapbox\", \"type\": \"choroplethmapbox\", \"z\": [1]}, {\"colorscale\": [[0.0, \"#FF97FF\"], [1.0, \"#FF97FF\"]], \"geojson\": \"STATE\", \"hovertemplate\": \"Ages 6-21=688<br>State Name=%{location}<extra></extra>\", \"locations\": [\"Georgia\"], \"marker\": {\"opacity\": 0.5}, \"name\": \"688\", \"showlegend\": true, \"showscale\": false, \"subplot\": \"mapbox\", \"type\": \"choroplethmapbox\", \"z\": [1]}, {\"colorscale\": [[0.0, \"#FECB52\"], [1.0, \"#FECB52\"]], \"geojson\": \"STATE\", \"hovertemplate\": \"Ages 6-21=33847<br>State Name=%{location}<extra></extra>\", \"locations\": [\"Georgia\"], \"marker\": {\"opacity\": 0.5}, \"name\": \"33847\", \"showlegend\": true, \"showscale\": false, \"subplot\": \"mapbox\", \"type\": \"choroplethmapbox\", \"z\": [1]}, {\"colorscale\": [[0.0, \"#636efa\"], [1.0, \"#636efa\"]], \"geojson\": \"STATE\", \"hovertemplate\": \"Ages 6-21=76925<br>State Name=%{location}<extra></extra>\", \"locations\": [\"Georgia\"], \"marker\": {\"opacity\": 0.5}, \"name\": \"76925\", \"showlegend\": true, \"showscale\": false, \"subplot\": \"mapbox\", \"type\": \"choroplethmapbox\", \"z\": [1]}, {\"colorscale\": [[0.0, \"#EF553B\"], [1.0, \"#EF553B\"]], \"geojson\": \"STATE\", \"hovertemplate\": \"Ages 6-21=23378<br>State Name=%{location}<extra></extra>\", \"locations\": [\"Georgia\"], \"marker\": {\"opacity\": 0.5}, \"name\": \"23378\", \"showlegend\": true, \"showscale\": false, \"subplot\": \"mapbox\", \"type\": \"choroplethmapbox\", \"z\": [1]}, {\"colorscale\": [[0.0, \"#00cc96\"], [1.0, \"#00cc96\"]], \"geojson\": \"STATE\", \"hovertemplate\": \"Ages 6-21=403<br>State Name=%{location}<extra></extra>\", \"locations\": [\"Georgia\", \"Virginia\"], \"marker\": {\"opacity\": 0.5}, \"name\": \"403\", \"showlegend\": true, \"showscale\": false, \"subplot\": \"mapbox\", \"type\": \"choroplethmapbox\", \"z\": [1, 1]}, {\"colorscale\": [[0.0, \"#ab63fa\"], [1.0, \"#ab63fa\"]], \"geojson\": \"STATE\", \"hovertemplate\": \"Ages 6-21=1780<br>State Name=%{location}<extra></extra>\", \"locations\": [\"Guam\"], \"marker\": {\"opacity\": 0.5}, \"name\": \"1780\", \"showlegend\": true, \"showscale\": false, \"subplot\": \"mapbox\", \"type\": \"choroplethmapbox\", \"z\": [1]}, {\"colorscale\": [[0.0, \"#FFA15A\"], [1.0, \"#FFA15A\"]], \"geojson\": \"STATE\", \"hovertemplate\": \"Ages 6-21=186<br>State Name=%{location}<extra></extra>\", \"locations\": [\"Guam\", \"Kansas\", \"Nebraska\", \"South Carolina\"], \"marker\": {\"opacity\": 0.5}, \"name\": \"186\", \"showlegend\": true, \"showscale\": false, \"subplot\": \"mapbox\", \"type\": \"choroplethmapbox\", \"z\": [1, 1, 1, 1]}, {\"colorscale\": [[0.0, \"#19d3f3\"], [1.0, \"#19d3f3\"]], \"geojson\": \"STATE\", \"hovertemplate\": \"Ages 6-21=31<br>State Name=%{location}<extra></extra>\", \"locations\": [\"Guam\"], \"marker\": {\"opacity\": 0.5}, \"name\": \"31\", \"showlegend\": true, \"showscale\": false, \"subplot\": \"mapbox\", \"type\": \"choroplethmapbox\", \"z\": [1]}, {\"colorscale\": [[0.0, \"#FF6692\"], [1.0, \"#FF6692\"]], \"geojson\": \"STATE\", \"hovertemplate\": \"Ages 6-21=78<br>State Name=%{location}<extra></extra>\", \"locations\": [\"Guam\", \"Iowa\", \"Iowa\"], \"marker\": {\"opacity\": 0.5}, \"name\": \"78\", \"showlegend\": true, \"showscale\": false, \"subplot\": \"mapbox\", \"type\": \"choroplethmapbox\", \"z\": [1, 1, 1]}, {\"colorscale\": [[0.0, \"#B6E880\"], [1.0, \"#B6E880\"]], \"geojson\": \"STATE\", \"hovertemplate\": \"Ages 6-21=202<br>State Name=%{location}<extra></extra>\", \"locations\": [\"Guam\"], \"marker\": {\"opacity\": 0.5}, \"name\": \"202\", \"showlegend\": true, \"showscale\": false, \"subplot\": \"mapbox\", \"type\": \"choroplethmapbox\", \"z\": [1]}, {\"colorscale\": [[0.0, \"#FF97FF\"], [1.0, \"#FF97FF\"]], \"geojson\": \"STATE\", \"hovertemplate\": \"Ages 6-21=1037<br>State Name=%{location}<extra></extra>\", \"locations\": [\"Guam\"], \"marker\": {\"opacity\": 0.5}, \"name\": \"1037\", \"showlegend\": true, \"showscale\": false, \"subplot\": \"mapbox\", \"type\": \"choroplethmapbox\", \"z\": [1]}, {\"colorscale\": [[0.0, \"#FECB52\"], [1.0, \"#FECB52\"]], \"geojson\": \"STATE\", \"hovertemplate\": \"Ages 6-21=76<br>State Name=%{location}<extra></extra>\", \"locations\": [\"Guam\", \"Pennsylvania\"], \"marker\": {\"opacity\": 0.5}, \"name\": \"76\", \"showlegend\": true, \"showscale\": false, \"subplot\": \"mapbox\", \"type\": \"choroplethmapbox\", \"z\": [1, 1]}, {\"colorscale\": [[0.0, \"#636efa\"], [1.0, \"#636efa\"]], \"geojson\": \"STATE\", \"hovertemplate\": \"Ages 6-21=16<br>State Name=%{location}<extra></extra>\", \"locations\": [\"Guam\", \"Republic of the Marshall Islands\", \"Tennessee\", \"Virginia\"], \"marker\": {\"opacity\": 0.5}, \"name\": \"16\", \"showlegend\": true, \"showscale\": false, \"subplot\": \"mapbox\", \"type\": \"choroplethmapbox\", \"z\": [1, 1, 1, 1]}, {\"colorscale\": [[0.0, \"#EF553B\"], [1.0, \"#EF553B\"]], \"geojson\": \"STATE\", \"hovertemplate\": \"Ages 6-21=17037<br>State Name=%{location}<extra></extra>\", \"locations\": [\"Hawaii\"], \"marker\": {\"opacity\": 0.5}, \"name\": \"17037\", \"showlegend\": true, \"showscale\": false, \"subplot\": \"mapbox\", \"type\": \"choroplethmapbox\", \"z\": [1]}, {\"colorscale\": [[0.0, \"#00cc96\"], [1.0, \"#00cc96\"]], \"geojson\": \"STATE\", \"hovertemplate\": \"Ages 6-21=1638<br>State Name=%{location}<extra></extra>\", \"locations\": [\"Hawaii\"], \"marker\": {\"opacity\": 0.5}, \"name\": \"1638\", \"showlegend\": true, \"showscale\": false, \"subplot\": \"mapbox\", \"type\": \"choroplethmapbox\", \"z\": [1]}, {\"colorscale\": [[0.0, \"#ab63fa\"], [1.0, \"#ab63fa\"]], \"geojson\": \"STATE\", \"hovertemplate\": \"Ages 6-21=1092<br>State Name=%{location}<extra></extra>\", \"locations\": [\"Hawaii\"], \"marker\": {\"opacity\": 0.5}, \"name\": \"1092\", \"showlegend\": true, \"showscale\": false, \"subplot\": \"mapbox\", \"type\": \"choroplethmapbox\", \"z\": [1]}, {\"colorscale\": [[0.0, \"#FFA15A\"], [1.0, \"#FFA15A\"]], \"geojson\": \"STATE\", \"hovertemplate\": \"Ages 6-21=947<br>State Name=%{location}<extra></extra>\", \"locations\": [\"Hawaii\"], \"marker\": {\"opacity\": 0.5}, \"name\": \"947\", \"showlegend\": true, \"showscale\": false, \"subplot\": \"mapbox\", \"type\": \"choroplethmapbox\", \"z\": [1]}, {\"colorscale\": [[0.0, \"#19d3f3\"], [1.0, \"#19d3f3\"]], \"geojson\": \"STATE\", \"hovertemplate\": \"Ages 6-21=226<br>State Name=%{location}<extra></extra>\", \"locations\": [\"Hawaii\"], \"marker\": {\"opacity\": 0.5}, \"name\": \"226\", \"showlegend\": true, \"showscale\": false, \"subplot\": \"mapbox\", \"type\": \"choroplethmapbox\", \"z\": [1]}, {\"colorscale\": [[0.0, \"#FF6692\"], [1.0, \"#FF6692\"]], \"geojson\": \"STATE\", \"hovertemplate\": \"Ages 6-21=1281<br>State Name=%{location}<extra></extra>\", \"locations\": [\"Hawaii\"], \"marker\": {\"opacity\": 0.5}, \"name\": \"1281\", \"showlegend\": true, \"showscale\": false, \"subplot\": \"mapbox\", \"type\": \"choroplethmapbox\", \"z\": [1]}, {\"colorscale\": [[0.0, \"#B6E880\"], [1.0, \"#B6E880\"]], \"geojson\": \"STATE\", \"hovertemplate\": \"Ages 6-21=628<br>State Name=%{location}<extra></extra>\", \"locations\": [\"Hawaii\"], \"marker\": {\"opacity\": 0.5}, \"name\": \"628\", \"showlegend\": true, \"showscale\": false, \"subplot\": \"mapbox\", \"type\": \"choroplethmapbox\", \"z\": [1]}, {\"colorscale\": [[0.0, \"#FF97FF\"], [1.0, \"#FF97FF\"]], \"geojson\": \"STATE\", \"hovertemplate\": \"Ages 6-21=58<br>State Name=%{location}<extra></extra>\", \"locations\": [\"Hawaii\", \"Wyoming\"], \"marker\": {\"opacity\": 0.5}, \"name\": \"58\", \"showlegend\": true, \"showscale\": false, \"subplot\": \"mapbox\", \"type\": \"choroplethmapbox\", \"z\": [1, 1]}, {\"colorscale\": [[0.0, \"#FECB52\"], [1.0, \"#FECB52\"]], \"geojson\": \"STATE\", \"hovertemplate\": \"Ages 6-21=2996<br>State Name=%{location}<extra></extra>\", \"locations\": [\"Hawaii\"], \"marker\": {\"opacity\": 0.5}, \"name\": \"2996\", \"showlegend\": true, \"showscale\": false, \"subplot\": \"mapbox\", \"type\": \"choroplethmapbox\", \"z\": [1]}, {\"colorscale\": [[0.0, \"#636efa\"], [1.0, \"#636efa\"]], \"geojson\": \"STATE\", \"hovertemplate\": \"Ages 6-21=7530<br>State Name=%{location}<extra></extra>\", \"locations\": [\"Hawaii\"], \"marker\": {\"opacity\": 0.5}, \"name\": \"7530\", \"showlegend\": true, \"showscale\": false, \"subplot\": \"mapbox\", \"type\": \"choroplethmapbox\", \"z\": [1]}, {\"colorscale\": [[0.0, \"#EF553B\"], [1.0, \"#EF553B\"]], \"geojson\": \"STATE\", \"hovertemplate\": \"Ages 6-21=544<br>State Name=%{location}<extra></extra>\", \"locations\": [\"Hawaii\"], \"marker\": {\"opacity\": 0.5}, \"name\": \"544\", \"showlegend\": true, \"showscale\": false, \"subplot\": \"mapbox\", \"type\": \"choroplethmapbox\", \"z\": [1]}, {\"colorscale\": [[0.0, \"#00cc96\"], [1.0, \"#00cc96\"]], \"geojson\": \"STATE\", \"hovertemplate\": \"Ages 6-21=60<br>State Name=%{location}<extra></extra>\", \"locations\": [\"Hawaii\"], \"marker\": {\"opacity\": 0.5}, \"name\": \"60\", \"showlegend\": true, \"showscale\": false, \"subplot\": \"mapbox\", \"type\": \"choroplethmapbox\", \"z\": [1]}, {\"colorscale\": [[0.0, \"#ab63fa\"], [1.0, \"#ab63fa\"]], \"geojson\": \"STATE\", \"hovertemplate\": \"Ages 6-21=30444<br>State Name=%{location}<extra></extra>\", \"locations\": [\"Idaho\"], \"marker\": {\"opacity\": 0.5}, \"name\": \"30444\", \"showlegend\": true, \"showscale\": false, \"subplot\": \"mapbox\", \"type\": \"choroplethmapbox\", \"z\": [1]}, {\"colorscale\": [[0.0, \"#FFA15A\"], [1.0, \"#FFA15A\"]], \"geojson\": \"STATE\", \"hovertemplate\": \"Ages 6-21=3234<br>State Name=%{location}<extra></extra>\", \"locations\": [\"Idaho\"], \"marker\": {\"opacity\": 0.5}, \"name\": \"3234\", \"showlegend\": true, \"showscale\": false, \"subplot\": \"mapbox\", \"type\": \"choroplethmapbox\", \"z\": [1]}, {\"colorscale\": [[0.0, \"#19d3f3\"], [1.0, \"#19d3f3\"]], \"geojson\": \"STATE\", \"hovertemplate\": \"Ages 6-21=1990<br>State Name=%{location}<extra></extra>\", \"locations\": [\"Idaho\", \"North Dakota\"], \"marker\": {\"opacity\": 0.5}, \"name\": \"1990\", \"showlegend\": true, \"showscale\": false, \"subplot\": \"mapbox\", \"type\": \"choroplethmapbox\", \"z\": [1, 1]}, {\"colorscale\": [[0.0, \"#FF6692\"], [1.0, \"#FF6692\"]], \"geojson\": \"STATE\", \"hovertemplate\": \"Ages 6-21=1372<br>State Name=%{location}<extra></extra>\", \"locations\": [\"Idaho\"], \"marker\": {\"opacity\": 0.5}, \"name\": \"1372\", \"showlegend\": true, \"showscale\": false, \"subplot\": \"mapbox\", \"type\": \"choroplethmapbox\", \"z\": [1]}, {\"colorscale\": [[0.0, \"#B6E880\"], [1.0, \"#B6E880\"]], \"geojson\": \"STATE\", \"hovertemplate\": \"Ages 6-21=301<br>State Name=%{location}<extra></extra>\", \"locations\": [\"Idaho\"], \"marker\": {\"opacity\": 0.5}, \"name\": \"301\", \"showlegend\": true, \"showscale\": false, \"subplot\": \"mapbox\", \"type\": \"choroplethmapbox\", \"z\": [1]}, {\"colorscale\": [[0.0, \"#FF97FF\"], [1.0, \"#FF97FF\"]], \"geojson\": \"STATE\", \"hovertemplate\": \"Ages 6-21=2224<br>State Name=%{location}<extra></extra>\", \"locations\": [\"Idaho\"], \"marker\": {\"opacity\": 0.5}, \"name\": \"2224\", \"showlegend\": true, \"showscale\": false, \"subplot\": \"mapbox\", \"type\": \"choroplethmapbox\", \"z\": [1]}, {\"colorscale\": [[0.0, \"#FECB52\"], [1.0, \"#FECB52\"]], \"geojson\": \"STATE\", \"hovertemplate\": \"Ages 6-21=651<br>State Name=%{location}<extra></extra>\", \"locations\": [\"Idaho\"], \"marker\": {\"opacity\": 0.5}, \"name\": \"651\", \"showlegend\": true, \"showscale\": false, \"subplot\": \"mapbox\", \"type\": \"choroplethmapbox\", \"z\": [1]}, {\"colorscale\": [[0.0, \"#636efa\"], [1.0, \"#636efa\"]], \"geojson\": \"STATE\", \"hovertemplate\": \"Ages 6-21=7019<br>State Name=%{location}<extra></extra>\", \"locations\": [\"Idaho\"], \"marker\": {\"opacity\": 0.5}, \"name\": \"7019\", \"showlegend\": true, \"showscale\": false, \"subplot\": \"mapbox\", \"type\": \"choroplethmapbox\", \"z\": [1]}, {\"colorscale\": [[0.0, \"#EF553B\"], [1.0, \"#EF553B\"]], \"geojson\": \"STATE\", \"hovertemplate\": \"Ages 6-21=7210<br>State Name=%{location}<extra></extra>\", \"locations\": [\"Idaho\"], \"marker\": {\"opacity\": 0.5}, \"name\": \"7210\", \"showlegend\": true, \"showscale\": false, \"subplot\": \"mapbox\", \"type\": \"choroplethmapbox\", \"z\": [1]}, {\"colorscale\": [[0.0, \"#00cc96\"], [1.0, \"#00cc96\"]], \"geojson\": \"STATE\", \"hovertemplate\": \"Ages 6-21=6173<br>State Name=%{location}<extra></extra>\", \"locations\": [\"Idaho\"], \"marker\": {\"opacity\": 0.5}, \"name\": \"6173\", \"showlegend\": true, \"showscale\": false, \"subplot\": \"mapbox\", \"type\": \"choroplethmapbox\", \"z\": [1]}, {\"colorscale\": [[0.0, \"#ab63fa\"], [1.0, \"#ab63fa\"]], \"geojson\": \"STATE\", \"hovertemplate\": \"Ages 6-21=114<br>State Name=%{location}<extra></extra>\", \"locations\": [\"Idaho\"], \"marker\": {\"opacity\": 0.5}, \"name\": \"114\", \"showlegend\": true, \"showscale\": false, \"subplot\": \"mapbox\", \"type\": \"choroplethmapbox\", \"z\": [1]}, {\"colorscale\": [[0.0, \"#FFA15A\"], [1.0, \"#FFA15A\"]], \"geojson\": \"STATE\", \"hovertemplate\": \"Ages 6-21=68<br>State Name=%{location}<extra></extra>\", \"locations\": [\"Idaho\", \"Montana\"], \"marker\": {\"opacity\": 0.5}, \"name\": \"68\", \"showlegend\": true, \"showscale\": false, \"subplot\": \"mapbox\", \"type\": \"choroplethmapbox\", \"z\": [1, 1]}, {\"colorscale\": [[0.0, \"#19d3f3\"], [1.0, \"#19d3f3\"]], \"geojson\": \"STATE\", \"hovertemplate\": \"Ages 6-21=259914<br>State Name=%{location}<extra></extra>\", \"locations\": [\"Illinois\"], \"marker\": {\"opacity\": 0.5}, \"name\": \"259914\", \"showlegend\": true, \"showscale\": false, \"subplot\": \"mapbox\", \"type\": \"choroplethmapbox\", \"z\": [1]}, {\"colorscale\": [[0.0, \"#FF6692\"], [1.0, \"#FF6692\"]], \"geojson\": \"STATE\", \"hovertemplate\": \"Ages 6-21=24466<br>State Name=%{location}<extra></extra>\", \"locations\": [\"Illinois\"], \"marker\": {\"opacity\": 0.5}, \"name\": \"24466\", \"showlegend\": true, \"showscale\": false, \"subplot\": \"mapbox\", \"type\": \"choroplethmapbox\", \"z\": [1]}, {\"colorscale\": [[0.0, \"#B6E880\"], [1.0, \"#B6E880\"]], \"geojson\": \"STATE\", \"hovertemplate\": \"Ages 6-21=21152<br>State Name=%{location}<extra></extra>\", \"locations\": [\"Illinois\"], \"marker\": {\"opacity\": 0.5}, \"name\": \"21152\", \"showlegend\": true, \"showscale\": false, \"subplot\": \"mapbox\", \"type\": \"choroplethmapbox\", \"z\": [1]}, {\"colorscale\": [[0.0, \"#FF97FF\"], [1.0, \"#FF97FF\"]], \"geojson\": \"STATE\", \"hovertemplate\": \"Ages 6-21=18237<br>State Name=%{location}<extra></extra>\", \"locations\": [\"Illinois\"], \"marker\": {\"opacity\": 0.5}, \"name\": \"18237\", \"showlegend\": true, \"showscale\": false, \"subplot\": \"mapbox\", \"type\": \"choroplethmapbox\", \"z\": [1]}, {\"colorscale\": [[0.0, \"#FECB52\"], [1.0, \"#FECB52\"]], \"geojson\": \"STATE\", \"hovertemplate\": \"Ages 6-21=2983<br>State Name=%{location}<extra></extra>\", \"locations\": [\"Illinois\"], \"marker\": {\"opacity\": 0.5}, \"name\": \"2983\", \"showlegend\": true, \"showscale\": false, \"subplot\": \"mapbox\", \"type\": \"choroplethmapbox\", \"z\": [1]}, {\"colorscale\": [[0.0, \"#636efa\"], [1.0, \"#636efa\"]], \"geojson\": \"STATE\", \"hovertemplate\": \"Ages 6-21=15141<br>State Name=%{location}<extra></extra>\", \"locations\": [\"Illinois\"], \"marker\": {\"opacity\": 0.5}, \"name\": \"15141\", \"showlegend\": true, \"showscale\": false, \"subplot\": \"mapbox\", \"type\": \"choroplethmapbox\", \"z\": [1]}, {\"colorscale\": [[0.0, \"#EF553B\"], [1.0, \"#EF553B\"]], \"geojson\": \"STATE\", \"hovertemplate\": \"Ages 6-21=2625<br>State Name=%{location}<extra></extra>\", \"locations\": [\"Illinois\"], \"marker\": {\"opacity\": 0.5}, \"name\": \"2625\", \"showlegend\": true, \"showscale\": false, \"subplot\": \"mapbox\", \"type\": \"choroplethmapbox\", \"z\": [1]}, {\"colorscale\": [[0.0, \"#00cc96\"], [1.0, \"#00cc96\"]], \"geojson\": \"STATE\", \"hovertemplate\": \"Ages 6-21=883<br>State Name=%{location}<extra></extra>\", \"locations\": [\"Illinois\"], \"marker\": {\"opacity\": 0.5}, \"name\": \"883\", \"showlegend\": true, \"showscale\": false, \"subplot\": \"mapbox\", \"type\": \"choroplethmapbox\", \"z\": [1]}, {\"colorscale\": [[0.0, \"#ab63fa\"], [1.0, \"#ab63fa\"]], \"geojson\": \"STATE\", \"hovertemplate\": \"Ages 6-21=37581<br>State Name=%{location}<extra></extra>\", \"locations\": [\"Illinois\"], \"marker\": {\"opacity\": 0.5}, \"name\": \"37581\", \"showlegend\": true, \"showscale\": false, \"subplot\": \"mapbox\", \"type\": \"choroplethmapbox\", \"z\": [1]}, {\"colorscale\": [[0.0, \"#FFA15A\"], [1.0, \"#FFA15A\"]], \"geojson\": \"STATE\", \"hovertemplate\": \"Ages 6-21=100599<br>State Name=%{location}<extra></extra>\", \"locations\": [\"Illinois\"], \"marker\": {\"opacity\": 0.5}, \"name\": \"100599\", \"showlegend\": true, \"showscale\": false, \"subplot\": \"mapbox\", \"type\": \"choroplethmapbox\", \"z\": [1]}, {\"colorscale\": [[0.0, \"#19d3f3\"], [1.0, \"#19d3f3\"]], \"geojson\": \"STATE\", \"hovertemplate\": \"Ages 6-21=34676<br>State Name=%{location}<extra></extra>\", \"locations\": [\"Illinois\"], \"marker\": {\"opacity\": 0.5}, \"name\": \"34676\", \"showlegend\": true, \"showscale\": false, \"subplot\": \"mapbox\", \"type\": \"choroplethmapbox\", \"z\": [1]}, {\"colorscale\": [[0.0, \"#FF6692\"], [1.0, \"#FF6692\"]], \"geojson\": \"STATE\", \"hovertemplate\": \"Ages 6-21=588<br>State Name=%{location}<extra></extra>\", \"locations\": [\"Illinois\"], \"marker\": {\"opacity\": 0.5}, \"name\": \"588\", \"showlegend\": true, \"showscale\": false, \"subplot\": \"mapbox\", \"type\": \"choroplethmapbox\", \"z\": [1]}, {\"colorscale\": [[0.0, \"#B6E880\"], [1.0, \"#B6E880\"]], \"geojson\": \"STATE\", \"hovertemplate\": \"Ages 6-21=957<br>State Name=%{location}<extra></extra>\", \"locations\": [\"Illinois\"], \"marker\": {\"opacity\": 0.5}, \"name\": \"957\", \"showlegend\": true, \"showscale\": false, \"subplot\": \"mapbox\", \"type\": \"choroplethmapbox\", \"z\": [1]}, {\"colorscale\": [[0.0, \"#FF97FF\"], [1.0, \"#FF97FF\"]], \"geojson\": \"STATE\", \"hovertemplate\": \"Ages 6-21=159597<br>State Name=%{location}<extra></extra>\", \"locations\": [\"Indiana\"], \"marker\": {\"opacity\": 0.5}, \"name\": \"159597\", \"showlegend\": true, \"showscale\": false, \"subplot\": \"mapbox\", \"type\": \"choroplethmapbox\", \"z\": [1]}, {\"colorscale\": [[0.0, \"#FECB52\"], [1.0, \"#FECB52\"]], \"geojson\": \"STATE\", \"hovertemplate\": \"Ages 6-21=15565<br>State Name=%{location}<extra></extra>\", \"locations\": [\"Indiana\"], \"marker\": {\"opacity\": 0.5}, \"name\": \"15565\", \"showlegend\": true, \"showscale\": false, \"subplot\": \"mapbox\", \"type\": \"choroplethmapbox\", \"z\": [1]}, {\"colorscale\": [[0.0, \"#636efa\"], [1.0, \"#636efa\"]], \"geojson\": \"STATE\", \"hovertemplate\": \"Ages 6-21=892<br>State Name=%{location}<extra></extra>\", \"locations\": [\"Indiana\"], \"marker\": {\"opacity\": 0.5}, \"name\": \"892\", \"showlegend\": true, \"showscale\": false, \"subplot\": \"mapbox\", \"type\": \"choroplethmapbox\", \"z\": [1]}, {\"colorscale\": [[0.0, \"#EF553B\"], [1.0, \"#EF553B\"]], \"geojson\": \"STATE\", \"hovertemplate\": \"Ages 6-21=12838<br>State Name=%{location}<extra></extra>\", \"locations\": [\"Indiana\"], \"marker\": {\"opacity\": 0.5}, \"name\": \"12838\", \"showlegend\": true, \"showscale\": false, \"subplot\": \"mapbox\", \"type\": \"choroplethmapbox\", \"z\": [1]}, {\"colorscale\": [[0.0, \"#00cc96\"], [1.0, \"#00cc96\"]], \"geojson\": \"STATE\", \"hovertemplate\": \"Ages 6-21=2200<br>State Name=%{location}<extra></extra>\", \"locations\": [\"Indiana\"], \"marker\": {\"opacity\": 0.5}, \"name\": \"2200\", \"showlegend\": true, \"showscale\": false, \"subplot\": \"mapbox\", \"type\": \"choroplethmapbox\", \"z\": [1]}, {\"colorscale\": [[0.0, \"#ab63fa\"], [1.0, \"#ab63fa\"]], \"geojson\": \"STATE\", \"hovertemplate\": \"Ages 6-21=13336<br>State Name=%{location}<extra></extra>\", \"locations\": [\"Indiana\"], \"marker\": {\"opacity\": 0.5}, \"name\": \"13336\", \"showlegend\": true, \"showscale\": false, \"subplot\": \"mapbox\", \"type\": \"choroplethmapbox\", \"z\": [1]}, {\"colorscale\": [[0.0, \"#FFA15A\"], [1.0, \"#FFA15A\"]], \"geojson\": \"STATE\", \"hovertemplate\": \"Ages 6-21=1944<br>State Name=%{location}<extra></extra>\", \"locations\": [\"Indiana\"], \"marker\": {\"opacity\": 0.5}, \"name\": \"1944\", \"showlegend\": true, \"showscale\": false, \"subplot\": \"mapbox\", \"type\": \"choroplethmapbox\", \"z\": [1]}, {\"colorscale\": [[0.0, \"#19d3f3\"], [1.0, \"#19d3f3\"]], \"geojson\": \"STATE\", \"hovertemplate\": \"Ages 6-21=1342<br>State Name=%{location}<extra></extra>\", \"locations\": [\"Indiana\"], \"marker\": {\"opacity\": 0.5}, \"name\": \"1342\", \"showlegend\": true, \"showscale\": false, \"subplot\": \"mapbox\", \"type\": \"choroplethmapbox\", \"z\": [1]}, {\"colorscale\": [[0.0, \"#FF6692\"], [1.0, \"#FF6692\"]], \"geojson\": \"STATE\", \"hovertemplate\": \"Ages 6-21=25600<br>State Name=%{location}<extra></extra>\", \"locations\": [\"Indiana\"], \"marker\": {\"opacity\": 0.5}, \"name\": \"25600\", \"showlegend\": true, \"showscale\": false, \"subplot\": \"mapbox\", \"type\": \"choroplethmapbox\", \"z\": [1]}, {\"colorscale\": [[0.0, \"#B6E880\"], [1.0, \"#B6E880\"]], \"geojson\": \"STATE\", \"hovertemplate\": \"Ages 6-21=54407<br>State Name=%{location}<extra></extra>\", \"locations\": [\"Indiana\"], \"marker\": {\"opacity\": 0.5}, \"name\": \"54407\", \"showlegend\": true, \"showscale\": false, \"subplot\": \"mapbox\", \"type\": \"choroplethmapbox\", \"z\": [1]}, {\"colorscale\": [[0.0, \"#FF97FF\"], [1.0, \"#FF97FF\"]], \"geojson\": \"STATE\", \"hovertemplate\": \"Ages 6-21=30087<br>State Name=%{location}<extra></extra>\", \"locations\": [\"Indiana\"], \"marker\": {\"opacity\": 0.5}, \"name\": \"30087\", \"showlegend\": true, \"showscale\": false, \"subplot\": \"mapbox\", \"type\": \"choroplethmapbox\", \"z\": [1]}, {\"colorscale\": [[0.0, \"#FECB52\"], [1.0, \"#FECB52\"]], \"geojson\": \"STATE\", \"hovertemplate\": \"Ages 6-21=447<br>State Name=%{location}<extra></extra>\", \"locations\": [\"Indiana\"], \"marker\": {\"opacity\": 0.5}, \"name\": \"447\", \"showlegend\": true, \"showscale\": false, \"subplot\": \"mapbox\", \"type\": \"choroplethmapbox\", \"z\": [1]}, {\"colorscale\": [[0.0, \"#636efa\"], [1.0, \"#636efa\"]], \"geojson\": \"STATE\", \"hovertemplate\": \"Ages 6-21=60561<br>State Name=%{location}<extra></extra>\", \"locations\": [\"Iowa\"], \"marker\": {\"opacity\": 0.5}, \"name\": \"60561\", \"showlegend\": true, \"showscale\": false, \"subplot\": \"mapbox\", \"type\": \"choroplethmapbox\", \"z\": [1]}, {\"colorscale\": [[0.0, \"#EF553B\"], [1.0, \"#EF553B\"]], \"geojson\": \"STATE\", \"hovertemplate\": \"Ages 6-21=682<br>State Name=%{location}<extra></extra>\", \"locations\": [\"Iowa\", \"Iowa\"], \"marker\": {\"opacity\": 0.5}, \"name\": \"682\", \"showlegend\": true, \"showscale\": false, \"subplot\": \"mapbox\", \"type\": \"choroplethmapbox\", \"z\": [1, 1]}, {\"colorscale\": [[0.0, \"#00cc96\"], [1.0, \"#00cc96\"]], \"geojson\": \"STATE\", \"hovertemplate\": \"Ages 6-21=5896<br>State Name=%{location}<extra></extra>\", \"locations\": [\"Iowa\"], \"marker\": {\"opacity\": 0.5}, \"name\": \"5896\", \"showlegend\": true, \"showscale\": false, \"subplot\": \"mapbox\", \"type\": \"choroplethmapbox\", \"z\": [1]}, {\"colorscale\": [[0.0, \"#ab63fa\"], [1.0, \"#ab63fa\"]], \"geojson\": \"STATE\", \"hovertemplate\": \"Ages 6-21=423<br>State Name=%{location}<extra></extra>\", \"locations\": [\"Iowa\"], \"marker\": {\"opacity\": 0.5}, \"name\": \"423\", \"showlegend\": true, \"showscale\": false, \"subplot\": \"mapbox\", \"type\": \"choroplethmapbox\", \"z\": [1]}, {\"colorscale\": [[0.0, \"#FFA15A\"], [1.0, \"#FFA15A\"]], \"geojson\": \"STATE\", \"hovertemplate\": \"Ages 6-21=10436<br>State Name=%{location}<extra></extra>\", \"locations\": [\"Iowa\"], \"marker\": {\"opacity\": 0.5}, \"name\": \"10436\", \"showlegend\": true, \"showscale\": false, \"subplot\": \"mapbox\", \"type\": \"choroplethmapbox\", \"z\": [1]}, {\"colorscale\": [[0.0, \"#19d3f3\"], [1.0, \"#19d3f3\"]], \"geojson\": \"STATE\", \"hovertemplate\": \"Ages 6-21=334<br>State Name=%{location}<extra></extra>\", \"locations\": [\"Iowa\"], \"marker\": {\"opacity\": 0.5}, \"name\": \"334\", \"showlegend\": true, \"showscale\": false, \"subplot\": \"mapbox\", \"type\": \"choroplethmapbox\", \"z\": [1]}, {\"colorscale\": [[0.0, \"#FF6692\"], [1.0, \"#FF6692\"]], \"geojson\": \"STATE\", \"hovertemplate\": \"Ages 6-21=36571<br>State Name=%{location}<extra></extra>\", \"locations\": [\"Iowa\"], \"marker\": {\"opacity\": 0.5}, \"name\": \"36571\", \"showlegend\": true, \"showscale\": false, \"subplot\": \"mapbox\", \"type\": \"choroplethmapbox\", \"z\": [1]}, {\"colorscale\": [[0.0, \"#B6E880\"], [1.0, \"#B6E880\"]], \"geojson\": \"STATE\", \"hovertemplate\": \"Ages 6-21=5216<br>State Name=%{location}<extra></extra>\", \"locations\": [\"Iowa\"], \"marker\": {\"opacity\": 0.5}, \"name\": \"5216\", \"showlegend\": true, \"showscale\": false, \"subplot\": \"mapbox\", \"type\": \"choroplethmapbox\", \"z\": [1]}, {\"colorscale\": [[0.0, \"#FF97FF\"], [1.0, \"#FF97FF\"]], \"geojson\": \"STATE\", \"hovertemplate\": \"Ages 6-21=165<br>State Name=%{location}<extra></extra>\", \"locations\": [\"Iowa\", \"Nevada\"], \"marker\": {\"opacity\": 0.5}, \"name\": \"165\", \"showlegend\": true, \"showscale\": false, \"subplot\": \"mapbox\", \"type\": \"choroplethmapbox\", \"z\": [1, 1]}, {\"colorscale\": [[0.0, \"#FECB52\"], [1.0, \"#FECB52\"]], \"geojson\": \"STATE\", \"hovertemplate\": \"Ages 6-21=63406<br>State Name=%{location}<extra></extra>\", \"locations\": [\"Kansas\"], \"marker\": {\"opacity\": 0.5}, \"name\": \"63406\", \"showlegend\": true, \"showscale\": false, \"subplot\": \"mapbox\", \"type\": \"choroplethmapbox\", \"z\": [1]}, {\"colorscale\": [[0.0, \"#636efa\"], [1.0, \"#636efa\"]], \"geojson\": \"STATE\", \"hovertemplate\": \"Ages 6-21=4268<br>State Name=%{location}<extra></extra>\", \"locations\": [\"Kansas\"], \"marker\": {\"opacity\": 0.5}, \"name\": \"4268\", \"showlegend\": true, \"showscale\": false, \"subplot\": \"mapbox\", \"type\": \"choroplethmapbox\", \"z\": [1]}, {\"colorscale\": [[0.0, \"#EF553B\"], [1.0, \"#EF553B\"]], \"geojson\": \"STATE\", \"hovertemplate\": \"Ages 6-21=7308<br>State Name=%{location}<extra></extra>\", \"locations\": [\"Kansas\"], \"marker\": {\"opacity\": 0.5}, \"name\": \"7308\", \"showlegend\": true, \"showscale\": false, \"subplot\": \"mapbox\", \"type\": \"choroplethmapbox\", \"z\": [1]}, {\"colorscale\": [[0.0, \"#00cc96\"], [1.0, \"#00cc96\"]], \"geojson\": \"STATE\", \"hovertemplate\": \"Ages 6-21=2436<br>State Name=%{location}<extra></extra>\", \"locations\": [\"Kansas\"], \"marker\": {\"opacity\": 0.5}, \"name\": \"2436\", \"showlegend\": true, \"showscale\": false, \"subplot\": \"mapbox\", \"type\": \"choroplethmapbox\", \"z\": [1]}, {\"colorscale\": [[0.0, \"#ab63fa\"], [1.0, \"#ab63fa\"]], \"geojson\": \"STATE\", \"hovertemplate\": \"Ages 6-21=3302<br>State Name=%{location}<extra></extra>\", \"locations\": [\"Kansas\"], \"marker\": {\"opacity\": 0.5}, \"name\": \"3302\", \"showlegend\": true, \"showscale\": false, \"subplot\": \"mapbox\", \"type\": \"choroplethmapbox\", \"z\": [1]}, {\"colorscale\": [[0.0, \"#FFA15A\"], [1.0, \"#FFA15A\"]], \"geojson\": \"STATE\", \"hovertemplate\": \"Ages 6-21=3303<br>State Name=%{location}<extra></extra>\", \"locations\": [\"Kansas\"], \"marker\": {\"opacity\": 0.5}, \"name\": \"3303\", \"showlegend\": true, \"showscale\": false, \"subplot\": \"mapbox\", \"type\": \"choroplethmapbox\", \"z\": [1]}, {\"colorscale\": [[0.0, \"#19d3f3\"], [1.0, \"#19d3f3\"]], \"geojson\": \"STATE\", \"hovertemplate\": \"Ages 6-21=188<br>State Name=%{location}<extra></extra>\", \"locations\": [\"Kansas\"], \"marker\": {\"opacity\": 0.5}, \"name\": \"188\", \"showlegend\": true, \"showscale\": false, \"subplot\": \"mapbox\", \"type\": \"choroplethmapbox\", \"z\": [1]}, {\"colorscale\": [[0.0, \"#FF6692\"], [1.0, \"#FF6692\"]], \"geojson\": \"STATE\", \"hovertemplate\": \"Ages 6-21=7830<br>State Name=%{location}<extra></extra>\", \"locations\": [\"Kansas\"], \"marker\": {\"opacity\": 0.5}, \"name\": \"7830\", \"showlegend\": true, \"showscale\": false, \"subplot\": \"mapbox\", \"type\": \"choroplethmapbox\", \"z\": [1]}, {\"colorscale\": [[0.0, \"#B6E880\"], [1.0, \"#B6E880\"]], \"geojson\": \"STATE\", \"hovertemplate\": \"Ages 6-21=25296<br>State Name=%{location}<extra></extra>\", \"locations\": [\"Kansas\"], \"marker\": {\"opacity\": 0.5}, \"name\": \"25296\", \"showlegend\": true, \"showscale\": false, \"subplot\": \"mapbox\", \"type\": \"choroplethmapbox\", \"z\": [1]}, {\"colorscale\": [[0.0, \"#FF97FF\"], [1.0, \"#FF97FF\"]], \"geojson\": \"STATE\", \"hovertemplate\": \"Ages 6-21=8642<br>State Name=%{location}<extra></extra>\", \"locations\": [\"Kansas\"], \"marker\": {\"opacity\": 0.5}, \"name\": \"8642\", \"showlegend\": true, \"showscale\": false, \"subplot\": \"mapbox\", \"type\": \"choroplethmapbox\", \"z\": [1]}, {\"colorscale\": [[0.0, \"#FECB52\"], [1.0, \"#FECB52\"]], \"geojson\": \"STATE\", \"hovertemplate\": \"Ages 6-21=132<br>State Name=%{location}<extra></extra>\", \"locations\": [\"Kansas\"], \"marker\": {\"opacity\": 0.5}, \"name\": \"132\", \"showlegend\": true, \"showscale\": false, \"subplot\": \"mapbox\", \"type\": \"choroplethmapbox\", \"z\": [1]}, {\"colorscale\": [[0.0, \"#636efa\"], [1.0, \"#636efa\"]], \"geojson\": \"STATE\", \"hovertemplate\": \"Ages 6-21=87926<br>State Name=%{location}<extra></extra>\", \"locations\": [\"Kentucky\"], \"marker\": {\"opacity\": 0.5}, \"name\": \"87926\", \"showlegend\": true, \"showscale\": false, \"subplot\": \"mapbox\", \"type\": \"choroplethmapbox\", \"z\": [1]}, {\"colorscale\": [[0.0, \"#EF553B\"], [1.0, \"#EF553B\"]], \"geojson\": \"STATE\", \"hovertemplate\": \"Ages 6-21=11<br>State Name=%{location}<extra></extra>\", \"locations\": [\"Kentucky\", \"Oregon\"], \"marker\": {\"opacity\": 0.5}, \"name\": \"11\", \"showlegend\": true, \"showscale\": false, \"subplot\": \"mapbox\", \"type\": \"choroplethmapbox\", \"z\": [1, 1]}, {\"colorscale\": [[0.0, \"#00cc96\"], [1.0, \"#00cc96\"]], \"geojson\": \"STATE\", \"hovertemplate\": \"Ages 6-21=7192<br>State Name=%{location}<extra></extra>\", \"locations\": [\"Kentucky\"], \"marker\": {\"opacity\": 0.5}, \"name\": \"7192\", \"showlegend\": true, \"showscale\": false, \"subplot\": \"mapbox\", \"type\": \"choroplethmapbox\", \"z\": [1]}, {\"colorscale\": [[0.0, \"#ab63fa\"], [1.0, \"#ab63fa\"]], \"geojson\": \"STATE\", \"hovertemplate\": \"Ages 6-21=4524<br>State Name=%{location}<extra></extra>\", \"locations\": [\"Kentucky\"], \"marker\": {\"opacity\": 0.5}, \"name\": \"4524\", \"showlegend\": true, \"showscale\": false, \"subplot\": \"mapbox\", \"type\": \"choroplethmapbox\", \"z\": [1]}, {\"colorscale\": [[0.0, \"#FFA15A\"], [1.0, \"#FFA15A\"]], \"geojson\": \"STATE\", \"hovertemplate\": \"Ages 6-21=586<br>State Name=%{location}<extra></extra>\", \"locations\": [\"Kentucky\"], \"marker\": {\"opacity\": 0.5}, \"name\": \"586\", \"showlegend\": true, \"showscale\": false, \"subplot\": \"mapbox\", \"type\": \"choroplethmapbox\", \"z\": [1]}, {\"colorscale\": [[0.0, \"#19d3f3\"], [1.0, \"#19d3f3\"]], \"geojson\": \"STATE\", \"hovertemplate\": \"Ages 6-21=13535<br>State Name=%{location}<extra></extra>\", \"locations\": [\"Kentucky\"], \"marker\": {\"opacity\": 0.5}, \"name\": \"13535\", \"showlegend\": true, \"showscale\": false, \"subplot\": \"mapbox\", \"type\": \"choroplethmapbox\", \"z\": [1]}, {\"colorscale\": [[0.0, \"#FF6692\"], [1.0, \"#FF6692\"]], \"geojson\": \"STATE\", \"hovertemplate\": \"Ages 6-21=1887<br>State Name=%{location}<extra></extra>\", \"locations\": [\"Kentucky\"], \"marker\": {\"opacity\": 0.5}, \"name\": \"1887\", \"showlegend\": true, \"showscale\": false, \"subplot\": \"mapbox\", \"type\": \"choroplethmapbox\", \"z\": [1]}, {\"colorscale\": [[0.0, \"#B6E880\"], [1.0, \"#B6E880\"]], \"geojson\": \"STATE\", \"hovertemplate\": \"Ages 6-21=360<br>State Name=%{location}<extra></extra>\", \"locations\": [\"Kentucky\"], \"marker\": {\"opacity\": 0.5}, \"name\": \"360\", \"showlegend\": true, \"showscale\": false, \"subplot\": \"mapbox\", \"type\": \"choroplethmapbox\", \"z\": [1]}, {\"colorscale\": [[0.0, \"#FF97FF\"], [1.0, \"#FF97FF\"]], \"geojson\": \"STATE\", \"hovertemplate\": \"Ages 6-21=15250<br>State Name=%{location}<extra></extra>\", \"locations\": [\"Kentucky\"], \"marker\": {\"opacity\": 0.5}, \"name\": \"15250\", \"showlegend\": true, \"showscale\": false, \"subplot\": \"mapbox\", \"type\": \"choroplethmapbox\", \"z\": [1]}, {\"colorscale\": [[0.0, \"#FECB52\"], [1.0, \"#FECB52\"]], \"geojson\": \"STATE\", \"hovertemplate\": \"Ages 6-21=17629<br>State Name=%{location}<extra></extra>\", \"locations\": [\"Kentucky\"], \"marker\": {\"opacity\": 0.5}, \"name\": \"17629\", \"showlegend\": true, \"showscale\": false, \"subplot\": \"mapbox\", \"type\": \"choroplethmapbox\", \"z\": [1]}, {\"colorscale\": [[0.0, \"#636efa\"], [1.0, \"#636efa\"]], \"geojson\": \"STATE\", \"hovertemplate\": \"Ages 6-21=19318<br>State Name=%{location}<extra></extra>\", \"locations\": [\"Kentucky\"], \"marker\": {\"opacity\": 0.5}, \"name\": \"19318\", \"showlegend\": true, \"showscale\": false, \"subplot\": \"mapbox\", \"type\": \"choroplethmapbox\", \"z\": [1]}, {\"colorscale\": [[0.0, \"#EF553B\"], [1.0, \"#EF553B\"]], \"geojson\": \"STATE\", \"hovertemplate\": \"Ages 6-21=205<br>State Name=%{location}<extra></extra>\", \"locations\": [\"Kentucky\"], \"marker\": {\"opacity\": 0.5}, \"name\": \"205\", \"showlegend\": true, \"showscale\": false, \"subplot\": \"mapbox\", \"type\": \"choroplethmapbox\", \"z\": [1]}, {\"colorscale\": [[0.0, \"#00cc96\"], [1.0, \"#00cc96\"]], \"geojson\": \"STATE\", \"hovertemplate\": \"Ages 6-21=501<br>State Name=%{location}<extra></extra>\", \"locations\": [\"Kentucky\"], \"marker\": {\"opacity\": 0.5}, \"name\": \"501\", \"showlegend\": true, \"showscale\": false, \"subplot\": \"mapbox\", \"type\": \"choroplethmapbox\", \"z\": [1]}, {\"colorscale\": [[0.0, \"#ab63fa\"], [1.0, \"#ab63fa\"]], \"geojson\": \"STATE\", \"hovertemplate\": \"Ages 6-21=76345<br>State Name=%{location}<extra></extra>\", \"locations\": [\"Louisiana\"], \"marker\": {\"opacity\": 0.5}, \"name\": \"76345\", \"showlegend\": true, \"showscale\": false, \"subplot\": \"mapbox\", \"type\": \"choroplethmapbox\", \"z\": [1]}, {\"colorscale\": [[0.0, \"#FFA15A\"], [1.0, \"#FFA15A\"]], \"geojson\": \"STATE\", \"hovertemplate\": \"Ages 6-21=5577<br>State Name=%{location}<extra></extra>\", \"locations\": [\"Louisiana\"], \"marker\": {\"opacity\": 0.5}, \"name\": \"5577\", \"showlegend\": true, \"showscale\": false, \"subplot\": \"mapbox\", \"type\": \"choroplethmapbox\", \"z\": [1]}, {\"colorscale\": [[0.0, \"#19d3f3\"], [1.0, \"#19d3f3\"]], \"geojson\": \"STATE\", \"hovertemplate\": \"Ages 6-21=7<br>State Name=%{location}<extra></extra>\", \"locations\": [\"Louisiana\", \"Republic of Palau\", \"Republic of the Marshall Islands\"], \"marker\": {\"opacity\": 0.5}, \"name\": \"7\", \"showlegend\": true, \"showscale\": false, \"subplot\": \"mapbox\", \"type\": \"choroplethmapbox\", \"z\": [1, 1, 1]}, {\"colorscale\": [[0.0, \"#FF6692\"], [1.0, \"#FF6692\"]], \"geojson\": \"STATE\", \"hovertemplate\": \"Ages 6-21=7571<br>State Name=%{location}<extra></extra>\", \"locations\": [\"Louisiana\"], \"marker\": {\"opacity\": 0.5}, \"name\": \"7571\", \"showlegend\": true, \"showscale\": false, \"subplot\": \"mapbox\", \"type\": \"choroplethmapbox\", \"z\": [1]}, {\"colorscale\": [[0.0, \"#B6E880\"], [1.0, \"#B6E880\"]], \"geojson\": \"STATE\", \"hovertemplate\": \"Ages 6-21=1715<br>State Name=%{location}<extra></extra>\", \"locations\": [\"Louisiana\"], \"marker\": {\"opacity\": 0.5}, \"name\": \"1715\", \"showlegend\": true, \"showscale\": false, \"subplot\": \"mapbox\", \"type\": \"choroplethmapbox\", \"z\": [1]}, {\"colorscale\": [[0.0, \"#FF97FF\"], [1.0, \"#FF97FF\"]], \"geojson\": \"STATE\", \"hovertemplate\": \"Ages 6-21=1039<br>State Name=%{location}<extra></extra>\", \"locations\": [\"Louisiana\"], \"marker\": {\"opacity\": 0.5}, \"name\": \"1039\", \"showlegend\": true, \"showscale\": false, \"subplot\": \"mapbox\", \"type\": \"choroplethmapbox\", \"z\": [1]}, {\"colorscale\": [[0.0, \"#FECB52\"], [1.0, \"#FECB52\"]], \"geojson\": \"STATE\", \"hovertemplate\": \"Ages 6-21=7676<br>State Name=%{location}<extra></extra>\", \"locations\": [\"Louisiana\"], \"marker\": {\"opacity\": 0.5}, \"name\": \"7676\", \"showlegend\": true, \"showscale\": false, \"subplot\": \"mapbox\", \"type\": \"choroplethmapbox\", \"z\": [1]}, {\"colorscale\": [[0.0, \"#636efa\"], [1.0, \"#636efa\"]], \"geojson\": \"STATE\", \"hovertemplate\": \"Ages 6-21=937<br>State Name=%{location}<extra></extra>\", \"locations\": [\"Louisiana\"], \"marker\": {\"opacity\": 0.5}, \"name\": \"937\", \"showlegend\": true, \"showscale\": false, \"subplot\": \"mapbox\", \"type\": \"choroplethmapbox\", \"z\": [1]}, {\"colorscale\": [[0.0, \"#EF553B\"], [1.0, \"#EF553B\"]], \"geojson\": \"STATE\", \"hovertemplate\": \"Ages 6-21=876<br>State Name=%{location}<extra></extra>\", \"locations\": [\"Louisiana\"], \"marker\": {\"opacity\": 0.5}, \"name\": \"876\", \"showlegend\": true, \"showscale\": false, \"subplot\": \"mapbox\", \"type\": \"choroplethmapbox\", \"z\": [1]}, {\"colorscale\": [[0.0, \"#00cc96\"], [1.0, \"#00cc96\"]], \"geojson\": \"STATE\", \"hovertemplate\": \"Ages 6-21=11359<br>State Name=%{location}<extra></extra>\", \"locations\": [\"Louisiana\"], \"marker\": {\"opacity\": 0.5}, \"name\": \"11359\", \"showlegend\": true, \"showscale\": false, \"subplot\": \"mapbox\", \"type\": \"choroplethmapbox\", \"z\": [1]}, {\"colorscale\": [[0.0, \"#ab63fa\"], [1.0, \"#ab63fa\"]], \"geojson\": \"STATE\", \"hovertemplate\": \"Ages 6-21=26594<br>State Name=%{location}<extra></extra>\", \"locations\": [\"Louisiana\"], \"marker\": {\"opacity\": 0.5}, \"name\": \"26594\", \"showlegend\": true, \"showscale\": false, \"subplot\": \"mapbox\", \"type\": \"choroplethmapbox\", \"z\": [1]}, {\"colorscale\": [[0.0, \"#FFA15A\"], [1.0, \"#FFA15A\"]], \"geojson\": \"STATE\", \"hovertemplate\": \"Ages 6-21=12302<br>State Name=%{location}<extra></extra>\", \"locations\": [\"Louisiana\"], \"marker\": {\"opacity\": 0.5}, \"name\": \"12302\", \"showlegend\": true, \"showscale\": false, \"subplot\": \"mapbox\", \"type\": \"choroplethmapbox\", \"z\": [1]}, {\"colorscale\": [[0.0, \"#19d3f3\"], [1.0, \"#19d3f3\"]], \"geojson\": \"STATE\", \"hovertemplate\": \"Ages 6-21=215<br>State Name=%{location}<extra></extra>\", \"locations\": [\"Louisiana\", \"Vermont\"], \"marker\": {\"opacity\": 0.5}, \"name\": \"215\", \"showlegend\": true, \"showscale\": false, \"subplot\": \"mapbox\", \"type\": \"choroplethmapbox\", \"z\": [1, 1]}, {\"colorscale\": [[0.0, \"#FF6692\"], [1.0, \"#FF6692\"]], \"geojson\": \"STATE\", \"hovertemplate\": \"Ages 6-21=477<br>State Name=%{location}<extra></extra>\", \"locations\": [\"Louisiana\"], \"marker\": {\"opacity\": 0.5}, \"name\": \"477\", \"showlegend\": true, \"showscale\": false, \"subplot\": \"mapbox\", \"type\": \"choroplethmapbox\", \"z\": [1]}, {\"colorscale\": [[0.0, \"#B6E880\"], [1.0, \"#B6E880\"]], \"geojson\": \"STATE\", \"hovertemplate\": \"Ages 6-21=30740<br>State Name=%{location}<extra></extra>\", \"locations\": [\"Maine\"], \"marker\": {\"opacity\": 0.5}, \"name\": \"30740\", \"showlegend\": true, \"showscale\": false, \"subplot\": \"mapbox\", \"type\": \"choroplethmapbox\", \"z\": [1]}, {\"colorscale\": [[0.0, \"#FF97FF\"], [1.0, \"#FF97FF\"]], \"geojson\": \"STATE\", \"hovertemplate\": \"Ages 6-21=3101<br>State Name=%{location}<extra></extra>\", \"locations\": [\"Maine\"], \"marker\": {\"opacity\": 0.5}, \"name\": \"3101\", \"showlegend\": true, \"showscale\": false, \"subplot\": \"mapbox\", \"type\": \"choroplethmapbox\", \"z\": [1]}, {\"colorscale\": [[0.0, \"#FECB52\"], [1.0, \"#FECB52\"]], \"geojson\": \"STATE\", \"hovertemplate\": \"Ages 6-21=15<br>State Name=%{location}<extra></extra>\", \"locations\": [\"Maine\"], \"marker\": {\"opacity\": 0.5}, \"name\": \"15\", \"showlegend\": true, \"showscale\": false, \"subplot\": \"mapbox\", \"type\": \"choroplethmapbox\", \"z\": [1]}, {\"colorscale\": [[0.0, \"#636efa\"], [1.0, \"#636efa\"]], \"geojson\": \"STATE\", \"hovertemplate\": \"Ages 6-21=2328<br>State Name=%{location}<extra></extra>\", \"locations\": [\"Maine\"], \"marker\": {\"opacity\": 0.5}, \"name\": \"2328\", \"showlegend\": true, \"showscale\": false, \"subplot\": \"mapbox\", \"type\": \"choroplethmapbox\", \"z\": [1]}, {\"colorscale\": [[0.0, \"#EF553B\"], [1.0, \"#EF553B\"]], \"geojson\": \"STATE\", \"hovertemplate\": \"Ages 6-21=844<br>State Name=%{location}<extra></extra>\", \"locations\": [\"Maine\"], \"marker\": {\"opacity\": 0.5}, \"name\": \"844\", \"showlegend\": true, \"showscale\": false, \"subplot\": \"mapbox\", \"type\": \"choroplethmapbox\", \"z\": [1]}, {\"colorscale\": [[0.0, \"#00cc96\"], [1.0, \"#00cc96\"]], \"geojson\": \"STATE\", \"hovertemplate\": \"Ages 6-21=3317<br>State Name=%{location}<extra></extra>\", \"locations\": [\"Maine\"], \"marker\": {\"opacity\": 0.5}, \"name\": \"3317\", \"showlegend\": true, \"showscale\": false, \"subplot\": \"mapbox\", \"type\": \"choroplethmapbox\", \"z\": [1]}, {\"colorscale\": [[0.0, \"#ab63fa\"], [1.0, \"#ab63fa\"]], \"geojson\": \"STATE\", \"hovertemplate\": \"Ages 6-21=42<br>State Name=%{location}<extra></extra>\", \"locations\": [\"Maine\", \"Montana\", \"Republic of Palau\", \"Rhode Island\"], \"marker\": {\"opacity\": 0.5}, \"name\": \"42\", \"showlegend\": true, \"showscale\": false, \"subplot\": \"mapbox\", \"type\": \"choroplethmapbox\", \"z\": [1, 1, 1, 1]}, {\"colorscale\": [[0.0, \"#FFA15A\"], [1.0, \"#FFA15A\"]], \"geojson\": \"STATE\", \"hovertemplate\": \"Ages 6-21=6765<br>State Name=%{location}<extra></extra>\", \"locations\": [\"Maine\"], \"marker\": {\"opacity\": 0.5}, \"name\": \"6765\", \"showlegend\": true, \"showscale\": false, \"subplot\": \"mapbox\", \"type\": \"choroplethmapbox\", \"z\": [1]}, {\"colorscale\": [[0.0, \"#19d3f3\"], [1.0, \"#19d3f3\"]], \"geojson\": \"STATE\", \"hovertemplate\": \"Ages 6-21=9744<br>State Name=%{location}<extra></extra>\", \"locations\": [\"Maine\"], \"marker\": {\"opacity\": 0.5}, \"name\": \"9744\", \"showlegend\": true, \"showscale\": false, \"subplot\": \"mapbox\", \"type\": \"choroplethmapbox\", \"z\": [1]}, {\"colorscale\": [[0.0, \"#FF6692\"], [1.0, \"#FF6692\"]], \"geojson\": \"STATE\", \"hovertemplate\": \"Ages 6-21=4342<br>State Name=%{location}<extra></extra>\", \"locations\": [\"Maine\"], \"marker\": {\"opacity\": 0.5}, \"name\": \"4342\", \"showlegend\": true, \"showscale\": false, \"subplot\": \"mapbox\", \"type\": \"choroplethmapbox\", \"z\": [1]}, {\"colorscale\": [[0.0, \"#B6E880\"], [1.0, \"#B6E880\"]], \"geojson\": \"STATE\", \"hovertemplate\": \"Ages 6-21=38<br>State Name=%{location}<extra></extra>\", \"locations\": [\"Maine\", \"Vermont\"], \"marker\": {\"opacity\": 0.5}, \"name\": \"38\", \"showlegend\": true, \"showscale\": false, \"subplot\": \"mapbox\", \"type\": \"choroplethmapbox\", \"z\": [1, 1]}, {\"colorscale\": [[0.0, \"#FF97FF\"], [1.0, \"#FF97FF\"]], \"geojson\": \"STATE\", \"hovertemplate\": \"Ages 6-21=95918<br>State Name=%{location}<extra></extra>\", \"locations\": [\"Maryland\"], \"marker\": {\"opacity\": 0.5}, \"name\": \"95918\", \"showlegend\": true, \"showscale\": false, \"subplot\": \"mapbox\", \"type\": \"choroplethmapbox\", \"z\": [1]}, {\"colorscale\": [[0.0, \"#FECB52\"], [1.0, \"#FECB52\"]], \"geojson\": \"STATE\", \"hovertemplate\": \"Ages 6-21=11481<br>State Name=%{location}<extra></extra>\", \"locations\": [\"Maryland\"], \"marker\": {\"opacity\": 0.5}, \"name\": \"11481\", \"showlegend\": true, \"showscale\": false, \"subplot\": \"mapbox\", \"type\": \"choroplethmapbox\", \"z\": [1]}, {\"colorscale\": [[0.0, \"#636efa\"], [1.0, \"#636efa\"]], \"geojson\": \"STATE\", \"hovertemplate\": \"Ages 6-21=9<br>State Name=%{location}<extra></extra>\", \"locations\": [\"Maryland\", \"Mississippi\", \"New Hampshire\", \"Republic of Palau\", \"Republic of Palau\"], \"marker\": {\"opacity\": 0.5}, \"name\": \"9\", \"showlegend\": true, \"showscale\": false, \"subplot\": \"mapbox\", \"type\": \"choroplethmapbox\", \"z\": [1, 1, 1, 1, 1]}, {\"colorscale\": [[0.0, \"#EF553B\"], [1.0, \"#EF553B\"]], \"geojson\": \"STATE\", \"hovertemplate\": \"Ages 6-21=3502<br>State Name=%{location}<extra></extra>\", \"locations\": [\"Maryland\"], \"marker\": {\"opacity\": 0.5}, \"name\": \"3502\", \"showlegend\": true, \"showscale\": false, \"subplot\": \"mapbox\", \"type\": \"choroplethmapbox\", \"z\": [1]}, {\"colorscale\": [[0.0, \"#00cc96\"], [1.0, \"#00cc96\"]], \"geojson\": \"STATE\", \"hovertemplate\": \"Ages 6-21=6107<br>State Name=%{location}<extra></extra>\", \"locations\": [\"Maryland\"], \"marker\": {\"opacity\": 0.5}, \"name\": \"6107\", \"showlegend\": true, \"showscale\": false, \"subplot\": \"mapbox\", \"type\": \"choroplethmapbox\", \"z\": [1]}, {\"colorscale\": [[0.0, \"#ab63fa\"], [1.0, \"#ab63fa\"]], \"geojson\": \"STATE\", \"hovertemplate\": \"Ages 6-21=734<br>State Name=%{location}<extra></extra>\", \"locations\": [\"Maryland\"], \"marker\": {\"opacity\": 0.5}, \"name\": \"734\", \"showlegend\": true, \"showscale\": false, \"subplot\": \"mapbox\", \"type\": \"choroplethmapbox\", \"z\": [1]}, {\"colorscale\": [[0.0, \"#FFA15A\"], [1.0, \"#FFA15A\"]], \"geojson\": \"STATE\", \"hovertemplate\": \"Ages 6-21=6172<br>State Name=%{location}<extra></extra>\", \"locations\": [\"Maryland\"], \"marker\": {\"opacity\": 0.5}, \"name\": \"6172\", \"showlegend\": true, \"showscale\": false, \"subplot\": \"mapbox\", \"type\": \"choroplethmapbox\", \"z\": [1]}, {\"colorscale\": [[0.0, \"#19d3f3\"], [1.0, \"#19d3f3\"]], \"geojson\": \"STATE\", \"hovertemplate\": \"Ages 6-21=6513<br>State Name=%{location}<extra></extra>\", \"locations\": [\"Maryland\"], \"marker\": {\"opacity\": 0.5}, \"name\": \"6513\", \"showlegend\": true, \"showscale\": false, \"subplot\": \"mapbox\", \"type\": \"choroplethmapbox\", \"z\": [1]}, {\"colorscale\": [[0.0, \"#FF6692\"], [1.0, \"#FF6692\"]], \"geojson\": \"STATE\", \"hovertemplate\": \"Ages 6-21=145<br>State Name=%{location}<extra></extra>\", \"locations\": [\"Maryland\"], \"marker\": {\"opacity\": 0.5}, \"name\": \"145\", \"showlegend\": true, \"showscale\": false, \"subplot\": \"mapbox\", \"type\": \"choroplethmapbox\", \"z\": [1]}, {\"colorscale\": [[0.0, \"#B6E880\"], [1.0, \"#B6E880\"]], \"geojson\": \"STATE\", \"hovertemplate\": \"Ages 6-21=18788<br>State Name=%{location}<extra></extra>\", \"locations\": [\"Maryland\"], \"marker\": {\"opacity\": 0.5}, \"name\": \"18788\", \"showlegend\": true, \"showscale\": false, \"subplot\": \"mapbox\", \"type\": \"choroplethmapbox\", \"z\": [1]}, {\"colorscale\": [[0.0, \"#FF97FF\"], [1.0, \"#FF97FF\"]], \"geojson\": \"STATE\", \"hovertemplate\": \"Ages 6-21=30365<br>State Name=%{location}<extra></extra>\", \"locations\": [\"Maryland\"], \"marker\": {\"opacity\": 0.5}, \"name\": \"30365\", \"showlegend\": true, \"showscale\": false, \"subplot\": \"mapbox\", \"type\": \"choroplethmapbox\", \"z\": [1]}, {\"colorscale\": [[0.0, \"#FECB52\"], [1.0, \"#FECB52\"]], \"geojson\": \"STATE\", \"hovertemplate\": \"Ages 6-21=11619<br>State Name=%{location}<extra></extra>\", \"locations\": [\"Maryland\"], \"marker\": {\"opacity\": 0.5}, \"name\": \"11619\", \"showlegend\": true, \"showscale\": false, \"subplot\": \"mapbox\", \"type\": \"choroplethmapbox\", \"z\": [1]}, {\"colorscale\": [[0.0, \"#636efa\"], [1.0, \"#636efa\"]], \"geojson\": \"STATE\", \"hovertemplate\": \"Ages 6-21=216<br>State Name=%{location}<extra></extra>\", \"locations\": [\"Maryland\"], \"marker\": {\"opacity\": 0.5}, \"name\": \"216\", \"showlegend\": true, \"showscale\": false, \"subplot\": \"mapbox\", \"type\": \"choroplethmapbox\", \"z\": [1]}, {\"colorscale\": [[0.0, \"#EF553B\"], [1.0, \"#EF553B\"]], \"geojson\": \"STATE\", \"hovertemplate\": \"Ages 6-21=267<br>State Name=%{location}<extra></extra>\", \"locations\": [\"Maryland\"], \"marker\": {\"opacity\": 0.5}, \"name\": \"267\", \"showlegend\": true, \"showscale\": false, \"subplot\": \"mapbox\", \"type\": \"choroplethmapbox\", \"z\": [1]}, {\"colorscale\": [[0.0, \"#00cc96\"], [1.0, \"#00cc96\"]], \"geojson\": \"STATE\", \"hovertemplate\": \"Ages 6-21=158250<br>State Name=%{location}<extra></extra>\", \"locations\": [\"Massachusetts\"], \"marker\": {\"opacity\": 0.5}, \"name\": \"158250\", \"showlegend\": true, \"showscale\": false, \"subplot\": \"mapbox\", \"type\": \"choroplethmapbox\", \"z\": [1]}, {\"colorscale\": [[0.0, \"#ab63fa\"], [1.0, \"#ab63fa\"]], \"geojson\": \"STATE\", \"hovertemplate\": \"Ages 6-21=18994<br>State Name=%{location}<extra></extra>\", \"locations\": [\"Massachusetts\"], \"marker\": {\"opacity\": 0.5}, \"name\": \"18994\", \"showlegend\": true, \"showscale\": false, \"subplot\": \"mapbox\", \"type\": \"choroplethmapbox\", \"z\": [1]}, {\"colorscale\": [[0.0, \"#FFA15A\"], [1.0, \"#FFA15A\"]], \"geojson\": \"STATE\", \"hovertemplate\": \"Ages 6-21=151<br>State Name=%{location}<extra></extra>\", \"locations\": [\"Massachusetts\"], \"marker\": {\"opacity\": 0.5}, \"name\": \"151\", \"showlegend\": true, \"showscale\": false, \"subplot\": \"mapbox\", \"type\": \"choroplethmapbox\", \"z\": [1]}, {\"colorscale\": [[0.0, \"#19d3f3\"], [1.0, \"#19d3f3\"]], \"geojson\": \"STATE\", \"hovertemplate\": \"Ages 6-21=12639<br>State Name=%{location}<extra></extra>\", \"locations\": [\"Massachusetts\"], \"marker\": {\"opacity\": 0.5}, \"name\": \"12639\", \"showlegend\": true, \"showscale\": false, \"subplot\": \"mapbox\", \"type\": \"choroplethmapbox\", \"z\": [1]}, {\"colorscale\": [[0.0, \"#FF6692\"], [1.0, \"#FF6692\"]], \"geojson\": \"STATE\", \"hovertemplate\": \"Ages 6-21=16935<br>State Name=%{location}<extra></extra>\", \"locations\": [\"Massachusetts\"], \"marker\": {\"opacity\": 0.5}, \"name\": \"16935\", \"showlegend\": true, \"showscale\": false, \"subplot\": \"mapbox\", \"type\": \"choroplethmapbox\", \"z\": [1]}, {\"colorscale\": [[0.0, \"#B6E880\"], [1.0, \"#B6E880\"]], \"geojson\": \"STATE\", \"hovertemplate\": \"Ages 6-21=1042<br>State Name=%{location}<extra></extra>\", \"locations\": [\"Massachusetts\"], \"marker\": {\"opacity\": 0.5}, \"name\": \"1042\", \"showlegend\": true, \"showscale\": false, \"subplot\": \"mapbox\", \"type\": \"choroplethmapbox\", \"z\": [1]}, {\"colorscale\": [[0.0, \"#FF97FF\"], [1.0, \"#FF97FF\"]], \"geojson\": \"STATE\", \"hovertemplate\": \"Ages 6-21=7723<br>State Name=%{location}<extra></extra>\", \"locations\": [\"Massachusetts\"], \"marker\": {\"opacity\": 0.5}, \"name\": \"7723\", \"showlegend\": true, \"showscale\": false, \"subplot\": \"mapbox\", \"type\": \"choroplethmapbox\", \"z\": [1]}, {\"colorscale\": [[0.0, \"#FECB52\"], [1.0, \"#FECB52\"]], \"geojson\": \"STATE\", \"hovertemplate\": \"Ages 6-21=2699<br>State Name=%{location}<extra></extra>\", \"locations\": [\"Massachusetts\"], \"marker\": {\"opacity\": 0.5}, \"name\": \"2699\", \"showlegend\": true, \"showscale\": false, \"subplot\": \"mapbox\", \"type\": \"choroplethmapbox\", \"z\": [1]}, {\"colorscale\": [[0.0, \"#636efa\"], [1.0, \"#636efa\"]], \"geojson\": \"STATE\", \"hovertemplate\": \"Ages 6-21=871<br>State Name=%{location}<extra></extra>\", \"locations\": [\"Massachusetts\"], \"marker\": {\"opacity\": 0.5}, \"name\": \"871\", \"showlegend\": true, \"showscale\": false, \"subplot\": \"mapbox\", \"type\": \"choroplethmapbox\", \"z\": [1]}, {\"colorscale\": [[0.0, \"#EF553B\"], [1.0, \"#EF553B\"]], \"geojson\": \"STATE\", \"hovertemplate\": \"Ages 6-21=23872<br>State Name=%{location}<extra></extra>\", \"locations\": [\"Massachusetts\"], \"marker\": {\"opacity\": 0.5}, \"name\": \"23872\", \"showlegend\": true, \"showscale\": false, \"subplot\": \"mapbox\", \"type\": \"choroplethmapbox\", \"z\": [1]}, {\"colorscale\": [[0.0, \"#00cc96\"], [1.0, \"#00cc96\"]], \"geojson\": \"STATE\", \"hovertemplate\": \"Ages 6-21=41987<br>State Name=%{location}<extra></extra>\", \"locations\": [\"Massachusetts\"], \"marker\": {\"opacity\": 0.5}, \"name\": \"41987\", \"showlegend\": true, \"showscale\": false, \"subplot\": \"mapbox\", \"type\": \"choroplethmapbox\", \"z\": [1]}, {\"colorscale\": [[0.0, \"#ab63fa\"], [1.0, \"#ab63fa\"]], \"geojson\": \"STATE\", \"hovertemplate\": \"Ages 6-21=21140<br>State Name=%{location}<extra></extra>\", \"locations\": [\"Massachusetts\"], \"marker\": {\"opacity\": 0.5}, \"name\": \"21140\", \"showlegend\": true, \"showscale\": false, \"subplot\": \"mapbox\", \"type\": \"choroplethmapbox\", \"z\": [1]}, {\"colorscale\": [[0.0, \"#FFA15A\"], [1.0, \"#FFA15A\"]], \"geojson\": \"STATE\", \"hovertemplate\": \"Ages 6-21=9668<br>State Name=%{location}<extra></extra>\", \"locations\": [\"Massachusetts\"], \"marker\": {\"opacity\": 0.5}, \"name\": \"9668\", \"showlegend\": true, \"showscale\": false, \"subplot\": \"mapbox\", \"type\": \"choroplethmapbox\", \"z\": [1]}, {\"colorscale\": [[0.0, \"#19d3f3\"], [1.0, \"#19d3f3\"]], \"geojson\": \"STATE\", \"hovertemplate\": \"Ages 6-21=529<br>State Name=%{location}<extra></extra>\", \"locations\": [\"Massachusetts\"], \"marker\": {\"opacity\": 0.5}, \"name\": \"529\", \"showlegend\": true, \"showscale\": false, \"subplot\": \"mapbox\", \"type\": \"choroplethmapbox\", \"z\": [1]}, {\"colorscale\": [[0.0, \"#FF6692\"], [1.0, \"#FF6692\"]], \"geojson\": \"STATE\", \"hovertemplate\": \"Ages 6-21=177721<br>State Name=%{location}<extra></extra>\", \"locations\": [\"Michigan\"], \"marker\": {\"opacity\": 0.5}, \"name\": \"177721\", \"showlegend\": true, \"showscale\": false, \"subplot\": \"mapbox\", \"type\": \"choroplethmapbox\", \"z\": [1]}, {\"colorscale\": [[0.0, \"#B6E880\"], [1.0, \"#B6E880\"]], \"geojson\": \"STATE\", \"hovertemplate\": \"Ages 6-21=18509<br>State Name=%{location}<extra></extra>\", \"locations\": [\"Michigan\"], \"marker\": {\"opacity\": 0.5}, \"name\": \"18509\", \"showlegend\": true, \"showscale\": false, \"subplot\": \"mapbox\", \"type\": \"choroplethmapbox\", \"z\": [1]}, {\"colorscale\": [[0.0, \"#FF97FF\"], [1.0, \"#FF97FF\"]], \"geojson\": \"STATE\", \"hovertemplate\": \"Ages 6-21=2296<br>State Name=%{location}<extra></extra>\", \"locations\": [\"Michigan\"], \"marker\": {\"opacity\": 0.5}, \"name\": \"2296\", \"showlegend\": true, \"showscale\": false, \"subplot\": \"mapbox\", \"type\": \"choroplethmapbox\", \"z\": [1]}, {\"colorscale\": [[0.0, \"#FECB52\"], [1.0, \"#FECB52\"]], \"geojson\": \"STATE\", \"hovertemplate\": \"Ages 6-21=11458<br>State Name=%{location}<extra></extra>\", \"locations\": [\"Michigan\"], \"marker\": {\"opacity\": 0.5}, \"name\": \"11458\", \"showlegend\": true, \"showscale\": false, \"subplot\": \"mapbox\", \"type\": \"choroplethmapbox\", \"z\": [1]}, {\"colorscale\": [[0.0, \"#636efa\"], [1.0, \"#636efa\"]], \"geojson\": \"STATE\", \"hovertemplate\": \"Ages 6-21=2211<br>State Name=%{location}<extra></extra>\", \"locations\": [\"Michigan\"], \"marker\": {\"opacity\": 0.5}, \"name\": \"2211\", \"showlegend\": true, \"showscale\": false, \"subplot\": \"mapbox\", \"type\": \"choroplethmapbox\", \"z\": [1]}, {\"colorscale\": [[0.0, \"#EF553B\"], [1.0, \"#EF553B\"]], \"geojson\": \"STATE\", \"hovertemplate\": \"Ages 6-21=16452<br>State Name=%{location}<extra></extra>\", \"locations\": [\"Michigan\"], \"marker\": {\"opacity\": 0.5}, \"name\": \"16452\", \"showlegend\": true, \"showscale\": false, \"subplot\": \"mapbox\", \"type\": \"choroplethmapbox\", \"z\": [1]}, {\"colorscale\": [[0.0, \"#00cc96\"], [1.0, \"#00cc96\"]], \"geojson\": \"STATE\", \"hovertemplate\": \"Ages 6-21=2404<br>State Name=%{location}<extra></extra>\", \"locations\": [\"Michigan\"], \"marker\": {\"opacity\": 0.5}, \"name\": \"2404\", \"showlegend\": true, \"showscale\": false, \"subplot\": \"mapbox\", \"type\": \"choroplethmapbox\", \"z\": [1]}, {\"colorscale\": [[0.0, \"#ab63fa\"], [1.0, \"#ab63fa\"]], \"geojson\": \"STATE\", \"hovertemplate\": \"Ages 6-21=1200<br>State Name=%{location}<extra></extra>\", \"locations\": [\"Michigan\"], \"marker\": {\"opacity\": 0.5}, \"name\": \"1200\", \"showlegend\": true, \"showscale\": false, \"subplot\": \"mapbox\", \"type\": \"choroplethmapbox\", \"z\": [1]}, {\"colorscale\": [[0.0, \"#FFA15A\"], [1.0, \"#FFA15A\"]], \"geojson\": \"STATE\", \"hovertemplate\": \"Ages 6-21=26399<br>State Name=%{location}<extra></extra>\", \"locations\": [\"Michigan\"], \"marker\": {\"opacity\": 0.5}, \"name\": \"26399\", \"showlegend\": true, \"showscale\": false, \"subplot\": \"mapbox\", \"type\": \"choroplethmapbox\", \"z\": [1]}, {\"colorscale\": [[0.0, \"#19d3f3\"], [1.0, \"#19d3f3\"]], \"geojson\": \"STATE\", \"hovertemplate\": \"Ages 6-21=58441<br>State Name=%{location}<extra></extra>\", \"locations\": [\"Michigan\"], \"marker\": {\"opacity\": 0.5}, \"name\": \"58441\", \"showlegend\": true, \"showscale\": false, \"subplot\": \"mapbox\", \"type\": \"choroplethmapbox\", \"z\": [1]}, {\"colorscale\": [[0.0, \"#FF6692\"], [1.0, \"#FF6692\"]], \"geojson\": \"STATE\", \"hovertemplate\": \"Ages 6-21=37194<br>State Name=%{location}<extra></extra>\", \"locations\": [\"Michigan\"], \"marker\": {\"opacity\": 0.5}, \"name\": \"37194\", \"showlegend\": true, \"showscale\": false, \"subplot\": \"mapbox\", \"type\": \"choroplethmapbox\", \"z\": [1]}, {\"colorscale\": [[0.0, \"#B6E880\"], [1.0, \"#B6E880\"]], \"geojson\": \"STATE\", \"hovertemplate\": \"Ages 6-21=435<br>State Name=%{location}<extra></extra>\", \"locations\": [\"Michigan\", \"Utah\"], \"marker\": {\"opacity\": 0.5}, \"name\": \"435\", \"showlegend\": true, \"showscale\": false, \"subplot\": \"mapbox\", \"type\": \"choroplethmapbox\", \"z\": [1, 1]}, {\"colorscale\": [[0.0, \"#FF97FF\"], [1.0, \"#FF97FF\"]], \"geojson\": \"STATE\", \"hovertemplate\": \"Ages 6-21=694<br>State Name=%{location}<extra></extra>\", \"locations\": [\"Michigan\"], \"marker\": {\"opacity\": 0.5}, \"name\": \"694\", \"showlegend\": true, \"showscale\": false, \"subplot\": \"mapbox\", \"type\": \"choroplethmapbox\", \"z\": [1]}, {\"colorscale\": [[0.0, \"#FECB52\"], [1.0, \"#FECB52\"]], \"geojson\": \"STATE\", \"hovertemplate\": \"Ages 6-21=123101<br>State Name=%{location}<extra></extra>\", \"locations\": [\"Minnesota\"], \"marker\": {\"opacity\": 0.5}, \"name\": \"123101\", \"showlegend\": true, \"showscale\": false, \"subplot\": \"mapbox\", \"type\": \"choroplethmapbox\", \"z\": [1]}, {\"colorscale\": [[0.0, \"#636efa\"], [1.0, \"#636efa\"]], \"geojson\": \"STATE\", \"hovertemplate\": \"Ages 6-21=18545<br>State Name=%{location}<extra></extra>\", \"locations\": [\"Minnesota\"], \"marker\": {\"opacity\": 0.5}, \"name\": \"18545\", \"showlegend\": true, \"showscale\": false, \"subplot\": \"mapbox\", \"type\": \"choroplethmapbox\", \"z\": [1]}, {\"colorscale\": [[0.0, \"#EF553B\"], [1.0, \"#EF553B\"]], \"geojson\": \"STATE\", \"hovertemplate\": \"Ages 6-21=105<br>State Name=%{location}<extra></extra>\", \"locations\": [\"Minnesota\"], \"marker\": {\"opacity\": 0.5}, \"name\": \"105\", \"showlegend\": true, \"showscale\": false, \"subplot\": \"mapbox\", \"type\": \"choroplethmapbox\", \"z\": [1]}, {\"colorscale\": [[0.0, \"#00cc96\"], [1.0, \"#00cc96\"]], \"geojson\": \"STATE\", \"hovertemplate\": \"Ages 6-21=3444<br>State Name=%{location}<extra></extra>\", \"locations\": [\"Minnesota\"], \"marker\": {\"opacity\": 0.5}, \"name\": \"3444\", \"showlegend\": true, \"showscale\": false, \"subplot\": \"mapbox\", \"type\": \"choroplethmapbox\", \"z\": [1]}, {\"colorscale\": [[0.0, \"#ab63fa\"], [1.0, \"#ab63fa\"]], \"geojson\": \"STATE\", \"hovertemplate\": \"Ages 6-21=16510<br>State Name=%{location}<extra></extra>\", \"locations\": [\"Minnesota\"], \"marker\": {\"opacity\": 0.5}, \"name\": \"16510\", \"showlegend\": true, \"showscale\": false, \"subplot\": \"mapbox\", \"type\": \"choroplethmapbox\", \"z\": [1]}, {\"colorscale\": [[0.0, \"#FFA15A\"], [1.0, \"#FFA15A\"]], \"geojson\": \"STATE\", \"hovertemplate\": \"Ages 6-21=2075<br>State Name=%{location}<extra></extra>\", \"locations\": [\"Minnesota\"], \"marker\": {\"opacity\": 0.5}, \"name\": \"2075\", \"showlegend\": true, \"showscale\": false, \"subplot\": \"mapbox\", \"type\": \"choroplethmapbox\", \"z\": [1]}, {\"colorscale\": [[0.0, \"#19d3f3\"], [1.0, \"#19d3f3\"]], \"geojson\": \"STATE\", \"hovertemplate\": \"Ages 6-21=7330<br>State Name=%{location}<extra></extra>\", \"locations\": [\"Minnesota\"], \"marker\": {\"opacity\": 0.5}, \"name\": \"7330\", \"showlegend\": true, \"showscale\": false, \"subplot\": \"mapbox\", \"type\": \"choroplethmapbox\", \"z\": [1]}, {\"colorscale\": [[0.0, \"#FF6692\"], [1.0, \"#FF6692\"]], \"geojson\": \"STATE\", \"hovertemplate\": \"Ages 6-21=1480<br>State Name=%{location}<extra></extra>\", \"locations\": [\"Minnesota\"], \"marker\": {\"opacity\": 0.5}, \"name\": \"1480\", \"showlegend\": true, \"showscale\": false, \"subplot\": \"mapbox\", \"type\": \"choroplethmapbox\", \"z\": [1]}, {\"colorscale\": [[0.0, \"#B6E880\"], [1.0, \"#B6E880\"]], \"geojson\": \"STATE\", \"hovertemplate\": \"Ages 6-21=1468<br>State Name=%{location}<extra></extra>\", \"locations\": [\"Minnesota\"], \"marker\": {\"opacity\": 0.5}, \"name\": \"1468\", \"showlegend\": true, \"showscale\": false, \"subplot\": \"mapbox\", \"type\": \"choroplethmapbox\", \"z\": [1]}, {\"colorscale\": [[0.0, \"#FF97FF\"], [1.0, \"#FF97FF\"]], \"geojson\": \"STATE\", \"hovertemplate\": \"Ages 6-21=19953<br>State Name=%{location}<extra></extra>\", \"locations\": [\"Minnesota\"], \"marker\": {\"opacity\": 0.5}, \"name\": \"19953\", \"showlegend\": true, \"showscale\": false, \"subplot\": \"mapbox\", \"type\": \"choroplethmapbox\", \"z\": [1]}, {\"colorscale\": [[0.0, \"#FECB52\"], [1.0, \"#FECB52\"]], \"geojson\": \"STATE\", \"hovertemplate\": \"Ages 6-21=33821<br>State Name=%{location}<extra></extra>\", \"locations\": [\"Minnesota\"], \"marker\": {\"opacity\": 0.5}, \"name\": \"33821\", \"showlegend\": true, \"showscale\": false, \"subplot\": \"mapbox\", \"type\": \"choroplethmapbox\", \"z\": [1]}, {\"colorscale\": [[0.0, \"#636efa\"], [1.0, \"#636efa\"]], \"geojson\": \"STATE\", \"hovertemplate\": \"Ages 6-21=17513<br>State Name=%{location}<extra></extra>\", \"locations\": [\"Minnesota\"], \"marker\": {\"opacity\": 0.5}, \"name\": \"17513\", \"showlegend\": true, \"showscale\": false, \"subplot\": \"mapbox\", \"type\": \"choroplethmapbox\", \"z\": [1]}, {\"colorscale\": [[0.0, \"#EF553B\"], [1.0, \"#EF553B\"]], \"geojson\": \"STATE\", \"hovertemplate\": \"Ages 6-21=436<br>State Name=%{location}<extra></extra>\", \"locations\": [\"Minnesota\", \"Missouri\"], \"marker\": {\"opacity\": 0.5}, \"name\": \"436\", \"showlegend\": true, \"showscale\": false, \"subplot\": \"mapbox\", \"type\": \"choroplethmapbox\", \"z\": [1, 1]}, {\"colorscale\": [[0.0, \"#00cc96\"], [1.0, \"#00cc96\"]], \"geojson\": \"STATE\", \"hovertemplate\": \"Ages 6-21=421<br>State Name=%{location}<extra></extra>\", \"locations\": [\"Minnesota\"], \"marker\": {\"opacity\": 0.5}, \"name\": \"421\", \"showlegend\": true, \"showscale\": false, \"subplot\": \"mapbox\", \"type\": \"choroplethmapbox\", \"z\": [1]}, {\"colorscale\": [[0.0, \"#ab63fa\"], [1.0, \"#ab63fa\"]], \"geojson\": \"STATE\", \"hovertemplate\": \"Ages 6-21=61172<br>State Name=%{location}<extra></extra>\", \"locations\": [\"Mississippi\"], \"marker\": {\"opacity\": 0.5}, \"name\": \"61172\", \"showlegend\": true, \"showscale\": false, \"subplot\": \"mapbox\", \"type\": \"choroplethmapbox\", \"z\": [1]}, {\"colorscale\": [[0.0, \"#FFA15A\"], [1.0, \"#FFA15A\"]], \"geojson\": \"STATE\", \"hovertemplate\": \"Ages 6-21=5020<br>State Name=%{location}<extra></extra>\", \"locations\": [\"Mississippi\"], \"marker\": {\"opacity\": 0.5}, \"name\": \"5020\", \"showlegend\": true, \"showscale\": false, \"subplot\": \"mapbox\", \"type\": \"choroplethmapbox\", \"z\": [1]}, {\"colorscale\": [[0.0, \"#19d3f3\"], [1.0, \"#19d3f3\"]], \"geojson\": \"STATE\", \"hovertemplate\": \"Ages 6-21=4243<br>State Name=%{location}<extra></extra>\", \"locations\": [\"Mississippi\"], \"marker\": {\"opacity\": 0.5}, \"name\": \"4243\", \"showlegend\": true, \"showscale\": false, \"subplot\": \"mapbox\", \"type\": \"choroplethmapbox\", \"z\": [1]}, {\"colorscale\": [[0.0, \"#FF6692\"], [1.0, \"#FF6692\"]], \"geojson\": \"STATE\", \"hovertemplate\": \"Ages 6-21=3326<br>State Name=%{location}<extra></extra>\", \"locations\": [\"Mississippi\"], \"marker\": {\"opacity\": 0.5}, \"name\": \"3326\", \"showlegend\": true, \"showscale\": false, \"subplot\": \"mapbox\", \"type\": \"choroplethmapbox\", \"z\": [1]}, {\"colorscale\": [[0.0, \"#B6E880\"], [1.0, \"#B6E880\"]], \"geojson\": \"STATE\", \"hovertemplate\": \"Ages 6-21=661<br>State Name=%{location}<extra></extra>\", \"locations\": [\"Mississippi\"], \"marker\": {\"opacity\": 0.5}, \"name\": \"661\", \"showlegend\": true, \"showscale\": false, \"subplot\": \"mapbox\", \"type\": \"choroplethmapbox\", \"z\": [1]}, {\"colorscale\": [[0.0, \"#FF97FF\"], [1.0, \"#FF97FF\"]], \"geojson\": \"STATE\", \"hovertemplate\": \"Ages 6-21=3948<br>State Name=%{location}<extra></extra>\", \"locations\": [\"Mississippi\", \"Nebraska\"], \"marker\": {\"opacity\": 0.5}, \"name\": \"3948\", \"showlegend\": true, \"showscale\": false, \"subplot\": \"mapbox\", \"type\": \"choroplethmapbox\", \"z\": [1, 1]}, {\"colorscale\": [[0.0, \"#FECB52\"], [1.0, \"#FECB52\"]], \"geojson\": \"STATE\", \"hovertemplate\": \"Ages 6-21=1343<br>State Name=%{location}<extra></extra>\", \"locations\": [\"Mississippi\"], \"marker\": {\"opacity\": 0.5}, \"name\": \"1343\", \"showlegend\": true, \"showscale\": false, \"subplot\": \"mapbox\", \"type\": \"choroplethmapbox\", \"z\": [1]}, {\"colorscale\": [[0.0, \"#636efa\"], [1.0, \"#636efa\"]], \"geojson\": \"STATE\", \"hovertemplate\": \"Ages 6-21=328<br>State Name=%{location}<extra></extra>\", \"locations\": [\"Mississippi\"], \"marker\": {\"opacity\": 0.5}, \"name\": \"328\", \"showlegend\": true, \"showscale\": false, \"subplot\": \"mapbox\", \"type\": \"choroplethmapbox\", \"z\": [1]}, {\"colorscale\": [[0.0, \"#EF553B\"], [1.0, \"#EF553B\"]], \"geojson\": \"STATE\", \"hovertemplate\": \"Ages 6-21=12206<br>State Name=%{location}<extra></extra>\", \"locations\": [\"Mississippi\"], \"marker\": {\"opacity\": 0.5}, \"name\": \"12206\", \"showlegend\": true, \"showscale\": false, \"subplot\": \"mapbox\", \"type\": \"choroplethmapbox\", \"z\": [1]}, {\"colorscale\": [[0.0, \"#00cc96\"], [1.0, \"#00cc96\"]], \"geojson\": \"STATE\", \"hovertemplate\": \"Ages 6-21=17153<br>State Name=%{location}<extra></extra>\", \"locations\": [\"Mississippi\"], \"marker\": {\"opacity\": 0.5}, \"name\": \"17153\", \"showlegend\": true, \"showscale\": false, \"subplot\": \"mapbox\", \"type\": \"choroplethmapbox\", \"z\": [1]}, {\"colorscale\": [[0.0, \"#ab63fa\"], [1.0, \"#ab63fa\"]], \"geojson\": \"STATE\", \"hovertemplate\": \"Ages 6-21=12489<br>State Name=%{location}<extra></extra>\", \"locations\": [\"Mississippi\"], \"marker\": {\"opacity\": 0.5}, \"name\": \"12489\", \"showlegend\": true, \"showscale\": false, \"subplot\": \"mapbox\", \"type\": \"choroplethmapbox\", \"z\": [1]}, {\"colorscale\": [[0.0, \"#FFA15A\"], [1.0, \"#FFA15A\"]], \"geojson\": \"STATE\", \"hovertemplate\": \"Ages 6-21=154<br>State Name=%{location}<extra></extra>\", \"locations\": [\"Mississippi\"], \"marker\": {\"opacity\": 0.5}, \"name\": \"154\", \"showlegend\": true, \"showscale\": false, \"subplot\": \"mapbox\", \"type\": \"choroplethmapbox\", \"z\": [1]}, {\"colorscale\": [[0.0, \"#19d3f3\"], [1.0, \"#19d3f3\"]], \"geojson\": \"STATE\", \"hovertemplate\": \"Ages 6-21=292<br>State Name=%{location}<extra></extra>\", \"locations\": [\"Mississippi\"], \"marker\": {\"opacity\": 0.5}, \"name\": \"292\", \"showlegend\": true, \"showscale\": false, \"subplot\": \"mapbox\", \"type\": \"choroplethmapbox\", \"z\": [1]}, {\"colorscale\": [[0.0, \"#FF6692\"], [1.0, \"#FF6692\"]], \"geojson\": \"STATE\", \"hovertemplate\": \"Ages 6-21=114033<br>State Name=%{location}<extra></extra>\", \"locations\": [\"Missouri\"], \"marker\": {\"opacity\": 0.5}, \"name\": \"114033\", \"showlegend\": true, \"showscale\": false, \"subplot\": \"mapbox\", \"type\": \"choroplethmapbox\", \"z\": [1]}, {\"colorscale\": [[0.0, \"#B6E880\"], [1.0, \"#B6E880\"]], \"geojson\": \"STATE\", \"hovertemplate\": \"Ages 6-21=12240<br>State Name=%{location}<extra></extra>\", \"locations\": [\"Missouri\"], \"marker\": {\"opacity\": 0.5}, \"name\": \"12240\", \"showlegend\": true, \"showscale\": false, \"subplot\": \"mapbox\", \"type\": \"choroplethmapbox\", \"z\": [1]}, {\"colorscale\": [[0.0, \"#FF97FF\"], [1.0, \"#FF97FF\"]], \"geojson\": \"STATE\", \"hovertemplate\": \"Ages 6-21=1022<br>State Name=%{location}<extra></extra>\", \"locations\": [\"Missouri\", \"Missouri\"], \"marker\": {\"opacity\": 0.5}, \"name\": \"1022\", \"showlegend\": true, \"showscale\": false, \"subplot\": \"mapbox\", \"type\": \"choroplethmapbox\", \"z\": [1, 1]}, {\"colorscale\": [[0.0, \"#FECB52\"], [1.0, \"#FECB52\"]], \"geojson\": \"STATE\", \"hovertemplate\": \"Ages 6-21=7072<br>State Name=%{location}<extra></extra>\", \"locations\": [\"Missouri\"], \"marker\": {\"opacity\": 0.5}, \"name\": \"7072\", \"showlegend\": true, \"showscale\": false, \"subplot\": \"mapbox\", \"type\": \"choroplethmapbox\", \"z\": [1]}, {\"colorscale\": [[0.0, \"#636efa\"], [1.0, \"#636efa\"]], \"geojson\": \"STATE\", \"hovertemplate\": \"Ages 6-21=9125<br>State Name=%{location}<extra></extra>\", \"locations\": [\"Missouri\"], \"marker\": {\"opacity\": 0.5}, \"name\": \"9125\", \"showlegend\": true, \"showscale\": false, \"subplot\": \"mapbox\", \"type\": \"choroplethmapbox\", \"z\": [1]}, {\"colorscale\": [[0.0, \"#EF553B\"], [1.0, \"#EF553B\"]], \"geojson\": \"STATE\", \"hovertemplate\": \"Ages 6-21=1353<br>State Name=%{location}<extra></extra>\", \"locations\": [\"Missouri\"], \"marker\": {\"opacity\": 0.5}, \"name\": \"1353\", \"showlegend\": true, \"showscale\": false, \"subplot\": \"mapbox\", \"type\": \"choroplethmapbox\", \"z\": [1]}, {\"colorscale\": [[0.0, \"#00cc96\"], [1.0, \"#00cc96\"]], \"geojson\": \"STATE\", \"hovertemplate\": \"Ages 6-21=387<br>State Name=%{location}<extra></extra>\", \"locations\": [\"Missouri\"], \"marker\": {\"opacity\": 0.5}, \"name\": \"387\", \"showlegend\": true, \"showscale\": false, \"subplot\": \"mapbox\", \"type\": \"choroplethmapbox\", \"z\": [1]}, {\"colorscale\": [[0.0, \"#ab63fa\"], [1.0, \"#ab63fa\"]], \"geojson\": \"STATE\", \"hovertemplate\": \"Ages 6-21=25700<br>State Name=%{location}<extra></extra>\", \"locations\": [\"Missouri\"], \"marker\": {\"opacity\": 0.5}, \"name\": \"25700\", \"showlegend\": true, \"showscale\": false, \"subplot\": \"mapbox\", \"type\": \"choroplethmapbox\", \"z\": [1]}, {\"colorscale\": [[0.0, \"#FFA15A\"], [1.0, \"#FFA15A\"]], \"geojson\": \"STATE\", \"hovertemplate\": \"Ages 6-21=30833<br>State Name=%{location}<extra></extra>\", \"locations\": [\"Missouri\"], \"marker\": {\"opacity\": 0.5}, \"name\": \"30833\", \"showlegend\": true, \"showscale\": false, \"subplot\": \"mapbox\", \"type\": \"choroplethmapbox\", \"z\": [1]}, {\"colorscale\": [[0.0, \"#19d3f3\"], [1.0, \"#19d3f3\"]], \"geojson\": \"STATE\", \"hovertemplate\": \"Ages 6-21=24425<br>State Name=%{location}<extra></extra>\", \"locations\": [\"Missouri\"], \"marker\": {\"opacity\": 0.5}, \"name\": \"24425\", \"showlegend\": true, \"showscale\": false, \"subplot\": \"mapbox\", \"type\": \"choroplethmapbox\", \"z\": [1]}, {\"colorscale\": [[0.0, \"#FF6692\"], [1.0, \"#FF6692\"]], \"geojson\": \"STATE\", \"hovertemplate\": \"Ages 6-21=391<br>State Name=%{location}<extra></extra>\", \"locations\": [\"Missouri\", \"South Carolina\"], \"marker\": {\"opacity\": 0.5}, \"name\": \"391\", \"showlegend\": true, \"showscale\": false, \"subplot\": \"mapbox\", \"type\": \"choroplethmapbox\", \"z\": [1, 1]}, {\"colorscale\": [[0.0, \"#B6E880\"], [1.0, \"#B6E880\"]], \"geojson\": \"STATE\", \"hovertemplate\": \"Ages 6-21=17658<br>State Name=%{location}<extra></extra>\", \"locations\": [\"Montana\"], \"marker\": {\"opacity\": 0.5}, \"name\": \"17658\", \"showlegend\": true, \"showscale\": false, \"subplot\": \"mapbox\", \"type\": \"choroplethmapbox\", \"z\": [1]}, {\"colorscale\": [[0.0, \"#FF97FF\"], [1.0, \"#FF97FF\"]], \"geojson\": \"STATE\", \"hovertemplate\": \"Ages 6-21=908<br>State Name=%{location}<extra></extra>\", \"locations\": [\"Montana\"], \"marker\": {\"opacity\": 0.5}, \"name\": \"908\", \"showlegend\": true, \"showscale\": false, \"subplot\": \"mapbox\", \"type\": \"choroplethmapbox\", \"z\": [1]}, {\"colorscale\": [[0.0, \"#FECB52\"], [1.0, \"#FECB52\"]], \"geojson\": \"STATE\", \"hovertemplate\": \"Ages 6-21=6<br>State Name=%{location}<extra></extra>\", \"locations\": [\"Montana\", \"Northern Marianas\", \"Republic of the Marshall Islands\"], \"marker\": {\"opacity\": 0.5}, \"name\": \"6\", \"showlegend\": true, \"showscale\": false, \"subplot\": \"mapbox\", \"type\": \"choroplethmapbox\", \"z\": [1, 1, 1]}, {\"colorscale\": [[0.0, \"#636efa\"], [1.0, \"#636efa\"]], \"geojson\": \"STATE\", \"hovertemplate\": \"Ages 6-21=881<br>State Name=%{location}<extra></extra>\", \"locations\": [\"Montana\"], \"marker\": {\"opacity\": 0.5}, \"name\": \"881\", \"showlegend\": true, \"showscale\": false, \"subplot\": \"mapbox\", \"type\": \"choroplethmapbox\", \"z\": [1]}, {\"colorscale\": [[0.0, \"#EF553B\"], [1.0, \"#EF553B\"]], \"geojson\": \"STATE\", \"hovertemplate\": \"Ages 6-21=573<br>State Name=%{location}<extra></extra>\", \"locations\": [\"Montana\"], \"marker\": {\"opacity\": 0.5}, \"name\": \"573\", \"showlegend\": true, \"showscale\": false, \"subplot\": \"mapbox\", \"type\": \"choroplethmapbox\", \"z\": [1]}, {\"colorscale\": [[0.0, \"#00cc96\"], [1.0, \"#00cc96\"]], \"geojson\": \"STATE\", \"hovertemplate\": \"Ages 6-21=3899<br>State Name=%{location}<extra></extra>\", \"locations\": [\"Montana\"], \"marker\": {\"opacity\": 0.5}, \"name\": \"3899\", \"showlegend\": true, \"showscale\": false, \"subplot\": \"mapbox\", \"type\": \"choroplethmapbox\", \"z\": [1]}, {\"colorscale\": [[0.0, \"#ab63fa\"], [1.0, \"#ab63fa\"]], \"geojson\": \"STATE\", \"hovertemplate\": \"Ages 6-21=2283<br>State Name=%{location}<extra></extra>\", \"locations\": [\"Montana\"], \"marker\": {\"opacity\": 0.5}, \"name\": \"2283\", \"showlegend\": true, \"showscale\": false, \"subplot\": \"mapbox\", \"type\": \"choroplethmapbox\", \"z\": [1]}, {\"colorscale\": [[0.0, \"#FFA15A\"], [1.0, \"#FFA15A\"]], \"geojson\": \"STATE\", \"hovertemplate\": \"Ages 6-21=5846<br>State Name=%{location}<extra></extra>\", \"locations\": [\"Montana\"], \"marker\": {\"opacity\": 0.5}, \"name\": \"5846\", \"showlegend\": true, \"showscale\": false, \"subplot\": \"mapbox\", \"type\": \"choroplethmapbox\", \"z\": [1]}, {\"colorscale\": [[0.0, \"#19d3f3\"], [1.0, \"#19d3f3\"]], \"geojson\": \"STATE\", \"hovertemplate\": \"Ages 6-21=3048<br>State Name=%{location}<extra></extra>\", \"locations\": [\"Montana\"], \"marker\": {\"opacity\": 0.5}, \"name\": \"3048\", \"showlegend\": true, \"showscale\": false, \"subplot\": \"mapbox\", \"type\": \"choroplethmapbox\", \"z\": [1]}, {\"colorscale\": [[0.0, \"#FF6692\"], [1.0, \"#FF6692\"]], \"geojson\": \"STATE\", \"hovertemplate\": \"Ages 6-21=50<br>State Name=%{location}<extra></extra>\", \"locations\": [\"Montana\", \"North Dakota\"], \"marker\": {\"opacity\": 0.5}, \"name\": \"50\", \"showlegend\": true, \"showscale\": false, \"subplot\": \"mapbox\", \"type\": \"choroplethmapbox\", \"z\": [1, 1]}, {\"colorscale\": [[0.0, \"#B6E880\"], [1.0, \"#B6E880\"]], \"geojson\": \"STATE\", \"hovertemplate\": \"Ages 6-21=45454<br>State Name=%{location}<extra></extra>\", \"locations\": [\"Nebraska\"], \"marker\": {\"opacity\": 0.5}, \"name\": \"45454\", \"showlegend\": true, \"showscale\": false, \"subplot\": \"mapbox\", \"type\": \"choroplethmapbox\", \"z\": [1]}, {\"colorscale\": [[0.0, \"#FF97FF\"], [1.0, \"#FF97FF\"]], \"geojson\": \"STATE\", \"hovertemplate\": \"Ages 6-21=2189<br>State Name=%{location}<extra></extra>\", \"locations\": [\"Nebraska\"], \"marker\": {\"opacity\": 0.5}, \"name\": \"2189\", \"showlegend\": true, \"showscale\": false, \"subplot\": \"mapbox\", \"type\": \"choroplethmapbox\", \"z\": [1]}, {\"colorscale\": [[0.0, \"#FECB52\"], [1.0, \"#FECB52\"]], \"geojson\": \"STATE\", \"hovertemplate\": \"Ages 6-21=2846<br>State Name=%{location}<extra></extra>\", \"locations\": [\"Nebraska\"], \"marker\": {\"opacity\": 0.5}, \"name\": \"2846\", \"showlegend\": true, \"showscale\": false, \"subplot\": \"mapbox\", \"type\": \"choroplethmapbox\", \"z\": [1]}, {\"colorscale\": [[0.0, \"#636efa\"], [1.0, \"#636efa\"]], \"geojson\": \"STATE\", \"hovertemplate\": \"Ages 6-21=697<br>State Name=%{location}<extra></extra>\", \"locations\": [\"Nebraska\"], \"marker\": {\"opacity\": 0.5}, \"name\": \"697\", \"showlegend\": true, \"showscale\": false, \"subplot\": \"mapbox\", \"type\": \"choroplethmapbox\", \"z\": [1]}, {\"colorscale\": [[0.0, \"#EF553B\"], [1.0, \"#EF553B\"]], \"geojson\": \"STATE\", \"hovertemplate\": \"Ages 6-21=2824<br>State Name=%{location}<extra></extra>\", \"locations\": [\"Nebraska\"], \"marker\": {\"opacity\": 0.5}, \"name\": \"2824\", \"showlegend\": true, \"showscale\": false, \"subplot\": \"mapbox\", \"type\": \"choroplethmapbox\", \"z\": [1]}, {\"colorscale\": [[0.0, \"#00cc96\"], [1.0, \"#00cc96\"]], \"geojson\": \"STATE\", \"hovertemplate\": \"Ages 6-21=401<br>State Name=%{location}<extra></extra>\", \"locations\": [\"Nebraska\"], \"marker\": {\"opacity\": 0.5}, \"name\": \"401\", \"showlegend\": true, \"showscale\": false, \"subplot\": \"mapbox\", \"type\": \"choroplethmapbox\", \"z\": [1]}, {\"colorscale\": [[0.0, \"#ab63fa\"], [1.0, \"#ab63fa\"]], \"geojson\": \"STATE\", \"hovertemplate\": \"Ages 6-21=206<br>State Name=%{location}<extra></extra>\", \"locations\": [\"Nebraska\"], \"marker\": {\"opacity\": 0.5}, \"name\": \"206\", \"showlegend\": true, \"showscale\": false, \"subplot\": \"mapbox\", \"type\": \"choroplethmapbox\", \"z\": [1]}, {\"colorscale\": [[0.0, \"#FFA15A\"], [1.0, \"#FFA15A\"]], \"geojson\": \"STATE\", \"hovertemplate\": \"Ages 6-21=6766<br>State Name=%{location}<extra></extra>\", \"locations\": [\"Nebraska\"], \"marker\": {\"opacity\": 0.5}, \"name\": \"6766\", \"showlegend\": true, \"showscale\": false, \"subplot\": \"mapbox\", \"type\": \"choroplethmapbox\", \"z\": [1]}, {\"colorscale\": [[0.0, \"#19d3f3\"], [1.0, \"#19d3f3\"]], \"geojson\": \"STATE\", \"hovertemplate\": \"Ages 6-21=16051<br>State Name=%{location}<extra></extra>\", \"locations\": [\"Nebraska\"], \"marker\": {\"opacity\": 0.5}, \"name\": \"16051\", \"showlegend\": true, \"showscale\": false, \"subplot\": \"mapbox\", \"type\": \"choroplethmapbox\", \"z\": [1]}, {\"colorscale\": [[0.0, \"#FF6692\"], [1.0, \"#FF6692\"]], \"geojson\": \"STATE\", \"hovertemplate\": \"Ages 6-21=9136<br>State Name=%{location}<extra></extra>\", \"locations\": [\"Nebraska\"], \"marker\": {\"opacity\": 0.5}, \"name\": \"9136\", \"showlegend\": true, \"showscale\": false, \"subplot\": \"mapbox\", \"type\": \"choroplethmapbox\", \"z\": [1]}, {\"colorscale\": [[0.0, \"#B6E880\"], [1.0, \"#B6E880\"]], \"geojson\": \"STATE\", \"hovertemplate\": \"Ages 6-21=194<br>State Name=%{location}<extra></extra>\", \"locations\": [\"Nebraska\"], \"marker\": {\"opacity\": 0.5}, \"name\": \"194\", \"showlegend\": true, \"showscale\": false, \"subplot\": \"mapbox\", \"type\": \"choroplethmapbox\", \"z\": [1]}, {\"colorscale\": [[0.0, \"#FF97FF\"], [1.0, \"#FF97FF\"]], \"geojson\": \"STATE\", \"hovertemplate\": \"Ages 6-21=51677<br>State Name=%{location}<extra></extra>\", \"locations\": [\"Nevada\"], \"marker\": {\"opacity\": 0.5}, \"name\": \"51677\", \"showlegend\": true, \"showscale\": false, \"subplot\": \"mapbox\", \"type\": \"choroplethmapbox\", \"z\": [1]}, {\"colorscale\": [[0.0, \"#FECB52\"], [1.0, \"#FECB52\"]], \"geojson\": \"STATE\", \"hovertemplate\": \"Ages 6-21=6789<br>State Name=%{location}<extra></extra>\", \"locations\": [\"Nevada\"], \"marker\": {\"opacity\": 0.5}, \"name\": \"6789\", \"showlegend\": true, \"showscale\": false, \"subplot\": \"mapbox\", \"type\": \"choroplethmapbox\", \"z\": [1]}, {\"colorscale\": [[0.0, \"#636efa\"], [1.0, \"#636efa\"]], \"geojson\": \"STATE\", \"hovertemplate\": \"Ages 6-21=1959<br>State Name=%{location}<extra></extra>\", \"locations\": [\"Nevada\"], \"marker\": {\"opacity\": 0.5}, \"name\": \"1959\", \"showlegend\": true, \"showscale\": false, \"subplot\": \"mapbox\", \"type\": \"choroplethmapbox\", \"z\": [1]}, {\"colorscale\": [[0.0, \"#EF553B\"], [1.0, \"#EF553B\"]], \"geojson\": \"STATE\", \"hovertemplate\": \"Ages 6-21=438<br>State Name=%{location}<extra></extra>\", \"locations\": [\"Nevada\"], \"marker\": {\"opacity\": 0.5}, \"name\": \"438\", \"showlegend\": true, \"showscale\": false, \"subplot\": \"mapbox\", \"type\": \"choroplethmapbox\", \"z\": [1]}, {\"colorscale\": [[0.0, \"#00cc96\"], [1.0, \"#00cc96\"]], \"geojson\": \"STATE\", \"hovertemplate\": \"Ages 6-21=2078<br>State Name=%{location}<extra></extra>\", \"locations\": [\"Nevada\"], \"marker\": {\"opacity\": 0.5}, \"name\": \"2078\", \"showlegend\": true, \"showscale\": false, \"subplot\": \"mapbox\", \"type\": \"choroplethmapbox\", \"z\": [1]}, {\"colorscale\": [[0.0, \"#ab63fa\"], [1.0, \"#ab63fa\"]], \"geojson\": \"STATE\", \"hovertemplate\": \"Ages 6-21=1167<br>State Name=%{location}<extra></extra>\", \"locations\": [\"Nevada\"], \"marker\": {\"opacity\": 0.5}, \"name\": \"1167\", \"showlegend\": true, \"showscale\": false, \"subplot\": \"mapbox\", \"type\": \"choroplethmapbox\", \"z\": [1]}, {\"colorscale\": [[0.0, \"#FFA15A\"], [1.0, \"#FFA15A\"]], \"geojson\": \"STATE\", \"hovertemplate\": \"Ages 6-21=291<br>State Name=%{location}<extra></extra>\", \"locations\": [\"Nevada\"], \"marker\": {\"opacity\": 0.5}, \"name\": \"291\", \"showlegend\": true, \"showscale\": false, \"subplot\": \"mapbox\", \"type\": \"choroplethmapbox\", \"z\": [1]}, {\"colorscale\": [[0.0, \"#19d3f3\"], [1.0, \"#19d3f3\"]], \"geojson\": \"STATE\", \"hovertemplate\": \"Ages 6-21=5683<br>State Name=%{location}<extra></extra>\", \"locations\": [\"Nevada\"], \"marker\": {\"opacity\": 0.5}, \"name\": \"5683\", \"showlegend\": true, \"showscale\": false, \"subplot\": \"mapbox\", \"type\": \"choroplethmapbox\", \"z\": [1]}, {\"colorscale\": [[0.0, \"#FF6692\"], [1.0, \"#FF6692\"]], \"geojson\": \"STATE\", \"hovertemplate\": \"Ages 6-21=25620<br>State Name=%{location}<extra></extra>\", \"locations\": [\"Nevada\"], \"marker\": {\"opacity\": 0.5}, \"name\": \"25620\", \"showlegend\": true, \"showscale\": false, \"subplot\": \"mapbox\", \"type\": \"choroplethmapbox\", \"z\": [1]}, {\"colorscale\": [[0.0, \"#B6E880\"], [1.0, \"#B6E880\"]], \"geojson\": \"STATE\", \"hovertemplate\": \"Ages 6-21=7364<br>State Name=%{location}<extra></extra>\", \"locations\": [\"Nevada\"], \"marker\": {\"opacity\": 0.5}, \"name\": \"7364\", \"showlegend\": true, \"showscale\": false, \"subplot\": \"mapbox\", \"type\": \"choroplethmapbox\", \"z\": [1]}, {\"colorscale\": [[0.0, \"#FF97FF\"], [1.0, \"#FF97FF\"]], \"geojson\": \"STATE\", \"hovertemplate\": \"Ages 6-21=113<br>State Name=%{location}<extra></extra>\", \"locations\": [\"Nevada\"], \"marker\": {\"opacity\": 0.5}, \"name\": \"113\", \"showlegend\": true, \"showscale\": false, \"subplot\": \"mapbox\", \"type\": \"choroplethmapbox\", \"z\": [1]}, {\"colorscale\": [[0.0, \"#FECB52\"], [1.0, \"#FECB52\"]], \"geojson\": \"STATE\", \"hovertemplate\": \"Ages 6-21=26243<br>State Name=%{location}<extra></extra>\", \"locations\": [\"New Hampshire\"], \"marker\": {\"opacity\": 0.5}, \"name\": \"26243\", \"showlegend\": true, \"showscale\": false, \"subplot\": \"mapbox\", \"type\": \"choroplethmapbox\", \"z\": [1]}, {\"colorscale\": [[0.0, \"#636efa\"], [1.0, \"#636efa\"]], \"geojson\": \"STATE\", \"hovertemplate\": \"Ages 6-21=2787<br>State Name=%{location}<extra></extra>\", \"locations\": [\"New Hampshire\"], \"marker\": {\"opacity\": 0.5}, \"name\": \"2787\", \"showlegend\": true, \"showscale\": false, \"subplot\": \"mapbox\", \"type\": \"choroplethmapbox\", \"z\": [1]}, {\"colorscale\": [[0.0, \"#EF553B\"], [1.0, \"#EF553B\"]], \"geojson\": \"STATE\", \"hovertemplate\": \"Ages 6-21=2407<br>State Name=%{location}<extra></extra>\", \"locations\": [\"New Hampshire\"], \"marker\": {\"opacity\": 0.5}, \"name\": \"2407\", \"showlegend\": true, \"showscale\": false, \"subplot\": \"mapbox\", \"type\": \"choroplethmapbox\", \"z\": [1]}, {\"colorscale\": [[0.0, \"#00cc96\"], [1.0, \"#00cc96\"]], \"geojson\": \"STATE\", \"hovertemplate\": \"Ages 6-21=2095<br>State Name=%{location}<extra></extra>\", \"locations\": [\"New Hampshire\"], \"marker\": {\"opacity\": 0.5}, \"name\": \"2095\", \"showlegend\": true, \"showscale\": false, \"subplot\": \"mapbox\", \"type\": \"choroplethmapbox\", \"z\": [1]}, {\"colorscale\": [[0.0, \"#ab63fa\"], [1.0, \"#ab63fa\"]], \"geojson\": \"STATE\", \"hovertemplate\": \"Ages 6-21=146<br>State Name=%{location}<extra></extra>\", \"locations\": [\"New Hampshire\"], \"marker\": {\"opacity\": 0.5}, \"name\": \"146\", \"showlegend\": true, \"showscale\": false, \"subplot\": \"mapbox\", \"type\": \"choroplethmapbox\", \"z\": [1]}, {\"colorscale\": [[0.0, \"#FFA15A\"], [1.0, \"#FFA15A\"]], \"geojson\": \"STATE\", \"hovertemplate\": \"Ages 6-21=836<br>State Name=%{location}<extra></extra>\", \"locations\": [\"New Hampshire\"], \"marker\": {\"opacity\": 0.5}, \"name\": \"836\", \"showlegend\": true, \"showscale\": false, \"subplot\": \"mapbox\", \"type\": \"choroplethmapbox\", \"z\": [1]}, {\"colorscale\": [[0.0, \"#19d3f3\"], [1.0, \"#19d3f3\"]], \"geojson\": \"STATE\", \"hovertemplate\": \"Ages 6-21=358<br>State Name=%{location}<extra></extra>\", \"locations\": [\"New Hampshire\"], \"marker\": {\"opacity\": 0.5}, \"name\": \"358\", \"showlegend\": true, \"showscale\": false, \"subplot\": \"mapbox\", \"type\": \"choroplethmapbox\", \"z\": [1]}, {\"colorscale\": [[0.0, \"#FF6692\"], [1.0, \"#FF6692\"]], \"geojson\": \"STATE\", \"hovertemplate\": \"Ages 6-21=51<br>State Name=%{location}<extra></extra>\", \"locations\": [\"New Hampshire\"], \"marker\": {\"opacity\": 0.5}, \"name\": \"51\", \"showlegend\": true, \"showscale\": false, \"subplot\": \"mapbox\", \"type\": \"choroplethmapbox\", \"z\": [1]}, {\"colorscale\": [[0.0, \"#B6E880\"], [1.0, \"#B6E880\"]], \"geojson\": \"STATE\", \"hovertemplate\": \"Ages 6-21=5286<br>State Name=%{location}<extra></extra>\", \"locations\": [\"New Hampshire\", \"Oregon\"], \"marker\": {\"opacity\": 0.5}, \"name\": \"5286\", \"showlegend\": true, \"showscale\": false, \"subplot\": \"mapbox\", \"type\": \"choroplethmapbox\", \"z\": [1, 1]}, {\"colorscale\": [[0.0, \"#FF97FF\"], [1.0, \"#FF97FF\"]], \"geojson\": \"STATE\", \"hovertemplate\": \"Ages 6-21=9255<br>State Name=%{location}<extra></extra>\", \"locations\": [\"New Hampshire\"], \"marker\": {\"opacity\": 0.5}, \"name\": \"9255\", \"showlegend\": true, \"showscale\": false, \"subplot\": \"mapbox\", \"type\": \"choroplethmapbox\", \"z\": [1]}, {\"colorscale\": [[0.0, \"#FECB52\"], [1.0, \"#FECB52\"]], \"geojson\": \"STATE\", \"hovertemplate\": \"Ages 6-21=2843<br>State Name=%{location}<extra></extra>\", \"locations\": [\"New Hampshire\"], \"marker\": {\"opacity\": 0.5}, \"name\": \"2843\", \"showlegend\": true, \"showscale\": false, \"subplot\": \"mapbox\", \"type\": \"choroplethmapbox\", \"z\": [1]}, {\"colorscale\": [[0.0, \"#636efa\"], [1.0, \"#636efa\"]], \"geojson\": \"STATE\", \"hovertemplate\": \"Ages 6-21=98<br>State Name=%{location}<extra></extra>\", \"locations\": [\"New Hampshire\"], \"marker\": {\"opacity\": 0.5}, \"name\": \"98\", \"showlegend\": true, \"showscale\": false, \"subplot\": \"mapbox\", \"type\": \"choroplethmapbox\", \"z\": [1]}, {\"colorscale\": [[0.0, \"#EF553B\"], [1.0, \"#EF553B\"]], \"geojson\": \"STATE\", \"hovertemplate\": \"Ages 6-21=220362<br>State Name=%{location}<extra></extra>\", \"locations\": [\"New Jersey\"], \"marker\": {\"opacity\": 0.5}, \"name\": \"220362\", \"showlegend\": true, \"showscale\": false, \"subplot\": \"mapbox\", \"type\": \"choroplethmapbox\", \"z\": [1]}, {\"colorscale\": [[0.0, \"#00cc96\"], [1.0, \"#00cc96\"]], \"geojson\": \"STATE\", \"hovertemplate\": \"Ages 6-21=20635<br>State Name=%{location}<extra></extra>\", \"locations\": [\"New Jersey\"], \"marker\": {\"opacity\": 0.5}, \"name\": \"20635\", \"showlegend\": true, \"showscale\": false, \"subplot\": \"mapbox\", \"type\": \"choroplethmapbox\", \"z\": [1]}, {\"colorscale\": [[0.0, \"#ab63fa\"], [1.0, \"#ab63fa\"]], \"geojson\": \"STATE\", \"hovertemplate\": \"Ages 6-21=7485<br>State Name=%{location}<extra></extra>\", \"locations\": [\"New Jersey\"], \"marker\": {\"opacity\": 0.5}, \"name\": \"7485\", \"showlegend\": true, \"showscale\": false, \"subplot\": \"mapbox\", \"type\": \"choroplethmapbox\", \"z\": [1]}, {\"colorscale\": [[0.0, \"#FFA15A\"], [1.0, \"#FFA15A\"]], \"geojson\": \"STATE\", \"hovertemplate\": \"Ages 6-21=1389<br>State Name=%{location}<extra></extra>\", \"locations\": [\"New Jersey\"], \"marker\": {\"opacity\": 0.5}, \"name\": \"1389\", \"showlegend\": true, \"showscale\": false, \"subplot\": \"mapbox\", \"type\": \"choroplethmapbox\", \"z\": [1]}, {\"colorscale\": [[0.0, \"#19d3f3\"], [1.0, \"#19d3f3\"]], \"geojson\": \"STATE\", \"hovertemplate\": \"Ages 6-21=5234<br>State Name=%{location}<extra></extra>\", \"locations\": [\"New Jersey\"], \"marker\": {\"opacity\": 0.5}, \"name\": \"5234\", \"showlegend\": true, \"showscale\": false, \"subplot\": \"mapbox\", \"type\": \"choroplethmapbox\", \"z\": [1]}, {\"colorscale\": [[0.0, \"#FF6692\"], [1.0, \"#FF6692\"]], \"geojson\": \"STATE\", \"hovertemplate\": \"Ages 6-21=14083<br>State Name=%{location}<extra></extra>\", \"locations\": [\"New Jersey\"], \"marker\": {\"opacity\": 0.5}, \"name\": \"14083\", \"showlegend\": true, \"showscale\": false, \"subplot\": \"mapbox\", \"type\": \"choroplethmapbox\", \"z\": [1]}, {\"colorscale\": [[0.0, \"#B6E880\"], [1.0, \"#B6E880\"]], \"geojson\": \"STATE\", \"hovertemplate\": \"Ages 6-21=318<br>State Name=%{location}<extra></extra>\", \"locations\": [\"New Jersey\"], \"marker\": {\"opacity\": 0.5}, \"name\": \"318\", \"showlegend\": true, \"showscale\": false, \"subplot\": \"mapbox\", \"type\": \"choroplethmapbox\", \"z\": [1]}, {\"colorscale\": [[0.0, \"#FF97FF\"], [1.0, \"#FF97FF\"]], \"geojson\": \"STATE\", \"hovertemplate\": \"Ages 6-21=48543<br>State Name=%{location}<extra></extra>\", \"locations\": [\"New Jersey\"], \"marker\": {\"opacity\": 0.5}, \"name\": \"48543\", \"showlegend\": true, \"showscale\": false, \"subplot\": \"mapbox\", \"type\": \"choroplethmapbox\", \"z\": [1]}, {\"colorscale\": [[0.0, \"#FECB52\"], [1.0, \"#FECB52\"]], \"geojson\": \"STATE\", \"hovertemplate\": \"Ages 6-21=74278<br>State Name=%{location}<extra></extra>\", \"locations\": [\"New Jersey\"], \"marker\": {\"opacity\": 0.5}, \"name\": \"74278\", \"showlegend\": true, \"showscale\": false, \"subplot\": \"mapbox\", \"type\": \"choroplethmapbox\", \"z\": [1]}, {\"colorscale\": [[0.0, \"#636efa\"], [1.0, \"#636efa\"]], \"geojson\": \"STATE\", \"hovertemplate\": \"Ages 6-21=47541<br>State Name=%{location}<extra></extra>\", \"locations\": [\"New Jersey\"], \"marker\": {\"opacity\": 0.5}, \"name\": \"47541\", \"showlegend\": true, \"showscale\": false, \"subplot\": \"mapbox\", \"type\": \"choroplethmapbox\", \"z\": [1]}, {\"colorscale\": [[0.0, \"#EF553B\"], [1.0, \"#EF553B\"]], \"geojson\": \"STATE\", \"hovertemplate\": \"Ages 6-21=370<br>State Name=%{location}<extra></extra>\", \"locations\": [\"New Jersey\"], \"marker\": {\"opacity\": 0.5}, \"name\": \"370\", \"showlegend\": true, \"showscale\": false, \"subplot\": \"mapbox\", \"type\": \"choroplethmapbox\", \"z\": [1]}, {\"colorscale\": [[0.0, \"#00cc96\"], [1.0, \"#00cc96\"]], \"geojson\": \"STATE\", \"hovertemplate\": \"Ages 6-21=47389<br>State Name=%{location}<extra></extra>\", \"locations\": [\"New Mexico\"], \"marker\": {\"opacity\": 0.5}, \"name\": \"47389\", \"showlegend\": true, \"showscale\": false, \"subplot\": \"mapbox\", \"type\": \"choroplethmapbox\", \"z\": [1]}, {\"colorscale\": [[0.0, \"#ab63fa\"], [1.0, \"#ab63fa\"]], \"geojson\": \"STATE\", \"hovertemplate\": \"Ages 6-21=3085<br>State Name=%{location}<extra></extra>\", \"locations\": [\"New Mexico\"], \"marker\": {\"opacity\": 0.5}, \"name\": \"3085\", \"showlegend\": true, \"showscale\": false, \"subplot\": \"mapbox\", \"type\": \"choroplethmapbox\", \"z\": [1]}, {\"colorscale\": [[0.0, \"#FFA15A\"], [1.0, \"#FFA15A\"]], \"geojson\": \"STATE\", \"hovertemplate\": \"Ages 6-21=2557<br>State Name=%{location}<extra></extra>\", \"locations\": [\"New Mexico\"], \"marker\": {\"opacity\": 0.5}, \"name\": \"2557\", \"showlegend\": true, \"showscale\": false, \"subplot\": \"mapbox\", \"type\": \"choroplethmapbox\", \"z\": [1]}, {\"colorscale\": [[0.0, \"#19d3f3\"], [1.0, \"#19d3f3\"]], \"geojson\": \"STATE\", \"hovertemplate\": \"Ages 6-21=1853<br>State Name=%{location}<extra></extra>\", \"locations\": [\"New Mexico\"], \"marker\": {\"opacity\": 0.5}, \"name\": \"1853\", \"showlegend\": true, \"showscale\": false, \"subplot\": \"mapbox\", \"type\": \"choroplethmapbox\", \"z\": [1]}, {\"colorscale\": [[0.0, \"#FF6692\"], [1.0, \"#FF6692\"]], \"geojson\": \"STATE\", \"hovertemplate\": \"Ages 6-21=484<br>State Name=%{location}<extra></extra>\", \"locations\": [\"New Mexico\"], \"marker\": {\"opacity\": 0.5}, \"name\": \"484\", \"showlegend\": true, \"showscale\": false, \"subplot\": \"mapbox\", \"type\": \"choroplethmapbox\", \"z\": [1]}, {\"colorscale\": [[0.0, \"#B6E880\"], [1.0, \"#B6E880\"]], \"geojson\": \"STATE\", \"hovertemplate\": \"Ages 6-21=2241<br>State Name=%{location}<extra></extra>\", \"locations\": [\"New Mexico\"], \"marker\": {\"opacity\": 0.5}, \"name\": \"2241\", \"showlegend\": true, \"showscale\": false, \"subplot\": \"mapbox\", \"type\": \"choroplethmapbox\", \"z\": [1]}, {\"colorscale\": [[0.0, \"#FF97FF\"], [1.0, \"#FF97FF\"]], \"geojson\": \"STATE\", \"hovertemplate\": \"Ages 6-21=711<br>State Name=%{location}<extra></extra>\", \"locations\": [\"New Mexico\"], \"marker\": {\"opacity\": 0.5}, \"name\": \"711\", \"showlegend\": true, \"showscale\": false, \"subplot\": \"mapbox\", \"type\": \"choroplethmapbox\", \"z\": [1]}, {\"colorscale\": [[0.0, \"#FECB52\"], [1.0, \"#FECB52\"]], \"geojson\": \"STATE\", \"hovertemplate\": \"Ages 6-21=209<br>State Name=%{location}<extra></extra>\", \"locations\": [\"New Mexico\"], \"marker\": {\"opacity\": 0.5}, \"name\": \"209\", \"showlegend\": true, \"showscale\": false, \"subplot\": \"mapbox\", \"type\": \"choroplethmapbox\", \"z\": [1]}, {\"colorscale\": [[0.0, \"#636efa\"], [1.0, \"#636efa\"]], \"geojson\": \"STATE\", \"hovertemplate\": \"Ages 6-21=4761<br>State Name=%{location}<extra></extra>\", \"locations\": [\"New Mexico\"], \"marker\": {\"opacity\": 0.5}, \"name\": \"4761\", \"showlegend\": true, \"showscale\": false, \"subplot\": \"mapbox\", \"type\": \"choroplethmapbox\", \"z\": [1]}, {\"colorscale\": [[0.0, \"#EF553B\"], [1.0, \"#EF553B\"]], \"geojson\": \"STATE\", \"hovertemplate\": \"Ages 6-21=24738<br>State Name=%{location}<extra></extra>\", \"locations\": [\"New Mexico\"], \"marker\": {\"opacity\": 0.5}, \"name\": \"24738\", \"showlegend\": true, \"showscale\": false, \"subplot\": \"mapbox\", \"type\": \"choroplethmapbox\", \"z\": [1]}, {\"colorscale\": [[0.0, \"#00cc96\"], [1.0, \"#00cc96\"]], \"geojson\": \"STATE\", \"hovertemplate\": \"Ages 6-21=6386<br>State Name=%{location}<extra></extra>\", \"locations\": [\"New Mexico\"], \"marker\": {\"opacity\": 0.5}, \"name\": \"6386\", \"showlegend\": true, \"showscale\": false, \"subplot\": \"mapbox\", \"type\": \"choroplethmapbox\", \"z\": [1]}, {\"colorscale\": [[0.0, \"#ab63fa\"], [1.0, \"#ab63fa\"]], \"geojson\": \"STATE\", \"hovertemplate\": \"Ages 6-21=190<br>State Name=%{location}<extra></extra>\", \"locations\": [\"New Mexico\"], \"marker\": {\"opacity\": 0.5}, \"name\": \"190\", \"showlegend\": true, \"showscale\": false, \"subplot\": \"mapbox\", \"type\": \"choroplethmapbox\", \"z\": [1]}, {\"colorscale\": [[0.0, \"#FFA15A\"], [1.0, \"#FFA15A\"]], \"geojson\": \"STATE\", \"hovertemplate\": \"Ages 6-21=169<br>State Name=%{location}<extra></extra>\", \"locations\": [\"New Mexico\"], \"marker\": {\"opacity\": 0.5}, \"name\": \"169\", \"showlegend\": true, \"showscale\": false, \"subplot\": \"mapbox\", \"type\": \"choroplethmapbox\", \"z\": [1]}, {\"colorscale\": [[0.0, \"#19d3f3\"], [1.0, \"#19d3f3\"]], \"geojson\": \"STATE\", \"hovertemplate\": \"Ages 6-21=457354<br>State Name=%{location}<extra></extra>\", \"locations\": [\"New York\"], \"marker\": {\"opacity\": 0.5}, \"name\": \"457354\", \"showlegend\": true, \"showscale\": false, \"subplot\": \"mapbox\", \"type\": \"choroplethmapbox\", \"z\": [1]}, {\"colorscale\": [[0.0, \"#FF6692\"], [1.0, \"#FF6692\"]], \"geojson\": \"STATE\", \"hovertemplate\": \"Ages 6-21=40525<br>State Name=%{location}<extra></extra>\", \"locations\": [\"New York\"], \"marker\": {\"opacity\": 0.5}, \"name\": \"40525\", \"showlegend\": true, \"showscale\": false, \"subplot\": \"mapbox\", \"type\": \"choroplethmapbox\", \"z\": [1]}, {\"colorscale\": [[0.0, \"#B6E880\"], [1.0, \"#B6E880\"]], \"geojson\": \"STATE\", \"hovertemplate\": \"Ages 6-21=14<br>State Name=%{location}<extra></extra>\", \"locations\": [\"New York\"], \"marker\": {\"opacity\": 0.5}, \"name\": \"14\", \"showlegend\": true, \"showscale\": false, \"subplot\": \"mapbox\", \"type\": \"choroplethmapbox\", \"z\": [1]}, {\"colorscale\": [[0.0, \"#FF97FF\"], [1.0, \"#FF97FF\"]], \"geojson\": \"STATE\", \"hovertemplate\": \"Ages 6-21=22553<br>State Name=%{location}<extra></extra>\", \"locations\": [\"New York\"], \"marker\": {\"opacity\": 0.5}, \"name\": \"22553\", \"showlegend\": true, \"showscale\": false, \"subplot\": \"mapbox\", \"type\": \"choroplethmapbox\", \"z\": [1]}, {\"colorscale\": [[0.0, \"#FECB52\"], [1.0, \"#FECB52\"]], \"geojson\": \"STATE\", \"hovertemplate\": \"Ages 6-21=3909<br>State Name=%{location}<extra></extra>\", \"locations\": [\"New York\"], \"marker\": {\"opacity\": 0.5}, \"name\": \"3909\", \"showlegend\": true, \"showscale\": false, \"subplot\": \"mapbox\", \"type\": \"choroplethmapbox\", \"z\": [1]}, {\"colorscale\": [[0.0, \"#636efa\"], [1.0, \"#636efa\"]], \"geojson\": \"STATE\", \"hovertemplate\": \"Ages 6-21=12905<br>State Name=%{location}<extra></extra>\", \"locations\": [\"New York\"], \"marker\": {\"opacity\": 0.5}, \"name\": \"12905\", \"showlegend\": true, \"showscale\": false, \"subplot\": \"mapbox\", \"type\": \"choroplethmapbox\", \"z\": [1]}, {\"colorscale\": [[0.0, \"#EF553B\"], [1.0, \"#EF553B\"]], \"geojson\": \"STATE\", \"hovertemplate\": \"Ages 6-21=14213<br>State Name=%{location}<extra></extra>\", \"locations\": [\"New York\"], \"marker\": {\"opacity\": 0.5}, \"name\": \"14213\", \"showlegend\": true, \"showscale\": false, \"subplot\": \"mapbox\", \"type\": \"choroplethmapbox\", \"z\": [1]}, {\"colorscale\": [[0.0, \"#00cc96\"], [1.0, \"#00cc96\"]], \"geojson\": \"STATE\", \"hovertemplate\": \"Ages 6-21=1547<br>State Name=%{location}<extra></extra>\", \"locations\": [\"New York\"], \"marker\": {\"opacity\": 0.5}, \"name\": \"1547\", \"showlegend\": true, \"showscale\": false, \"subplot\": \"mapbox\", \"type\": \"choroplethmapbox\", \"z\": [1]}, {\"colorscale\": [[0.0, \"#ab63fa\"], [1.0, \"#ab63fa\"]], \"geojson\": \"STATE\", \"hovertemplate\": \"Ages 6-21=79199<br>State Name=%{location}<extra></extra>\", \"locations\": [\"New York\"], \"marker\": {\"opacity\": 0.5}, \"name\": \"79199\", \"showlegend\": true, \"showscale\": false, \"subplot\": \"mapbox\", \"type\": \"choroplethmapbox\", \"z\": [1]}, {\"colorscale\": [[0.0, \"#FFA15A\"], [1.0, \"#FFA15A\"]], \"geojson\": \"STATE\", \"hovertemplate\": \"Ages 6-21=166558<br>State Name=%{location}<extra></extra>\", \"locations\": [\"New York\"], \"marker\": {\"opacity\": 0.5}, \"name\": \"166558\", \"showlegend\": true, \"showscale\": false, \"subplot\": \"mapbox\", \"type\": \"choroplethmapbox\", \"z\": [1]}, {\"colorscale\": [[0.0, \"#19d3f3\"], [1.0, \"#19d3f3\"]], \"geojson\": \"STATE\", \"hovertemplate\": \"Ages 6-21=113856<br>State Name=%{location}<extra></extra>\", \"locations\": [\"New York\"], \"marker\": {\"opacity\": 0.5}, \"name\": \"113856\", \"showlegend\": true, \"showscale\": false, \"subplot\": \"mapbox\", \"type\": \"choroplethmapbox\", \"z\": [1]}, {\"colorscale\": [[0.0, \"#FF6692\"], [1.0, \"#FF6692\"]], \"geojson\": \"STATE\", \"hovertemplate\": \"Ages 6-21=846<br>State Name=%{location}<extra></extra>\", \"locations\": [\"New York\"], \"marker\": {\"opacity\": 0.5}, \"name\": \"846\", \"showlegend\": true, \"showscale\": false, \"subplot\": \"mapbox\", \"type\": \"choroplethmapbox\", \"z\": [1]}, {\"colorscale\": [[0.0, \"#B6E880\"], [1.0, \"#B6E880\"]], \"geojson\": \"STATE\", \"hovertemplate\": \"Ages 6-21=1229<br>State Name=%{location}<extra></extra>\", \"locations\": [\"New York\"], \"marker\": {\"opacity\": 0.5}, \"name\": \"1229\", \"showlegend\": true, \"showscale\": false, \"subplot\": \"mapbox\", \"type\": \"choroplethmapbox\", \"z\": [1]}, {\"colorscale\": [[0.0, \"#FF97FF\"], [1.0, \"#FF97FF\"]], \"geojson\": \"STATE\", \"hovertemplate\": \"Ages 6-21=181547<br>State Name=%{location}<extra></extra>\", \"locations\": [\"North Carolina\"], \"marker\": {\"opacity\": 0.5}, \"name\": \"181547\", \"showlegend\": true, \"showscale\": false, \"subplot\": \"mapbox\", \"type\": \"choroplethmapbox\", \"z\": [1]}, {\"colorscale\": [[0.0, \"#FECB52\"], [1.0, \"#FECB52\"]], \"geojson\": \"STATE\", \"hovertemplate\": \"Ages 6-21=19229<br>State Name=%{location}<extra></extra>\", \"locations\": [\"North Carolina\"], \"marker\": {\"opacity\": 0.5}, \"name\": \"19229\", \"showlegend\": true, \"showscale\": false, \"subplot\": \"mapbox\", \"type\": \"choroplethmapbox\", \"z\": [1]}, {\"colorscale\": [[0.0, \"#636efa\"], [1.0, \"#636efa\"]], \"geojson\": \"STATE\", \"hovertemplate\": \"Ages 6-21=6991<br>State Name=%{location}<extra></extra>\", \"locations\": [\"North Carolina\"], \"marker\": {\"opacity\": 0.5}, \"name\": \"6991\", \"showlegend\": true, \"showscale\": false, \"subplot\": \"mapbox\", \"type\": \"choroplethmapbox\", \"z\": [1]}, {\"colorscale\": [[0.0, \"#EF553B\"], [1.0, \"#EF553B\"]], \"geojson\": \"STATE\", \"hovertemplate\": \"Ages 6-21=5275<br>State Name=%{location}<extra></extra>\", \"locations\": [\"North Carolina\"], \"marker\": {\"opacity\": 0.5}, \"name\": \"5275\", \"showlegend\": true, \"showscale\": false, \"subplot\": \"mapbox\", \"type\": \"choroplethmapbox\", \"z\": [1]}, {\"colorscale\": [[0.0, \"#00cc96\"], [1.0, \"#00cc96\"]], \"geojson\": \"STATE\", \"hovertemplate\": \"Ages 6-21=1550<br>State Name=%{location}<extra></extra>\", \"locations\": [\"North Carolina\"], \"marker\": {\"opacity\": 0.5}, \"name\": \"1550\", \"showlegend\": true, \"showscale\": false, \"subplot\": \"mapbox\", \"type\": \"choroplethmapbox\", \"z\": [1]}, {\"colorscale\": [[0.0, \"#ab63fa\"], [1.0, \"#ab63fa\"]], \"geojson\": \"STATE\", \"hovertemplate\": \"Ages 6-21=16269<br>State Name=%{location}<extra></extra>\", \"locations\": [\"North Carolina\"], \"marker\": {\"opacity\": 0.5}, \"name\": \"16269\", \"showlegend\": true, \"showscale\": false, \"subplot\": \"mapbox\", \"type\": \"choroplethmapbox\", \"z\": [1]}, {\"colorscale\": [[0.0, \"#FFA15A\"], [1.0, \"#FFA15A\"]], \"geojson\": \"STATE\", \"hovertemplate\": \"Ages 6-21=2710<br>State Name=%{location}<extra></extra>\", \"locations\": [\"North Carolina\"], \"marker\": {\"opacity\": 0.5}, \"name\": \"2710\", \"showlegend\": true, \"showscale\": false, \"subplot\": \"mapbox\", \"type\": \"choroplethmapbox\", \"z\": [1]}, {\"colorscale\": [[0.0, \"#19d3f3\"], [1.0, \"#19d3f3\"]], \"geojson\": \"STATE\", \"hovertemplate\": \"Ages 6-21=609<br>State Name=%{location}<extra></extra>\", \"locations\": [\"North Carolina\"], \"marker\": {\"opacity\": 0.5}, \"name\": \"609\", \"showlegend\": true, \"showscale\": false, \"subplot\": \"mapbox\", \"type\": \"choroplethmapbox\", \"z\": [1]}, {\"colorscale\": [[0.0, \"#FF6692\"], [1.0, \"#FF6692\"]], \"geojson\": \"STATE\", \"hovertemplate\": \"Ages 6-21=35047<br>State Name=%{location}<extra></extra>\", \"locations\": [\"North Carolina\"], \"marker\": {\"opacity\": 0.5}, \"name\": \"35047\", \"showlegend\": true, \"showscale\": false, \"subplot\": \"mapbox\", \"type\": \"choroplethmapbox\", \"z\": [1]}, {\"colorscale\": [[0.0, \"#B6E880\"], [1.0, \"#B6E880\"]], \"geojson\": \"STATE\", \"hovertemplate\": \"Ages 6-21=72095<br>State Name=%{location}<extra></extra>\", \"locations\": [\"North Carolina\"], \"marker\": {\"opacity\": 0.5}, \"name\": \"72095\", \"showlegend\": true, \"showscale\": false, \"subplot\": \"mapbox\", \"type\": \"choroplethmapbox\", \"z\": [1]}, {\"colorscale\": [[0.0, \"#FF97FF\"], [1.0, \"#FF97FF\"]], \"geojson\": \"STATE\", \"hovertemplate\": \"Ages 6-21=20478<br>State Name=%{location}<extra></extra>\", \"locations\": [\"North Carolina\"], \"marker\": {\"opacity\": 0.5}, \"name\": \"20478\", \"showlegend\": true, \"showscale\": false, \"subplot\": \"mapbox\", \"type\": \"choroplethmapbox\", \"z\": [1]}, {\"colorscale\": [[0.0, \"#FECB52\"], [1.0, \"#FECB52\"]], \"geojson\": \"STATE\", \"hovertemplate\": \"Ages 6-21=695<br>State Name=%{location}<extra></extra>\", \"locations\": [\"North Carolina\"], \"marker\": {\"opacity\": 0.5}, \"name\": \"695\", \"showlegend\": true, \"showscale\": false, \"subplot\": \"mapbox\", \"type\": \"choroplethmapbox\", \"z\": [1]}, {\"colorscale\": [[0.0, \"#636efa\"], [1.0, \"#636efa\"]], \"geojson\": \"STATE\", \"hovertemplate\": \"Ages 6-21=571<br>State Name=%{location}<extra></extra>\", \"locations\": [\"North Carolina\"], \"marker\": {\"opacity\": 0.5}, \"name\": \"571\", \"showlegend\": true, \"showscale\": false, \"subplot\": \"mapbox\", \"type\": \"choroplethmapbox\", \"z\": [1]}, {\"colorscale\": [[0.0, \"#EF553B\"], [1.0, \"#EF553B\"]], \"geojson\": \"STATE\", \"hovertemplate\": \"Ages 6-21=13559<br>State Name=%{location}<extra></extra>\", \"locations\": [\"North Dakota\"], \"marker\": {\"opacity\": 0.5}, \"name\": \"13559\", \"showlegend\": true, \"showscale\": false, \"subplot\": \"mapbox\", \"type\": \"choroplethmapbox\", \"z\": [1]}, {\"colorscale\": [[0.0, \"#00cc96\"], [1.0, \"#00cc96\"]], \"geojson\": \"STATE\", \"hovertemplate\": \"Ages 6-21=1304<br>State Name=%{location}<extra></extra>\", \"locations\": [\"North Dakota\"], \"marker\": {\"opacity\": 0.5}, \"name\": \"1304\", \"showlegend\": true, \"showscale\": false, \"subplot\": \"mapbox\", \"type\": \"choroplethmapbox\", \"z\": [1]}, {\"colorscale\": [[0.0, \"#ab63fa\"], [1.0, \"#ab63fa\"]], \"geojson\": \"STATE\", \"hovertemplate\": \"Ages 6-21=2<br>State Name=%{location}<extra></extra>\", \"locations\": [\"North Dakota\", \"Northern Marianas\", \"Republic of Palau\", \"Republic of Palau\", \"Republic of the Marshall Islands\", \"South Dakota\", \"Virgin Islands\"], \"marker\": {\"opacity\": 0.5}, \"name\": \"2\", \"showlegend\": true, \"showscale\": false, \"subplot\": \"mapbox\", \"type\": \"choroplethmapbox\", \"z\": [1, 1, 1, 1, 1, 1, 1]}, {\"colorscale\": [[0.0, \"#FFA15A\"], [1.0, \"#FFA15A\"]], \"geojson\": \"STATE\", \"hovertemplate\": \"Ages 6-21=1306<br>State Name=%{location}<extra></extra>\", \"locations\": [\"North Dakota\"], \"marker\": {\"opacity\": 0.5}, \"name\": \"1306\", \"showlegend\": true, \"showscale\": false, \"subplot\": \"mapbox\", \"type\": \"choroplethmapbox\", \"z\": [1]}, {\"colorscale\": [[0.0, \"#19d3f3\"], [1.0, \"#19d3f3\"]], \"geojson\": \"STATE\", \"hovertemplate\": \"Ages 6-21=1183<br>State Name=%{location}<extra></extra>\", \"locations\": [\"North Dakota\"], \"marker\": {\"opacity\": 0.5}, \"name\": \"1183\", \"showlegend\": true, \"showscale\": false, \"subplot\": \"mapbox\", \"type\": \"choroplethmapbox\", \"z\": [1]}, {\"colorscale\": [[0.0, \"#FF6692\"], [1.0, \"#FF6692\"]], \"geojson\": \"STATE\", \"hovertemplate\": \"Ages 6-21=117<br>State Name=%{location}<extra></extra>\", \"locations\": [\"North Dakota\"], \"marker\": {\"opacity\": 0.5}, \"name\": \"117\", \"showlegend\": true, \"showscale\": false, \"subplot\": \"mapbox\", \"type\": \"choroplethmapbox\", \"z\": [1]}, {\"colorscale\": [[0.0, \"#B6E880\"], [1.0, \"#B6E880\"]], \"geojson\": \"STATE\", \"hovertemplate\": \"Ages 6-21=764<br>State Name=%{location}<extra></extra>\", \"locations\": [\"North Dakota\"], \"marker\": {\"opacity\": 0.5}, \"name\": \"764\", \"showlegend\": true, \"showscale\": false, \"subplot\": \"mapbox\", \"type\": \"choroplethmapbox\", \"z\": [1]}, {\"colorscale\": [[0.0, \"#FF97FF\"], [1.0, \"#FF97FF\"]], \"geojson\": \"STATE\", \"hovertemplate\": \"Ages 6-21=55<br>State Name=%{location}<extra></extra>\", \"locations\": [\"North Dakota\", \"Pennsylvania\"], \"marker\": {\"opacity\": 0.5}, \"name\": \"55\", \"showlegend\": true, \"showscale\": false, \"subplot\": \"mapbox\", \"type\": \"choroplethmapbox\", \"z\": [1, 1]}, {\"colorscale\": [[0.0, \"#FECB52\"], [1.0, \"#FECB52\"]], \"geojson\": \"STATE\", \"hovertemplate\": \"Ages 6-21=2195<br>State Name=%{location}<extra></extra>\", \"locations\": [\"North Dakota\"], \"marker\": {\"opacity\": 0.5}, \"name\": \"2195\", \"showlegend\": true, \"showscale\": false, \"subplot\": \"mapbox\", \"type\": \"choroplethmapbox\", \"z\": [1]}, {\"colorscale\": [[0.0, \"#636efa\"], [1.0, \"#636efa\"]], \"geojson\": \"STATE\", \"hovertemplate\": \"Ages 6-21=4550<br>State Name=%{location}<extra></extra>\", \"locations\": [\"North Dakota\"], \"marker\": {\"opacity\": 0.5}, \"name\": \"4550\", \"showlegend\": true, \"showscale\": false, \"subplot\": \"mapbox\", \"type\": \"choroplethmapbox\", \"z\": [1]}, {\"colorscale\": [[0.0, \"#EF553B\"], [1.0, \"#EF553B\"]], \"geojson\": \"STATE\", \"hovertemplate\": \"Ages 6-21=856<br>State Name=%{location}<extra></extra>\", \"locations\": [\"Northern Marianas\"], \"marker\": {\"opacity\": 0.5}, \"name\": \"856\", \"showlegend\": true, \"showscale\": false, \"subplot\": \"mapbox\", \"type\": \"choroplethmapbox\", \"z\": [1]}, {\"colorscale\": [[0.0, \"#00cc96\"], [1.0, \"#00cc96\"]], \"geojson\": \"STATE\", \"hovertemplate\": \"Ages 6-21=108<br>State Name=%{location}<extra></extra>\", \"locations\": [\"Northern Marianas\"], \"marker\": {\"opacity\": 0.5}, \"name\": \"108\", \"showlegend\": true, \"showscale\": false, \"subplot\": \"mapbox\", \"type\": \"choroplethmapbox\", \"z\": [1]}, {\"colorscale\": [[0.0, \"#ab63fa\"], [1.0, \"#ab63fa\"]], \"geojson\": \"STATE\", \"hovertemplate\": \"Ages 6-21=77<br>State Name=%{location}<extra></extra>\", \"locations\": [\"Northern Marianas\"], \"marker\": {\"opacity\": 0.5}, \"name\": \"77\", \"showlegend\": true, \"showscale\": false, \"subplot\": \"mapbox\", \"type\": \"choroplethmapbox\", \"z\": [1]}, {\"colorscale\": [[0.0, \"#FFA15A\"], [1.0, \"#FFA15A\"]], \"geojson\": \"STATE\", \"hovertemplate\": \"Ages 6-21=62<br>State Name=%{location}<extra></extra>\", \"locations\": [\"Northern Marianas\"], \"marker\": {\"opacity\": 0.5}, \"name\": \"62\", \"showlegend\": true, \"showscale\": false, \"subplot\": \"mapbox\", \"type\": \"choroplethmapbox\", \"z\": [1]}, {\"colorscale\": [[0.0, \"#19d3f3\"], [1.0, \"#19d3f3\"]], \"geojson\": \"STATE\", \"hovertemplate\": \"Ages 6-21=93<br>State Name=%{location}<extra></extra>\", \"locations\": [\"Northern Marianas\"], \"marker\": {\"opacity\": 0.5}, \"name\": \"93\", \"showlegend\": true, \"showscale\": false, \"subplot\": \"mapbox\", \"type\": \"choroplethmapbox\", \"z\": [1]}, {\"colorscale\": [[0.0, \"#FF6692\"], [1.0, \"#FF6692\"]], \"geojson\": \"STATE\", \"hovertemplate\": \"Ages 6-21=400<br>State Name=%{location}<extra></extra>\", \"locations\": [\"Northern Marianas\"], \"marker\": {\"opacity\": 0.5}, \"name\": \"400\", \"showlegend\": true, \"showscale\": false, \"subplot\": \"mapbox\", \"type\": \"choroplethmapbox\", \"z\": [1]}, {\"colorscale\": [[0.0, \"#B6E880\"], [1.0, \"#B6E880\"]], \"geojson\": \"STATE\", \"hovertemplate\": \"Ages 6-21=19<br>State Name=%{location}<extra></extra>\", \"locations\": [\"Northern Marianas\"], \"marker\": {\"opacity\": 0.5}, \"name\": \"19\", \"showlegend\": true, \"showscale\": false, \"subplot\": \"mapbox\", \"type\": \"choroplethmapbox\", \"z\": [1]}, {\"colorscale\": [[0.0, \"#FF97FF\"], [1.0, \"#FF97FF\"]], \"geojson\": \"STATE\", \"hovertemplate\": \"Ages 6-21=244671<br>State Name=%{location}<extra></extra>\", \"locations\": [\"Ohio\"], \"marker\": {\"opacity\": 0.5}, \"name\": \"244671\", \"showlegend\": true, \"showscale\": false, \"subplot\": \"mapbox\", \"type\": \"choroplethmapbox\", \"z\": [1]}, {\"colorscale\": [[0.0, \"#FECB52\"], [1.0, \"#FECB52\"]], \"geojson\": \"STATE\", \"hovertemplate\": \"Ages 6-21=23754<br>State Name=%{location}<extra></extra>\", \"locations\": [\"Ohio\"], \"marker\": {\"opacity\": 0.5}, \"name\": \"23754\", \"showlegend\": true, \"showscale\": false, \"subplot\": \"mapbox\", \"type\": \"choroplethmapbox\", \"z\": [1]}, {\"colorscale\": [[0.0, \"#636efa\"], [1.0, \"#636efa\"]], \"geojson\": \"STATE\", \"hovertemplate\": \"Ages 6-21=15377<br>State Name=%{location}<extra></extra>\", \"locations\": [\"Ohio\"], \"marker\": {\"opacity\": 0.5}, \"name\": \"15377\", \"showlegend\": true, \"showscale\": false, \"subplot\": \"mapbox\", \"type\": \"choroplethmapbox\", \"z\": [1]}, {\"colorscale\": [[0.0, \"#EF553B\"], [1.0, \"#EF553B\"]], \"geojson\": \"STATE\", \"hovertemplate\": \"Ages 6-21=1858<br>State Name=%{location}<extra></extra>\", \"locations\": [\"Ohio\"], \"marker\": {\"opacity\": 0.5}, \"name\": \"1858\", \"showlegend\": true, \"showscale\": false, \"subplot\": \"mapbox\", \"type\": \"choroplethmapbox\", \"z\": [1]}, {\"colorscale\": [[0.0, \"#00cc96\"], [1.0, \"#00cc96\"]], \"geojson\": \"STATE\", \"hovertemplate\": \"Ages 6-21=19324<br>State Name=%{location}<extra></extra>\", \"locations\": [\"Ohio\"], \"marker\": {\"opacity\": 0.5}, \"name\": \"19324\", \"showlegend\": true, \"showscale\": false, \"subplot\": \"mapbox\", \"type\": \"choroplethmapbox\", \"z\": [1]}, {\"colorscale\": [[0.0, \"#ab63fa\"], [1.0, \"#ab63fa\"]], \"geojson\": \"STATE\", \"hovertemplate\": \"Ages 6-21=12113<br>State Name=%{location}<extra></extra>\", \"locations\": [\"Ohio\"], \"marker\": {\"opacity\": 0.5}, \"name\": \"12113\", \"showlegend\": true, \"showscale\": false, \"subplot\": \"mapbox\", \"type\": \"choroplethmapbox\", \"z\": [1]}, {\"colorscale\": [[0.0, \"#FFA15A\"], [1.0, \"#FFA15A\"]], \"geojson\": \"STATE\", \"hovertemplate\": \"Ages 6-21=1234<br>State Name=%{location}<extra></extra>\", \"locations\": [\"Ohio\"], \"marker\": {\"opacity\": 0.5}, \"name\": \"1234\", \"showlegend\": true, \"showscale\": false, \"subplot\": \"mapbox\", \"type\": \"choroplethmapbox\", \"z\": [1]}, {\"colorscale\": [[0.0, \"#19d3f3\"], [1.0, \"#19d3f3\"]], \"geojson\": \"STATE\", \"hovertemplate\": \"Ages 6-21=45366<br>State Name=%{location}<extra></extra>\", \"locations\": [\"Ohio\"], \"marker\": {\"opacity\": 0.5}, \"name\": \"45366\", \"showlegend\": true, \"showscale\": false, \"subplot\": \"mapbox\", \"type\": \"choroplethmapbox\", \"z\": [1]}, {\"colorscale\": [[0.0, \"#FF6692\"], [1.0, \"#FF6692\"]], \"geojson\": \"STATE\", \"hovertemplate\": \"Ages 6-21=98008<br>State Name=%{location}<extra></extra>\", \"locations\": [\"Ohio\"], \"marker\": {\"opacity\": 0.5}, \"name\": \"98008\", \"showlegend\": true, \"showscale\": false, \"subplot\": \"mapbox\", \"type\": \"choroplethmapbox\", \"z\": [1]}, {\"colorscale\": [[0.0, \"#B6E880\"], [1.0, \"#B6E880\"]], \"geojson\": \"STATE\", \"hovertemplate\": \"Ages 6-21=25254<br>State Name=%{location}<extra></extra>\", \"locations\": [\"Ohio\"], \"marker\": {\"opacity\": 0.5}, \"name\": \"25254\", \"showlegend\": true, \"showscale\": false, \"subplot\": \"mapbox\", \"type\": \"choroplethmapbox\", \"z\": [1]}, {\"colorscale\": [[0.0, \"#FF97FF\"], [1.0, \"#FF97FF\"]], \"geojson\": \"STATE\", \"hovertemplate\": \"Ages 6-21=1459<br>State Name=%{location}<extra></extra>\", \"locations\": [\"Ohio\"], \"marker\": {\"opacity\": 0.5}, \"name\": \"1459\", \"showlegend\": true, \"showscale\": false, \"subplot\": \"mapbox\", \"type\": \"choroplethmapbox\", \"z\": [1]}, {\"colorscale\": [[0.0, \"#FECB52\"], [1.0, \"#FECB52\"]], \"geojson\": \"STATE\", \"hovertemplate\": \"Ages 6-21=859<br>State Name=%{location}<extra></extra>\", \"locations\": [\"Ohio\"], \"marker\": {\"opacity\": 0.5}, \"name\": \"859\", \"showlegend\": true, \"showscale\": false, \"subplot\": \"mapbox\", \"type\": \"choroplethmapbox\", \"z\": [1]}, {\"colorscale\": [[0.0, \"#636efa\"], [1.0, \"#636efa\"]], \"geojson\": \"STATE\", \"hovertemplate\": \"Ages 6-21=104980<br>State Name=%{location}<extra></extra>\", \"locations\": [\"Oklahoma\"], \"marker\": {\"opacity\": 0.5}, \"name\": \"104980\", \"showlegend\": true, \"showscale\": false, \"subplot\": \"mapbox\", \"type\": \"choroplethmapbox\", \"z\": [1]}, {\"colorscale\": [[0.0, \"#EF553B\"], [1.0, \"#EF553B\"]], \"geojson\": \"STATE\", \"hovertemplate\": \"Ages 6-21=6744<br>State Name=%{location}<extra></extra>\", \"locations\": [\"Oklahoma\"], \"marker\": {\"opacity\": 0.5}, \"name\": \"6744\", \"showlegend\": true, \"showscale\": false, \"subplot\": \"mapbox\", \"type\": \"choroplethmapbox\", \"z\": [1]}, {\"colorscale\": [[0.0, \"#00cc96\"], [1.0, \"#00cc96\"]], \"geojson\": \"STATE\", \"hovertemplate\": \"Ages 6-21=16229<br>State Name=%{location}<extra></extra>\", \"locations\": [\"Oklahoma\"], \"marker\": {\"opacity\": 0.5}, \"name\": \"16229\", \"showlegend\": true, \"showscale\": false, \"subplot\": \"mapbox\", \"type\": \"choroplethmapbox\", \"z\": [1]}, {\"colorscale\": [[0.0, \"#ab63fa\"], [1.0, \"#ab63fa\"]], \"geojson\": \"STATE\", \"hovertemplate\": \"Ages 6-21=4142<br>State Name=%{location}<extra></extra>\", \"locations\": [\"Oklahoma\"], \"marker\": {\"opacity\": 0.5}, \"name\": \"4142\", \"showlegend\": true, \"showscale\": false, \"subplot\": \"mapbox\", \"type\": \"choroplethmapbox\", \"z\": [1]}, {\"colorscale\": [[0.0, \"#FFA15A\"], [1.0, \"#FFA15A\"]], \"geojson\": \"STATE\", \"hovertemplate\": \"Ages 6-21=1380<br>State Name=%{location}<extra></extra>\", \"locations\": [\"Oklahoma\"], \"marker\": {\"opacity\": 0.5}, \"name\": \"1380\", \"showlegend\": true, \"showscale\": false, \"subplot\": \"mapbox\", \"type\": \"choroplethmapbox\", \"z\": [1]}, {\"colorscale\": [[0.0, \"#19d3f3\"], [1.0, \"#19d3f3\"]], \"geojson\": \"STATE\", \"hovertemplate\": \"Ages 6-21=6470<br>State Name=%{location}<extra></extra>\", \"locations\": [\"Oklahoma\"], \"marker\": {\"opacity\": 0.5}, \"name\": \"6470\", \"showlegend\": true, \"showscale\": false, \"subplot\": \"mapbox\", \"type\": \"choroplethmapbox\", \"z\": [1]}, {\"colorscale\": [[0.0, \"#FF6692\"], [1.0, \"#FF6692\"]], \"geojson\": \"STATE\", \"hovertemplate\": \"Ages 6-21=1574<br>State Name=%{location}<extra></extra>\", \"locations\": [\"Oklahoma\"], \"marker\": {\"opacity\": 0.5}, \"name\": \"1574\", \"showlegend\": true, \"showscale\": false, \"subplot\": \"mapbox\", \"type\": \"choroplethmapbox\", \"z\": [1]}, {\"colorscale\": [[0.0, \"#B6E880\"], [1.0, \"#B6E880\"]], \"geojson\": \"STATE\", \"hovertemplate\": \"Ages 6-21=339<br>State Name=%{location}<extra></extra>\", \"locations\": [\"Oklahoma\"], \"marker\": {\"opacity\": 0.5}, \"name\": \"339\", \"showlegend\": true, \"showscale\": false, \"subplot\": \"mapbox\", \"type\": \"choroplethmapbox\", \"z\": [1]}, {\"colorscale\": [[0.0, \"#FF97FF\"], [1.0, \"#FF97FF\"]], \"geojson\": \"STATE\", \"hovertemplate\": \"Ages 6-21=18251<br>State Name=%{location}<extra></extra>\", \"locations\": [\"Oklahoma\"], \"marker\": {\"opacity\": 0.5}, \"name\": \"18251\", \"showlegend\": true, \"showscale\": false, \"subplot\": \"mapbox\", \"type\": \"choroplethmapbox\", \"z\": [1]}, {\"colorscale\": [[0.0, \"#FECB52\"], [1.0, \"#FECB52\"]], \"geojson\": \"STATE\", \"hovertemplate\": \"Ages 6-21=38775<br>State Name=%{location}<extra></extra>\", \"locations\": [\"Oklahoma\"], \"marker\": {\"opacity\": 0.5}, \"name\": \"38775\", \"showlegend\": true, \"showscale\": false, \"subplot\": \"mapbox\", \"type\": \"choroplethmapbox\", \"z\": [1]}, {\"colorscale\": [[0.0, \"#636efa\"], [1.0, \"#636efa\"]], \"geojson\": \"STATE\", \"hovertemplate\": \"Ages 6-21=10198<br>State Name=%{location}<extra></extra>\", \"locations\": [\"Oklahoma\"], \"marker\": {\"opacity\": 0.5}, \"name\": \"10198\", \"showlegend\": true, \"showscale\": false, \"subplot\": \"mapbox\", \"type\": \"choroplethmapbox\", \"z\": [1]}, {\"colorscale\": [[0.0, \"#EF553B\"], [1.0, \"#EF553B\"]], \"geojson\": \"STATE\", \"hovertemplate\": \"Ages 6-21=239<br>State Name=%{location}<extra></extra>\", \"locations\": [\"Oklahoma\"], \"marker\": {\"opacity\": 0.5}, \"name\": \"239\", \"showlegend\": true, \"showscale\": false, \"subplot\": \"mapbox\", \"type\": \"choroplethmapbox\", \"z\": [1]}, {\"colorscale\": [[0.0, \"#00cc96\"], [1.0, \"#00cc96\"]], \"geojson\": \"STATE\", \"hovertemplate\": \"Ages 6-21=619<br>State Name=%{location}<extra></extra>\", \"locations\": [\"Oklahoma\"], \"marker\": {\"opacity\": 0.5}, \"name\": \"619\", \"showlegend\": true, \"showscale\": false, \"subplot\": \"mapbox\", \"type\": \"choroplethmapbox\", \"z\": [1]}, {\"colorscale\": [[0.0, \"#ab63fa\"], [1.0, \"#ab63fa\"]], \"geojson\": \"STATE\", \"hovertemplate\": \"Ages 6-21=77432<br>State Name=%{location}<extra></extra>\", \"locations\": [\"Oregon\"], \"marker\": {\"opacity\": 0.5}, \"name\": \"77432\", \"showlegend\": true, \"showscale\": false, \"subplot\": \"mapbox\", \"type\": \"choroplethmapbox\", \"z\": [1]}, {\"colorscale\": [[0.0, \"#FFA15A\"], [1.0, \"#FFA15A\"]], \"geojson\": \"STATE\", \"hovertemplate\": \"Ages 6-21=9752<br>State Name=%{location}<extra></extra>\", \"locations\": [\"Oregon\"], \"marker\": {\"opacity\": 0.5}, \"name\": \"9752\", \"showlegend\": true, \"showscale\": false, \"subplot\": \"mapbox\", \"type\": \"choroplethmapbox\", \"z\": [1]}, {\"colorscale\": [[0.0, \"#19d3f3\"], [1.0, \"#19d3f3\"]], \"geojson\": \"STATE\", \"hovertemplate\": \"Ages 6-21=848<br>State Name=%{location}<extra></extra>\", \"locations\": [\"Oregon\"], \"marker\": {\"opacity\": 0.5}, \"name\": \"848\", \"showlegend\": true, \"showscale\": false, \"subplot\": \"mapbox\", \"type\": \"choroplethmapbox\", \"z\": [1]}, {\"colorscale\": [[0.0, \"#FF6692\"], [1.0, \"#FF6692\"]], \"geojson\": \"STATE\", \"hovertemplate\": \"Ages 6-21=4167<br>State Name=%{location}<extra></extra>\", \"locations\": [\"Oregon\"], \"marker\": {\"opacity\": 0.5}, \"name\": \"4167\", \"showlegend\": true, \"showscale\": false, \"subplot\": \"mapbox\", \"type\": \"choroplethmapbox\", \"z\": [1]}, {\"colorscale\": [[0.0, \"#B6E880\"], [1.0, \"#B6E880\"]], \"geojson\": \"STATE\", \"hovertemplate\": \"Ages 6-21=602<br>State Name=%{location}<extra></extra>\", \"locations\": [\"Oregon\"], \"marker\": {\"opacity\": 0.5}, \"name\": \"602\", \"showlegend\": true, \"showscale\": false, \"subplot\": \"mapbox\", \"type\": \"choroplethmapbox\", \"z\": [1]}, {\"colorscale\": [[0.0, \"#FF97FF\"], [1.0, \"#FF97FF\"]], \"geojson\": \"STATE\", \"hovertemplate\": \"Ages 6-21=14655<br>State Name=%{location}<extra></extra>\", \"locations\": [\"Oregon\"], \"marker\": {\"opacity\": 0.5}, \"name\": \"14655\", \"showlegend\": true, \"showscale\": false, \"subplot\": \"mapbox\", \"type\": \"choroplethmapbox\", \"z\": [1]}, {\"colorscale\": [[0.0, \"#FECB52\"], [1.0, \"#FECB52\"]], \"geojson\": \"STATE\", \"hovertemplate\": \"Ages 6-21=25191<br>State Name=%{location}<extra></extra>\", \"locations\": [\"Oregon\"], \"marker\": {\"opacity\": 0.5}, \"name\": \"25191\", \"showlegend\": true, \"showscale\": false, \"subplot\": \"mapbox\", \"type\": \"choroplethmapbox\", \"z\": [1]}, {\"colorscale\": [[0.0, \"#636efa\"], [1.0, \"#636efa\"]], \"geojson\": \"STATE\", \"hovertemplate\": \"Ages 6-21=16357<br>State Name=%{location}<extra></extra>\", \"locations\": [\"Oregon\"], \"marker\": {\"opacity\": 0.5}, \"name\": \"16357\", \"showlegend\": true, \"showscale\": false, \"subplot\": \"mapbox\", \"type\": \"choroplethmapbox\", \"z\": [1]}, {\"colorscale\": [[0.0, \"#EF553B\"], [1.0, \"#EF553B\"]], \"geojson\": \"STATE\", \"hovertemplate\": \"Ages 6-21=294<br>State Name=%{location}<extra></extra>\", \"locations\": [\"Oregon\"], \"marker\": {\"opacity\": 0.5}, \"name\": \"294\", \"showlegend\": true, \"showscale\": false, \"subplot\": \"mapbox\", \"type\": \"choroplethmapbox\", \"z\": [1]}, {\"colorscale\": [[0.0, \"#00cc96\"], [1.0, \"#00cc96\"]], \"geojson\": \"STATE\", \"hovertemplate\": \"Ages 6-21=269<br>State Name=%{location}<extra></extra>\", \"locations\": [\"Oregon\"], \"marker\": {\"opacity\": 0.5}, \"name\": \"269\", \"showlegend\": true, \"showscale\": false, \"subplot\": \"mapbox\", \"type\": \"choroplethmapbox\", \"z\": [1]}, {\"colorscale\": [[0.0, \"#ab63fa\"], [1.0, \"#ab63fa\"]], \"geojson\": \"STATE\", \"hovertemplate\": \"Ages 6-21=290896<br>State Name=%{location}<extra></extra>\", \"locations\": [\"Pennsylvania\"], \"marker\": {\"opacity\": 0.5}, \"name\": \"290896\", \"showlegend\": true, \"showscale\": false, \"subplot\": \"mapbox\", \"type\": \"choroplethmapbox\", \"z\": [1]}, {\"colorscale\": [[0.0, \"#FFA15A\"], [1.0, \"#FFA15A\"]], \"geojson\": \"STATE\", \"hovertemplate\": \"Ages 6-21=32332<br>State Name=%{location}<extra></extra>\", \"locations\": [\"Pennsylvania\"], \"marker\": {\"opacity\": 0.5}, \"name\": \"32332\", \"showlegend\": true, \"showscale\": false, \"subplot\": \"mapbox\", \"type\": \"choroplethmapbox\", \"z\": [1]}, {\"colorscale\": [[0.0, \"#19d3f3\"], [1.0, \"#19d3f3\"]], \"geojson\": \"STATE\", \"hovertemplate\": \"Ages 6-21=25166<br>State Name=%{location}<extra></extra>\", \"locations\": [\"Pennsylvania\"], \"marker\": {\"opacity\": 0.5}, \"name\": \"25166\", \"showlegend\": true, \"showscale\": false, \"subplot\": \"mapbox\", \"type\": \"choroplethmapbox\", \"z\": [1]}, {\"colorscale\": [[0.0, \"#FF6692\"], [1.0, \"#FF6692\"]], \"geojson\": \"STATE\", \"hovertemplate\": \"Ages 6-21=2526<br>State Name=%{location}<extra></extra>\", \"locations\": [\"Pennsylvania\"], \"marker\": {\"opacity\": 0.5}, \"name\": \"2526\", \"showlegend\": true, \"showscale\": false, \"subplot\": \"mapbox\", \"type\": \"choroplethmapbox\", \"z\": [1]}, {\"colorscale\": [[0.0, \"#B6E880\"], [1.0, \"#B6E880\"]], \"geojson\": \"STATE\", \"hovertemplate\": \"Ages 6-21=18476<br>State Name=%{location}<extra></extra>\", \"locations\": [\"Pennsylvania\"], \"marker\": {\"opacity\": 0.5}, \"name\": \"18476\", \"showlegend\": true, \"showscale\": false, \"subplot\": \"mapbox\", \"type\": \"choroplethmapbox\", \"z\": [1]}, {\"colorscale\": [[0.0, \"#FF97FF\"], [1.0, \"#FF97FF\"]], \"geojson\": \"STATE\", \"hovertemplate\": \"Ages 6-21=3029<br>State Name=%{location}<extra></extra>\", \"locations\": [\"Pennsylvania\"], \"marker\": {\"opacity\": 0.5}, \"name\": \"3029\", \"showlegend\": true, \"showscale\": false, \"subplot\": \"mapbox\", \"type\": \"choroplethmapbox\", \"z\": [1]}, {\"colorscale\": [[0.0, \"#FECB52\"], [1.0, \"#FECB52\"]], \"geojson\": \"STATE\", \"hovertemplate\": \"Ages 6-21=648<br>State Name=%{location}<extra></extra>\", \"locations\": [\"Pennsylvania\"], \"marker\": {\"opacity\": 0.5}, \"name\": \"648\", \"showlegend\": true, \"showscale\": false, \"subplot\": \"mapbox\", \"type\": \"choroplethmapbox\", \"z\": [1]}, {\"colorscale\": [[0.0, \"#636efa\"], [1.0, \"#636efa\"]], \"geojson\": \"STATE\", \"hovertemplate\": \"Ages 6-21=48004<br>State Name=%{location}<extra></extra>\", \"locations\": [\"Pennsylvania\"], \"marker\": {\"opacity\": 0.5}, \"name\": \"48004\", \"showlegend\": true, \"showscale\": false, \"subplot\": \"mapbox\", \"type\": \"choroplethmapbox\", \"z\": [1]}, {\"colorscale\": [[0.0, \"#EF553B\"], [1.0, \"#EF553B\"]], \"geojson\": \"STATE\", \"hovertemplate\": \"Ages 6-21=120625<br>State Name=%{location}<extra></extra>\", \"locations\": [\"Pennsylvania\"], \"marker\": {\"opacity\": 0.5}, \"name\": \"120625\", \"showlegend\": true, \"showscale\": false, \"subplot\": \"mapbox\", \"type\": \"choroplethmapbox\", \"z\": [1]}, {\"colorscale\": [[0.0, \"#00cc96\"], [1.0, \"#00cc96\"]], \"geojson\": \"STATE\", \"hovertemplate\": \"Ages 6-21=38309<br>State Name=%{location}<extra></extra>\", \"locations\": [\"Pennsylvania\"], \"marker\": {\"opacity\": 0.5}, \"name\": \"38309\", \"showlegend\": true, \"showscale\": false, \"subplot\": \"mapbox\", \"type\": \"choroplethmapbox\", \"z\": [1]}, {\"colorscale\": [[0.0, \"#ab63fa\"], [1.0, \"#ab63fa\"]], \"geojson\": \"STATE\", \"hovertemplate\": \"Ages 6-21=630<br>State Name=%{location}<extra></extra>\", \"locations\": [\"Pennsylvania\"], \"marker\": {\"opacity\": 0.5}, \"name\": \"630\", \"showlegend\": true, \"showscale\": false, \"subplot\": \"mapbox\", \"type\": \"choroplethmapbox\", \"z\": [1]}, {\"colorscale\": [[0.0, \"#FFA15A\"], [1.0, \"#FFA15A\"]], \"geojson\": \"STATE\", \"hovertemplate\": \"Ages 6-21=1020<br>State Name=%{location}<extra></extra>\", \"locations\": [\"Pennsylvania\", \"Vermont\"], \"marker\": {\"opacity\": 0.5}, \"name\": \"1020\", \"showlegend\": true, \"showscale\": false, \"subplot\": \"mapbox\", \"type\": \"choroplethmapbox\", \"z\": [1, 1]}, {\"colorscale\": [[0.0, \"#19d3f3\"], [1.0, \"#19d3f3\"]], \"geojson\": \"STATE\", \"hovertemplate\": \"Ages 6-21=91338<br>State Name=%{location}<extra></extra>\", \"locations\": [\"Puerto Rico\"], \"marker\": {\"opacity\": 0.5}, \"name\": \"91338\", \"showlegend\": true, \"showscale\": false, \"subplot\": \"mapbox\", \"type\": \"choroplethmapbox\", \"z\": [1]}, {\"colorscale\": [[0.0, \"#FF6692\"], [1.0, \"#FF6692\"]], \"geojson\": \"STATE\", \"hovertemplate\": \"Ages 6-21=4987<br>State Name=%{location}<extra></extra>\", \"locations\": [\"Puerto Rico\"], \"marker\": {\"opacity\": 0.5}, \"name\": \"4987\", \"showlegend\": true, \"showscale\": false, \"subplot\": \"mapbox\", \"type\": \"choroplethmapbox\", \"z\": [1]}, {\"colorscale\": [[0.0, \"#B6E880\"], [1.0, \"#B6E880\"]], \"geojson\": \"STATE\", \"hovertemplate\": \"Ages 6-21=1196<br>State Name=%{location}<extra></extra>\", \"locations\": [\"Puerto Rico\"], \"marker\": {\"opacity\": 0.5}, \"name\": \"1196\", \"showlegend\": true, \"showscale\": false, \"subplot\": \"mapbox\", \"type\": \"choroplethmapbox\", \"z\": [1]}, {\"colorscale\": [[0.0, \"#FF97FF\"], [1.0, \"#FF97FF\"]], \"geojson\": \"STATE\", \"hovertemplate\": \"Ages 6-21=454<br>State Name=%{location}<extra></extra>\", \"locations\": [\"Puerto Rico\"], \"marker\": {\"opacity\": 0.5}, \"name\": \"454\", \"showlegend\": true, \"showscale\": false, \"subplot\": \"mapbox\", \"type\": \"choroplethmapbox\", \"z\": [1]}, {\"colorscale\": [[0.0, \"#FECB52\"], [1.0, \"#FECB52\"]], \"geojson\": \"STATE\", \"hovertemplate\": \"Ages 6-21=4990<br>State Name=%{location}<extra></extra>\", \"locations\": [\"Puerto Rico\"], \"marker\": {\"opacity\": 0.5}, \"name\": \"4990\", \"showlegend\": true, \"showscale\": false, \"subplot\": \"mapbox\", \"type\": \"choroplethmapbox\", \"z\": [1]}, {\"colorscale\": [[0.0, \"#636efa\"], [1.0, \"#636efa\"]], \"geojson\": \"STATE\", \"hovertemplate\": \"Ages 6-21=814<br>State Name=%{location}<extra></extra>\", \"locations\": [\"Puerto Rico\"], \"marker\": {\"opacity\": 0.5}, \"name\": \"814\", \"showlegend\": true, \"showscale\": false, \"subplot\": \"mapbox\", \"type\": \"choroplethmapbox\", \"z\": [1]}, {\"colorscale\": [[0.0, \"#EF553B\"], [1.0, \"#EF553B\"]], \"geojson\": \"STATE\", \"hovertemplate\": \"Ages 6-21=218<br>State Name=%{location}<extra></extra>\", \"locations\": [\"Puerto Rico\"], \"marker\": {\"opacity\": 0.5}, \"name\": \"218\", \"showlegend\": true, \"showscale\": false, \"subplot\": \"mapbox\", \"type\": \"choroplethmapbox\", \"z\": [1]}, {\"colorscale\": [[0.0, \"#00cc96\"], [1.0, \"#00cc96\"]], \"geojson\": \"STATE\", \"hovertemplate\": \"Ages 6-21=22847<br>State Name=%{location}<extra></extra>\", \"locations\": [\"Puerto Rico\"], \"marker\": {\"opacity\": 0.5}, \"name\": \"22847\", \"showlegend\": true, \"showscale\": false, \"subplot\": \"mapbox\", \"type\": \"choroplethmapbox\", \"z\": [1]}, {\"colorscale\": [[0.0, \"#ab63fa\"], [1.0, \"#ab63fa\"]], \"geojson\": \"STATE\", \"hovertemplate\": \"Ages 6-21=40174<br>State Name=%{location}<extra></extra>\", \"locations\": [\"Puerto Rico\"], \"marker\": {\"opacity\": 0.5}, \"name\": \"40174\", \"showlegend\": true, \"showscale\": false, \"subplot\": \"mapbox\", \"type\": \"choroplethmapbox\", \"z\": [1]}, {\"colorscale\": [[0.0, \"#FFA15A\"], [1.0, \"#FFA15A\"]], \"geojson\": \"STATE\", \"hovertemplate\": \"Ages 6-21=15282<br>State Name=%{location}<extra></extra>\", \"locations\": [\"Puerto Rico\"], \"marker\": {\"opacity\": 0.5}, \"name\": \"15282\", \"showlegend\": true, \"showscale\": false, \"subplot\": \"mapbox\", \"type\": \"choroplethmapbox\", \"z\": [1]}, {\"colorscale\": [[0.0, \"#19d3f3\"], [1.0, \"#19d3f3\"]], \"geojson\": \"STATE\", \"hovertemplate\": \"Ages 6-21=336<br>State Name=%{location}<extra></extra>\", \"locations\": [\"Puerto Rico\"], \"marker\": {\"opacity\": 0.5}, \"name\": \"336\", \"showlegend\": true, \"showscale\": false, \"subplot\": \"mapbox\", \"type\": \"choroplethmapbox\", \"z\": [1]}, {\"colorscale\": [[0.0, \"#FF6692\"], [1.0, \"#FF6692\"]], \"geojson\": \"STATE\", \"hovertemplate\": \"Ages 6-21=80<br>State Name=%{location}<extra></extra>\", \"locations\": [\"Republic of Palau\"], \"marker\": {\"opacity\": 0.5}, \"name\": \"80\", \"showlegend\": true, \"showscale\": false, \"subplot\": \"mapbox\", \"type\": \"choroplethmapbox\", \"z\": [1]}, {\"colorscale\": [[0.0, \"#B6E880\"], [1.0, \"#B6E880\"]], \"geojson\": \"STATE\", \"hovertemplate\": \"Ages 6-21=594<br>State Name=%{location}<extra></extra>\", \"locations\": [\"Republic of the Marshall Islands\"], \"marker\": {\"opacity\": 0.5}, \"name\": \"594\", \"showlegend\": true, \"showscale\": false, \"subplot\": \"mapbox\", \"type\": \"choroplethmapbox\", \"z\": [1]}, {\"colorscale\": [[0.0, \"#FF97FF\"], [1.0, \"#FF97FF\"]], \"geojson\": \"STATE\", \"hovertemplate\": \"Ages 6-21=53<br>State Name=%{location}<extra></extra>\", \"locations\": [\"Republic of the Marshall Islands\"], \"marker\": {\"opacity\": 0.5}, \"name\": \"53\", \"showlegend\": true, \"showscale\": false, \"subplot\": \"mapbox\", \"type\": \"choroplethmapbox\", \"z\": [1]}, {\"colorscale\": [[0.0, \"#FECB52\"], [1.0, \"#FECB52\"]], \"geojson\": \"STATE\", \"hovertemplate\": \"Ages 6-21=439<br>State Name=%{location}<extra></extra>\", \"locations\": [\"Republic of the Marshall Islands\"], \"marker\": {\"opacity\": 0.5}, \"name\": \"439\", \"showlegend\": true, \"showscale\": false, \"subplot\": \"mapbox\", \"type\": \"choroplethmapbox\", \"z\": [1]}, {\"colorscale\": [[0.0, \"#636efa\"], [1.0, \"#636efa\"]], \"geojson\": \"STATE\", \"hovertemplate\": \"Ages 6-21=20935<br>State Name=%{location}<extra></extra>\", \"locations\": [\"Rhode Island\"], \"marker\": {\"opacity\": 0.5}, \"name\": \"20935\", \"showlegend\": true, \"showscale\": false, \"subplot\": \"mapbox\", \"type\": \"choroplethmapbox\", \"z\": [1]}, {\"colorscale\": [[0.0, \"#EF553B\"], [1.0, \"#EF553B\"]], \"geojson\": \"STATE\", \"hovertemplate\": \"Ages 6-21=2379<br>State Name=%{location}<extra></extra>\", \"locations\": [\"Rhode Island\"], \"marker\": {\"opacity\": 0.5}, \"name\": \"2379\", \"showlegend\": true, \"showscale\": false, \"subplot\": \"mapbox\", \"type\": \"choroplethmapbox\", \"z\": [1]}, {\"colorscale\": [[0.0, \"#00cc96\"], [1.0, \"#00cc96\"]], \"geojson\": \"STATE\", \"hovertemplate\": \"Ages 6-21=1400<br>State Name=%{location}<extra></extra>\", \"locations\": [\"Rhode Island\"], \"marker\": {\"opacity\": 0.5}, \"name\": \"1400\", \"showlegend\": true, \"showscale\": false, \"subplot\": \"mapbox\", \"type\": \"choroplethmapbox\", \"z\": [1]}, {\"colorscale\": [[0.0, \"#ab63fa\"], [1.0, \"#ab63fa\"]], \"geojson\": \"STATE\", \"hovertemplate\": \"Ages 6-21=1615<br>State Name=%{location}<extra></extra>\", \"locations\": [\"Rhode Island\"], \"marker\": {\"opacity\": 0.5}, \"name\": \"1615\", \"showlegend\": true, \"showscale\": false, \"subplot\": \"mapbox\", \"type\": \"choroplethmapbox\", \"z\": [1]}, {\"colorscale\": [[0.0, \"#FFA15A\"], [1.0, \"#FFA15A\"]], \"geojson\": \"STATE\", \"hovertemplate\": \"Ages 6-21=135<br>State Name=%{location}<extra></extra>\", \"locations\": [\"Rhode Island\"], \"marker\": {\"opacity\": 0.5}, \"name\": \"135\", \"showlegend\": true, \"showscale\": false, \"subplot\": \"mapbox\", \"type\": \"choroplethmapbox\", \"z\": [1]}, {\"colorscale\": [[0.0, \"#19d3f3\"], [1.0, \"#19d3f3\"]], \"geojson\": \"STATE\", \"hovertemplate\": \"Ages 6-21=872<br>State Name=%{location}<extra></extra>\", \"locations\": [\"Rhode Island\"], \"marker\": {\"opacity\": 0.5}, \"name\": \"872\", \"showlegend\": true, \"showscale\": false, \"subplot\": \"mapbox\", \"type\": \"choroplethmapbox\", \"z\": [1]}, {\"colorscale\": [[0.0, \"#FF6692\"], [1.0, \"#FF6692\"]], \"geojson\": \"STATE\", \"hovertemplate\": \"Ages 6-21=375<br>State Name=%{location}<extra></extra>\", \"locations\": [\"Rhode Island\"], \"marker\": {\"opacity\": 0.5}, \"name\": \"375\", \"showlegend\": true, \"showscale\": false, \"subplot\": \"mapbox\", \"type\": \"choroplethmapbox\", \"z\": [1]}, {\"colorscale\": [[0.0, \"#B6E880\"], [1.0, \"#B6E880\"]], \"geojson\": \"STATE\", \"hovertemplate\": \"Ages 6-21=3861<br>State Name=%{location}<extra></extra>\", \"locations\": [\"Rhode Island\"], \"marker\": {\"opacity\": 0.5}, \"name\": \"3861\", \"showlegend\": true, \"showscale\": false, \"subplot\": \"mapbox\", \"type\": \"choroplethmapbox\", \"z\": [1]}, {\"colorscale\": [[0.0, \"#FF97FF\"], [1.0, \"#FF97FF\"]], \"geojson\": \"STATE\", \"hovertemplate\": \"Ages 6-21=7582<br>State Name=%{location}<extra></extra>\", \"locations\": [\"Rhode Island\"], \"marker\": {\"opacity\": 0.5}, \"name\": \"7582\", \"showlegend\": true, \"showscale\": false, \"subplot\": \"mapbox\", \"type\": \"choroplethmapbox\", \"z\": [1]}, {\"colorscale\": [[0.0, \"#FECB52\"], [1.0, \"#FECB52\"]], \"geojson\": \"STATE\", \"hovertemplate\": \"Ages 6-21=2578<br>State Name=%{location}<extra></extra>\", \"locations\": [\"Rhode Island\"], \"marker\": {\"opacity\": 0.5}, \"name\": \"2578\", \"showlegend\": true, \"showscale\": false, \"subplot\": \"mapbox\", \"type\": \"choroplethmapbox\", \"z\": [1]}, {\"colorscale\": [[0.0, \"#636efa\"], [1.0, \"#636efa\"]], \"geojson\": \"STATE\", \"hovertemplate\": \"Ages 6-21=45<br>State Name=%{location}<extra></extra>\", \"locations\": [\"Rhode Island\"], \"marker\": {\"opacity\": 0.5}, \"name\": \"45\", \"showlegend\": true, \"showscale\": false, \"subplot\": \"mapbox\", \"type\": \"choroplethmapbox\", \"z\": [1]}, {\"colorscale\": [[0.0, \"#EF553B\"], [1.0, \"#EF553B\"]], \"geojson\": \"STATE\", \"hovertemplate\": \"Ages 6-21=96729<br>State Name=%{location}<extra></extra>\", \"locations\": [\"South Carolina\"], \"marker\": {\"opacity\": 0.5}, \"name\": \"96729\", \"showlegend\": true, \"showscale\": false, \"subplot\": \"mapbox\", \"type\": \"choroplethmapbox\", \"z\": [1]}, {\"colorscale\": [[0.0, \"#00cc96\"], [1.0, \"#00cc96\"]], \"geojson\": \"STATE\", \"hovertemplate\": \"Ages 6-21=8335<br>State Name=%{location}<extra></extra>\", \"locations\": [\"South Carolina\"], \"marker\": {\"opacity\": 0.5}, \"name\": \"8335\", \"showlegend\": true, \"showscale\": false, \"subplot\": \"mapbox\", \"type\": \"choroplethmapbox\", \"z\": [1]}, {\"colorscale\": [[0.0, \"#ab63fa\"], [1.0, \"#ab63fa\"]], \"geojson\": \"STATE\", \"hovertemplate\": \"Ages 6-21=2112<br>State Name=%{location}<extra></extra>\", \"locations\": [\"South Carolina\"], \"marker\": {\"opacity\": 0.5}, \"name\": \"2112\", \"showlegend\": true, \"showscale\": false, \"subplot\": \"mapbox\", \"type\": \"choroplethmapbox\", \"z\": [1]}, {\"colorscale\": [[0.0, \"#FFA15A\"], [1.0, \"#FFA15A\"]], \"geojson\": \"STATE\", \"hovertemplate\": \"Ages 6-21=899<br>State Name=%{location}<extra></extra>\", \"locations\": [\"South Carolina\"], \"marker\": {\"opacity\": 0.5}, \"name\": \"899\", \"showlegend\": true, \"showscale\": false, \"subplot\": \"mapbox\", \"type\": \"choroplethmapbox\", \"z\": [1]}, {\"colorscale\": [[0.0, \"#19d3f3\"], [1.0, \"#19d3f3\"]], \"geojson\": \"STATE\", \"hovertemplate\": \"Ages 6-21=6199<br>State Name=%{location}<extra></extra>\", \"locations\": [\"South Carolina\"], \"marker\": {\"opacity\": 0.5}, \"name\": \"6199\", \"showlegend\": true, \"showscale\": false, \"subplot\": \"mapbox\", \"type\": \"choroplethmapbox\", \"z\": [1]}, {\"colorscale\": [[0.0, \"#FF6692\"], [1.0, \"#FF6692\"]], \"geojson\": \"STATE\", \"hovertemplate\": \"Ages 6-21=1363<br>State Name=%{location}<extra></extra>\", \"locations\": [\"South Carolina\"], \"marker\": {\"opacity\": 0.5}, \"name\": \"1363\", \"showlegend\": true, \"showscale\": false, \"subplot\": \"mapbox\", \"type\": \"choroplethmapbox\", \"z\": [1]}, {\"colorscale\": [[0.0, \"#B6E880\"], [1.0, \"#B6E880\"]], \"geojson\": \"STATE\", \"hovertemplate\": \"Ages 6-21=15297<br>State Name=%{location}<extra></extra>\", \"locations\": [\"South Carolina\"], \"marker\": {\"opacity\": 0.5}, \"name\": \"15297\", \"showlegend\": true, \"showscale\": false, \"subplot\": \"mapbox\", \"type\": \"choroplethmapbox\", \"z\": [1]}, {\"colorscale\": [[0.0, \"#FF97FF\"], [1.0, \"#FF97FF\"]], \"geojson\": \"STATE\", \"hovertemplate\": \"Ages 6-21=41983<br>State Name=%{location}<extra></extra>\", \"locations\": [\"South Carolina\"], \"marker\": {\"opacity\": 0.5}, \"name\": \"41983\", \"showlegend\": true, \"showscale\": false, \"subplot\": \"mapbox\", \"type\": \"choroplethmapbox\", \"z\": [1]}, {\"colorscale\": [[0.0, \"#FECB52\"], [1.0, \"#FECB52\"]], \"geojson\": \"STATE\", \"hovertemplate\": \"Ages 6-21=14585<br>State Name=%{location}<extra></extra>\", \"locations\": [\"South Carolina\"], \"marker\": {\"opacity\": 0.5}, \"name\": \"14585\", \"showlegend\": true, \"showscale\": false, \"subplot\": \"mapbox\", \"type\": \"choroplethmapbox\", \"z\": [1]}, {\"colorscale\": [[0.0, \"#636efa\"], [1.0, \"#636efa\"]], \"geojson\": \"STATE\", \"hovertemplate\": \"Ages 6-21=380<br>State Name=%{location}<extra></extra>\", \"locations\": [\"South Carolina\"], \"marker\": {\"opacity\": 0.5}, \"name\": \"380\", \"showlegend\": true, \"showscale\": false, \"subplot\": \"mapbox\", \"type\": \"choroplethmapbox\", \"z\": [1]}, {\"colorscale\": [[0.0, \"#EF553B\"], [1.0, \"#EF553B\"]], \"geojson\": \"STATE\", \"hovertemplate\": \"Ages 6-21=18789<br>State Name=%{location}<extra></extra>\", \"locations\": [\"South Dakota\"], \"marker\": {\"opacity\": 0.5}, \"name\": \"18789\", \"showlegend\": true, \"showscale\": false, \"subplot\": \"mapbox\", \"type\": \"choroplethmapbox\", \"z\": [1]}, {\"colorscale\": [[0.0, \"#00cc96\"], [1.0, \"#00cc96\"]], \"geojson\": \"STATE\", \"hovertemplate\": \"Ages 6-21=1392<br>State Name=%{location}<extra></extra>\", \"locations\": [\"South Dakota\"], \"marker\": {\"opacity\": 0.5}, \"name\": \"1392\", \"showlegend\": true, \"showscale\": false, \"subplot\": \"mapbox\", \"type\": \"choroplethmapbox\", \"z\": [1]}, {\"colorscale\": [[0.0, \"#ab63fa\"], [1.0, \"#ab63fa\"]], \"geojson\": \"STATE\", \"hovertemplate\": \"Ages 6-21=1213<br>State Name=%{location}<extra></extra>\", \"locations\": [\"South Dakota\"], \"marker\": {\"opacity\": 0.5}, \"name\": \"1213\", \"showlegend\": true, \"showscale\": false, \"subplot\": \"mapbox\", \"type\": \"choroplethmapbox\", \"z\": [1]}, {\"colorscale\": [[0.0, \"#FFA15A\"], [1.0, \"#FFA15A\"]], \"geojson\": \"STATE\", \"hovertemplate\": \"Ages 6-21=131<br>State Name=%{location}<extra></extra>\", \"locations\": [\"South Dakota\"], \"marker\": {\"opacity\": 0.5}, \"name\": \"131\", \"showlegend\": true, \"showscale\": false, \"subplot\": \"mapbox\", \"type\": \"choroplethmapbox\", \"z\": [1]}, {\"colorscale\": [[0.0, \"#19d3f3\"], [1.0, \"#19d3f3\"]], \"geojson\": \"STATE\", \"hovertemplate\": \"Ages 6-21=1827<br>State Name=%{location}<extra></extra>\", \"locations\": [\"South Dakota\"], \"marker\": {\"opacity\": 0.5}, \"name\": \"1827\", \"showlegend\": true, \"showscale\": false, \"subplot\": \"mapbox\", \"type\": \"choroplethmapbox\", \"z\": [1]}, {\"colorscale\": [[0.0, \"#FF6692\"], [1.0, \"#FF6692\"]], \"geojson\": \"STATE\", \"hovertemplate\": \"Ages 6-21=531<br>State Name=%{location}<extra></extra>\", \"locations\": [\"South Dakota\"], \"marker\": {\"opacity\": 0.5}, \"name\": \"531\", \"showlegend\": true, \"showscale\": false, \"subplot\": \"mapbox\", \"type\": \"choroplethmapbox\", \"z\": [1]}, {\"colorscale\": [[0.0, \"#B6E880\"], [1.0, \"#B6E880\"]], \"geojson\": \"STATE\", \"hovertemplate\": \"Ages 6-21=64<br>State Name=%{location}<extra></extra>\", \"locations\": [\"South Dakota\"], \"marker\": {\"opacity\": 0.5}, \"name\": \"64\", \"showlegend\": true, \"showscale\": false, \"subplot\": \"mapbox\", \"type\": \"choroplethmapbox\", \"z\": [1]}, {\"colorscale\": [[0.0, \"#FF97FF\"], [1.0, \"#FF97FF\"]], \"geojson\": \"STATE\", \"hovertemplate\": \"Ages 6-21=2919<br>State Name=%{location}<extra></extra>\", \"locations\": [\"South Dakota\"], \"marker\": {\"opacity\": 0.5}, \"name\": \"2919\", \"showlegend\": true, \"showscale\": false, \"subplot\": \"mapbox\", \"type\": \"choroplethmapbox\", \"z\": [1]}, {\"colorscale\": [[0.0, \"#FECB52\"], [1.0, \"#FECB52\"]], \"geojson\": \"STATE\", \"hovertemplate\": \"Ages 6-21=7081<br>State Name=%{location}<extra></extra>\", \"locations\": [\"South Dakota\"], \"marker\": {\"opacity\": 0.5}, \"name\": \"7081\", \"showlegend\": true, \"showscale\": false, \"subplot\": \"mapbox\", \"type\": \"choroplethmapbox\", \"z\": [1]}, {\"colorscale\": [[0.0, \"#636efa\"], [1.0, \"#636efa\"]], \"geojson\": \"STATE\", \"hovertemplate\": \"Ages 6-21=3533<br>State Name=%{location}<extra></extra>\", \"locations\": [\"South Dakota\"], \"marker\": {\"opacity\": 0.5}, \"name\": \"3533\", \"showlegend\": true, \"showscale\": false, \"subplot\": \"mapbox\", \"type\": \"choroplethmapbox\", \"z\": [1]}, {\"colorscale\": [[0.0, \"#EF553B\"], [1.0, \"#EF553B\"]], \"geojson\": \"STATE\", \"hovertemplate\": \"Ages 6-21=46<br>State Name=%{location}<extra></extra>\", \"locations\": [\"South Dakota\"], \"marker\": {\"opacity\": 0.5}, \"name\": \"46\", \"showlegend\": true, \"showscale\": false, \"subplot\": \"mapbox\", \"type\": \"choroplethmapbox\", \"z\": [1]}, {\"colorscale\": [[0.0, \"#00cc96\"], [1.0, \"#00cc96\"]], \"geojson\": \"STATE\", \"hovertemplate\": \"Ages 6-21=115637<br>State Name=%{location}<extra></extra>\", \"locations\": [\"Tennessee\"], \"marker\": {\"opacity\": 0.5}, \"name\": \"115637\", \"showlegend\": true, \"showscale\": false, \"subplot\": \"mapbox\", \"type\": \"choroplethmapbox\", \"z\": [1]}, {\"colorscale\": [[0.0, \"#ab63fa\"], [1.0, \"#ab63fa\"]], \"geojson\": \"STATE\", \"hovertemplate\": \"Ages 6-21=10988<br>State Name=%{location}<extra></extra>\", \"locations\": [\"Tennessee\"], \"marker\": {\"opacity\": 0.5}, \"name\": \"10988\", \"showlegend\": true, \"showscale\": false, \"subplot\": \"mapbox\", \"type\": \"choroplethmapbox\", \"z\": [1]}, {\"colorscale\": [[0.0, \"#FFA15A\"], [1.0, \"#FFA15A\"]], \"geojson\": \"STATE\", \"hovertemplate\": \"Ages 6-21=6810<br>State Name=%{location}<extra></extra>\", \"locations\": [\"Tennessee\"], \"marker\": {\"opacity\": 0.5}, \"name\": \"6810\", \"showlegend\": true, \"showscale\": false, \"subplot\": \"mapbox\", \"type\": \"choroplethmapbox\", \"z\": [1]}, {\"colorscale\": [[0.0, \"#19d3f3\"], [1.0, \"#19d3f3\"]], \"geojson\": \"STATE\", \"hovertemplate\": \"Ages 6-21=3381<br>State Name=%{location}<extra></extra>\", \"locations\": [\"Tennessee\"], \"marker\": {\"opacity\": 0.5}, \"name\": \"3381\", \"showlegend\": true, \"showscale\": false, \"subplot\": \"mapbox\", \"type\": \"choroplethmapbox\", \"z\": [1]}, {\"colorscale\": [[0.0, \"#FF6692\"], [1.0, \"#FF6692\"]], \"geojson\": \"STATE\", \"hovertemplate\": \"Ages 6-21=1079<br>State Name=%{location}<extra></extra>\", \"locations\": [\"Tennessee\"], \"marker\": {\"opacity\": 0.5}, \"name\": \"1079\", \"showlegend\": true, \"showscale\": false, \"subplot\": \"mapbox\", \"type\": \"choroplethmapbox\", \"z\": [1]}, {\"colorscale\": [[0.0, \"#B6E880\"], [1.0, \"#B6E880\"]], \"geojson\": \"STATE\", \"hovertemplate\": \"Ages 6-21=8656<br>State Name=%{location}<extra></extra>\", \"locations\": [\"Tennessee\"], \"marker\": {\"opacity\": 0.5}, \"name\": \"8656\", \"showlegend\": true, \"showscale\": false, \"subplot\": \"mapbox\", \"type\": \"choroplethmapbox\", \"z\": [1]}, {\"colorscale\": [[0.0, \"#FF97FF\"], [1.0, \"#FF97FF\"]], \"geojson\": \"STATE\", \"hovertemplate\": \"Ages 6-21=1967<br>State Name=%{location}<extra></extra>\", \"locations\": [\"Tennessee\"], \"marker\": {\"opacity\": 0.5}, \"name\": \"1967\", \"showlegend\": true, \"showscale\": false, \"subplot\": \"mapbox\", \"type\": \"choroplethmapbox\", \"z\": [1]}, {\"colorscale\": [[0.0, \"#FECB52\"], [1.0, \"#FECB52\"]], \"geojson\": \"STATE\", \"hovertemplate\": \"Ages 6-21=480<br>State Name=%{location}<extra></extra>\", \"locations\": [\"Tennessee\"], \"marker\": {\"opacity\": 0.5}, \"name\": \"480\", \"showlegend\": true, \"showscale\": false, \"subplot\": \"mapbox\", \"type\": \"choroplethmapbox\", \"z\": [1]}, {\"colorscale\": [[0.0, \"#636efa\"], [1.0, \"#636efa\"]], \"geojson\": \"STATE\", \"hovertemplate\": \"Ages 6-21=18734<br>State Name=%{location}<extra></extra>\", \"locations\": [\"Tennessee\"], \"marker\": {\"opacity\": 0.5}, \"name\": \"18734\", \"showlegend\": true, \"showscale\": false, \"subplot\": \"mapbox\", \"type\": \"choroplethmapbox\", \"z\": [1]}, {\"colorscale\": [[0.0, \"#EF553B\"], [1.0, \"#EF553B\"]], \"geojson\": \"STATE\", \"hovertemplate\": \"Ages 6-21=37630<br>State Name=%{location}<extra></extra>\", \"locations\": [\"Tennessee\"], \"marker\": {\"opacity\": 0.5}, \"name\": \"37630\", \"showlegend\": true, \"showscale\": false, \"subplot\": \"mapbox\", \"type\": \"choroplethmapbox\", \"z\": [1]}, {\"colorscale\": [[0.0, \"#00cc96\"], [1.0, \"#00cc96\"]], \"geojson\": \"STATE\", \"hovertemplate\": \"Ages 6-21=25047<br>State Name=%{location}<extra></extra>\", \"locations\": [\"Tennessee\"], \"marker\": {\"opacity\": 0.5}, \"name\": \"25047\", \"showlegend\": true, \"showscale\": false, \"subplot\": \"mapbox\", \"type\": \"choroplethmapbox\", \"z\": [1]}, {\"colorscale\": [[0.0, \"#ab63fa\"], [1.0, \"#ab63fa\"]], \"geojson\": \"STATE\", \"hovertemplate\": \"Ages 6-21=319<br>State Name=%{location}<extra></extra>\", \"locations\": [\"Tennessee\"], \"marker\": {\"opacity\": 0.5}, \"name\": \"319\", \"showlegend\": true, \"showscale\": false, \"subplot\": \"mapbox\", \"type\": \"choroplethmapbox\", \"z\": [1]}, {\"colorscale\": [[0.0, \"#FFA15A\"], [1.0, \"#FFA15A\"]], \"geojson\": \"STATE\", \"hovertemplate\": \"Ages 6-21=478435<br>State Name=%{location}<extra></extra>\", \"locations\": [\"Texas\"], \"marker\": {\"opacity\": 0.5}, \"name\": \"478435\", \"showlegend\": true, \"showscale\": false, \"subplot\": \"mapbox\", \"type\": \"choroplethmapbox\", \"z\": [1]}, {\"colorscale\": [[0.0, \"#19d3f3\"], [1.0, \"#19d3f3\"]], \"geojson\": \"STATE\", \"hovertemplate\": \"Ages 6-21=62319<br>State Name=%{location}<extra></extra>\", \"locations\": [\"Texas\"], \"marker\": {\"opacity\": 0.5}, \"name\": \"62319\", \"showlegend\": true, \"showscale\": false, \"subplot\": \"mapbox\", \"type\": \"choroplethmapbox\", \"z\": [1]}, {\"colorscale\": [[0.0, \"#FF6692\"], [1.0, \"#FF6692\"]], \"geojson\": \"STATE\", \"hovertemplate\": \"Ages 6-21=157<br>State Name=%{location}<extra></extra>\", \"locations\": [\"Texas\"], \"marker\": {\"opacity\": 0.5}, \"name\": \"157\", \"showlegend\": true, \"showscale\": false, \"subplot\": \"mapbox\", \"type\": \"choroplethmapbox\", \"z\": [1]}, {\"colorscale\": [[0.0, \"#B6E880\"], [1.0, \"#B6E880\"]], \"geojson\": \"STATE\", \"hovertemplate\": \"Ages 6-21=31519<br>State Name=%{location}<extra></extra>\", \"locations\": [\"Texas\"], \"marker\": {\"opacity\": 0.5}, \"name\": \"31519\", \"showlegend\": true, \"showscale\": false, \"subplot\": \"mapbox\", \"type\": \"choroplethmapbox\", \"z\": [1]}, {\"colorscale\": [[0.0, \"#FF97FF\"], [1.0, \"#FF97FF\"]], \"geojson\": \"STATE\", \"hovertemplate\": \"Ages 6-21=6058<br>State Name=%{location}<extra></extra>\", \"locations\": [\"Texas\"], \"marker\": {\"opacity\": 0.5}, \"name\": \"6058\", \"showlegend\": true, \"showscale\": false, \"subplot\": \"mapbox\", \"type\": \"choroplethmapbox\", \"z\": [1]}, {\"colorscale\": [[0.0, \"#FECB52\"], [1.0, \"#FECB52\"]], \"geojson\": \"STATE\", \"hovertemplate\": \"Ages 6-21=53158<br>State Name=%{location}<extra></extra>\", \"locations\": [\"Texas\"], \"marker\": {\"opacity\": 0.5}, \"name\": \"53158\", \"showlegend\": true, \"showscale\": false, \"subplot\": \"mapbox\", \"type\": \"choroplethmapbox\", \"z\": [1]}, {\"colorscale\": [[0.0, \"#636efa\"], [1.0, \"#636efa\"]], \"geojson\": \"STATE\", \"hovertemplate\": \"Ages 6-21=7643<br>State Name=%{location}<extra></extra>\", \"locations\": [\"Texas\"], \"marker\": {\"opacity\": 0.5}, \"name\": \"7643\", \"showlegend\": true, \"showscale\": false, \"subplot\": \"mapbox\", \"type\": \"choroplethmapbox\", \"z\": [1]}, {\"colorscale\": [[0.0, \"#EF553B\"], [1.0, \"#EF553B\"]], \"geojson\": \"STATE\", \"hovertemplate\": \"Ages 6-21=2779<br>State Name=%{location}<extra></extra>\", \"locations\": [\"Texas\"], \"marker\": {\"opacity\": 0.5}, \"name\": \"2779\", \"showlegend\": true, \"showscale\": false, \"subplot\": \"mapbox\", \"type\": \"choroplethmapbox\", \"z\": [1]}, {\"colorscale\": [[0.0, \"#00cc96\"], [1.0, \"#00cc96\"]], \"geojson\": \"STATE\", \"hovertemplate\": \"Ages 6-21=71344<br>State Name=%{location}<extra></extra>\", \"locations\": [\"Texas\"], \"marker\": {\"opacity\": 0.5}, \"name\": \"71344\", \"showlegend\": true, \"showscale\": false, \"subplot\": \"mapbox\", \"type\": \"choroplethmapbox\", \"z\": [1]}, {\"colorscale\": [[0.0, \"#ab63fa\"], [1.0, \"#ab63fa\"]], \"geojson\": \"STATE\", \"hovertemplate\": \"Ages 6-21=163330<br>State Name=%{location}<extra></extra>\", \"locations\": [\"Texas\"], \"marker\": {\"opacity\": 0.5}, \"name\": \"163330\", \"showlegend\": true, \"showscale\": false, \"subplot\": \"mapbox\", \"type\": \"choroplethmapbox\", \"z\": [1]}, {\"colorscale\": [[0.0, \"#FFA15A\"], [1.0, \"#FFA15A\"]], \"geojson\": \"STATE\", \"hovertemplate\": \"Ages 6-21=76061<br>State Name=%{location}<extra></extra>\", \"locations\": [\"Texas\"], \"marker\": {\"opacity\": 0.5}, \"name\": \"76061\", \"showlegend\": true, \"showscale\": false, \"subplot\": \"mapbox\", \"type\": \"choroplethmapbox\", \"z\": [1]}, {\"colorscale\": [[0.0, \"#19d3f3\"], [1.0, \"#19d3f3\"]], \"geojson\": \"STATE\", \"hovertemplate\": \"Ages 6-21=1091<br>State Name=%{location}<extra></extra>\", \"locations\": [\"Texas\"], \"marker\": {\"opacity\": 0.5}, \"name\": \"1091\", \"showlegend\": true, \"showscale\": false, \"subplot\": \"mapbox\", \"type\": \"choroplethmapbox\", \"z\": [1]}, {\"colorscale\": [[0.0, \"#FF6692\"], [1.0, \"#FF6692\"]], \"geojson\": \"STATE\", \"hovertemplate\": \"Ages 6-21=2976<br>State Name=%{location}<extra></extra>\", \"locations\": [\"Texas\"], \"marker\": {\"opacity\": 0.5}, \"name\": \"2976\", \"showlegend\": true, \"showscale\": false, \"subplot\": \"mapbox\", \"type\": \"choroplethmapbox\", \"z\": [1]}, {\"colorscale\": [[0.0, \"#B6E880\"], [1.0, \"#B6E880\"]], \"geojson\": \"STATE\", \"hovertemplate\": \"Ages 6-21=75791<br>State Name=%{location}<extra></extra>\", \"locations\": [\"Utah\"], \"marker\": {\"opacity\": 0.5}, \"name\": \"75791\", \"showlegend\": true, \"showscale\": false, \"subplot\": \"mapbox\", \"type\": \"choroplethmapbox\", \"z\": [1]}, {\"colorscale\": [[0.0, \"#FF97FF\"], [1.0, \"#FF97FF\"]], \"geojson\": \"STATE\", \"hovertemplate\": \"Ages 6-21=6445<br>State Name=%{location}<extra></extra>\", \"locations\": [\"Utah\"], \"marker\": {\"opacity\": 0.5}, \"name\": \"6445\", \"showlegend\": true, \"showscale\": false, \"subplot\": \"mapbox\", \"type\": \"choroplethmapbox\", \"z\": [1]}, {\"colorscale\": [[0.0, \"#FECB52\"], [1.0, \"#FECB52\"]], \"geojson\": \"STATE\", \"hovertemplate\": \"Ages 6-21=25<br>State Name=%{location}<extra></extra>\", \"locations\": [\"Utah\"], \"marker\": {\"opacity\": 0.5}, \"name\": \"25\", \"showlegend\": true, \"showscale\": false, \"subplot\": \"mapbox\", \"type\": \"choroplethmapbox\", \"z\": [1]}, {\"colorscale\": [[0.0, \"#636efa\"], [1.0, \"#636efa\"]], \"geojson\": \"STATE\", \"hovertemplate\": \"Ages 6-21=2156<br>State Name=%{location}<extra></extra>\", \"locations\": [\"Utah\"], \"marker\": {\"opacity\": 0.5}, \"name\": \"2156\", \"showlegend\": true, \"showscale\": false, \"subplot\": \"mapbox\", \"type\": \"choroplethmapbox\", \"z\": [1]}, {\"colorscale\": [[0.0, \"#EF553B\"], [1.0, \"#EF553B\"]], \"geojson\": \"STATE\", \"hovertemplate\": \"Ages 6-21=1918<br>State Name=%{location}<extra></extra>\", \"locations\": [\"Utah\"], \"marker\": {\"opacity\": 0.5}, \"name\": \"1918\", \"showlegend\": true, \"showscale\": false, \"subplot\": \"mapbox\", \"type\": \"choroplethmapbox\", \"z\": [1]}, {\"colorscale\": [[0.0, \"#00cc96\"], [1.0, \"#00cc96\"]], \"geojson\": \"STATE\", \"hovertemplate\": \"Ages 6-21=3285<br>State Name=%{location}<extra></extra>\", \"locations\": [\"Utah\"], \"marker\": {\"opacity\": 0.5}, \"name\": \"3285\", \"showlegend\": true, \"showscale\": false, \"subplot\": \"mapbox\", \"type\": \"choroplethmapbox\", \"z\": [1]}, {\"colorscale\": [[0.0, \"#ab63fa\"], [1.0, \"#ab63fa\"]], \"geojson\": \"STATE\", \"hovertemplate\": \"Ages 6-21=1448<br>State Name=%{location}<extra></extra>\", \"locations\": [\"Utah\"], \"marker\": {\"opacity\": 0.5}, \"name\": \"1448\", \"showlegend\": true, \"showscale\": false, \"subplot\": \"mapbox\", \"type\": \"choroplethmapbox\", \"z\": [1]}, {\"colorscale\": [[0.0, \"#FFA15A\"], [1.0, \"#FFA15A\"]], \"geojson\": \"STATE\", \"hovertemplate\": \"Ages 6-21=167<br>State Name=%{location}<extra></extra>\", \"locations\": [\"Utah\"], \"marker\": {\"opacity\": 0.5}, \"name\": \"167\", \"showlegend\": true, \"showscale\": false, \"subplot\": \"mapbox\", \"type\": \"choroplethmapbox\", \"z\": [1]}, {\"colorscale\": [[0.0, \"#19d3f3\"], [1.0, \"#19d3f3\"]], \"geojson\": \"STATE\", \"hovertemplate\": \"Ages 6-21=8195<br>State Name=%{location}<extra></extra>\", \"locations\": [\"Utah\"], \"marker\": {\"opacity\": 0.5}, \"name\": \"8195\", \"showlegend\": true, \"showscale\": false, \"subplot\": \"mapbox\", \"type\": \"choroplethmapbox\", \"z\": [1]}, {\"colorscale\": [[0.0, \"#FF6692\"], [1.0, \"#FF6692\"]], \"geojson\": \"STATE\", \"hovertemplate\": \"Ages 6-21=35105<br>State Name=%{location}<extra></extra>\", \"locations\": [\"Utah\"], \"marker\": {\"opacity\": 0.5}, \"name\": \"35105\", \"showlegend\": true, \"showscale\": false, \"subplot\": \"mapbox\", \"type\": \"choroplethmapbox\", \"z\": [1]}, {\"colorscale\": [[0.0, \"#B6E880\"], [1.0, \"#B6E880\"]], \"geojson\": \"STATE\", \"hovertemplate\": \"Ages 6-21=16147<br>State Name=%{location}<extra></extra>\", \"locations\": [\"Utah\"], \"marker\": {\"opacity\": 0.5}, \"name\": \"16147\", \"showlegend\": true, \"showscale\": false, \"subplot\": \"mapbox\", \"type\": \"choroplethmapbox\", \"z\": [1]}, {\"colorscale\": [[0.0, \"#FF97FF\"], [1.0, \"#FF97FF\"]], \"geojson\": \"STATE\", \"hovertemplate\": \"Ages 6-21=248<br>State Name=%{location}<extra></extra>\", \"locations\": [\"Utah\"], \"marker\": {\"opacity\": 0.5}, \"name\": \"248\", \"showlegend\": true, \"showscale\": false, \"subplot\": \"mapbox\", \"type\": \"choroplethmapbox\", \"z\": [1]}, {\"colorscale\": [[0.0, \"#FECB52\"], [1.0, \"#FECB52\"]], \"geojson\": \"STATE\", \"hovertemplate\": \"Ages 6-21=217<br>State Name=%{location}<extra></extra>\", \"locations\": [\"Utah\"], \"marker\": {\"opacity\": 0.5}, \"name\": \"217\", \"showlegend\": true, \"showscale\": false, \"subplot\": \"mapbox\", \"type\": \"choroplethmapbox\", \"z\": [1]}, {\"colorscale\": [[0.0, \"#636efa\"], [1.0, \"#636efa\"]], \"geojson\": \"STATE\", \"hovertemplate\": \"Ages 6-21=12861<br>State Name=%{location}<extra></extra>\", \"locations\": [\"Vermont\"], \"marker\": {\"opacity\": 0.5}, \"name\": \"12861\", \"showlegend\": true, \"showscale\": false, \"subplot\": \"mapbox\", \"type\": \"choroplethmapbox\", \"z\": [1]}, {\"colorscale\": [[0.0, \"#EF553B\"], [1.0, \"#EF553B\"]], \"geojson\": \"STATE\", \"hovertemplate\": \"Ages 6-21=1057<br>State Name=%{location}<extra></extra>\", \"locations\": [\"Vermont\"], \"marker\": {\"opacity\": 0.5}, \"name\": \"1057\", \"showlegend\": true, \"showscale\": false, \"subplot\": \"mapbox\", \"type\": \"choroplethmapbox\", \"z\": [1]}, {\"colorscale\": [[0.0, \"#00cc96\"], [1.0, \"#00cc96\"]], \"geojson\": \"STATE\", \"hovertemplate\": \"Ages 6-21=2233<br>State Name=%{location}<extra></extra>\", \"locations\": [\"Vermont\"], \"marker\": {\"opacity\": 0.5}, \"name\": \"2233\", \"showlegend\": true, \"showscale\": false, \"subplot\": \"mapbox\", \"type\": \"choroplethmapbox\", \"z\": [1]}, {\"colorscale\": [[0.0, \"#ab63fa\"], [1.0, \"#ab63fa\"]], \"geojson\": \"STATE\", \"hovertemplate\": \"Ages 6-21=627<br>State Name=%{location}<extra></extra>\", \"locations\": [\"Vermont\"], \"marker\": {\"opacity\": 0.5}, \"name\": \"627\", \"showlegend\": true, \"showscale\": false, \"subplot\": \"mapbox\", \"type\": \"choroplethmapbox\", \"z\": [1]}, {\"colorscale\": [[0.0, \"#FFA15A\"], [1.0, \"#FFA15A\"]], \"geojson\": \"STATE\", \"hovertemplate\": \"Ages 6-21=2543<br>State Name=%{location}<extra></extra>\", \"locations\": [\"Vermont\"], \"marker\": {\"opacity\": 0.5}, \"name\": \"2543\", \"showlegend\": true, \"showscale\": false, \"subplot\": \"mapbox\", \"type\": \"choroplethmapbox\", \"z\": [1]}, {\"colorscale\": [[0.0, \"#19d3f3\"], [1.0, \"#19d3f3\"]], \"geojson\": \"STATE\", \"hovertemplate\": \"Ages 6-21=4007<br>State Name=%{location}<extra></extra>\", \"locations\": [\"Vermont\"], \"marker\": {\"opacity\": 0.5}, \"name\": \"4007\", \"showlegend\": true, \"showscale\": false, \"subplot\": \"mapbox\", \"type\": \"choroplethmapbox\", \"z\": [1]}, {\"colorscale\": [[0.0, \"#FF6692\"], [1.0, \"#FF6692\"]], \"geojson\": \"STATE\", \"hovertemplate\": \"Ages 6-21=1012<br>State Name=%{location}<extra></extra>\", \"locations\": [\"Vermont\"], \"marker\": {\"opacity\": 0.5}, \"name\": \"1012\", \"showlegend\": true, \"showscale\": false, \"subplot\": \"mapbox\", \"type\": \"choroplethmapbox\", \"z\": [1]}, {\"colorscale\": [[0.0, \"#B6E880\"], [1.0, \"#B6E880\"]], \"geojson\": \"STATE\", \"hovertemplate\": \"Ages 6-21=974<br>State Name=%{location}<extra></extra>\", \"locations\": [\"Virgin Islands\"], \"marker\": {\"opacity\": 0.5}, \"name\": \"974\", \"showlegend\": true, \"showscale\": false, \"subplot\": \"mapbox\", \"type\": \"choroplethmapbox\", \"z\": [1]}, {\"colorscale\": [[0.0, \"#FF97FF\"], [1.0, \"#FF97FF\"]], \"geojson\": \"STATE\", \"hovertemplate\": \"Ages 6-21=85<br>State Name=%{location}<extra></extra>\", \"locations\": [\"Virgin Islands\"], \"marker\": {\"opacity\": 0.5}, \"name\": \"85\", \"showlegend\": true, \"showscale\": false, \"subplot\": \"mapbox\", \"type\": \"choroplethmapbox\", \"z\": [1]}, {\"colorscale\": [[0.0, \"#FECB52\"], [1.0, \"#FECB52\"]], \"geojson\": \"STATE\", \"hovertemplate\": \"Ages 6-21=89<br>State Name=%{location}<extra></extra>\", \"locations\": [\"Virgin Islands\"], \"marker\": {\"opacity\": 0.5}, \"name\": \"89\", \"showlegend\": true, \"showscale\": false, \"subplot\": \"mapbox\", \"type\": \"choroplethmapbox\", \"z\": [1]}, {\"colorscale\": [[0.0, \"#636efa\"], [1.0, \"#636efa\"]], \"geojson\": \"STATE\", \"hovertemplate\": \"Ages 6-21=104<br>State Name=%{location}<extra></extra>\", \"locations\": [\"Virgin Islands\"], \"marker\": {\"opacity\": 0.5}, \"name\": \"104\", \"showlegend\": true, \"showscale\": false, \"subplot\": \"mapbox\", \"type\": \"choroplethmapbox\", \"z\": [1]}, {\"colorscale\": [[0.0, \"#EF553B\"], [1.0, \"#EF553B\"]], \"geojson\": \"STATE\", \"hovertemplate\": \"Ages 6-21=536<br>State Name=%{location}<extra></extra>\", \"locations\": [\"Virgin Islands\"], \"marker\": {\"opacity\": 0.5}, \"name\": \"536\", \"showlegend\": true, \"showscale\": false, \"subplot\": \"mapbox\", \"type\": \"choroplethmapbox\", \"z\": [1]}, {\"colorscale\": [[0.0, \"#00cc96\"], [1.0, \"#00cc96\"]], \"geojson\": \"STATE\", \"hovertemplate\": \"Ages 6-21=67<br>State Name=%{location}<extra></extra>\", \"locations\": [\"Virgin Islands\"], \"marker\": {\"opacity\": 0.5}, \"name\": \"67\", \"showlegend\": true, \"showscale\": false, \"subplot\": \"mapbox\", \"type\": \"choroplethmapbox\", \"z\": [1]}, {\"colorscale\": [[0.0, \"#ab63fa\"], [1.0, \"#ab63fa\"]], \"geojson\": \"STATE\", \"hovertemplate\": \"Ages 6-21=156643<br>State Name=%{location}<extra></extra>\", \"locations\": [\"Virginia\"], \"marker\": {\"opacity\": 0.5}, \"name\": \"156643\", \"showlegend\": true, \"showscale\": false, \"subplot\": \"mapbox\", \"type\": \"choroplethmapbox\", \"z\": [1]}, {\"colorscale\": [[0.0, \"#FFA15A\"], [1.0, \"#FFA15A\"]], \"geojson\": \"STATE\", \"hovertemplate\": \"Ages 6-21=20607<br>State Name=%{location}<extra></extra>\", \"locations\": [\"Virginia\"], \"marker\": {\"opacity\": 0.5}, \"name\": \"20607\", \"showlegend\": true, \"showscale\": false, \"subplot\": \"mapbox\", \"type\": \"choroplethmapbox\", \"z\": [1]}, {\"colorscale\": [[0.0, \"#19d3f3\"], [1.0, \"#19d3f3\"]], \"geojson\": \"STATE\", \"hovertemplate\": \"Ages 6-21=2825<br>State Name=%{location}<extra></extra>\", \"locations\": [\"Virginia\"], \"marker\": {\"opacity\": 0.5}, \"name\": \"2825\", \"showlegend\": true, \"showscale\": false, \"subplot\": \"mapbox\", \"type\": \"choroplethmapbox\", \"z\": [1]}, {\"colorscale\": [[0.0, \"#FF6692\"], [1.0, \"#FF6692\"]], \"geojson\": \"STATE\", \"hovertemplate\": \"Ages 6-21=9782<br>State Name=%{location}<extra></extra>\", \"locations\": [\"Virginia\"], \"marker\": {\"opacity\": 0.5}, \"name\": \"9782\", \"showlegend\": true, \"showscale\": false, \"subplot\": \"mapbox\", \"type\": \"choroplethmapbox\", \"z\": [1]}, {\"colorscale\": [[0.0, \"#B6E880\"], [1.0, \"#B6E880\"]], \"geojson\": \"STATE\", \"hovertemplate\": \"Ages 6-21=1184<br>State Name=%{location}<extra></extra>\", \"locations\": [\"Virginia\"], \"marker\": {\"opacity\": 0.5}, \"name\": \"1184\", \"showlegend\": true, \"showscale\": false, \"subplot\": \"mapbox\", \"type\": \"choroplethmapbox\", \"z\": [1]}, {\"colorscale\": [[0.0, \"#FF97FF\"], [1.0, \"#FF97FF\"]], \"geojson\": \"STATE\", \"hovertemplate\": \"Ages 6-21=8923<br>State Name=%{location}<extra></extra>\", \"locations\": [\"Virginia\"], \"marker\": {\"opacity\": 0.5}, \"name\": \"8923\", \"showlegend\": true, \"showscale\": false, \"subplot\": \"mapbox\", \"type\": \"choroplethmapbox\", \"z\": [1]}, {\"colorscale\": [[0.0, \"#FECB52\"], [1.0, \"#FECB52\"]], \"geojson\": \"STATE\", \"hovertemplate\": \"Ages 6-21=3002<br>State Name=%{location}<extra></extra>\", \"locations\": [\"Virginia\"], \"marker\": {\"opacity\": 0.5}, \"name\": \"3002\", \"showlegend\": true, \"showscale\": false, \"subplot\": \"mapbox\", \"type\": \"choroplethmapbox\", \"z\": [1]}, {\"colorscale\": [[0.0, \"#636efa\"], [1.0, \"#636efa\"]], \"geojson\": \"STATE\", \"hovertemplate\": \"Ages 6-21=35161<br>State Name=%{location}<extra></extra>\", \"locations\": [\"Virginia\"], \"marker\": {\"opacity\": 0.5}, \"name\": \"35161\", \"showlegend\": true, \"showscale\": false, \"subplot\": \"mapbox\", \"type\": \"choroplethmapbox\", \"z\": [1]}, {\"colorscale\": [[0.0, \"#EF553B\"], [1.0, \"#EF553B\"]], \"geojson\": \"STATE\", \"hovertemplate\": \"Ages 6-21=55558<br>State Name=%{location}<extra></extra>\", \"locations\": [\"Virginia\"], \"marker\": {\"opacity\": 0.5}, \"name\": \"55558\", \"showlegend\": true, \"showscale\": false, \"subplot\": \"mapbox\", \"type\": \"choroplethmapbox\", \"z\": [1]}, {\"colorscale\": [[0.0, \"#00cc96\"], [1.0, \"#00cc96\"]], \"geojson\": \"STATE\", \"hovertemplate\": \"Ages 6-21=18080<br>State Name=%{location}<extra></extra>\", \"locations\": [\"Virginia\"], \"marker\": {\"opacity\": 0.5}, \"name\": \"18080\", \"showlegend\": true, \"showscale\": false, \"subplot\": \"mapbox\", \"type\": \"choroplethmapbox\", \"z\": [1]}, {\"colorscale\": [[0.0, \"#ab63fa\"], [1.0, \"#ab63fa\"]], \"geojson\": \"STATE\", \"hovertemplate\": \"Ages 6-21=572<br>State Name=%{location}<extra></extra>\", \"locations\": [\"Virginia\"], \"marker\": {\"opacity\": 0.5}, \"name\": \"572\", \"showlegend\": true, \"showscale\": false, \"subplot\": \"mapbox\", \"type\": \"choroplethmapbox\", \"z\": [1]}, {\"colorscale\": [[0.0, \"#FFA15A\"], [1.0, \"#FFA15A\"]], \"geojson\": \"STATE\", \"hovertemplate\": \"Ages 6-21=130488<br>State Name=%{location}<extra></extra>\", \"locations\": [\"Washington\"], \"marker\": {\"opacity\": 0.5}, \"name\": \"130488\", \"showlegend\": true, \"showscale\": false, \"subplot\": \"mapbox\", \"type\": \"choroplethmapbox\", \"z\": [1]}, {\"colorscale\": [[0.0, \"#19d3f3\"], [1.0, \"#19d3f3\"]], \"geojson\": \"STATE\", \"hovertemplate\": \"Ages 6-21=14363<br>State Name=%{location}<extra></extra>\", \"locations\": [\"Washington\"], \"marker\": {\"opacity\": 0.5}, \"name\": \"14363\", \"showlegend\": true, \"showscale\": false, \"subplot\": \"mapbox\", \"type\": \"choroplethmapbox\", \"z\": [1]}, {\"colorscale\": [[0.0, \"#FF6692\"], [1.0, \"#FF6692\"]], \"geojson\": \"STATE\", \"hovertemplate\": \"Ages 6-21=22<br>State Name=%{location}<extra></extra>\", \"locations\": [\"Washington\"], \"marker\": {\"opacity\": 0.5}, \"name\": \"22\", \"showlegend\": true, \"showscale\": false, \"subplot\": \"mapbox\", \"type\": \"choroplethmapbox\", \"z\": [1]}, {\"colorscale\": [[0.0, \"#B6E880\"], [1.0, \"#B6E880\"]], \"geojson\": \"STATE\", \"hovertemplate\": \"Ages 6-21=8431<br>State Name=%{location}<extra></extra>\", \"locations\": [\"Washington\"], \"marker\": {\"opacity\": 0.5}, \"name\": \"8431\", \"showlegend\": true, \"showscale\": false, \"subplot\": \"mapbox\", \"type\": \"choroplethmapbox\", \"z\": [1]}, {\"colorscale\": [[0.0, \"#FF97FF\"], [1.0, \"#FF97FF\"]], \"geojson\": \"STATE\", \"hovertemplate\": \"Ages 6-21=5324<br>State Name=%{location}<extra></extra>\", \"locations\": [\"Washington\"], \"marker\": {\"opacity\": 0.5}, \"name\": \"5324\", \"showlegend\": true, \"showscale\": false, \"subplot\": \"mapbox\", \"type\": \"choroplethmapbox\", \"z\": [1]}, {\"colorscale\": [[0.0, \"#FECB52\"], [1.0, \"#FECB52\"]], \"geojson\": \"STATE\", \"hovertemplate\": \"Ages 6-21=1005<br>State Name=%{location}<extra></extra>\", \"locations\": [\"Washington\"], \"marker\": {\"opacity\": 0.5}, \"name\": \"1005\", \"showlegend\": true, \"showscale\": false, \"subplot\": \"mapbox\", \"type\": \"choroplethmapbox\", \"z\": [1]}, {\"colorscale\": [[0.0, \"#636efa\"], [1.0, \"#636efa\"]], \"geojson\": \"STATE\", \"hovertemplate\": \"Ages 6-21=5011<br>State Name=%{location}<extra></extra>\", \"locations\": [\"Washington\"], \"marker\": {\"opacity\": 0.5}, \"name\": \"5011\", \"showlegend\": true, \"showscale\": false, \"subplot\": \"mapbox\", \"type\": \"choroplethmapbox\", \"z\": [1]}, {\"colorscale\": [[0.0, \"#EF553B\"], [1.0, \"#EF553B\"]], \"geojson\": \"STATE\", \"hovertemplate\": \"Ages 6-21=2946<br>State Name=%{location}<extra></extra>\", \"locations\": [\"Washington\"], \"marker\": {\"opacity\": 0.5}, \"name\": \"2946\", \"showlegend\": true, \"showscale\": false, \"subplot\": \"mapbox\", \"type\": \"choroplethmapbox\", \"z\": [1]}, {\"colorscale\": [[0.0, \"#00cc96\"], [1.0, \"#00cc96\"]], \"geojson\": \"STATE\", \"hovertemplate\": \"Ages 6-21=371<br>State Name=%{location}<extra></extra>\", \"locations\": [\"Washington\"], \"marker\": {\"opacity\": 0.5}, \"name\": \"371\", \"showlegend\": true, \"showscale\": false, \"subplot\": \"mapbox\", \"type\": \"choroplethmapbox\", \"z\": [1]}, {\"colorscale\": [[0.0, \"#ab63fa\"], [1.0, \"#ab63fa\"]], \"geojson\": \"STATE\", \"hovertemplate\": \"Ages 6-21=27249<br>State Name=%{location}<extra></extra>\", \"locations\": [\"Washington\"], \"marker\": {\"opacity\": 0.5}, \"name\": \"27249\", \"showlegend\": true, \"showscale\": false, \"subplot\": \"mapbox\", \"type\": \"choroplethmapbox\", \"z\": [1]}, {\"colorscale\": [[0.0, \"#FFA15A\"], [1.0, \"#FFA15A\"]], \"geojson\": \"STATE\", \"hovertemplate\": \"Ages 6-21=47606<br>State Name=%{location}<extra></extra>\", \"locations\": [\"Washington\"], \"marker\": {\"opacity\": 0.5}, \"name\": \"47606\", \"showlegend\": true, \"showscale\": false, \"subplot\": \"mapbox\", \"type\": \"choroplethmapbox\", \"z\": [1]}, {\"colorscale\": [[0.0, \"#19d3f3\"], [1.0, \"#19d3f3\"]], \"geojson\": \"STATE\", \"hovertemplate\": \"Ages 6-21=17431<br>State Name=%{location}<extra></extra>\", \"locations\": [\"Washington\"], \"marker\": {\"opacity\": 0.5}, \"name\": \"17431\", \"showlegend\": true, \"showscale\": false, \"subplot\": \"mapbox\", \"type\": \"choroplethmapbox\", \"z\": [1]}, {\"colorscale\": [[0.0, \"#FF6692\"], [1.0, \"#FF6692\"]], \"geojson\": \"STATE\", \"hovertemplate\": \"Ages 6-21=310<br>State Name=%{location}<extra></extra>\", \"locations\": [\"Washington\"], \"marker\": {\"opacity\": 0.5}, \"name\": \"310\", \"showlegend\": true, \"showscale\": false, \"subplot\": \"mapbox\", \"type\": \"choroplethmapbox\", \"z\": [1]}, {\"colorscale\": [[0.0, \"#B6E880\"], [1.0, \"#B6E880\"]], \"geojson\": \"STATE\", \"hovertemplate\": \"Ages 6-21=419<br>State Name=%{location}<extra></extra>\", \"locations\": [\"Washington\"], \"marker\": {\"opacity\": 0.5}, \"name\": \"419\", \"showlegend\": true, \"showscale\": false, \"subplot\": \"mapbox\", \"type\": \"choroplethmapbox\", \"z\": [1]}, {\"colorscale\": [[0.0, \"#FF97FF\"], [1.0, \"#FF97FF\"]], \"geojson\": \"STATE\", \"hovertemplate\": \"Ages 6-21=41938<br>State Name=%{location}<extra></extra>\", \"locations\": [\"West Virginia\"], \"marker\": {\"opacity\": 0.5}, \"name\": \"41938\", \"showlegend\": true, \"showscale\": false, \"subplot\": \"mapbox\", \"type\": \"choroplethmapbox\", \"z\": [1]}, {\"colorscale\": [[0.0, \"#FECB52\"], [1.0, \"#FECB52\"]], \"geojson\": \"STATE\", \"hovertemplate\": \"Ages 6-21=2565<br>State Name=%{location}<extra></extra>\", \"locations\": [\"West Virginia\"], \"marker\": {\"opacity\": 0.5}, \"name\": \"2565\", \"showlegend\": true, \"showscale\": false, \"subplot\": \"mapbox\", \"type\": \"choroplethmapbox\", \"z\": [1]}, {\"colorscale\": [[0.0, \"#636efa\"], [1.0, \"#636efa\"]], \"geojson\": \"STATE\", \"hovertemplate\": \"Ages 6-21=1133<br>State Name=%{location}<extra></extra>\", \"locations\": [\"West Virginia\"], \"marker\": {\"opacity\": 0.5}, \"name\": \"1133\", \"showlegend\": true, \"showscale\": false, \"subplot\": \"mapbox\", \"type\": \"choroplethmapbox\", \"z\": [1]}, {\"colorscale\": [[0.0, \"#EF553B\"], [1.0, \"#EF553B\"]], \"geojson\": \"STATE\", \"hovertemplate\": \"Ages 6-21=420<br>State Name=%{location}<extra></extra>\", \"locations\": [\"West Virginia\"], \"marker\": {\"opacity\": 0.5}, \"name\": \"420\", \"showlegend\": true, \"showscale\": false, \"subplot\": \"mapbox\", \"type\": \"choroplethmapbox\", \"z\": [1]}, {\"colorscale\": [[0.0, \"#00cc96\"], [1.0, \"#00cc96\"]], \"geojson\": \"STATE\", \"hovertemplate\": \"Ages 6-21=6559<br>State Name=%{location}<extra></extra>\", \"locations\": [\"West Virginia\"], \"marker\": {\"opacity\": 0.5}, \"name\": \"6559\", \"showlegend\": true, \"showscale\": false, \"subplot\": \"mapbox\", \"type\": \"choroplethmapbox\", \"z\": [1]}, {\"colorscale\": [[0.0, \"#ab63fa\"], [1.0, \"#ab63fa\"]], \"geojson\": \"STATE\", \"hovertemplate\": \"Ages 6-21=99<br>State Name=%{location}<extra></extra>\", \"locations\": [\"West Virginia\"], \"marker\": {\"opacity\": 0.5}, \"name\": \"99\", \"showlegend\": true, \"showscale\": false, \"subplot\": \"mapbox\", \"type\": \"choroplethmapbox\", \"z\": [1]}, {\"colorscale\": [[0.0, \"#FFA15A\"], [1.0, \"#FFA15A\"]], \"geojson\": \"STATE\", \"hovertemplate\": \"Ages 6-21=7038<br>State Name=%{location}<extra></extra>\", \"locations\": [\"West Virginia\"], \"marker\": {\"opacity\": 0.5}, \"name\": \"7038\", \"showlegend\": true, \"showscale\": false, \"subplot\": \"mapbox\", \"type\": \"choroplethmapbox\", \"z\": [1]}, {\"colorscale\": [[0.0, \"#19d3f3\"], [1.0, \"#19d3f3\"]], \"geojson\": \"STATE\", \"hovertemplate\": \"Ages 6-21=14977<br>State Name=%{location}<extra></extra>\", \"locations\": [\"West Virginia\"], \"marker\": {\"opacity\": 0.5}, \"name\": \"14977\", \"showlegend\": true, \"showscale\": false, \"subplot\": \"mapbox\", \"type\": \"choroplethmapbox\", \"z\": [1]}, {\"colorscale\": [[0.0, \"#FF6692\"], [1.0, \"#FF6692\"]], \"geojson\": \"STATE\", \"hovertemplate\": \"Ages 6-21=8752<br>State Name=%{location}<extra></extra>\", \"locations\": [\"West Virginia\"], \"marker\": {\"opacity\": 0.5}, \"name\": \"8752\", \"showlegend\": true, \"showscale\": false, \"subplot\": \"mapbox\", \"type\": \"choroplethmapbox\", \"z\": [1]}, {\"colorscale\": [[0.0, \"#B6E880\"], [1.0, \"#B6E880\"]], \"geojson\": \"STATE\", \"hovertemplate\": \"Ages 6-21=97<br>State Name=%{location}<extra></extra>\", \"locations\": [\"West Virginia\"], \"marker\": {\"opacity\": 0.5}, \"name\": \"97\", \"showlegend\": true, \"showscale\": false, \"subplot\": \"mapbox\", \"type\": \"choroplethmapbox\", \"z\": [1]}, {\"colorscale\": [[0.0, \"#FF97FF\"], [1.0, \"#FF97FF\"]], \"geojson\": \"STATE\", \"hovertemplate\": \"Ages 6-21=277<br>State Name=%{location}<extra></extra>\", \"locations\": [\"West Virginia\"], \"marker\": {\"opacity\": 0.5}, \"name\": \"277\", \"showlegend\": true, \"showscale\": false, \"subplot\": \"mapbox\", \"type\": \"choroplethmapbox\", \"z\": [1]}, {\"colorscale\": [[0.0, \"#FECB52\"], [1.0, \"#FECB52\"]], \"geojson\": \"STATE\", \"hovertemplate\": \"Ages 6-21=*<br>State Name=%{location}<extra></extra>\", \"locations\": [\"Wisconsin\", \"Wisconsin\", \"Wisconsin\", \"Wisconsin\", \"Wisconsin\", \"Wisconsin\", \"Wisconsin\", \"Wisconsin\", \"Wisconsin\", \"Wisconsin\", \"Wisconsin\", \"Wisconsin\", \"Wisconsin\"], \"marker\": {\"opacity\": 0.5}, \"name\": \"*\", \"showlegend\": true, \"showscale\": false, \"subplot\": \"mapbox\", \"type\": \"choroplethmapbox\", \"z\": [1, 1, 1, 1, 1, 1, 1, 1, 1, 1, 1, 1, 1]}, {\"colorscale\": [[0.0, \"#636efa\"], [1.0, \"#636efa\"]], \"geojson\": \"STATE\", \"hovertemplate\": \"Ages 6-21=12348<br>State Name=%{location}<extra></extra>\", \"locations\": [\"Wyoming\"], \"marker\": {\"opacity\": 0.5}, \"name\": \"12348\", \"showlegend\": true, \"showscale\": false, \"subplot\": \"mapbox\", \"type\": \"choroplethmapbox\", \"z\": [1]}, {\"colorscale\": [[0.0, \"#EF553B\"], [1.0, \"#EF553B\"]], \"geojson\": \"STATE\", \"hovertemplate\": \"Ages 6-21=906<br>State Name=%{location}<extra></extra>\", \"locations\": [\"Wyoming\"], \"marker\": {\"opacity\": 0.5}, \"name\": \"906\", \"showlegend\": true, \"showscale\": false, \"subplot\": \"mapbox\", \"type\": \"choroplethmapbox\", \"z\": [1]}, {\"colorscale\": [[0.0, \"#00cc96\"], [1.0, \"#00cc96\"]], \"geojson\": \"STATE\", \"hovertemplate\": \"Ages 6-21=244<br>State Name=%{location}<extra></extra>\", \"locations\": [\"Wyoming\"], \"marker\": {\"opacity\": 0.5}, \"name\": \"244\", \"showlegend\": true, \"showscale\": false, \"subplot\": \"mapbox\", \"type\": \"choroplethmapbox\", \"z\": [1]}, {\"colorscale\": [[0.0, \"#ab63fa\"], [1.0, \"#ab63fa\"]], \"geojson\": \"STATE\", \"hovertemplate\": \"Ages 6-21=579<br>State Name=%{location}<extra></extra>\", \"locations\": [\"Wyoming\"], \"marker\": {\"opacity\": 0.5}, \"name\": \"579\", \"showlegend\": true, \"showscale\": false, \"subplot\": \"mapbox\", \"type\": \"choroplethmapbox\", \"z\": [1]}, {\"colorscale\": [[0.0, \"#FFA15A\"], [1.0, \"#FFA15A\"]], \"geojson\": \"STATE\", \"hovertemplate\": \"Ages 6-21=513<br>State Name=%{location}<extra></extra>\", \"locations\": [\"Wyoming\"], \"marker\": {\"opacity\": 0.5}, \"name\": \"513\", \"showlegend\": true, \"showscale\": false, \"subplot\": \"mapbox\", \"type\": \"choroplethmapbox\", \"z\": [1]}, {\"colorscale\": [[0.0, \"#19d3f3\"], [1.0, \"#19d3f3\"]], \"geojson\": \"STATE\", \"hovertemplate\": \"Ages 6-21=331<br>State Name=%{location}<extra></extra>\", \"locations\": [\"Wyoming\"], \"marker\": {\"opacity\": 0.5}, \"name\": \"331\", \"showlegend\": true, \"showscale\": false, \"subplot\": \"mapbox\", \"type\": \"choroplethmapbox\", \"z\": [1]}, {\"colorscale\": [[0.0, \"#FF6692\"], [1.0, \"#FF6692\"]], \"geojson\": \"STATE\", \"hovertemplate\": \"Ages 6-21=2056<br>State Name=%{location}<extra></extra>\", \"locations\": [\"Wyoming\"], \"marker\": {\"opacity\": 0.5}, \"name\": \"2056\", \"showlegend\": true, \"showscale\": false, \"subplot\": \"mapbox\", \"type\": \"choroplethmapbox\", \"z\": [1]}, {\"colorscale\": [[0.0, \"#B6E880\"], [1.0, \"#B6E880\"]], \"geojson\": \"STATE\", \"hovertemplate\": \"Ages 6-21=4282<br>State Name=%{location}<extra></extra>\", \"locations\": [\"Wyoming\"], \"marker\": {\"opacity\": 0.5}, \"name\": \"4282\", \"showlegend\": true, \"showscale\": false, \"subplot\": \"mapbox\", \"type\": \"choroplethmapbox\", \"z\": [1]}, {\"colorscale\": [[0.0, \"#FF97FF\"], [1.0, \"#FF97FF\"]], \"geojson\": \"STATE\", \"hovertemplate\": \"Ages 6-21=3151<br>State Name=%{location}<extra></extra>\", \"locations\": [\"Wyoming\"], \"marker\": {\"opacity\": 0.5}, \"name\": \"3151\", \"showlegend\": true, \"showscale\": false, \"subplot\": \"mapbox\", \"type\": \"choroplethmapbox\", \"z\": [1]}, {\"colorscale\": [[0.0, \"#FECB52\"], [1.0, \"#FECB52\"]], \"geojson\": \"STATE\", \"hovertemplate\": \"Ages 6-21=41<br>State Name=%{location}<extra></extra>\", \"locations\": [\"Wyoming\"], \"marker\": {\"opacity\": 0.5}, \"name\": \"41\", \"showlegend\": true, \"showscale\": false, \"subplot\": \"mapbox\", \"type\": \"choroplethmapbox\", \"z\": [1]}, {\"colorscale\": [[0.0, \"#636efa\"], [1.0, \"#636efa\"]], \"geojson\": \"STATE\", \"hovertemplate\": \"Ages 6-21=6315228<br>State Name=%{location}<extra></extra>\", \"locations\": [\"US, Outlying Areas, and Freely Associated States\"], \"marker\": {\"opacity\": 0.5}, \"name\": \"6315228\", \"showlegend\": true, \"showscale\": false, \"subplot\": \"mapbox\", \"type\": \"choroplethmapbox\", \"z\": [1]}, {\"colorscale\": [[0.0, \"#EF553B\"], [1.0, \"#EF553B\"]], \"geojson\": \"STATE\", \"hovertemplate\": \"Ages 6-21=663844<br>State Name=%{location}<extra></extra>\", \"locations\": [\"US, Outlying Areas, and Freely Associated States\"], \"marker\": {\"opacity\": 0.5}, \"name\": \"663844\", \"showlegend\": true, \"showscale\": false, \"subplot\": \"mapbox\", \"type\": \"choroplethmapbox\", \"z\": [1]}, {\"colorscale\": [[0.0, \"#00cc96\"], [1.0, \"#00cc96\"]], \"geojson\": \"STATE\", \"hovertemplate\": \"Ages 6-21=1425<br>State Name=%{location}<extra></extra>\", \"locations\": [\"US, Outlying Areas, and Freely Associated States\"], \"marker\": {\"opacity\": 0.5}, \"name\": \"1425\", \"showlegend\": true, \"showscale\": false, \"subplot\": \"mapbox\", \"type\": \"choroplethmapbox\", \"z\": [1]}, {\"colorscale\": [[0.0, \"#ab63fa\"], [1.0, \"#ab63fa\"]], \"geojson\": \"STATE\", \"hovertemplate\": \"Ages 6-21=167704<br>State Name=%{location}<extra></extra>\", \"locations\": [\"US, Outlying Areas, and Freely Associated States\"], \"marker\": {\"opacity\": 0.5}, \"name\": \"167704\", \"showlegend\": true, \"showscale\": false, \"subplot\": \"mapbox\", \"type\": \"choroplethmapbox\", \"z\": [1]}, {\"colorscale\": [[0.0, \"#FFA15A\"], [1.0, \"#FFA15A\"]], \"geojson\": \"STATE\", \"hovertemplate\": \"Ages 6-21=344473<br>State Name=%{location}<extra></extra>\", \"locations\": [\"US, Outlying Areas, and Freely Associated States\"], \"marker\": {\"opacity\": 0.5}, \"name\": \"344473\", \"showlegend\": true, \"showscale\": false, \"subplot\": \"mapbox\", \"type\": \"choroplethmapbox\", \"z\": [1]}, {\"colorscale\": [[0.0, \"#19d3f3\"], [1.0, \"#19d3f3\"]], \"geojson\": \"STATE\", \"hovertemplate\": \"Ages 6-21=64359<br>State Name=%{location}<extra></extra>\", \"locations\": [\"US, Outlying Areas, and Freely Associated States\"], \"marker\": {\"opacity\": 0.5}, \"name\": \"64359\", \"showlegend\": true, \"showscale\": false, \"subplot\": \"mapbox\", \"type\": \"choroplethmapbox\", \"z\": [1]}, {\"colorscale\": [[0.0, \"#FF6692\"], [1.0, \"#FF6692\"]], \"geojson\": \"STATE\", \"hovertemplate\": \"Ages 6-21=423215<br>State Name=%{location}<extra></extra>\", \"locations\": [\"US, Outlying Areas, and Freely Associated States\"], \"marker\": {\"opacity\": 0.5}, \"name\": \"423215\", \"showlegend\": true, \"showscale\": false, \"subplot\": \"mapbox\", \"type\": \"choroplethmapbox\", \"z\": [1]}, {\"colorscale\": [[0.0, \"#B6E880\"], [1.0, \"#B6E880\"]], \"geojson\": \"STATE\", \"hovertemplate\": \"Ages 6-21=126697<br>State Name=%{location}<extra></extra>\", \"locations\": [\"US, Outlying Areas, and Freely Associated States\"], \"marker\": {\"opacity\": 0.5}, \"name\": \"126697\", \"showlegend\": true, \"showscale\": false, \"subplot\": \"mapbox\", \"type\": \"choroplethmapbox\", \"z\": [1]}, {\"colorscale\": [[0.0, \"#FF97FF\"], [1.0, \"#FF97FF\"]], \"geojson\": \"STATE\", \"hovertemplate\": \"Ages 6-21=33516<br>State Name=%{location}<extra></extra>\", \"locations\": [\"US, Outlying Areas, and Freely Associated States\"], \"marker\": {\"opacity\": 0.5}, \"name\": \"33516\", \"showlegend\": true, \"showscale\": false, \"subplot\": \"mapbox\", \"type\": \"choroplethmapbox\", \"z\": [1]}, {\"colorscale\": [[0.0, \"#FECB52\"], [1.0, \"#FECB52\"]], \"geojson\": \"STATE\", \"hovertemplate\": \"Ages 6-21=1025953<br>State Name=%{location}<extra></extra>\", \"locations\": [\"US, Outlying Areas, and Freely Associated States\"], \"marker\": {\"opacity\": 0.5}, \"name\": \"1025953\", \"showlegend\": true, \"showscale\": false, \"subplot\": \"mapbox\", \"type\": \"choroplethmapbox\", \"z\": [1]}, {\"colorscale\": [[0.0, \"#636efa\"], [1.0, \"#636efa\"]], \"geojson\": \"STATE\", \"hovertemplate\": \"Ages 6-21=2377739<br>State Name=%{location}<extra></extra>\", \"locations\": [\"US, Outlying Areas, and Freely Associated States\"], \"marker\": {\"opacity\": 0.5}, \"name\": \"2377739\", \"showlegend\": true, \"showscale\": false, \"subplot\": \"mapbox\", \"type\": \"choroplethmapbox\", \"z\": [1]}, {\"colorscale\": [[0.0, \"#EF553B\"], [1.0, \"#EF553B\"]], \"geojson\": \"STATE\", \"hovertemplate\": \"Ages 6-21=1036790<br>State Name=%{location}<extra></extra>\", \"locations\": [\"US, Outlying Areas, and Freely Associated States\"], \"marker\": {\"opacity\": 0.5}, \"name\": \"1036790\", \"showlegend\": true, \"showscale\": false, \"subplot\": \"mapbox\", \"type\": \"choroplethmapbox\", \"z\": [1]}, {\"colorscale\": [[0.0, \"#00cc96\"], [1.0, \"#00cc96\"]], \"geojson\": \"STATE\", \"hovertemplate\": \"Ages 6-21=25344<br>State Name=%{location}<extra></extra>\", \"locations\": [\"US, Outlying Areas, and Freely Associated States\"], \"marker\": {\"opacity\": 0.5}, \"name\": \"25344\", \"showlegend\": true, \"showscale\": false, \"subplot\": \"mapbox\", \"type\": \"choroplethmapbox\", \"z\": [1]}, {\"colorscale\": [[0.0, \"#ab63fa\"], [1.0, \"#ab63fa\"]], \"geojson\": \"STATE\", \"hovertemplate\": \"Ages 6-21=24169<br>State Name=%{location}<extra></extra>\", \"locations\": [\"US, Outlying Areas, and Freely Associated States\"], \"marker\": {\"opacity\": 0.5}, \"name\": \"24169\", \"showlegend\": true, \"showscale\": false, \"subplot\": \"mapbox\", \"type\": \"choroplethmapbox\", \"z\": [1]}],\n",
       "                        {\"legend\": {\"title\": {\"text\": \"Ages 6-21\"}, \"tracegroupgap\": 0}, \"mapbox\": {\"center\": {\"lat\": 37.0902, \"lon\": -95.7129}, \"domain\": {\"x\": [0.0, 1.0], \"y\": [0.0, 1.0]}, \"style\": \"carto-positron\", \"zoom\": 3}, \"margin\": {\"b\": 0, \"l\": 0, \"r\": 0, \"t\": 0}, \"template\": {\"data\": {\"bar\": [{\"error_x\": {\"color\": \"#2a3f5f\"}, \"error_y\": {\"color\": \"#2a3f5f\"}, \"marker\": {\"line\": {\"color\": \"#E5ECF6\", \"width\": 0.5}}, \"type\": \"bar\"}], \"barpolar\": [{\"marker\": {\"line\": {\"color\": \"#E5ECF6\", \"width\": 0.5}}, \"type\": \"barpolar\"}], \"carpet\": [{\"aaxis\": {\"endlinecolor\": \"#2a3f5f\", \"gridcolor\": \"white\", \"linecolor\": \"white\", \"minorgridcolor\": \"white\", \"startlinecolor\": \"#2a3f5f\"}, \"baxis\": {\"endlinecolor\": \"#2a3f5f\", \"gridcolor\": \"white\", \"linecolor\": \"white\", \"minorgridcolor\": \"white\", \"startlinecolor\": \"#2a3f5f\"}, \"type\": \"carpet\"}], \"choropleth\": [{\"colorbar\": {\"outlinewidth\": 0, \"ticks\": \"\"}, \"type\": \"choropleth\"}], \"contour\": [{\"colorbar\": {\"outlinewidth\": 0, \"ticks\": \"\"}, \"colorscale\": [[0.0, \"#0d0887\"], [0.1111111111111111, \"#46039f\"], [0.2222222222222222, \"#7201a8\"], [0.3333333333333333, \"#9c179e\"], [0.4444444444444444, \"#bd3786\"], [0.5555555555555556, \"#d8576b\"], [0.6666666666666666, \"#ed7953\"], [0.7777777777777778, \"#fb9f3a\"], [0.8888888888888888, \"#fdca26\"], [1.0, \"#f0f921\"]], \"type\": \"contour\"}], \"contourcarpet\": [{\"colorbar\": {\"outlinewidth\": 0, \"ticks\": \"\"}, \"type\": \"contourcarpet\"}], \"heatmap\": [{\"colorbar\": {\"outlinewidth\": 0, \"ticks\": \"\"}, \"colorscale\": [[0.0, \"#0d0887\"], [0.1111111111111111, \"#46039f\"], [0.2222222222222222, \"#7201a8\"], [0.3333333333333333, \"#9c179e\"], [0.4444444444444444, \"#bd3786\"], [0.5555555555555556, \"#d8576b\"], [0.6666666666666666, \"#ed7953\"], [0.7777777777777778, \"#fb9f3a\"], [0.8888888888888888, \"#fdca26\"], [1.0, \"#f0f921\"]], \"type\": \"heatmap\"}], \"heatmapgl\": [{\"colorbar\": {\"outlinewidth\": 0, \"ticks\": \"\"}, \"colorscale\": [[0.0, \"#0d0887\"], [0.1111111111111111, \"#46039f\"], [0.2222222222222222, \"#7201a8\"], [0.3333333333333333, \"#9c179e\"], [0.4444444444444444, \"#bd3786\"], [0.5555555555555556, \"#d8576b\"], [0.6666666666666666, \"#ed7953\"], [0.7777777777777778, \"#fb9f3a\"], [0.8888888888888888, \"#fdca26\"], [1.0, \"#f0f921\"]], \"type\": \"heatmapgl\"}], \"histogram\": [{\"marker\": {\"colorbar\": {\"outlinewidth\": 0, \"ticks\": \"\"}}, \"type\": \"histogram\"}], \"histogram2d\": [{\"colorbar\": {\"outlinewidth\": 0, \"ticks\": \"\"}, \"colorscale\": [[0.0, \"#0d0887\"], [0.1111111111111111, \"#46039f\"], [0.2222222222222222, \"#7201a8\"], [0.3333333333333333, \"#9c179e\"], [0.4444444444444444, \"#bd3786\"], [0.5555555555555556, \"#d8576b\"], [0.6666666666666666, \"#ed7953\"], [0.7777777777777778, \"#fb9f3a\"], [0.8888888888888888, \"#fdca26\"], [1.0, \"#f0f921\"]], \"type\": \"histogram2d\"}], \"histogram2dcontour\": [{\"colorbar\": {\"outlinewidth\": 0, \"ticks\": \"\"}, \"colorscale\": [[0.0, \"#0d0887\"], [0.1111111111111111, \"#46039f\"], [0.2222222222222222, \"#7201a8\"], [0.3333333333333333, \"#9c179e\"], [0.4444444444444444, \"#bd3786\"], [0.5555555555555556, \"#d8576b\"], [0.6666666666666666, \"#ed7953\"], [0.7777777777777778, \"#fb9f3a\"], [0.8888888888888888, \"#fdca26\"], [1.0, \"#f0f921\"]], \"type\": \"histogram2dcontour\"}], \"mesh3d\": [{\"colorbar\": {\"outlinewidth\": 0, \"ticks\": \"\"}, \"type\": \"mesh3d\"}], \"parcoords\": [{\"line\": {\"colorbar\": {\"outlinewidth\": 0, \"ticks\": \"\"}}, \"type\": \"parcoords\"}], \"pie\": [{\"automargin\": true, \"type\": \"pie\"}], \"scatter\": [{\"marker\": {\"colorbar\": {\"outlinewidth\": 0, \"ticks\": \"\"}}, \"type\": \"scatter\"}], \"scatter3d\": [{\"line\": {\"colorbar\": {\"outlinewidth\": 0, \"ticks\": \"\"}}, \"marker\": {\"colorbar\": {\"outlinewidth\": 0, \"ticks\": \"\"}}, \"type\": \"scatter3d\"}], \"scattercarpet\": [{\"marker\": {\"colorbar\": {\"outlinewidth\": 0, \"ticks\": \"\"}}, \"type\": \"scattercarpet\"}], \"scattergeo\": [{\"marker\": {\"colorbar\": {\"outlinewidth\": 0, \"ticks\": \"\"}}, \"type\": \"scattergeo\"}], \"scattergl\": [{\"marker\": {\"colorbar\": {\"outlinewidth\": 0, \"ticks\": \"\"}}, \"type\": \"scattergl\"}], \"scattermapbox\": [{\"marker\": {\"colorbar\": {\"outlinewidth\": 0, \"ticks\": \"\"}}, \"type\": \"scattermapbox\"}], \"scatterpolar\": [{\"marker\": {\"colorbar\": {\"outlinewidth\": 0, \"ticks\": \"\"}}, \"type\": \"scatterpolar\"}], \"scatterpolargl\": [{\"marker\": {\"colorbar\": {\"outlinewidth\": 0, \"ticks\": \"\"}}, \"type\": \"scatterpolargl\"}], \"scatterternary\": [{\"marker\": {\"colorbar\": {\"outlinewidth\": 0, \"ticks\": \"\"}}, \"type\": \"scatterternary\"}], \"surface\": [{\"colorbar\": {\"outlinewidth\": 0, \"ticks\": \"\"}, \"colorscale\": [[0.0, \"#0d0887\"], [0.1111111111111111, \"#46039f\"], [0.2222222222222222, \"#7201a8\"], [0.3333333333333333, \"#9c179e\"], [0.4444444444444444, \"#bd3786\"], [0.5555555555555556, \"#d8576b\"], [0.6666666666666666, \"#ed7953\"], [0.7777777777777778, \"#fb9f3a\"], [0.8888888888888888, \"#fdca26\"], [1.0, \"#f0f921\"]], \"type\": \"surface\"}], \"table\": [{\"cells\": {\"fill\": {\"color\": \"#EBF0F8\"}, \"line\": {\"color\": \"white\"}}, \"header\": {\"fill\": {\"color\": \"#C8D4E3\"}, \"line\": {\"color\": \"white\"}}, \"type\": \"table\"}]}, \"layout\": {\"annotationdefaults\": {\"arrowcolor\": \"#2a3f5f\", \"arrowhead\": 0, \"arrowwidth\": 1}, \"coloraxis\": {\"colorbar\": {\"outlinewidth\": 0, \"ticks\": \"\"}}, \"colorscale\": {\"diverging\": [[0, \"#8e0152\"], [0.1, \"#c51b7d\"], [0.2, \"#de77ae\"], [0.3, \"#f1b6da\"], [0.4, \"#fde0ef\"], [0.5, \"#f7f7f7\"], [0.6, \"#e6f5d0\"], [0.7, \"#b8e186\"], [0.8, \"#7fbc41\"], [0.9, \"#4d9221\"], [1, \"#276419\"]], \"sequential\": [[0.0, \"#0d0887\"], [0.1111111111111111, \"#46039f\"], [0.2222222222222222, \"#7201a8\"], [0.3333333333333333, \"#9c179e\"], [0.4444444444444444, \"#bd3786\"], [0.5555555555555556, \"#d8576b\"], [0.6666666666666666, \"#ed7953\"], [0.7777777777777778, \"#fb9f3a\"], [0.8888888888888888, \"#fdca26\"], [1.0, \"#f0f921\"]], \"sequentialminus\": [[0.0, \"#0d0887\"], [0.1111111111111111, \"#46039f\"], [0.2222222222222222, \"#7201a8\"], [0.3333333333333333, \"#9c179e\"], [0.4444444444444444, \"#bd3786\"], [0.5555555555555556, \"#d8576b\"], [0.6666666666666666, \"#ed7953\"], [0.7777777777777778, \"#fb9f3a\"], [0.8888888888888888, \"#fdca26\"], [1.0, \"#f0f921\"]]}, \"colorway\": [\"#636efa\", \"#EF553B\", \"#00cc96\", \"#ab63fa\", \"#FFA15A\", \"#19d3f3\", \"#FF6692\", \"#B6E880\", \"#FF97FF\", \"#FECB52\"], \"font\": {\"color\": \"#2a3f5f\"}, \"geo\": {\"bgcolor\": \"white\", \"lakecolor\": \"white\", \"landcolor\": \"#E5ECF6\", \"showlakes\": true, \"showland\": true, \"subunitcolor\": \"white\"}, \"hoverlabel\": {\"align\": \"left\"}, \"hovermode\": \"closest\", \"mapbox\": {\"style\": \"light\"}, \"paper_bgcolor\": \"white\", \"plot_bgcolor\": \"#E5ECF6\", \"polar\": {\"angularaxis\": {\"gridcolor\": \"white\", \"linecolor\": \"white\", \"ticks\": \"\"}, \"bgcolor\": \"#E5ECF6\", \"radialaxis\": {\"gridcolor\": \"white\", \"linecolor\": \"white\", \"ticks\": \"\"}}, \"scene\": {\"xaxis\": {\"backgroundcolor\": \"#E5ECF6\", \"gridcolor\": \"white\", \"gridwidth\": 2, \"linecolor\": \"white\", \"showbackground\": true, \"ticks\": \"\", \"zerolinecolor\": \"white\"}, \"yaxis\": {\"backgroundcolor\": \"#E5ECF6\", \"gridcolor\": \"white\", \"gridwidth\": 2, \"linecolor\": \"white\", \"showbackground\": true, \"ticks\": \"\", \"zerolinecolor\": \"white\"}, \"zaxis\": {\"backgroundcolor\": \"#E5ECF6\", \"gridcolor\": \"white\", \"gridwidth\": 2, \"linecolor\": \"white\", \"showbackground\": true, \"ticks\": \"\", \"zerolinecolor\": \"white\"}}, \"shapedefaults\": {\"line\": {\"color\": \"#2a3f5f\"}}, \"ternary\": {\"aaxis\": {\"gridcolor\": \"white\", \"linecolor\": \"white\", \"ticks\": \"\"}, \"baxis\": {\"gridcolor\": \"white\", \"linecolor\": \"white\", \"ticks\": \"\"}, \"bgcolor\": \"#E5ECF6\", \"caxis\": {\"gridcolor\": \"white\", \"linecolor\": \"white\", \"ticks\": \"\"}}, \"title\": {\"x\": 0.05}, \"xaxis\": {\"automargin\": true, \"gridcolor\": \"white\", \"linecolor\": \"white\", \"ticks\": \"\", \"title\": {\"standoff\": 15}, \"zerolinecolor\": \"white\", \"zerolinewidth\": 2}, \"yaxis\": {\"automargin\": true, \"gridcolor\": \"white\", \"linecolor\": \"white\", \"ticks\": \"\", \"title\": {\"standoff\": 15}, \"zerolinecolor\": \"white\", \"zerolinewidth\": 2}}}},\n",
       "                        {\"responsive\": true}\n",
       "                    ).then(function(){\n",
       "                            \n",
       "var gd = document.getElementById('e4ebe24d-c953-4144-8fb1-060806b21b7b');\n",
       "var x = new MutationObserver(function (mutations, observer) {{\n",
       "        var display = window.getComputedStyle(gd).display;\n",
       "        if (!display || display === 'none') {{\n",
       "            console.log([gd, 'removed!']);\n",
       "            Plotly.purge(gd);\n",
       "            observer.disconnect();\n",
       "        }}\n",
       "}});\n",
       "\n",
       "// Listen for the removal of the full notebook cells\n",
       "var notebookContainer = gd.closest('#notebook-container');\n",
       "if (notebookContainer) {{\n",
       "    x.observe(notebookContainer, {childList: true});\n",
       "}}\n",
       "\n",
       "// Listen for the clearing of the current output cell\n",
       "var outputEl = gd.closest('.output');\n",
       "if (outputEl) {{\n",
       "    x.observe(outputEl, {childList: true});\n",
       "}}\n",
       "\n",
       "                        })\n",
       "                };\n",
       "                });\n",
       "            </script>\n",
       "        </div>"
      ]
     },
     "metadata": {},
     "output_type": "display_data"
    }
   ],
   "source": [
    "fig = px.choropleth_mapbox(tot6_21, geojson='STATE', locations='State Name', color='Ages 6-21',\n",
    "                           color_continuous_scale=\"Viridis\",\n",
    "                           mapbox_style=\"carto-positron\",\n",
    "                            zoom=3, center = {\"lat\": 37.0902, \"lon\": -95.7129},\n",
    "                           opacity=0.5,\n",
    "                          )\n",
    "fig.update_layout(margin={\"r\":0,\"t\":0,\"l\":0,\"b\":0})\n",
    "fig.show()"
   ]
  },
  {
   "cell_type": "code",
   "execution_count": 26,
   "metadata": {},
   "outputs": [
    {
     "ename": "KeyError",
     "evalue": "'STATE NAME'",
     "output_type": "error",
     "traceback": [
      "\u001b[0;31m---------------------------------------------------------------------------\u001b[0m",
      "\u001b[0;31mKeyError\u001b[0m                                  Traceback (most recent call last)",
      "\u001b[0;32m/anaconda3/lib/python3.7/site-packages/pandas/core/indexes/base.py\u001b[0m in \u001b[0;36mget_loc\u001b[0;34m(self, key, method, tolerance)\u001b[0m\n\u001b[1;32m   2645\u001b[0m             \u001b[0;32mtry\u001b[0m\u001b[0;34m:\u001b[0m\u001b[0;34m\u001b[0m\u001b[0;34m\u001b[0m\u001b[0m\n\u001b[0;32m-> 2646\u001b[0;31m                 \u001b[0;32mreturn\u001b[0m \u001b[0mself\u001b[0m\u001b[0;34m.\u001b[0m\u001b[0m_engine\u001b[0m\u001b[0;34m.\u001b[0m\u001b[0mget_loc\u001b[0m\u001b[0;34m(\u001b[0m\u001b[0mkey\u001b[0m\u001b[0;34m)\u001b[0m\u001b[0;34m\u001b[0m\u001b[0;34m\u001b[0m\u001b[0m\n\u001b[0m\u001b[1;32m   2647\u001b[0m             \u001b[0;32mexcept\u001b[0m \u001b[0mKeyError\u001b[0m\u001b[0;34m:\u001b[0m\u001b[0;34m\u001b[0m\u001b[0;34m\u001b[0m\u001b[0m\n",
      "\u001b[0;32mpandas/_libs/index.pyx\u001b[0m in \u001b[0;36mpandas._libs.index.IndexEngine.get_loc\u001b[0;34m()\u001b[0m\n",
      "\u001b[0;32mpandas/_libs/index.pyx\u001b[0m in \u001b[0;36mpandas._libs.index.IndexEngine.get_loc\u001b[0;34m()\u001b[0m\n",
      "\u001b[0;32mpandas/_libs/hashtable_class_helper.pxi\u001b[0m in \u001b[0;36mpandas._libs.hashtable.PyObjectHashTable.get_item\u001b[0;34m()\u001b[0m\n",
      "\u001b[0;32mpandas/_libs/hashtable_class_helper.pxi\u001b[0m in \u001b[0;36mpandas._libs.hashtable.PyObjectHashTable.get_item\u001b[0;34m()\u001b[0m\n",
      "\u001b[0;31mKeyError\u001b[0m: 'STATE NAME'",
      "\nDuring handling of the above exception, another exception occurred:\n",
      "\u001b[0;31mKeyError\u001b[0m                                  Traceback (most recent call last)",
      "\u001b[0;32m<ipython-input-26-456fcdc8e63b>\u001b[0m in \u001b[0;36m<module>\u001b[0;34m\u001b[0m\n\u001b[1;32m      1\u001b[0m \u001b[0;32mimport\u001b[0m \u001b[0mplotly\u001b[0m\u001b[0;34m.\u001b[0m\u001b[0mgraph_objects\u001b[0m \u001b[0;32mas\u001b[0m \u001b[0mgo\u001b[0m\u001b[0;34m\u001b[0m\u001b[0;34m\u001b[0m\u001b[0m\n\u001b[1;32m      2\u001b[0m fig = go.Figure(data=go.Choropleth(\n\u001b[0;32m----> 3\u001b[0;31m     \u001b[0mlocations\u001b[0m\u001b[0;34m=\u001b[0m\u001b[0mtot6_21\u001b[0m\u001b[0;34m[\u001b[0m\u001b[0;34m'STATE NAME'\u001b[0m\u001b[0;34m]\u001b[0m\u001b[0;34m,\u001b[0m \u001b[0;31m# Spatial coordinates\u001b[0m\u001b[0;34m\u001b[0m\u001b[0;34m\u001b[0m\u001b[0m\n\u001b[0m\u001b[1;32m      4\u001b[0m     \u001b[0mz\u001b[0m \u001b[0;34m=\u001b[0m \u001b[0mtot6_21\u001b[0m\u001b[0;34m[\u001b[0m\u001b[0;34m'Ages 6-21'\u001b[0m\u001b[0;34m]\u001b[0m\u001b[0;34m.\u001b[0m\u001b[0mastype\u001b[0m\u001b[0;34m(\u001b[0m\u001b[0mfloat\u001b[0m\u001b[0;34m)\u001b[0m\u001b[0;34m,\u001b[0m \u001b[0;31m# Data to be color-coded\u001b[0m\u001b[0;34m\u001b[0m\u001b[0;34m\u001b[0m\u001b[0m\n\u001b[1;32m      5\u001b[0m     \u001b[0mlocationmode\u001b[0m \u001b[0;34m=\u001b[0m \u001b[0;34m'USA-states'\u001b[0m\u001b[0;34m,\u001b[0m \u001b[0;31m# set of locations match entries in `locations`\u001b[0m\u001b[0;34m\u001b[0m\u001b[0;34m\u001b[0m\u001b[0m\n",
      "\u001b[0;32m/anaconda3/lib/python3.7/site-packages/pandas/core/frame.py\u001b[0m in \u001b[0;36m__getitem__\u001b[0;34m(self, key)\u001b[0m\n\u001b[1;32m   2798\u001b[0m             \u001b[0;32mif\u001b[0m \u001b[0mself\u001b[0m\u001b[0;34m.\u001b[0m\u001b[0mcolumns\u001b[0m\u001b[0;34m.\u001b[0m\u001b[0mnlevels\u001b[0m \u001b[0;34m>\u001b[0m \u001b[0;36m1\u001b[0m\u001b[0;34m:\u001b[0m\u001b[0;34m\u001b[0m\u001b[0;34m\u001b[0m\u001b[0m\n\u001b[1;32m   2799\u001b[0m                 \u001b[0;32mreturn\u001b[0m \u001b[0mself\u001b[0m\u001b[0;34m.\u001b[0m\u001b[0m_getitem_multilevel\u001b[0m\u001b[0;34m(\u001b[0m\u001b[0mkey\u001b[0m\u001b[0;34m)\u001b[0m\u001b[0;34m\u001b[0m\u001b[0;34m\u001b[0m\u001b[0m\n\u001b[0;32m-> 2800\u001b[0;31m             \u001b[0mindexer\u001b[0m \u001b[0;34m=\u001b[0m \u001b[0mself\u001b[0m\u001b[0;34m.\u001b[0m\u001b[0mcolumns\u001b[0m\u001b[0;34m.\u001b[0m\u001b[0mget_loc\u001b[0m\u001b[0;34m(\u001b[0m\u001b[0mkey\u001b[0m\u001b[0;34m)\u001b[0m\u001b[0;34m\u001b[0m\u001b[0;34m\u001b[0m\u001b[0m\n\u001b[0m\u001b[1;32m   2801\u001b[0m             \u001b[0;32mif\u001b[0m \u001b[0mis_integer\u001b[0m\u001b[0;34m(\u001b[0m\u001b[0mindexer\u001b[0m\u001b[0;34m)\u001b[0m\u001b[0;34m:\u001b[0m\u001b[0;34m\u001b[0m\u001b[0;34m\u001b[0m\u001b[0m\n\u001b[1;32m   2802\u001b[0m                 \u001b[0mindexer\u001b[0m \u001b[0;34m=\u001b[0m \u001b[0;34m[\u001b[0m\u001b[0mindexer\u001b[0m\u001b[0;34m]\u001b[0m\u001b[0;34m\u001b[0m\u001b[0;34m\u001b[0m\u001b[0m\n",
      "\u001b[0;32m/anaconda3/lib/python3.7/site-packages/pandas/core/indexes/base.py\u001b[0m in \u001b[0;36mget_loc\u001b[0;34m(self, key, method, tolerance)\u001b[0m\n\u001b[1;32m   2646\u001b[0m                 \u001b[0;32mreturn\u001b[0m \u001b[0mself\u001b[0m\u001b[0;34m.\u001b[0m\u001b[0m_engine\u001b[0m\u001b[0;34m.\u001b[0m\u001b[0mget_loc\u001b[0m\u001b[0;34m(\u001b[0m\u001b[0mkey\u001b[0m\u001b[0;34m)\u001b[0m\u001b[0;34m\u001b[0m\u001b[0;34m\u001b[0m\u001b[0m\n\u001b[1;32m   2647\u001b[0m             \u001b[0;32mexcept\u001b[0m \u001b[0mKeyError\u001b[0m\u001b[0;34m:\u001b[0m\u001b[0;34m\u001b[0m\u001b[0;34m\u001b[0m\u001b[0m\n\u001b[0;32m-> 2648\u001b[0;31m                 \u001b[0;32mreturn\u001b[0m \u001b[0mself\u001b[0m\u001b[0;34m.\u001b[0m\u001b[0m_engine\u001b[0m\u001b[0;34m.\u001b[0m\u001b[0mget_loc\u001b[0m\u001b[0;34m(\u001b[0m\u001b[0mself\u001b[0m\u001b[0;34m.\u001b[0m\u001b[0m_maybe_cast_indexer\u001b[0m\u001b[0;34m(\u001b[0m\u001b[0mkey\u001b[0m\u001b[0;34m)\u001b[0m\u001b[0;34m)\u001b[0m\u001b[0;34m\u001b[0m\u001b[0;34m\u001b[0m\u001b[0m\n\u001b[0m\u001b[1;32m   2649\u001b[0m         \u001b[0mindexer\u001b[0m \u001b[0;34m=\u001b[0m \u001b[0mself\u001b[0m\u001b[0;34m.\u001b[0m\u001b[0mget_indexer\u001b[0m\u001b[0;34m(\u001b[0m\u001b[0;34m[\u001b[0m\u001b[0mkey\u001b[0m\u001b[0;34m]\u001b[0m\u001b[0;34m,\u001b[0m \u001b[0mmethod\u001b[0m\u001b[0;34m=\u001b[0m\u001b[0mmethod\u001b[0m\u001b[0;34m,\u001b[0m \u001b[0mtolerance\u001b[0m\u001b[0;34m=\u001b[0m\u001b[0mtolerance\u001b[0m\u001b[0;34m)\u001b[0m\u001b[0;34m\u001b[0m\u001b[0;34m\u001b[0m\u001b[0m\n\u001b[1;32m   2650\u001b[0m         \u001b[0;32mif\u001b[0m \u001b[0mindexer\u001b[0m\u001b[0;34m.\u001b[0m\u001b[0mndim\u001b[0m \u001b[0;34m>\u001b[0m \u001b[0;36m1\u001b[0m \u001b[0;32mor\u001b[0m \u001b[0mindexer\u001b[0m\u001b[0;34m.\u001b[0m\u001b[0msize\u001b[0m \u001b[0;34m>\u001b[0m \u001b[0;36m1\u001b[0m\u001b[0;34m:\u001b[0m\u001b[0;34m\u001b[0m\u001b[0;34m\u001b[0m\u001b[0m\n",
      "\u001b[0;32mpandas/_libs/index.pyx\u001b[0m in \u001b[0;36mpandas._libs.index.IndexEngine.get_loc\u001b[0;34m()\u001b[0m\n",
      "\u001b[0;32mpandas/_libs/index.pyx\u001b[0m in \u001b[0;36mpandas._libs.index.IndexEngine.get_loc\u001b[0;34m()\u001b[0m\n",
      "\u001b[0;32mpandas/_libs/hashtable_class_helper.pxi\u001b[0m in \u001b[0;36mpandas._libs.hashtable.PyObjectHashTable.get_item\u001b[0;34m()\u001b[0m\n",
      "\u001b[0;32mpandas/_libs/hashtable_class_helper.pxi\u001b[0m in \u001b[0;36mpandas._libs.hashtable.PyObjectHashTable.get_item\u001b[0;34m()\u001b[0m\n",
      "\u001b[0;31mKeyError\u001b[0m: 'STATE NAME'"
     ]
    }
   ],
   "source": [
    "import plotly.graph_objects as go\n",
    "fig = go.Figure(data=go.Choropleth(\n",
    "    locations=tot6_21['STATE NAME'], # Spatial coordinates\n",
    "    z = tot6_21['Ages 6-21'].astype(float), # Data to be color-coded\n",
    "    locationmode = 'USA-states', # set of locations match entries in `locations`\n",
    "    colorscale = 'Reds',\n",
    "    colorbar_title = \"Ages 6-21\",\n",
    "))\n",
    "\n",
    "fig.update_layout(\n",
    "    title_text = '2016 Presidential Election',\n",
    "    geo_scope='usa', # limite map scope to USA\n",
    ")\n",
    "\n",
    "fig.show()"
   ]
  },
  {
   "cell_type": "code",
   "execution_count": null,
   "metadata": {},
   "outputs": [],
   "source": []
  }
 ],
 "metadata": {
  "kernelspec": {
   "display_name": "Python 3",
   "language": "python",
   "name": "python3"
  },
  "language_info": {
   "codemirror_mode": {
    "name": "ipython",
    "version": 3
   },
   "file_extension": ".py",
   "mimetype": "text/x-python",
   "name": "python",
   "nbconvert_exporter": "python",
   "pygments_lexer": "ipython3",
   "version": "3.7.3"
  }
 },
 "nbformat": 4,
 "nbformat_minor": 4
}
